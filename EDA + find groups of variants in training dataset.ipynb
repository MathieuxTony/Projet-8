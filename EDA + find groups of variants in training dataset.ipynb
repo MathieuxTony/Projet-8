{
 "cells": [
  {
   "cell_type": "markdown",
   "id": "bb3419ba",
   "metadata": {},
   "source": [
    "# EDA + find groups of variants in training dataset"
   ]
  },
  {
   "cell_type": "markdown",
   "id": "d4b3143a",
   "metadata": {},
   "source": [
    "# Introduction"
   ]
  },
  {
   "cell_type": "markdown",
   "id": "ce3770ea",
   "metadata": {},
   "source": [
    "The main goal of this notebook is to check if there is variants of a same protein in the training dataset and to regroup them. \n",
    "An other goal is to create new features. I'll use a corrected version of the train.csv file."
   ]
  },
  {
   "cell_type": "markdown",
   "id": "0bc1bf4e",
   "metadata": {},
   "source": [
    "# Import packages"
   ]
  },
  {
   "cell_type": "code",
   "execution_count": null,
   "id": "003468f6",
   "metadata": {},
   "outputs": [],
   "source": [
    "# data processing\n",
    "import pandas as pd\n",
    "import numpy as np\n",
    "\n",
    "# visualization\n",
    "import matplotlib.pyplot as plt\n",
    "import seaborn as sns\n",
    "\n",
    "# compute distances\n",
    "from scipy.spatial.distance import hamming\n",
    "from sklearn.metrics import pairwise_distances\n",
    "from Levenshtein import distance as lev\n",
    "\n",
    "# time\n",
    "import timeit"
   ]
  },
  {
   "cell_type": "code",
   "execution_count": null,
   "id": "9019d0e4",
   "metadata": {},
   "outputs": [],
   "source": [
    "pd.set_option(\"display.max_columns\", 30)"
   ]
  },
  {
   "cell_type": "markdown",
   "id": "9324a565",
   "metadata": {},
   "source": [
    "# Load data"
   ]
  },
  {
   "cell_type": "code",
   "execution_count": null,
   "id": "881f91ad",
   "metadata": {},
   "outputs": [],
   "source": [
    "train = pd.read_csv(\"Data/train_correct.csv\") \n",
    "test = pd.read_csv(\"Data/test.csv\")"
   ]
  },
  {
   "cell_type": "code",
   "execution_count": null,
   "id": "beeaff00",
   "metadata": {},
   "outputs": [],
   "source": [
    "print(\"train shape : \", train.shape)\n",
    "print(\"test shape : \", test.shape)"
   ]
  },
  {
   "cell_type": "code",
   "execution_count": null,
   "id": "df462f7a",
   "metadata": {},
   "outputs": [],
   "source": [
    "train.head()"
   ]
  },
  {
   "cell_type": "code",
   "execution_count": null,
   "id": "6132bd73",
   "metadata": {},
   "outputs": [],
   "source": [
    "test.head()"
   ]
  },
  {
   "cell_type": "markdown",
   "id": "dc170f8a",
   "metadata": {},
   "source": [
    "Proteins of the test file are variants of a same enzyme so proteins sequences are very similar. It is not the case of the training dataset."
   ]
  },
  {
   "cell_type": "markdown",
   "id": "0255bf8b",
   "metadata": {},
   "source": [
    "# Cleaning"
   ]
  },
  {
   "cell_type": "markdown",
   "id": "e4e877d8",
   "metadata": {},
   "source": [
    "We don't need 'data_source', and there is duplicates and Nan."
   ]
  },
  {
   "cell_type": "code",
   "execution_count": null,
   "id": "012349c5",
   "metadata": {},
   "outputs": [],
   "source": [
    "train.drop('data_source', axis=1, inplace=True)\n",
    "test.drop('data_source', axis=1, inplace=True)"
   ]
  },
  {
   "cell_type": "code",
   "execution_count": null,
   "id": "72a0892e",
   "metadata": {},
   "outputs": [],
   "source": [
    "train.drop_duplicates(subset='protein_sequence', inplace=True)\n",
    "train.dropna(inplace=True)\n",
    "train.shape"
   ]
  },
  {
   "cell_type": "markdown",
   "id": "da04e5b0",
   "metadata": {},
   "source": [
    "# pH and tm"
   ]
  },
  {
   "cell_type": "code",
   "execution_count": null,
   "id": "77d3d3f5",
   "metadata": {},
   "outputs": [],
   "source": [
    "train[['pH', 'tm']].describe()"
   ]
  },
  {
   "cell_type": "code",
   "execution_count": null,
   "id": "24a69dde",
   "metadata": {},
   "outputs": [],
   "source": [
    "sns.histplot(data=train, x='pH')"
   ]
  },
  {
   "cell_type": "code",
   "execution_count": null,
   "id": "cd0d85a1",
   "metadata": {},
   "outputs": [],
   "source": [
    "sns.histplot(data=train, x='tm')"
   ]
  },
  {
   "cell_type": "code",
   "execution_count": null,
   "id": "88055012",
   "metadata": {},
   "outputs": [],
   "source": [
    "test['pH'].value_counts()"
   ]
  },
  {
   "cell_type": "markdown",
   "id": "0e488325",
   "metadata": {},
   "source": [
    "# Protein sequence"
   ]
  },
  {
   "cell_type": "markdown",
   "id": "4f7783e4",
   "metadata": {},
   "source": [
    "There is two different ways to get more features.\n",
    "\n",
    "First we can download pdb files for proteins in train and extract informations from those files. But my knowledge in biology is very limited and i don't know what informations are relevant.\n",
    "\n",
    "So I'll use another approach: considering protein sequence simply as a sequence of letters, without biological context."
   ]
  },
  {
   "cell_type": "markdown",
   "id": "25b356a3",
   "metadata": {},
   "source": [
    "## Length of sequences"
   ]
  },
  {
   "cell_type": "code",
   "execution_count": null,
   "id": "c3ba3402",
   "metadata": {},
   "outputs": [],
   "source": [
    "train['protein_sequence'].iloc[0]"
   ]
  },
  {
   "cell_type": "code",
   "execution_count": null,
   "id": "5627d625",
   "metadata": {},
   "outputs": [],
   "source": [
    "train['protein_length'] = train['protein_sequence'].apply(lambda x: len(x))"
   ]
  },
  {
   "cell_type": "code",
   "execution_count": null,
   "id": "885d890b",
   "metadata": {},
   "outputs": [],
   "source": [
    "sns.histplot(data=train, x='protein_length')"
   ]
  },
  {
   "cell_type": "markdown",
   "id": "93b731da",
   "metadata": {},
   "source": [
    "Proteins in test must have approximately the same length."
   ]
  },
  {
   "cell_type": "code",
   "execution_count": null,
   "id": "6ff6aeb5",
   "metadata": {},
   "outputs": [],
   "source": [
    "test['protein_sequence'].apply(lambda x: len(x)).value_counts()"
   ]
  },
  {
   "cell_type": "markdown",
   "id": "90646bce",
   "metadata": {},
   "source": [
    "I'll consider only protein of length less than 1000 in train because proteins of very different length can't be variants of a same protein."
   ]
  },
  {
   "cell_type": "code",
   "execution_count": null,
   "id": "85dafceb",
   "metadata": {},
   "outputs": [],
   "source": [
    "train = train[train['protein_length']<1000]\n",
    "train.shape"
   ]
  },
  {
   "cell_type": "code",
   "execution_count": null,
   "id": "5981208e",
   "metadata": {},
   "outputs": [],
   "source": [
    "sns.histplot(data=train, x='protein_length')"
   ]
  },
  {
   "cell_type": "markdown",
   "id": "133e98fc",
   "metadata": {},
   "source": [
    "## Amino acid"
   ]
  },
  {
   "cell_type": "code",
   "execution_count": null,
   "id": "e616ef36",
   "metadata": {},
   "outputs": [],
   "source": [
    "amino_count = train['protein_sequence'].str.split('').explode('protein_sequence').value_counts().drop('')\n",
    "amino_count"
   ]
  },
  {
   "cell_type": "code",
   "execution_count": null,
   "id": "ca6172c7",
   "metadata": {},
   "outputs": [],
   "source": [
    "len(amino_count.index)"
   ]
  },
  {
   "cell_type": "code",
   "execution_count": null,
   "id": "f5f661cf",
   "metadata": {},
   "outputs": [],
   "source": [
    "sns.barplot(x=amino_count.index, y=amino_count)"
   ]
  },
  {
   "cell_type": "code",
   "execution_count": null,
   "id": "ad8c3ffb",
   "metadata": {},
   "outputs": [],
   "source": [
    "# for later\n",
    "amino_list = list(amino_count.index)\n",
    "amino_list.sort()"
   ]
  },
  {
   "cell_type": "markdown",
   "id": "b46ac535",
   "metadata": {},
   "source": [
    "## Variants"
   ]
  },
  {
   "cell_type": "markdown",
   "id": "cca97a07",
   "metadata": {},
   "source": [
    "The correct distance to find variants is Levenshtein's distance but it's not implemented with 'paiwise_distances' of scikit-learn. Hamming's distance is not correct and we will see why.\n",
    "\n",
    "First we will test those distances on test set because we know that all proteins are variants of the same enzyme."
   ]
  },
  {
   "cell_type": "markdown",
   "id": "19731b2b",
   "metadata": {},
   "source": [
    "### test"
   ]
  },
  {
   "cell_type": "code",
   "execution_count": null,
   "id": "d522a250",
   "metadata": {},
   "outputs": [],
   "source": [
    "test"
   ]
  },
  {
   "cell_type": "markdown",
   "id": "970526e3",
   "metadata": {},
   "source": [
    "### Hamming's distance"
   ]
  },
  {
   "cell_type": "markdown",
   "id": "c36b43be",
   "metadata": {},
   "source": [
    "It doesn't work with strings."
   ]
  },
  {
   "cell_type": "code",
   "execution_count": null,
   "id": "98cc621b",
   "metadata": {},
   "outputs": [],
   "source": [
    "df = pd.DataFrame(test['protein_sequence'].apply(list).tolist())\n",
    "df"
   ]
  },
  {
   "cell_type": "code",
   "execution_count": null,
   "id": "3fa0e3b0",
   "metadata": {},
   "outputs": [],
   "source": [
    "amino_dict = {k: i+1 for i, k in enumerate(amino_list)}\n",
    "amino_dict[None] = 0"
   ]
  },
  {
   "cell_type": "code",
   "execution_count": null,
   "id": "3a6d1cab",
   "metadata": {},
   "outputs": [],
   "source": [
    "df = df.replace(amino_dict)\n",
    "df"
   ]
  },
  {
   "cell_type": "code",
   "execution_count": null,
   "id": "00971b1d",
   "metadata": {},
   "outputs": [],
   "source": [
    "X = df.values"
   ]
  },
  {
   "cell_type": "code",
   "execution_count": null,
   "id": "a265899d",
   "metadata": {},
   "outputs": [],
   "source": [
    "start_time = timeit.default_timer()\n",
    "\n",
    "hamming_test_matrix = pairwise_distances(X, metric=hamming)\n",
    "    \n",
    "temps = timeit.default_timer() - start_time\n",
    "print(temps)"
   ]
  },
  {
   "cell_type": "code",
   "execution_count": null,
   "id": "4a84786b",
   "metadata": {},
   "outputs": [],
   "source": [
    "hamming_test_matrix"
   ]
  },
  {
   "cell_type": "markdown",
   "id": "901d76e7",
   "metadata": {},
   "source": [
    "There is hight distances due to a shift in sequences. We can see it at the end of the third row (index 2)."
   ]
  },
  {
   "cell_type": "code",
   "execution_count": null,
   "id": "723f0bff",
   "metadata": {},
   "outputs": [],
   "source": [
    "df.head()"
   ]
  },
  {
   "cell_type": "markdown",
   "id": "272576e8",
   "metadata": {},
   "source": [
    "### Levenshtein's distance"
   ]
  },
  {
   "cell_type": "code",
   "execution_count": null,
   "id": "0571ec73",
   "metadata": {},
   "outputs": [],
   "source": [
    "n = test.shape[0]\n",
    "levenshtein_test_matrix = np.full((n, n), 0)"
   ]
  },
  {
   "cell_type": "code",
   "execution_count": null,
   "id": "f42706bb",
   "metadata": {},
   "outputs": [],
   "source": [
    "start_time = timeit.default_timer()\n",
    "for i in range(n):\n",
    "    for j in range(i+1, n):\n",
    "        levenshtein_test_matrix[i][j] = lev(test['protein_sequence'].iloc[i], test['protein_sequence'].iloc[j])\n",
    "temps = timeit.default_timer() - start_time\n",
    "print(temps)"
   ]
  },
  {
   "cell_type": "code",
   "execution_count": null,
   "id": "56c39738",
   "metadata": {},
   "outputs": [],
   "source": [
    "# estimation of time to compute for train, in minutes\n",
    "temps*100/60"
   ]
  },
  {
   "cell_type": "code",
   "execution_count": null,
   "id": "682bc123",
   "metadata": {},
   "outputs": [],
   "source": [
    "levenshtein_test_matrix = levenshtein_test_matrix + levenshtein_test_matrix.T\n",
    "levenshtein_test_matrix"
   ]
  },
  {
   "cell_type": "code",
   "execution_count": null,
   "id": "6776069a",
   "metadata": {},
   "outputs": [],
   "source": [
    "levenshtein_test_matrix.max()"
   ]
  },
  {
   "cell_type": "markdown",
   "id": "e1586e5b",
   "metadata": {},
   "source": [
    "So we can consider further (in train) that two proteins are variants if the Levenshtein's distance between them is less or equal to 2, maybe 3."
   ]
  },
  {
   "cell_type": "markdown",
   "id": "9426b6a4",
   "metadata": {},
   "source": [
    "### train"
   ]
  },
  {
   "cell_type": "markdown",
   "id": "f4603303",
   "metadata": {},
   "source": [
    "We can reasonably think that the first 20 characters are sufficient to check if proteins are variants because there is much more combinations (with repetitions) of 20 characters in a set of 20 characters than there is proteins in train:"
   ]
  },
  {
   "cell_type": "code",
   "execution_count": null,
   "id": "b3a4390e",
   "metadata": {},
   "outputs": [],
   "source": [
    "20**20"
   ]
  },
  {
   "cell_type": "code",
   "execution_count": null,
   "id": "7405c05c",
   "metadata": {},
   "outputs": [],
   "source": [
    "def tronc_str(x, n):\n",
    "    if len(x) < n:\n",
    "        return x\n",
    "    else:\n",
    "        return x[:n]"
   ]
  },
  {
   "cell_type": "code",
   "execution_count": null,
   "id": "e0b7813c",
   "metadata": {},
   "outputs": [],
   "source": [
    "train['first_20'] = train['protein_sequence'].apply(lambda x: tronc_str(x, 20))"
   ]
  },
  {
   "cell_type": "code",
   "execution_count": null,
   "id": "791971c8",
   "metadata": {},
   "outputs": [],
   "source": [
    "train.head()"
   ]
  },
  {
   "cell_type": "markdown",
   "id": "02474674",
   "metadata": {},
   "source": [
    "We only want to regroup variants, not to get all distances. In the cell below we create a dictionary wich regroup sequence's id of variants (of a same protein) at the same key (in a list)."
   ]
  },
  {
   "cell_type": "code",
   "execution_count": null,
   "id": "e58e822e",
   "metadata": {},
   "outputs": [],
   "source": [
    "copy_train = train.copy()\n",
    "dic = {}\n",
    "n_group = 1\n",
    "\n",
    "start_time = timeit.default_timer()\n",
    "\n",
    "while copy_train.shape[0] > 0 :\n",
    "    l = []\n",
    "    a = copy_train['first_20'].iloc[0]\n",
    "    for i in copy_train.index:\n",
    "        if lev(a, copy_train['first_20'].loc[i])<= 3:\n",
    "            l.append(i)\n",
    "    dic[n_group] = l\n",
    "    n_group += 1\n",
    "    copy_train.drop(l, axis=0, inplace=True)\n",
    "    \n",
    "temps = timeit.default_timer() - start_time\n",
    "print(temps / 60)\n"
   ]
  },
  {
   "cell_type": "code",
   "execution_count": null,
   "id": "9edaf56f",
   "metadata": {},
   "outputs": [],
   "source": [
    "liste = [dic[i] for i in dic.keys()]\n",
    "d = {'col1': liste}\n",
    "groups = pd.DataFrame(data=d, index=dic.keys())\n",
    "groups"
   ]
  },
  {
   "cell_type": "markdown",
   "id": "c3dd5998",
   "metadata": {},
   "source": [
    "And we add a new feature in train."
   ]
  },
  {
   "cell_type": "code",
   "execution_count": null,
   "id": "5ea3284e",
   "metadata": {},
   "outputs": [],
   "source": [
    "train['group'] = np.nan"
   ]
  },
  {
   "cell_type": "code",
   "execution_count": null,
   "id": "29604fb8",
   "metadata": {},
   "outputs": [],
   "source": [
    "for i in range(groups.shape[0]):\n",
    "    for j in groups['col1'].values[i]:\n",
    "        train['group'].loc[j] = i"
   ]
  },
  {
   "cell_type": "code",
   "execution_count": null,
   "id": "b2784629",
   "metadata": {},
   "outputs": [],
   "source": [
    "train"
   ]
  },
  {
   "cell_type": "markdown",
   "id": "add32c9f",
   "metadata": {},
   "source": [
    "Let us check if there is in train a variant of the enzyme in test."
   ]
  },
  {
   "cell_type": "code",
   "execution_count": null,
   "id": "ea302cb1",
   "metadata": {},
   "outputs": [],
   "source": [
    "l = []\n",
    "for i in range(train.shape[0]):\n",
    "    l.append(lev(test['protein_sequence'].iloc[0], train['protein_sequence'].iloc[i]))\n",
    "min(l)"
   ]
  },
  {
   "cell_type": "markdown",
   "id": "9e0da2d1",
   "metadata": {},
   "source": [
    "No, there is not."
   ]
  },
  {
   "cell_type": "code",
   "execution_count": null,
   "id": "f1043912",
   "metadata": {},
   "outputs": [],
   "source": [
    "test['group'] = train['group'].max() + 1"
   ]
  },
  {
   "cell_type": "markdown",
   "id": "46a1bf03",
   "metadata": {},
   "source": [
    "## Groups of variants in train."
   ]
  },
  {
   "cell_type": "code",
   "execution_count": null,
   "id": "d05fd2ff",
   "metadata": {},
   "outputs": [],
   "source": [
    "group_train = train.groupby(['group'])\n",
    "group_train = group_train.agg({\n",
    "    'seq_id': 'count',\n",
    "    'pH': 'mean',\n",
    "    'tm': 'mean'\n",
    "})"
   ]
  },
  {
   "cell_type": "code",
   "execution_count": null,
   "id": "84143a2f",
   "metadata": {},
   "outputs": [],
   "source": [
    "group_train['seq_id'].value_counts()"
   ]
  },
  {
   "cell_type": "markdown",
   "id": "f17599eb",
   "metadata": {},
   "source": [
    "There is only 4 groups with more than 100 variants. We will study them."
   ]
  },
  {
   "cell_type": "code",
   "execution_count": null,
   "id": "a14febf2",
   "metadata": {},
   "outputs": [],
   "source": [
    "group_train = group_train[group_train['seq_id'] > 100]\n",
    "group_train"
   ]
  },
  {
   "cell_type": "code",
   "execution_count": null,
   "id": "c63bc26b",
   "metadata": {},
   "outputs": [],
   "source": [
    "# for example\n",
    "train[train['group'] == 12462]"
   ]
  },
  {
   "cell_type": "markdown",
   "id": "9fa684a9",
   "metadata": {},
   "source": [
    "### pH and tm per group"
   ]
  },
  {
   "cell_type": "code",
   "execution_count": null,
   "id": "25aee75e",
   "metadata": {},
   "outputs": [],
   "source": [
    "list_100 = list(group_train.index)"
   ]
  },
  {
   "cell_type": "code",
   "execution_count": null,
   "id": "9cf8f750",
   "metadata": {},
   "outputs": [],
   "source": [
    "fig, axs = plt.subplots(nrows=2, ncols=2, figsize=(14, 8))\n",
    "\n",
    "for i in range(2):\n",
    "    sns.histplot(data=train[train['group'] == list_100[i]], x='pH', ax=axs[i, 0]).set(xlabel='pH: group ' + str(list_100[i]))\n",
    "\n",
    "for i in range(2): \n",
    "    sns.histplot(data=train[train['group'] == list_100[i+2]], x='pH', ax=axs[i, 1]).set(xlabel='pH :group ' + str(list_100[i+2]))"
   ]
  },
  {
   "cell_type": "code",
   "execution_count": null,
   "id": "22760d1a",
   "metadata": {},
   "outputs": [],
   "source": [
    "fig, axs = plt.subplots(nrows=2, ncols=2, figsize=(14, 8))\n",
    "\n",
    "for i in range(2):\n",
    "    sns.histplot(data=train[train['group'] == list_100[i]], x='tm', ax=axs[i, 0]).set(xlabel='tm: group ' + str(list_100[i]))\n",
    "\n",
    "for i in range(2):\n",
    "    sns.histplot(data=train[train['group'] == list_100[i+2]], x='tm', ax=axs[i, 1]).set(xlabel='tm :group ' + str(list_100[i+2]))"
   ]
  },
  {
   "cell_type": "code",
   "execution_count": null,
   "id": "b88df2be",
   "metadata": {},
   "outputs": [],
   "source": [
    "meanprops = {'marker':'o', 'markeredgecolor':'black', 'markerfacecolor':'firebrick'}\n",
    "\n",
    "fig, axs = plt.subplots(nrows=1, ncols=2, figsize=(14, 7))\n",
    "\n",
    "sns.boxplot(x=\"pH\", y=\"group\", showfliers=False, showmeans=True, meanprops=meanprops,\n",
    "            orient='h', data=train[train['group'].isin(list_100)], ax=axs[0])\n",
    "sns.boxplot(x=\"tm\", y=\"group\", showfliers=False, showmeans=True, meanprops=meanprops,\n",
    "            orient='h', data=train[train['group'].isin(list_100)], ax=axs[1])"
   ]
  },
  {
   "cell_type": "markdown",
   "id": "a4a80b2c",
   "metadata": {},
   "source": [
    "So pH and tm can be very different for similar proteins."
   ]
  },
  {
   "cell_type": "markdown",
   "id": "686d3e82",
   "metadata": {},
   "source": [
    "## More features"
   ]
  },
  {
   "cell_type": "markdown",
   "id": "2eac39d9",
   "metadata": {},
   "source": [
    "### First option: Amino acid without order"
   ]
  },
  {
   "cell_type": "code",
   "execution_count": null,
   "id": "512035bb",
   "metadata": {},
   "outputs": [],
   "source": [
    "train1 = train.copy()\n",
    "\n",
    "train1.drop(['first_20'], axis=1, inplace=True)"
   ]
  },
  {
   "cell_type": "code",
   "execution_count": null,
   "id": "09c72007",
   "metadata": {},
   "outputs": [],
   "source": [
    "def count_amino(prot, am):\n",
    "    count = len([l for l in prot if l==am])\n",
    "    return count"
   ]
  },
  {
   "cell_type": "code",
   "execution_count": null,
   "id": "8c1b17c9",
   "metadata": {},
   "outputs": [],
   "source": [
    "for amino in amino_list:\n",
    "    train1[amino] = train1['protein_sequence'].apply(lambda x: count_amino(x, amino))"
   ]
  },
  {
   "cell_type": "code",
   "execution_count": null,
   "id": "a44dc2e5",
   "metadata": {},
   "outputs": [],
   "source": [
    "train1"
   ]
  },
  {
   "cell_type": "markdown",
   "id": "8fa931c9",
   "metadata": {},
   "source": [
    "### Second option: position as a feature"
   ]
  },
  {
   "cell_type": "code",
   "execution_count": null,
   "id": "90f20b5f",
   "metadata": {},
   "outputs": [],
   "source": [
    "train2 = pd.DataFrame(train['protein_sequence'].apply(list).tolist())\n",
    "train2 = train2.replace(amino_dict)\n",
    "train2 = pd.concat([train2, train.reset_index()['pH']], axis=1)\n",
    "train2"
   ]
  }
 ],
 "metadata": {
  "kernelspec": {
   "display_name": "Python 3 (ipykernel)",
   "language": "python",
   "name": "python3"
  },
  "language_info": {
   "codemirror_mode": {
    "name": "ipython",
    "version": 3
   },
   "file_extension": ".py",
   "mimetype": "text/x-python",
   "name": "python",
   "nbconvert_exporter": "python",
   "pygments_lexer": "ipython3",
   "version": "3.9.13"
  }
 },
 "nbformat": 4,
 "nbformat_minor": 5
}
