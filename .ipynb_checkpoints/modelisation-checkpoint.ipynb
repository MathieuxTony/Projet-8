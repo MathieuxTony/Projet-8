{
 "cells": [
  {
   "cell_type": "markdown",
   "id": "4c14b565",
   "metadata": {},
   "source": [
    "# Modélisation"
   ]
  },
  {
   "cell_type": "code",
   "execution_count": 1,
   "id": "87f7c26d",
   "metadata": {},
   "outputs": [],
   "source": [
    "import pandas as pd\n",
    "import numpy as np\n",
    "import matplotlib.pyplot as plt\n",
    "import seaborn as sns\n",
    "\n",
    "from sklearn.model_selection import train_test_split\n",
    "from sklearn.preprocessing import StandardScaler\n",
    "from sklearn import metrics\n",
    "\n",
    "import xgboost as xgb\n",
    "from sklearn import dummy\n",
    "from sklearn.ensemble import RandomForestRegressor\n",
    "\n",
    "import optuna\n",
    "import timeit"
   ]
  },
  {
   "cell_type": "markdown",
   "id": "fa34b9fd",
   "metadata": {},
   "source": [
    "A la fin de l'analyse exploratoire nous avions créé deux jeux de données différents. Nous allons tester des models de gradient boosting sur ces deux jeux de données afin de comparer les deux approches. Nous testerons un model de forêts aléatoires mais le temps de calcul étant beaucoup plus long que pour le gradient boosting nous ne chercherons pas à l'améliorer."
   ]
  },
  {
   "cell_type": "markdown",
   "id": "68466a25",
   "metadata": {},
   "source": [
    "## Chargement des données"
   ]
  },
  {
   "cell_type": "code",
   "execution_count": 2,
   "id": "d0791734",
   "metadata": {},
   "outputs": [],
   "source": [
    "train1 = pd.read_csv(\"Data/train_version1_for_modelisation.csv\")\n",
    "train2 = pd.read_csv(\"Data/train_version2_for_modelisation.csv\")"
   ]
  },
  {
   "cell_type": "code",
   "execution_count": 3,
   "id": "1d295b9d",
   "metadata": {},
   "outputs": [
    {
     "data": {
      "text/html": [
       "<div>\n",
       "<style scoped>\n",
       "    .dataframe tbody tr th:only-of-type {\n",
       "        vertical-align: middle;\n",
       "    }\n",
       "\n",
       "    .dataframe tbody tr th {\n",
       "        vertical-align: top;\n",
       "    }\n",
       "\n",
       "    .dataframe thead th {\n",
       "        text-align: right;\n",
       "    }\n",
       "</style>\n",
       "<table border=\"1\" class=\"dataframe\">\n",
       "  <thead>\n",
       "    <tr style=\"text-align: right;\">\n",
       "      <th></th>\n",
       "      <th>seq_id</th>\n",
       "      <th>protein_sequence</th>\n",
       "      <th>pH</th>\n",
       "      <th>tm</th>\n",
       "      <th>groupe</th>\n",
       "      <th>A</th>\n",
       "      <th>C</th>\n",
       "      <th>D</th>\n",
       "      <th>E</th>\n",
       "      <th>F</th>\n",
       "      <th>...</th>\n",
       "      <th>M</th>\n",
       "      <th>N</th>\n",
       "      <th>P</th>\n",
       "      <th>Q</th>\n",
       "      <th>R</th>\n",
       "      <th>S</th>\n",
       "      <th>T</th>\n",
       "      <th>V</th>\n",
       "      <th>W</th>\n",
       "      <th>Y</th>\n",
       "    </tr>\n",
       "  </thead>\n",
       "  <tbody>\n",
       "    <tr>\n",
       "      <th>0</th>\n",
       "      <td>0</td>\n",
       "      <td>AAAAKAAALALLGEAPEVVDIWLPAGWRQPFRVFRLERKGDGVLVG...</td>\n",
       "      <td>7.0</td>\n",
       "      <td>75.7</td>\n",
       "      <td>0</td>\n",
       "      <td>45</td>\n",
       "      <td>1</td>\n",
       "      <td>13</td>\n",
       "      <td>30</td>\n",
       "      <td>13</td>\n",
       "      <td>...</td>\n",
       "      <td>8</td>\n",
       "      <td>5</td>\n",
       "      <td>18</td>\n",
       "      <td>6</td>\n",
       "      <td>25</td>\n",
       "      <td>11</td>\n",
       "      <td>14</td>\n",
       "      <td>37</td>\n",
       "      <td>4</td>\n",
       "      <td>3</td>\n",
       "    </tr>\n",
       "    <tr>\n",
       "      <th>1</th>\n",
       "      <td>1</td>\n",
       "      <td>AAADGEPLHNEEERAGAGQVGRSLPQESEEQRTGSRPRRRRDLGSR...</td>\n",
       "      <td>7.0</td>\n",
       "      <td>50.5</td>\n",
       "      <td>1</td>\n",
       "      <td>28</td>\n",
       "      <td>0</td>\n",
       "      <td>10</td>\n",
       "      <td>52</td>\n",
       "      <td>6</td>\n",
       "      <td>...</td>\n",
       "      <td>2</td>\n",
       "      <td>6</td>\n",
       "      <td>8</td>\n",
       "      <td>22</td>\n",
       "      <td>30</td>\n",
       "      <td>14</td>\n",
       "      <td>12</td>\n",
       "      <td>13</td>\n",
       "      <td>3</td>\n",
       "      <td>3</td>\n",
       "    </tr>\n",
       "    <tr>\n",
       "      <th>2</th>\n",
       "      <td>2</td>\n",
       "      <td>AAAFSTPRATSYRILSSAGSGSTRADAPQVRRLHTTRDLLAKDYYA...</td>\n",
       "      <td>7.0</td>\n",
       "      <td>40.5</td>\n",
       "      <td>2</td>\n",
       "      <td>50</td>\n",
       "      <td>9</td>\n",
       "      <td>27</td>\n",
       "      <td>32</td>\n",
       "      <td>21</td>\n",
       "      <td>...</td>\n",
       "      <td>6</td>\n",
       "      <td>15</td>\n",
       "      <td>20</td>\n",
       "      <td>25</td>\n",
       "      <td>31</td>\n",
       "      <td>33</td>\n",
       "      <td>30</td>\n",
       "      <td>30</td>\n",
       "      <td>3</td>\n",
       "      <td>16</td>\n",
       "    </tr>\n",
       "    <tr>\n",
       "      <th>3</th>\n",
       "      <td>3</td>\n",
       "      <td>AAASGLRTAIPAQPLRHLLQPAPRPCLRPFGLLSVRAGSARRSGLL...</td>\n",
       "      <td>7.0</td>\n",
       "      <td>47.2</td>\n",
       "      <td>3</td>\n",
       "      <td>20</td>\n",
       "      <td>5</td>\n",
       "      <td>19</td>\n",
       "      <td>29</td>\n",
       "      <td>12</td>\n",
       "      <td>...</td>\n",
       "      <td>2</td>\n",
       "      <td>9</td>\n",
       "      <td>16</td>\n",
       "      <td>9</td>\n",
       "      <td>10</td>\n",
       "      <td>16</td>\n",
       "      <td>19</td>\n",
       "      <td>14</td>\n",
       "      <td>3</td>\n",
       "      <td>4</td>\n",
       "    </tr>\n",
       "    <tr>\n",
       "      <th>4</th>\n",
       "      <td>5</td>\n",
       "      <td>AACFWRRTVIPKPPFRGISTTSARSTVMPAWVIDKYGKNEVLRFTQ...</td>\n",
       "      <td>7.0</td>\n",
       "      <td>48.4</td>\n",
       "      <td>4</td>\n",
       "      <td>33</td>\n",
       "      <td>4</td>\n",
       "      <td>16</td>\n",
       "      <td>19</td>\n",
       "      <td>16</td>\n",
       "      <td>...</td>\n",
       "      <td>11</td>\n",
       "      <td>13</td>\n",
       "      <td>19</td>\n",
       "      <td>8</td>\n",
       "      <td>16</td>\n",
       "      <td>22</td>\n",
       "      <td>25</td>\n",
       "      <td>41</td>\n",
       "      <td>10</td>\n",
       "      <td>9</td>\n",
       "    </tr>\n",
       "    <tr>\n",
       "      <th>...</th>\n",
       "      <td>...</td>\n",
       "      <td>...</td>\n",
       "      <td>...</td>\n",
       "      <td>...</td>\n",
       "      <td>...</td>\n",
       "      <td>...</td>\n",
       "      <td>...</td>\n",
       "      <td>...</td>\n",
       "      <td>...</td>\n",
       "      <td>...</td>\n",
       "      <td>...</td>\n",
       "      <td>...</td>\n",
       "      <td>...</td>\n",
       "      <td>...</td>\n",
       "      <td>...</td>\n",
       "      <td>...</td>\n",
       "      <td>...</td>\n",
       "      <td>...</td>\n",
       "      <td>...</td>\n",
       "      <td>...</td>\n",
       "      <td>...</td>\n",
       "    </tr>\n",
       "    <tr>\n",
       "      <th>25172</th>\n",
       "      <td>31385</td>\n",
       "      <td>YYMYSGGGSALAAGGGGAGRKGDWNDIDSIKKKDLHHSRGDEKAQG...</td>\n",
       "      <td>7.0</td>\n",
       "      <td>51.8</td>\n",
       "      <td>21788</td>\n",
       "      <td>33</td>\n",
       "      <td>12</td>\n",
       "      <td>38</td>\n",
       "      <td>31</td>\n",
       "      <td>18</td>\n",
       "      <td>...</td>\n",
       "      <td>13</td>\n",
       "      <td>24</td>\n",
       "      <td>25</td>\n",
       "      <td>24</td>\n",
       "      <td>42</td>\n",
       "      <td>33</td>\n",
       "      <td>18</td>\n",
       "      <td>42</td>\n",
       "      <td>13</td>\n",
       "      <td>18</td>\n",
       "    </tr>\n",
       "    <tr>\n",
       "      <th>25173</th>\n",
       "      <td>31386</td>\n",
       "      <td>YYNDQHRLSSYSVETAMFLSWERAIVKPGAMFKKAVIGFNCNVDLI...</td>\n",
       "      <td>7.0</td>\n",
       "      <td>37.2</td>\n",
       "      <td>21789</td>\n",
       "      <td>37</td>\n",
       "      <td>5</td>\n",
       "      <td>21</td>\n",
       "      <td>29</td>\n",
       "      <td>22</td>\n",
       "      <td>...</td>\n",
       "      <td>14</td>\n",
       "      <td>19</td>\n",
       "      <td>19</td>\n",
       "      <td>16</td>\n",
       "      <td>25</td>\n",
       "      <td>37</td>\n",
       "      <td>26</td>\n",
       "      <td>34</td>\n",
       "      <td>5</td>\n",
       "      <td>14</td>\n",
       "    </tr>\n",
       "    <tr>\n",
       "      <th>25174</th>\n",
       "      <td>31387</td>\n",
       "      <td>YYQRTLGAELLYKISFGEMPKSAQDSAENCPSGMQFPDTAIAHANV...</td>\n",
       "      <td>7.0</td>\n",
       "      <td>64.6</td>\n",
       "      <td>21790</td>\n",
       "      <td>13</td>\n",
       "      <td>1</td>\n",
       "      <td>7</td>\n",
       "      <td>7</td>\n",
       "      <td>7</td>\n",
       "      <td>...</td>\n",
       "      <td>7</td>\n",
       "      <td>5</td>\n",
       "      <td>6</td>\n",
       "      <td>8</td>\n",
       "      <td>3</td>\n",
       "      <td>10</td>\n",
       "      <td>6</td>\n",
       "      <td>7</td>\n",
       "      <td>4</td>\n",
       "      <td>4</td>\n",
       "    </tr>\n",
       "    <tr>\n",
       "      <th>25175</th>\n",
       "      <td>31388</td>\n",
       "      <td>YYSFSDNITTVFLSRQAIDDDHSLSLGTISDVVESENGVVAADDAR...</td>\n",
       "      <td>7.0</td>\n",
       "      <td>50.7</td>\n",
       "      <td>21791</td>\n",
       "      <td>47</td>\n",
       "      <td>5</td>\n",
       "      <td>34</td>\n",
       "      <td>36</td>\n",
       "      <td>23</td>\n",
       "      <td>...</td>\n",
       "      <td>26</td>\n",
       "      <td>25</td>\n",
       "      <td>31</td>\n",
       "      <td>12</td>\n",
       "      <td>25</td>\n",
       "      <td>51</td>\n",
       "      <td>32</td>\n",
       "      <td>48</td>\n",
       "      <td>3</td>\n",
       "      <td>18</td>\n",
       "    </tr>\n",
       "    <tr>\n",
       "      <th>25176</th>\n",
       "      <td>31389</td>\n",
       "      <td>YYVPDEYWQSLEVAHKLTFGYGYLTWEWVQGIRSYVYPLLIAGLYK...</td>\n",
       "      <td>7.0</td>\n",
       "      <td>37.6</td>\n",
       "      <td>21792</td>\n",
       "      <td>34</td>\n",
       "      <td>5</td>\n",
       "      <td>15</td>\n",
       "      <td>32</td>\n",
       "      <td>26</td>\n",
       "      <td>...</td>\n",
       "      <td>7</td>\n",
       "      <td>20</td>\n",
       "      <td>31</td>\n",
       "      <td>18</td>\n",
       "      <td>28</td>\n",
       "      <td>34</td>\n",
       "      <td>29</td>\n",
       "      <td>38</td>\n",
       "      <td>18</td>\n",
       "      <td>29</td>\n",
       "    </tr>\n",
       "  </tbody>\n",
       "</table>\n",
       "<p>25177 rows × 25 columns</p>\n",
       "</div>"
      ],
      "text/plain": [
       "       seq_id                                   protein_sequence   pH    tm  \\\n",
       "0           0  AAAAKAAALALLGEAPEVVDIWLPAGWRQPFRVFRLERKGDGVLVG...  7.0  75.7   \n",
       "1           1  AAADGEPLHNEEERAGAGQVGRSLPQESEEQRTGSRPRRRRDLGSR...  7.0  50.5   \n",
       "2           2  AAAFSTPRATSYRILSSAGSGSTRADAPQVRRLHTTRDLLAKDYYA...  7.0  40.5   \n",
       "3           3  AAASGLRTAIPAQPLRHLLQPAPRPCLRPFGLLSVRAGSARRSGLL...  7.0  47.2   \n",
       "4           5  AACFWRRTVIPKPPFRGISTTSARSTVMPAWVIDKYGKNEVLRFTQ...  7.0  48.4   \n",
       "...       ...                                                ...  ...   ...   \n",
       "25172   31385  YYMYSGGGSALAAGGGGAGRKGDWNDIDSIKKKDLHHSRGDEKAQG...  7.0  51.8   \n",
       "25173   31386  YYNDQHRLSSYSVETAMFLSWERAIVKPGAMFKKAVIGFNCNVDLI...  7.0  37.2   \n",
       "25174   31387  YYQRTLGAELLYKISFGEMPKSAQDSAENCPSGMQFPDTAIAHANV...  7.0  64.6   \n",
       "25175   31388  YYSFSDNITTVFLSRQAIDDDHSLSLGTISDVVESENGVVAADDAR...  7.0  50.7   \n",
       "25176   31389  YYVPDEYWQSLEVAHKLTFGYGYLTWEWVQGIRSYVYPLLIAGLYK...  7.0  37.6   \n",
       "\n",
       "       groupe   A   C   D   E   F  ...   M   N   P   Q   R   S   T   V   W   Y  \n",
       "0           0  45   1  13  30  13  ...   8   5  18   6  25  11  14  37   4   3  \n",
       "1           1  28   0  10  52   6  ...   2   6   8  22  30  14  12  13   3   3  \n",
       "2           2  50   9  27  32  21  ...   6  15  20  25  31  33  30  30   3  16  \n",
       "3           3  20   5  19  29  12  ...   2   9  16   9  10  16  19  14   3   4  \n",
       "4           4  33   4  16  19  16  ...  11  13  19   8  16  22  25  41  10   9  \n",
       "...       ...  ..  ..  ..  ..  ..  ...  ..  ..  ..  ..  ..  ..  ..  ..  ..  ..  \n",
       "25172   21788  33  12  38  31  18  ...  13  24  25  24  42  33  18  42  13  18  \n",
       "25173   21789  37   5  21  29  22  ...  14  19  19  16  25  37  26  34   5  14  \n",
       "25174   21790  13   1   7   7   7  ...   7   5   6   8   3  10   6   7   4   4  \n",
       "25175   21791  47   5  34  36  23  ...  26  25  31  12  25  51  32  48   3  18  \n",
       "25176   21792  34   5  15  32  26  ...   7  20  31  18  28  34  29  38  18  29  \n",
       "\n",
       "[25177 rows x 25 columns]"
      ]
     },
     "execution_count": 3,
     "metadata": {},
     "output_type": "execute_result"
    }
   ],
   "source": [
    "train1"
   ]
  },
  {
   "cell_type": "code",
   "execution_count": 4,
   "id": "ff6b1210",
   "metadata": {},
   "outputs": [
    {
     "data": {
      "text/html": [
       "<div>\n",
       "<style scoped>\n",
       "    .dataframe tbody tr th:only-of-type {\n",
       "        vertical-align: middle;\n",
       "    }\n",
       "\n",
       "    .dataframe tbody tr th {\n",
       "        vertical-align: top;\n",
       "    }\n",
       "\n",
       "    .dataframe thead th {\n",
       "        text-align: right;\n",
       "    }\n",
       "</style>\n",
       "<table border=\"1\" class=\"dataframe\">\n",
       "  <thead>\n",
       "    <tr style=\"text-align: right;\">\n",
       "      <th></th>\n",
       "      <th>0</th>\n",
       "      <th>1</th>\n",
       "      <th>2</th>\n",
       "      <th>3</th>\n",
       "      <th>4</th>\n",
       "      <th>5</th>\n",
       "      <th>6</th>\n",
       "      <th>7</th>\n",
       "      <th>8</th>\n",
       "      <th>9</th>\n",
       "      <th>...</th>\n",
       "      <th>990</th>\n",
       "      <th>991</th>\n",
       "      <th>992</th>\n",
       "      <th>993</th>\n",
       "      <th>994</th>\n",
       "      <th>995</th>\n",
       "      <th>996</th>\n",
       "      <th>997</th>\n",
       "      <th>998</th>\n",
       "      <th>pH</th>\n",
       "    </tr>\n",
       "  </thead>\n",
       "  <tbody>\n",
       "    <tr>\n",
       "      <th>0</th>\n",
       "      <td>1</td>\n",
       "      <td>1</td>\n",
       "      <td>1</td>\n",
       "      <td>1</td>\n",
       "      <td>9</td>\n",
       "      <td>1</td>\n",
       "      <td>1</td>\n",
       "      <td>1</td>\n",
       "      <td>10</td>\n",
       "      <td>1</td>\n",
       "      <td>...</td>\n",
       "      <td>0</td>\n",
       "      <td>0</td>\n",
       "      <td>0</td>\n",
       "      <td>0</td>\n",
       "      <td>0</td>\n",
       "      <td>0</td>\n",
       "      <td>0</td>\n",
       "      <td>0</td>\n",
       "      <td>0</td>\n",
       "      <td>7.0</td>\n",
       "    </tr>\n",
       "    <tr>\n",
       "      <th>1</th>\n",
       "      <td>1</td>\n",
       "      <td>1</td>\n",
       "      <td>1</td>\n",
       "      <td>3</td>\n",
       "      <td>6</td>\n",
       "      <td>4</td>\n",
       "      <td>13</td>\n",
       "      <td>10</td>\n",
       "      <td>7</td>\n",
       "      <td>12</td>\n",
       "      <td>...</td>\n",
       "      <td>0</td>\n",
       "      <td>0</td>\n",
       "      <td>0</td>\n",
       "      <td>0</td>\n",
       "      <td>0</td>\n",
       "      <td>0</td>\n",
       "      <td>0</td>\n",
       "      <td>0</td>\n",
       "      <td>0</td>\n",
       "      <td>7.0</td>\n",
       "    </tr>\n",
       "    <tr>\n",
       "      <th>2</th>\n",
       "      <td>1</td>\n",
       "      <td>1</td>\n",
       "      <td>1</td>\n",
       "      <td>5</td>\n",
       "      <td>16</td>\n",
       "      <td>17</td>\n",
       "      <td>13</td>\n",
       "      <td>15</td>\n",
       "      <td>1</td>\n",
       "      <td>17</td>\n",
       "      <td>...</td>\n",
       "      <td>0</td>\n",
       "      <td>0</td>\n",
       "      <td>0</td>\n",
       "      <td>0</td>\n",
       "      <td>0</td>\n",
       "      <td>0</td>\n",
       "      <td>0</td>\n",
       "      <td>0</td>\n",
       "      <td>0</td>\n",
       "      <td>7.0</td>\n",
       "    </tr>\n",
       "    <tr>\n",
       "      <th>3</th>\n",
       "      <td>1</td>\n",
       "      <td>1</td>\n",
       "      <td>1</td>\n",
       "      <td>16</td>\n",
       "      <td>6</td>\n",
       "      <td>10</td>\n",
       "      <td>15</td>\n",
       "      <td>17</td>\n",
       "      <td>1</td>\n",
       "      <td>8</td>\n",
       "      <td>...</td>\n",
       "      <td>0</td>\n",
       "      <td>0</td>\n",
       "      <td>0</td>\n",
       "      <td>0</td>\n",
       "      <td>0</td>\n",
       "      <td>0</td>\n",
       "      <td>0</td>\n",
       "      <td>0</td>\n",
       "      <td>0</td>\n",
       "      <td>7.0</td>\n",
       "    </tr>\n",
       "    <tr>\n",
       "      <th>4</th>\n",
       "      <td>1</td>\n",
       "      <td>1</td>\n",
       "      <td>2</td>\n",
       "      <td>5</td>\n",
       "      <td>19</td>\n",
       "      <td>15</td>\n",
       "      <td>15</td>\n",
       "      <td>17</td>\n",
       "      <td>18</td>\n",
       "      <td>8</td>\n",
       "      <td>...</td>\n",
       "      <td>0</td>\n",
       "      <td>0</td>\n",
       "      <td>0</td>\n",
       "      <td>0</td>\n",
       "      <td>0</td>\n",
       "      <td>0</td>\n",
       "      <td>0</td>\n",
       "      <td>0</td>\n",
       "      <td>0</td>\n",
       "      <td>7.0</td>\n",
       "    </tr>\n",
       "    <tr>\n",
       "      <th>...</th>\n",
       "      <td>...</td>\n",
       "      <td>...</td>\n",
       "      <td>...</td>\n",
       "      <td>...</td>\n",
       "      <td>...</td>\n",
       "      <td>...</td>\n",
       "      <td>...</td>\n",
       "      <td>...</td>\n",
       "      <td>...</td>\n",
       "      <td>...</td>\n",
       "      <td>...</td>\n",
       "      <td>...</td>\n",
       "      <td>...</td>\n",
       "      <td>...</td>\n",
       "      <td>...</td>\n",
       "      <td>...</td>\n",
       "      <td>...</td>\n",
       "      <td>...</td>\n",
       "      <td>...</td>\n",
       "      <td>...</td>\n",
       "      <td>...</td>\n",
       "    </tr>\n",
       "    <tr>\n",
       "      <th>25172</th>\n",
       "      <td>20</td>\n",
       "      <td>20</td>\n",
       "      <td>11</td>\n",
       "      <td>20</td>\n",
       "      <td>16</td>\n",
       "      <td>6</td>\n",
       "      <td>6</td>\n",
       "      <td>6</td>\n",
       "      <td>16</td>\n",
       "      <td>1</td>\n",
       "      <td>...</td>\n",
       "      <td>0</td>\n",
       "      <td>0</td>\n",
       "      <td>0</td>\n",
       "      <td>0</td>\n",
       "      <td>0</td>\n",
       "      <td>0</td>\n",
       "      <td>0</td>\n",
       "      <td>0</td>\n",
       "      <td>0</td>\n",
       "      <td>7.0</td>\n",
       "    </tr>\n",
       "    <tr>\n",
       "      <th>25173</th>\n",
       "      <td>20</td>\n",
       "      <td>20</td>\n",
       "      <td>12</td>\n",
       "      <td>3</td>\n",
       "      <td>14</td>\n",
       "      <td>7</td>\n",
       "      <td>15</td>\n",
       "      <td>10</td>\n",
       "      <td>16</td>\n",
       "      <td>16</td>\n",
       "      <td>...</td>\n",
       "      <td>0</td>\n",
       "      <td>0</td>\n",
       "      <td>0</td>\n",
       "      <td>0</td>\n",
       "      <td>0</td>\n",
       "      <td>0</td>\n",
       "      <td>0</td>\n",
       "      <td>0</td>\n",
       "      <td>0</td>\n",
       "      <td>7.0</td>\n",
       "    </tr>\n",
       "    <tr>\n",
       "      <th>25174</th>\n",
       "      <td>20</td>\n",
       "      <td>20</td>\n",
       "      <td>14</td>\n",
       "      <td>15</td>\n",
       "      <td>17</td>\n",
       "      <td>10</td>\n",
       "      <td>6</td>\n",
       "      <td>1</td>\n",
       "      <td>4</td>\n",
       "      <td>10</td>\n",
       "      <td>...</td>\n",
       "      <td>0</td>\n",
       "      <td>0</td>\n",
       "      <td>0</td>\n",
       "      <td>0</td>\n",
       "      <td>0</td>\n",
       "      <td>0</td>\n",
       "      <td>0</td>\n",
       "      <td>0</td>\n",
       "      <td>0</td>\n",
       "      <td>7.0</td>\n",
       "    </tr>\n",
       "    <tr>\n",
       "      <th>25175</th>\n",
       "      <td>20</td>\n",
       "      <td>20</td>\n",
       "      <td>16</td>\n",
       "      <td>5</td>\n",
       "      <td>16</td>\n",
       "      <td>3</td>\n",
       "      <td>12</td>\n",
       "      <td>8</td>\n",
       "      <td>17</td>\n",
       "      <td>17</td>\n",
       "      <td>...</td>\n",
       "      <td>0</td>\n",
       "      <td>0</td>\n",
       "      <td>0</td>\n",
       "      <td>0</td>\n",
       "      <td>0</td>\n",
       "      <td>0</td>\n",
       "      <td>0</td>\n",
       "      <td>0</td>\n",
       "      <td>0</td>\n",
       "      <td>7.0</td>\n",
       "    </tr>\n",
       "    <tr>\n",
       "      <th>25176</th>\n",
       "      <td>20</td>\n",
       "      <td>20</td>\n",
       "      <td>18</td>\n",
       "      <td>13</td>\n",
       "      <td>3</td>\n",
       "      <td>4</td>\n",
       "      <td>20</td>\n",
       "      <td>19</td>\n",
       "      <td>14</td>\n",
       "      <td>16</td>\n",
       "      <td>...</td>\n",
       "      <td>0</td>\n",
       "      <td>0</td>\n",
       "      <td>0</td>\n",
       "      <td>0</td>\n",
       "      <td>0</td>\n",
       "      <td>0</td>\n",
       "      <td>0</td>\n",
       "      <td>0</td>\n",
       "      <td>0</td>\n",
       "      <td>7.0</td>\n",
       "    </tr>\n",
       "  </tbody>\n",
       "</table>\n",
       "<p>25177 rows × 1000 columns</p>\n",
       "</div>"
      ],
      "text/plain": [
       "        0   1   2   3   4   5   6   7   8   9  ...  990  991  992  993  994  \\\n",
       "0       1   1   1   1   9   1   1   1  10   1  ...    0    0    0    0    0   \n",
       "1       1   1   1   3   6   4  13  10   7  12  ...    0    0    0    0    0   \n",
       "2       1   1   1   5  16  17  13  15   1  17  ...    0    0    0    0    0   \n",
       "3       1   1   1  16   6  10  15  17   1   8  ...    0    0    0    0    0   \n",
       "4       1   1   2   5  19  15  15  17  18   8  ...    0    0    0    0    0   \n",
       "...    ..  ..  ..  ..  ..  ..  ..  ..  ..  ..  ...  ...  ...  ...  ...  ...   \n",
       "25172  20  20  11  20  16   6   6   6  16   1  ...    0    0    0    0    0   \n",
       "25173  20  20  12   3  14   7  15  10  16  16  ...    0    0    0    0    0   \n",
       "25174  20  20  14  15  17  10   6   1   4  10  ...    0    0    0    0    0   \n",
       "25175  20  20  16   5  16   3  12   8  17  17  ...    0    0    0    0    0   \n",
       "25176  20  20  18  13   3   4  20  19  14  16  ...    0    0    0    0    0   \n",
       "\n",
       "       995  996  997  998   pH  \n",
       "0        0    0    0    0  7.0  \n",
       "1        0    0    0    0  7.0  \n",
       "2        0    0    0    0  7.0  \n",
       "3        0    0    0    0  7.0  \n",
       "4        0    0    0    0  7.0  \n",
       "...    ...  ...  ...  ...  ...  \n",
       "25172    0    0    0    0  7.0  \n",
       "25173    0    0    0    0  7.0  \n",
       "25174    0    0    0    0  7.0  \n",
       "25175    0    0    0    0  7.0  \n",
       "25176    0    0    0    0  7.0  \n",
       "\n",
       "[25177 rows x 1000 columns]"
      ]
     },
     "execution_count": 4,
     "metadata": {},
     "output_type": "execute_result"
    }
   ],
   "source": [
    "train2"
   ]
  },
  {
   "cell_type": "code",
   "execution_count": 5,
   "id": "be4e1b19",
   "metadata": {},
   "outputs": [],
   "source": [
    "X1 = train1.drop(['seq_id', 'protein_sequence', 'tm'], axis=1).values\n",
    "X1_ss_grp = train1.drop(['seq_id', 'protein_sequence', 'tm', 'groupe'], axis=1).values\n",
    "X2 = train2.values\n",
    "y = train1['tm'].values"
   ]
  },
  {
   "cell_type": "markdown",
   "id": "f7fb6cc3",
   "metadata": {},
   "source": [
    "Nous testerons l'influence de la variable 'groupe' dans la première approche."
   ]
  },
  {
   "cell_type": "markdown",
   "id": "100238ae",
   "metadata": {},
   "source": [
    "# Train1 avec la variable 'groupe'"
   ]
  },
  {
   "cell_type": "code",
   "execution_count": 6,
   "id": "58ce5ee5",
   "metadata": {},
   "outputs": [],
   "source": [
    "X_train, X_test, y_train, y_test = train_test_split(X1, y, random_state=21, train_size=0.7, shuffle=True)"
   ]
  },
  {
   "cell_type": "markdown",
   "id": "a2d71b3e",
   "metadata": {},
   "source": [
    "## Preprocessing"
   ]
  },
  {
   "cell_type": "code",
   "execution_count": 7,
   "id": "803a3d13",
   "metadata": {},
   "outputs": [],
   "source": [
    "std = StandardScaler()\n",
    "\n",
    "std.fit(X_train)\n",
    "\n",
    "X_train_std = std.transform(X_train)\n",
    "X_test_std = std.transform(X_test)"
   ]
  },
  {
   "cell_type": "markdown",
   "id": "c222897a",
   "metadata": {},
   "source": [
    "## Dummy regressor"
   ]
  },
  {
   "cell_type": "markdown",
   "id": "fe66576b",
   "metadata": {},
   "source": [
    "Dans cette section nous allons tester deux approches naïves qui nous servirons de référence pour évaluer les performances des prochains models."
   ]
  },
  {
   "cell_type": "code",
   "execution_count": 8,
   "id": "e20f1070",
   "metadata": {},
   "outputs": [],
   "source": [
    "model = dummy.DummyRegressor(strategy='mean')"
   ]
  },
  {
   "cell_type": "code",
   "execution_count": 9,
   "id": "abf75510",
   "metadata": {},
   "outputs": [
    {
     "data": {
      "text/html": [
       "<style>#sk-container-id-1 {color: black;background-color: white;}#sk-container-id-1 pre{padding: 0;}#sk-container-id-1 div.sk-toggleable {background-color: white;}#sk-container-id-1 label.sk-toggleable__label {cursor: pointer;display: block;width: 100%;margin-bottom: 0;padding: 0.3em;box-sizing: border-box;text-align: center;}#sk-container-id-1 label.sk-toggleable__label-arrow:before {content: \"▸\";float: left;margin-right: 0.25em;color: #696969;}#sk-container-id-1 label.sk-toggleable__label-arrow:hover:before {color: black;}#sk-container-id-1 div.sk-estimator:hover label.sk-toggleable__label-arrow:before {color: black;}#sk-container-id-1 div.sk-toggleable__content {max-height: 0;max-width: 0;overflow: hidden;text-align: left;background-color: #f0f8ff;}#sk-container-id-1 div.sk-toggleable__content pre {margin: 0.2em;color: black;border-radius: 0.25em;background-color: #f0f8ff;}#sk-container-id-1 input.sk-toggleable__control:checked~div.sk-toggleable__content {max-height: 200px;max-width: 100%;overflow: auto;}#sk-container-id-1 input.sk-toggleable__control:checked~label.sk-toggleable__label-arrow:before {content: \"▾\";}#sk-container-id-1 div.sk-estimator input.sk-toggleable__control:checked~label.sk-toggleable__label {background-color: #d4ebff;}#sk-container-id-1 div.sk-label input.sk-toggleable__control:checked~label.sk-toggleable__label {background-color: #d4ebff;}#sk-container-id-1 input.sk-hidden--visually {border: 0;clip: rect(1px 1px 1px 1px);clip: rect(1px, 1px, 1px, 1px);height: 1px;margin: -1px;overflow: hidden;padding: 0;position: absolute;width: 1px;}#sk-container-id-1 div.sk-estimator {font-family: monospace;background-color: #f0f8ff;border: 1px dotted black;border-radius: 0.25em;box-sizing: border-box;margin-bottom: 0.5em;}#sk-container-id-1 div.sk-estimator:hover {background-color: #d4ebff;}#sk-container-id-1 div.sk-parallel-item::after {content: \"\";width: 100%;border-bottom: 1px solid gray;flex-grow: 1;}#sk-container-id-1 div.sk-label:hover label.sk-toggleable__label {background-color: #d4ebff;}#sk-container-id-1 div.sk-serial::before {content: \"\";position: absolute;border-left: 1px solid gray;box-sizing: border-box;top: 0;bottom: 0;left: 50%;z-index: 0;}#sk-container-id-1 div.sk-serial {display: flex;flex-direction: column;align-items: center;background-color: white;padding-right: 0.2em;padding-left: 0.2em;position: relative;}#sk-container-id-1 div.sk-item {position: relative;z-index: 1;}#sk-container-id-1 div.sk-parallel {display: flex;align-items: stretch;justify-content: center;background-color: white;position: relative;}#sk-container-id-1 div.sk-item::before, #sk-container-id-1 div.sk-parallel-item::before {content: \"\";position: absolute;border-left: 1px solid gray;box-sizing: border-box;top: 0;bottom: 0;left: 50%;z-index: -1;}#sk-container-id-1 div.sk-parallel-item {display: flex;flex-direction: column;z-index: 1;position: relative;background-color: white;}#sk-container-id-1 div.sk-parallel-item:first-child::after {align-self: flex-end;width: 50%;}#sk-container-id-1 div.sk-parallel-item:last-child::after {align-self: flex-start;width: 50%;}#sk-container-id-1 div.sk-parallel-item:only-child::after {width: 0;}#sk-container-id-1 div.sk-dashed-wrapped {border: 1px dashed gray;margin: 0 0.4em 0.5em 0.4em;box-sizing: border-box;padding-bottom: 0.4em;background-color: white;}#sk-container-id-1 div.sk-label label {font-family: monospace;font-weight: bold;display: inline-block;line-height: 1.2em;}#sk-container-id-1 div.sk-label-container {text-align: center;}#sk-container-id-1 div.sk-container {/* jupyter's `normalize.less` sets `[hidden] { display: none; }` but bootstrap.min.css set `[hidden] { display: none !important; }` so we also need the `!important` here to be able to override the default hidden behavior on the sphinx rendered scikit-learn.org. See: https://github.com/scikit-learn/scikit-learn/issues/21755 */display: inline-block !important;position: relative;}#sk-container-id-1 div.sk-text-repr-fallback {display: none;}</style><div id=\"sk-container-id-1\" class=\"sk-top-container\"><div class=\"sk-text-repr-fallback\"><pre>DummyRegressor()</pre><b>In a Jupyter environment, please rerun this cell to show the HTML representation or trust the notebook. <br />On GitHub, the HTML representation is unable to render, please try loading this page with nbviewer.org.</b></div><div class=\"sk-container\" hidden><div class=\"sk-item\"><div class=\"sk-estimator sk-toggleable\"><input class=\"sk-toggleable__control sk-hidden--visually\" id=\"sk-estimator-id-1\" type=\"checkbox\" checked><label for=\"sk-estimator-id-1\" class=\"sk-toggleable__label sk-toggleable__label-arrow\">DummyRegressor</label><div class=\"sk-toggleable__content\"><pre>DummyRegressor()</pre></div></div></div></div></div>"
      ],
      "text/plain": [
       "DummyRegressor()"
      ]
     },
     "execution_count": 9,
     "metadata": {},
     "output_type": "execute_result"
    }
   ],
   "source": [
    "model.fit(X_train_std, y_train)"
   ]
  },
  {
   "cell_type": "code",
   "execution_count": 10,
   "id": "f616b45d",
   "metadata": {},
   "outputs": [
    {
     "data": {
      "text/plain": [
       "8.855098499714646"
      ]
     },
     "execution_count": 10,
     "metadata": {},
     "output_type": "execute_result"
    }
   ],
   "source": [
    "y_pred = model.predict(X_test_std)\n",
    "metrics.mean_absolute_error(y_test, y_pred)"
   ]
  },
  {
   "cell_type": "code",
   "execution_count": 11,
   "id": "7a715329",
   "metadata": {},
   "outputs": [],
   "source": [
    "model = dummy.DummyRegressor(strategy='median')"
   ]
  },
  {
   "cell_type": "code",
   "execution_count": 12,
   "id": "90905279",
   "metadata": {},
   "outputs": [
    {
     "data": {
      "text/html": [
       "<style>#sk-container-id-2 {color: black;background-color: white;}#sk-container-id-2 pre{padding: 0;}#sk-container-id-2 div.sk-toggleable {background-color: white;}#sk-container-id-2 label.sk-toggleable__label {cursor: pointer;display: block;width: 100%;margin-bottom: 0;padding: 0.3em;box-sizing: border-box;text-align: center;}#sk-container-id-2 label.sk-toggleable__label-arrow:before {content: \"▸\";float: left;margin-right: 0.25em;color: #696969;}#sk-container-id-2 label.sk-toggleable__label-arrow:hover:before {color: black;}#sk-container-id-2 div.sk-estimator:hover label.sk-toggleable__label-arrow:before {color: black;}#sk-container-id-2 div.sk-toggleable__content {max-height: 0;max-width: 0;overflow: hidden;text-align: left;background-color: #f0f8ff;}#sk-container-id-2 div.sk-toggleable__content pre {margin: 0.2em;color: black;border-radius: 0.25em;background-color: #f0f8ff;}#sk-container-id-2 input.sk-toggleable__control:checked~div.sk-toggleable__content {max-height: 200px;max-width: 100%;overflow: auto;}#sk-container-id-2 input.sk-toggleable__control:checked~label.sk-toggleable__label-arrow:before {content: \"▾\";}#sk-container-id-2 div.sk-estimator input.sk-toggleable__control:checked~label.sk-toggleable__label {background-color: #d4ebff;}#sk-container-id-2 div.sk-label input.sk-toggleable__control:checked~label.sk-toggleable__label {background-color: #d4ebff;}#sk-container-id-2 input.sk-hidden--visually {border: 0;clip: rect(1px 1px 1px 1px);clip: rect(1px, 1px, 1px, 1px);height: 1px;margin: -1px;overflow: hidden;padding: 0;position: absolute;width: 1px;}#sk-container-id-2 div.sk-estimator {font-family: monospace;background-color: #f0f8ff;border: 1px dotted black;border-radius: 0.25em;box-sizing: border-box;margin-bottom: 0.5em;}#sk-container-id-2 div.sk-estimator:hover {background-color: #d4ebff;}#sk-container-id-2 div.sk-parallel-item::after {content: \"\";width: 100%;border-bottom: 1px solid gray;flex-grow: 1;}#sk-container-id-2 div.sk-label:hover label.sk-toggleable__label {background-color: #d4ebff;}#sk-container-id-2 div.sk-serial::before {content: \"\";position: absolute;border-left: 1px solid gray;box-sizing: border-box;top: 0;bottom: 0;left: 50%;z-index: 0;}#sk-container-id-2 div.sk-serial {display: flex;flex-direction: column;align-items: center;background-color: white;padding-right: 0.2em;padding-left: 0.2em;position: relative;}#sk-container-id-2 div.sk-item {position: relative;z-index: 1;}#sk-container-id-2 div.sk-parallel {display: flex;align-items: stretch;justify-content: center;background-color: white;position: relative;}#sk-container-id-2 div.sk-item::before, #sk-container-id-2 div.sk-parallel-item::before {content: \"\";position: absolute;border-left: 1px solid gray;box-sizing: border-box;top: 0;bottom: 0;left: 50%;z-index: -1;}#sk-container-id-2 div.sk-parallel-item {display: flex;flex-direction: column;z-index: 1;position: relative;background-color: white;}#sk-container-id-2 div.sk-parallel-item:first-child::after {align-self: flex-end;width: 50%;}#sk-container-id-2 div.sk-parallel-item:last-child::after {align-self: flex-start;width: 50%;}#sk-container-id-2 div.sk-parallel-item:only-child::after {width: 0;}#sk-container-id-2 div.sk-dashed-wrapped {border: 1px dashed gray;margin: 0 0.4em 0.5em 0.4em;box-sizing: border-box;padding-bottom: 0.4em;background-color: white;}#sk-container-id-2 div.sk-label label {font-family: monospace;font-weight: bold;display: inline-block;line-height: 1.2em;}#sk-container-id-2 div.sk-label-container {text-align: center;}#sk-container-id-2 div.sk-container {/* jupyter's `normalize.less` sets `[hidden] { display: none; }` but bootstrap.min.css set `[hidden] { display: none !important; }` so we also need the `!important` here to be able to override the default hidden behavior on the sphinx rendered scikit-learn.org. See: https://github.com/scikit-learn/scikit-learn/issues/21755 */display: inline-block !important;position: relative;}#sk-container-id-2 div.sk-text-repr-fallback {display: none;}</style><div id=\"sk-container-id-2\" class=\"sk-top-container\"><div class=\"sk-text-repr-fallback\"><pre>DummyRegressor(strategy=&#x27;median&#x27;)</pre><b>In a Jupyter environment, please rerun this cell to show the HTML representation or trust the notebook. <br />On GitHub, the HTML representation is unable to render, please try loading this page with nbviewer.org.</b></div><div class=\"sk-container\" hidden><div class=\"sk-item\"><div class=\"sk-estimator sk-toggleable\"><input class=\"sk-toggleable__control sk-hidden--visually\" id=\"sk-estimator-id-2\" type=\"checkbox\" checked><label for=\"sk-estimator-id-2\" class=\"sk-toggleable__label sk-toggleable__label-arrow\">DummyRegressor</label><div class=\"sk-toggleable__content\"><pre>DummyRegressor(strategy=&#x27;median&#x27;)</pre></div></div></div></div></div>"
      ],
      "text/plain": [
       "DummyRegressor(strategy='median')"
      ]
     },
     "execution_count": 12,
     "metadata": {},
     "output_type": "execute_result"
    }
   ],
   "source": [
    "model.fit(X_train_std, y_train)"
   ]
  },
  {
   "cell_type": "code",
   "execution_count": 13,
   "id": "d99dc3c1",
   "metadata": {},
   "outputs": [
    {
     "data": {
      "text/plain": [
       "8.466706380725444"
      ]
     },
     "execution_count": 13,
     "metadata": {},
     "output_type": "execute_result"
    }
   ],
   "source": [
    "y_pred = model.predict(X_test_std)\n",
    "metrics.mean_absolute_error(y_test, y_pred)"
   ]
  },
  {
   "cell_type": "markdown",
   "id": "412bfa74",
   "metadata": {},
   "source": [
    "On pourrait aussi utiliser le r2_score, mais le choix de la valeur absolue de l'erreur est pertinent puisqu'on prédit une température et que l'on peut comprendre facilement ce qu'est un écart de 8 degrés."
   ]
  },
  {
   "cell_type": "code",
   "execution_count": 14,
   "id": "de7fd1b6",
   "metadata": {},
   "outputs": [
    {
     "data": {
      "text/plain": [
       "-0.04997271922533386"
      ]
     },
     "execution_count": 14,
     "metadata": {},
     "output_type": "execute_result"
    }
   ],
   "source": [
    "metrics.r2_score(y_test, y_pred)"
   ]
  },
  {
   "cell_type": "markdown",
   "id": "4c93f09c",
   "metadata": {},
   "source": [
    "Nous allons maintenant tester des models plus développés. "
   ]
  },
  {
   "cell_type": "markdown",
   "id": "f2f73c2a",
   "metadata": {},
   "source": [
    "## Gradient boosting avecXGboost"
   ]
  },
  {
   "cell_type": "markdown",
   "id": "e97ffe59",
   "metadata": {},
   "source": [
    "Nous allons effectuer une optimisation des hyperparamètres à l'aide du module optuna."
   ]
  },
  {
   "cell_type": "code",
   "execution_count": 15,
   "id": "9c51f542",
   "metadata": {},
   "outputs": [],
   "source": [
    "def objective(trial):\n",
    "    param = {\n",
    "        'max_depth': trial.suggest_int('max_depth', 1, 10),\n",
    "        'learning_rate': trial.suggest_float('learning_rate', 0.01, 1.0),\n",
    "        'n_estimators': trial.suggest_int('n_estimators', 50, 1000),\n",
    "        'min_child_weight': trial.suggest_int('min_child_weight', 1, 10),\n",
    "        'gamma': trial.suggest_float('gamma', 0.01, 1.0),\n",
    "        'subsample': trial.suggest_float('subsample', 0.01, 1.0),\n",
    "        'colsample_bytree': trial.suggest_float('colsample_bytree', 0.01, 1.0),\n",
    "        'reg_alpha': trial.suggest_float('reg_alpha', 0.01, 1.0),\n",
    "        'reg_lambda': trial.suggest_float('reg_lambda', 0.01, 1.0),\n",
    "        'random_state': trial.suggest_int('random_state', 1, 1000)\n",
    "    }\n",
    "    model = xgb.XGBRegressor(**param)\n",
    "    model.fit(X_train_std, y_train)\n",
    "    y_pred = model.predict(X_test_std)\n",
    "    return metrics.mean_absolute_error(y_test, y_pred)"
   ]
  },
  {
   "cell_type": "code",
   "execution_count": 16,
   "id": "948d0b84",
   "metadata": {},
   "outputs": [
    {
     "name": "stderr",
     "output_type": "stream",
     "text": [
      "\u001b[32m[I 2022-10-23 16:05:56,973]\u001b[0m A new study created in memory with name: regression_1\u001b[0m\n"
     ]
    }
   ],
   "source": [
    "study_1 = optuna.create_study(direction='minimize', study_name='regression_1')"
   ]
  },
  {
   "cell_type": "code",
   "execution_count": 17,
   "id": "b880c542",
   "metadata": {
    "scrolled": true
   },
   "outputs": [
    {
     "name": "stderr",
     "output_type": "stream",
     "text": [
      "\u001b[32m[I 2022-10-23 16:05:58,116]\u001b[0m Trial 0 finished with value: 120825925819.33704 and parameters: {'max_depth': 6, 'learning_rate': 0.49464586225209733, 'n_estimators': 749, 'min_child_weight': 2, 'gamma': 0.3085991024142235, 'subsample': 0.02781834485529485, 'colsample_bytree': 0.471252137273836, 'reg_alpha': 0.6381855562163125, 'reg_lambda': 0.015714241741763932, 'random_state': 594}. Best is trial 0 with value: 120825925819.33704.\u001b[0m\n",
      "\u001b[32m[I 2022-10-23 16:05:59,798]\u001b[0m Trial 1 finished with value: 103.79404312733277 and parameters: {'max_depth': 6, 'learning_rate': 0.4245319245659182, 'n_estimators': 989, 'min_child_weight': 1, 'gamma': 0.36984176005495367, 'subsample': 0.1103300940671228, 'colsample_bytree': 0.6325261816863769, 'reg_alpha': 0.7384956692804765, 'reg_lambda': 0.4793455584065609, 'random_state': 623}. Best is trial 1 with value: 103.79404312733277.\u001b[0m\n",
      "\u001b[32m[I 2022-10-23 16:06:01,135]\u001b[0m Trial 2 finished with value: 6.982835087360829 and parameters: {'max_depth': 4, 'learning_rate': 0.5752419043237119, 'n_estimators': 558, 'min_child_weight': 7, 'gamma': 0.829869132948242, 'subsample': 0.770409870230412, 'colsample_bytree': 0.7939676788956589, 'reg_alpha': 0.30775200162210925, 'reg_lambda': 0.21143009883273178, 'random_state': 592}. Best is trial 2 with value: 6.982835087360829.\u001b[0m\n",
      "\u001b[32m[I 2022-10-23 16:06:01,530]\u001b[0m Trial 3 finished with value: 11.143337817390286 and parameters: {'max_depth': 4, 'learning_rate': 0.5831194315966416, 'n_estimators': 284, 'min_child_weight': 9, 'gamma': 0.10798892481287688, 'subsample': 0.10994640008193847, 'colsample_bytree': 0.8029897029275223, 'reg_alpha': 0.4253206442049041, 'reg_lambda': 0.9482063986527217, 'random_state': 489}. Best is trial 2 with value: 6.982835087360829.\u001b[0m\n",
      "\u001b[32m[I 2022-10-23 16:06:01,861]\u001b[0m Trial 4 finished with value: 7.426084036166812 and parameters: {'max_depth': 1, 'learning_rate': 0.5264795028223709, 'n_estimators': 318, 'min_child_weight': 8, 'gamma': 0.07644346637318727, 'subsample': 0.4564966281302909, 'colsample_bytree': 0.49143794635950544, 'reg_alpha': 0.808213948770328, 'reg_lambda': 0.5071860642906849, 'random_state': 471}. Best is trial 2 with value: 6.982835087360829.\u001b[0m\n",
      "\u001b[32m[I 2022-10-23 16:06:02,218]\u001b[0m Trial 5 finished with value: 7.471063674591445 and parameters: {'max_depth': 1, 'learning_rate': 0.6199571999559341, 'n_estimators': 394, 'min_child_weight': 3, 'gamma': 0.21123789704674953, 'subsample': 0.30726861405297623, 'colsample_bytree': 0.25014218328154364, 'reg_alpha': 0.2433386646679747, 'reg_lambda': 0.7685157006652178, 'random_state': 709}. Best is trial 2 with value: 6.982835087360829.\u001b[0m\n",
      "\u001b[32m[I 2022-10-23 16:06:03,026]\u001b[0m Trial 6 finished with value: 7.432914841247672 and parameters: {'max_depth': 1, 'learning_rate': 0.17223044189923994, 'n_estimators': 928, 'min_child_weight': 4, 'gamma': 0.8694085440735546, 'subsample': 0.9327051155861087, 'colsample_bytree': 0.17406318422119518, 'reg_alpha': 0.050669131386302885, 'reg_lambda': 0.044110599551988726, 'random_state': 82}. Best is trial 2 with value: 6.982835087360829.\u001b[0m\n",
      "\u001b[32m[I 2022-10-23 16:06:03,491]\u001b[0m Trial 7 finished with value: 6.612540500833775 and parameters: {'max_depth': 2, 'learning_rate': 0.18020762092222606, 'n_estimators': 423, 'min_child_weight': 4, 'gamma': 0.6119254428339918, 'subsample': 0.22365465170241675, 'colsample_bytree': 0.629087929153698, 'reg_alpha': 0.9426744913734414, 'reg_lambda': 0.3886533456045255, 'random_state': 476}. Best is trial 7 with value: 6.612540500833775.\u001b[0m\n",
      "\u001b[32m[I 2022-10-23 16:06:03,998]\u001b[0m Trial 8 finished with value: 7.308786233442942 and parameters: {'max_depth': 4, 'learning_rate': 0.3481432385910848, 'n_estimators': 331, 'min_child_weight': 3, 'gamma': 0.48611659847853994, 'subsample': 0.21119872258409228, 'colsample_bytree': 0.5462115038570428, 'reg_alpha': 0.35567456862495755, 'reg_lambda': 0.34498709098246616, 'random_state': 486}. Best is trial 7 with value: 6.612540500833775.\u001b[0m\n",
      "\u001b[32m[I 2022-10-23 16:06:04,342]\u001b[0m Trial 9 finished with value: 6.5882362680331665 and parameters: {'max_depth': 3, 'learning_rate': 0.24506743888715082, 'n_estimators': 270, 'min_child_weight': 9, 'gamma': 0.861219815094012, 'subsample': 0.2901163400096201, 'colsample_bytree': 0.2628986176434396, 'reg_alpha': 0.08919820659941068, 'reg_lambda': 0.6032050769508959, 'random_state': 185}. Best is trial 9 with value: 6.5882362680331665.\u001b[0m\n",
      "\u001b[32m[I 2022-10-23 16:06:04,574]\u001b[0m Trial 10 finished with value: 8.184887655266763 and parameters: {'max_depth': 9, 'learning_rate': 0.9183414678253996, 'n_estimators': 96, 'min_child_weight': 10, 'gamma': 0.69174890844344, 'subsample': 0.6056613892593163, 'colsample_bytree': 0.03568542370916522, 'reg_alpha': 0.027800650374190994, 'reg_lambda': 0.677616134980202, 'random_state': 107}. Best is trial 9 with value: 6.5882362680331665.\u001b[0m\n",
      "\u001b[32m[I 2022-10-23 16:06:05,548]\u001b[0m Trial 11 finished with value: 6.711432432579179 and parameters: {'max_depth': 3, 'learning_rate': 0.015360029379478113, 'n_estimators': 560, 'min_child_weight': 6, 'gamma': 0.9976036162674695, 'subsample': 0.3867424800838617, 'colsample_bytree': 0.9942226698828589, 'reg_alpha': 0.8977173381340917, 'reg_lambda': 0.5864549226106706, 'random_state': 957}. Best is trial 9 with value: 6.5882362680331665.\u001b[0m\n",
      "\u001b[32m[I 2022-10-23 16:06:05,713]\u001b[0m Trial 12 finished with value: 6.759707778554951 and parameters: {'max_depth': 3, 'learning_rate': 0.23053622467299295, 'n_estimators': 93, 'min_child_weight': 5, 'gamma': 0.6521604511283782, 'subsample': 0.5627891051789066, 'colsample_bytree': 0.2975873152331949, 'reg_alpha': 0.9924666900015064, 'reg_lambda': 0.2961600294155881, 'random_state': 256}. Best is trial 9 with value: 6.5882362680331665.\u001b[0m\n",
      "\u001b[32m[I 2022-10-23 16:06:07,120]\u001b[0m Trial 13 finished with value: 6.028745329111758 and parameters: {'max_depth': 9, 'learning_rate': 0.01700492928725697, 'n_estimators': 464, 'min_child_weight': 6, 'gamma': 0.6489240344877507, 'subsample': 0.2762133061205456, 'colsample_bytree': 0.3762288917462952, 'reg_alpha': 0.574158604967012, 'reg_lambda': 0.8295676412194289, 'random_state': 291}. Best is trial 13 with value: 6.028745329111758.\u001b[0m\n",
      "\u001b[32m[I 2022-10-23 16:06:09,802]\u001b[0m Trial 14 finished with value: 6.199324925841557 and parameters: {'max_depth': 10, 'learning_rate': 0.08989725697772238, 'n_estimators': 733, 'min_child_weight': 7, 'gamma': 0.8093147623956849, 'subsample': 0.34026860814479476, 'colsample_bytree': 0.3486914039018061, 'reg_alpha': 0.6251565046575591, 'reg_lambda': 0.8875418871091253, 'random_state': 277}. Best is trial 13 with value: 6.028745329111758.\u001b[0m\n",
      "\u001b[32m[I 2022-10-23 16:06:12,590]\u001b[0m Trial 15 finished with value: 5.945350239293929 and parameters: {'max_depth': 10, 'learning_rate': 0.013776573317503593, 'n_estimators': 695, 'min_child_weight': 6, 'gamma': 0.511832129315662, 'subsample': 0.43705154443592764, 'colsample_bytree': 0.35937339030935833, 'reg_alpha': 0.564482532895852, 'reg_lambda': 0.9920978307229386, 'random_state': 310}. Best is trial 15 with value: 5.945350239293929.\u001b[0m\n",
      "\u001b[32m[I 2022-10-23 16:06:14,317]\u001b[0m Trial 16 finished with value: 6.622729472644373 and parameters: {'max_depth': 8, 'learning_rate': 0.02019297009135038, 'n_estimators': 696, 'min_child_weight': 6, 'gamma': 0.511490058822132, 'subsample': 0.6902176330133156, 'colsample_bytree': 0.09103866452581422, 'reg_alpha': 0.5082092386207939, 'reg_lambda': 0.9939061294317566, 'random_state': 341}. Best is trial 15 with value: 5.945350239293929.\u001b[0m\n",
      "\u001b[32m[I 2022-10-23 16:06:17,090]\u001b[0m Trial 17 finished with value: 11.611481133589423 and parameters: {'max_depth': 8, 'learning_rate': 0.759557947273746, 'n_estimators': 850, 'min_child_weight': 5, 'gamma': 0.4530728080048531, 'subsample': 0.4809600407995007, 'colsample_bytree': 0.39494418115526064, 'reg_alpha': 0.5172584654717799, 'reg_lambda': 0.8198252933811567, 'random_state': 372}. Best is trial 15 with value: 5.945350239293929.\u001b[0m\n",
      "\u001b[32m[I 2022-10-23 16:06:19,043]\u001b[0m Trial 18 finished with value: 8.049803563340935 and parameters: {'max_depth': 10, 'learning_rate': 0.3402348198448766, 'n_estimators': 614, 'min_child_weight': 7, 'gamma': 0.5845428564303674, 'subsample': 0.41416493270320576, 'colsample_bytree': 0.15198998510075795, 'reg_alpha': 0.6628866263057895, 'reg_lambda': 0.7625968033050723, 'random_state': 19}. Best is trial 15 with value: 5.945350239293929.\u001b[0m\n"
     ]
    },
    {
     "name": "stderr",
     "output_type": "stream",
     "text": [
      "\u001b[32m[I 2022-10-23 16:06:20,610]\u001b[0m Trial 19 finished with value: 6.059157478881948 and parameters: {'max_depth': 8, 'learning_rate': 0.1408002341364427, 'n_estimators': 445, 'min_child_weight': 6, 'gamma': 0.7059908257032123, 'subsample': 0.8717557154301627, 'colsample_bytree': 0.4088573837581739, 'reg_alpha': 0.537099816522898, 'reg_lambda': 0.8472492595455774, 'random_state': 800}. Best is trial 15 with value: 5.945350239293929.\u001b[0m\n",
      "\u001b[32m[I 2022-10-23 16:06:22,885]\u001b[0m Trial 20 finished with value: 6.5955582073576275 and parameters: {'max_depth': 7, 'learning_rate': 0.2965562294557336, 'n_estimators': 657, 'min_child_weight': 8, 'gamma': 0.3592730321518579, 'subsample': 0.610019534419022, 'colsample_bytree': 0.6323055277269723, 'reg_alpha': 0.1835595342711394, 'reg_lambda': 0.7031187691660006, 'random_state': 358}. Best is trial 15 with value: 5.945350239293929.\u001b[0m\n",
      "\u001b[32m[I 2022-10-23 16:06:24,732]\u001b[0m Trial 21 finished with value: 5.956944144766325 and parameters: {'max_depth': 9, 'learning_rate': 0.10921039833174145, 'n_estimators': 459, 'min_child_weight': 6, 'gamma': 0.7373553594504433, 'subsample': 0.9140354586328808, 'colsample_bytree': 0.39119791881760013, 'reg_alpha': 0.5507497229783583, 'reg_lambda': 0.8979835682584825, 'random_state': 926}. Best is trial 15 with value: 5.945350239293929.\u001b[0m\n",
      "\u001b[32m[I 2022-10-23 16:06:26,494]\u001b[0m Trial 22 finished with value: 5.999418975955315 and parameters: {'max_depth': 9, 'learning_rate': 0.08117377655547764, 'n_estimators': 460, 'min_child_weight': 5, 'gamma': 0.7519593491800234, 'subsample': 0.7846755246883906, 'colsample_bytree': 0.35695753341069836, 'reg_alpha': 0.4077254919143106, 'reg_lambda': 0.9403772058878822, 'random_state': 887}. Best is trial 15 with value: 5.945350239293929.\u001b[0m\n",
      "\u001b[32m[I 2022-10-23 16:06:28,191]\u001b[0m Trial 23 finished with value: 6.105634580404631 and parameters: {'max_depth': 9, 'learning_rate': 0.08745874561261989, 'n_estimators': 511, 'min_child_weight': 4, 'gamma': 0.7669528457125967, 'subsample': 0.9785743672290327, 'colsample_bytree': 0.20044760982877718, 'reg_alpha': 0.41841430922734907, 'reg_lambda': 0.9460724485137841, 'random_state': 913}. Best is trial 15 with value: 5.945350239293929.\u001b[0m\n",
      "\u001b[32m[I 2022-10-23 16:06:29,278]\u001b[0m Trial 24 finished with value: 5.890803215141993 and parameters: {'max_depth': 10, 'learning_rate': 0.09424946230665672, 'n_estimators': 200, 'min_child_weight': 5, 'gamma': 0.555027962927163, 'subsample': 0.8096375645272446, 'colsample_bytree': 0.5590390641567483, 'reg_alpha': 0.43963498219833047, 'reg_lambda': 0.9972472158931037, 'random_state': 848}. Best is trial 24 with value: 5.890803215141993.\u001b[0m\n",
      "\u001b[32m[I 2022-10-23 16:06:30,218]\u001b[0m Trial 25 finished with value: 6.200677776816411 and parameters: {'max_depth': 10, 'learning_rate': 0.24503338837280383, 'n_estimators': 178, 'min_child_weight': 7, 'gamma': 0.5447037736083524, 'subsample': 0.8541870723718805, 'colsample_bytree': 0.561883538840572, 'reg_alpha': 0.7149363521964808, 'reg_lambda': 0.988629088350816, 'random_state': 836}. Best is trial 24 with value: 5.890803215141993.\u001b[0m\n",
      "\u001b[32m[I 2022-10-23 16:06:30,942]\u001b[0m Trial 26 finished with value: 5.93428433544269 and parameters: {'max_depth': 7, 'learning_rate': 0.10730639996490171, 'n_estimators': 185, 'min_child_weight': 5, 'gamma': 0.4191260706204242, 'subsample': 0.7001732379177611, 'colsample_bytree': 0.7570621162623884, 'reg_alpha': 0.4708597020450071, 'reg_lambda': 0.864026843599079, 'random_state': 734}. Best is trial 24 with value: 5.890803215141993.\u001b[0m\n",
      "\u001b[32m[I 2022-10-23 16:06:31,847]\u001b[0m Trial 27 finished with value: 6.730105184555559 and parameters: {'max_depth': 7, 'learning_rate': 0.41733010354388606, 'n_estimators': 204, 'min_child_weight': 3, 'gamma': 0.4188718708699586, 'subsample': 0.7094363371189545, 'colsample_bytree': 0.8656572975391592, 'reg_alpha': 0.310670476893082, 'reg_lambda': 0.7700430505163979, 'random_state': 753}. Best is trial 24 with value: 5.890803215141993.\u001b[0m\n",
      "\u001b[32m[I 2022-10-23 16:06:32,067]\u001b[0m Trial 28 finished with value: 6.117872541052404 and parameters: {'max_depth': 7, 'learning_rate': 0.1824895740612852, 'n_estimators': 52, 'min_child_weight': 4, 'gamma': 0.25902791855794366, 'subsample': 0.5526442806635934, 'colsample_bytree': 0.7191216559465384, 'reg_alpha': 0.419694203588874, 'reg_lambda': 0.8845216354271165, 'random_state': 688}. Best is trial 24 with value: 5.890803215141993.\u001b[0m\n",
      "\u001b[32m[I 2022-10-23 16:06:34,714]\u001b[0m Trial 29 finished with value: 9.59993966977559 and parameters: {'max_depth': 6, 'learning_rate': 0.9670877131923215, 'n_estimators': 827, 'min_child_weight': 5, 'gamma': 0.2012903903745898, 'subsample': 0.6994617979143202, 'colsample_bytree': 0.7118758093052238, 'reg_alpha': 0.18913767268528714, 'reg_lambda': 0.9821035007995025, 'random_state': 680}. Best is trial 24 with value: 5.890803215141993.\u001b[0m\n",
      "\u001b[32m[I 2022-10-23 16:06:36,024]\u001b[0m Trial 30 finished with value: 6.820103493878094 and parameters: {'max_depth': 10, 'learning_rate': 0.44002924165399415, 'n_estimators': 181, 'min_child_weight': 1, 'gamma': 0.30888342553283654, 'subsample': 0.7899458883091108, 'colsample_bytree': 0.935706622488934, 'reg_alpha': 0.6300542422135804, 'reg_lambda': 0.6564565260112736, 'random_state': 569}. Best is trial 24 with value: 5.890803215141993.\u001b[0m\n",
      "\u001b[32m[I 2022-10-23 16:06:39,550]\u001b[0m Trial 31 finished with value: 5.949577402140623 and parameters: {'max_depth': 9, 'learning_rate': 0.10349165779300235, 'n_estimators': 801, 'min_child_weight': 5, 'gamma': 0.5419070675219769, 'subsample': 0.8925901886660014, 'colsample_bytree': 0.48116265054092533, 'reg_alpha': 0.46522103437786566, 'reg_lambda': 0.8880755571190692, 'random_state': 997}. Best is trial 24 with value: 5.890803215141993.\u001b[0m\n",
      "\u001b[32m[I 2022-10-23 16:06:42,824]\u001b[0m Trial 32 finished with value: 5.865892992532219 and parameters: {'max_depth': 8, 'learning_rate': 0.06971348954199344, 'n_estimators': 862, 'min_child_weight': 5, 'gamma': 0.4028821381197027, 'subsample': 0.8343119135206359, 'colsample_bytree': 0.45566776501864115, 'reg_alpha': 0.47012656361597627, 'reg_lambda': 0.901942319646061, 'random_state': 833}. Best is trial 32 with value: 5.865892992532219.\u001b[0m\n",
      "\u001b[32m[I 2022-10-23 16:06:45,185]\u001b[0m Trial 33 finished with value: 5.929464821162791 and parameters: {'max_depth': 5, 'learning_rate': 0.051777259472932574, 'n_estimators': 929, 'min_child_weight': 2, 'gamma': 0.4003760065552225, 'subsample': 0.8235548591777359, 'colsample_bytree': 0.5723923684901643, 'reg_alpha': 0.34336540182214403, 'reg_lambda': 0.8084986523071668, 'random_state': 829}. Best is trial 32 with value: 5.865892992532219.\u001b[0m\n",
      "\u001b[32m[I 2022-10-23 16:06:48,258]\u001b[0m Trial 34 finished with value: 6.179162858483776 and parameters: {'max_depth': 6, 'learning_rate': 0.21324937348766898, 'n_estimators': 987, 'min_child_weight': 3, 'gamma': 0.3849066463810057, 'subsample': 0.8319885223874215, 'colsample_bytree': 0.5620861958461512, 'reg_alpha': 0.355474151474921, 'reg_lambda': 0.8058526698630614, 'random_state': 824}. Best is trial 32 with value: 5.865892992532219.\u001b[0m\n",
      "\u001b[32m[I 2022-10-23 16:06:50,966]\u001b[0m Trial 35 finished with value: 6.2989037868993645 and parameters: {'max_depth': 5, 'learning_rate': 0.29745715506154824, 'n_estimators': 927, 'min_child_weight': 2, 'gamma': 0.3254091386011541, 'subsample': 0.98542314968731, 'colsample_bytree': 0.7079413972700238, 'reg_alpha': 0.2737839503324959, 'reg_lambda': 0.7285038083958087, 'random_state': 769}. Best is trial 32 with value: 5.865892992532219.\u001b[0m\n",
      "\u001b[32m[I 2022-10-23 16:06:53,609]\u001b[0m Trial 36 finished with value: 7.7148181714297035 and parameters: {'max_depth': 5, 'learning_rate': 0.7013352992988634, 'n_estimators': 908, 'min_child_weight': 2, 'gamma': 0.43374084279123604, 'subsample': 0.7432363234480293, 'colsample_bytree': 0.7898871847392409, 'reg_alpha': 0.4669038811117017, 'reg_lambda': 0.5254650945919684, 'random_state': 626}. Best is trial 32 with value: 5.865892992532219.\u001b[0m\n",
      "\u001b[32m[I 2022-10-23 16:06:54,380]\u001b[0m Trial 37 finished with value: 6.03873511135878 and parameters: {'max_depth': 7, 'learning_rate': 0.13855617882394322, 'n_estimators': 232, 'min_child_weight': 1, 'gamma': 0.14755964353666406, 'subsample': 0.6472860965817139, 'colsample_bytree': 0.4443868955572229, 'reg_alpha': 0.35201323684644487, 'reg_lambda': 0.9083444220569579, 'random_state': 866}. Best is trial 32 with value: 5.865892992532219.\u001b[0m\n"
     ]
    },
    {
     "name": "stderr",
     "output_type": "stream",
     "text": [
      "\u001b[32m[I 2022-10-23 16:06:55,195]\u001b[0m Trial 38 finished with value: 6.085078773872228 and parameters: {'max_depth': 5, 'learning_rate': 0.06641080263324249, 'n_estimators': 327, 'min_child_weight': 4, 'gamma': 0.2755391604350415, 'subsample': 0.8042581260996149, 'colsample_bytree': 0.522406053818833, 'reg_alpha': 0.23784558048304258, 'reg_lambda': 0.8407807075102509, 'random_state': 729}. Best is trial 32 with value: 5.865892992532219.\u001b[0m\n",
      "\u001b[32m[I 2022-10-23 16:06:58,323]\u001b[0m Trial 39 finished with value: 6.087312802543771 and parameters: {'max_depth': 8, 'learning_rate': 0.15362828602339135, 'n_estimators': 774, 'min_child_weight': 8, 'gamma': 0.3527772264044766, 'subsample': 0.7417215583218149, 'colsample_bytree': 0.6089131511909394, 'reg_alpha': 0.4679183102091117, 'reg_lambda': 0.1587162809741932, 'random_state': 631}. Best is trial 32 with value: 5.865892992532219.\u001b[0m\n",
      "\u001b[32m[I 2022-10-23 16:07:01,615]\u001b[0m Trial 40 finished with value: 6.517507231977209 and parameters: {'max_depth': 6, 'learning_rate': 0.3886851933173432, 'n_estimators': 977, 'min_child_weight': 2, 'gamma': 0.4080828243395309, 'subsample': 0.9283385251750585, 'colsample_bytree': 0.6750454139101726, 'reg_alpha': 0.7552709156369769, 'reg_lambda': 0.7620995787882325, 'random_state': 551}. Best is trial 32 with value: 5.865892992532219.\u001b[0m\n",
      "\u001b[32m[I 2022-10-23 16:07:05,756]\u001b[0m Trial 41 finished with value: 5.815763255152905 and parameters: {'max_depth': 10, 'learning_rate': 0.03873880857886236, 'n_estimators': 876, 'min_child_weight': 5, 'gamma': 0.011738042476622246, 'subsample': 0.8416122871988727, 'colsample_bytree': 0.45098064525842235, 'reg_alpha': 0.5679290758473461, 'reg_lambda': 0.9560837631851054, 'random_state': 791}. Best is trial 41 with value: 5.815763255152905.\u001b[0m\n",
      "\u001b[32m[I 2022-10-23 16:07:09,456]\u001b[0m Trial 42 finished with value: 5.818023692093926 and parameters: {'max_depth': 8, 'learning_rate': 0.047508584572481895, 'n_estimators': 880, 'min_child_weight': 4, 'gamma': 0.027818210885086014, 'subsample': 0.8276214943622511, 'colsample_bytree': 0.5876821787707143, 'reg_alpha': 0.3768631114872247, 'reg_lambda': 0.9293308233787804, 'random_state': 796}. Best is trial 41 with value: 5.815763255152905.\u001b[0m\n",
      "\u001b[32m[I 2022-10-23 16:07:11,129]\u001b[0m Trial 43 finished with value: 6.084533790687357 and parameters: {'max_depth': 4, 'learning_rate': 0.05996637416219404, 'n_estimators': 870, 'min_child_weight': 3, 'gamma': 0.0741896791087247, 'subsample': 0.8092511666749547, 'colsample_bytree': 0.45053575501581633, 'reg_alpha': 0.37042525974444873, 'reg_lambda': 0.9361789444322135, 'random_state': 791}. Best is trial 41 with value: 5.815763255152905.\u001b[0m\n",
      "\u001b[32m[I 2022-10-23 16:07:14,759]\u001b[0m Trial 44 finished with value: 5.830310727958488 and parameters: {'max_depth': 8, 'learning_rate': 0.052269495034796304, 'n_estimators': 887, 'min_child_weight': 4, 'gamma': 0.019224954701395666, 'subsample': 0.8584312160102646, 'colsample_bytree': 0.5206181900984237, 'reg_alpha': 0.2981571271180233, 'reg_lambda': 0.9356446064008265, 'random_state': 866}. Best is trial 41 with value: 5.815763255152905.\u001b[0m\n",
      "\u001b[32m[I 2022-10-23 16:07:18,318]\u001b[0m Trial 45 finished with value: 6.18308536422483 and parameters: {'max_depth': 8, 'learning_rate': 0.17928514791737654, 'n_estimators': 876, 'min_child_weight': 4, 'gamma': 0.010390729117869868, 'subsample': 0.9520930621700745, 'colsample_bytree': 0.5167096022197024, 'reg_alpha': 0.28833309747329516, 'reg_lambda': 0.9424824859529995, 'random_state': 995}. Best is trial 41 with value: 5.815763255152905.\u001b[0m\n",
      "\u001b[32m[I 2022-10-23 16:07:19,988]\u001b[0m Trial 46 finished with value: 1305.5475861591794 and parameters: {'max_depth': 9, 'learning_rate': 0.2908949433573463, 'n_estimators': 794, 'min_child_weight': 4, 'gamma': 0.02837441482197942, 'subsample': 0.038117475408104506, 'colsample_bytree': 0.47077193541479717, 'reg_alpha': 0.10578004676788105, 'reg_lambda': 0.3984306955617626, 'random_state': 878}. Best is trial 41 with value: 5.815763255152905.\u001b[0m\n",
      "\u001b[32m[I 2022-10-23 16:07:24,075]\u001b[0m Trial 47 finished with value: 6.1375173705072985 and parameters: {'max_depth': 10, 'learning_rate': 0.207007572569946, 'n_estimators': 750, 'min_child_weight': 5, 'gamma': 0.14969167651890725, 'subsample': 0.8762344783361687, 'colsample_bytree': 0.6010739900330884, 'reg_alpha': 0.5972227602137472, 'reg_lambda': 0.921428109141472, 'random_state': 926}. Best is trial 41 with value: 5.815763255152905.\u001b[0m\n",
      "\u001b[32m[I 2022-10-23 16:07:27,204]\u001b[0m Trial 48 finished with value: 6.103260724191663 and parameters: {'max_depth': 8, 'learning_rate': 0.13266526725008929, 'n_estimators': 961, 'min_child_weight': 4, 'gamma': 0.06645888570877673, 'subsample': 0.7496471567702636, 'colsample_bytree': 0.3179479500529015, 'reg_alpha': 0.2327770142714392, 'reg_lambda': 0.9988881882694364, 'random_state': 857}. Best is trial 41 with value: 5.815763255152905.\u001b[0m\n",
      "\u001b[32m[I 2022-10-23 16:07:31,598]\u001b[0m Trial 49 finished with value: 5.7932856817550995 and parameters: {'max_depth': 10, 'learning_rate': 0.010406079165533561, 'n_estimators': 832, 'min_child_weight': 3, 'gamma': 0.121735602598891, 'subsample': 0.6463100314176443, 'colsample_bytree': 0.5133013658717995, 'reg_alpha': 0.3961329837752882, 'reg_lambda': 0.9583636647302237, 'random_state': 423}. Best is trial 49 with value: 5.7932856817550995.\u001b[0m\n",
      "\u001b[32m[I 2022-10-23 16:07:35,738]\u001b[0m Trial 50 finished with value: 5.811761826991657 and parameters: {'max_depth': 9, 'learning_rate': 0.011524952938661997, 'n_estimators': 885, 'min_child_weight': 3, 'gamma': 0.12407084600612332, 'subsample': 0.6493441731346092, 'colsample_bytree': 0.5273926452883608, 'reg_alpha': 0.6840084528997913, 'reg_lambda': 0.641036163653612, 'random_state': 429}. Best is trial 49 with value: 5.7932856817550995.\u001b[0m\n",
      "\u001b[32m[I 2022-10-23 16:07:39,470]\u001b[0m Trial 51 finished with value: 5.845751112669526 and parameters: {'max_depth': 9, 'learning_rate': 0.039974151525728883, 'n_estimators': 830, 'min_child_weight': 3, 'gamma': 0.14098077915257523, 'subsample': 0.6636558265497001, 'colsample_bytree': 0.42246000883269164, 'reg_alpha': 0.6833058526054382, 'reg_lambda': 0.4728441947841494, 'random_state': 412}. Best is trial 49 with value: 5.7932856817550995.\u001b[0m\n",
      "\u001b[32m[I 2022-10-23 16:07:43,139]\u001b[0m Trial 52 finished with value: 5.838973235023504 and parameters: {'max_depth': 9, 'learning_rate': 0.015138155525482921, 'n_estimators': 832, 'min_child_weight': 3, 'gamma': 0.12490436294336017, 'subsample': 0.5129229017112127, 'colsample_bytree': 0.4261400637108792, 'reg_alpha': 0.6890251092197937, 'reg_lambda': 0.4671144207078561, 'random_state': 423}. Best is trial 49 with value: 5.7932856817550995.\u001b[0m\n",
      "\u001b[32m[I 2022-10-23 16:07:48,053]\u001b[0m Trial 53 finished with value: 5.796535007556595 and parameters: {'max_depth': 10, 'learning_rate': 0.02750816431381632, 'n_estimators': 912, 'min_child_weight': 3, 'gamma': 0.11085639503196541, 'subsample': 0.515639023711187, 'colsample_bytree': 0.5119076143467445, 'reg_alpha': 0.7801930044509288, 'reg_lambda': 0.5587788121467323, 'random_state': 428}. Best is trial 49 with value: 5.7932856817550995.\u001b[0m\n",
      "\u001b[32m[I 2022-10-23 16:07:52,886]\u001b[0m Trial 54 finished with value: 5.836523727616969 and parameters: {'max_depth': 10, 'learning_rate': 0.042330885870985435, 'n_estimators': 895, 'min_child_weight': 3, 'gamma': 0.1892891577865321, 'subsample': 0.6055778734066225, 'colsample_bytree': 0.49633467263276676, 'reg_alpha': 0.8298167941960269, 'reg_lambda': 0.611146144980256, 'random_state': 527}. Best is trial 49 with value: 5.7932856817550995.\u001b[0m\n",
      "\u001b[32m[I 2022-10-23 16:07:57,946]\u001b[0m Trial 55 finished with value: 8.378365479394308 and parameters: {'max_depth': 10, 'learning_rate': 0.5807279944825363, 'n_estimators': 955, 'min_child_weight': 4, 'gamma': 0.052058277871411845, 'subsample': 0.5335634344990929, 'colsample_bytree': 0.672578957057399, 'reg_alpha': 0.7828346057706312, 'reg_lambda': 0.5729764225957361, 'random_state': 431}. Best is trial 49 with value: 5.7932856817550995.\u001b[0m\n",
      "\u001b[32m[I 2022-10-23 16:08:01,769]\u001b[0m Trial 56 finished with value: 7.764968095725733 and parameters: {'max_depth': 10, 'learning_rate': 0.5053837766701781, 'n_estimators': 744, 'min_child_weight': 3, 'gamma': 0.08833945835876011, 'subsample': 0.5834474382827947, 'colsample_bytree': 0.518837191425356, 'reg_alpha': 0.8375567553705238, 'reg_lambda': 0.6565796781695139, 'random_state': 207}. Best is trial 49 with value: 5.7932856817550995.\u001b[0m\n"
     ]
    },
    {
     "name": "stderr",
     "output_type": "stream",
     "text": [
      "\u001b[32m[I 2022-10-23 16:08:05,896]\u001b[0m Trial 57 finished with value: 14.841477049809855 and parameters: {'max_depth': 9, 'learning_rate': 0.8595150528867395, 'n_estimators': 940, 'min_child_weight': 4, 'gamma': 0.10773704799703737, 'subsample': 0.4723162406199824, 'colsample_bytree': 0.5909082358277541, 'reg_alpha': 0.8743950202245159, 'reg_lambda': 0.5526340362833536, 'random_state': 462}. Best is trial 49 with value: 5.7932856817550995.\u001b[0m\n",
      "\u001b[32m[I 2022-10-23 16:08:09,985]\u001b[0m Trial 58 finished with value: 6.05150776894155 and parameters: {'max_depth': 10, 'learning_rate': 0.13803477829962232, 'n_estimators': 693, 'min_child_weight': 2, 'gamma': 0.04219117929939896, 'subsample': 0.6432783224498969, 'colsample_bytree': 0.6387767573995802, 'reg_alpha': 0.7251701588700408, 'reg_lambda': 0.4212967450690249, 'random_state': 510}. Best is trial 49 with value: 5.7932856817550995.\u001b[0m\n",
      "\u001b[32m[I 2022-10-23 16:08:13,584]\u001b[0m Trial 59 finished with value: 5.873482598973104 and parameters: {'max_depth': 9, 'learning_rate': 0.010373375526742848, 'n_estimators': 903, 'min_child_weight': 4, 'gamma': 0.23136367019007792, 'subsample': 0.34702339555685163, 'colsample_bytree': 0.5279272709514656, 'reg_alpha': 0.7748804034612143, 'reg_lambda': 0.06406064800912348, 'random_state': 396}. Best is trial 49 with value: 5.7932856817550995.\u001b[0m\n",
      "\u001b[32m[I 2022-10-23 16:08:17,414]\u001b[0m Trial 60 finished with value: 5.932093639540426 and parameters: {'max_depth': 8, 'learning_rate': 0.053116591665907445, 'n_estimators': 994, 'min_child_weight': 3, 'gamma': 0.167197701601727, 'subsample': 0.49684198220059983, 'colsample_bytree': 0.48606028253622746, 'reg_alpha': 0.5868633865473207, 'reg_lambda': 0.32552602471424885, 'random_state': 230}. Best is trial 49 with value: 5.7932856817550995.\u001b[0m\n",
      "\u001b[32m[I 2022-10-23 16:08:22,190]\u001b[0m Trial 61 finished with value: 5.872401383783504 and parameters: {'max_depth': 10, 'learning_rate': 0.04313103924024576, 'n_estimators': 893, 'min_child_weight': 3, 'gamma': 0.18883170962403464, 'subsample': 0.610322436402603, 'colsample_bytree': 0.49587154547846696, 'reg_alpha': 0.936734829819426, 'reg_lambda': 0.635000933690746, 'random_state': 523}. Best is trial 49 with value: 5.7932856817550995.\u001b[0m\n",
      "\u001b[32m[I 2022-10-23 16:08:26,906]\u001b[0m Trial 62 finished with value: 6.000156888388628 and parameters: {'max_depth': 10, 'learning_rate': 0.11849284300271726, 'n_estimators': 800, 'min_child_weight': 3, 'gamma': 0.09620088320864327, 'subsample': 0.6308736220561212, 'colsample_bytree': 0.6388567409510779, 'reg_alpha': 0.8720395890488191, 'reg_lambda': 0.5990929532019282, 'random_state': 454}. Best is trial 49 with value: 5.7932856817550995.\u001b[0m\n",
      "\u001b[32m[I 2022-10-23 16:08:31,836]\u001b[0m Trial 63 finished with value: 5.860414784870546 and parameters: {'max_depth': 10, 'learning_rate': 0.041066923207323, 'n_estimators': 894, 'min_child_weight': 3, 'gamma': 0.03996222732822126, 'subsample': 0.5692866081834169, 'colsample_bytree': 0.5430115131789256, 'reg_alpha': 0.8076422384716962, 'reg_lambda': 0.5144198105874297, 'random_state': 323}. Best is trial 49 with value: 5.7932856817550995.\u001b[0m\n",
      "\u001b[32m[I 2022-10-23 16:08:35,263]\u001b[0m Trial 64 finished with value: 6.178409203935117 and parameters: {'max_depth': 9, 'learning_rate': 0.09614032226206018, 'n_estimators': 837, 'min_child_weight': 2, 'gamma': 0.11558464827445636, 'subsample': 0.437365311690453, 'colsample_bytree': 0.3230131910627766, 'reg_alpha': 0.6540318222748136, 'reg_lambda': 0.6912517184418688, 'random_state': 383}. Best is trial 49 with value: 5.7932856817550995.\u001b[0m\n",
      "\u001b[32m[I 2022-10-23 16:08:37,121]\u001b[0m Trial 65 finished with value: 6.186178686734322 and parameters: {'max_depth': 10, 'learning_rate': 0.16933743936226267, 'n_estimators': 381, 'min_child_weight': 4, 'gamma': 0.018444154194380162, 'subsample': 0.6653789405503321, 'colsample_bytree': 0.3821318937934155, 'reg_alpha': 0.3935637252359067, 'reg_lambda': 0.8544660781064268, 'random_state': 652}. Best is trial 49 with value: 5.7932856817550995.\u001b[0m\n",
      "\u001b[32m[I 2022-10-23 16:08:38,328]\u001b[0m Trial 66 finished with value: 7.128289334875646 and parameters: {'max_depth': 2, 'learning_rate': 0.011647781153711189, 'n_estimators': 867, 'min_child_weight': 4, 'gamma': 0.17264813132831686, 'subsample': 0.7704949883653001, 'colsample_bytree': 0.49649362197482627, 'reg_alpha': 0.816109117684092, 'reg_lambda': 0.9567798136771485, 'random_state': 594}. Best is trial 49 with value: 5.7932856817550995.\u001b[0m\n",
      "\u001b[32m[I 2022-10-23 16:08:41,615]\u001b[0m Trial 67 finished with value: 5.91272565358399 and parameters: {'max_depth': 9, 'learning_rate': 0.07175994765954313, 'n_estimators': 630, 'min_child_weight': 3, 'gamma': 0.22741500410222776, 'subsample': 0.7263671406840411, 'colsample_bytree': 0.5959298899821042, 'reg_alpha': 0.32155764924812824, 'reg_lambda': 0.625116237409511, 'random_state': 353}. Best is trial 49 with value: 5.7932856817550995.\u001b[0m\n",
      "\u001b[32m[I 2022-10-23 16:08:45,251]\u001b[0m Trial 68 finished with value: 11.245974330890105 and parameters: {'max_depth': 9, 'learning_rate': 0.6206956880476688, 'n_estimators': 915, 'min_child_weight': 1, 'gamma': 0.07553346476000097, 'subsample': 0.3890250738897283, 'colsample_bytree': 0.42383343687959407, 'reg_alpha': 0.5355127938909532, 'reg_lambda': 0.5525071725090662, 'random_state': 117}. Best is trial 49 with value: 5.7932856817550995.\u001b[0m\n",
      "\u001b[32m[I 2022-10-23 16:08:49,821]\u001b[0m Trial 69 finished with value: 5.914051554434698 and parameters: {'max_depth': 10, 'learning_rate': 0.08418371215594309, 'n_estimators': 770, 'min_child_weight': 2, 'gamma': 0.9424342684835422, 'subsample': 0.5945840404495482, 'colsample_bytree': 0.6739792643797407, 'reg_alpha': 0.6117366782528291, 'reg_lambda': 0.7755316363596846, 'random_state': 484}. Best is trial 49 with value: 5.7932856817550995.\u001b[0m\n",
      "\u001b[32m[I 2022-10-23 16:08:52,839]\u001b[0m Trial 70 finished with value: 5.923466918264586 and parameters: {'max_depth': 8, 'learning_rate': 0.0394632495542032, 'n_estimators': 944, 'min_child_weight': 5, 'gamma': 0.05540744105603371, 'subsample': 0.904857029270892, 'colsample_bytree': 0.2526627059159092, 'reg_alpha': 0.9920395586709085, 'reg_lambda': 0.7118963818747834, 'random_state': 559}. Best is trial 49 with value: 5.7932856817550995.\u001b[0m\n",
      "\u001b[32m[I 2022-10-23 16:08:56,504]\u001b[0m Trial 71 finished with value: 5.834705450599838 and parameters: {'max_depth': 9, 'learning_rate': 0.016831999063369244, 'n_estimators': 814, 'min_child_weight': 3, 'gamma': 0.12385726278368521, 'subsample': 0.535686481471412, 'colsample_bytree': 0.43427791621944406, 'reg_alpha': 0.6847632614715182, 'reg_lambda': 0.4671909016935806, 'random_state': 437}. Best is trial 49 with value: 5.7932856817550995.\u001b[0m\n",
      "\u001b[32m[I 2022-10-23 16:09:00,858]\u001b[0m Trial 72 finished with value: 5.820108461670374 and parameters: {'max_depth': 10, 'learning_rate': 0.036334757019898314, 'n_estimators': 813, 'min_child_weight': 3, 'gamma': 0.1079261583255644, 'subsample': 0.5324964227090504, 'colsample_bytree': 0.4672116128315389, 'reg_alpha': 0.7367272264108333, 'reg_lambda': 0.45793355303493966, 'random_state': 446}. Best is trial 49 with value: 5.7932856817550995.\u001b[0m\n",
      "\u001b[32m[I 2022-10-23 16:09:04,191]\u001b[0m Trial 73 finished with value: 6.110720464733186 and parameters: {'max_depth': 9, 'learning_rate': 0.11880446736052346, 'n_estimators': 715, 'min_child_weight': 3, 'gamma': 0.12583030962537406, 'subsample': 0.5291974458888792, 'colsample_bytree': 0.4608378925111709, 'reg_alpha': 0.6908850499887667, 'reg_lambda': 0.4480445389248046, 'random_state': 457}. Best is trial 49 with value: 5.7932856817550995.\u001b[0m\n",
      "\u001b[32m[I 2022-10-23 16:09:07,835]\u001b[0m Trial 74 finished with value: 6.045258527285592 and parameters: {'max_depth': 9, 'learning_rate': 0.07669074556884459, 'n_estimators': 807, 'min_child_weight': 4, 'gamma': 0.09520835374962085, 'subsample': 0.4373653943910498, 'colsample_bytree': 0.5478301804168763, 'reg_alpha': 0.7368185044719635, 'reg_lambda': 0.36431714598328685, 'random_state': 435}. Best is trial 49 with value: 5.7932856817550995.\u001b[0m\n",
      "\u001b[32m[I 2022-10-23 16:09:12,058]\u001b[0m Trial 75 finished with value: 5.8441949912534055 and parameters: {'max_depth': 10, 'learning_rate': 0.032626226621492296, 'n_estimators': 842, 'min_child_weight': 4, 'gamma': 0.25248550440862105, 'subsample': 0.8492384253223688, 'colsample_bytree': 0.3967587179399471, 'reg_alpha': 0.4974122697328648, 'reg_lambda': 0.5121146710616358, 'random_state': 286}. Best is trial 49 with value: 5.7932856817550995.\u001b[0m\n"
     ]
    },
    {
     "name": "stderr",
     "output_type": "stream",
     "text": [
      "\u001b[32m[I 2022-10-23 16:09:15,087]\u001b[0m Trial 76 finished with value: 6.252704213086593 and parameters: {'max_depth': 8, 'learning_rate': 0.15872997860081411, 'n_estimators': 776, 'min_child_weight': 10, 'gamma': 0.01921253853552259, 'subsample': 0.5462980175172484, 'colsample_bytree': 0.5367628289766295, 'reg_alpha': 0.7623906514009725, 'reg_lambda': 0.2614917546538472, 'random_state': 329}. Best is trial 49 with value: 5.7932856817550995.\u001b[0m\n",
      "\u001b[32m[I 2022-10-23 16:09:17,733]\u001b[0m Trial 77 finished with value: 6.166373234840496 and parameters: {'max_depth': 7, 'learning_rate': 0.10516329947625634, 'n_estimators': 881, 'min_child_weight': 2, 'gamma': 0.15542307766839325, 'subsample': 0.49538504376469167, 'colsample_bytree': 0.3527134586609947, 'reg_alpha': 0.633899203557443, 'reg_lambda': 0.417944911184173, 'random_state': 377}. Best is trial 49 with value: 5.7932856817550995.\u001b[0m\n",
      "\u001b[32m[I 2022-10-23 16:09:20,250]\u001b[0m Trial 78 finished with value: 5.9288812780241384 and parameters: {'max_depth': 9, 'learning_rate': 0.011179434417710243, 'n_estimators': 543, 'min_child_weight': 3, 'gamma': 0.08380174430918391, 'subsample': 0.6762945010784849, 'colsample_bytree': 0.44350985425593004, 'reg_alpha': 0.39079847575051935, 'reg_lambda': 0.49380855479821195, 'random_state': 903}. Best is trial 49 with value: 5.7932856817550995.\u001b[0m\n",
      "\u001b[32m[I 2022-10-23 16:09:25,206]\u001b[0m Trial 79 finished with value: 5.820783261013057 and parameters: {'max_depth': 10, 'learning_rate': 0.0649750811788352, 'n_estimators': 853, 'min_child_weight': 5, 'gamma': 0.05156322047301958, 'subsample': 0.9580598847108683, 'colsample_bytree': 0.5745699644239992, 'reg_alpha': 0.7094129309840971, 'reg_lambda': 0.9634836187356105, 'random_state': 485}. Best is trial 49 with value: 5.7932856817550995.\u001b[0m\n",
      "\u001b[32m[I 2022-10-23 16:09:30,796]\u001b[0m Trial 80 finished with value: 5.861337986199477 and parameters: {'max_depth': 10, 'learning_rate': 0.06839361846804114, 'n_estimators': 971, 'min_child_weight': 6, 'gamma': 0.05259992870513952, 'subsample': 0.9644654029072468, 'colsample_bytree': 0.5795977145050227, 'reg_alpha': 0.4407091333804002, 'reg_lambda': 0.9693896985329237, 'random_state': 788}. Best is trial 49 with value: 5.7932856817550995.\u001b[0m\n",
      "\u001b[32m[I 2022-10-23 16:09:35,936]\u001b[0m Trial 81 finished with value: 5.819742459899887 and parameters: {'max_depth': 10, 'learning_rate': 0.0615379605949932, 'n_estimators': 856, 'min_child_weight': 5, 'gamma': 0.01034895738487153, 'subsample': 0.8617227686940265, 'colsample_bytree': 0.61547446732829, 'reg_alpha': 0.7111471484256318, 'reg_lambda': 0.9152560037984899, 'random_state': 512}. Best is trial 49 with value: 5.7932856817550995.\u001b[0m\n",
      "\u001b[32m[I 2022-10-23 16:09:41,343]\u001b[0m Trial 82 finished with value: 6.15610177487269 and parameters: {'max_depth': 10, 'learning_rate': 0.20188511823251448, 'n_estimators': 930, 'min_child_weight': 5, 'gamma': 0.012016821713020376, 'subsample': 0.8848873949703536, 'colsample_bytree': 0.6179171843939819, 'reg_alpha': 0.7204526943548826, 'reg_lambda': 0.8831511728215555, 'random_state': 483}. Best is trial 49 with value: 5.7932856817550995.\u001b[0m\n",
      "\u001b[32m[I 2022-10-23 16:09:46,325]\u001b[0m Trial 83 finished with value: 5.941622124546446 and parameters: {'max_depth': 10, 'learning_rate': 0.11594102241776003, 'n_estimators': 849, 'min_child_weight': 5, 'gamma': 0.04280403548323527, 'subsample': 0.9416356276638241, 'colsample_bytree': 0.5767783858147887, 'reg_alpha': 0.6534519737713474, 'reg_lambda': 0.9270726163804761, 'random_state': 499}. Best is trial 49 with value: 5.7932856817550995.\u001b[0m\n",
      "\u001b[32m[I 2022-10-23 16:09:51,640]\u001b[0m Trial 84 finished with value: 5.805581676249848 and parameters: {'max_depth': 10, 'learning_rate': 0.057051599559795274, 'n_estimators': 855, 'min_child_weight': 6, 'gamma': 0.06858084096524426, 'subsample': 0.9241086606903361, 'colsample_bytree': 0.6481298779050148, 'reg_alpha': 0.7984432771592801, 'reg_lambda': 0.9579306719431568, 'random_state': 400}. Best is trial 49 with value: 5.7932856817550995.\u001b[0m\n",
      "\u001b[32m[I 2022-10-23 16:09:56,993]\u001b[0m Trial 85 finished with value: 5.880849341043316 and parameters: {'max_depth': 10, 'learning_rate': 0.08981606042689994, 'n_estimators': 855, 'min_child_weight': 6, 'gamma': 0.0735511535242368, 'subsample': 0.9149949614148245, 'colsample_bytree': 0.6588341535917124, 'reg_alpha': 0.7990430071702034, 'reg_lambda': 0.9659576823726567, 'random_state': 404}. Best is trial 49 with value: 5.7932856817550995.\u001b[0m\n",
      "\u001b[32m[I 2022-10-23 16:10:01,561]\u001b[0m Trial 86 finished with value: 5.825291173408231 and parameters: {'max_depth': 10, 'learning_rate': 0.0624616752980868, 'n_estimators': 776, 'min_child_weight': 7, 'gamma': 0.10273914687201859, 'subsample': 0.9833668590975757, 'colsample_bytree': 0.5620792084381304, 'reg_alpha': 0.7529314494349293, 'reg_lambda': 0.8692195796223258, 'random_state': 534}. Best is trial 49 with value: 5.7932856817550995.\u001b[0m\n",
      "\u001b[32m[I 2022-10-23 16:10:06,962]\u001b[0m Trial 87 finished with value: 5.962805821209444 and parameters: {'max_depth': 10, 'learning_rate': 0.13740437170042571, 'n_estimators': 819, 'min_child_weight': 6, 'gamma': 0.13573078262188543, 'subsample': 0.9303512687231481, 'colsample_bytree': 0.7519435776290098, 'reg_alpha': 0.7054228361633393, 'reg_lambda': 0.915778689399196, 'random_state': 353}. Best is trial 49 with value: 5.7932856817550995.\u001b[0m\n",
      "\u001b[32m[I 2022-10-23 16:10:12,745]\u001b[0m Trial 88 finished with value: 5.8550823827253184 and parameters: {'max_depth': 10, 'learning_rate': 0.09194055177773548, 'n_estimators': 917, 'min_child_weight': 6, 'gamma': 0.061711763666885085, 'subsample': 0.9985477453432012, 'colsample_bytree': 0.648933161653087, 'reg_alpha': 0.5566651489427588, 'reg_lambda': 0.9675767400467842, 'random_state': 312}. Best is trial 49 with value: 5.7932856817550995.\u001b[0m\n",
      "\u001b[32m[I 2022-10-23 16:10:16,148]\u001b[0m Trial 89 finished with value: 5.954230827460821 and parameters: {'max_depth': 10, 'learning_rate': 0.032466816767882364, 'n_estimators': 860, 'min_child_weight': 5, 'gamma': 0.21403564650479617, 'subsample': 0.18775704405777344, 'colsample_bytree': 0.6893827238452712, 'reg_alpha': 0.8459612600755764, 'reg_lambda': 0.8109678469209216, 'random_state': 589}. Best is trial 49 with value: 5.7932856817550995.\u001b[0m\n",
      "\u001b[32m[I 2022-10-23 16:10:19,863]\u001b[0m Trial 90 finished with value: 6.084138384691015 and parameters: {'max_depth': 9, 'learning_rate': 0.15338155743787224, 'n_estimators': 716, 'min_child_weight': 7, 'gamma': 0.17653085247979441, 'subsample': 0.8574406971515675, 'colsample_bytree': 0.6168547959307569, 'reg_alpha': 0.7444758391986842, 'reg_lambda': 0.8970061885146684, 'random_state': 388}. Best is trial 49 with value: 5.7932856817550995.\u001b[0m\n",
      "\u001b[32m[I 2022-10-23 16:10:24,231]\u001b[0m Trial 91 finished with value: 5.80565194515504 and parameters: {'max_depth': 10, 'learning_rate': 0.05380177838885225, 'n_estimators': 773, 'min_child_weight': 7, 'gamma': 0.1042948278617166, 'subsample': 0.965536650049021, 'colsample_bytree': 0.571032999165752, 'reg_alpha': 0.7939498574463121, 'reg_lambda': 0.8713317519471735, 'random_state': 536}. Best is trial 49 with value: 5.7932856817550995.\u001b[0m\n",
      "\u001b[32m[I 2022-10-23 16:10:28,436]\u001b[0m Trial 92 finished with value: 5.865095839779435 and parameters: {'max_depth': 10, 'learning_rate': 0.06414794962973414, 'n_estimators': 791, 'min_child_weight': 7, 'gamma': 0.10302614494532765, 'subsample': 0.9594222136109206, 'colsample_bytree': 0.48084250657292293, 'reg_alpha': 0.7952560326565553, 'reg_lambda': 0.8393541875860031, 'random_state': 474}. Best is trial 49 with value: 5.7932856817550995.\u001b[0m\n",
      "\u001b[32m[I 2022-10-23 16:10:33,679]\u001b[0m Trial 93 finished with value: 5.966019356222358 and parameters: {'max_depth': 10, 'learning_rate': 0.11859632976908781, 'n_estimators': 875, 'min_child_weight': 5, 'gamma': 0.04339115504911442, 'subsample': 0.9021283507292274, 'colsample_bytree': 0.591574605219192, 'reg_alpha': 0.8657569561715359, 'reg_lambda': 0.9449434753542739, 'random_state': 453}. Best is trial 49 with value: 5.7932856817550995.\u001b[0m\n",
      "\u001b[32m[I 2022-10-23 16:10:38,759]\u001b[0m Trial 94 finished with value: 5.75034422411122 and parameters: {'max_depth': 10, 'learning_rate': 0.03633792997692096, 'n_estimators': 760, 'min_child_weight': 8, 'gamma': 0.08093981268804826, 'subsample': 0.8802831792968163, 'colsample_bytree': 0.7329848886033581, 'reg_alpha': 0.7753568737639309, 'reg_lambda': 0.9767886841422649, 'random_state': 501}. Best is trial 94 with value: 5.75034422411122.\u001b[0m\n"
     ]
    },
    {
     "name": "stderr",
     "output_type": "stream",
     "text": [
      "\u001b[32m[I 2022-10-23 16:10:43,480]\u001b[0m Trial 95 finished with value: 5.75798208096812 and parameters: {'max_depth': 10, 'learning_rate': 0.02532292123210496, 'n_estimators': 755, 'min_child_weight': 8, 'gamma': 0.14666929546634522, 'subsample': 0.7745406099024555, 'colsample_bytree': 0.7523175814443331, 'reg_alpha': 0.8946809174039531, 'reg_lambda': 0.9850478461990089, 'random_state': 415}. Best is trial 94 with value: 5.75034422411122.\u001b[0m\n",
      "\u001b[32m[I 2022-10-23 16:10:47,585]\u001b[0m Trial 96 finished with value: 5.758362557732116 and parameters: {'max_depth': 9, 'learning_rate': 0.028488194197952198, 'n_estimators': 752, 'min_child_weight': 8, 'gamma': 0.1485313040773671, 'subsample': 0.7874509779154346, 'colsample_bytree': 0.7228312899186731, 'reg_alpha': 0.914324326903792, 'reg_lambda': 0.8714187277612706, 'random_state': 411}. Best is trial 94 with value: 5.75034422411122.\u001b[0m\n",
      "\u001b[32m[I 2022-10-23 16:10:51,467]\u001b[0m Trial 97 finished with value: 5.772558643643048 and parameters: {'max_depth': 9, 'learning_rate': 0.028632655589305372, 'n_estimators': 675, 'min_child_weight': 9, 'gamma': 0.1591995784420182, 'subsample': 0.7771007499700585, 'colsample_bytree': 0.8283947351271356, 'reg_alpha': 0.9324723838466649, 'reg_lambda': 0.9815596195680423, 'random_state': 708}. Best is trial 94 with value: 5.75034422411122.\u001b[0m\n",
      "\u001b[32m[I 2022-10-23 16:10:55,388]\u001b[0m Trial 98 finished with value: 5.752582934043506 and parameters: {'max_depth': 9, 'learning_rate': 0.021495591003156005, 'n_estimators': 675, 'min_child_weight': 8, 'gamma': 0.28654249209205906, 'subsample': 0.7708891049931287, 'colsample_bytree': 0.8618176623610398, 'reg_alpha': 0.9335802972109787, 'reg_lambda': 0.9975502351817302, 'random_state': 412}. Best is trial 94 with value: 5.75034422411122.\u001b[0m\n",
      "\u001b[32m[I 2022-10-23 16:10:59,428]\u001b[0m Trial 99 finished with value: 5.753503547852273 and parameters: {'max_depth': 9, 'learning_rate': 0.026217351620336917, 'n_estimators': 686, 'min_child_weight': 8, 'gamma': 0.2617766772044599, 'subsample': 0.7634785066595792, 'colsample_bytree': 0.8703067456560867, 'reg_alpha': 0.9096559635534208, 'reg_lambda': 0.982702787299351, 'random_state': 372}. Best is trial 94 with value: 5.75034422411122.\u001b[0m\n"
     ]
    }
   ],
   "source": [
    "study_1.optimize(objective, n_trials=100)"
   ]
  },
  {
   "cell_type": "code",
   "execution_count": 18,
   "id": "639ece2c",
   "metadata": {},
   "outputs": [
    {
     "name": "stdout",
     "output_type": "stream",
     "text": [
      "Best parameters {'max_depth': 10, 'learning_rate': 0.03633792997692096, 'n_estimators': 760, 'min_child_weight': 8, 'gamma': 0.08093981268804826, 'subsample': 0.8802831792968163, 'colsample_bytree': 0.7329848886033581, 'reg_alpha': 0.7753568737639309, 'reg_lambda': 0.9767886841422649, 'random_state': 501}\n",
      "Best value 5.75034422411122\n"
     ]
    }
   ],
   "source": [
    "print('Best parameters', study_1.best_params)\n",
    "print('Best value', study_1.best_value)"
   ]
  },
  {
   "cell_type": "markdown",
   "id": "aa9641d6",
   "metadata": {},
   "source": [
    "## Random Forest"
   ]
  },
  {
   "cell_type": "markdown",
   "id": "d654f60f",
   "metadata": {},
   "source": [
    "L'entraînement d'un model de forêt aléatoire avec beaucoup d'estimateurs est extrêmement long donc nous n'allons pas faire d'optimisation des hyperparamètres."
   ]
  },
  {
   "cell_type": "code",
   "execution_count": 19,
   "id": "777cc624",
   "metadata": {},
   "outputs": [
    {
     "data": {
      "text/plain": [
       "125.41653020000001"
      ]
     },
     "execution_count": 19,
     "metadata": {},
     "output_type": "execute_result"
    }
   ],
   "source": [
    "start_time = timeit.default_timer()\n",
    "\n",
    "model = RandomForestRegressor(n_estimators=1000)\n",
    "model.fit(X_train_std, y_train)\n",
    "\n",
    "temps = timeit.default_timer() - start_time\n",
    "temps"
   ]
  },
  {
   "cell_type": "code",
   "execution_count": 20,
   "id": "249b0d2f",
   "metadata": {},
   "outputs": [
    {
     "data": {
      "text/plain": [
       "5.863059024572492"
      ]
     },
     "execution_count": 20,
     "metadata": {},
     "output_type": "execute_result"
    }
   ],
   "source": [
    "y_pred = model.predict(X_test_std)\n",
    "metrics.mean_absolute_error(y_test, y_pred)"
   ]
  },
  {
   "cell_type": "markdown",
   "id": "469574ff",
   "metadata": {},
   "source": [
    "On est très proche de notre meilleur model avec XGboost."
   ]
  },
  {
   "cell_type": "markdown",
   "id": "677d1925",
   "metadata": {},
   "source": [
    "# Train1 sans la variable 'groupe'"
   ]
  },
  {
   "cell_type": "code",
   "execution_count": 21,
   "id": "cab1b3c1",
   "metadata": {},
   "outputs": [],
   "source": [
    "X_train, X_test, y_train, y_test = train_test_split(X1_ss_grp, y, random_state=21, train_size=0.7, shuffle=True)"
   ]
  },
  {
   "cell_type": "code",
   "execution_count": 22,
   "id": "f7d8fdf6",
   "metadata": {},
   "outputs": [],
   "source": [
    "std = StandardScaler()\n",
    "\n",
    "std.fit(X_train)\n",
    "\n",
    "X_train_std = std.transform(X_train)\n",
    "X_test_std = std.transform(X_test)"
   ]
  },
  {
   "cell_type": "code",
   "execution_count": 23,
   "id": "e7a8a377",
   "metadata": {},
   "outputs": [
    {
     "name": "stderr",
     "output_type": "stream",
     "text": [
      "\u001b[32m[I 2022-10-23 16:13:06,333]\u001b[0m A new study created in memory with name: regression_1_ss_grp\u001b[0m\n"
     ]
    }
   ],
   "source": [
    "study_1_ss_grp = optuna.create_study(direction='minimize', study_name='regression_1_ss_grp')"
   ]
  },
  {
   "cell_type": "code",
   "execution_count": 24,
   "id": "2cb6d7fd",
   "metadata": {
    "scrolled": true
   },
   "outputs": [
    {
     "name": "stderr",
     "output_type": "stream",
     "text": [
      "\u001b[32m[I 2022-10-23 16:13:07,214]\u001b[0m Trial 0 finished with value: 1339.350559442574 and parameters: {'max_depth': 5, 'learning_rate': 0.7833064782560782, 'n_estimators': 594, 'min_child_weight': 6, 'gamma': 0.9696537180303367, 'subsample': 0.1602999804133418, 'colsample_bytree': 0.43868349099567644, 'reg_alpha': 0.2587340361776762, 'reg_lambda': 0.22736977141711145, 'random_state': 933}. Best is trial 0 with value: 1339.350559442574.\u001b[0m\n",
      "\u001b[32m[I 2022-10-23 16:13:08,186]\u001b[0m Trial 1 finished with value: 6.002567751255495 and parameters: {'max_depth': 6, 'learning_rate': 0.170130683092477, 'n_estimators': 444, 'min_child_weight': 3, 'gamma': 0.27232285148470803, 'subsample': 0.9517327229058622, 'colsample_bytree': 0.809377758612812, 'reg_alpha': 0.8736726865468698, 'reg_lambda': 0.6875517363943928, 'random_state': 303}. Best is trial 1 with value: 6.002567751255495.\u001b[0m\n",
      "\u001b[32m[I 2022-10-23 16:13:08,835]\u001b[0m Trial 2 finished with value: 6.897466516078134 and parameters: {'max_depth': 2, 'learning_rate': 0.9661357980693384, 'n_estimators': 636, 'min_child_weight': 1, 'gamma': 0.03301051900810838, 'subsample': 0.891146572069851, 'colsample_bytree': 0.49668397871659253, 'reg_alpha': 0.5547148181212572, 'reg_lambda': 0.1178086326794903, 'random_state': 693}. Best is trial 1 with value: 6.002567751255495.\u001b[0m\n",
      "\u001b[32m[I 2022-10-23 16:13:09,284]\u001b[0m Trial 3 finished with value: 7.313623734154271 and parameters: {'max_depth': 2, 'learning_rate': 0.879615306598219, 'n_estimators': 416, 'min_child_weight': 6, 'gamma': 0.6582405946061763, 'subsample': 0.3656507523677615, 'colsample_bytree': 0.31188561815707105, 'reg_alpha': 0.1874098488442234, 'reg_lambda': 0.747141998168077, 'random_state': 279}. Best is trial 1 with value: 6.002567751255495.\u001b[0m\n",
      "\u001b[32m[I 2022-10-23 16:13:09,446]\u001b[0m Trial 4 finished with value: 6.508025486153018 and parameters: {'max_depth': 4, 'learning_rate': 0.3812520737828427, 'n_estimators': 93, 'min_child_weight': 10, 'gamma': 0.9012783003159023, 'subsample': 0.4298234578800553, 'colsample_bytree': 0.6179438122360723, 'reg_alpha': 0.6135458056381655, 'reg_lambda': 0.5563495365933642, 'random_state': 933}. Best is trial 1 with value: 6.002567751255495.\u001b[0m\n",
      "\u001b[32m[I 2022-10-23 16:13:11,340]\u001b[0m Trial 5 finished with value: 6.151279122532125 and parameters: {'max_depth': 7, 'learning_rate': 0.17785940248806198, 'n_estimators': 676, 'min_child_weight': 10, 'gamma': 0.6019135183306732, 'subsample': 0.6573857246506091, 'colsample_bytree': 0.9712235039147379, 'reg_alpha': 0.0204889577854201, 'reg_lambda': 0.9591815593713031, 'random_state': 356}. Best is trial 1 with value: 6.002567751255495.\u001b[0m\n",
      "\u001b[32m[I 2022-10-23 16:13:12,565]\u001b[0m Trial 6 finished with value: 7.948607924857529 and parameters: {'max_depth': 7, 'learning_rate': 0.198404601785927, 'n_estimators': 927, 'min_child_weight': 2, 'gamma': 0.2927788608383937, 'subsample': 0.0789848771069738, 'colsample_bytree': 0.0822371556338152, 'reg_alpha': 0.8691713357968887, 'reg_lambda': 0.20991319461297664, 'random_state': 209}. Best is trial 1 with value: 6.002567751255495.\u001b[0m\n",
      "\u001b[32m[I 2022-10-23 16:13:12,740]\u001b[0m Trial 7 finished with value: 7.286317166607941 and parameters: {'max_depth': 2, 'learning_rate': 0.04415090506442613, 'n_estimators': 194, 'min_child_weight': 6, 'gamma': 0.7138402926720853, 'subsample': 0.038248011424759185, 'colsample_bytree': 0.21768465513465518, 'reg_alpha': 0.571114496099431, 'reg_lambda': 0.28016027146816036, 'random_state': 97}. Best is trial 1 with value: 6.002567751255495.\u001b[0m\n",
      "\u001b[32m[I 2022-10-23 16:13:13,271]\u001b[0m Trial 8 finished with value: 6.721486695026764 and parameters: {'max_depth': 2, 'learning_rate': 0.554521224045379, 'n_estimators': 560, 'min_child_weight': 5, 'gamma': 0.48947127373298194, 'subsample': 0.9256837820637533, 'colsample_bytree': 0.110722029039578, 'reg_alpha': 0.11717785017733805, 'reg_lambda': 0.8752879479703062, 'random_state': 830}. Best is trial 1 with value: 6.002567751255495.\u001b[0m\n",
      "\u001b[32m[I 2022-10-23 16:13:13,880]\u001b[0m Trial 9 finished with value: 7.096711955728246 and parameters: {'max_depth': 2, 'learning_rate': 0.6528945638159217, 'n_estimators': 562, 'min_child_weight': 5, 'gamma': 0.7020734325746473, 'subsample': 0.4196881418251721, 'colsample_bytree': 0.13277240075679853, 'reg_alpha': 0.20884970781597761, 'reg_lambda': 0.41914453727441714, 'random_state': 812}. Best is trial 1 with value: 6.002567751255495.\u001b[0m\n",
      "\u001b[32m[I 2022-10-23 16:13:15,327]\u001b[0m Trial 10 finished with value: 6.751375716080387 and parameters: {'max_depth': 10, 'learning_rate': 0.37431567548270733, 'n_estimators': 327, 'min_child_weight': 3, 'gamma': 0.18030049404448778, 'subsample': 0.6992996552421672, 'colsample_bytree': 0.8230631326793437, 'reg_alpha': 0.9451574317941831, 'reg_lambda': 0.6424085408301808, 'random_state': 519}. Best is trial 1 with value: 6.002567751255495.\u001b[0m\n",
      "\u001b[32m[I 2022-10-23 16:13:18,038]\u001b[0m Trial 11 finished with value: 5.76308502387142 and parameters: {'max_depth': 8, 'learning_rate': 0.027812674405748444, 'n_estimators': 835, 'min_child_weight': 10, 'gamma': 0.3838264776157927, 'subsample': 0.6914794317839473, 'colsample_bytree': 0.9819519583022804, 'reg_alpha': 0.7772113370133056, 'reg_lambda': 0.9842837159280831, 'random_state': 406}. Best is trial 11 with value: 5.76308502387142.\u001b[0m\n",
      "\u001b[32m[I 2022-10-23 16:13:21,467]\u001b[0m Trial 12 finished with value: 5.746154762532681 and parameters: {'max_depth': 9, 'learning_rate': 0.017254677017489256, 'n_estimators': 887, 'min_child_weight': 8, 'gamma': 0.36204475158855176, 'subsample': 0.7549530625223935, 'colsample_bytree': 0.9983655797668146, 'reg_alpha': 0.7782095417542892, 'reg_lambda': 0.7802739159749384, 'random_state': 476}. Best is trial 12 with value: 5.746154762532681.\u001b[0m\n",
      "\u001b[32m[I 2022-10-23 16:13:25,790]\u001b[0m Trial 13 finished with value: 5.853170182397513 and parameters: {'max_depth': 10, 'learning_rate': 0.062171235308033646, 'n_estimators': 988, 'min_child_weight': 8, 'gamma': 0.43219622538368163, 'subsample': 0.6995826104200075, 'colsample_bytree': 0.9637260282961961, 'reg_alpha': 0.7813110099459151, 'reg_lambda': 0.8535269831403722, 'random_state': 527}. Best is trial 12 with value: 5.746154762532681.\u001b[0m\n",
      "\u001b[32m[I 2022-10-23 16:13:28,287]\u001b[0m Trial 14 finished with value: 6.750889910242688 and parameters: {'max_depth': 8, 'learning_rate': 0.3311362500135312, 'n_estimators': 782, 'min_child_weight': 8, 'gamma': 0.4097998116974557, 'subsample': 0.5835911331021534, 'colsample_bytree': 0.7036476984651829, 'reg_alpha': 0.7194946612721353, 'reg_lambda': 0.9818882910176455, 'random_state': 425}. Best is trial 12 with value: 5.746154762532681.\u001b[0m\n",
      "\u001b[32m[I 2022-10-23 16:13:31,132]\u001b[0m Trial 15 finished with value: 5.759360113540338 and parameters: {'max_depth': 9, 'learning_rate': 0.023225915272108433, 'n_estimators': 790, 'min_child_weight': 8, 'gamma': 0.11205564088758502, 'subsample': 0.8155579913272745, 'colsample_bytree': 0.8494213098428955, 'reg_alpha': 0.3733571226137482, 'reg_lambda': 0.8049788711339498, 'random_state': 608}. Best is trial 12 with value: 5.746154762532681.\u001b[0m\n",
      "\u001b[32m[I 2022-10-23 16:13:33,742]\u001b[0m Trial 16 finished with value: 6.3576413661864875 and parameters: {'max_depth': 9, 'learning_rate': 0.2716501460900941, 'n_estimators': 775, 'min_child_weight': 8, 'gamma': 0.010430771501635835, 'subsample': 0.8089290085432428, 'colsample_bytree': 0.7738595799730081, 'reg_alpha': 0.3699450768487509, 'reg_lambda': 0.464643894960871, 'random_state': 639}. Best is trial 12 with value: 5.746154762532681.\u001b[0m\n",
      "\u001b[32m[I 2022-10-23 16:13:36,553]\u001b[0m Trial 17 finished with value: 7.115354640375915 and parameters: {'max_depth': 9, 'learning_rate': 0.5324947732422238, 'n_estimators': 880, 'min_child_weight': 8, 'gamma': 0.17209828127474835, 'subsample': 0.8005791413963074, 'colsample_bytree': 0.6273885404610442, 'reg_alpha': 0.4156266232648194, 'reg_lambda': 0.8144478404298908, 'random_state': 601}. Best is trial 12 with value: 5.746154762532681.\u001b[0m\n",
      "\u001b[32m[I 2022-10-23 16:13:37,841]\u001b[0m Trial 18 finished with value: 6.071070296479686 and parameters: {'max_depth': 4, 'learning_rate': 0.13023913864841674, 'n_estimators': 708, 'min_child_weight': 7, 'gamma': 0.13320553405838742, 'subsample': 0.5450475683977661, 'colsample_bytree': 0.890765078947402, 'reg_alpha': 0.4278822913612196, 'reg_lambda': 0.5808944283652908, 'random_state': 777}. Best is trial 12 with value: 5.746154762532681.\u001b[0m\n"
     ]
    },
    {
     "name": "stderr",
     "output_type": "stream",
     "text": [
      "\u001b[32m[I 2022-10-23 16:13:41,036]\u001b[0m Trial 19 finished with value: 6.808928348338253 and parameters: {'max_depth': 9, 'learning_rate': 0.43482135533087696, 'n_estimators': 1000, 'min_child_weight': 9, 'gamma': 0.26791474727760406, 'subsample': 0.7904822485356162, 'colsample_bytree': 0.6422562858028107, 'reg_alpha': 0.33985574806395197, 'reg_lambda': 0.7574577862560833, 'random_state': 41}. Best is trial 12 with value: 5.746154762532681.\u001b[0m\n",
      "\u001b[32m[I 2022-10-23 16:13:42,914]\u001b[0m Trial 20 finished with value: 6.220685990222207 and parameters: {'max_depth': 7, 'learning_rate': 0.26178777012068755, 'n_estimators': 735, 'min_child_weight': 7, 'gamma': 0.09310379022766285, 'subsample': 0.9940177311999638, 'colsample_bytree': 0.8805110654850373, 'reg_alpha': 0.6517877085829071, 'reg_lambda': 0.6611821652182548, 'random_state': 703}. Best is trial 12 with value: 5.746154762532681.\u001b[0m\n",
      "\u001b[32m[I 2022-10-23 16:13:45,763]\u001b[0m Trial 21 finished with value: 5.816236545410238 and parameters: {'max_depth': 8, 'learning_rate': 0.014989759659772874, 'n_estimators': 853, 'min_child_weight': 9, 'gamma': 0.3543130524050714, 'subsample': 0.6194126254601686, 'colsample_bytree': 0.9964447112467187, 'reg_alpha': 0.48412496023249985, 'reg_lambda': 0.996160584700776, 'random_state': 419}. Best is trial 12 with value: 5.746154762532681.\u001b[0m\n",
      "\u001b[32m[I 2022-10-23 16:13:48,344]\u001b[0m Trial 22 finished with value: 5.96828229266372 and parameters: {'max_depth': 8, 'learning_rate': 0.10472846187466639, 'n_estimators': 816, 'min_child_weight': 10, 'gamma': 0.5933810412882823, 'subsample': 0.7545858341527708, 'colsample_bytree': 0.8722540397911528, 'reg_alpha': 0.7377893445393917, 'reg_lambda': 0.9005368054964566, 'random_state': 476}. Best is trial 12 with value: 5.746154762532681.\u001b[0m\n",
      "\u001b[32m[I 2022-10-23 16:13:51,942]\u001b[0m Trial 23 finished with value: 5.755293725690168 and parameters: {'max_depth': 10, 'learning_rate': 0.021772626438220644, 'n_estimators': 892, 'min_child_weight': 9, 'gamma': 0.34322715162824047, 'subsample': 0.85962728305384, 'colsample_bytree': 0.7226003988598233, 'reg_alpha': 0.9529942156196016, 'reg_lambda': 0.8139968428128245, 'random_state': 592}. Best is trial 12 with value: 5.746154762532681.\u001b[0m\n",
      "\u001b[32m[I 2022-10-23 16:13:55,338]\u001b[0m Trial 24 finished with value: 6.214338946475028 and parameters: {'max_depth': 10, 'learning_rate': 0.2534730881964917, 'n_estimators': 921, 'min_child_weight': 9, 'gamma': 0.22026438206941357, 'subsample': 0.8692213157982348, 'colsample_bytree': 0.739227546281076, 'reg_alpha': 0.9663213620098317, 'reg_lambda': 0.7649417596124688, 'random_state': 585}. Best is trial 12 with value: 5.746154762532681.\u001b[0m\n",
      "\u001b[32m[I 2022-10-23 16:13:58,549]\u001b[0m Trial 25 finished with value: 5.979943774887137 and parameters: {'max_depth': 9, 'learning_rate': 0.12280282163510975, 'n_estimators': 922, 'min_child_weight': 7, 'gamma': 0.5019860366602906, 'subsample': 0.8519235752921998, 'colsample_bytree': 0.6699553245046618, 'reg_alpha': 0.9949834094697153, 'reg_lambda': 0.36525956205577037, 'random_state': 686}. Best is trial 12 with value: 5.746154762532681.\u001b[0m\n",
      "\u001b[32m[I 2022-10-23 16:14:00,954]\u001b[0m Trial 26 finished with value: 5.88041095450848 and parameters: {'max_depth': 10, 'learning_rate': 0.014628104000734221, 'n_estimators': 723, 'min_child_weight': 9, 'gamma': 0.08612664816537016, 'subsample': 0.27807385259080886, 'colsample_bytree': 0.5525042670469006, 'reg_alpha': 0.8582836440238469, 'reg_lambda': 0.5653051067950685, 'random_state': 575}. Best is trial 12 with value: 5.746154762532681.\u001b[0m\n",
      "\u001b[32m[I 2022-10-23 16:14:02,410]\u001b[0m Trial 27 finished with value: 7.030527931235599 and parameters: {'max_depth': 6, 'learning_rate': 0.6346626254362757, 'n_estimators': 654, 'min_child_weight': 7, 'gamma': 0.3267892524237488, 'subsample': 0.9983370261449107, 'colsample_bytree': 0.8798302383390911, 'reg_alpha': 0.9078084062323668, 'reg_lambda': 0.788373694092902, 'random_state': 734}. Best is trial 12 with value: 5.746154762532681.\u001b[0m\n",
      "\u001b[32m[I 2022-10-23 16:14:04,295]\u001b[0m Trial 28 finished with value: 5.908410685334473 and parameters: {'max_depth': 9, 'learning_rate': 0.09935433540646799, 'n_estimators': 485, 'min_child_weight': 4, 'gamma': 0.22850032652053665, 'subsample': 0.7434455740300615, 'colsample_bytree': 0.7645569149725434, 'reg_alpha': 0.6735776983160183, 'reg_lambda': 0.7025522556261168, 'random_state': 491}. Best is trial 12 with value: 5.746154762532681.\u001b[0m\n",
      "\u001b[32m[I 2022-10-23 16:14:05,796]\u001b[0m Trial 29 finished with value: 6.16715774207889 and parameters: {'max_depth': 5, 'learning_rate': 0.21660508001731604, 'n_estimators': 877, 'min_child_weight': 8, 'gamma': 0.8240809599296055, 'subsample': 0.8632037466262046, 'colsample_bytree': 0.39961677715697064, 'reg_alpha': 0.30307634491482166, 'reg_lambda': 0.9040017700556018, 'random_state': 860}. Best is trial 12 with value: 5.746154762532681.\u001b[0m\n",
      "\u001b[32m[I 2022-10-23 16:14:08,923]\u001b[0m Trial 30 finished with value: 10.952065788720347 and parameters: {'max_depth': 10, 'learning_rate': 0.7579764010800187, 'n_estimators': 774, 'min_child_weight': 9, 'gamma': 0.5660059701998815, 'subsample': 0.49611958335815676, 'colsample_bytree': 0.9229804695468458, 'reg_alpha': 0.8270520414103235, 'reg_lambda': 0.6259121741973996, 'random_state': 972}. Best is trial 12 with value: 5.746154762532681.\u001b[0m\n",
      "\u001b[32m[I 2022-10-23 16:14:11,800]\u001b[0m Trial 31 finished with value: 5.885005155921393 and parameters: {'max_depth': 8, 'learning_rate': 0.06871224362502316, 'n_estimators': 831, 'min_child_weight': 10, 'gamma': 0.3860588522784946, 'subsample': 0.6706431169823528, 'colsample_bytree': 0.9384453805205063, 'reg_alpha': 0.7998787694947591, 'reg_lambda': 0.9336619627016389, 'random_state': 394}. Best is trial 12 with value: 5.746154762532681.\u001b[0m\n",
      "\u001b[32m[I 2022-10-23 16:14:15,686]\u001b[0m Trial 32 finished with value: 6.047825692701757 and parameters: {'max_depth': 9, 'learning_rate': 0.14856989931992895, 'n_estimators': 949, 'min_child_weight': 10, 'gamma': 0.44854396928910467, 'subsample': 0.7459390637979476, 'colsample_bytree': 0.8302760283003519, 'reg_alpha': 0.7466318239229538, 'reg_lambda': 0.8365958762108237, 'random_state': 299}. Best is trial 12 with value: 5.746154762532681.\u001b[0m\n",
      "\u001b[32m[I 2022-10-23 16:14:18,574]\u001b[0m Trial 33 finished with value: 5.800473500484823 and parameters: {'max_depth': 8, 'learning_rate': 0.01661824367987519, 'n_estimators': 880, 'min_child_weight': 9, 'gamma': 0.3213920943158154, 'subsample': 0.9163999696637126, 'colsample_bytree': 0.9898160735925629, 'reg_alpha': 0.488385687947092, 'reg_lambda': 0.6974997782164458, 'random_state': 212}. Best is trial 12 with value: 5.746154762532681.\u001b[0m\n",
      "\u001b[32m[I 2022-10-23 16:14:20,447]\u001b[0m Trial 34 finished with value: 6.1965765444791145 and parameters: {'max_depth': 7, 'learning_rate': 0.16667136779792832, 'n_estimators': 624, 'min_child_weight': 8, 'gamma': 0.2524041817252957, 'subsample': 0.6183884335376643, 'colsample_bytree': 0.7969294574691183, 'reg_alpha': 0.5465689204756282, 'reg_lambda': 0.8331693036871326, 'random_state': 654}. Best is trial 12 with value: 5.746154762532681.\u001b[0m\n",
      "\u001b[32m[I 2022-10-23 16:14:22,447]\u001b[0m Trial 35 finished with value: 5.893957504533035 and parameters: {'max_depth': 6, 'learning_rate': 0.09020098217353904, 'n_estimators': 827, 'min_child_weight': 6, 'gamma': 0.5427311500408236, 'subsample': 0.8122677615888981, 'colsample_bytree': 0.8409656596405638, 'reg_alpha': 0.691789493847879, 'reg_lambda': 0.9213504358312401, 'random_state': 464}. Best is trial 12 with value: 5.746154762532681.\u001b[0m\n",
      "\u001b[32m[I 2022-10-23 16:14:26,369]\u001b[0m Trial 36 finished with value: 6.013007115623387 and parameters: {'max_depth': 10, 'learning_rate': 0.07150818245507812, 'n_estimators': 957, 'min_child_weight': 10, 'gamma': 0.36512220243566224, 'subsample': 0.5127509968927682, 'colsample_bytree': 0.5709454700451321, 'reg_alpha': 0.9323051349209925, 'reg_lambda': 0.7467306826361131, 'random_state': 349}. Best is trial 12 with value: 5.746154762532681.\u001b[0m\n",
      "\u001b[32m[I 2022-10-23 16:14:28,771]\u001b[0m Trial 37 finished with value: 6.3958231079348 and parameters: {'max_depth': 9, 'learning_rate': 0.3065128424119436, 'n_estimators': 772, 'min_child_weight': 9, 'gamma': 0.10207319128767849, 'subsample': 0.9507459758575859, 'colsample_bytree': 0.45071703242564504, 'reg_alpha': 0.6247620186972376, 'reg_lambda': 0.5170085326867842, 'random_state': 255}. Best is trial 12 with value: 5.746154762532681.\u001b[0m\n"
     ]
    },
    {
     "name": "stderr",
     "output_type": "stream",
     "text": [
      "\u001b[32m[I 2022-10-23 16:14:29,917]\u001b[0m Trial 38 finished with value: 10.26537452063486 and parameters: {'max_depth': 8, 'learning_rate': 0.9963674186395743, 'n_estimators': 342, 'min_child_weight': 7, 'gamma': 0.44580590035094086, 'subsample': 0.7211445199802013, 'colsample_bytree': 0.7268615666277938, 'reg_alpha': 0.8965954791749264, 'reg_lambda': 0.051142473425167756, 'random_state': 537}. Best is trial 12 with value: 5.746154762532681.\u001b[0m\n",
      "\u001b[32m[I 2022-10-23 16:14:31,698]\u001b[0m Trial 39 finished with value: 7.011772903500962 and parameters: {'max_depth': 7, 'learning_rate': 0.19726183543885883, 'n_estimators': 696, 'min_child_weight': 10, 'gamma': 0.1740105128652598, 'subsample': 0.24753567851169278, 'colsample_bytree': 0.9269521074572541, 'reg_alpha': 0.8342165951742553, 'reg_lambda': 0.8733665452704716, 'random_state': 352}. Best is trial 12 with value: 5.746154762532681.\u001b[0m\n",
      "\u001b[32m[I 2022-10-23 16:14:32,635]\u001b[0m Trial 40 finished with value: 7.596806055185875 and parameters: {'max_depth': 3, 'learning_rate': 0.8585984972332767, 'n_estimators': 620, 'min_child_weight': 6, 'gamma': 0.6330223092126506, 'subsample': 0.6426355397823768, 'colsample_bytree': 0.9348036119953633, 'reg_alpha': 0.5800378619840187, 'reg_lambda': 0.7081242010773026, 'random_state': 619}. Best is trial 12 with value: 5.746154762532681.\u001b[0m\n",
      "\u001b[32m[I 2022-10-23 16:14:35,531]\u001b[0m Trial 41 finished with value: 5.8207220839040135 and parameters: {'max_depth': 8, 'learning_rate': 0.011882522615509575, 'n_estimators': 895, 'min_child_weight': 9, 'gamma': 0.3378571447679263, 'subsample': 0.911416386317043, 'colsample_bytree': 0.9905949049929056, 'reg_alpha': 0.44494604178247527, 'reg_lambda': 0.7102275428257383, 'random_state': 115}. Best is trial 12 with value: 5.746154762532681.\u001b[0m\n",
      "\u001b[32m[I 2022-10-23 16:14:36,355]\u001b[0m Trial 42 finished with value: 7.620675923491648 and parameters: {'max_depth': 1, 'learning_rate': 0.05553719636433614, 'n_estimators': 867, 'min_child_weight': 9, 'gamma': 0.29996370036007847, 'subsample': 0.9089299812464742, 'colsample_bytree': 0.9998084542640352, 'reg_alpha': 0.5181229169992982, 'reg_lambda': 0.8093973105476997, 'random_state': 209}. Best is trial 12 with value: 5.746154762532681.\u001b[0m\n",
      "\u001b[32m[I 2022-10-23 16:14:40,150]\u001b[0m Trial 43 finished with value: 5.7513237520661775 and parameters: {'max_depth': 9, 'learning_rate': 0.011708567346347266, 'n_estimators': 967, 'min_child_weight': 8, 'gamma': 0.47708008985558326, 'subsample': 0.8351888610801739, 'colsample_bytree': 0.9077921427854146, 'reg_alpha': 0.23835433801014744, 'reg_lambda': 0.9493395216258563, 'random_state': 552}. Best is trial 12 with value: 5.746154762532681.\u001b[0m\n",
      "\u001b[32m[I 2022-10-23 16:14:43,995]\u001b[0m Trial 44 finished with value: 6.001840855793123 and parameters: {'max_depth': 10, 'learning_rate': 0.14074830861357362, 'n_estimators': 955, 'min_child_weight': 8, 'gamma': 0.48843614405386004, 'subsample': 0.8412169744243331, 'colsample_bytree': 0.8507680837130043, 'reg_alpha': 0.13013364227764362, 'reg_lambda': 0.9594315989322975, 'random_state': 556}. Best is trial 12 with value: 5.746154762532681.\u001b[0m\n",
      "\u001b[32m[I 2022-10-23 16:14:48,389]\u001b[0m Trial 45 finished with value: 5.8248361414312715 and parameters: {'max_depth': 9, 'learning_rate': 0.054783896227240385, 'n_estimators': 992, 'min_child_weight': 1, 'gamma': 0.9759517935652857, 'subsample': 0.792036736437643, 'colsample_bytree': 0.9098008246588754, 'reg_alpha': 0.22422224952644773, 'reg_lambda': 0.9993479124921028, 'random_state': 447}. Best is trial 12 with value: 5.746154762532681.\u001b[0m\n",
      "\u001b[32m[I 2022-10-23 16:14:51,757]\u001b[0m Trial 46 finished with value: 6.191499067735255 and parameters: {'max_depth': 10, 'learning_rate': 0.21818244356041783, 'n_estimators': 806, 'min_child_weight': 8, 'gamma': 0.39203753341066594, 'subsample': 0.6815986425396482, 'colsample_bytree': 0.8018511447550544, 'reg_alpha': 0.258564466800335, 'reg_lambda': 0.9460233070549412, 'random_state': 399}. Best is trial 12 with value: 5.746154762532681.\u001b[0m\n",
      "\u001b[32m[I 2022-10-23 16:14:54,647]\u001b[0m Trial 47 finished with value: 6.297792070998317 and parameters: {'max_depth': 9, 'learning_rate': 0.17333926428936175, 'n_estimators': 910, 'min_child_weight': 5, 'gamma': 0.5333635498878496, 'subsample': 0.7599732797945195, 'colsample_bytree': 0.3156410787277613, 'reg_alpha': 0.08128275960247072, 'reg_lambda': 0.8831459687883436, 'random_state': 506}. Best is trial 12 with value: 5.746154762532681.\u001b[0m\n",
      "\u001b[32m[I 2022-10-23 16:14:57,434]\u001b[0m Trial 48 finished with value: 7.474370064102912 and parameters: {'max_depth': 9, 'learning_rate': 0.4743302345007619, 'n_estimators': 751, 'min_child_weight': 7, 'gamma': 0.45761439284459104, 'subsample': 0.5767998720829588, 'colsample_bytree': 0.6956450010839692, 'reg_alpha': 0.34355494279710364, 'reg_lambda': 0.8566330307264428, 'random_state': 665}. Best is trial 12 with value: 5.746154762532681.\u001b[0m\n",
      "\u001b[32m[I 2022-10-23 16:14:58,358]\u001b[0m Trial 49 finished with value: 5.846871339274299 and parameters: {'max_depth': 10, 'learning_rate': 0.10449969245124953, 'n_estimators': 221, 'min_child_weight': 10, 'gamma': 0.7238734952247425, 'subsample': 0.9613889814347765, 'colsample_bytree': 0.9534773594213048, 'reg_alpha': 0.18195129835182758, 'reg_lambda': 0.7853822907709291, 'random_state': 729}. Best is trial 12 with value: 5.746154762532681.\u001b[0m\n",
      "\u001b[32m[I 2022-10-23 16:15:00,699]\u001b[0m Trial 50 finished with value: 5.84028293411663 and parameters: {'max_depth': 7, 'learning_rate': 0.05425382159719249, 'n_estimators': 844, 'min_child_weight': 8, 'gamma': 0.22762358915777686, 'subsample': 0.846004545625486, 'colsample_bytree': 0.777884139503088, 'reg_alpha': 0.39064096295730855, 'reg_lambda': 0.6019824561638949, 'random_state': 615}. Best is trial 12 with value: 5.746154762532681.\u001b[0m\n",
      "\u001b[32m[I 2022-10-23 16:15:03,797]\u001b[0m Trial 51 finished with value: 5.786585589947447 and parameters: {'max_depth': 8, 'learning_rate': 0.017083038866752775, 'n_estimators': 962, 'min_child_weight': 9, 'gamma': 0.4271759381872376, 'subsample': 0.8937758318553028, 'colsample_bytree': 0.9589708713510716, 'reg_alpha': 0.48985559107061066, 'reg_lambda': 0.7369850788813598, 'random_state': 559}. Best is trial 12 with value: 5.746154762532681.\u001b[0m\n",
      "\u001b[32m[I 2022-10-23 16:15:07,118]\u001b[0m Trial 52 finished with value: 5.795908689966018 and parameters: {'max_depth': 8, 'learning_rate': 0.04704118585688115, 'n_estimators': 964, 'min_child_weight': 8, 'gamma': 0.4227600661606568, 'subsample': 0.8787565402948257, 'colsample_bytree': 0.9550161353073303, 'reg_alpha': 0.2989004387983974, 'reg_lambda': 0.9362043797798194, 'random_state': 544}. Best is trial 12 with value: 5.746154762532681.\u001b[0m\n",
      "\u001b[32m[I 2022-10-23 16:15:10,107]\u001b[0m Trial 53 finished with value: 6.0406642595169435 and parameters: {'max_depth': 8, 'learning_rate': 0.12128629687844268, 'n_estimators': 916, 'min_child_weight': 10, 'gamma': 0.2848051311368875, 'subsample': 0.8224847237585527, 'colsample_bytree': 0.8917639206290187, 'reg_alpha': 0.4509924339304373, 'reg_lambda': 0.7412578166204824, 'random_state': 492}. Best is trial 12 with value: 5.746154762532681.\u001b[0m\n",
      "\u001b[32m[I 2022-10-23 16:15:13,153]\u001b[0m Trial 54 finished with value: 5.888560157040613 and parameters: {'max_depth': 9, 'learning_rate': 0.08625293505335145, 'n_estimators': 800, 'min_child_weight': 9, 'gamma': 0.47347518609877715, 'subsample': 0.777160593517693, 'colsample_bytree': 0.8518867297742414, 'reg_alpha': 0.7846740464328205, 'reg_lambda': 0.8236856469397533, 'random_state': 566}. Best is trial 12 with value: 5.746154762532681.\u001b[0m\n",
      "\u001b[32m[I 2022-10-23 16:15:14,951]\u001b[0m Trial 55 finished with value: 7.749968858152777 and parameters: {'max_depth': 9, 'learning_rate': 0.015784448063611265, 'n_estimators': 998, 'min_child_weight': 7, 'gamma': 0.39284376732903176, 'subsample': 0.9547271790534492, 'colsample_bytree': 0.015025625971335499, 'reg_alpha': 0.5902661280178226, 'reg_lambda': 0.6673397676717291, 'random_state': 430}. Best is trial 12 with value: 5.746154762532681.\u001b[0m\n",
      "\u001b[32m[I 2022-10-23 16:15:18,971]\u001b[0m Trial 56 finished with value: 6.032107273623967 and parameters: {'max_depth': 10, 'learning_rate': 0.1498970093535201, 'n_estimators': 944, 'min_child_weight': 9, 'gamma': 0.05815751325761849, 'subsample': 0.7085764727915043, 'colsample_bytree': 0.9559910541149393, 'reg_alpha': 0.9995033682122803, 'reg_lambda': 0.8897945058650674, 'random_state': 382}. Best is trial 12 with value: 5.746154762532681.\u001b[0m\n"
     ]
    },
    {
     "name": "stderr",
     "output_type": "stream",
     "text": [
      "\u001b[32m[I 2022-10-23 16:15:20,559]\u001b[0m Trial 57 finished with value: 5.846044202213221 and parameters: {'max_depth': 7, 'learning_rate': 0.04132418379277798, 'n_estimators': 577, 'min_child_weight': 10, 'gamma': 0.5218838417253722, 'subsample': 0.8902456070081148, 'colsample_bytree': 0.9010984823294279, 'reg_alpha': 0.5417888681114791, 'reg_lambda': 0.9774631854041426, 'random_state': 609}. Best is trial 12 with value: 5.746154762532681.\u001b[0m\n",
      "\u001b[32m[I 2022-10-23 16:15:23,831]\u001b[0m Trial 58 finished with value: 5.9687898632329315 and parameters: {'max_depth': 9, 'learning_rate': 0.09532798886019316, 'n_estimators': 851, 'min_child_weight': 8, 'gamma': 0.1401188949844498, 'subsample': 0.7222256018003642, 'colsample_bytree': 0.8587848447335401, 'reg_alpha': 0.3870530291362316, 'reg_lambda': 0.7988350686854319, 'random_state': 763}. Best is trial 12 with value: 5.746154762532681.\u001b[0m\n",
      "\u001b[32m[I 2022-10-23 16:15:26,562]\u001b[0m Trial 59 finished with value: 6.650998695975484 and parameters: {'max_depth': 8, 'learning_rate': 0.3729858792295113, 'n_estimators': 895, 'min_child_weight': 9, 'gamma': 0.3567474180703607, 'subsample': 0.8251371373048827, 'colsample_bytree': 0.7517076075763183, 'reg_alpha': 0.63757292704599, 'reg_lambda': 0.3566950775140049, 'random_state': 519}. Best is trial 12 with value: 5.746154762532681.\u001b[0m\n",
      "\u001b[32m[I 2022-10-23 16:15:28,232]\u001b[0m Trial 60 finished with value: 6.220889421553407 and parameters: {'max_depth': 6, 'learning_rate': 0.23757189929717862, 'n_estimators': 673, 'min_child_weight': 7, 'gamma': 0.5799204202138548, 'subsample': 0.7762434620657704, 'colsample_bytree': 0.8159239367853153, 'reg_alpha': 0.7178648893064304, 'reg_lambda': 0.2390567219549367, 'random_state': 689}. Best is trial 12 with value: 5.746154762532681.\u001b[0m\n",
      "\u001b[32m[I 2022-10-23 16:15:31,434]\u001b[0m Trial 61 finished with value: 5.761251994419072 and parameters: {'max_depth': 8, 'learning_rate': 0.03794940010475228, 'n_estimators': 984, 'min_child_weight': 8, 'gamma': 0.42657808982383205, 'subsample': 0.8786656958663893, 'colsample_bytree': 0.9612266262889881, 'reg_alpha': 0.3001167638954922, 'reg_lambda': 0.9252098005325551, 'random_state': 539}. Best is trial 12 with value: 5.746154762532681.\u001b[0m\n",
      "\u001b[32m[I 2022-10-23 16:15:34,637]\u001b[0m Trial 62 finished with value: 5.790367300434027 and parameters: {'max_depth': 8, 'learning_rate': 0.034983174870865996, 'n_estimators': 967, 'min_child_weight': 8, 'gamma': 0.41882907094434524, 'subsample': 0.8781710515411076, 'colsample_bytree': 0.970105867658384, 'reg_alpha': 0.2963140954021246, 'reg_lambda': 0.9153871635888409, 'random_state': 584}. Best is trial 12 with value: 5.746154762532681.\u001b[0m\n",
      "\u001b[32m[I 2022-10-23 16:15:38,442]\u001b[0m Trial 63 finished with value: 5.846749047877013 and parameters: {'max_depth': 10, 'learning_rate': 0.07700314828001248, 'n_estimators': 930, 'min_child_weight': 9, 'gamma': 0.3053566371005114, 'subsample': 0.9368051696793005, 'colsample_bytree': 0.9219477846363026, 'reg_alpha': 0.26720428344065056, 'reg_lambda': 0.8642716977345724, 'random_state': 464}. Best is trial 12 with value: 5.746154762532681.\u001b[0m\n",
      "\u001b[32m[I 2022-10-23 16:15:40,929]\u001b[0m Trial 64 finished with value: 5.976711732229607 and parameters: {'max_depth': 7, 'learning_rate': 0.12627966741389446, 'n_estimators': 871, 'min_child_weight': 8, 'gamma': 0.48166425581955086, 'subsample': 0.8492076950707099, 'colsample_bytree': 0.8958523686647804, 'reg_alpha': 0.15159917680958368, 'reg_lambda': 0.9632768018198093, 'random_state': 647}. Best is trial 12 with value: 5.746154762532681.\u001b[0m\n",
      "\u001b[32m[I 2022-10-23 16:15:41,324]\u001b[0m Trial 65 finished with value: 14.916091152218431 and parameters: {'max_depth': 9, 'learning_rate': 0.013668350258842272, 'n_estimators': 91, 'min_child_weight': 9, 'gamma': 0.36887202473724773, 'subsample': 0.8009954178304088, 'colsample_bytree': 0.9661353443128269, 'reg_alpha': 0.32612393350457536, 'reg_lambda': 0.7735014103116126, 'random_state': 531}. Best is trial 12 with value: 5.746154762532681.\u001b[0m\n",
      "\u001b[32m[I 2022-10-23 16:15:43,974]\u001b[0m Trial 66 finished with value: 7.037698964640865 and parameters: {'max_depth': 8, 'learning_rate': 0.622933726830799, 'n_estimators': 909, 'min_child_weight': 8, 'gamma': 0.6190382740413299, 'subsample': 0.983875192056989, 'colsample_bytree': 0.8659602705607307, 'reg_alpha': 0.22813190727187774, 'reg_lambda': 0.8463875118547297, 'random_state': 478}. Best is trial 12 with value: 5.746154762532681.\u001b[0m\n",
      "\u001b[32m[I 2022-10-23 16:15:47,979]\u001b[0m Trial 67 finished with value: 5.821103065658379 and parameters: {'max_depth': 9, 'learning_rate': 0.07722987496523462, 'n_estimators': 971, 'min_child_weight': 4, 'gamma': 0.4334737139968794, 'subsample': 0.8993260626617209, 'colsample_bytree': 0.9987693702751259, 'reg_alpha': 0.4027316705543552, 'reg_lambda': 0.9170872066921286, 'random_state': 331}. Best is trial 12 with value: 5.746154762532681.\u001b[0m\n",
      "\u001b[32m[I 2022-10-23 16:15:51,386]\u001b[0m Trial 68 finished with value: 6.638389266076969 and parameters: {'max_depth': 10, 'learning_rate': 0.18921117447982438, 'n_estimators': 828, 'min_child_weight': 10, 'gamma': 0.6604471353411425, 'subsample': 0.37514252626487454, 'colsample_bytree': 0.9287949940916715, 'reg_alpha': 0.4796314679509028, 'reg_lambda': 0.7267645781786595, 'random_state': 583}. Best is trial 12 with value: 5.746154762532681.\u001b[0m\n",
      "\u001b[32m[I 2022-10-23 16:15:52,564]\u001b[0m Trial 69 finished with value: 5.884141774893376 and parameters: {'max_depth': 7, 'learning_rate': 0.04338157108027978, 'n_estimators': 402, 'min_child_weight': 7, 'gamma': 0.5134612482142269, 'subsample': 0.738985830841765, 'colsample_bytree': 0.7890691909226456, 'reg_alpha': 0.3566650955399059, 'reg_lambda': 0.8958578236855904, 'random_state': 630}. Best is trial 12 with value: 5.746154762532681.\u001b[0m\n",
      "\u001b[32m[I 2022-10-23 16:15:53,860]\u001b[0m Trial 70 finished with value: 6.857470226515087 and parameters: {'max_depth': 8, 'learning_rate': 0.11425454336700663, 'n_estimators': 530, 'min_child_weight': 10, 'gamma': 0.2614418881198937, 'subsample': 0.10273517793066506, 'colsample_bytree': 0.8296449016046064, 'reg_alpha': 0.8878046064786055, 'reg_lambda': 0.9807983623007707, 'random_state': 437}. Best is trial 12 with value: 5.746154762532681.\u001b[0m\n",
      "\u001b[32m[I 2022-10-23 16:15:57,079]\u001b[0m Trial 71 finished with value: 5.778426416531927 and parameters: {'max_depth': 8, 'learning_rate': 0.0368982169599272, 'n_estimators': 975, 'min_child_weight': 8, 'gamma': 0.41063258248076506, 'subsample': 0.8824165161821714, 'colsample_bytree': 0.9687719832881742, 'reg_alpha': 0.2610846294590077, 'reg_lambda': 0.9144779017001554, 'random_state': 592}. Best is trial 12 with value: 5.746154762532681.\u001b[0m\n",
      "\u001b[32m[I 2022-10-23 16:16:00,108]\u001b[0m Trial 72 finished with value: 5.751634543441356 and parameters: {'max_depth': 8, 'learning_rate': 0.03460832867737529, 'n_estimators': 937, 'min_child_weight': 8, 'gamma': 0.3958473483221898, 'subsample': 0.933388903336607, 'colsample_bytree': 0.9666525640256477, 'reg_alpha': 0.26280428802513867, 'reg_lambda': 0.9367116869317867, 'random_state': 508}. Best is trial 12 with value: 5.746154762532681.\u001b[0m\n",
      "\u001b[32m[I 2022-10-23 16:16:01,929]\u001b[0m Trial 73 finished with value: 5.897198863303437 and parameters: {'max_depth': 5, 'learning_rate': 0.07177807648145504, 'n_estimators': 930, 'min_child_weight': 8, 'gamma': 0.395215123995088, 'subsample': 0.9272580875814914, 'colsample_bytree': 0.8835463778726979, 'reg_alpha': 0.26873546783089847, 'reg_lambda': 0.9397692407277305, 'random_state': 518}. Best is trial 12 with value: 5.746154762532681.\u001b[0m\n",
      "\u001b[32m[I 2022-10-23 16:16:05,379]\u001b[0m Trial 74 finished with value: 6.095996554705211 and parameters: {'max_depth': 9, 'learning_rate': 0.15256336206617543, 'n_estimators': 994, 'min_child_weight': 7, 'gamma': 0.3355347142478443, 'subsample': 0.8221590614224425, 'colsample_bytree': 0.5947993194537461, 'reg_alpha': 0.1878592605239201, 'reg_lambda': 0.9992099634729308, 'random_state': 594}. Best is trial 12 with value: 5.746154762532681.\u001b[0m\n",
      "\u001b[32m[I 2022-10-23 16:16:06,919]\u001b[0m Trial 75 finished with value: 6.091459886744314 and parameters: {'max_depth': 4, 'learning_rate': 0.0389369890401785, 'n_estimators': 891, 'min_child_weight': 8, 'gamma': 0.5584015102665498, 'subsample': 0.8607777858269452, 'colsample_bytree': 0.9771219490516216, 'reg_alpha': 0.2510202110570535, 'reg_lambda': 0.9552350233115444, 'random_state': 496}. Best is trial 12 with value: 5.746154762532681.\u001b[0m\n"
     ]
    },
    {
     "name": "stderr",
     "output_type": "stream",
     "text": [
      "\u001b[32m[I 2022-10-23 16:16:09,694]\u001b[0m Trial 76 finished with value: 5.904795293073222 and parameters: {'max_depth': 9, 'learning_rate': 0.10286311034231119, 'n_estimators': 751, 'min_child_weight': 7, 'gamma': 0.4633844535509343, 'subsample': 0.9657358159459188, 'colsample_bytree': 0.9154467599460185, 'reg_alpha': 0.08581915694892367, 'reg_lambda': 0.8714695729437507, 'random_state': 395}. Best is trial 12 with value: 5.746154762532681.\u001b[0m\n",
      "\u001b[32m[I 2022-10-23 16:16:12,476]\u001b[0m Trial 77 finished with value: 6.440235949559979 and parameters: {'max_depth': 8, 'learning_rate': 0.2940439919363236, 'n_estimators': 850, 'min_child_weight': 6, 'gamma': 0.36484384979747936, 'subsample': 0.7689534816334536, 'colsample_bytree': 0.9470697297705903, 'reg_alpha': 0.3194058288847297, 'reg_lambda': 0.8322432554050064, 'random_state': 455}. Best is trial 12 with value: 5.746154762532681.\u001b[0m\n",
      "\u001b[32m[I 2022-10-23 16:16:16,263]\u001b[0m Trial 78 finished with value: 5.866497336931257 and parameters: {'max_depth': 9, 'learning_rate': 0.07036612395691, 'n_estimators': 941, 'min_child_weight': 8, 'gamma': 0.40511614703352894, 'subsample': 0.6916341717741569, 'colsample_bytree': 0.9754622367024882, 'reg_alpha': 0.19697373582896033, 'reg_lambda': 0.907424535330617, 'random_state': 546}. Best is trial 12 with value: 5.746154762532681.\u001b[0m\n",
      "\u001b[32m[I 2022-10-23 16:16:18,463]\u001b[0m Trial 79 finished with value: 7.664871157443424 and parameters: {'max_depth': 8, 'learning_rate': 0.7438019485547167, 'n_estimators': 796, 'min_child_weight': 9, 'gamma': 0.2079037594910495, 'subsample': 0.926814483655954, 'colsample_bytree': 0.49239254526158827, 'reg_alpha': 0.9316181308861483, 'reg_lambda': 0.9239218708401894, 'random_state': 703}. Best is trial 12 with value: 5.746154762532681.\u001b[0m\n",
      "\u001b[32m[I 2022-10-23 16:16:22,448]\u001b[0m Trial 80 finished with value: 5.765403927941154 and parameters: {'max_depth': 10, 'learning_rate': 0.03507638326917204, 'n_estimators': 870, 'min_child_weight': 8, 'gamma': 0.32569317345937576, 'subsample': 0.8010030223298994, 'colsample_bytree': 0.9142255673832214, 'reg_alpha': 0.15628849624385405, 'reg_lambda': 0.8010898227119216, 'random_state': 655}. Best is trial 12 with value: 5.746154762532681.\u001b[0m\n",
      "\u001b[32m[I 2022-10-23 16:16:26,547]\u001b[0m Trial 81 finished with value: 5.779511307344445 and parameters: {'max_depth': 10, 'learning_rate': 0.03737086572561622, 'n_estimators': 868, 'min_child_weight': 8, 'gamma': 0.31629263618729925, 'subsample': 0.6488051304916012, 'colsample_bytree': 0.9108920672083166, 'reg_alpha': 0.14827047268160304, 'reg_lambda': 0.8067973492872678, 'random_state': 682}. Best is trial 12 with value: 5.746154762532681.\u001b[0m\n",
      "\u001b[32m[I 2022-10-23 16:16:30,847]\u001b[0m Trial 82 finished with value: 5.717266273650032 and parameters: {'max_depth': 10, 'learning_rate': 0.013423817089769996, 'n_estimators': 911, 'min_child_weight': 7, 'gamma': 0.3403076376591522, 'subsample': 0.7977430149291903, 'colsample_bytree': 0.8724359781267073, 'reg_alpha': 0.17046336704798778, 'reg_lambda': 0.7695748240430205, 'random_state': 615}. Best is trial 82 with value: 5.717266273650032.\u001b[0m\n",
      "\u001b[32m[I 2022-10-23 16:16:34,683]\u001b[0m Trial 83 finished with value: 5.960579231046071 and parameters: {'max_depth': 10, 'learning_rate': 0.09712842785872292, 'n_estimators': 900, 'min_child_weight': 7, 'gamma': 0.9335386252037521, 'subsample': 0.7899556670005317, 'colsample_bytree': 0.7157447218806154, 'reg_alpha': 0.045601772802510834, 'reg_lambda': 0.6736771045028764, 'random_state': 730}. Best is trial 82 with value: 5.717266273650032.\u001b[0m\n",
      "\u001b[32m[I 2022-10-23 16:16:38,705]\u001b[0m Trial 84 finished with value: 5.7803695334307506 and parameters: {'max_depth': 10, 'learning_rate': 0.01244550679690378, 'n_estimators': 922, 'min_child_weight': 8, 'gamma': 0.287413761492345, 'subsample': 0.8358869142386535, 'colsample_bytree': 0.6753402946250734, 'reg_alpha': 0.16265331141931028, 'reg_lambda': 0.7837050901515443, 'random_state': 637}. Best is trial 82 with value: 5.717266273650032.\u001b[0m\n",
      "\u001b[32m[I 2022-10-23 16:16:42,297]\u001b[0m Trial 85 finished with value: 5.814545001635199 and parameters: {'max_depth': 10, 'learning_rate': 0.0631882456175766, 'n_estimators': 828, 'min_child_weight': 9, 'gamma': 0.34618389398457483, 'subsample': 0.8079494310649025, 'colsample_bytree': 0.8640156755001757, 'reg_alpha': 0.11316783333176517, 'reg_lambda': 0.6417327394880483, 'random_state': 878}. Best is trial 82 with value: 5.717266273650032.\u001b[0m\n",
      "\u001b[32m[I 2022-10-23 16:16:46,026]\u001b[0m Trial 86 finished with value: 5.997838290494555 and parameters: {'max_depth': 10, 'learning_rate': 0.12726592141465767, 'n_estimators': 877, 'min_child_weight': 7, 'gamma': 0.1983823328781742, 'subsample': 0.7433312428338718, 'colsample_bytree': 0.8212729583921174, 'reg_alpha': 0.21286356024548936, 'reg_lambda': 0.7611118693397219, 'random_state': 658}. Best is trial 82 with value: 5.717266273650032.\u001b[0m\n",
      "\u001b[32m[I 2022-10-23 16:16:48,929]\u001b[0m Trial 87 finished with value: 6.0908208491027676 and parameters: {'max_depth': 9, 'learning_rate': 0.16325758119758293, 'n_estimators': 790, 'min_child_weight': 8, 'gamma': 0.49757332808376925, 'subsample': 0.8531372402430564, 'colsample_bytree': 0.9369629315061004, 'reg_alpha': 0.23188247499380488, 'reg_lambda': 0.8455056536282268, 'random_state': 570}. Best is trial 82 with value: 5.717266273650032.\u001b[0m\n",
      "\u001b[32m[I 2022-10-23 16:16:53,464]\u001b[0m Trial 88 finished with value: 5.836766116834362 and parameters: {'max_depth': 10, 'learning_rate': 0.052741308514094476, 'n_estimators': 941, 'min_child_weight': 6, 'gamma': 0.24629496729822362, 'subsample': 0.6166018172121656, 'colsample_bytree': 0.8862187535833229, 'reg_alpha': 0.8473305389612906, 'reg_lambda': 0.5111569525669644, 'random_state': 501}. Best is trial 82 with value: 5.717266273650032.\u001b[0m\n",
      "\u001b[32m[I 2022-10-23 16:16:54,045]\u001b[0m Trial 89 finished with value: 5.855342187545651 and parameters: {'max_depth': 9, 'learning_rate': 0.07967083848590525, 'n_estimators': 133, 'min_child_weight': 9, 'gamma': 0.37831444362060007, 'subsample': 0.757993921092617, 'colsample_bytree': 0.9343406065531332, 'reg_alpha': 0.7575375425083458, 'reg_lambda': 0.8740843908734702, 'random_state': 370}. Best is trial 82 with value: 5.717266273650032.\u001b[0m\n",
      "\u001b[32m[I 2022-10-23 16:16:58,300]\u001b[0m Trial 90 finished with value: 5.752390175683808 and parameters: {'max_depth': 10, 'learning_rate': 0.03173989543365606, 'n_estimators': 859, 'min_child_weight': 8, 'gamma': 0.2711397734912768, 'subsample': 0.7859880788030787, 'colsample_bytree': 0.9963306544573549, 'reg_alpha': 0.9558085312992732, 'reg_lambda': 0.9713806995422791, 'random_state': 616}. Best is trial 82 with value: 5.717266273650032.\u001b[0m\n",
      "\u001b[32m[I 2022-10-23 16:17:02,645]\u001b[0m Trial 91 finished with value: 5.742319304102907 and parameters: {'max_depth': 10, 'learning_rate': 0.028475803069170556, 'n_estimators': 854, 'min_child_weight': 8, 'gamma': 0.32583138822416635, 'subsample': 0.724414078966582, 'colsample_bytree': 0.9991617305815654, 'reg_alpha': 0.9748327992302324, 'reg_lambda': 0.9670420991697849, 'random_state': 618}. Best is trial 82 with value: 5.717266273650032.\u001b[0m\n",
      "\u001b[32m[I 2022-10-23 16:17:06,852]\u001b[0m Trial 92 finished with value: 5.724573665161375 and parameters: {'max_depth': 10, 'learning_rate': 0.025926727316900527, 'n_estimators': 840, 'min_child_weight': 7, 'gamma': 0.2758854210937916, 'subsample': 0.7190595817951524, 'colsample_bytree': 0.9997567598220887, 'reg_alpha': 0.9728571624051525, 'reg_lambda': 0.9713351221615003, 'random_state': 611}. Best is trial 82 with value: 5.717266273650032.\u001b[0m\n",
      "\u001b[32m[I 2022-10-23 16:17:10,909]\u001b[0m Trial 93 finished with value: 5.824228759565648 and parameters: {'max_depth': 10, 'learning_rate': 0.06030549215787787, 'n_estimators': 761, 'min_child_weight': 2, 'gamma': 0.15063607797651102, 'subsample': 0.709591638806623, 'colsample_bytree': 0.9906952411763671, 'reg_alpha': 0.95736423843917, 'reg_lambda': 0.9673230380540144, 'random_state': 621}. Best is trial 82 with value: 5.717266273650032.\u001b[0m\n",
      "\u001b[32m[I 2022-10-23 16:17:15,050]\u001b[0m Trial 94 finished with value: 5.725166752062559 and parameters: {'max_depth': 10, 'learning_rate': 0.013406432031123142, 'n_estimators': 820, 'min_child_weight': 7, 'gamma': 0.25150978843121086, 'subsample': 0.6651063336792211, 'colsample_bytree': 0.9974013859194868, 'reg_alpha': 0.9814161578915299, 'reg_lambda': 0.9427020374196892, 'random_state': 604}. Best is trial 82 with value: 5.717266273650032.\u001b[0m\n"
     ]
    },
    {
     "name": "stderr",
     "output_type": "stream",
     "text": [
      "\u001b[32m[I 2022-10-23 16:17:18,398]\u001b[0m Trial 95 finished with value: 5.884808490501689 and parameters: {'max_depth': 10, 'learning_rate': 0.09137212184577374, 'n_estimators': 721, 'min_child_weight': 7, 'gamma': 0.24268922618666725, 'subsample': 0.7307501237256595, 'colsample_bytree': 0.9919921662925063, 'reg_alpha': 0.9793373635420249, 'reg_lambda': 0.9430410202948062, 'random_state': 676}. Best is trial 82 with value: 5.717266273650032.\u001b[0m\n",
      "\u001b[32m[I 2022-10-23 16:17:22,455]\u001b[0m Trial 96 finished with value: 5.731544544016964 and parameters: {'max_depth': 10, 'learning_rate': 0.012732165806259691, 'n_estimators': 822, 'min_child_weight': 6, 'gamma': 0.2691944223459449, 'subsample': 0.7714770545687157, 'colsample_bytree': 0.9997828077627009, 'reg_alpha': 0.9368858600452181, 'reg_lambda': 0.9796752476031467, 'random_state': 602}. Best is trial 82 with value: 5.717266273650032.\u001b[0m\n",
      "\u001b[32m[I 2022-10-23 16:17:26,512]\u001b[0m Trial 97 finished with value: 5.719294868148064 and parameters: {'max_depth': 10, 'learning_rate': 0.017162087638571234, 'n_estimators': 815, 'min_child_weight': 6, 'gamma': 0.2755605472331765, 'subsample': 0.6646190294606034, 'colsample_bytree': 0.9512566541371894, 'reg_alpha': 0.9136291788255155, 'reg_lambda': 0.9796478274284408, 'random_state': 709}. Best is trial 82 with value: 5.717266273650032.\u001b[0m\n",
      "\u001b[32m[I 2022-10-23 16:17:30,599]\u001b[0m Trial 98 finished with value: 5.7338387947597615 and parameters: {'max_depth': 10, 'learning_rate': 0.012233629819452311, 'n_estimators': 809, 'min_child_weight': 6, 'gamma': 0.27048080471672675, 'subsample': 0.6693844641009039, 'colsample_bytree': 0.9988033384888121, 'reg_alpha': 0.9201193102942292, 'reg_lambda': 0.9783787574491063, 'random_state': 763}. Best is trial 82 with value: 5.717266273650032.\u001b[0m\n",
      "\u001b[32m[I 2022-10-23 16:17:34,759]\u001b[0m Trial 99 finished with value: 5.72553060757347 and parameters: {'max_depth': 10, 'learning_rate': 0.012771915443143262, 'n_estimators': 816, 'min_child_weight': 5, 'gamma': 0.1889942960309615, 'subsample': 0.6573453641267282, 'colsample_bytree': 0.9419777788603558, 'reg_alpha': 0.9235644194406116, 'reg_lambda': 0.9965279883431422, 'random_state': 806}. Best is trial 82 with value: 5.717266273650032.\u001b[0m\n"
     ]
    }
   ],
   "source": [
    "study_1_ss_grp.optimize(objective, n_trials=100)"
   ]
  },
  {
   "cell_type": "code",
   "execution_count": 25,
   "id": "8dd21855",
   "metadata": {},
   "outputs": [
    {
     "name": "stdout",
     "output_type": "stream",
     "text": [
      "Best value 5.717266273650032\n"
     ]
    }
   ],
   "source": [
    "print('Best value', study_1_ss_grp.best_value)"
   ]
  },
  {
   "cell_type": "markdown",
   "id": "551b914d",
   "metadata": {},
   "source": [
    "C'est proche de ce que l'on obtient avec la variable 'groupe'. En fait les résultats varient d'une exécution à l'autre. Souvent le meilleur résultat est obtenu avec la variable 'groupe', mais parfois non."
   ]
  },
  {
   "cell_type": "markdown",
   "id": "788426c2",
   "metadata": {},
   "source": [
    "# Train2"
   ]
  },
  {
   "cell_type": "code",
   "execution_count": 26,
   "id": "90127d54",
   "metadata": {},
   "outputs": [],
   "source": [
    "X_train, X_test, y_train, y_test = train_test_split(X2, y, random_state=21, train_size=0.7, shuffle=True)"
   ]
  },
  {
   "cell_type": "markdown",
   "id": "b2a01e55",
   "metadata": {},
   "source": [
    "## Preprocessing"
   ]
  },
  {
   "cell_type": "code",
   "execution_count": 27,
   "id": "25ef674b",
   "metadata": {},
   "outputs": [],
   "source": [
    "std = StandardScaler()\n",
    "\n",
    "std.fit(X_train)\n",
    "\n",
    "X_train_std = std.transform(X_train)\n",
    "X_test_std = std.transform(X_test)"
   ]
  },
  {
   "cell_type": "markdown",
   "id": "d383df73",
   "metadata": {},
   "source": [
    "## XGboost"
   ]
  },
  {
   "cell_type": "code",
   "execution_count": 28,
   "id": "ebe95431",
   "metadata": {},
   "outputs": [
    {
     "name": "stderr",
     "output_type": "stream",
     "text": [
      "\u001b[32m[I 2022-10-23 16:17:35,342]\u001b[0m A new study created in memory with name: regression_2\u001b[0m\n"
     ]
    }
   ],
   "source": [
    "study_2 = optuna.create_study(direction='minimize', study_name='regression_2')"
   ]
  },
  {
   "cell_type": "code",
   "execution_count": 29,
   "id": "7c782047",
   "metadata": {
    "scrolled": true
   },
   "outputs": [
    {
     "name": "stderr",
     "output_type": "stream",
     "text": [
      "\u001b[32m[I 2022-10-23 16:17:43,093]\u001b[0m Trial 0 finished with value: 25.323062309269268 and parameters: {'max_depth': 9, 'learning_rate': 0.815857124739983, 'n_estimators': 309, 'min_child_weight': 1, 'gamma': 0.29732166815709177, 'subsample': 0.43902575440263103, 'colsample_bytree': 0.20488601280656096, 'reg_alpha': 0.08233552012430768, 'reg_lambda': 0.4030158313832771, 'random_state': 469}. Best is trial 0 with value: 25.323062309269268.\u001b[0m\n",
      "\u001b[32m[I 2022-10-23 16:17:52,445]\u001b[0m Trial 1 finished with value: 9.340377420794564 and parameters: {'max_depth': 2, 'learning_rate': 0.5113407784607106, 'n_estimators': 681, 'min_child_weight': 10, 'gamma': 0.7641841217955543, 'subsample': 0.5043119821890201, 'colsample_bytree': 0.3172807511253362, 'reg_alpha': 0.5218442376277765, 'reg_lambda': 0.09264065535700654, 'random_state': 207}. Best is trial 1 with value: 9.340377420794564.\u001b[0m\n",
      "\u001b[32m[I 2022-10-23 16:17:58,957]\u001b[0m Trial 2 finished with value: 8.780530649346273 and parameters: {'max_depth': 9, 'learning_rate': 0.21085939117857855, 'n_estimators': 188, 'min_child_weight': 2, 'gamma': 0.1757397273937396, 'subsample': 0.5524368710800257, 'colsample_bytree': 0.3284843848848333, 'reg_alpha': 0.5395587177830752, 'reg_lambda': 0.9048446250853559, 'random_state': 963}. Best is trial 2 with value: 8.780530649346273.\u001b[0m\n",
      "\u001b[32m[I 2022-10-23 16:18:16,737]\u001b[0m Trial 3 finished with value: 8.581311987669089 and parameters: {'max_depth': 3, 'learning_rate': 0.2136011930661208, 'n_estimators': 620, 'min_child_weight': 4, 'gamma': 0.07923359627070455, 'subsample': 0.5166152359757011, 'colsample_bytree': 0.9632620285747174, 'reg_alpha': 0.30122566501038195, 'reg_lambda': 0.4551488687932436, 'random_state': 706}. Best is trial 3 with value: 8.581311987669089.\u001b[0m\n",
      "\u001b[32m[I 2022-10-23 16:18:38,215]\u001b[0m Trial 4 finished with value: 7.9987540653845866 and parameters: {'max_depth': 10, 'learning_rate': 0.06457081793130413, 'n_estimators': 570, 'min_child_weight': 9, 'gamma': 0.31094579176324605, 'subsample': 0.7669118622600418, 'colsample_bytree': 0.41039249306014647, 'reg_alpha': 0.7578327320397863, 'reg_lambda': 0.9054745899474153, 'random_state': 247}. Best is trial 4 with value: 7.9987540653845866.\u001b[0m\n",
      "\u001b[32m[I 2022-10-23 16:18:42,985]\u001b[0m Trial 5 finished with value: 10.208641161046268 and parameters: {'max_depth': 8, 'learning_rate': 0.5931209957661895, 'n_estimators': 321, 'min_child_weight': 1, 'gamma': 0.7947321247809849, 'subsample': 0.7720138754069579, 'colsample_bytree': 0.06595104471734478, 'reg_alpha': 0.4369003908063976, 'reg_lambda': 0.7402144846494335, 'random_state': 62}. Best is trial 4 with value: 7.9987540653845866.\u001b[0m\n",
      "\u001b[32m[I 2022-10-23 16:18:54,053]\u001b[0m Trial 6 finished with value: 133.31117525195393 and parameters: {'max_depth': 3, 'learning_rate': 0.8188443930192015, 'n_estimators': 816, 'min_child_weight': 3, 'gamma': 0.21336891392320023, 'subsample': 0.30484949406723505, 'colsample_bytree': 0.24335174929354186, 'reg_alpha': 0.12552985876011707, 'reg_lambda': 0.8159602131177003, 'random_state': 853}. Best is trial 4 with value: 7.9987540653845866.\u001b[0m\n",
      "\u001b[32m[I 2022-10-23 16:19:14,701]\u001b[0m Trial 7 finished with value: 8.583810567262471 and parameters: {'max_depth': 3, 'learning_rate': 0.2904565299398798, 'n_estimators': 835, 'min_child_weight': 4, 'gamma': 0.20731044064129428, 'subsample': 0.8274723832005432, 'colsample_bytree': 0.8850593797708795, 'reg_alpha': 0.6735517890435737, 'reg_lambda': 0.4537421733161668, 'random_state': 708}. Best is trial 4 with value: 7.9987540653845866.\u001b[0m\n",
      "\u001b[32m[I 2022-10-23 16:19:22,248]\u001b[0m Trial 8 finished with value: 9.372517690590396 and parameters: {'max_depth': 1, 'learning_rate': 0.8548370574674445, 'n_estimators': 514, 'min_child_weight': 1, 'gamma': 0.7839480165198635, 'subsample': 0.23234700929788343, 'colsample_bytree': 0.7439835114302233, 'reg_alpha': 0.8355258610894539, 'reg_lambda': 0.6273026611879851, 'random_state': 367}. Best is trial 4 with value: 7.9987540653845866.\u001b[0m\n",
      "\u001b[32m[I 2022-10-23 16:19:30,416]\u001b[0m Trial 9 finished with value: 10.819999605794415 and parameters: {'max_depth': 4, 'learning_rate': 0.7603843971400277, 'n_estimators': 248, 'min_child_weight': 9, 'gamma': 0.6105109534807487, 'subsample': 0.7396307671596036, 'colsample_bytree': 0.8624371400093996, 'reg_alpha': 0.879439949919812, 'reg_lambda': 0.05790506237143252, 'random_state': 846}. Best is trial 4 with value: 7.9987540653845866.\u001b[0m\n",
      "\u001b[32m[I 2022-10-23 16:19:32,447]\u001b[0m Trial 10 finished with value: 11.572762665762484 and parameters: {'max_depth': 6, 'learning_rate': 0.02554614233887048, 'n_estimators': 60, 'min_child_weight': 7, 'gamma': 0.4384499033442781, 'subsample': 0.9947632172289382, 'colsample_bytree': 0.595172352826671, 'reg_alpha': 0.9909074831685081, 'reg_lambda': 0.9583960573797442, 'random_state': 18}. Best is trial 4 with value: 7.9987540653845866.\u001b[0m\n",
      "\u001b[32m[I 2022-10-23 16:19:48,675]\u001b[0m Trial 11 finished with value: 8.06706341618989 and parameters: {'max_depth': 6, 'learning_rate': 0.06207734017835417, 'n_estimators': 532, 'min_child_weight': 6, 'gamma': 0.022863108339003, 'subsample': 0.6399112125595527, 'colsample_bytree': 0.525183036013415, 'reg_alpha': 0.30636625450961397, 'reg_lambda': 0.25360664175413306, 'random_state': 606}. Best is trial 4 with value: 7.9987540653845866.\u001b[0m\n",
      "\u001b[32m[I 2022-10-23 16:20:02,849]\u001b[0m Trial 12 finished with value: 8.00513166544265 and parameters: {'max_depth': 6, 'learning_rate': 0.04054702340843079, 'n_estimators': 475, 'min_child_weight': 7, 'gamma': 0.015148209212739905, 'subsample': 0.6700929423563983, 'colsample_bytree': 0.5236067179753402, 'reg_alpha': 0.28597609252047845, 'reg_lambda': 0.22780103547740638, 'random_state': 289}. Best is trial 4 with value: 7.9987540653845866.\u001b[0m\n",
      "\u001b[32m[I 2022-10-23 16:20:14,524]\u001b[0m Trial 13 finished with value: 127414.89999777806 and parameters: {'max_depth': 10, 'learning_rate': 0.3734668200698899, 'n_estimators': 406, 'min_child_weight': 8, 'gamma': 0.41756048091158937, 'subsample': 0.02870386542652459, 'colsample_bytree': 0.4279844767184442, 'reg_alpha': 0.6627042833205746, 'reg_lambda': 0.25842752594589263, 'random_state': 267}. Best is trial 4 with value: 7.9987540653845866.\u001b[0m\n",
      "\u001b[32m[I 2022-10-23 16:20:38,688]\u001b[0m Trial 14 finished with value: 8.178481359029846 and parameters: {'max_depth': 7, 'learning_rate': 0.1423951484793875, 'n_estimators': 677, 'min_child_weight': 8, 'gamma': 0.3420098522304392, 'subsample': 0.9550770120398901, 'colsample_bytree': 0.669379343351449, 'reg_alpha': 0.2803485229509025, 'reg_lambda': 0.630108262486594, 'random_state': 191}. Best is trial 4 with value: 7.9987540653845866.\u001b[0m\n",
      "\u001b[32m[I 2022-10-23 16:21:00,470]\u001b[0m Trial 15 finished with value: 9.414650877158984 and parameters: {'max_depth': 5, 'learning_rate': 0.36112633477188716, 'n_estimators': 945, 'min_child_weight': 10, 'gamma': 0.5712742404716656, 'subsample': 0.6683806820813006, 'colsample_bytree': 0.4395784229137984, 'reg_alpha': 0.7363295419129842, 'reg_lambda': 0.30056266455967223, 'random_state': 371}. Best is trial 4 with value: 7.9987540653845866.\u001b[0m\n",
      "\u001b[32m[I 2022-10-23 16:21:06,381]\u001b[0m Trial 16 finished with value: 7.947752176607478 and parameters: {'max_depth': 10, 'learning_rate': 0.024538077115044604, 'n_estimators': 457, 'min_child_weight': 6, 'gamma': 0.99340172048537, 'subsample': 0.883228564584672, 'colsample_bytree': 0.018672828557269983, 'reg_alpha': 0.4425778478849429, 'reg_lambda': 0.604745984721053, 'random_state': 474}. Best is trial 16 with value: 7.947752176607478.\u001b[0m\n",
      "\u001b[32m[I 2022-10-23 16:21:13,769]\u001b[0m Trial 17 finished with value: 12.200342875597556 and parameters: {'max_depth': 10, 'learning_rate': 0.9777749889943338, 'n_estimators': 578, 'min_child_weight': 5, 'gamma': 0.9820032341770731, 'subsample': 0.8767828134332101, 'colsample_bytree': 0.018656560317019726, 'reg_alpha': 0.4665094943355888, 'reg_lambda': 0.6440695119375262, 'random_state': 489}. Best is trial 16 with value: 7.947752176607478.\u001b[0m\n",
      "\u001b[32m[I 2022-10-23 16:21:20,868]\u001b[0m Trial 18 finished with value: 8.23894419484521 and parameters: {'max_depth': 8, 'learning_rate': 0.14929834856416702, 'n_estimators': 406, 'min_child_weight': 5, 'gamma': 0.9141422499785773, 'subsample': 0.8539178212379095, 'colsample_bytree': 0.12627203864256742, 'reg_alpha': 0.6175094321454957, 'reg_lambda': 0.8004387985810177, 'random_state': 125}. Best is trial 16 with value: 7.947752176607478.\u001b[0m\n"
     ]
    },
    {
     "name": "stderr",
     "output_type": "stream",
     "text": [
      "\u001b[32m[I 2022-10-23 16:21:36,592]\u001b[0m Trial 19 finished with value: 10.016042520635686 and parameters: {'max_depth': 10, 'learning_rate': 0.6480518334049015, 'n_estimators': 724, 'min_child_weight': 7, 'gamma': 0.6374274928363918, 'subsample': 0.9095967649049728, 'colsample_bytree': 0.16340192607723958, 'reg_alpha': 0.792040073392331, 'reg_lambda': 0.9964343443712791, 'random_state': 616}. Best is trial 16 with value: 7.947752176607478.\u001b[0m\n",
      "\u001b[32m[I 2022-10-23 16:21:47,558]\u001b[0m Trial 20 finished with value: 9.262076590166606 and parameters: {'max_depth': 8, 'learning_rate': 0.3728417105745252, 'n_estimators': 421, 'min_child_weight': 9, 'gamma': 0.5195349829317797, 'subsample': 0.7773616303745108, 'colsample_bytree': 0.32605253758866076, 'reg_alpha': 0.9498146092730558, 'reg_lambda': 0.5711103914677929, 'random_state': 385}. Best is trial 16 with value: 7.947752176607478.\u001b[0m\n",
      "\u001b[32m[I 2022-10-23 16:22:08,874]\u001b[0m Trial 21 finished with value: 7.910874288032255 and parameters: {'max_depth': 9, 'learning_rate': 0.015384329598226519, 'n_estimators': 482, 'min_child_weight': 7, 'gamma': 0.11237373863535392, 'subsample': 0.6553568725513848, 'colsample_bytree': 0.5335183357805853, 'reg_alpha': 0.19895111155666, 'reg_lambda': 0.1883650103230229, 'random_state': 294}. Best is trial 21 with value: 7.910874288032255.\u001b[0m\n",
      "\u001b[32m[I 2022-10-23 16:22:37,705]\u001b[0m Trial 22 finished with value: 8.302800028394195 and parameters: {'max_depth': 9, 'learning_rate': 0.12064212713761341, 'n_estimators': 609, 'min_child_weight': 6, 'gamma': 0.12994768973428672, 'subsample': 0.6486839075003737, 'colsample_bytree': 0.6173750639045141, 'reg_alpha': 0.1690298946036758, 'reg_lambda': 0.1449996946238513, 'random_state': 310}. Best is trial 21 with value: 7.910874288032255.\u001b[0m\n",
      "\u001b[32m[I 2022-10-23 16:23:03,745]\u001b[0m Trial 23 finished with value: 7.883011602351739 and parameters: {'max_depth': 10, 'learning_rate': 0.012566912501914329, 'n_estimators': 441, 'min_child_weight': 8, 'gamma': 0.2963879202097287, 'subsample': 0.731398267699396, 'colsample_bytree': 0.7193328008372396, 'reg_alpha': 0.02038070745096826, 'reg_lambda': 0.7337685769701584, 'random_state': 435}. Best is trial 23 with value: 7.883011602351739.\u001b[0m\n",
      "\u001b[32m[I 2022-10-23 16:23:22,056]\u001b[0m Trial 24 finished with value: 9.53574542186233 and parameters: {'max_depth': 9, 'learning_rate': 0.22926586501370502, 'n_estimators': 339, 'min_child_weight': 8, 'gamma': 0.3993044424692287, 'subsample': 0.3974056894718048, 'colsample_bytree': 0.7572390918594116, 'reg_alpha': 0.018890231792458665, 'reg_lambda': 0.7255271527414654, 'random_state': 569}. Best is trial 23 with value: 7.883011602351739.\u001b[0m\n",
      "\u001b[32m[I 2022-10-23 16:23:42,295]\u001b[0m Trial 25 finished with value: 7.9823327077391415 and parameters: {'max_depth': 7, 'learning_rate': 0.019400337118755197, 'n_estimators': 462, 'min_child_weight': 6, 'gamma': 0.2544938255246497, 'subsample': 0.5825749501775903, 'colsample_bytree': 0.7138866409461655, 'reg_alpha': 0.20884267655395927, 'reg_lambda': 0.5436563173477121, 'random_state': 432}. Best is trial 23 with value: 7.883011602351739.\u001b[0m\n",
      "\u001b[32m[I 2022-10-23 16:23:51,578]\u001b[0m Trial 26 finished with value: 8.981740787668711 and parameters: {'max_depth': 8, 'learning_rate': 0.2800252763770099, 'n_estimators': 175, 'min_child_weight': 7, 'gamma': 0.1181434492424472, 'subsample': 0.7009673757078245, 'colsample_bytree': 0.8204802805887335, 'reg_alpha': 0.37357586968611256, 'reg_lambda': 0.36986489867612293, 'random_state': 519}. Best is trial 23 with value: 7.883011602351739.\u001b[0m\n",
      "\u001b[32m[I 2022-10-23 16:24:08,403]\u001b[0m Trial 27 finished with value: 8.165301060089524 and parameters: {'max_depth': 10, 'learning_rate': 0.11112023879900951, 'n_estimators': 363, 'min_child_weight': 5, 'gamma': 0.6899358018616608, 'subsample': 0.9301133050572946, 'colsample_bytree': 0.5926076007907407, 'reg_alpha': 0.047101304223233775, 'reg_lambda': 0.7110946828811678, 'random_state': 669}. Best is trial 23 with value: 7.883011602351739.\u001b[0m\n",
      "\u001b[32m[I 2022-10-23 16:24:15,975]\u001b[0m Trial 28 finished with value: 9.502627553427256 and parameters: {'max_depth': 7, 'learning_rate': 0.47513335400398504, 'n_estimators': 253, 'min_child_weight': 8, 'gamma': 0.8734215801489368, 'subsample': 0.8268950951278041, 'colsample_bytree': 0.4761190251817163, 'reg_alpha': 0.2092884118952199, 'reg_lambda': 0.8023752911736126, 'random_state': 533}. Best is trial 23 with value: 7.883011602351739.\u001b[0m\n",
      "\u001b[32m[I 2022-10-23 16:24:28,795]\u001b[0m Trial 29 finished with value: 8.879604454131425 and parameters: {'max_depth': 9, 'learning_rate': 0.15806833342264273, 'n_estimators': 480, 'min_child_weight': 4, 'gamma': 0.3328011088198785, 'subsample': 0.43492783189417045, 'colsample_bytree': 0.24946417306053736, 'reg_alpha': 0.10683553059792489, 'reg_lambda': 0.3658898707162017, 'random_state': 454}. Best is trial 23 with value: 7.883011602351739.\u001b[0m\n",
      "\u001b[32m[I 2022-10-23 16:24:43,179]\u001b[0m Trial 30 finished with value: 9.334607055245929 and parameters: {'max_depth': 9, 'learning_rate': 0.2840888619670332, 'n_estimators': 280, 'min_child_weight': 6, 'gamma': 0.2615434532064935, 'subsample': 0.6121347545455146, 'colsample_bytree': 0.656363288982427, 'reg_alpha': 0.36496880842800933, 'reg_lambda': 0.018466678052132757, 'random_state': 331}. Best is trial 23 with value: 7.883011602351739.\u001b[0m\n",
      "\u001b[32m[I 2022-10-23 16:25:03,135]\u001b[0m Trial 31 finished with value: 7.969003516276236 and parameters: {'max_depth': 7, 'learning_rate': 0.01158842410297166, 'n_estimators': 459, 'min_child_weight': 6, 'gamma': 0.26794322230668177, 'subsample': 0.5667292209272292, 'colsample_bytree': 0.7050578533995573, 'reg_alpha': 0.19546711565906744, 'reg_lambda': 0.5325803651638801, 'random_state': 435}. Best is trial 23 with value: 7.883011602351739.\u001b[0m\n",
      "\u001b[32m[I 2022-10-23 16:25:26,465]\u001b[0m Trial 32 finished with value: 7.933580766849048 and parameters: {'max_depth': 8, 'learning_rate': 0.011357391964583312, 'n_estimators': 428, 'min_child_weight': 7, 'gamma': 0.4983226308346681, 'subsample': 0.494889292904417, 'colsample_bytree': 0.8108514578492836, 'reg_alpha': 0.0988259367460202, 'reg_lambda': 0.4949112953074115, 'random_state': 423}. Best is trial 23 with value: 7.883011602351739.\u001b[0m\n",
      "\u001b[32m[I 2022-10-23 16:25:55,724]\u001b[0m Trial 33 finished with value: 8.34615466769549 and parameters: {'max_depth': 10, 'learning_rate': 0.09579913851952296, 'n_estimators': 376, 'min_child_weight': 7, 'gamma': 0.4810651954913888, 'subsample': 0.4803585267696461, 'colsample_bytree': 0.9799597084683972, 'reg_alpha': 0.07618490363824562, 'reg_lambda': 0.4682219534851403, 'random_state': 144}. Best is trial 23 with value: 7.883011602351739.\u001b[0m\n",
      "\u001b[32m[I 2022-10-23 16:26:24,116]\u001b[0m Trial 34 finished with value: 9.45197069417051 and parameters: {'max_depth': 9, 'learning_rate': 0.17242362606710462, 'n_estimators': 543, 'min_child_weight': 9, 'gamma': 0.7032180596944408, 'subsample': 0.31234514737124874, 'colsample_bytree': 0.8001194401726888, 'reg_alpha': 0.14878140598593517, 'reg_lambda': 0.15366856471607138, 'random_state': 408}. Best is trial 23 with value: 7.883011602351739.\u001b[0m\n",
      "\u001b[32m[I 2022-10-23 16:26:31,081]\u001b[0m Trial 35 finished with value: 8.144350663473721 and parameters: {'max_depth': 9, 'learning_rate': 0.07960189487523049, 'n_estimators': 201, 'min_child_weight': 8, 'gamma': 0.5364642358834383, 'subsample': 0.7056463993899118, 'colsample_bytree': 0.3735517686875992, 'reg_alpha': 0.011022609683328854, 'reg_lambda': 0.698646361467994, 'random_state': 223}. Best is trial 23 with value: 7.883011602351739.\u001b[0m\n",
      "\u001b[32m[I 2022-10-23 16:27:09,307]\u001b[0m Trial 36 finished with value: 9.12113602582443 and parameters: {'max_depth': 8, 'learning_rate': 0.2224570185190819, 'n_estimators': 652, 'min_child_weight': 10, 'gamma': 0.37558750860784046, 'subsample': 0.5168707730529621, 'colsample_bytree': 0.9192536828378903, 'reg_alpha': 0.08883955208502553, 'reg_lambda': 0.4174727562719718, 'random_state': 477}. Best is trial 23 with value: 7.883011602351739.\u001b[0m\n",
      "\u001b[32m[I 2022-10-23 16:27:24,650]\u001b[0m Trial 37 finished with value: 8.307931665052395 and parameters: {'max_depth': 10, 'learning_rate': 0.08178713353126282, 'n_estimators': 314, 'min_child_weight': 7, 'gamma': 0.1599387402899598, 'subsample': 0.4000271668389942, 'colsample_bytree': 0.5616260064272016, 'reg_alpha': 0.23794825397331743, 'reg_lambda': 0.886412410119468, 'random_state': 332}. Best is trial 23 with value: 7.883011602351739.\u001b[0m\n"
     ]
    },
    {
     "name": "stderr",
     "output_type": "stream",
     "text": [
      "\u001b[32m[I 2022-10-23 16:27:59,630]\u001b[0m Trial 38 finished with value: 8.458172452541326 and parameters: {'max_depth': 8, 'learning_rate': 0.19182401566497942, 'n_estimators': 724, 'min_child_weight': 5, 'gamma': 0.4771541134375299, 'subsample': 0.7777170938423613, 'colsample_bytree': 0.7987648752391796, 'reg_alpha': 0.422827533643088, 'reg_lambda': 0.5928405040751593, 'random_state': 572}. Best is trial 23 with value: 7.883011602351739.\u001b[0m\n",
      "\u001b[32m[I 2022-10-23 16:28:36,198]\u001b[0m Trial 39 finished with value: 11.089059817112405 and parameters: {'max_depth': 10, 'learning_rate': 0.4762742123414038, 'n_estimators': 502, 'min_child_weight': 9, 'gamma': 0.06135757801079405, 'subsample': 0.5350259055928304, 'colsample_bytree': 0.9213084354835012, 'reg_alpha': 0.5348459461576133, 'reg_lambda': 0.48984715753267927, 'random_state': 754}. Best is trial 23 with value: 7.883011602351739.\u001b[0m\n",
      "\u001b[32m[I 2022-10-23 16:29:05,078]\u001b[0m Trial 40 finished with value: 8.074881997687935 and parameters: {'max_depth': 9, 'learning_rate': 0.08252428002158768, 'n_estimators': 618, 'min_child_weight': 8, 'gamma': 0.18447851326097875, 'subsample': 0.8094397860399917, 'colsample_bytree': 0.6658356416882927, 'reg_alpha': 0.13555162459265807, 'reg_lambda': 0.853971786267691, 'random_state': 193}. Best is trial 23 with value: 7.883011602351739.\u001b[0m\n",
      "\u001b[32m[I 2022-10-23 16:29:24,615]\u001b[0m Trial 41 finished with value: 7.9750289244850014 and parameters: {'max_depth': 7, 'learning_rate': 0.014105833398577433, 'n_estimators': 449, 'min_child_weight': 6, 'gamma': 0.2927910795946985, 'subsample': 0.5940286793134586, 'colsample_bytree': 0.7200789619072862, 'reg_alpha': 0.18463569225914458, 'reg_lambda': 0.5234642608585209, 'random_state': 440}. Best is trial 23 with value: 7.883011602351739.\u001b[0m\n",
      "\u001b[32m[I 2022-10-23 16:29:46,300]\u001b[0m Trial 42 finished with value: 7.974689910359442 and parameters: {'max_depth': 7, 'learning_rate': 0.017799910534913976, 'n_estimators': 432, 'min_child_weight': 6, 'gamma': 0.23238348686069202, 'subsample': 0.5629160932502321, 'colsample_bytree': 0.8542754166473236, 'reg_alpha': 0.05067950965161209, 'reg_lambda': 0.7698068511518203, 'random_state': 496}. Best is trial 23 with value: 7.883011602351739.\u001b[0m\n",
      "\u001b[32m[I 2022-10-23 16:30:15,398]\u001b[0m Trial 43 finished with value: 8.171073344652067 and parameters: {'max_depth': 8, 'learning_rate': 0.06259064216727259, 'n_estimators': 562, 'min_child_weight': 3, 'gamma': 0.09644537804323053, 'subsample': 0.4773867758375427, 'colsample_bytree': 0.7674999148206727, 'reg_alpha': 0.24264506031656977, 'reg_lambda': 0.6573251648733441, 'random_state': 354}. Best is trial 23 with value: 7.883011602351739.\u001b[0m\n",
      "\u001b[32m[I 2022-10-23 16:30:32,244]\u001b[0m Trial 44 finished with value: 8.250519453548142 and parameters: {'max_depth': 8, 'learning_rate': 0.12957746771562942, 'n_estimators': 373, 'min_child_weight': 7, 'gamma': 0.2817328955670403, 'subsample': 0.7295346893174506, 'colsample_bytree': 0.7107073467524545, 'reg_alpha': 0.3499774016184263, 'reg_lambda': 0.5779439158938761, 'random_state': 400}. Best is trial 23 with value: 7.883011602351739.\u001b[0m\n",
      "\u001b[32m[I 2022-10-23 16:30:55,217]\u001b[0m Trial 45 finished with value: 7.952516616637473 and parameters: {'max_depth': 9, 'learning_rate': 0.011159991277721746, 'n_estimators': 506, 'min_child_weight': 7, 'gamma': 0.15959155891014265, 'subsample': 0.35628080039050203, 'colsample_bytree': 0.6326413100539834, 'reg_alpha': 0.1285834570147702, 'reg_lambda': 0.41874402292708335, 'random_state': 280}. Best is trial 23 with value: 7.883011602351739.\u001b[0m\n",
      "\u001b[32m[I 2022-10-23 16:31:12,332]\u001b[0m Trial 46 finished with value: 8.554435242917256 and parameters: {'max_depth': 9, 'learning_rate': 0.05893007058503979, 'n_estimators': 511, 'min_child_weight': 7, 'gamma': 0.16074397704942983, 'subsample': 0.23450102807327594, 'colsample_bytree': 0.4812238802301431, 'reg_alpha': 0.09498098182318035, 'reg_lambda': 0.3298557274337325, 'random_state': 262}. Best is trial 23 with value: 7.883011602351739.\u001b[0m\n",
      "\u001b[32m[I 2022-10-23 16:31:36,925]\u001b[0m Trial 47 finished with value: 24.200724342123742 and parameters: {'max_depth': 10, 'learning_rate': 0.2435065144023214, 'n_estimators': 589, 'min_child_weight': 8, 'gamma': 0.050001835016624044, 'subsample': 0.12781700405139274, 'colsample_bytree': 0.6218703378568032, 'reg_alpha': 0.14392834140900043, 'reg_lambda': 0.1768455777112402, 'random_state': 124}. Best is trial 23 with value: 7.883011602351739.\u001b[0m\n",
      "\u001b[32m[I 2022-10-23 16:31:49,452]\u001b[0m Trial 48 finished with value: 13.12850292092093 and parameters: {'max_depth': 4, 'learning_rate': 0.5792618976934643, 'n_estimators': 538, 'min_child_weight': 7, 'gamma': 0.21030560434220152, 'subsample': 0.41578972720278085, 'colsample_bytree': 0.5554647572015867, 'reg_alpha': 0.5910025326840092, 'reg_lambda': 0.4241262442894649, 'random_state': 959}. Best is trial 23 with value: 7.883011602351739.\u001b[0m\n",
      "\u001b[32m[I 2022-10-23 16:32:10,519]\u001b[0m Trial 49 finished with value: 8.543683610279345 and parameters: {'max_depth': 10, 'learning_rate': 0.10549074110463147, 'n_estimators': 398, 'min_child_weight': 8, 'gamma': 0.8222985214147942, 'subsample': 0.37344174218228543, 'colsample_bytree': 0.6477306339411586, 'reg_alpha': 0.062429357731538515, 'reg_lambda': 0.6833179101939576, 'random_state': 239}. Best is trial 23 with value: 7.883011602351739.\u001b[0m\n",
      "\u001b[32m[I 2022-10-23 16:32:15,768]\u001b[0m Trial 50 finished with value: 8.521704350825747 and parameters: {'max_depth': 1, 'learning_rate': 0.32983625369507846, 'n_estimators': 485, 'min_child_weight': 9, 'gamma': 0.7310929446207077, 'subsample': 0.3429703319070688, 'colsample_bytree': 0.29301404094275096, 'reg_alpha': 0.26028583950495504, 'reg_lambda': 0.6040766179946165, 'random_state': 287}. Best is trial 23 with value: 7.883011602351739.\u001b[0m\n",
      "\u001b[32m[I 2022-10-23 16:32:36,789]\u001b[0m Trial 51 finished with value: 7.959820251979934 and parameters: {'max_depth': 9, 'learning_rate': 0.013576642828286375, 'n_estimators': 449, 'min_child_weight': 6, 'gamma': 0.3701455760570236, 'subsample': 0.48664216552945316, 'colsample_bytree': 0.5747531596297059, 'reg_alpha': 0.3311951719988779, 'reg_lambda': 0.516287643548901, 'random_state': 551}. Best is trial 23 with value: 7.883011602351739.\u001b[0m\n",
      "\u001b[32m[I 2022-10-23 16:32:49,653]\u001b[0m Trial 52 finished with value: 8.517916345785684 and parameters: {'max_depth': 9, 'learning_rate': 0.05558272370316336, 'n_estimators': 334, 'min_child_weight': 5, 'gamma': 0.36967304926790046, 'subsample': 0.22354826940741487, 'colsample_bytree': 0.5619291425506936, 'reg_alpha': 0.32987661122397915, 'reg_lambda': 0.45948101178037637, 'random_state': 554}. Best is trial 23 with value: 7.883011602351739.\u001b[0m\n",
      "\u001b[32m[I 2022-10-23 16:33:07,631]\u001b[0m Trial 53 finished with value: 8.03979792969865 and parameters: {'max_depth': 10, 'learning_rate': 0.03897803627307642, 'n_estimators': 442, 'min_child_weight': 7, 'gamma': 0.464208074109, 'subsample': 0.47910636045542215, 'colsample_bytree': 0.39566437071562666, 'reg_alpha': 0.41600219402368344, 'reg_lambda': 0.5013914092777023, 'random_state': 677}. Best is trial 23 with value: 7.883011602351739.\u001b[0m\n",
      "\u001b[32m[I 2022-10-23 16:33:29,543]\u001b[0m Trial 54 finished with value: 8.486937746548419 and parameters: {'max_depth': 9, 'learning_rate': 0.1421047600796132, 'n_estimators': 517, 'min_child_weight': 6, 'gamma': 0.4248601602441846, 'subsample': 0.6257638012811126, 'colsample_bytree': 0.5311581632246132, 'reg_alpha': 0.39106802582579286, 'reg_lambda': 0.2928861700099725, 'random_state': 364}. Best is trial 23 with value: 7.883011602351739.\u001b[0m\n",
      "\u001b[32m[I 2022-10-23 16:33:45,361]\u001b[0m Trial 55 finished with value: 9.127191101712526 and parameters: {'max_depth': 9, 'learning_rate': 0.19605750965559618, 'n_estimators': 419, 'min_child_weight': 4, 'gamma': 0.5801006455629762, 'subsample': 0.4567651466377668, 'colsample_bytree': 0.44404035680737663, 'reg_alpha': 0.46524970826262724, 'reg_lambda': 0.39361889033941977, 'random_state': 611}. Best is trial 23 with value: 7.883011602351739.\u001b[0m\n",
      "\u001b[32m[I 2022-10-23 16:33:49,928]\u001b[0m Trial 56 finished with value: 905.4621439553266 and parameters: {'max_depth': 10, 'learning_rate': 0.7136572292732811, 'n_estimators': 286, 'min_child_weight': 7, 'gamma': 0.32327471543764474, 'subsample': 0.27632304437308797, 'colsample_bytree': 0.10878513021694552, 'reg_alpha': 0.316019349582307, 'reg_lambda': 0.08534670749208206, 'random_state': 466}. Best is trial 23 with value: 7.883011602351739.\u001b[0m\n"
     ]
    },
    {
     "name": "stderr",
     "output_type": "stream",
     "text": [
      "\u001b[32m[I 2022-10-23 16:34:04,900]\u001b[0m Trial 57 finished with value: 7.973971675178946 and parameters: {'max_depth': 8, 'learning_rate': 0.04401306644505023, 'n_estimators': 356, 'min_child_weight': 6, 'gamma': 0.13346229671605425, 'subsample': 0.6770018418665249, 'colsample_bytree': 0.6088262807074901, 'reg_alpha': 0.11978019961305468, 'reg_lambda': 0.6463176650844165, 'random_state': 308}. Best is trial 23 with value: 7.883011602351739.\u001b[0m\n",
      "\u001b[32m[I 2022-10-23 16:34:19,275]\u001b[0m Trial 58 finished with value: 11.978178757976723 and parameters: {'max_depth': 5, 'learning_rate': 0.9796869563333881, 'n_estimators': 655, 'min_child_weight': 5, 'gamma': 0.6471408612585472, 'subsample': 0.8717095284385461, 'colsample_bytree': 0.4750602549686529, 'reg_alpha': 0.5078651071395436, 'reg_lambda': 0.7501440141135645, 'random_state': 512}. Best is trial 23 with value: 7.883011602351739.\u001b[0m\n",
      "\u001b[32m[I 2022-10-23 16:34:37,344]\u001b[0m Trial 59 finished with value: 8.379154623201797 and parameters: {'max_depth': 10, 'learning_rate': 0.11120200329435447, 'n_estimators': 385, 'min_child_weight': 8, 'gamma': 0.36354890803482653, 'subsample': 0.5186409952714266, 'colsample_bytree': 0.5046899434310655, 'reg_alpha': 0.2815189452120702, 'reg_lambda': 0.548091629144853, 'random_state': 404}. Best is trial 23 with value: 7.883011602351739.\u001b[0m\n",
      "\u001b[32m[I 2022-10-23 16:35:20,801]\u001b[0m Trial 60 finished with value: 8.339881907577453 and parameters: {'max_depth': 9, 'learning_rate': 0.1665030992391943, 'n_estimators': 992, 'min_child_weight': 6, 'gamma': 0.18549574832748156, 'subsample': 0.9673187521735075, 'colsample_bytree': 0.6903366027943869, 'reg_alpha': 0.1627184944412218, 'reg_lambda': 0.20607093128732132, 'random_state': 154}. Best is trial 23 with value: 7.883011602351739.\u001b[0m\n",
      "\u001b[32m[I 2022-10-23 16:35:29,395]\u001b[0m Trial 61 finished with value: 8.355908858602502 and parameters: {'max_depth': 2, 'learning_rate': 0.01364268964733513, 'n_estimators': 462, 'min_child_weight': 6, 'gamma': 0.24872647904092848, 'subsample': 0.5589900527572759, 'colsample_bytree': 0.7481519412726484, 'reg_alpha': 0.1996745691972064, 'reg_lambda': 0.5275638677984092, 'random_state': 430}. Best is trial 23 with value: 7.883011602351739.\u001b[0m\n",
      "\u001b[32m[I 2022-10-23 16:35:55,817]\u001b[0m Trial 62 finished with value: 7.900852044751665 and parameters: {'max_depth': 8, 'learning_rate': 0.012361892217195242, 'n_estimators': 483, 'min_child_weight': 7, 'gamma': 0.31857438244204533, 'subsample': 0.6302704696973525, 'colsample_bytree': 0.8398891438788549, 'reg_alpha': 0.23867306500733765, 'reg_lambda': 0.4438846786260754, 'random_state': 591}. Best is trial 23 with value: 7.883011602351739.\u001b[0m\n",
      "\u001b[32m[I 2022-10-23 16:36:26,903]\u001b[0m Trial 63 finished with value: 8.074702360745551 and parameters: {'max_depth': 8, 'learning_rate': 0.057565908176792156, 'n_estimators': 562, 'min_child_weight': 7, 'gamma': 0.9953762164295028, 'subsample': 0.6560721887044328, 'colsample_bytree': 0.8762320541110422, 'reg_alpha': 0.24206396233961563, 'reg_lambda': 0.3550848613756408, 'random_state': 633}. Best is trial 23 with value: 7.883011602351739.\u001b[0m\n",
      "\u001b[32m[I 2022-10-23 16:36:56,423]\u001b[0m Trial 64 finished with value: 8.140557983485296 and parameters: {'max_depth': 9, 'learning_rate': 0.09393681336995009, 'n_estimators': 493, 'min_child_weight': 8, 'gamma': 0.3124867376802374, 'subsample': 0.7467699992721971, 'colsample_bytree': 0.9081728212303669, 'reg_alpha': 0.038704303892610245, 'reg_lambda': 0.445064613553526, 'random_state': 729}. Best is trial 23 with value: 7.883011602351739.\u001b[0m\n",
      "\u001b[32m[I 2022-10-23 16:37:18,012]\u001b[0m Trial 65 finished with value: 7.989050062087153 and parameters: {'max_depth': 6, 'learning_rate': 0.03886507142341748, 'n_estimators': 541, 'min_child_weight': 7, 'gamma': 0.444868139454234, 'subsample': 0.6977277100188655, 'colsample_bytree': 0.8365069054041021, 'reg_alpha': 0.4617735705676961, 'reg_lambda': 0.6103617696911026, 'random_state': 540}. Best is trial 23 with value: 7.883011602351739.\u001b[0m\n",
      "\u001b[32m[I 2022-10-23 16:37:39,908]\u001b[0m Trial 66 finished with value: 8.33710646166005 and parameters: {'max_depth': 8, 'learning_rate': 0.12150217940328276, 'n_estimators': 419, 'min_child_weight': 7, 'gamma': 0.529940691300866, 'subsample': 0.5989024263388903, 'colsample_bytree': 0.7906400465582315, 'reg_alpha': 0.11484281169155071, 'reg_lambda': 0.49123880324479363, 'random_state': 569}. Best is trial 23 with value: 7.883011602351739.\u001b[0m\n",
      "\u001b[32m[I 2022-10-23 16:38:03,852]\u001b[0m Trial 67 finished with value: 8.138037386816709 and parameters: {'max_depth': 9, 'learning_rate': 0.07705423268144834, 'n_estimators': 480, 'min_child_weight': 6, 'gamma': 0.10059640449021985, 'subsample': 0.6256069357875506, 'colsample_bytree': 0.6462251990915293, 'reg_alpha': 0.21901214827689253, 'reg_lambda': 0.6723405985602187, 'random_state': 586}. Best is trial 23 with value: 7.883011602351739.\u001b[0m\n",
      "\u001b[32m[I 2022-10-23 16:38:11,182]\u001b[0m Trial 68 finished with value: 7.981874084321158 and parameters: {'max_depth': 10, 'learning_rate': 0.015035094655146563, 'n_estimators': 603, 'min_child_weight': 8, 'gamma': 0.3919942272609742, 'subsample': 0.7962264789950371, 'colsample_bytree': 0.013766766431246247, 'reg_alpha': 0.2632741511401153, 'reg_lambda': 0.2844177489915922, 'random_state': 642}. Best is trial 23 with value: 7.883011602351739.\u001b[0m\n",
      "\u001b[32m[I 2022-10-23 16:38:28,138]\u001b[0m Trial 69 finished with value: 13.09421448400996 and parameters: {'max_depth': 8, 'learning_rate': 0.9098742669666028, 'n_estimators': 437, 'min_child_weight': 5, 'gamma': 0.3488591577486141, 'subsample': 0.7333173887952279, 'colsample_bytree': 0.5848415623355989, 'reg_alpha': 0.3303377099016871, 'reg_lambda': 0.40066302284590216, 'random_state': 486}. Best is trial 23 with value: 7.883011602351739.\u001b[0m\n",
      "\u001b[32m[I 2022-10-23 16:38:47,790]\u001b[0m Trial 70 finished with value: 8.079225173336127 and parameters: {'max_depth': 10, 'learning_rate': 0.043501472752986554, 'n_estimators': 343, 'min_child_weight': 9, 'gamma': 0.011761857797259467, 'subsample': 0.44112610291298326, 'colsample_bytree': 0.6798414032642756, 'reg_alpha': 0.07584416382919856, 'reg_lambda': 0.5697745258223126, 'random_state': 46}. Best is trial 23 with value: 7.883011602351739.\u001b[0m\n",
      "\u001b[32m[I 2022-10-23 16:39:07,776]\u001b[0m Trial 71 finished with value: 7.94393023035657 and parameters: {'max_depth': 7, 'learning_rate': 0.014537943277718304, 'n_estimators': 457, 'min_child_weight': 6, 'gamma': 0.21772710590612754, 'subsample': 0.5771543260480216, 'colsample_bytree': 0.7290712124463254, 'reg_alpha': 0.14337126804079778, 'reg_lambda': 0.5435367510009967, 'random_state': 428}. Best is trial 23 with value: 7.883011602351739.\u001b[0m\n",
      "\u001b[32m[I 2022-10-23 16:39:25,388]\u001b[0m Trial 72 finished with value: 8.221371909149873 and parameters: {'max_depth': 7, 'learning_rate': 0.08189013020363346, 'n_estimators': 395, 'min_child_weight': 7, 'gamma': 0.23380060980522765, 'subsample': 0.5403084923539883, 'colsample_bytree': 0.7363277425805064, 'reg_alpha': 0.17517096269480578, 'reg_lambda': 0.4784641129501427, 'random_state': 346}. Best is trial 23 with value: 7.883011602351739.\u001b[0m\n",
      "\u001b[32m[I 2022-10-23 16:39:55,191]\u001b[0m Trial 73 finished with value: 8.066793017984542 and parameters: {'max_depth': 9, 'learning_rate': 0.0462656727408388, 'n_estimators': 510, 'min_child_weight': 6, 'gamma': 0.14033853090029771, 'subsample': 0.5080687218656099, 'colsample_bytree': 0.7711520543903885, 'reg_alpha': 0.030822895026155137, 'reg_lambda': 0.44520017149797914, 'random_state': 522}. Best is trial 23 with value: 7.883011602351739.\u001b[0m\n",
      "\u001b[32m[I 2022-10-23 16:40:20,201]\u001b[0m Trial 74 finished with value: 7.89955989074101 and parameters: {'max_depth': 8, 'learning_rate': 0.011039764203433427, 'n_estimators': 462, 'min_child_weight': 7, 'gamma': 0.2026082284903873, 'subsample': 0.6439859973707098, 'colsample_bytree': 0.8360151167491516, 'reg_alpha': 0.1599488202353879, 'reg_lambda': 0.5563822760770287, 'random_state': 391}. Best is trial 23 with value: 7.883011602351739.\u001b[0m\n",
      "\u001b[32m[I 2022-10-23 16:40:52,630]\u001b[0m Trial 75 finished with value: 8.311282515936123 and parameters: {'max_depth': 8, 'learning_rate': 0.11810835908430792, 'n_estimators': 553, 'min_child_weight': 8, 'gamma': 0.19929148568259875, 'subsample': 0.6687230637156474, 'colsample_bytree': 0.9556163170372338, 'reg_alpha': 0.12931742238014055, 'reg_lambda': 0.6280412619939726, 'random_state': 301}. Best is trial 23 with value: 7.883011602351739.\u001b[0m\n"
     ]
    },
    {
     "name": "stderr",
     "output_type": "stream",
     "text": [
      "\u001b[32m[I 2022-10-23 16:41:12,172]\u001b[0m Trial 76 finished with value: 9.120046757452382 and parameters: {'max_depth': 7, 'learning_rate': 0.42457868293836654, 'n_estimators': 466, 'min_child_weight': 7, 'gamma': 0.05567817968381133, 'subsample': 0.9063119976727665, 'colsample_bytree': 0.8162383807642523, 'reg_alpha': 0.16112247690192888, 'reg_lambda': 0.5537893074851772, 'random_state': 388}. Best is trial 23 with value: 7.883011602351739.\u001b[0m\n",
      "\u001b[32m[I 2022-10-23 16:41:42,988]\u001b[0m Trial 77 finished with value: 8.081578281110703 and parameters: {'max_depth': 8, 'learning_rate': 0.07059201751432378, 'n_estimators': 525, 'min_child_weight': 7, 'gamma': 0.2965141132121014, 'subsample': 0.5820898149673014, 'colsample_bytree': 0.8961036490982147, 'reg_alpha': 0.09689236104803953, 'reg_lambda': 0.5840631933376146, 'random_state': 425}. Best is trial 23 with value: 7.883011602351739.\u001b[0m\n",
      "\u001b[32m[I 2022-10-23 16:42:00,274]\u001b[0m Trial 78 finished with value: 8.40600836008732 and parameters: {'max_depth': 6, 'learning_rate': 0.14822298635457565, 'n_estimators': 411, 'min_child_weight': 8, 'gamma': 0.16044961460120558, 'subsample': 0.6366934810628525, 'colsample_bytree': 0.8431428105797568, 'reg_alpha': 0.06598406298550727, 'reg_lambda': 0.7661625621206992, 'random_state': 333}. Best is trial 23 with value: 7.883011602351739.\u001b[0m\n",
      "\u001b[32m[I 2022-10-23 16:42:25,901]\u001b[0m Trial 79 finished with value: 8.016912280550576 and parameters: {'max_depth': 7, 'learning_rate': 0.037468928928236986, 'n_estimators': 496, 'min_child_weight': 1, 'gamma': 0.22171497933184092, 'subsample': 0.6940437627021169, 'colsample_bytree': 0.9500157704540345, 'reg_alpha': 0.21465147864586528, 'reg_lambda': 0.42762801126036093, 'random_state': 458}. Best is trial 23 with value: 7.883011602351739.\u001b[0m\n",
      "\u001b[32m[I 2022-10-23 16:42:31,041]\u001b[0m Trial 80 finished with value: 8.747622357924715 and parameters: {'max_depth': 8, 'learning_rate': 0.25224009491149874, 'n_estimators': 101, 'min_child_weight': 7, 'gamma': 0.9533214744306043, 'subsample': 0.7491924206355185, 'colsample_bytree': 0.778995138304196, 'reg_alpha': 0.17873031456171232, 'reg_lambda': 0.8402681468693906, 'random_state': 275}. Best is trial 23 with value: 7.883011602351739.\u001b[0m\n",
      "\u001b[32m[I 2022-10-23 16:42:51,989]\u001b[0m Trial 81 finished with value: 8.032542518765199 and parameters: {'max_depth': 9, 'learning_rate': 0.022694971173257743, 'n_estimators': 456, 'min_child_weight': 6, 'gamma': 0.265217822673884, 'subsample': 0.3633057671032961, 'colsample_bytree': 0.629067937498686, 'reg_alpha': 0.1392481421323442, 'reg_lambda': 0.5298763965375702, 'random_state': 496}. Best is trial 23 with value: 7.883011602351739.\u001b[0m\n",
      "\u001b[32m[I 2022-10-23 16:43:16,446]\u001b[0m Trial 82 finished with value: 8.19255413618989 and parameters: {'max_depth': 9, 'learning_rate': 0.09255850493621484, 'n_estimators': 440, 'min_child_weight': 5, 'gamma': 0.08726353324794357, 'subsample': 0.6075007573035357, 'colsample_bytree': 0.7366749048803523, 'reg_alpha': 0.29583688003632114, 'reg_lambda': 0.5085473156160821, 'random_state': 384}. Best is trial 23 with value: 7.883011602351739.\u001b[0m\n",
      "\u001b[32m[I 2022-10-23 16:43:45,337]\u001b[0m Trial 83 finished with value: 7.908547568832531 and parameters: {'max_depth': 8, 'learning_rate': 0.010929111418933986, 'n_estimators': 584, 'min_child_weight': 6, 'gamma': 0.11815364780326874, 'subsample': 0.8455395297706902, 'colsample_bytree': 0.8268015855641909, 'reg_alpha': 0.014124756754724946, 'reg_lambda': 0.3274124354059057, 'random_state': 466}. Best is trial 23 with value: 7.883011602351739.\u001b[0m\n",
      "\u001b[32m[I 2022-10-23 16:44:13,584]\u001b[0m Trial 84 finished with value: 7.9742108638178655 and parameters: {'max_depth': 8, 'learning_rate': 0.06464767128874502, 'n_estimators': 589, 'min_child_weight': 7, 'gamma': 0.12171814759362833, 'subsample': 0.85551417156057, 'colsample_bytree': 0.8163119800721159, 'reg_alpha': 0.032799755522492924, 'reg_lambda': 0.33269098405086217, 'random_state': 415}. Best is trial 23 with value: 7.883011602351739.\u001b[0m\n",
      "\u001b[32m[I 2022-10-23 16:44:52,225]\u001b[0m Trial 85 finished with value: 7.906466214960456 and parameters: {'max_depth': 8, 'learning_rate': 0.012272919706642167, 'n_estimators': 752, 'min_child_weight': 6, 'gamma': 0.1714575720856671, 'subsample': 0.8346679144492202, 'colsample_bytree': 0.8607936538149, 'reg_alpha': 0.08409493105624521, 'reg_lambda': 0.2262789915047531, 'random_state': 451}. Best is trial 23 with value: 7.883011602351739.\u001b[0m\n",
      "\u001b[32m[I 2022-10-23 16:45:32,462]\u001b[0m Trial 86 finished with value: 7.921457504007846 and parameters: {'max_depth': 7, 'learning_rate': 0.03611050231532449, 'n_estimators': 813, 'min_child_weight': 6, 'gamma': 0.19376344416012586, 'subsample': 0.9106321887997877, 'colsample_bytree': 0.9992829094114709, 'reg_alpha': 0.014167336447601445, 'reg_lambda': 0.25792643558534883, 'random_state': 477}. Best is trial 23 with value: 7.883011602351739.\u001b[0m\n",
      "\u001b[32m[I 2022-10-23 16:46:08,914]\u001b[0m Trial 87 finished with value: 8.365624411383223 and parameters: {'max_depth': 6, 'learning_rate': 0.18090038454593677, 'n_estimators': 844, 'min_child_weight': 6, 'gamma': 0.20088735787502462, 'subsample': 0.8403697433288473, 'colsample_bytree': 0.9966539733856117, 'reg_alpha': 0.04940446618626723, 'reg_lambda': 0.2415877377104752, 'random_state': 454}. Best is trial 23 with value: 7.883011602351739.\u001b[0m\n",
      "\u001b[32m[I 2022-10-23 16:46:46,652]\u001b[0m Trial 88 finished with value: 8.060786281895757 and parameters: {'max_depth': 7, 'learning_rate': 0.10626313104288024, 'n_estimators': 867, 'min_child_weight': 6, 'gamma': 0.07424883980683036, 'subsample': 0.9971677953672404, 'colsample_bytree': 0.8789343938901236, 'reg_alpha': 0.01274221441287696, 'reg_lambda': 0.20006478540762737, 'random_state': 478}. Best is trial 23 with value: 7.883011602351739.\u001b[0m\n",
      "\u001b[32m[I 2022-10-23 16:47:23,031]\u001b[0m Trial 89 finished with value: 7.920194290995377 and parameters: {'max_depth': 7, 'learning_rate': 0.03768480362286915, 'n_estimators': 776, 'min_child_weight': 5, 'gamma': 0.17488155749784856, 'subsample': 0.927128125138686, 'colsample_bytree': 0.9297493249141467, 'reg_alpha': 0.08556881880002473, 'reg_lambda': 0.1586968227610531, 'random_state': 511}. Best is trial 23 with value: 7.883011602351739.\u001b[0m\n",
      "\u001b[32m[I 2022-10-23 16:47:59,555]\u001b[0m Trial 90 finished with value: 8.152279786455084 and parameters: {'max_depth': 7, 'learning_rate': 0.13025169113797902, 'n_estimators': 782, 'min_child_weight': 4, 'gamma': 0.17614772515473032, 'subsample': 0.9194201233170167, 'colsample_bytree': 0.9417037357828616, 'reg_alpha': 0.09983003992125303, 'reg_lambda': 0.1258843718036073, 'random_state': 524}. Best is trial 23 with value: 7.883011602351739.\u001b[0m\n",
      "\u001b[32m[I 2022-10-23 16:48:36,824]\u001b[0m Trial 91 finished with value: 7.940658455713104 and parameters: {'max_depth': 7, 'learning_rate': 0.03482359595739576, 'n_estimators': 773, 'min_child_weight': 5, 'gamma': 0.23756158246548065, 'subsample': 0.8136827064722882, 'colsample_bytree': 0.9279759031021237, 'reg_alpha': 0.07245726787792138, 'reg_lambda': 0.2224516155430261, 'random_state': 445}. Best is trial 23 with value: 7.883011602351739.\u001b[0m\n",
      "\u001b[32m[I 2022-10-23 16:49:20,616]\u001b[0m Trial 92 finished with value: 7.9476256813168495 and parameters: {'max_depth': 8, 'learning_rate': 0.043376751016062295, 'n_estimators': 800, 'min_child_weight': 5, 'gamma': 0.24361336216437518, 'subsample': 0.9514554230130656, 'colsample_bytree': 0.976216662649148, 'reg_alpha': 0.07453373007729958, 'reg_lambda': 0.2607758919102404, 'random_state': 371}. Best is trial 23 with value: 7.883011602351739.\u001b[0m\n",
      "\u001b[32m[I 2022-10-23 16:49:54,066]\u001b[0m Trial 93 finished with value: 8.075166982439166 and parameters: {'max_depth': 7, 'learning_rate': 0.06505385926346512, 'n_estimators': 742, 'min_child_weight': 5, 'gamma': 0.1445882228832014, 'subsample': 0.8157531506505528, 'colsample_bytree': 0.8623130528492737, 'reg_alpha': 0.011239503557096964, 'reg_lambda': 0.2174751221735428, 'random_state': 453}. Best is trial 23 with value: 7.883011602351739.\u001b[0m\n",
      "\u001b[32m[I 2022-10-23 16:50:25,516]\u001b[0m Trial 94 finished with value: 8.00470044290322 and parameters: {'max_depth': 5, 'learning_rate': 0.03610627676990999, 'n_estimators': 878, 'min_child_weight': 4, 'gamma': 0.10332202892825318, 'subsample': 0.7892977632060136, 'colsample_bytree': 0.9330876520415265, 'reg_alpha': 0.04861129451690646, 'reg_lambda': 0.1403034347152139, 'random_state': 500}. Best is trial 23 with value: 7.883011602351739.\u001b[0m\n"
     ]
    },
    {
     "name": "stderr",
     "output_type": "stream",
     "text": [
      "\u001b[32m[I 2022-10-23 16:51:00,182]\u001b[0m Trial 95 finished with value: 8.038034654970298 and parameters: {'max_depth': 7, 'learning_rate': 0.08789764874438713, 'n_estimators': 766, 'min_child_weight': 5, 'gamma': 0.19216090396034904, 'subsample': 0.8817255440725023, 'colsample_bytree': 0.899799973749173, 'reg_alpha': 0.09094852951091877, 'reg_lambda': 0.096845901482072, 'random_state': 597}. Best is trial 23 with value: 7.883011602351739.\u001b[0m\n",
      "\u001b[32m[I 2022-10-23 16:51:36,322]\u001b[0m Trial 96 finished with value: 8.035570158793051 and parameters: {'max_depth': 8, 'learning_rate': 0.06099896107348876, 'n_estimators': 716, 'min_child_weight': 3, 'gamma': 0.27585129707876876, 'subsample': 0.7618117273671409, 'colsample_bytree': 0.8276113704401658, 'reg_alpha': 0.06449184986628678, 'reg_lambda': 0.17565755355538268, 'random_state': 391}. Best is trial 23 with value: 7.883011602351739.\u001b[0m\n",
      "\u001b[32m[I 2022-10-23 16:52:15,691]\u001b[0m Trial 97 finished with value: 7.953642399196812 and parameters: {'max_depth': 6, 'learning_rate': 0.0315312675197987, 'n_estimators': 903, 'min_child_weight': 4, 'gamma': 0.12186898789026532, 'subsample': 0.8334516422962706, 'colsample_bytree': 0.9981461397912219, 'reg_alpha': 0.11479635480588687, 'reg_lambda': 0.2723908142720069, 'random_state': 473}. Best is trial 23 with value: 7.883011602351739.\u001b[0m\n",
      "\u001b[32m[I 2022-10-23 16:52:51,322]\u001b[0m Trial 98 finished with value: 10.647958983597315 and parameters: {'max_depth': 8, 'learning_rate': 0.5849116060706022, 'n_estimators': 692, 'min_child_weight': 5, 'gamma': 0.038371035378337026, 'subsample': 0.7193417013679492, 'colsample_bytree': 0.8665518747809886, 'reg_alpha': 0.02936025000449536, 'reg_lambda': 0.1739080458270972, 'random_state': 447}. Best is trial 23 with value: 7.883011602351739.\u001b[0m\n",
      "\u001b[32m[I 2022-10-23 16:53:31,224]\u001b[0m Trial 99 finished with value: 8.177623345594984 and parameters: {'max_depth': 8, 'learning_rate': 0.09929198354031202, 'n_estimators': 766, 'min_child_weight': 5, 'gamma': 0.1512077933493542, 'subsample': 0.8634706009550454, 'colsample_bytree': 0.9227969376924746, 'reg_alpha': 0.08104134964975625, 'reg_lambda': 0.23331542703759267, 'random_state': 510}. Best is trial 23 with value: 7.883011602351739.\u001b[0m\n"
     ]
    }
   ],
   "source": [
    "study_2.optimize(objective, n_trials=100)"
   ]
  },
  {
   "cell_type": "code",
   "execution_count": 30,
   "id": "07425f53",
   "metadata": {},
   "outputs": [
    {
     "name": "stdout",
     "output_type": "stream",
     "text": [
      "Best parameters {'max_depth': 10, 'learning_rate': 0.012566912501914329, 'n_estimators': 441, 'min_child_weight': 8, 'gamma': 0.2963879202097287, 'subsample': 0.731398267699396, 'colsample_bytree': 0.7193328008372396, 'reg_alpha': 0.02038070745096826, 'reg_lambda': 0.7337685769701584, 'random_state': 435}\n",
      "Best value 7.883011602351739\n"
     ]
    }
   ],
   "source": [
    "print('Best value', study_2.best_value)"
   ]
  },
  {
   "cell_type": "markdown",
   "id": "c35d0b08",
   "metadata": {},
   "source": [
    "Cette fois-ci, c'est clairement moins bien qu'avant. "
   ]
  },
  {
   "cell_type": "markdown",
   "id": "ea8e7443",
   "metadata": {},
   "source": [
    "# Choix du model."
   ]
  },
  {
   "cell_type": "markdown",
   "id": "b0e9f18b",
   "metadata": {},
   "source": [
    "On reconstruit le model de l'optimisation 'study_1'."
   ]
  },
  {
   "cell_type": "code",
   "execution_count": 31,
   "id": "04d6cdcd",
   "metadata": {},
   "outputs": [],
   "source": [
    "X_train, X_test, y_train, y_test = train_test_split(X1, y, random_state=21, train_size=0.7, shuffle=True)\n",
    "\n",
    "std = StandardScaler()\n",
    "\n",
    "std.fit(X_train)\n",
    "\n",
    "X_train_std = std.transform(X_train)\n",
    "X_test_std = std.transform(X_test)"
   ]
  },
  {
   "cell_type": "code",
   "execution_count": 32,
   "id": "1df41332",
   "metadata": {},
   "outputs": [],
   "source": [
    "b = study_1.best_params"
   ]
  },
  {
   "cell_type": "code",
   "execution_count": 33,
   "id": "b5440877",
   "metadata": {},
   "outputs": [],
   "source": [
    "model = xgb.XGBRegressor(\n",
    "    max_depth=b['max_depth'],\n",
    "    learning_rate=b['learning_rate'],\n",
    "    n_estimators=b['n_estimators'],\n",
    "    min_child_weight=b['min_child_weight'],\n",
    "    gamma=b['gamma'],\n",
    "    subsample=b['subsample'],\n",
    "    colsample_bytree=b['colsample_bytree'],\n",
    "    reg_alpha=b['reg_alpha'],\n",
    "    reg_lambda=b['reg_lambda'],\n",
    "    random_state=b['random_state']\n",
    "            )\n"
   ]
  },
  {
   "cell_type": "code",
   "execution_count": 34,
   "id": "32146dde",
   "metadata": {},
   "outputs": [
    {
     "data": {
      "text/plain": [
       "5.75034422411122"
      ]
     },
     "execution_count": 34,
     "metadata": {},
     "output_type": "execute_result"
    }
   ],
   "source": [
    "model.fit(X_train_std, y_train)\n",
    "y_pred = model.predict(X_test_std)\n",
    "metrics.mean_absolute_error(y_test, y_pred)"
   ]
  },
  {
   "cell_type": "code",
   "execution_count": 35,
   "id": "41cb4e15",
   "metadata": {},
   "outputs": [
    {
     "data": {
      "text/plain": [
       "0.5949566597882878"
      ]
     },
     "execution_count": 35,
     "metadata": {},
     "output_type": "execute_result"
    }
   ],
   "source": [
    "metrics.r2_score(y_test, y_pred)"
   ]
  },
  {
   "cell_type": "markdown",
   "id": "3c39de8a",
   "metadata": {},
   "source": [
    "# Prédiction"
   ]
  },
  {
   "cell_type": "markdown",
   "id": "a4dcf7ad",
   "metadata": {},
   "source": [
    "On charge le fichier contenant les données de test avec les features correspondant au model que nous avons choisi, ainsi que le fichier 'sample_submission.csv' ou nous alons enregistrer la prédiction."
   ]
  },
  {
   "cell_type": "code",
   "execution_count": 36,
   "id": "6745d56b",
   "metadata": {},
   "outputs": [],
   "source": [
    "df_test = pd.read_csv(\"Data/test_1_for_modelisation.csv\")\n",
    "sub = pd.read_csv(\"Data/sample_submission.csv\")"
   ]
  },
  {
   "cell_type": "code",
   "execution_count": 37,
   "id": "74764c04",
   "metadata": {},
   "outputs": [
    {
     "data": {
      "text/html": [
       "<div>\n",
       "<style scoped>\n",
       "    .dataframe tbody tr th:only-of-type {\n",
       "        vertical-align: middle;\n",
       "    }\n",
       "\n",
       "    .dataframe tbody tr th {\n",
       "        vertical-align: top;\n",
       "    }\n",
       "\n",
       "    .dataframe thead th {\n",
       "        text-align: right;\n",
       "    }\n",
       "</style>\n",
       "<table border=\"1\" class=\"dataframe\">\n",
       "  <thead>\n",
       "    <tr style=\"text-align: right;\">\n",
       "      <th></th>\n",
       "      <th>seq_id</th>\n",
       "      <th>protein_sequence</th>\n",
       "      <th>pH</th>\n",
       "      <th>groupe</th>\n",
       "      <th>A</th>\n",
       "      <th>C</th>\n",
       "      <th>D</th>\n",
       "      <th>E</th>\n",
       "      <th>F</th>\n",
       "      <th>G</th>\n",
       "      <th>...</th>\n",
       "      <th>M</th>\n",
       "      <th>N</th>\n",
       "      <th>P</th>\n",
       "      <th>Q</th>\n",
       "      <th>R</th>\n",
       "      <th>S</th>\n",
       "      <th>T</th>\n",
       "      <th>V</th>\n",
       "      <th>W</th>\n",
       "      <th>Y</th>\n",
       "    </tr>\n",
       "  </thead>\n",
       "  <tbody>\n",
       "    <tr>\n",
       "      <th>0</th>\n",
       "      <td>31390</td>\n",
       "      <td>VPVNPEPDATSVENVAEKTGSGDSQSDPIKADLEVKGQSALPFDVD...</td>\n",
       "      <td>8</td>\n",
       "      <td>21793</td>\n",
       "      <td>22</td>\n",
       "      <td>4</td>\n",
       "      <td>15</td>\n",
       "      <td>8</td>\n",
       "      <td>10</td>\n",
       "      <td>19</td>\n",
       "      <td>...</td>\n",
       "      <td>0</td>\n",
       "      <td>19</td>\n",
       "      <td>17</td>\n",
       "      <td>13</td>\n",
       "      <td>3</td>\n",
       "      <td>18</td>\n",
       "      <td>8</td>\n",
       "      <td>13</td>\n",
       "      <td>6</td>\n",
       "      <td>6</td>\n",
       "    </tr>\n",
       "    <tr>\n",
       "      <th>1</th>\n",
       "      <td>31391</td>\n",
       "      <td>VPVNPEPDATSVENVAKKTGSGDSQSDPIKADLEVKGQSALPFDVD...</td>\n",
       "      <td>8</td>\n",
       "      <td>21793</td>\n",
       "      <td>22</td>\n",
       "      <td>4</td>\n",
       "      <td>15</td>\n",
       "      <td>7</td>\n",
       "      <td>10</td>\n",
       "      <td>19</td>\n",
       "      <td>...</td>\n",
       "      <td>0</td>\n",
       "      <td>19</td>\n",
       "      <td>17</td>\n",
       "      <td>13</td>\n",
       "      <td>3</td>\n",
       "      <td>18</td>\n",
       "      <td>8</td>\n",
       "      <td>13</td>\n",
       "      <td>6</td>\n",
       "      <td>6</td>\n",
       "    </tr>\n",
       "    <tr>\n",
       "      <th>2</th>\n",
       "      <td>31392</td>\n",
       "      <td>VPVNPEPDATSVENVAKTGSGDSQSDPIKADLEVKGQSALPFDVDC...</td>\n",
       "      <td>8</td>\n",
       "      <td>21793</td>\n",
       "      <td>22</td>\n",
       "      <td>4</td>\n",
       "      <td>15</td>\n",
       "      <td>7</td>\n",
       "      <td>10</td>\n",
       "      <td>19</td>\n",
       "      <td>...</td>\n",
       "      <td>0</td>\n",
       "      <td>19</td>\n",
       "      <td>17</td>\n",
       "      <td>13</td>\n",
       "      <td>3</td>\n",
       "      <td>18</td>\n",
       "      <td>8</td>\n",
       "      <td>13</td>\n",
       "      <td>6</td>\n",
       "      <td>6</td>\n",
       "    </tr>\n",
       "    <tr>\n",
       "      <th>3</th>\n",
       "      <td>31393</td>\n",
       "      <td>VPVNPEPDATSVENVALCTGSGDSQSDPIKADLEVKGQSALPFDVD...</td>\n",
       "      <td>8</td>\n",
       "      <td>21793</td>\n",
       "      <td>22</td>\n",
       "      <td>5</td>\n",
       "      <td>15</td>\n",
       "      <td>7</td>\n",
       "      <td>10</td>\n",
       "      <td>19</td>\n",
       "      <td>...</td>\n",
       "      <td>0</td>\n",
       "      <td>19</td>\n",
       "      <td>17</td>\n",
       "      <td>13</td>\n",
       "      <td>3</td>\n",
       "      <td>18</td>\n",
       "      <td>8</td>\n",
       "      <td>13</td>\n",
       "      <td>6</td>\n",
       "      <td>6</td>\n",
       "    </tr>\n",
       "    <tr>\n",
       "      <th>4</th>\n",
       "      <td>31394</td>\n",
       "      <td>VPVNPEPDATSVENVALFTGSGDSQSDPIKADLEVKGQSALPFDVD...</td>\n",
       "      <td>8</td>\n",
       "      <td>21793</td>\n",
       "      <td>22</td>\n",
       "      <td>4</td>\n",
       "      <td>15</td>\n",
       "      <td>7</td>\n",
       "      <td>11</td>\n",
       "      <td>19</td>\n",
       "      <td>...</td>\n",
       "      <td>0</td>\n",
       "      <td>19</td>\n",
       "      <td>17</td>\n",
       "      <td>13</td>\n",
       "      <td>3</td>\n",
       "      <td>18</td>\n",
       "      <td>8</td>\n",
       "      <td>13</td>\n",
       "      <td>6</td>\n",
       "      <td>6</td>\n",
       "    </tr>\n",
       "    <tr>\n",
       "      <th>...</th>\n",
       "      <td>...</td>\n",
       "      <td>...</td>\n",
       "      <td>...</td>\n",
       "      <td>...</td>\n",
       "      <td>...</td>\n",
       "      <td>...</td>\n",
       "      <td>...</td>\n",
       "      <td>...</td>\n",
       "      <td>...</td>\n",
       "      <td>...</td>\n",
       "      <td>...</td>\n",
       "      <td>...</td>\n",
       "      <td>...</td>\n",
       "      <td>...</td>\n",
       "      <td>...</td>\n",
       "      <td>...</td>\n",
       "      <td>...</td>\n",
       "      <td>...</td>\n",
       "      <td>...</td>\n",
       "      <td>...</td>\n",
       "      <td>...</td>\n",
       "    </tr>\n",
       "    <tr>\n",
       "      <th>2408</th>\n",
       "      <td>33798</td>\n",
       "      <td>VPVNPEPDATSVENVILKTGSGDSQSDPIKADLEVKGQSALPFDVD...</td>\n",
       "      <td>8</td>\n",
       "      <td>21793</td>\n",
       "      <td>21</td>\n",
       "      <td>4</td>\n",
       "      <td>15</td>\n",
       "      <td>7</td>\n",
       "      <td>10</td>\n",
       "      <td>19</td>\n",
       "      <td>...</td>\n",
       "      <td>0</td>\n",
       "      <td>19</td>\n",
       "      <td>17</td>\n",
       "      <td>13</td>\n",
       "      <td>3</td>\n",
       "      <td>18</td>\n",
       "      <td>8</td>\n",
       "      <td>13</td>\n",
       "      <td>6</td>\n",
       "      <td>6</td>\n",
       "    </tr>\n",
       "    <tr>\n",
       "      <th>2409</th>\n",
       "      <td>33799</td>\n",
       "      <td>VPVNPEPDATSVENVLLKTGSGDSQSDPIKADLEVKGQSALPFDVD...</td>\n",
       "      <td>8</td>\n",
       "      <td>21793</td>\n",
       "      <td>21</td>\n",
       "      <td>4</td>\n",
       "      <td>15</td>\n",
       "      <td>7</td>\n",
       "      <td>10</td>\n",
       "      <td>19</td>\n",
       "      <td>...</td>\n",
       "      <td>0</td>\n",
       "      <td>19</td>\n",
       "      <td>17</td>\n",
       "      <td>13</td>\n",
       "      <td>3</td>\n",
       "      <td>18</td>\n",
       "      <td>8</td>\n",
       "      <td>13</td>\n",
       "      <td>6</td>\n",
       "      <td>6</td>\n",
       "    </tr>\n",
       "    <tr>\n",
       "      <th>2410</th>\n",
       "      <td>33800</td>\n",
       "      <td>VPVNPEPDATSVENVNLKTGSGDSQSDPIKADLEVKGQSALPFDVD...</td>\n",
       "      <td>8</td>\n",
       "      <td>21793</td>\n",
       "      <td>21</td>\n",
       "      <td>4</td>\n",
       "      <td>15</td>\n",
       "      <td>7</td>\n",
       "      <td>10</td>\n",
       "      <td>19</td>\n",
       "      <td>...</td>\n",
       "      <td>0</td>\n",
       "      <td>20</td>\n",
       "      <td>17</td>\n",
       "      <td>13</td>\n",
       "      <td>3</td>\n",
       "      <td>18</td>\n",
       "      <td>8</td>\n",
       "      <td>13</td>\n",
       "      <td>6</td>\n",
       "      <td>6</td>\n",
       "    </tr>\n",
       "    <tr>\n",
       "      <th>2411</th>\n",
       "      <td>33801</td>\n",
       "      <td>VPVNPEPDATSVENVPLKTGSGDSQSDPIKADLEVKGQSALPFDVD...</td>\n",
       "      <td>8</td>\n",
       "      <td>21793</td>\n",
       "      <td>21</td>\n",
       "      <td>4</td>\n",
       "      <td>15</td>\n",
       "      <td>7</td>\n",
       "      <td>10</td>\n",
       "      <td>19</td>\n",
       "      <td>...</td>\n",
       "      <td>0</td>\n",
       "      <td>19</td>\n",
       "      <td>18</td>\n",
       "      <td>13</td>\n",
       "      <td>3</td>\n",
       "      <td>18</td>\n",
       "      <td>8</td>\n",
       "      <td>13</td>\n",
       "      <td>6</td>\n",
       "      <td>6</td>\n",
       "    </tr>\n",
       "    <tr>\n",
       "      <th>2412</th>\n",
       "      <td>33802</td>\n",
       "      <td>VPVNPEPDATSVENVWLKTGSGDSQSDPIKADLEVKGQSALPFDVD...</td>\n",
       "      <td>8</td>\n",
       "      <td>21793</td>\n",
       "      <td>21</td>\n",
       "      <td>4</td>\n",
       "      <td>15</td>\n",
       "      <td>7</td>\n",
       "      <td>10</td>\n",
       "      <td>19</td>\n",
       "      <td>...</td>\n",
       "      <td>0</td>\n",
       "      <td>19</td>\n",
       "      <td>17</td>\n",
       "      <td>13</td>\n",
       "      <td>3</td>\n",
       "      <td>18</td>\n",
       "      <td>8</td>\n",
       "      <td>13</td>\n",
       "      <td>7</td>\n",
       "      <td>6</td>\n",
       "    </tr>\n",
       "  </tbody>\n",
       "</table>\n",
       "<p>2413 rows × 24 columns</p>\n",
       "</div>"
      ],
      "text/plain": [
       "      seq_id                                   protein_sequence  pH  groupe  \\\n",
       "0      31390  VPVNPEPDATSVENVAEKTGSGDSQSDPIKADLEVKGQSALPFDVD...   8   21793   \n",
       "1      31391  VPVNPEPDATSVENVAKKTGSGDSQSDPIKADLEVKGQSALPFDVD...   8   21793   \n",
       "2      31392  VPVNPEPDATSVENVAKTGSGDSQSDPIKADLEVKGQSALPFDVDC...   8   21793   \n",
       "3      31393  VPVNPEPDATSVENVALCTGSGDSQSDPIKADLEVKGQSALPFDVD...   8   21793   \n",
       "4      31394  VPVNPEPDATSVENVALFTGSGDSQSDPIKADLEVKGQSALPFDVD...   8   21793   \n",
       "...      ...                                                ...  ..     ...   \n",
       "2408   33798  VPVNPEPDATSVENVILKTGSGDSQSDPIKADLEVKGQSALPFDVD...   8   21793   \n",
       "2409   33799  VPVNPEPDATSVENVLLKTGSGDSQSDPIKADLEVKGQSALPFDVD...   8   21793   \n",
       "2410   33800  VPVNPEPDATSVENVNLKTGSGDSQSDPIKADLEVKGQSALPFDVD...   8   21793   \n",
       "2411   33801  VPVNPEPDATSVENVPLKTGSGDSQSDPIKADLEVKGQSALPFDVD...   8   21793   \n",
       "2412   33802  VPVNPEPDATSVENVWLKTGSGDSQSDPIKADLEVKGQSALPFDVD...   8   21793   \n",
       "\n",
       "       A  C   D  E   F   G  ...  M   N   P   Q  R   S  T   V  W  Y  \n",
       "0     22  4  15  8  10  19  ...  0  19  17  13  3  18  8  13  6  6  \n",
       "1     22  4  15  7  10  19  ...  0  19  17  13  3  18  8  13  6  6  \n",
       "2     22  4  15  7  10  19  ...  0  19  17  13  3  18  8  13  6  6  \n",
       "3     22  5  15  7  10  19  ...  0  19  17  13  3  18  8  13  6  6  \n",
       "4     22  4  15  7  11  19  ...  0  19  17  13  3  18  8  13  6  6  \n",
       "...   .. ..  .. ..  ..  ..  ... ..  ..  ..  .. ..  .. ..  .. .. ..  \n",
       "2408  21  4  15  7  10  19  ...  0  19  17  13  3  18  8  13  6  6  \n",
       "2409  21  4  15  7  10  19  ...  0  19  17  13  3  18  8  13  6  6  \n",
       "2410  21  4  15  7  10  19  ...  0  20  17  13  3  18  8  13  6  6  \n",
       "2411  21  4  15  7  10  19  ...  0  19  18  13  3  18  8  13  6  6  \n",
       "2412  21  4  15  7  10  19  ...  0  19  17  13  3  18  8  13  7  6  \n",
       "\n",
       "[2413 rows x 24 columns]"
      ]
     },
     "execution_count": 37,
     "metadata": {},
     "output_type": "execute_result"
    }
   ],
   "source": [
    "df_test"
   ]
  },
  {
   "cell_type": "code",
   "execution_count": 38,
   "id": "b0044513",
   "metadata": {},
   "outputs": [],
   "source": [
    "T = df_test.drop(['seq_id','protein_sequence'], axis=1).values"
   ]
  },
  {
   "cell_type": "code",
   "execution_count": 39,
   "id": "47d7eebc",
   "metadata": {},
   "outputs": [],
   "source": [
    "T = std.transform(T)"
   ]
  },
  {
   "cell_type": "code",
   "execution_count": 40,
   "id": "28bcf4e0",
   "metadata": {},
   "outputs": [],
   "source": [
    "y_pred = model.predict(T)"
   ]
  },
  {
   "cell_type": "code",
   "execution_count": 41,
   "id": "82a726bc",
   "metadata": {},
   "outputs": [
    {
     "data": {
      "text/plain": [
       "array([53.56511 , 53.831165, 53.87714 , ..., 54.53854 , 53.741753,\n",
       "       54.06984 ], dtype=float32)"
      ]
     },
     "execution_count": 41,
     "metadata": {},
     "output_type": "execute_result"
    }
   ],
   "source": [
    "y_pred"
   ]
  },
  {
   "cell_type": "code",
   "execution_count": 42,
   "id": "78210906",
   "metadata": {},
   "outputs": [
    {
     "data": {
      "text/html": [
       "<div>\n",
       "<style scoped>\n",
       "    .dataframe tbody tr th:only-of-type {\n",
       "        vertical-align: middle;\n",
       "    }\n",
       "\n",
       "    .dataframe tbody tr th {\n",
       "        vertical-align: top;\n",
       "    }\n",
       "\n",
       "    .dataframe thead th {\n",
       "        text-align: right;\n",
       "    }\n",
       "</style>\n",
       "<table border=\"1\" class=\"dataframe\">\n",
       "  <thead>\n",
       "    <tr style=\"text-align: right;\">\n",
       "      <th></th>\n",
       "      <th>seq_id</th>\n",
       "      <th>tm</th>\n",
       "    </tr>\n",
       "  </thead>\n",
       "  <tbody>\n",
       "    <tr>\n",
       "      <th>0</th>\n",
       "      <td>31390</td>\n",
       "      <td>0</td>\n",
       "    </tr>\n",
       "    <tr>\n",
       "      <th>1</th>\n",
       "      <td>31391</td>\n",
       "      <td>1</td>\n",
       "    </tr>\n",
       "    <tr>\n",
       "      <th>2</th>\n",
       "      <td>31392</td>\n",
       "      <td>2</td>\n",
       "    </tr>\n",
       "    <tr>\n",
       "      <th>3</th>\n",
       "      <td>31393</td>\n",
       "      <td>3</td>\n",
       "    </tr>\n",
       "    <tr>\n",
       "      <th>4</th>\n",
       "      <td>31394</td>\n",
       "      <td>4</td>\n",
       "    </tr>\n",
       "    <tr>\n",
       "      <th>...</th>\n",
       "      <td>...</td>\n",
       "      <td>...</td>\n",
       "    </tr>\n",
       "    <tr>\n",
       "      <th>2408</th>\n",
       "      <td>33798</td>\n",
       "      <td>2408</td>\n",
       "    </tr>\n",
       "    <tr>\n",
       "      <th>2409</th>\n",
       "      <td>33799</td>\n",
       "      <td>2409</td>\n",
       "    </tr>\n",
       "    <tr>\n",
       "      <th>2410</th>\n",
       "      <td>33800</td>\n",
       "      <td>2410</td>\n",
       "    </tr>\n",
       "    <tr>\n",
       "      <th>2411</th>\n",
       "      <td>33801</td>\n",
       "      <td>2411</td>\n",
       "    </tr>\n",
       "    <tr>\n",
       "      <th>2412</th>\n",
       "      <td>33802</td>\n",
       "      <td>2412</td>\n",
       "    </tr>\n",
       "  </tbody>\n",
       "</table>\n",
       "<p>2413 rows × 2 columns</p>\n",
       "</div>"
      ],
      "text/plain": [
       "      seq_id    tm\n",
       "0      31390     0\n",
       "1      31391     1\n",
       "2      31392     2\n",
       "3      31393     3\n",
       "4      31394     4\n",
       "...      ...   ...\n",
       "2408   33798  2408\n",
       "2409   33799  2409\n",
       "2410   33800  2410\n",
       "2411   33801  2411\n",
       "2412   33802  2412\n",
       "\n",
       "[2413 rows x 2 columns]"
      ]
     },
     "execution_count": 42,
     "metadata": {},
     "output_type": "execute_result"
    }
   ],
   "source": [
    "sub"
   ]
  },
  {
   "cell_type": "code",
   "execution_count": 43,
   "id": "6eeb10a1",
   "metadata": {},
   "outputs": [],
   "source": [
    "sub['tm'] = y_pred.T"
   ]
  },
  {
   "cell_type": "code",
   "execution_count": 44,
   "id": "4a2f28a7",
   "metadata": {},
   "outputs": [
    {
     "data": {
      "text/html": [
       "<div>\n",
       "<style scoped>\n",
       "    .dataframe tbody tr th:only-of-type {\n",
       "        vertical-align: middle;\n",
       "    }\n",
       "\n",
       "    .dataframe tbody tr th {\n",
       "        vertical-align: top;\n",
       "    }\n",
       "\n",
       "    .dataframe thead th {\n",
       "        text-align: right;\n",
       "    }\n",
       "</style>\n",
       "<table border=\"1\" class=\"dataframe\">\n",
       "  <thead>\n",
       "    <tr style=\"text-align: right;\">\n",
       "      <th></th>\n",
       "      <th>seq_id</th>\n",
       "      <th>tm</th>\n",
       "    </tr>\n",
       "  </thead>\n",
       "  <tbody>\n",
       "    <tr>\n",
       "      <th>0</th>\n",
       "      <td>31390</td>\n",
       "      <td>53.565109</td>\n",
       "    </tr>\n",
       "    <tr>\n",
       "      <th>1</th>\n",
       "      <td>31391</td>\n",
       "      <td>53.831165</td>\n",
       "    </tr>\n",
       "    <tr>\n",
       "      <th>2</th>\n",
       "      <td>31392</td>\n",
       "      <td>53.877140</td>\n",
       "    </tr>\n",
       "    <tr>\n",
       "      <th>3</th>\n",
       "      <td>31393</td>\n",
       "      <td>52.638531</td>\n",
       "    </tr>\n",
       "    <tr>\n",
       "      <th>4</th>\n",
       "      <td>31394</td>\n",
       "      <td>53.646782</td>\n",
       "    </tr>\n",
       "    <tr>\n",
       "      <th>...</th>\n",
       "      <td>...</td>\n",
       "      <td>...</td>\n",
       "    </tr>\n",
       "    <tr>\n",
       "      <th>2408</th>\n",
       "      <td>33798</td>\n",
       "      <td>54.115082</td>\n",
       "    </tr>\n",
       "    <tr>\n",
       "      <th>2409</th>\n",
       "      <td>33799</td>\n",
       "      <td>54.023659</td>\n",
       "    </tr>\n",
       "    <tr>\n",
       "      <th>2410</th>\n",
       "      <td>33800</td>\n",
       "      <td>54.538540</td>\n",
       "    </tr>\n",
       "    <tr>\n",
       "      <th>2411</th>\n",
       "      <td>33801</td>\n",
       "      <td>53.741753</td>\n",
       "    </tr>\n",
       "    <tr>\n",
       "      <th>2412</th>\n",
       "      <td>33802</td>\n",
       "      <td>54.069839</td>\n",
       "    </tr>\n",
       "  </tbody>\n",
       "</table>\n",
       "<p>2413 rows × 2 columns</p>\n",
       "</div>"
      ],
      "text/plain": [
       "      seq_id         tm\n",
       "0      31390  53.565109\n",
       "1      31391  53.831165\n",
       "2      31392  53.877140\n",
       "3      31393  52.638531\n",
       "4      31394  53.646782\n",
       "...      ...        ...\n",
       "2408   33798  54.115082\n",
       "2409   33799  54.023659\n",
       "2410   33800  54.538540\n",
       "2411   33801  53.741753\n",
       "2412   33802  54.069839\n",
       "\n",
       "[2413 rows x 2 columns]"
      ]
     },
     "execution_count": 44,
     "metadata": {},
     "output_type": "execute_result"
    }
   ],
   "source": [
    "sub"
   ]
  },
  {
   "cell_type": "code",
   "execution_count": 45,
   "id": "86e61088",
   "metadata": {},
   "outputs": [],
   "source": [
    "sub.to_csv(\"Submission/sample_submission.csv\", index=False)"
   ]
  }
 ],
 "metadata": {
  "kernelspec": {
   "display_name": "Python 3 (ipykernel)",
   "language": "python",
   "name": "python3"
  },
  "language_info": {
   "codemirror_mode": {
    "name": "ipython",
    "version": 3
   },
   "file_extension": ".py",
   "mimetype": "text/x-python",
   "name": "python",
   "nbconvert_exporter": "python",
   "pygments_lexer": "ipython3",
   "version": "3.9.13"
  }
 },
 "nbformat": 4,
 "nbformat_minor": 5
}
