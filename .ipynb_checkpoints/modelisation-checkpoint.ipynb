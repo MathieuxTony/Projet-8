{
 "cells": [
  {
   "cell_type": "markdown",
   "id": "4c14b565",
   "metadata": {},
   "source": [
    "# Modélisation"
   ]
  },
  {
   "cell_type": "code",
   "execution_count": 1,
   "id": "87f7c26d",
   "metadata": {},
   "outputs": [],
   "source": [
    "import pandas as pd\n",
    "import numpy as np\n",
    "import matplotlib.pyplot as plt\n",
    "import seaborn as sns\n",
    "\n",
    "from sklearn.model_selection import train_test_split\n",
    "from sklearn.preprocessing import StandardScaler\n",
    "from sklearn import metrics\n",
    "\n",
    "import xgboost as xgb\n",
    "from sklearn import dummy\n",
    "from sklearn.ensemble import RandomForestRegressor\n",
    "\n",
    "import optuna\n",
    "import timeit"
   ]
  },
  {
   "cell_type": "markdown",
   "id": "fa34b9fd",
   "metadata": {},
   "source": [
    "A la fin de l'analyse exploratoire nous avions créé deux jeux de données différents. Nous allons tester des models de gradient boosting sur ces deux jeux de données afin de comparer les deux approches. Nous testerons un model de forêts aléatoires mais le temps de calcul étant beaucoup plus long que pour le gradient boosting nous ne chercherons pas à l'améliorer."
   ]
  },
  {
   "cell_type": "markdown",
   "id": "68466a25",
   "metadata": {},
   "source": [
    "## Chargement des données"
   ]
  },
  {
   "cell_type": "code",
   "execution_count": 2,
   "id": "d0791734",
   "metadata": {},
   "outputs": [],
   "source": [
    "train1 = pd.read_csv(\"Data/train_version1_for_modelisation.csv\")\n",
    "train2 = pd.read_csv(\"Data/train_version2_for_modelisation.csv\")"
   ]
  },
  {
   "cell_type": "code",
   "execution_count": 3,
   "id": "1d295b9d",
   "metadata": {},
   "outputs": [
    {
     "data": {
      "text/html": [
       "<div>\n",
       "<style scoped>\n",
       "    .dataframe tbody tr th:only-of-type {\n",
       "        vertical-align: middle;\n",
       "    }\n",
       "\n",
       "    .dataframe tbody tr th {\n",
       "        vertical-align: top;\n",
       "    }\n",
       "\n",
       "    .dataframe thead th {\n",
       "        text-align: right;\n",
       "    }\n",
       "</style>\n",
       "<table border=\"1\" class=\"dataframe\">\n",
       "  <thead>\n",
       "    <tr style=\"text-align: right;\">\n",
       "      <th></th>\n",
       "      <th>seq_id</th>\n",
       "      <th>protein_sequence</th>\n",
       "      <th>pH</th>\n",
       "      <th>tm</th>\n",
       "      <th>groupe</th>\n",
       "      <th>A</th>\n",
       "      <th>C</th>\n",
       "      <th>D</th>\n",
       "      <th>E</th>\n",
       "      <th>F</th>\n",
       "      <th>...</th>\n",
       "      <th>M</th>\n",
       "      <th>N</th>\n",
       "      <th>P</th>\n",
       "      <th>Q</th>\n",
       "      <th>R</th>\n",
       "      <th>S</th>\n",
       "      <th>T</th>\n",
       "      <th>V</th>\n",
       "      <th>W</th>\n",
       "      <th>Y</th>\n",
       "    </tr>\n",
       "  </thead>\n",
       "  <tbody>\n",
       "    <tr>\n",
       "      <th>0</th>\n",
       "      <td>0</td>\n",
       "      <td>AAAAKAAALALLGEAPEVVDIWLPAGWRQPFRVFRLERKGDGVLVG...</td>\n",
       "      <td>7.0</td>\n",
       "      <td>75.7</td>\n",
       "      <td>0</td>\n",
       "      <td>45</td>\n",
       "      <td>1</td>\n",
       "      <td>13</td>\n",
       "      <td>30</td>\n",
       "      <td>13</td>\n",
       "      <td>...</td>\n",
       "      <td>8</td>\n",
       "      <td>5</td>\n",
       "      <td>18</td>\n",
       "      <td>6</td>\n",
       "      <td>25</td>\n",
       "      <td>11</td>\n",
       "      <td>14</td>\n",
       "      <td>37</td>\n",
       "      <td>4</td>\n",
       "      <td>3</td>\n",
       "    </tr>\n",
       "    <tr>\n",
       "      <th>1</th>\n",
       "      <td>1</td>\n",
       "      <td>AAADGEPLHNEEERAGAGQVGRSLPQESEEQRTGSRPRRRRDLGSR...</td>\n",
       "      <td>7.0</td>\n",
       "      <td>50.5</td>\n",
       "      <td>1</td>\n",
       "      <td>28</td>\n",
       "      <td>0</td>\n",
       "      <td>10</td>\n",
       "      <td>52</td>\n",
       "      <td>6</td>\n",
       "      <td>...</td>\n",
       "      <td>2</td>\n",
       "      <td>6</td>\n",
       "      <td>8</td>\n",
       "      <td>22</td>\n",
       "      <td>30</td>\n",
       "      <td>14</td>\n",
       "      <td>12</td>\n",
       "      <td>13</td>\n",
       "      <td>3</td>\n",
       "      <td>3</td>\n",
       "    </tr>\n",
       "    <tr>\n",
       "      <th>2</th>\n",
       "      <td>2</td>\n",
       "      <td>AAAFSTPRATSYRILSSAGSGSTRADAPQVRRLHTTRDLLAKDYYA...</td>\n",
       "      <td>7.0</td>\n",
       "      <td>40.5</td>\n",
       "      <td>2</td>\n",
       "      <td>50</td>\n",
       "      <td>9</td>\n",
       "      <td>27</td>\n",
       "      <td>32</td>\n",
       "      <td>21</td>\n",
       "      <td>...</td>\n",
       "      <td>6</td>\n",
       "      <td>15</td>\n",
       "      <td>20</td>\n",
       "      <td>25</td>\n",
       "      <td>31</td>\n",
       "      <td>33</td>\n",
       "      <td>30</td>\n",
       "      <td>30</td>\n",
       "      <td>3</td>\n",
       "      <td>16</td>\n",
       "    </tr>\n",
       "    <tr>\n",
       "      <th>3</th>\n",
       "      <td>3</td>\n",
       "      <td>AAASGLRTAIPAQPLRHLLQPAPRPCLRPFGLLSVRAGSARRSGLL...</td>\n",
       "      <td>7.0</td>\n",
       "      <td>47.2</td>\n",
       "      <td>3</td>\n",
       "      <td>20</td>\n",
       "      <td>5</td>\n",
       "      <td>19</td>\n",
       "      <td>29</td>\n",
       "      <td>12</td>\n",
       "      <td>...</td>\n",
       "      <td>2</td>\n",
       "      <td>9</td>\n",
       "      <td>16</td>\n",
       "      <td>9</td>\n",
       "      <td>10</td>\n",
       "      <td>16</td>\n",
       "      <td>19</td>\n",
       "      <td>14</td>\n",
       "      <td>3</td>\n",
       "      <td>4</td>\n",
       "    </tr>\n",
       "    <tr>\n",
       "      <th>4</th>\n",
       "      <td>5</td>\n",
       "      <td>AACFWRRTVIPKPPFRGISTTSARSTVMPAWVIDKYGKNEVLRFTQ...</td>\n",
       "      <td>7.0</td>\n",
       "      <td>48.4</td>\n",
       "      <td>4</td>\n",
       "      <td>33</td>\n",
       "      <td>4</td>\n",
       "      <td>16</td>\n",
       "      <td>19</td>\n",
       "      <td>16</td>\n",
       "      <td>...</td>\n",
       "      <td>11</td>\n",
       "      <td>13</td>\n",
       "      <td>19</td>\n",
       "      <td>8</td>\n",
       "      <td>16</td>\n",
       "      <td>22</td>\n",
       "      <td>25</td>\n",
       "      <td>41</td>\n",
       "      <td>10</td>\n",
       "      <td>9</td>\n",
       "    </tr>\n",
       "    <tr>\n",
       "      <th>...</th>\n",
       "      <td>...</td>\n",
       "      <td>...</td>\n",
       "      <td>...</td>\n",
       "      <td>...</td>\n",
       "      <td>...</td>\n",
       "      <td>...</td>\n",
       "      <td>...</td>\n",
       "      <td>...</td>\n",
       "      <td>...</td>\n",
       "      <td>...</td>\n",
       "      <td>...</td>\n",
       "      <td>...</td>\n",
       "      <td>...</td>\n",
       "      <td>...</td>\n",
       "      <td>...</td>\n",
       "      <td>...</td>\n",
       "      <td>...</td>\n",
       "      <td>...</td>\n",
       "      <td>...</td>\n",
       "      <td>...</td>\n",
       "      <td>...</td>\n",
       "    </tr>\n",
       "    <tr>\n",
       "      <th>25172</th>\n",
       "      <td>31385</td>\n",
       "      <td>YYMYSGGGSALAAGGGGAGRKGDWNDIDSIKKKDLHHSRGDEKAQG...</td>\n",
       "      <td>7.0</td>\n",
       "      <td>51.8</td>\n",
       "      <td>21788</td>\n",
       "      <td>33</td>\n",
       "      <td>12</td>\n",
       "      <td>38</td>\n",
       "      <td>31</td>\n",
       "      <td>18</td>\n",
       "      <td>...</td>\n",
       "      <td>13</td>\n",
       "      <td>24</td>\n",
       "      <td>25</td>\n",
       "      <td>24</td>\n",
       "      <td>42</td>\n",
       "      <td>33</td>\n",
       "      <td>18</td>\n",
       "      <td>42</td>\n",
       "      <td>13</td>\n",
       "      <td>18</td>\n",
       "    </tr>\n",
       "    <tr>\n",
       "      <th>25173</th>\n",
       "      <td>31386</td>\n",
       "      <td>YYNDQHRLSSYSVETAMFLSWERAIVKPGAMFKKAVIGFNCNVDLI...</td>\n",
       "      <td>7.0</td>\n",
       "      <td>37.2</td>\n",
       "      <td>21789</td>\n",
       "      <td>37</td>\n",
       "      <td>5</td>\n",
       "      <td>21</td>\n",
       "      <td>29</td>\n",
       "      <td>22</td>\n",
       "      <td>...</td>\n",
       "      <td>14</td>\n",
       "      <td>19</td>\n",
       "      <td>19</td>\n",
       "      <td>16</td>\n",
       "      <td>25</td>\n",
       "      <td>37</td>\n",
       "      <td>26</td>\n",
       "      <td>34</td>\n",
       "      <td>5</td>\n",
       "      <td>14</td>\n",
       "    </tr>\n",
       "    <tr>\n",
       "      <th>25174</th>\n",
       "      <td>31387</td>\n",
       "      <td>YYQRTLGAELLYKISFGEMPKSAQDSAENCPSGMQFPDTAIAHANV...</td>\n",
       "      <td>7.0</td>\n",
       "      <td>64.6</td>\n",
       "      <td>21790</td>\n",
       "      <td>13</td>\n",
       "      <td>1</td>\n",
       "      <td>7</td>\n",
       "      <td>7</td>\n",
       "      <td>7</td>\n",
       "      <td>...</td>\n",
       "      <td>7</td>\n",
       "      <td>5</td>\n",
       "      <td>6</td>\n",
       "      <td>8</td>\n",
       "      <td>3</td>\n",
       "      <td>10</td>\n",
       "      <td>6</td>\n",
       "      <td>7</td>\n",
       "      <td>4</td>\n",
       "      <td>4</td>\n",
       "    </tr>\n",
       "    <tr>\n",
       "      <th>25175</th>\n",
       "      <td>31388</td>\n",
       "      <td>YYSFSDNITTVFLSRQAIDDDHSLSLGTISDVVESENGVVAADDAR...</td>\n",
       "      <td>7.0</td>\n",
       "      <td>50.7</td>\n",
       "      <td>21791</td>\n",
       "      <td>47</td>\n",
       "      <td>5</td>\n",
       "      <td>34</td>\n",
       "      <td>36</td>\n",
       "      <td>23</td>\n",
       "      <td>...</td>\n",
       "      <td>26</td>\n",
       "      <td>25</td>\n",
       "      <td>31</td>\n",
       "      <td>12</td>\n",
       "      <td>25</td>\n",
       "      <td>51</td>\n",
       "      <td>32</td>\n",
       "      <td>48</td>\n",
       "      <td>3</td>\n",
       "      <td>18</td>\n",
       "    </tr>\n",
       "    <tr>\n",
       "      <th>25176</th>\n",
       "      <td>31389</td>\n",
       "      <td>YYVPDEYWQSLEVAHKLTFGYGYLTWEWVQGIRSYVYPLLIAGLYK...</td>\n",
       "      <td>7.0</td>\n",
       "      <td>37.6</td>\n",
       "      <td>21792</td>\n",
       "      <td>34</td>\n",
       "      <td>5</td>\n",
       "      <td>15</td>\n",
       "      <td>32</td>\n",
       "      <td>26</td>\n",
       "      <td>...</td>\n",
       "      <td>7</td>\n",
       "      <td>20</td>\n",
       "      <td>31</td>\n",
       "      <td>18</td>\n",
       "      <td>28</td>\n",
       "      <td>34</td>\n",
       "      <td>29</td>\n",
       "      <td>38</td>\n",
       "      <td>18</td>\n",
       "      <td>29</td>\n",
       "    </tr>\n",
       "  </tbody>\n",
       "</table>\n",
       "<p>25177 rows × 25 columns</p>\n",
       "</div>"
      ],
      "text/plain": [
       "       seq_id                                   protein_sequence   pH    tm  \\\n",
       "0           0  AAAAKAAALALLGEAPEVVDIWLPAGWRQPFRVFRLERKGDGVLVG...  7.0  75.7   \n",
       "1           1  AAADGEPLHNEEERAGAGQVGRSLPQESEEQRTGSRPRRRRDLGSR...  7.0  50.5   \n",
       "2           2  AAAFSTPRATSYRILSSAGSGSTRADAPQVRRLHTTRDLLAKDYYA...  7.0  40.5   \n",
       "3           3  AAASGLRTAIPAQPLRHLLQPAPRPCLRPFGLLSVRAGSARRSGLL...  7.0  47.2   \n",
       "4           5  AACFWRRTVIPKPPFRGISTTSARSTVMPAWVIDKYGKNEVLRFTQ...  7.0  48.4   \n",
       "...       ...                                                ...  ...   ...   \n",
       "25172   31385  YYMYSGGGSALAAGGGGAGRKGDWNDIDSIKKKDLHHSRGDEKAQG...  7.0  51.8   \n",
       "25173   31386  YYNDQHRLSSYSVETAMFLSWERAIVKPGAMFKKAVIGFNCNVDLI...  7.0  37.2   \n",
       "25174   31387  YYQRTLGAELLYKISFGEMPKSAQDSAENCPSGMQFPDTAIAHANV...  7.0  64.6   \n",
       "25175   31388  YYSFSDNITTVFLSRQAIDDDHSLSLGTISDVVESENGVVAADDAR...  7.0  50.7   \n",
       "25176   31389  YYVPDEYWQSLEVAHKLTFGYGYLTWEWVQGIRSYVYPLLIAGLYK...  7.0  37.6   \n",
       "\n",
       "       groupe   A   C   D   E   F  ...   M   N   P   Q   R   S   T   V   W   Y  \n",
       "0           0  45   1  13  30  13  ...   8   5  18   6  25  11  14  37   4   3  \n",
       "1           1  28   0  10  52   6  ...   2   6   8  22  30  14  12  13   3   3  \n",
       "2           2  50   9  27  32  21  ...   6  15  20  25  31  33  30  30   3  16  \n",
       "3           3  20   5  19  29  12  ...   2   9  16   9  10  16  19  14   3   4  \n",
       "4           4  33   4  16  19  16  ...  11  13  19   8  16  22  25  41  10   9  \n",
       "...       ...  ..  ..  ..  ..  ..  ...  ..  ..  ..  ..  ..  ..  ..  ..  ..  ..  \n",
       "25172   21788  33  12  38  31  18  ...  13  24  25  24  42  33  18  42  13  18  \n",
       "25173   21789  37   5  21  29  22  ...  14  19  19  16  25  37  26  34   5  14  \n",
       "25174   21790  13   1   7   7   7  ...   7   5   6   8   3  10   6   7   4   4  \n",
       "25175   21791  47   5  34  36  23  ...  26  25  31  12  25  51  32  48   3  18  \n",
       "25176   21792  34   5  15  32  26  ...   7  20  31  18  28  34  29  38  18  29  \n",
       "\n",
       "[25177 rows x 25 columns]"
      ]
     },
     "execution_count": 3,
     "metadata": {},
     "output_type": "execute_result"
    }
   ],
   "source": [
    "train1"
   ]
  },
  {
   "cell_type": "code",
   "execution_count": 4,
   "id": "ff6b1210",
   "metadata": {},
   "outputs": [
    {
     "data": {
      "text/html": [
       "<div>\n",
       "<style scoped>\n",
       "    .dataframe tbody tr th:only-of-type {\n",
       "        vertical-align: middle;\n",
       "    }\n",
       "\n",
       "    .dataframe tbody tr th {\n",
       "        vertical-align: top;\n",
       "    }\n",
       "\n",
       "    .dataframe thead th {\n",
       "        text-align: right;\n",
       "    }\n",
       "</style>\n",
       "<table border=\"1\" class=\"dataframe\">\n",
       "  <thead>\n",
       "    <tr style=\"text-align: right;\">\n",
       "      <th></th>\n",
       "      <th>0</th>\n",
       "      <th>1</th>\n",
       "      <th>2</th>\n",
       "      <th>3</th>\n",
       "      <th>4</th>\n",
       "      <th>5</th>\n",
       "      <th>6</th>\n",
       "      <th>7</th>\n",
       "      <th>8</th>\n",
       "      <th>9</th>\n",
       "      <th>...</th>\n",
       "      <th>990</th>\n",
       "      <th>991</th>\n",
       "      <th>992</th>\n",
       "      <th>993</th>\n",
       "      <th>994</th>\n",
       "      <th>995</th>\n",
       "      <th>996</th>\n",
       "      <th>997</th>\n",
       "      <th>998</th>\n",
       "      <th>pH</th>\n",
       "    </tr>\n",
       "  </thead>\n",
       "  <tbody>\n",
       "    <tr>\n",
       "      <th>0</th>\n",
       "      <td>1</td>\n",
       "      <td>1</td>\n",
       "      <td>1</td>\n",
       "      <td>1</td>\n",
       "      <td>9</td>\n",
       "      <td>1</td>\n",
       "      <td>1</td>\n",
       "      <td>1</td>\n",
       "      <td>10</td>\n",
       "      <td>1</td>\n",
       "      <td>...</td>\n",
       "      <td>0</td>\n",
       "      <td>0</td>\n",
       "      <td>0</td>\n",
       "      <td>0</td>\n",
       "      <td>0</td>\n",
       "      <td>0</td>\n",
       "      <td>0</td>\n",
       "      <td>0</td>\n",
       "      <td>0</td>\n",
       "      <td>7.0</td>\n",
       "    </tr>\n",
       "    <tr>\n",
       "      <th>1</th>\n",
       "      <td>1</td>\n",
       "      <td>1</td>\n",
       "      <td>1</td>\n",
       "      <td>3</td>\n",
       "      <td>6</td>\n",
       "      <td>4</td>\n",
       "      <td>13</td>\n",
       "      <td>10</td>\n",
       "      <td>7</td>\n",
       "      <td>12</td>\n",
       "      <td>...</td>\n",
       "      <td>0</td>\n",
       "      <td>0</td>\n",
       "      <td>0</td>\n",
       "      <td>0</td>\n",
       "      <td>0</td>\n",
       "      <td>0</td>\n",
       "      <td>0</td>\n",
       "      <td>0</td>\n",
       "      <td>0</td>\n",
       "      <td>7.0</td>\n",
       "    </tr>\n",
       "    <tr>\n",
       "      <th>2</th>\n",
       "      <td>1</td>\n",
       "      <td>1</td>\n",
       "      <td>1</td>\n",
       "      <td>5</td>\n",
       "      <td>16</td>\n",
       "      <td>17</td>\n",
       "      <td>13</td>\n",
       "      <td>15</td>\n",
       "      <td>1</td>\n",
       "      <td>17</td>\n",
       "      <td>...</td>\n",
       "      <td>0</td>\n",
       "      <td>0</td>\n",
       "      <td>0</td>\n",
       "      <td>0</td>\n",
       "      <td>0</td>\n",
       "      <td>0</td>\n",
       "      <td>0</td>\n",
       "      <td>0</td>\n",
       "      <td>0</td>\n",
       "      <td>7.0</td>\n",
       "    </tr>\n",
       "    <tr>\n",
       "      <th>3</th>\n",
       "      <td>1</td>\n",
       "      <td>1</td>\n",
       "      <td>1</td>\n",
       "      <td>16</td>\n",
       "      <td>6</td>\n",
       "      <td>10</td>\n",
       "      <td>15</td>\n",
       "      <td>17</td>\n",
       "      <td>1</td>\n",
       "      <td>8</td>\n",
       "      <td>...</td>\n",
       "      <td>0</td>\n",
       "      <td>0</td>\n",
       "      <td>0</td>\n",
       "      <td>0</td>\n",
       "      <td>0</td>\n",
       "      <td>0</td>\n",
       "      <td>0</td>\n",
       "      <td>0</td>\n",
       "      <td>0</td>\n",
       "      <td>7.0</td>\n",
       "    </tr>\n",
       "    <tr>\n",
       "      <th>4</th>\n",
       "      <td>1</td>\n",
       "      <td>1</td>\n",
       "      <td>2</td>\n",
       "      <td>5</td>\n",
       "      <td>19</td>\n",
       "      <td>15</td>\n",
       "      <td>15</td>\n",
       "      <td>17</td>\n",
       "      <td>18</td>\n",
       "      <td>8</td>\n",
       "      <td>...</td>\n",
       "      <td>0</td>\n",
       "      <td>0</td>\n",
       "      <td>0</td>\n",
       "      <td>0</td>\n",
       "      <td>0</td>\n",
       "      <td>0</td>\n",
       "      <td>0</td>\n",
       "      <td>0</td>\n",
       "      <td>0</td>\n",
       "      <td>7.0</td>\n",
       "    </tr>\n",
       "    <tr>\n",
       "      <th>...</th>\n",
       "      <td>...</td>\n",
       "      <td>...</td>\n",
       "      <td>...</td>\n",
       "      <td>...</td>\n",
       "      <td>...</td>\n",
       "      <td>...</td>\n",
       "      <td>...</td>\n",
       "      <td>...</td>\n",
       "      <td>...</td>\n",
       "      <td>...</td>\n",
       "      <td>...</td>\n",
       "      <td>...</td>\n",
       "      <td>...</td>\n",
       "      <td>...</td>\n",
       "      <td>...</td>\n",
       "      <td>...</td>\n",
       "      <td>...</td>\n",
       "      <td>...</td>\n",
       "      <td>...</td>\n",
       "      <td>...</td>\n",
       "      <td>...</td>\n",
       "    </tr>\n",
       "    <tr>\n",
       "      <th>25172</th>\n",
       "      <td>20</td>\n",
       "      <td>20</td>\n",
       "      <td>11</td>\n",
       "      <td>20</td>\n",
       "      <td>16</td>\n",
       "      <td>6</td>\n",
       "      <td>6</td>\n",
       "      <td>6</td>\n",
       "      <td>16</td>\n",
       "      <td>1</td>\n",
       "      <td>...</td>\n",
       "      <td>0</td>\n",
       "      <td>0</td>\n",
       "      <td>0</td>\n",
       "      <td>0</td>\n",
       "      <td>0</td>\n",
       "      <td>0</td>\n",
       "      <td>0</td>\n",
       "      <td>0</td>\n",
       "      <td>0</td>\n",
       "      <td>7.0</td>\n",
       "    </tr>\n",
       "    <tr>\n",
       "      <th>25173</th>\n",
       "      <td>20</td>\n",
       "      <td>20</td>\n",
       "      <td>12</td>\n",
       "      <td>3</td>\n",
       "      <td>14</td>\n",
       "      <td>7</td>\n",
       "      <td>15</td>\n",
       "      <td>10</td>\n",
       "      <td>16</td>\n",
       "      <td>16</td>\n",
       "      <td>...</td>\n",
       "      <td>0</td>\n",
       "      <td>0</td>\n",
       "      <td>0</td>\n",
       "      <td>0</td>\n",
       "      <td>0</td>\n",
       "      <td>0</td>\n",
       "      <td>0</td>\n",
       "      <td>0</td>\n",
       "      <td>0</td>\n",
       "      <td>7.0</td>\n",
       "    </tr>\n",
       "    <tr>\n",
       "      <th>25174</th>\n",
       "      <td>20</td>\n",
       "      <td>20</td>\n",
       "      <td>14</td>\n",
       "      <td>15</td>\n",
       "      <td>17</td>\n",
       "      <td>10</td>\n",
       "      <td>6</td>\n",
       "      <td>1</td>\n",
       "      <td>4</td>\n",
       "      <td>10</td>\n",
       "      <td>...</td>\n",
       "      <td>0</td>\n",
       "      <td>0</td>\n",
       "      <td>0</td>\n",
       "      <td>0</td>\n",
       "      <td>0</td>\n",
       "      <td>0</td>\n",
       "      <td>0</td>\n",
       "      <td>0</td>\n",
       "      <td>0</td>\n",
       "      <td>7.0</td>\n",
       "    </tr>\n",
       "    <tr>\n",
       "      <th>25175</th>\n",
       "      <td>20</td>\n",
       "      <td>20</td>\n",
       "      <td>16</td>\n",
       "      <td>5</td>\n",
       "      <td>16</td>\n",
       "      <td>3</td>\n",
       "      <td>12</td>\n",
       "      <td>8</td>\n",
       "      <td>17</td>\n",
       "      <td>17</td>\n",
       "      <td>...</td>\n",
       "      <td>0</td>\n",
       "      <td>0</td>\n",
       "      <td>0</td>\n",
       "      <td>0</td>\n",
       "      <td>0</td>\n",
       "      <td>0</td>\n",
       "      <td>0</td>\n",
       "      <td>0</td>\n",
       "      <td>0</td>\n",
       "      <td>7.0</td>\n",
       "    </tr>\n",
       "    <tr>\n",
       "      <th>25176</th>\n",
       "      <td>20</td>\n",
       "      <td>20</td>\n",
       "      <td>18</td>\n",
       "      <td>13</td>\n",
       "      <td>3</td>\n",
       "      <td>4</td>\n",
       "      <td>20</td>\n",
       "      <td>19</td>\n",
       "      <td>14</td>\n",
       "      <td>16</td>\n",
       "      <td>...</td>\n",
       "      <td>0</td>\n",
       "      <td>0</td>\n",
       "      <td>0</td>\n",
       "      <td>0</td>\n",
       "      <td>0</td>\n",
       "      <td>0</td>\n",
       "      <td>0</td>\n",
       "      <td>0</td>\n",
       "      <td>0</td>\n",
       "      <td>7.0</td>\n",
       "    </tr>\n",
       "  </tbody>\n",
       "</table>\n",
       "<p>25177 rows × 1000 columns</p>\n",
       "</div>"
      ],
      "text/plain": [
       "        0   1   2   3   4   5   6   7   8   9  ...  990  991  992  993  994  \\\n",
       "0       1   1   1   1   9   1   1   1  10   1  ...    0    0    0    0    0   \n",
       "1       1   1   1   3   6   4  13  10   7  12  ...    0    0    0    0    0   \n",
       "2       1   1   1   5  16  17  13  15   1  17  ...    0    0    0    0    0   \n",
       "3       1   1   1  16   6  10  15  17   1   8  ...    0    0    0    0    0   \n",
       "4       1   1   2   5  19  15  15  17  18   8  ...    0    0    0    0    0   \n",
       "...    ..  ..  ..  ..  ..  ..  ..  ..  ..  ..  ...  ...  ...  ...  ...  ...   \n",
       "25172  20  20  11  20  16   6   6   6  16   1  ...    0    0    0    0    0   \n",
       "25173  20  20  12   3  14   7  15  10  16  16  ...    0    0    0    0    0   \n",
       "25174  20  20  14  15  17  10   6   1   4  10  ...    0    0    0    0    0   \n",
       "25175  20  20  16   5  16   3  12   8  17  17  ...    0    0    0    0    0   \n",
       "25176  20  20  18  13   3   4  20  19  14  16  ...    0    0    0    0    0   \n",
       "\n",
       "       995  996  997  998   pH  \n",
       "0        0    0    0    0  7.0  \n",
       "1        0    0    0    0  7.0  \n",
       "2        0    0    0    0  7.0  \n",
       "3        0    0    0    0  7.0  \n",
       "4        0    0    0    0  7.0  \n",
       "...    ...  ...  ...  ...  ...  \n",
       "25172    0    0    0    0  7.0  \n",
       "25173    0    0    0    0  7.0  \n",
       "25174    0    0    0    0  7.0  \n",
       "25175    0    0    0    0  7.0  \n",
       "25176    0    0    0    0  7.0  \n",
       "\n",
       "[25177 rows x 1000 columns]"
      ]
     },
     "execution_count": 4,
     "metadata": {},
     "output_type": "execute_result"
    }
   ],
   "source": [
    "train2"
   ]
  },
  {
   "cell_type": "code",
   "execution_count": 5,
   "id": "be4e1b19",
   "metadata": {},
   "outputs": [],
   "source": [
    "X1 = train1.drop(['seq_id', 'protein_sequence', 'tm'], axis=1).values\n",
    "X1_ss_grp = train1.drop(['seq_id', 'protein_sequence', 'tm', 'groupe'], axis=1).values\n",
    "X2 = train2.values\n",
    "y = train1['tm'].values"
   ]
  },
  {
   "cell_type": "markdown",
   "id": "f7fb6cc3",
   "metadata": {},
   "source": [
    "Nous testerons l'influence de la variable 'groupe' dans la première approche."
   ]
  },
  {
   "cell_type": "markdown",
   "id": "100238ae",
   "metadata": {},
   "source": [
    "# Train1 avec la variable 'groupe'"
   ]
  },
  {
   "cell_type": "code",
   "execution_count": 6,
   "id": "58ce5ee5",
   "metadata": {},
   "outputs": [],
   "source": [
    "X_train, X_test, y_train, y_test = train_test_split(X1, y, random_state=21, train_size=0.7, shuffle=True)"
   ]
  },
  {
   "cell_type": "markdown",
   "id": "a2d71b3e",
   "metadata": {},
   "source": [
    "## Preprocessing"
   ]
  },
  {
   "cell_type": "code",
   "execution_count": 7,
   "id": "803a3d13",
   "metadata": {},
   "outputs": [],
   "source": [
    "std = StandardScaler()\n",
    "\n",
    "std.fit(X_train)\n",
    "\n",
    "X_train_std = std.transform(X_train)\n",
    "X_test_std = std.transform(X_test)"
   ]
  },
  {
   "cell_type": "markdown",
   "id": "c222897a",
   "metadata": {},
   "source": [
    "## Dummy regressor"
   ]
  },
  {
   "cell_type": "markdown",
   "id": "fe66576b",
   "metadata": {},
   "source": [
    "Dans cette section nous allons tester deux approches naïves qui nous servirons de référence pour évaluer les performances des prochains models."
   ]
  },
  {
   "cell_type": "code",
   "execution_count": 8,
   "id": "e20f1070",
   "metadata": {},
   "outputs": [],
   "source": [
    "model = dummy.DummyRegressor(strategy='mean')"
   ]
  },
  {
   "cell_type": "code",
   "execution_count": 9,
   "id": "abf75510",
   "metadata": {},
   "outputs": [
    {
     "data": {
      "text/html": [
       "<style>#sk-container-id-1 {color: black;background-color: white;}#sk-container-id-1 pre{padding: 0;}#sk-container-id-1 div.sk-toggleable {background-color: white;}#sk-container-id-1 label.sk-toggleable__label {cursor: pointer;display: block;width: 100%;margin-bottom: 0;padding: 0.3em;box-sizing: border-box;text-align: center;}#sk-container-id-1 label.sk-toggleable__label-arrow:before {content: \"▸\";float: left;margin-right: 0.25em;color: #696969;}#sk-container-id-1 label.sk-toggleable__label-arrow:hover:before {color: black;}#sk-container-id-1 div.sk-estimator:hover label.sk-toggleable__label-arrow:before {color: black;}#sk-container-id-1 div.sk-toggleable__content {max-height: 0;max-width: 0;overflow: hidden;text-align: left;background-color: #f0f8ff;}#sk-container-id-1 div.sk-toggleable__content pre {margin: 0.2em;color: black;border-radius: 0.25em;background-color: #f0f8ff;}#sk-container-id-1 input.sk-toggleable__control:checked~div.sk-toggleable__content {max-height: 200px;max-width: 100%;overflow: auto;}#sk-container-id-1 input.sk-toggleable__control:checked~label.sk-toggleable__label-arrow:before {content: \"▾\";}#sk-container-id-1 div.sk-estimator input.sk-toggleable__control:checked~label.sk-toggleable__label {background-color: #d4ebff;}#sk-container-id-1 div.sk-label input.sk-toggleable__control:checked~label.sk-toggleable__label {background-color: #d4ebff;}#sk-container-id-1 input.sk-hidden--visually {border: 0;clip: rect(1px 1px 1px 1px);clip: rect(1px, 1px, 1px, 1px);height: 1px;margin: -1px;overflow: hidden;padding: 0;position: absolute;width: 1px;}#sk-container-id-1 div.sk-estimator {font-family: monospace;background-color: #f0f8ff;border: 1px dotted black;border-radius: 0.25em;box-sizing: border-box;margin-bottom: 0.5em;}#sk-container-id-1 div.sk-estimator:hover {background-color: #d4ebff;}#sk-container-id-1 div.sk-parallel-item::after {content: \"\";width: 100%;border-bottom: 1px solid gray;flex-grow: 1;}#sk-container-id-1 div.sk-label:hover label.sk-toggleable__label {background-color: #d4ebff;}#sk-container-id-1 div.sk-serial::before {content: \"\";position: absolute;border-left: 1px solid gray;box-sizing: border-box;top: 0;bottom: 0;left: 50%;z-index: 0;}#sk-container-id-1 div.sk-serial {display: flex;flex-direction: column;align-items: center;background-color: white;padding-right: 0.2em;padding-left: 0.2em;position: relative;}#sk-container-id-1 div.sk-item {position: relative;z-index: 1;}#sk-container-id-1 div.sk-parallel {display: flex;align-items: stretch;justify-content: center;background-color: white;position: relative;}#sk-container-id-1 div.sk-item::before, #sk-container-id-1 div.sk-parallel-item::before {content: \"\";position: absolute;border-left: 1px solid gray;box-sizing: border-box;top: 0;bottom: 0;left: 50%;z-index: -1;}#sk-container-id-1 div.sk-parallel-item {display: flex;flex-direction: column;z-index: 1;position: relative;background-color: white;}#sk-container-id-1 div.sk-parallel-item:first-child::after {align-self: flex-end;width: 50%;}#sk-container-id-1 div.sk-parallel-item:last-child::after {align-self: flex-start;width: 50%;}#sk-container-id-1 div.sk-parallel-item:only-child::after {width: 0;}#sk-container-id-1 div.sk-dashed-wrapped {border: 1px dashed gray;margin: 0 0.4em 0.5em 0.4em;box-sizing: border-box;padding-bottom: 0.4em;background-color: white;}#sk-container-id-1 div.sk-label label {font-family: monospace;font-weight: bold;display: inline-block;line-height: 1.2em;}#sk-container-id-1 div.sk-label-container {text-align: center;}#sk-container-id-1 div.sk-container {/* jupyter's `normalize.less` sets `[hidden] { display: none; }` but bootstrap.min.css set `[hidden] { display: none !important; }` so we also need the `!important` here to be able to override the default hidden behavior on the sphinx rendered scikit-learn.org. See: https://github.com/scikit-learn/scikit-learn/issues/21755 */display: inline-block !important;position: relative;}#sk-container-id-1 div.sk-text-repr-fallback {display: none;}</style><div id=\"sk-container-id-1\" class=\"sk-top-container\"><div class=\"sk-text-repr-fallback\"><pre>DummyRegressor()</pre><b>In a Jupyter environment, please rerun this cell to show the HTML representation or trust the notebook. <br />On GitHub, the HTML representation is unable to render, please try loading this page with nbviewer.org.</b></div><div class=\"sk-container\" hidden><div class=\"sk-item\"><div class=\"sk-estimator sk-toggleable\"><input class=\"sk-toggleable__control sk-hidden--visually\" id=\"sk-estimator-id-1\" type=\"checkbox\" checked><label for=\"sk-estimator-id-1\" class=\"sk-toggleable__label sk-toggleable__label-arrow\">DummyRegressor</label><div class=\"sk-toggleable__content\"><pre>DummyRegressor()</pre></div></div></div></div></div>"
      ],
      "text/plain": [
       "DummyRegressor()"
      ]
     },
     "execution_count": 9,
     "metadata": {},
     "output_type": "execute_result"
    }
   ],
   "source": [
    "model.fit(X_train_std, y_train)"
   ]
  },
  {
   "cell_type": "code",
   "execution_count": 10,
   "id": "f616b45d",
   "metadata": {},
   "outputs": [
    {
     "data": {
      "text/plain": [
       "8.855098499714646"
      ]
     },
     "execution_count": 10,
     "metadata": {},
     "output_type": "execute_result"
    }
   ],
   "source": [
    "y_pred = model.predict(X_test_std)\n",
    "metrics.mean_absolute_error(y_test, y_pred)"
   ]
  },
  {
   "cell_type": "code",
   "execution_count": 11,
   "id": "7a715329",
   "metadata": {},
   "outputs": [],
   "source": [
    "model = dummy.DummyRegressor(strategy='median')"
   ]
  },
  {
   "cell_type": "code",
   "execution_count": 12,
   "id": "90905279",
   "metadata": {},
   "outputs": [
    {
     "data": {
      "text/html": [
       "<style>#sk-container-id-2 {color: black;background-color: white;}#sk-container-id-2 pre{padding: 0;}#sk-container-id-2 div.sk-toggleable {background-color: white;}#sk-container-id-2 label.sk-toggleable__label {cursor: pointer;display: block;width: 100%;margin-bottom: 0;padding: 0.3em;box-sizing: border-box;text-align: center;}#sk-container-id-2 label.sk-toggleable__label-arrow:before {content: \"▸\";float: left;margin-right: 0.25em;color: #696969;}#sk-container-id-2 label.sk-toggleable__label-arrow:hover:before {color: black;}#sk-container-id-2 div.sk-estimator:hover label.sk-toggleable__label-arrow:before {color: black;}#sk-container-id-2 div.sk-toggleable__content {max-height: 0;max-width: 0;overflow: hidden;text-align: left;background-color: #f0f8ff;}#sk-container-id-2 div.sk-toggleable__content pre {margin: 0.2em;color: black;border-radius: 0.25em;background-color: #f0f8ff;}#sk-container-id-2 input.sk-toggleable__control:checked~div.sk-toggleable__content {max-height: 200px;max-width: 100%;overflow: auto;}#sk-container-id-2 input.sk-toggleable__control:checked~label.sk-toggleable__label-arrow:before {content: \"▾\";}#sk-container-id-2 div.sk-estimator input.sk-toggleable__control:checked~label.sk-toggleable__label {background-color: #d4ebff;}#sk-container-id-2 div.sk-label input.sk-toggleable__control:checked~label.sk-toggleable__label {background-color: #d4ebff;}#sk-container-id-2 input.sk-hidden--visually {border: 0;clip: rect(1px 1px 1px 1px);clip: rect(1px, 1px, 1px, 1px);height: 1px;margin: -1px;overflow: hidden;padding: 0;position: absolute;width: 1px;}#sk-container-id-2 div.sk-estimator {font-family: monospace;background-color: #f0f8ff;border: 1px dotted black;border-radius: 0.25em;box-sizing: border-box;margin-bottom: 0.5em;}#sk-container-id-2 div.sk-estimator:hover {background-color: #d4ebff;}#sk-container-id-2 div.sk-parallel-item::after {content: \"\";width: 100%;border-bottom: 1px solid gray;flex-grow: 1;}#sk-container-id-2 div.sk-label:hover label.sk-toggleable__label {background-color: #d4ebff;}#sk-container-id-2 div.sk-serial::before {content: \"\";position: absolute;border-left: 1px solid gray;box-sizing: border-box;top: 0;bottom: 0;left: 50%;z-index: 0;}#sk-container-id-2 div.sk-serial {display: flex;flex-direction: column;align-items: center;background-color: white;padding-right: 0.2em;padding-left: 0.2em;position: relative;}#sk-container-id-2 div.sk-item {position: relative;z-index: 1;}#sk-container-id-2 div.sk-parallel {display: flex;align-items: stretch;justify-content: center;background-color: white;position: relative;}#sk-container-id-2 div.sk-item::before, #sk-container-id-2 div.sk-parallel-item::before {content: \"\";position: absolute;border-left: 1px solid gray;box-sizing: border-box;top: 0;bottom: 0;left: 50%;z-index: -1;}#sk-container-id-2 div.sk-parallel-item {display: flex;flex-direction: column;z-index: 1;position: relative;background-color: white;}#sk-container-id-2 div.sk-parallel-item:first-child::after {align-self: flex-end;width: 50%;}#sk-container-id-2 div.sk-parallel-item:last-child::after {align-self: flex-start;width: 50%;}#sk-container-id-2 div.sk-parallel-item:only-child::after {width: 0;}#sk-container-id-2 div.sk-dashed-wrapped {border: 1px dashed gray;margin: 0 0.4em 0.5em 0.4em;box-sizing: border-box;padding-bottom: 0.4em;background-color: white;}#sk-container-id-2 div.sk-label label {font-family: monospace;font-weight: bold;display: inline-block;line-height: 1.2em;}#sk-container-id-2 div.sk-label-container {text-align: center;}#sk-container-id-2 div.sk-container {/* jupyter's `normalize.less` sets `[hidden] { display: none; }` but bootstrap.min.css set `[hidden] { display: none !important; }` so we also need the `!important` here to be able to override the default hidden behavior on the sphinx rendered scikit-learn.org. See: https://github.com/scikit-learn/scikit-learn/issues/21755 */display: inline-block !important;position: relative;}#sk-container-id-2 div.sk-text-repr-fallback {display: none;}</style><div id=\"sk-container-id-2\" class=\"sk-top-container\"><div class=\"sk-text-repr-fallback\"><pre>DummyRegressor(strategy=&#x27;median&#x27;)</pre><b>In a Jupyter environment, please rerun this cell to show the HTML representation or trust the notebook. <br />On GitHub, the HTML representation is unable to render, please try loading this page with nbviewer.org.</b></div><div class=\"sk-container\" hidden><div class=\"sk-item\"><div class=\"sk-estimator sk-toggleable\"><input class=\"sk-toggleable__control sk-hidden--visually\" id=\"sk-estimator-id-2\" type=\"checkbox\" checked><label for=\"sk-estimator-id-2\" class=\"sk-toggleable__label sk-toggleable__label-arrow\">DummyRegressor</label><div class=\"sk-toggleable__content\"><pre>DummyRegressor(strategy=&#x27;median&#x27;)</pre></div></div></div></div></div>"
      ],
      "text/plain": [
       "DummyRegressor(strategy='median')"
      ]
     },
     "execution_count": 12,
     "metadata": {},
     "output_type": "execute_result"
    }
   ],
   "source": [
    "model.fit(X_train_std, y_train)"
   ]
  },
  {
   "cell_type": "code",
   "execution_count": 13,
   "id": "d99dc3c1",
   "metadata": {},
   "outputs": [
    {
     "data": {
      "text/plain": [
       "8.466706380725444"
      ]
     },
     "execution_count": 13,
     "metadata": {},
     "output_type": "execute_result"
    }
   ],
   "source": [
    "y_pred = model.predict(X_test_std)\n",
    "metrics.mean_absolute_error(y_test, y_pred)"
   ]
  },
  {
   "cell_type": "markdown",
   "id": "412bfa74",
   "metadata": {},
   "source": [
    "On pourrait aussi utiliser le r2_score, mais le choix de la valeur absolue de l'erreur est pertinent puisqu'on prédit une température et que l'on peut comprendre facilement ce qu'est un écart de 8 degrés."
   ]
  },
  {
   "cell_type": "code",
   "execution_count": 14,
   "id": "de7fd1b6",
   "metadata": {},
   "outputs": [
    {
     "data": {
      "text/plain": [
       "-0.04997271922533386"
      ]
     },
     "execution_count": 14,
     "metadata": {},
     "output_type": "execute_result"
    }
   ],
   "source": [
    "metrics.r2_score(y_test, y_pred)"
   ]
  },
  {
   "cell_type": "markdown",
   "id": "4c93f09c",
   "metadata": {},
   "source": [
    "Nous allons maintenant tester des models plus développés. "
   ]
  },
  {
   "cell_type": "markdown",
   "id": "f2f73c2a",
   "metadata": {},
   "source": [
    "## Gradient boosting avecXGboost"
   ]
  },
  {
   "cell_type": "markdown",
   "id": "e97ffe59",
   "metadata": {},
   "source": [
    "Nous allons effectuer une optimisation des hyperparamètres à l'aide du module optuna."
   ]
  },
  {
   "cell_type": "code",
   "execution_count": 15,
   "id": "9c51f542",
   "metadata": {},
   "outputs": [],
   "source": [
    "def objective(trial):\n",
    "    param = {\n",
    "        'max_depth': trial.suggest_int('max_depth', 1, 10),\n",
    "        'learning_rate': trial.suggest_float('learning_rate', 0.01, 1.0),\n",
    "        'n_estimators': trial.suggest_int('n_estimators', 50, 1000),\n",
    "        'min_child_weight': trial.suggest_int('min_child_weight', 1, 10),\n",
    "        'gamma': trial.suggest_float('gamma', 0.01, 1.0),\n",
    "        'subsample': trial.suggest_float('subsample', 0.01, 1.0),\n",
    "        'colsample_bytree': trial.suggest_float('colsample_bytree', 0.01, 1.0),\n",
    "        'reg_alpha': trial.suggest_float('reg_alpha', 0.01, 1.0),\n",
    "        'reg_lambda': trial.suggest_float('reg_lambda', 0.01, 1.0),\n",
    "        'random_state': trial.suggest_int('random_state', 1, 1000)\n",
    "    }\n",
    "    model = xgb.XGBRegressor(**param)\n",
    "    model.fit(X_train_std, y_train)\n",
    "    y_pred = model.predict(X_test_std)\n",
    "    return metrics.mean_absolute_error(y_test, y_pred)"
   ]
  },
  {
   "cell_type": "code",
   "execution_count": 16,
   "id": "948d0b84",
   "metadata": {},
   "outputs": [
    {
     "name": "stderr",
     "output_type": "stream",
     "text": [
      "\u001b[32m[I 2022-10-29 09:50:10,206]\u001b[0m A new study created in memory with name: regression_1\u001b[0m\n"
     ]
    }
   ],
   "source": [
    "study_1 = optuna.create_study(direction='minimize', study_name='regression_1')"
   ]
  },
  {
   "cell_type": "code",
   "execution_count": 17,
   "id": "b880c542",
   "metadata": {
    "scrolled": true
   },
   "outputs": [
    {
     "name": "stderr",
     "output_type": "stream",
     "text": [
      "\u001b[32m[I 2022-10-29 09:50:11,500]\u001b[0m Trial 0 finished with value: 6.098145567692239 and parameters: {'max_depth': 6, 'learning_rate': 0.020621489676178932, 'n_estimators': 678, 'min_child_weight': 1, 'gamma': 0.3445770658108742, 'subsample': 0.10754219357422873, 'colsample_bytree': 0.7735874403863479, 'reg_alpha': 0.5595819809936373, 'reg_lambda': 0.05766071873202678, 'random_state': 404}. Best is trial 0 with value: 6.098145567692239.\u001b[0m\n",
      "\u001b[32m[I 2022-10-29 09:50:11,871]\u001b[0m Trial 1 finished with value: 5.890640508405803 and parameters: {'max_depth': 9, 'learning_rate': 0.09981172245760209, 'n_estimators': 67, 'min_child_weight': 7, 'gamma': 0.12733996354887783, 'subsample': 0.9829796420754048, 'colsample_bytree': 0.8011020032031897, 'reg_alpha': 0.5334136333725175, 'reg_lambda': 0.8994027082111565, 'random_state': 271}. Best is trial 1 with value: 5.890640508405803.\u001b[0m\n",
      "\u001b[32m[I 2022-10-29 09:50:12,715]\u001b[0m Trial 2 finished with value: 8.520965999050812 and parameters: {'max_depth': 3, 'learning_rate': 0.7171052216515754, 'n_estimators': 663, 'min_child_weight': 5, 'gamma': 0.5859376279180893, 'subsample': 0.3169782341733327, 'colsample_bytree': 0.3350260892389295, 'reg_alpha': 0.6207904951620012, 'reg_lambda': 0.1747988059746259, 'random_state': 667}. Best is trial 1 with value: 5.890640508405803.\u001b[0m\n",
      "\u001b[32m[I 2022-10-29 09:50:14,888]\u001b[0m Trial 3 finished with value: 9.717613354984149 and parameters: {'max_depth': 10, 'learning_rate': 0.8677922995522948, 'n_estimators': 442, 'min_child_weight': 9, 'gamma': 0.9856695280598955, 'subsample': 0.6637260884706699, 'colsample_bytree': 0.637311135141745, 'reg_alpha': 0.1532353337491174, 'reg_lambda': 0.9006692517508242, 'random_state': 235}. Best is trial 1 with value: 5.890640508405803.\u001b[0m\n",
      "\u001b[32m[I 2022-10-29 09:50:15,498]\u001b[0m Trial 4 finished with value: 8.407986598763479 and parameters: {'max_depth': 1, 'learning_rate': 0.9626192900053895, 'n_estimators': 819, 'min_child_weight': 10, 'gamma': 0.4998413835571836, 'subsample': 0.0785096059961952, 'colsample_bytree': 0.47457833579427566, 'reg_alpha': 0.342172840646599, 'reg_lambda': 0.14558447666557087, 'random_state': 293}. Best is trial 1 with value: 5.890640508405803.\u001b[0m\n",
      "\u001b[32m[I 2022-10-29 09:50:18,193]\u001b[0m Trial 5 finished with value: 8.733302509794168 and parameters: {'max_depth': 8, 'learning_rate': 0.4835153239127932, 'n_estimators': 736, 'min_child_weight': 4, 'gamma': 0.2898314773513013, 'subsample': 0.40238035819383816, 'colsample_bytree': 0.6863029905866596, 'reg_alpha': 0.7327353235085535, 'reg_lambda': 0.6376984964299132, 'random_state': 711}. Best is trial 1 with value: 5.890640508405803.\u001b[0m\n",
      "\u001b[32m[I 2022-10-29 09:50:18,996]\u001b[0m Trial 6 finished with value: 7.38890792194232 and parameters: {'max_depth': 1, 'learning_rate': 0.9311678195954662, 'n_estimators': 901, 'min_child_weight': 3, 'gamma': 0.9475828614831044, 'subsample': 0.9912964373486203, 'colsample_bytree': 0.3343967841283966, 'reg_alpha': 0.2727974241404588, 'reg_lambda': 0.30499797889795516, 'random_state': 306}. Best is trial 1 with value: 5.890640508405803.\u001b[0m\n",
      "\u001b[32m[I 2022-10-29 09:50:19,511]\u001b[0m Trial 7 finished with value: 7.020694184625215 and parameters: {'max_depth': 2, 'learning_rate': 0.774908511292778, 'n_estimators': 388, 'min_child_weight': 5, 'gamma': 0.5302384594821757, 'subsample': 0.4556809690988892, 'colsample_bytree': 0.7672785647343433, 'reg_alpha': 0.5528210944480856, 'reg_lambda': 0.2257773552552978, 'random_state': 483}. Best is trial 1 with value: 5.890640508405803.\u001b[0m\n",
      "\u001b[32m[I 2022-10-29 09:50:20,098]\u001b[0m Trial 8 finished with value: 7.26336231463985 and parameters: {'max_depth': 7, 'learning_rate': 0.12427172324745313, 'n_estimators': 314, 'min_child_weight': 3, 'gamma': 0.0972826755722973, 'subsample': 0.06322065712261991, 'colsample_bytree': 0.6534148796746679, 'reg_alpha': 0.20346150824247727, 'reg_lambda': 0.6156320910678914, 'random_state': 757}. Best is trial 1 with value: 5.890640508405803.\u001b[0m\n",
      "\u001b[32m[I 2022-10-29 09:50:20,360]\u001b[0m Trial 9 finished with value: 7.592856858323926 and parameters: {'max_depth': 1, 'learning_rate': 0.8870981808063158, 'n_estimators': 271, 'min_child_weight': 5, 'gamma': 0.6132199381126237, 'subsample': 0.36335524631198823, 'colsample_bytree': 0.49242254589471346, 'reg_alpha': 0.03078540447905781, 'reg_lambda': 0.7022592636486872, 'random_state': 61}. Best is trial 1 with value: 5.890640508405803.\u001b[0m\n",
      "\u001b[32m[I 2022-10-29 09:50:20,825]\u001b[0m Trial 10 finished with value: 6.184283788740114 and parameters: {'max_depth': 10, 'learning_rate': 0.31435480921175574, 'n_estimators': 66, 'min_child_weight': 8, 'gamma': 0.07053251150006551, 'subsample': 0.9954955378806158, 'colsample_bytree': 0.9750843222656986, 'reg_alpha': 0.9674457757555042, 'reg_lambda': 0.9708776906848794, 'random_state': 106}. Best is trial 1 with value: 5.890640508405803.\u001b[0m\n",
      "\u001b[32m[I 2022-10-29 09:50:22,557]\u001b[0m Trial 11 finished with value: 6.0907874702996985 and parameters: {'max_depth': 5, 'learning_rate': 0.02290052320389851, 'n_estimators': 592, 'min_child_weight': 1, 'gamma': 0.28209470165817296, 'subsample': 0.7235242547333125, 'colsample_bytree': 0.946391812367819, 'reg_alpha': 0.4143093130693948, 'reg_lambda': 0.01869314579664981, 'random_state': 962}. Best is trial 1 with value: 5.890640508405803.\u001b[0m\n",
      "\u001b[32m[I 2022-10-29 09:50:22,748]\u001b[0m Trial 12 finished with value: 6.2609298967134706 and parameters: {'max_depth': 5, 'learning_rate': 0.24475761943427787, 'n_estimators': 57, 'min_child_weight': 7, 'gamma': 0.2594780108683765, 'subsample': 0.7603050341558422, 'colsample_bytree': 0.9628608487341309, 'reg_alpha': 0.39165155724534484, 'reg_lambda': 0.4145084787247742, 'random_state': 969}. Best is trial 1 with value: 5.890640508405803.\u001b[0m\n",
      "\u001b[32m[I 2022-10-29 09:50:23,519]\u001b[0m Trial 13 finished with value: 7.409125048046804 and parameters: {'max_depth': 4, 'learning_rate': 0.07142535166686326, 'n_estimators': 575, 'min_child_weight': 1, 'gamma': 0.1683403463339687, 'subsample': 0.7825234735568436, 'colsample_bytree': 0.032937678105281754, 'reg_alpha': 0.798975735476932, 'reg_lambda': 0.791269696203487, 'random_state': 907}. Best is trial 1 with value: 5.890640508405803.\u001b[0m\n",
      "\u001b[32m[I 2022-10-29 09:50:28,074]\u001b[0m Trial 14 finished with value: 6.260201935872914 and parameters: {'max_depth': 8, 'learning_rate': 0.24800882614491726, 'n_estimators': 986, 'min_child_weight': 7, 'gamma': 0.014775566919909555, 'subsample': 0.8462976197794779, 'colsample_bytree': 0.8907811629631468, 'reg_alpha': 0.43597118891538933, 'reg_lambda': 0.4661227579017898, 'random_state': 602}. Best is trial 1 with value: 5.890640508405803.\u001b[0m\n",
      "\u001b[32m[I 2022-10-29 09:50:28,684]\u001b[0m Trial 15 finished with value: 6.762943834067968 and parameters: {'max_depth': 5, 'learning_rate': 0.45406475415700287, 'n_estimators': 224, 'min_child_weight': 7, 'gamma': 0.3905596067570076, 'subsample': 0.6377159928497, 'colsample_bytree': 0.8329803136500012, 'reg_alpha': 0.7095255428049729, 'reg_lambda': 0.8272853887086139, 'random_state': 837}. Best is trial 1 with value: 5.890640508405803.\u001b[0m\n",
      "\u001b[32m[I 2022-10-29 09:50:31,646]\u001b[0m Trial 16 finished with value: 5.984311778790931 and parameters: {'max_depth': 8, 'learning_rate': 0.1544690904863167, 'n_estimators': 558, 'min_child_weight': 2, 'gamma': 0.21875761721789375, 'subsample': 0.8908091102526292, 'colsample_bytree': 0.9967125401625232, 'reg_alpha': 0.4708770287890404, 'reg_lambda': 0.33566065416656166, 'random_state': 526}. Best is trial 1 with value: 5.890640508405803.\u001b[0m\n",
      "\u001b[32m[I 2022-10-29 09:50:34,257]\u001b[0m Trial 17 finished with value: 6.454649303992778 and parameters: {'max_depth': 9, 'learning_rate': 0.3586166512527218, 'n_estimators': 477, 'min_child_weight': 3, 'gamma': 0.17383509402256314, 'subsample': 0.8859295967452528, 'colsample_bytree': 0.8515690563865292, 'reg_alpha': 0.9597605357268268, 'reg_lambda': 0.37967241308083033, 'random_state': 546}. Best is trial 1 with value: 5.890640508405803.\u001b[0m\n",
      "\u001b[32m[I 2022-10-29 09:50:34,713]\u001b[0m Trial 18 finished with value: 7.75660086135117 and parameters: {'max_depth': 8, 'learning_rate': 0.600120760183417, 'n_estimators': 203, 'min_child_weight': 6, 'gamma': 0.7255539834243905, 'subsample': 0.5860303360477438, 'colsample_bytree': 0.0716124029536448, 'reg_alpha': 0.4835623131526957, 'reg_lambda': 0.5633100542081584, 'random_state': 440}. Best is trial 1 with value: 5.890640508405803.\u001b[0m\n"
     ]
    },
    {
     "name": "stderr",
     "output_type": "stream",
     "text": [
      "\u001b[32m[I 2022-10-29 09:50:35,286]\u001b[0m Trial 19 finished with value: 6.0410982252650705 and parameters: {'max_depth': 7, 'learning_rate': 0.1819210948258061, 'n_estimators': 160, 'min_child_weight': 9, 'gamma': 0.4227114726616458, 'subsample': 0.8965702866548679, 'colsample_bytree': 0.5835842904208537, 'reg_alpha': 0.6349478644572619, 'reg_lambda': 0.3180965507787181, 'random_state': 178}. Best is trial 1 with value: 5.890640508405803.\u001b[0m\n",
      "\u001b[32m[I 2022-10-29 09:50:37,110]\u001b[0m Trial 20 finished with value: 7.088294509734178 and parameters: {'max_depth': 9, 'learning_rate': 0.38080549965644866, 'n_estimators': 377, 'min_child_weight': 2, 'gamma': 0.20773742491183028, 'subsample': 0.5551373971687531, 'colsample_bytree': 0.7466088416744109, 'reg_alpha': 0.8080410449523446, 'reg_lambda': 0.5217794275393912, 'random_state': 352}. Best is trial 1 with value: 5.890640508405803.\u001b[0m\n",
      "\u001b[32m[I 2022-10-29 09:50:37,593]\u001b[0m Trial 21 finished with value: 6.026818243637266 and parameters: {'max_depth': 7, 'learning_rate': 0.17766811332432533, 'n_estimators': 132, 'min_child_weight': 10, 'gamma': 0.41178677110203227, 'subsample': 0.912234915243811, 'colsample_bytree': 0.5405658753393415, 'reg_alpha': 0.6357126487780281, 'reg_lambda': 0.3074795932179807, 'random_state': 144}. Best is trial 1 with value: 5.890640508405803.\u001b[0m\n",
      "\u001b[32m[I 2022-10-29 09:50:37,945]\u001b[0m Trial 22 finished with value: 6.098913055038149 and parameters: {'max_depth': 7, 'learning_rate': 0.1527349509366361, 'n_estimators': 111, 'min_child_weight': 10, 'gamma': 0.13964484695720167, 'subsample': 0.9072060749377249, 'colsample_bytree': 0.37058720634596143, 'reg_alpha': 0.5776935369288901, 'reg_lambda': 0.2928844240246414, 'random_state': 9}. Best is trial 1 with value: 5.890640508405803.\u001b[0m\n",
      "\u001b[32m[I 2022-10-29 09:50:38,848]\u001b[0m Trial 23 finished with value: 6.0586587349889385 and parameters: {'max_depth': 9, 'learning_rate': 0.22427806300182948, 'n_estimators': 157, 'min_child_weight': 9, 'gamma': 0.4502494796853767, 'subsample': 0.8198578142369906, 'colsample_bytree': 0.9993234887634386, 'reg_alpha': 0.4958437188711945, 'reg_lambda': 0.4344858917724322, 'random_state': 154}. Best is trial 1 with value: 5.890640508405803.\u001b[0m\n",
      "\u001b[32m[I 2022-10-29 09:50:39,800]\u001b[0m Trial 24 finished with value: 5.976831216536914 and parameters: {'max_depth': 6, 'learning_rate': 0.08588736612187105, 'n_estimators': 325, 'min_child_weight': 8, 'gamma': 0.012771855570948454, 'subsample': 0.9919197523128178, 'colsample_bytree': 0.5447382798804072, 'reg_alpha': 0.6910377834106445, 'reg_lambda': 0.22020401926913247, 'random_state': 218}. Best is trial 1 with value: 5.890640508405803.\u001b[0m\n",
      "\u001b[32m[I 2022-10-29 09:50:40,911]\u001b[0m Trial 25 finished with value: 6.049864761407079 and parameters: {'max_depth': 6, 'learning_rate': 0.08660832528315428, 'n_estimators': 498, 'min_child_weight': 6, 'gamma': 0.0247756610063615, 'subsample': 0.9998231774436444, 'colsample_bytree': 0.2504175677531703, 'reg_alpha': 0.877853167805793, 'reg_lambda': 0.11818500913426938, 'random_state': 229}. Best is trial 1 with value: 5.890640508405803.\u001b[0m\n",
      "\u001b[32m[I 2022-10-29 09:50:41,615]\u001b[0m Trial 26 finished with value: 8.454252774695854 and parameters: {'max_depth': 8, 'learning_rate': 0.29718177514090927, 'n_estimators': 348, 'min_child_weight': 8, 'gamma': 0.09147418133377236, 'subsample': 0.2250264486948318, 'colsample_bytree': 0.17473503176944977, 'reg_alpha': 0.6983022794304339, 'reg_lambda': 0.22327279836551617, 'random_state': 580}. Best is trial 1 with value: 5.890640508405803.\u001b[0m\n",
      "\u001b[32m[I 2022-10-29 09:50:43,493]\u001b[0m Trial 27 finished with value: 5.914247049791712 and parameters: {'max_depth': 6, 'learning_rate': 0.09427624557152277, 'n_estimators': 553, 'min_child_weight': 8, 'gamma': 0.2406814798644683, 'subsample': 0.7204670523088498, 'colsample_bytree': 0.9054712307431593, 'reg_alpha': 0.32238894593581036, 'reg_lambda': 0.7334197940216309, 'random_state': 357}. Best is trial 1 with value: 5.890640508405803.\u001b[0m\n",
      "\u001b[32m[I 2022-10-29 09:50:44,174]\u001b[0m Trial 28 finished with value: 6.688444752449518 and parameters: {'max_depth': 4, 'learning_rate': 0.5723087227222327, 'n_estimators': 270, 'min_child_weight': 8, 'gamma': 0.12012896454977995, 'subsample': 0.7647540314630783, 'colsample_bytree': 0.8730767718171012, 'reg_alpha': 0.31380802536151364, 'reg_lambda': 0.77006078539433, 'random_state': 347}. Best is trial 1 with value: 5.890640508405803.\u001b[0m\n",
      "\u001b[32m[I 2022-10-29 09:50:46,271]\u001b[0m Trial 29 finished with value: 6.0533290549943075 and parameters: {'max_depth': 6, 'learning_rate': 0.012222658345940815, 'n_estimators': 674, 'min_child_weight': 7, 'gamma': 0.31758228294117496, 'subsample': 0.6348201139081195, 'colsample_bytree': 0.7333594179601675, 'reg_alpha': 0.2349216494022471, 'reg_lambda': 0.9873535989937957, 'random_state': 394}. Best is trial 1 with value: 5.890640508405803.\u001b[0m\n",
      "\u001b[32m[I 2022-10-29 09:50:47,314]\u001b[0m Trial 30 finished with value: 6.147125358116952 and parameters: {'max_depth': 4, 'learning_rate': 0.08003786842850426, 'n_estimators': 448, 'min_child_weight': 8, 'gamma': 0.7723172121337801, 'subsample': 0.715036883789618, 'colsample_bytree': 0.8162152476854693, 'reg_alpha': 0.09689545621948864, 'reg_lambda': 0.8665421873305241, 'random_state': 246}. Best is trial 1 with value: 5.890640508405803.\u001b[0m\n",
      "\u001b[32m[I 2022-10-29 09:50:49,547]\u001b[0m Trial 31 finished with value: 5.933741828528604 and parameters: {'max_depth': 6, 'learning_rate': 0.11199645246982487, 'n_estimators': 603, 'min_child_weight': 6, 'gamma': 0.2245074205798842, 'subsample': 0.9411656859195108, 'colsample_bytree': 0.9022309414086046, 'reg_alpha': 0.5279485743199055, 'reg_lambda': 0.7206251559261576, 'random_state': 436}. Best is trial 1 with value: 5.890640508405803.\u001b[0m\n",
      "\u001b[32m[I 2022-10-29 09:50:51,841]\u001b[0m Trial 32 finished with value: 5.894689573116771 and parameters: {'max_depth': 6, 'learning_rate': 0.0771987841616435, 'n_estimators': 622, 'min_child_weight': 6, 'gamma': 0.3473939072288364, 'subsample': 0.9475512237409842, 'colsample_bytree': 0.8914116276508879, 'reg_alpha': 0.5481283222815262, 'reg_lambda': 0.7165101689102359, 'random_state': 391}. Best is trial 1 with value: 5.890640508405803.\u001b[0m\n",
      "\u001b[32m[I 2022-10-29 09:50:54,419]\u001b[0m Trial 33 finished with value: 5.865257874423939 and parameters: {'max_depth': 6, 'learning_rate': 0.04230309005077296, 'n_estimators': 726, 'min_child_weight': 6, 'gamma': 0.3540605472050076, 'subsample': 0.8313308147731134, 'colsample_bytree': 0.9045338553425143, 'reg_alpha': 0.5579408153803694, 'reg_lambda': 0.7248529657556365, 'random_state': 463}. Best is trial 33 with value: 5.865257874423939.\u001b[0m\n",
      "\u001b[32m[I 2022-10-29 09:50:55,826]\u001b[0m Trial 34 finished with value: 6.717723907337386 and parameters: {'max_depth': 3, 'learning_rate': 0.012416204749469056, 'n_estimators': 729, 'min_child_weight': 6, 'gamma': 0.38767328877595936, 'subsample': 0.8170203472036406, 'colsample_bytree': 0.8042917951665629, 'reg_alpha': 0.362177058513221, 'reg_lambda': 0.9255051582755316, 'random_state': 478}. Best is trial 33 with value: 5.865257874423939.\u001b[0m\n",
      "\u001b[32m[I 2022-10-29 09:50:58,094]\u001b[0m Trial 35 finished with value: 6.27679421124649 and parameters: {'max_depth': 5, 'learning_rate': 0.21651088922248363, 'n_estimators': 783, 'min_child_weight': 4, 'gamma': 0.3434567355662098, 'subsample': 0.6892646669270627, 'colsample_bytree': 0.9183018330650292, 'reg_alpha': 0.5449139426134129, 'reg_lambda': 0.6907607852863742, 'random_state': 383}. Best is trial 33 with value: 5.865257874423939.\u001b[0m\n",
      "\u001b[32m[I 2022-10-29 09:51:01,694]\u001b[0m Trial 36 finished with value: 6.3564056045516075 and parameters: {'max_depth': 10, 'learning_rate': 0.29761788098033476, 'n_estimators': 654, 'min_child_weight': 5, 'gamma': 0.49494413885293914, 'subsample': 0.8380731048486731, 'colsample_bytree': 0.694829965516679, 'reg_alpha': 0.6010754931410103, 'reg_lambda': 0.8478138835406732, 'random_state': 312}. Best is trial 33 with value: 5.865257874423939.\u001b[0m\n",
      "\u001b[32m[I 2022-10-29 09:51:02,641]\u001b[0m Trial 37 finished with value: 15.655248682805714 and parameters: {'max_depth': 3, 'learning_rate': 0.6674142775892543, 'n_estimators': 821, 'min_child_weight': 7, 'gamma': 0.35408660105918627, 'subsample': 0.1449026044383971, 'colsample_bytree': 0.7830859719407238, 'reg_alpha': 0.31259151893572046, 'reg_lambda': 0.6329749992441134, 'random_state': 617}. Best is trial 33 with value: 5.865257874423939.\u001b[0m\n"
     ]
    },
    {
     "name": "stderr",
     "output_type": "stream",
     "text": [
      "\u001b[32m[I 2022-10-29 09:51:05,019]\u001b[0m Trial 38 finished with value: 5.806307280805335 and parameters: {'max_depth': 7, 'learning_rate': 0.048899935024506416, 'n_estimators': 643, 'min_child_weight': 4, 'gamma': 0.5926017720920778, 'subsample': 0.9484345182377012, 'colsample_bytree': 0.6230106771864021, 'reg_alpha': 0.4152777331817404, 'reg_lambda': 0.760016684524569, 'random_state': 290}. Best is trial 38 with value: 5.806307280805335.\u001b[0m\n",
      "\u001b[32m[I 2022-10-29 09:51:08,304]\u001b[0m Trial 39 finished with value: 5.8399171189400825 and parameters: {'max_depth': 7, 'learning_rate': 0.052655141032612165, 'n_estimators': 878, 'min_child_weight': 4, 'gamma': 0.6407122079685089, 'subsample': 0.946869149875112, 'colsample_bytree': 0.6241601358983083, 'reg_alpha': 0.4426411272367166, 'reg_lambda': 0.5809979905195737, 'random_state': 283}. Best is trial 38 with value: 5.806307280805335.\u001b[0m\n",
      "\u001b[32m[I 2022-10-29 09:51:11,606]\u001b[0m Trial 40 finished with value: 7.657651366561312 and parameters: {'max_depth': 7, 'learning_rate': 0.7804539655789067, 'n_estimators': 894, 'min_child_weight': 4, 'gamma': 0.605795213133286, 'subsample': 0.9477301990163091, 'colsample_bytree': 0.6087358758599706, 'reg_alpha': 0.4623072337103136, 'reg_lambda': 0.5989817179971065, 'random_state': 285}. Best is trial 38 with value: 5.806307280805335.\u001b[0m\n",
      "\u001b[32m[I 2022-10-29 09:51:14,416]\u001b[0m Trial 41 finished with value: 5.805041807708457 and parameters: {'max_depth': 7, 'learning_rate': 0.05758382502916652, 'n_estimators': 721, 'min_child_weight': 4, 'gamma': 0.6622251627305591, 'subsample': 0.9406944152570968, 'colsample_bytree': 0.6956591238432446, 'reg_alpha': 0.3994687015965701, 'reg_lambda': 0.6708357053246594, 'random_state': 275}. Best is trial 41 with value: 5.805041807708457.\u001b[0m\n",
      "\u001b[32m[I 2022-10-29 09:51:17,183]\u001b[0m Trial 42 finished with value: 5.816165749396096 and parameters: {'max_depth': 7, 'learning_rate': 0.05227433346726487, 'n_estimators': 722, 'min_child_weight': 4, 'gamma': 0.6782319330366583, 'subsample': 0.8565295735107924, 'colsample_bytree': 0.6891189664893966, 'reg_alpha': 0.38936067693807086, 'reg_lambda': 0.6706795830509593, 'random_state': 288}. Best is trial 41 with value: 5.805041807708457.\u001b[0m\n",
      "\u001b[32m[I 2022-10-29 09:51:19,525]\u001b[0m Trial 43 finished with value: 5.85229874894453 and parameters: {'max_depth': 7, 'learning_rate': 0.0467589381728373, 'n_estimators': 749, 'min_child_weight': 4, 'gamma': 0.6820826170080695, 'subsample': 0.8600845978662377, 'colsample_bytree': 0.448047551460954, 'reg_alpha': 0.38620595602561464, 'reg_lambda': 0.6665880177023737, 'random_state': 91}. Best is trial 41 with value: 5.805041807708457.\u001b[0m\n",
      "\u001b[32m[I 2022-10-29 09:51:22,765]\u001b[0m Trial 44 finished with value: 5.984612015160361 and parameters: {'max_depth': 7, 'learning_rate': 0.13247504386717723, 'n_estimators': 868, 'min_child_weight': 4, 'gamma': 0.6888509236656898, 'subsample': 0.8650451463025038, 'colsample_bytree': 0.6690600511347734, 'reg_alpha': 0.37730232416618453, 'reg_lambda': 0.6649081306544633, 'random_state': 209}. Best is trial 41 with value: 5.805041807708457.\u001b[0m\n",
      "\u001b[32m[I 2022-10-29 09:51:25,127]\u001b[0m Trial 45 finished with value: 5.884432429020007 and parameters: {'max_depth': 7, 'learning_rate': 0.05127845899357242, 'n_estimators': 782, 'min_child_weight': 3, 'gamma': 0.8463671429502052, 'subsample': 0.7868551955040486, 'colsample_bytree': 0.4071984462990401, 'reg_alpha': 0.2258393428781034, 'reg_lambda': 0.5579779507574782, 'random_state': 20}. Best is trial 41 with value: 5.805041807708457.\u001b[0m\n",
      "\u001b[32m[I 2022-10-29 09:51:27,715]\u001b[0m Trial 46 finished with value: 6.15389904328241 and parameters: {'max_depth': 8, 'learning_rate': 0.19019980713703505, 'n_estimators': 702, 'min_child_weight': 4, 'gamma': 0.6786215911114694, 'subsample': 0.9444845839302486, 'colsample_bytree': 0.43954133373759474, 'reg_alpha': 0.28089538689586896, 'reg_lambda': 0.7918343070894562, 'random_state': 54}. Best is trial 41 with value: 5.805041807708457.\u001b[0m\n",
      "\u001b[32m[I 2022-10-29 09:51:30,763]\u001b[0m Trial 47 finished with value: 6.180804943602837 and parameters: {'max_depth': 7, 'learning_rate': 0.12996562187114513, 'n_estimators': 944, 'min_child_weight': 5, 'gamma': 0.5718838118154161, 'subsample': 0.48825356658031105, 'colsample_bytree': 0.6062036662132655, 'reg_alpha': 0.4190157907693985, 'reg_lambda': 0.5886999767548918, 'random_state': 110}. Best is trial 41 with value: 5.805041807708457.\u001b[0m\n",
      "\u001b[32m[I 2022-10-29 09:51:34,114]\u001b[0m Trial 48 finished with value: 5.839332782209061 and parameters: {'max_depth': 8, 'learning_rate': 0.04316847858697587, 'n_estimators': 838, 'min_child_weight': 2, 'gamma': 0.8072389305407579, 'subsample': 0.9266228913033049, 'colsample_bytree': 0.528975153741488, 'reg_alpha': 0.1325592880246219, 'reg_lambda': 0.5081424574650499, 'random_state': 275}. Best is trial 41 with value: 5.805041807708457.\u001b[0m\n",
      "\u001b[32m[I 2022-10-29 09:51:37,977]\u001b[0m Trial 49 finished with value: 6.295773784919236 and parameters: {'max_depth': 8, 'learning_rate': 0.2639873740067029, 'n_estimators': 840, 'min_child_weight': 2, 'gamma': 0.8415556113754918, 'subsample': 0.9424164461681818, 'colsample_bytree': 0.7102751806172718, 'reg_alpha': 0.15574360062303655, 'reg_lambda': 0.5049853034137821, 'random_state': 280}. Best is trial 41 with value: 5.805041807708457.\u001b[0m\n",
      "\u001b[32m[I 2022-10-29 09:51:42,146]\u001b[0m Trial 50 finished with value: 6.618430219947708 and parameters: {'max_depth': 9, 'learning_rate': 0.4170274839921921, 'n_estimators': 934, 'min_child_weight': 3, 'gamma': 0.7909693297722498, 'subsample': 0.9647641604875594, 'colsample_bytree': 0.5216705124350699, 'reg_alpha': 0.01855578285365521, 'reg_lambda': 0.525240955503676, 'random_state': 313}. Best is trial 41 with value: 5.805041807708457.\u001b[0m\n",
      "\u001b[32m[I 2022-10-29 09:51:45,136]\u001b[0m Trial 51 finished with value: 5.850068116131238 and parameters: {'max_depth': 8, 'learning_rate': 0.049889140944803, 'n_estimators': 769, 'min_child_weight': 4, 'gamma': 0.6500634222504347, 'subsample': 0.8718467608270914, 'colsample_bytree': 0.46221187974772127, 'reg_alpha': 0.4450963756659031, 'reg_lambda': 0.6554672472402897, 'random_state': 181}. Best is trial 41 with value: 5.805041807708457.\u001b[0m\n",
      "\u001b[32m[I 2022-10-29 09:51:48,498]\u001b[0m Trial 52 finished with value: 5.818092543491145 and parameters: {'max_depth': 8, 'learning_rate': 0.014443403129060305, 'n_estimators': 783, 'min_child_weight': 3, 'gamma': 0.6390899173814062, 'subsample': 0.9118164720889306, 'colsample_bytree': 0.6202840810654132, 'reg_alpha': 0.4427805017804643, 'reg_lambda': 0.6482625587837804, 'random_state': 186}. Best is trial 41 with value: 5.805041807708457.\u001b[0m\n",
      "\u001b[32m[I 2022-10-29 09:51:52,282]\u001b[0m Trial 53 finished with value: 5.95873484436027 and parameters: {'max_depth': 8, 'learning_rate': 0.1146577002167494, 'n_estimators': 861, 'min_child_weight': 2, 'gamma': 0.741953852603735, 'subsample': 0.9046045840785352, 'colsample_bytree': 0.62817379752024, 'reg_alpha': 0.16446936324137454, 'reg_lambda': 0.47284845417363114, 'random_state': 257}. Best is trial 41 with value: 5.805041807708457.\u001b[0m\n",
      "\u001b[32m[I 2022-10-29 09:51:55,580]\u001b[0m Trial 54 finished with value: 5.795794267379199 and parameters: {'max_depth': 9, 'learning_rate': 0.014780341506600396, 'n_estimators': 649, 'min_child_weight': 3, 'gamma': 0.538754579927727, 'subsample': 0.8012802160250224, 'colsample_bytree': 0.5716219918917764, 'reg_alpha': 0.10767107173338306, 'reg_lambda': 0.5662281536998267, 'random_state': 194}. Best is trial 54 with value: 5.795794267379199.\u001b[0m\n",
      "\u001b[32m[I 2022-10-29 09:51:58,757]\u001b[0m Trial 55 finished with value: 6.116750778721413 and parameters: {'max_depth': 9, 'learning_rate': 0.15752062138212847, 'n_estimators': 645, 'min_child_weight': 3, 'gamma': 0.5518942710726493, 'subsample': 0.7937395509335401, 'colsample_bytree': 0.58166111296351, 'reg_alpha': 0.07725463752852257, 'reg_lambda': 0.7620911502433658, 'random_state': 186}. Best is trial 54 with value: 5.795794267379199.\u001b[0m\n",
      "\u001b[32m[I 2022-10-29 09:52:02,634]\u001b[0m Trial 56 finished with value: 5.775942059285369 and parameters: {'max_depth': 10, 'learning_rate': 0.013558067114550942, 'n_estimators': 669, 'min_child_weight': 1, 'gamma': 0.9161447615222834, 'subsample': 0.7397674168766826, 'colsample_bytree': 0.5606285399446583, 'reg_alpha': 0.09870955660179409, 'reg_lambda': 0.6176405773781319, 'random_state': 123}. Best is trial 56 with value: 5.775942059285369.\u001b[0m\n"
     ]
    },
    {
     "name": "stderr",
     "output_type": "stream",
     "text": [
      "\u001b[32m[I 2022-10-29 09:52:06,441]\u001b[0m Trial 57 finished with value: 5.766486316475882 and parameters: {'max_depth': 10, 'learning_rate': 0.020882800017788, 'n_estimators': 638, 'min_child_weight': 1, 'gamma': 0.9584398476472427, 'subsample': 0.7400233269418988, 'colsample_bytree': 0.574000016124815, 'reg_alpha': 0.27100884383734014, 'reg_lambda': 0.6326562116101755, 'random_state': 131}. Best is trial 57 with value: 5.766486316475882.\u001b[0m\n",
      "\u001b[32m[I 2022-10-29 09:52:10,495]\u001b[0m Trial 58 finished with value: 6.2419853777553405 and parameters: {'max_depth': 10, 'learning_rate': 0.20203420324151433, 'n_estimators': 699, 'min_child_weight': 1, 'gamma': 0.9455844122899781, 'subsample': 0.7435346444325431, 'colsample_bytree': 0.6719427858527854, 'reg_alpha': 0.19782001197307514, 'reg_lambda': 0.610518168834548, 'random_state': 121}. Best is trial 57 with value: 5.766486316475882.\u001b[0m\n",
      "\u001b[32m[I 2022-10-29 09:52:13,320]\u001b[0m Trial 59 finished with value: 6.173135517424365 and parameters: {'max_depth': 10, 'learning_rate': 0.14663365545900148, 'n_estimators': 529, 'min_child_weight': 1, 'gamma': 0.9369769295306895, 'subsample': 0.6719306230077309, 'colsample_bytree': 0.4966688018154327, 'reg_alpha': 0.0708055630254522, 'reg_lambda': 0.5546580538866672, 'random_state': 57}. Best is trial 57 with value: 5.766486316475882.\u001b[0m\n",
      "\u001b[32m[I 2022-10-29 09:52:16,770]\u001b[0m Trial 60 finished with value: 6.03501749844156 and parameters: {'max_depth': 10, 'learning_rate': 0.1098300647384002, 'n_estimators': 627, 'min_child_weight': 1, 'gamma': 0.8949291471990879, 'subsample': 0.6104520696208162, 'colsample_bytree': 0.5648128710943117, 'reg_alpha': 0.25749979887253865, 'reg_lambda': 0.82355790463009, 'random_state': 143}. Best is trial 57 with value: 5.766486316475882.\u001b[0m\n",
      "\u001b[32m[I 2022-10-29 09:52:19,976]\u001b[0m Trial 61 finished with value: 5.827776860546933 and parameters: {'max_depth': 9, 'learning_rate': 0.03704321686388314, 'n_estimators': 679, 'min_child_weight': 3, 'gamma': 0.9990831359088063, 'subsample': 0.41100045015552317, 'colsample_bytree': 0.7141938456993238, 'reg_alpha': 0.34264631632737474, 'reg_lambda': 0.6764117965735021, 'random_state': 205}. Best is trial 57 with value: 5.766486316475882.\u001b[0m\n",
      "\u001b[32m[I 2022-10-29 09:52:21,782]\u001b[0m Trial 62 finished with value: 6.552709717936134 and parameters: {'max_depth': 10, 'learning_rate': 0.01007950529529432, 'n_estimators': 795, 'min_child_weight': 2, 'gamma': 0.5144948493711602, 'subsample': 0.010581154651628566, 'colsample_bytree': 0.642440802024674, 'reg_alpha': 0.4105920713194769, 'reg_lambda': 0.6336607499953809, 'random_state': 161}. Best is trial 57 with value: 5.766486316475882.\u001b[0m\n",
      "\u001b[32m[I 2022-10-29 09:52:24,925]\u001b[0m Trial 63 finished with value: 5.883902524999124 and parameters: {'max_depth': 9, 'learning_rate': 0.07741544800345182, 'n_estimators': 579, 'min_child_weight': 5, 'gamma': 0.8938221598184098, 'subsample': 0.8093233827699334, 'colsample_bytree': 0.762220737566612, 'reg_alpha': 0.290201679875104, 'reg_lambda': 0.7480314518488984, 'random_state': 238}. Best is trial 57 with value: 5.766486316475882.\u001b[0m\n",
      "\u001b[32m[I 2022-10-29 09:52:28,383]\u001b[0m Trial 64 finished with value: 5.789254187477118 and parameters: {'max_depth': 9, 'learning_rate': 0.017081329987542263, 'n_estimators': 695, 'min_child_weight': 3, 'gamma': 0.5966948643008315, 'subsample': 0.7604496628708982, 'colsample_bytree': 0.5753218719494453, 'reg_alpha': 0.04684406405135591, 'reg_lambda': 0.6987390201696528, 'random_state': 80}. Best is trial 57 with value: 5.766486316475882.\u001b[0m\n",
      "\u001b[32m[I 2022-10-29 09:52:32,307]\u001b[0m Trial 65 finished with value: 5.88149377975888 and parameters: {'max_depth': 10, 'learning_rate': 0.07013248857273921, 'n_estimators': 702, 'min_child_weight': 2, 'gamma': 0.476053226812458, 'subsample': 0.75785054256096, 'colsample_bytree': 0.563438246804389, 'reg_alpha': 0.06127778041394492, 'reg_lambda': 0.6923083519612279, 'random_state': 92}. Best is trial 57 with value: 5.766486316475882.\u001b[0m\n",
      "\u001b[32m[I 2022-10-29 09:52:35,317]\u001b[0m Trial 66 finished with value: 5.974878248235426 and parameters: {'max_depth': 9, 'learning_rate': 0.10275022359876058, 'n_estimators': 644, 'min_child_weight': 1, 'gamma': 0.5430715410584115, 'subsample': 0.7099179212228258, 'colsample_bytree': 0.4890343306855812, 'reg_alpha': 0.12201439707929401, 'reg_lambda': 0.7855654035925173, 'random_state': 33}. Best is trial 57 with value: 5.766486316475882.\u001b[0m\n",
      "\u001b[32m[I 2022-10-29 09:52:38,200]\u001b[0m Trial 67 finished with value: 6.222633153507878 and parameters: {'max_depth': 9, 'learning_rate': 0.18126745816670714, 'n_estimators': 603, 'min_child_weight': 5, 'gamma': 0.5862614612864541, 'subsample': 0.6444235956689598, 'colsample_bytree': 0.6681592584367576, 'reg_alpha': 0.030707786790266617, 'reg_lambda': 0.616746774099086, 'random_state': 84}. Best is trial 57 with value: 5.766486316475882.\u001b[0m\n",
      "\u001b[32m[I 2022-10-29 09:52:41,143]\u001b[0m Trial 68 finished with value: 9.65555959713658 and parameters: {'max_depth': 10, 'learning_rate': 0.9692050798587128, 'n_estimators': 513, 'min_child_weight': 3, 'gamma': 0.7251330429703046, 'subsample': 0.7480311486644067, 'colsample_bytree': 0.7358571371052436, 'reg_alpha': 0.17200758962792334, 'reg_lambda': 0.8185780952728825, 'random_state': 136}. Best is trial 57 with value: 5.766486316475882.\u001b[0m\n",
      "\u001b[32m[I 2022-10-29 09:52:43,914]\u001b[0m Trial 69 finished with value: 6.020405181690849 and parameters: {'max_depth': 9, 'learning_rate': 0.16223119578545184, 'n_estimators': 544, 'min_child_weight': 1, 'gamma': 0.6127524000600295, 'subsample': 0.846150410438403, 'colsample_bytree': 0.5840920251898766, 'reg_alpha': 0.5140043278806774, 'reg_lambda': 0.9048354097548965, 'random_state': 336}. Best is trial 57 with value: 5.766486316475882.\u001b[0m\n",
      "\u001b[32m[I 2022-10-29 09:52:47,468]\u001b[0m Trial 70 finished with value: 7.804807234883529 and parameters: {'max_depth': 10, 'learning_rate': 0.5133924775631752, 'n_estimators': 688, 'min_child_weight': 4, 'gamma': 0.9013383312455278, 'subsample': 0.5712019516553255, 'colsample_bytree': 0.6489563679805564, 'reg_alpha': 0.12264895043329486, 'reg_lambda': 0.7043799596764413, 'random_state': 1}. Best is trial 57 with value: 5.766486316475882.\u001b[0m\n",
      "\u001b[32m[I 2022-10-29 09:52:50,665]\u001b[0m Trial 71 finished with value: 5.818853536256886 and parameters: {'max_depth': 8, 'learning_rate': 0.019746102559550286, 'n_estimators': 747, 'min_child_weight': 3, 'gamma': 0.6477664605951033, 'subsample': 0.8722024324900993, 'colsample_bytree': 0.589989830562437, 'reg_alpha': 0.198575341504808, 'reg_lambda': 0.6443926273954516, 'random_state': 184}. Best is trial 57 with value: 5.766486316475882.\u001b[0m\n",
      "\u001b[32m[I 2022-10-29 09:52:54,121]\u001b[0m Trial 72 finished with value: 5.832754054585871 and parameters: {'max_depth': 9, 'learning_rate': 0.011947544986780793, 'n_estimators': 714, 'min_child_weight': 3, 'gamma': 0.5836177480043242, 'subsample': 0.9715646168060305, 'colsample_bytree': 0.54444438920672, 'reg_alpha': 0.35292839219026917, 'reg_lambda': 0.5792994749797499, 'random_state': 217}. Best is trial 57 with value: 5.766486316475882.\u001b[0m\n",
      "\u001b[32m[I 2022-10-29 09:52:57,854]\u001b[0m Trial 73 finished with value: 5.845287664068544 and parameters: {'max_depth': 9, 'learning_rate': 0.06904241990782115, 'n_estimators': 665, 'min_child_weight': 2, 'gamma': 0.7416754018782246, 'subsample': 0.9001094989969224, 'colsample_bytree': 0.6874481382528297, 'reg_alpha': 0.49331841593105086, 'reg_lambda': 0.7429570496544422, 'random_state': 62}. Best is trial 57 with value: 5.766486316475882.\u001b[0m\n",
      "\u001b[32m[I 2022-10-29 09:53:00,880]\u001b[0m Trial 74 finished with value: 6.100948346213496 and parameters: {'max_depth': 8, 'learning_rate': 0.10607870198199765, 'n_estimators': 757, 'min_child_weight': 3, 'gamma': 0.7047137809862992, 'subsample': 0.5321684082302287, 'colsample_bytree': 0.5102687406213929, 'reg_alpha': 0.04745495561640362, 'reg_lambda': 0.5369186493625545, 'random_state': 162}. Best is trial 57 with value: 5.766486316475882.\u001b[0m\n",
      "\u001b[32m[I 2022-10-29 09:53:04,598]\u001b[0m Trial 75 finished with value: 5.79690513863335 and parameters: {'max_depth': 10, 'learning_rate': 0.033008983099493926, 'n_estimators': 624, 'min_child_weight': 2, 'gamma': 0.466307330433894, 'subsample': 0.7733106922419866, 'colsample_bytree': 0.6209572710816013, 'reg_alpha': 0.11161480496966127, 'reg_lambda': 0.6788776094790933, 'random_state': 120}. Best is trial 57 with value: 5.766486316475882.\u001b[0m\n"
     ]
    },
    {
     "name": "stderr",
     "output_type": "stream",
     "text": [
      "\u001b[32m[I 2022-10-29 09:53:08,266]\u001b[0m Trial 76 finished with value: 5.873196671859342 and parameters: {'max_depth': 10, 'learning_rate': 0.06039024258446576, 'n_estimators': 628, 'min_child_weight': 2, 'gamma': 0.46130993877655985, 'subsample': 0.7743915543394015, 'colsample_bytree': 0.5537982846036067, 'reg_alpha': 0.11435891043497766, 'reg_lambda': 0.6887936861647331, 'random_state': 116}. Best is trial 57 with value: 5.766486316475882.\u001b[0m\n",
      "\u001b[32m[I 2022-10-29 09:53:12,050]\u001b[0m Trial 77 finished with value: 5.950799568879216 and parameters: {'max_depth': 10, 'learning_rate': 0.09642853871858786, 'n_estimators': 583, 'min_child_weight': 1, 'gamma': 0.43478371234084867, 'subsample': 0.8040895545097514, 'colsample_bytree': 0.7147657438068787, 'reg_alpha': 0.09224138016457452, 'reg_lambda': 0.6150338297452621, 'random_state': 753}. Best is trial 57 with value: 5.766486316475882.\u001b[0m\n",
      "\u001b[32m[I 2022-10-29 09:53:15,588]\u001b[0m Trial 78 finished with value: 6.099469362480602 and parameters: {'max_depth': 10, 'learning_rate': 0.13855431817038555, 'n_estimators': 611, 'min_child_weight': 2, 'gamma': 0.5045144799227435, 'subsample': 0.6912487735890028, 'colsample_bytree': 0.6043940126705248, 'reg_alpha': 0.24942388034053925, 'reg_lambda': 0.46200619564356804, 'random_state': 253}. Best is trial 57 with value: 5.766486316475882.\u001b[0m\n",
      "\u001b[32m[I 2022-10-29 09:53:16,914]\u001b[0m Trial 79 finished with value: 6.102905455385531 and parameters: {'max_depth': 5, 'learning_rate': 0.03141645700698555, 'n_estimators': 666, 'min_child_weight': 1, 'gamma': 0.5557188897088521, 'subsample': 0.30301409276292673, 'colsample_bytree': 0.41087204036922964, 'reg_alpha': 0.0482475802784447, 'reg_lambda': 0.7106175537138871, 'random_state': 77}. Best is trial 57 with value: 5.766486316475882.\u001b[0m\n",
      "\u001b[32m[I 2022-10-29 09:53:19,856]\u001b[0m Trial 80 finished with value: 5.893038061089953 and parameters: {'max_depth': 9, 'learning_rate': 0.07813449561460588, 'n_estimators': 562, 'min_child_weight': 4, 'gamma': 0.5277121954665431, 'subsample': 0.7255609836554682, 'colsample_bytree': 0.653701547218015, 'reg_alpha': 0.2212948026829465, 'reg_lambda': 0.7914727244168357, 'random_state': 117}. Best is trial 57 with value: 5.766486316475882.\u001b[0m\n",
      "\u001b[32m[I 2022-10-29 09:53:22,943]\u001b[0m Trial 81 finished with value: 5.812899858647944 and parameters: {'max_depth': 7, 'learning_rate': 0.04267279233268319, 'n_estimators': 808, 'min_child_weight': 2, 'gamma': 0.5945654058682855, 'subsample': 0.8255031306993179, 'colsample_bytree': 0.6221496247634587, 'reg_alpha': 0.4104839009008494, 'reg_lambda': 0.6517203289781685, 'random_state': 315}. Best is trial 57 with value: 5.766486316475882.\u001b[0m\n",
      "\u001b[32m[I 2022-10-29 09:53:25,223]\u001b[0m Trial 82 finished with value: 5.898967227779245 and parameters: {'max_depth': 6, 'learning_rate': 0.049993400446078584, 'n_estimators': 725, 'min_child_weight': 2, 'gamma': 0.6196942453062528, 'subsample': 0.833363334317232, 'colsample_bytree': 0.5799570628841675, 'reg_alpha': 0.3861906081623453, 'reg_lambda': 0.6733234080558373, 'random_state': 313}. Best is trial 57 with value: 5.766486316475882.\u001b[0m\n",
      "\u001b[32m[I 2022-10-29 09:53:28,208]\u001b[0m Trial 83 finished with value: 5.817632199116475 and parameters: {'max_depth': 7, 'learning_rate': 0.03345348359412473, 'n_estimators': 816, 'min_child_weight': 1, 'gamma': 0.4929901355159495, 'subsample': 0.779042204312169, 'colsample_bytree': 0.6317532446053367, 'reg_alpha': 0.31123967658024504, 'reg_lambda': 0.6229678530589855, 'random_state': 377}. Best is trial 57 with value: 5.766486316475882.\u001b[0m\n",
      "\u001b[32m[I 2022-10-29 09:53:30,179]\u001b[0m Trial 84 finished with value: 5.952600153255689 and parameters: {'max_depth': 7, 'learning_rate': 0.12610198703794284, 'n_estimators': 472, 'min_child_weight': 2, 'gamma': 0.5910325777561938, 'subsample': 0.8828422054499976, 'colsample_bytree': 0.6852390477497174, 'reg_alpha': 0.4117440035486378, 'reg_lambda': 0.5761592496356495, 'random_state': 433}. Best is trial 57 with value: 5.766486316475882.\u001b[0m\n",
      "\u001b[32m[I 2022-10-29 09:53:34,385]\u001b[0m Trial 85 finished with value: 5.870173439791444 and parameters: {'max_depth': 10, 'learning_rate': 0.09006302845501736, 'n_estimators': 641, 'min_child_weight': 3, 'gamma': 0.973460688520414, 'subsample': 0.8505082627532983, 'colsample_bytree': 0.7749470619363183, 'reg_alpha': 0.17643961785436246, 'reg_lambda': 0.7610621056318184, 'random_state': 35}. Best is trial 57 with value: 5.766486316475882.\u001b[0m\n",
      "\u001b[32m[I 2022-10-29 09:53:36,692]\u001b[0m Trial 86 finished with value: 5.876404956436864 and parameters: {'max_depth': 6, 'learning_rate': 0.06839271061534555, 'n_estimators': 737, 'min_child_weight': 4, 'gamma': 0.6729329073982409, 'subsample': 0.736712692253259, 'colsample_bytree': 0.5219338937479359, 'reg_alpha': 0.4659949472448953, 'reg_lambda': 0.6486477493433233, 'random_state': 337}. Best is trial 57 with value: 5.766486316475882.\u001b[0m\n",
      "\u001b[32m[I 2022-10-29 09:53:39,432]\u001b[0m Trial 87 finished with value: 8.341517967530145 and parameters: {'max_depth': 7, 'learning_rate': 0.8326320484648191, 'n_estimators': 807, 'min_child_weight': 1, 'gamma': 0.5312603585592239, 'subsample': 0.8212966179457794, 'colsample_bytree': 0.4742867079637409, 'reg_alpha': 0.14868620386341438, 'reg_lambda': 0.7282802482286845, 'random_state': 206}. Best is trial 57 with value: 5.766486316475882.\u001b[0m\n",
      "\u001b[32m[I 2022-10-29 09:53:40,431]\u001b[0m Trial 88 finished with value: 6.894788333528219 and parameters: {'max_depth': 2, 'learning_rate': 0.030553009799672903, 'n_estimators': 691, 'min_child_weight': 5, 'gamma': 0.3919336418568431, 'subsample': 0.6719817343566261, 'colsample_bytree': 0.6461342198391643, 'reg_alpha': 0.08890894047023828, 'reg_lambda': 0.6056183900301237, 'random_state': 253}. Best is trial 57 with value: 5.766486316475882.\u001b[0m\n",
      "\u001b[32m[I 2022-10-29 09:53:43,966]\u001b[0m Trial 89 finished with value: 5.800494664176798 and parameters: {'max_depth': 9, 'learning_rate': 0.05574927687547603, 'n_estimators': 667, 'min_child_weight': 2, 'gamma': 0.8523033835058433, 'subsample': 0.797584768064427, 'colsample_bytree': 0.6006245633193275, 'reg_alpha': 0.33969217800031026, 'reg_lambda': 0.6745292754522357, 'random_state': 301}. Best is trial 57 with value: 5.766486316475882.\u001b[0m\n",
      "\u001b[32m[I 2022-10-29 09:53:46,927]\u001b[0m Trial 90 finished with value: 5.994278408390901 and parameters: {'max_depth': 9, 'learning_rate': 0.12030352071568168, 'n_estimators': 601, 'min_child_weight': 2, 'gamma': 0.8637197433711384, 'subsample': 0.7047193902223813, 'colsample_bytree': 0.5617634162871895, 'reg_alpha': 0.33844546581467544, 'reg_lambda': 0.5451344106346913, 'random_state': 412}. Best is trial 57 with value: 5.766486316475882.\u001b[0m\n",
      "\u001b[32m[I 2022-10-29 09:53:50,942]\u001b[0m Trial 91 finished with value: 5.857347095470312 and parameters: {'max_depth': 10, 'learning_rate': 0.06022405340019276, 'n_estimators': 660, 'min_child_weight': 2, 'gamma': 0.9100291466272048, 'subsample': 0.7945346989877973, 'colsample_bytree': 0.6037336906436772, 'reg_alpha': 0.3692873040570678, 'reg_lambda': 0.6771688165913773, 'random_state': 231}. Best is trial 57 with value: 5.766486316475882.\u001b[0m\n",
      "\u001b[32m[I 2022-10-29 09:53:54,073]\u001b[0m Trial 92 finished with value: 5.8258418144547255 and parameters: {'max_depth': 8, 'learning_rate': 0.044609497431392815, 'n_estimators': 717, 'min_child_weight': 3, 'gamma': 0.5620885101739912, 'subsample': 0.7665414036731397, 'colsample_bytree': 0.6111703073144592, 'reg_alpha': 0.2976614683036637, 'reg_lambda': 0.7072586306498426, 'random_state': 301}. Best is trial 57 with value: 5.766486316475882.\u001b[0m\n",
      "\u001b[32m[I 2022-10-29 09:53:57,354]\u001b[0m Trial 93 finished with value: 5.904549254138917 and parameters: {'max_depth': 9, 'learning_rate': 0.0970188472569844, 'n_estimators': 685, 'min_child_weight': 3, 'gamma': 0.8185080182039676, 'subsample': 0.8111916784000186, 'colsample_bytree': 0.5406422962207316, 'reg_alpha': 0.41741975591226566, 'reg_lambda': 0.6567474794420265, 'random_state': 159}. Best is trial 57 with value: 5.766486316475882.\u001b[0m\n",
      "\u001b[32m[I 2022-10-29 09:54:01,440]\u001b[0m Trial 94 finished with value: 5.742288128724325 and parameters: {'max_depth': 10, 'learning_rate': 0.024802543670948314, 'n_estimators': 622, 'min_child_weight': 2, 'gamma': 0.9250285672702556, 'subsample': 0.9226312244530833, 'colsample_bytree': 0.6971354392427153, 'reg_alpha': 0.019458127903182576, 'reg_lambda': 0.737526073033262, 'random_state': 264}. Best is trial 94 with value: 5.742288128724325.\u001b[0m\n"
     ]
    },
    {
     "name": "stderr",
     "output_type": "stream",
     "text": [
      "\u001b[32m[I 2022-10-29 09:54:05,632]\u001b[0m Trial 95 finished with value: 5.764826001709404 and parameters: {'max_depth': 10, 'learning_rate': 0.029005440164199627, 'n_estimators': 615, 'min_child_weight': 2, 'gamma': 0.9733782751926356, 'subsample': 0.9945015527310052, 'colsample_bytree': 0.7430436543235015, 'reg_alpha': 0.012588459578731217, 'reg_lambda': 0.8584447538005777, 'random_state': 135}. Best is trial 94 with value: 5.742288128724325.\u001b[0m\n",
      "\u001b[32m[I 2022-10-29 09:54:09,978]\u001b[0m Trial 96 finished with value: 5.788864032067664 and parameters: {'max_depth': 10, 'learning_rate': 0.010684189327439158, 'n_estimators': 626, 'min_child_weight': 2, 'gamma': 0.9758474078898846, 'subsample': 0.9936100444761512, 'colsample_bytree': 0.7463699604840774, 'reg_alpha': 0.013425762749782907, 'reg_lambda': 0.8692478378582831, 'random_state': 134}. Best is trial 94 with value: 5.742288128724325.\u001b[0m\n",
      "\u001b[32m[I 2022-10-29 09:54:14,178]\u001b[0m Trial 97 finished with value: 5.795364310648632 and parameters: {'max_depth': 10, 'learning_rate': 0.010347208554453622, 'n_estimators': 569, 'min_child_weight': 1, 'gamma': 0.9667335368098808, 'subsample': 0.9809188091253928, 'colsample_bytree': 0.8060910641822235, 'reg_alpha': 0.02366122441685853, 'reg_lambda': 0.9342647562959716, 'random_state': 97}. Best is trial 94 with value: 5.742288128724325.\u001b[0m\n",
      "\u001b[32m[I 2022-10-29 09:54:18,165]\u001b[0m Trial 98 finished with value: 5.762709640339313 and parameters: {'max_depth': 10, 'learning_rate': 0.014866662940883646, 'n_estimators': 563, 'min_child_weight': 1, 'gamma': 0.9779323395531566, 'subsample': 0.9810965522138897, 'colsample_bytree': 0.8175439068060184, 'reg_alpha': 0.024513384281105555, 'reg_lambda': 0.9474661517682288, 'random_state': 140}. Best is trial 94 with value: 5.742288128724325.\u001b[0m\n",
      "\u001b[32m[I 2022-10-29 09:54:21,921]\u001b[0m Trial 99 finished with value: 8.355247467435918 and parameters: {'max_depth': 10, 'learning_rate': 0.9992506717166597, 'n_estimators': 540, 'min_child_weight': 1, 'gamma': 0.9817576799852155, 'subsample': 0.9686232639129806, 'colsample_bytree': 0.8537004031340196, 'reg_alpha': 0.024592038869727852, 'reg_lambda': 0.9420350094384365, 'random_state': 129}. Best is trial 94 with value: 5.742288128724325.\u001b[0m\n"
     ]
    }
   ],
   "source": [
    "study_1.optimize(objective, n_trials=100)"
   ]
  },
  {
   "cell_type": "code",
   "execution_count": 18,
   "id": "639ece2c",
   "metadata": {},
   "outputs": [
    {
     "name": "stdout",
     "output_type": "stream",
     "text": [
      "Best value 5.742288128724325\n"
     ]
    }
   ],
   "source": [
    "print('Best value', study_1.best_value)"
   ]
  },
  {
   "cell_type": "markdown",
   "id": "aa9641d6",
   "metadata": {},
   "source": [
    "## Random Forest"
   ]
  },
  {
   "cell_type": "markdown",
   "id": "d654f60f",
   "metadata": {},
   "source": [
    "L'entraînement d'un model de forêt aléatoire avec beaucoup d'estimateurs est extrêmement long donc nous n'allons pas faire d'optimisation des hyperparamètres."
   ]
  },
  {
   "cell_type": "code",
   "execution_count": 19,
   "id": "777cc624",
   "metadata": {},
   "outputs": [
    {
     "data": {
      "text/plain": [
       "120.36642499999999"
      ]
     },
     "execution_count": 19,
     "metadata": {},
     "output_type": "execute_result"
    }
   ],
   "source": [
    "start_time = timeit.default_timer()\n",
    "\n",
    "model = RandomForestRegressor(n_estimators=1000)\n",
    "model.fit(X_train_std, y_train)\n",
    "\n",
    "temps = timeit.default_timer() - start_time\n",
    "temps"
   ]
  },
  {
   "cell_type": "code",
   "execution_count": 20,
   "id": "249b0d2f",
   "metadata": {},
   "outputs": [
    {
     "data": {
      "text/plain": [
       "5.856671301327395"
      ]
     },
     "execution_count": 20,
     "metadata": {},
     "output_type": "execute_result"
    }
   ],
   "source": [
    "y_pred = model.predict(X_test_std)\n",
    "metrics.mean_absolute_error(y_test, y_pred)"
   ]
  },
  {
   "cell_type": "markdown",
   "id": "469574ff",
   "metadata": {},
   "source": [
    "On est très proche de notre meilleur model avec XGboost."
   ]
  },
  {
   "cell_type": "markdown",
   "id": "677d1925",
   "metadata": {},
   "source": [
    "# Train1 sans la variable 'groupe'"
   ]
  },
  {
   "cell_type": "code",
   "execution_count": 21,
   "id": "cab1b3c1",
   "metadata": {},
   "outputs": [],
   "source": [
    "X_train, X_test, y_train, y_test = train_test_split(X1_ss_grp, y, random_state=21, train_size=0.7, shuffle=True)"
   ]
  },
  {
   "cell_type": "code",
   "execution_count": 22,
   "id": "f7d8fdf6",
   "metadata": {},
   "outputs": [],
   "source": [
    "std = StandardScaler()\n",
    "\n",
    "std.fit(X_train)\n",
    "\n",
    "X_train_std = std.transform(X_train)\n",
    "X_test_std = std.transform(X_test)"
   ]
  },
  {
   "cell_type": "code",
   "execution_count": 23,
   "id": "e7a8a377",
   "metadata": {},
   "outputs": [
    {
     "name": "stderr",
     "output_type": "stream",
     "text": [
      "\u001b[32m[I 2022-10-29 09:56:23,812]\u001b[0m A new study created in memory with name: regression_1_ss_grp\u001b[0m\n"
     ]
    }
   ],
   "source": [
    "study_1_ss_grp = optuna.create_study(direction='minimize', study_name='regression_1_ss_grp')"
   ]
  },
  {
   "cell_type": "code",
   "execution_count": 24,
   "id": "2cb6d7fd",
   "metadata": {
    "scrolled": true
   },
   "outputs": [
    {
     "name": "stderr",
     "output_type": "stream",
     "text": [
      "\u001b[32m[I 2022-10-29 09:56:24,307]\u001b[0m Trial 0 finished with value: 9.51874665783485 and parameters: {'max_depth': 8, 'learning_rate': 0.6862598955862317, 'n_estimators': 130, 'min_child_weight': 1, 'gamma': 0.8523039057763773, 'subsample': 0.476628438500235, 'colsample_bytree': 0.4079829698045382, 'reg_alpha': 0.8892178339131088, 'reg_lambda': 0.5851748989965119, 'random_state': 975}. Best is trial 0 with value: 9.51874665783485.\u001b[0m\n",
      "\u001b[32m[I 2022-10-29 09:56:25,969]\u001b[0m Trial 1 finished with value: 7.78975334195255 and parameters: {'max_depth': 4, 'learning_rate': 0.7149473502331545, 'n_estimators': 962, 'min_child_weight': 8, 'gamma': 0.22469651702501872, 'subsample': 0.6669428596808539, 'colsample_bytree': 0.9832357081110064, 'reg_alpha': 0.2614403235826947, 'reg_lambda': 0.10533861286401204, 'random_state': 733}. Best is trial 1 with value: 7.78975334195255.\u001b[0m\n",
      "\u001b[32m[I 2022-10-29 09:56:28,498]\u001b[0m Trial 2 finished with value: 13.410689117310694 and parameters: {'max_depth': 8, 'learning_rate': 0.5964964865977427, 'n_estimators': 901, 'min_child_weight': 8, 'gamma': 0.943062476154428, 'subsample': 0.32194709141851785, 'colsample_bytree': 0.5263094725117501, 'reg_alpha': 0.7952582610781735, 'reg_lambda': 0.8835275127900685, 'random_state': 98}. Best is trial 1 with value: 7.78975334195255.\u001b[0m\n",
      "\u001b[32m[I 2022-10-29 09:56:28,845]\u001b[0m Trial 3 finished with value: 6.567838814058473 and parameters: {'max_depth': 6, 'learning_rate': 0.43805894068413154, 'n_estimators': 169, 'min_child_weight': 7, 'gamma': 0.5904510928177522, 'subsample': 0.853607210591151, 'colsample_bytree': 0.40806909824808096, 'reg_alpha': 0.7347165436889319, 'reg_lambda': 0.6818919345873351, 'random_state': 144}. Best is trial 3 with value: 6.567838814058473.\u001b[0m\n",
      "\u001b[32m[I 2022-10-29 09:56:30,300]\u001b[0m Trial 4 finished with value: 559.5847983870016 and parameters: {'max_depth': 7, 'learning_rate': 0.7031666147233866, 'n_estimators': 697, 'min_child_weight': 2, 'gamma': 0.7096785115424598, 'subsample': 0.25285736412106724, 'colsample_bytree': 0.581499477260314, 'reg_alpha': 0.6424719908379256, 'reg_lambda': 0.18339439538269856, 'random_state': 805}. Best is trial 3 with value: 6.567838814058473.\u001b[0m\n",
      "\u001b[32m[I 2022-10-29 09:56:33,643]\u001b[0m Trial 5 finished with value: 10.285648384124537 and parameters: {'max_depth': 9, 'learning_rate': 0.755135612548763, 'n_estimators': 981, 'min_child_weight': 7, 'gamma': 0.7729848625067091, 'subsample': 0.5459883078431258, 'colsample_bytree': 0.9256342865032183, 'reg_alpha': 0.6953703174983624, 'reg_lambda': 0.11103755696759636, 'random_state': 768}. Best is trial 3 with value: 6.567838814058473.\u001b[0m\n",
      "\u001b[32m[I 2022-10-29 09:56:34,095]\u001b[0m Trial 6 finished with value: 9.808506707894855 and parameters: {'max_depth': 9, 'learning_rate': 0.5746120504082485, 'n_estimators': 125, 'min_child_weight': 5, 'gamma': 0.6841573992158426, 'subsample': 0.3670906902030693, 'colsample_bytree': 0.9489512721270741, 'reg_alpha': 0.7055969811746202, 'reg_lambda': 0.3183618556485409, 'random_state': 279}. Best is trial 3 with value: 6.567838814058473.\u001b[0m\n",
      "\u001b[32m[I 2022-10-29 09:56:35,640]\u001b[0m Trial 7 finished with value: 9.505270317915668 and parameters: {'max_depth': 5, 'learning_rate': 0.7282380255251385, 'n_estimators': 737, 'min_child_weight': 1, 'gamma': 0.8274762294797753, 'subsample': 0.4806552051754903, 'colsample_bytree': 0.7589609031010325, 'reg_alpha': 0.7625248673691863, 'reg_lambda': 0.9915011614345282, 'random_state': 637}. Best is trial 3 with value: 6.567838814058473.\u001b[0m\n",
      "\u001b[32m[I 2022-10-29 09:56:37,149]\u001b[0m Trial 8 finished with value: 6.1349224173394585 and parameters: {'max_depth': 6, 'learning_rate': 0.20059716119786009, 'n_estimators': 702, 'min_child_weight': 2, 'gamma': 0.10587463056557966, 'subsample': 0.9919558279583709, 'colsample_bytree': 0.8865083417885132, 'reg_alpha': 0.9951263240538042, 'reg_lambda': 0.03040564581866826, 'random_state': 497}. Best is trial 8 with value: 6.1349224173394585.\u001b[0m\n",
      "\u001b[32m[I 2022-10-29 09:56:38,271]\u001b[0m Trial 9 finished with value: 6.288761778839814 and parameters: {'max_depth': 3, 'learning_rate': 0.3150600877920608, 'n_estimators': 910, 'min_child_weight': 9, 'gamma': 0.7823806760104819, 'subsample': 0.7824861722720654, 'colsample_bytree': 0.29602282179027406, 'reg_alpha': 0.5521831534734309, 'reg_lambda': 0.3707503077334948, 'random_state': 967}. Best is trial 8 with value: 6.1349224173394585.\u001b[0m\n",
      "\u001b[32m[I 2022-10-29 09:56:38,578]\u001b[0m Trial 10 finished with value: 7.879976270664044 and parameters: {'max_depth': 1, 'learning_rate': 0.058535374686311814, 'n_estimators': 377, 'min_child_weight': 4, 'gamma': 0.04997662926401768, 'subsample': 0.9519791540650184, 'colsample_bytree': 0.04303460012433352, 'reg_alpha': 0.9981931432735082, 'reg_lambda': 0.010736640078670034, 'random_state': 416}. Best is trial 8 with value: 6.1349224173394585.\u001b[0m\n",
      "\u001b[32m[I 2022-10-29 09:56:39,333]\u001b[0m Trial 11 finished with value: 6.577908257072111 and parameters: {'max_depth': 3, 'learning_rate': 0.26564988379864957, 'n_estimators': 678, 'min_child_weight': 10, 'gamma': 0.39172577738771036, 'subsample': 0.8078991335893526, 'colsample_bytree': 0.13651348426290644, 'reg_alpha': 0.33887530078232553, 'reg_lambda': 0.452541741250376, 'random_state': 496}. Best is trial 8 with value: 6.1349224173394585.\u001b[0m\n",
      "\u001b[32m[I 2022-10-29 09:56:39,785]\u001b[0m Trial 12 finished with value: 6.5389750658660954 and parameters: {'max_depth': 2, 'learning_rate': 0.2672247672613172, 'n_estimators': 465, 'min_child_weight': 3, 'gamma': 0.4083078792313097, 'subsample': 0.996863795435959, 'colsample_bytree': 0.2934211913544327, 'reg_alpha': 0.4635024066613685, 'reg_lambda': 0.32795658308120557, 'random_state': 950}. Best is trial 8 with value: 6.1349224173394585.\u001b[0m\n",
      "\u001b[32m[I 2022-10-29 09:56:40,764]\u001b[0m Trial 13 finished with value: 7.034977077143767 and parameters: {'max_depth': 4, 'learning_rate': 0.06692373148997463, 'n_estimators': 804, 'min_child_weight': 10, 'gamma': 0.05730005065363864, 'subsample': 0.01357518627643034, 'colsample_bytree': 0.6932057368180196, 'reg_alpha': 0.07368035463626377, 'reg_lambda': 0.3031334775839549, 'random_state': 570}. Best is trial 8 with value: 6.1349224173394585.\u001b[0m\n",
      "\u001b[32m[I 2022-10-29 09:56:41,803]\u001b[0m Trial 14 finished with value: 6.615863122250751 and parameters: {'max_depth': 6, 'learning_rate': 0.3324632732069442, 'n_estimators': 533, 'min_child_weight': 5, 'gamma': 0.27025344016548936, 'subsample': 0.734003794821531, 'colsample_bytree': 0.20281143284088776, 'reg_alpha': 0.5353857749408071, 'reg_lambda': 0.7328460255297865, 'random_state': 343}. Best is trial 8 with value: 6.1349224173394585.\u001b[0m\n",
      "\u001b[32m[I 2022-10-29 09:56:42,913]\u001b[0m Trial 15 finished with value: 7.53244070349025 and parameters: {'max_depth': 3, 'learning_rate': 0.9732261692794586, 'n_estimators': 845, 'min_child_weight': 3, 'gamma': 0.548803852187105, 'subsample': 0.8652306336582435, 'colsample_bytree': 0.7710382811944629, 'reg_alpha': 0.97940950993105, 'reg_lambda': 0.4572665677205626, 'random_state': 483}. Best is trial 8 with value: 6.1349224173394585.\u001b[0m\n",
      "\u001b[32m[I 2022-10-29 09:56:43,962]\u001b[0m Trial 16 finished with value: 6.175319307785297 and parameters: {'max_depth': 5, 'learning_rate': 0.1529703791851913, 'n_estimators': 598, 'min_child_weight': 6, 'gamma': 0.9970303894936345, 'subsample': 0.625526207031242, 'colsample_bytree': 0.3249428916739, 'reg_alpha': 0.07540718428172982, 'reg_lambda': 0.19121872183662172, 'random_state': 239}. Best is trial 8 with value: 6.1349224173394585.\u001b[0m\n",
      "\u001b[32m[I 2022-10-29 09:56:45,098]\u001b[0m Trial 17 finished with value: 6.125105411942623 and parameters: {'max_depth': 5, 'learning_rate': 0.1632498051896159, 'n_estimators': 564, 'min_child_weight': 6, 'gamma': 0.19522596540413928, 'subsample': 0.6146425566623497, 'colsample_bytree': 0.6020773007305039, 'reg_alpha': 0.010065747963939012, 'reg_lambda': 0.20597259529463935, 'random_state': 242}. Best is trial 17 with value: 6.125105411942623.\u001b[0m\n",
      "\u001b[32m[I 2022-10-29 09:56:46,104]\u001b[0m Trial 18 finished with value: 7.734727730017539 and parameters: {'max_depth': 10, 'learning_rate': 0.15217497144695924, 'n_estimators': 326, 'min_child_weight': 4, 'gamma': 0.23736487256119526, 'subsample': 0.13196132670730548, 'colsample_bytree': 0.6356046775580722, 'reg_alpha': 0.19638487208575578, 'reg_lambda': 0.020908535725906584, 'random_state': 7}. Best is trial 17 with value: 6.125105411942623.\u001b[0m\n"
     ]
    },
    {
     "name": "stderr",
     "output_type": "stream",
     "text": [
      "\u001b[32m[I 2022-10-29 09:56:47,691]\u001b[0m Trial 19 finished with value: 7.20044390380714 and parameters: {'max_depth': 7, 'learning_rate': 0.44872563050668846, 'n_estimators': 581, 'min_child_weight': 6, 'gamma': 0.1398126271913555, 'subsample': 0.660068568237405, 'colsample_bytree': 0.8522967148677142, 'reg_alpha': 0.41280035092872414, 'reg_lambda': 0.21904942415389328, 'random_state': 388}. Best is trial 17 with value: 6.125105411942623.\u001b[0m\n",
      "\u001b[32m[I 2022-10-29 09:56:48,658]\u001b[0m Trial 20 finished with value: 6.011772134299628 and parameters: {'max_depth': 7, 'learning_rate': 0.15819418155048373, 'n_estimators': 361, 'min_child_weight': 3, 'gamma': 0.3955150386494476, 'subsample': 0.9235415729952852, 'colsample_bytree': 0.8511771596693588, 'reg_alpha': 0.1877230047687134, 'reg_lambda': 0.14585692020787414, 'random_state': 209}. Best is trial 20 with value: 6.011772134299628.\u001b[0m\n",
      "\u001b[32m[I 2022-10-29 09:56:49,459]\u001b[0m Trial 21 finished with value: 6.045968938145273 and parameters: {'max_depth': 7, 'learning_rate': 0.18558590401485064, 'n_estimators': 302, 'min_child_weight': 2, 'gamma': 0.3524465771551721, 'subsample': 0.9120410992198509, 'colsample_bytree': 0.8153343831686561, 'reg_alpha': 0.03576668908457718, 'reg_lambda': 0.11073596203139349, 'random_state': 196}. Best is trial 20 with value: 6.011772134299628.\u001b[0m\n",
      "\u001b[32m[I 2022-10-29 09:56:50,164]\u001b[0m Trial 22 finished with value: 5.965116418389565 and parameters: {'max_depth': 7, 'learning_rate': 0.02666722541332414, 'n_estimators': 256, 'min_child_weight': 3, 'gamma': 0.39490344439520986, 'subsample': 0.8926204467363403, 'colsample_bytree': 0.7626788389786254, 'reg_alpha': 0.024599862758415487, 'reg_lambda': 0.12804705639327085, 'random_state': 180}. Best is trial 22 with value: 5.965116418389565.\u001b[0m\n",
      "\u001b[32m[I 2022-10-29 09:56:50,914]\u001b[0m Trial 23 finished with value: 6.379615000754335 and parameters: {'max_depth': 7, 'learning_rate': 0.011387512257031496, 'n_estimators': 265, 'min_child_weight': 3, 'gamma': 0.3650736592156553, 'subsample': 0.9026233240361757, 'colsample_bytree': 0.800205485207389, 'reg_alpha': 0.17504437477910695, 'reg_lambda': 0.114817003930425, 'random_state': 127}. Best is trial 22 with value: 5.965116418389565.\u001b[0m\n",
      "\u001b[32m[I 2022-10-29 09:56:51,680]\u001b[0m Trial 24 finished with value: 5.8971400956044535 and parameters: {'max_depth': 8, 'learning_rate': 0.08012319105128068, 'n_estimators': 239, 'min_child_weight': 2, 'gamma': 0.4663800277319504, 'subsample': 0.7697466620684215, 'colsample_bytree': 0.7007774047595916, 'reg_alpha': 0.14222824855889815, 'reg_lambda': 0.2615627360349374, 'random_state': 28}. Best is trial 24 with value: 5.8971400956044535.\u001b[0m\n",
      "\u001b[32m[I 2022-10-29 09:56:51,901]\u001b[0m Trial 25 finished with value: 6.010505984515654 and parameters: {'max_depth': 8, 'learning_rate': 0.08813207656219653, 'n_estimators': 54, 'min_child_weight': 4, 'gamma': 0.46979334358182767, 'subsample': 0.7625673661113316, 'colsample_bytree': 0.6952222078243945, 'reg_alpha': 0.1479085483966923, 'reg_lambda': 0.25849302258813067, 'random_state': 5}. Best is trial 24 with value: 5.8971400956044535.\u001b[0m\n",
      "\u001b[32m[I 2022-10-29 09:56:52,201]\u001b[0m Trial 26 finished with value: 5.904201739914429 and parameters: {'max_depth': 10, 'learning_rate': 0.08441204040298665, 'n_estimators': 57, 'min_child_weight': 4, 'gamma': 0.5069864252534031, 'subsample': 0.7666334336076364, 'colsample_bytree': 0.710263438904733, 'reg_alpha': 0.13873914275599175, 'reg_lambda': 0.26482635967013546, 'random_state': 16}. Best is trial 24 with value: 5.8971400956044535.\u001b[0m\n",
      "\u001b[32m[I 2022-10-29 09:56:53,276]\u001b[0m Trial 27 finished with value: 5.777610715078809 and parameters: {'max_depth': 10, 'learning_rate': 0.03925659335413938, 'n_estimators': 220, 'min_child_weight': 1, 'gamma': 0.6394015064487888, 'subsample': 0.7060276780474111, 'colsample_bytree': 0.6848845554562666, 'reg_alpha': 0.2969777730895913, 'reg_lambda': 0.42522953624610316, 'random_state': 69}. Best is trial 27 with value: 5.777610715078809.\u001b[0m\n",
      "\u001b[32m[I 2022-10-29 09:56:54,303]\u001b[0m Trial 28 finished with value: 7.420594260690703 and parameters: {'max_depth': 10, 'learning_rate': 0.4078128272278975, 'n_estimators': 233, 'min_child_weight': 1, 'gamma': 0.6359071650231181, 'subsample': 0.560271845973875, 'colsample_bytree': 0.49923626303856106, 'reg_alpha': 0.28158301949962244, 'reg_lambda': 0.4087724133697631, 'random_state': 27}. Best is trial 27 with value: 5.777610715078809.\u001b[0m\n",
      "\u001b[32m[I 2022-10-29 09:56:54,594]\u001b[0m Trial 29 finished with value: 5.931059700640414 and parameters: {'max_depth': 9, 'learning_rate': 0.1032294026742328, 'n_estimators': 66, 'min_child_weight': 1, 'gamma': 0.496578863413624, 'subsample': 0.695777602744327, 'colsample_bytree': 0.6929343183947856, 'reg_alpha': 0.34266117128844364, 'reg_lambda': 0.5341744341467404, 'random_state': 97}. Best is trial 27 with value: 5.777610715078809.\u001b[0m\n",
      "\u001b[32m[I 2022-10-29 09:56:55,340]\u001b[0m Trial 30 finished with value: 8.678184235067572 and parameters: {'max_depth': 10, 'learning_rate': 0.8636990795640118, 'n_estimators': 182, 'min_child_weight': 2, 'gamma': 0.5740989450857554, 'subsample': 0.8085512577016472, 'colsample_bytree': 0.49213537522905615, 'reg_alpha': 0.10495469275529273, 'reg_lambda': 0.5744825670661566, 'random_state': 302}. Best is trial 27 with value: 5.777610715078809.\u001b[0m\n",
      "\u001b[32m[I 2022-10-29 09:56:55,633]\u001b[0m Trial 31 finished with value: 5.948296093757676 and parameters: {'max_depth': 9, 'learning_rate': 0.10466496689526035, 'n_estimators': 63, 'min_child_weight': 1, 'gamma': 0.5001632745126476, 'subsample': 0.7088831536648432, 'colsample_bytree': 0.6807340043693382, 'reg_alpha': 0.3629245249669389, 'reg_lambda': 0.5189599327362269, 'random_state': 97}. Best is trial 27 with value: 5.777610715078809.\u001b[0m\n",
      "\u001b[32m[I 2022-10-29 09:56:56,092]\u001b[0m Trial 32 finished with value: 6.260643479658051 and parameters: {'max_depth': 9, 'learning_rate': 0.2304439116289252, 'n_estimators': 106, 'min_child_weight': 1, 'gamma': 0.49206149353574247, 'subsample': 0.7004051762431018, 'colsample_bytree': 0.6413883883405357, 'reg_alpha': 0.25086239463555393, 'reg_lambda': 0.6527394897047235, 'random_state': 57}. Best is trial 27 with value: 5.777610715078809.\u001b[0m\n",
      "\u001b[32m[I 2022-10-29 09:56:56,713]\u001b[0m Trial 33 finished with value: 6.051377149849049 and parameters: {'max_depth': 8, 'learning_rate': 0.105293413468335, 'n_estimators': 188, 'min_child_weight': 2, 'gamma': 0.6520671912213013, 'subsample': 0.42481819990591496, 'colsample_bytree': 0.5560795440531384, 'reg_alpha': 0.3119694222371876, 'reg_lambda': 0.5292720966427491, 'random_state': 97}. Best is trial 27 with value: 5.777610715078809.\u001b[0m\n",
      "\u001b[32m[I 2022-10-29 09:56:58,780]\u001b[0m Trial 34 finished with value: 6.878264804109872 and parameters: {'max_depth': 10, 'learning_rate': 0.3316223741566163, 'n_estimators': 452, 'min_child_weight': 1, 'gamma': 0.5570616621723388, 'subsample': 0.5847170169057336, 'colsample_bytree': 0.7199974913075953, 'reg_alpha': 0.23299822642719337, 'reg_lambda': 0.3724142442640763, 'random_state': 74}. Best is trial 27 with value: 5.777610715078809.\u001b[0m\n",
      "\u001b[32m[I 2022-10-29 09:56:59,247]\u001b[0m Trial 35 finished with value: 9.664585893634516 and parameters: {'max_depth': 9, 'learning_rate': 0.015624906148881366, 'n_estimators': 113, 'min_child_weight': 2, 'gamma': 0.30747285390212975, 'subsample': 0.6374228568398315, 'colsample_bytree': 0.4364878589830311, 'reg_alpha': 0.41830741809055916, 'reg_lambda': 0.6311037511976416, 'random_state': 156}. Best is trial 27 with value: 5.777610715078809.\u001b[0m\n",
      "\u001b[32m[I 2022-10-29 09:56:59,927]\u001b[0m Trial 36 finished with value: 5.927652550097147 and parameters: {'max_depth': 8, 'learning_rate': 0.11082176499882981, 'n_estimators': 203, 'min_child_weight': 1, 'gamma': 0.4371170414771848, 'subsample': 0.8302460326056171, 'colsample_bytree': 0.6191955068814876, 'reg_alpha': 0.3816550575495863, 'reg_lambda': 0.45814782843463975, 'random_state': 55}. Best is trial 27 with value: 5.777610715078809.\u001b[0m\n",
      "\u001b[32m[I 2022-10-29 09:57:00,497]\u001b[0m Trial 37 finished with value: 6.927787255016242 and parameters: {'max_depth': 8, 'learning_rate': 0.5373449096585178, 'n_estimators': 173, 'min_child_weight': 4, 'gamma': 0.45289814410122686, 'subsample': 0.854191891510923, 'colsample_bytree': 0.618052788346542, 'reg_alpha': 0.13050461516940984, 'reg_lambda': 0.7418996290475772, 'random_state': 48}. Best is trial 27 with value: 5.777610715078809.\u001b[0m\n"
     ]
    },
    {
     "name": "stderr",
     "output_type": "stream",
     "text": [
      "\u001b[32m[I 2022-10-29 09:57:02,179]\u001b[0m Trial 38 finished with value: 7.567492587508934 and parameters: {'max_depth': 10, 'learning_rate': 0.6286730056078891, 'n_estimators': 414, 'min_child_weight': 2, 'gamma': 0.6051625360565623, 'subsample': 0.814103941675033, 'colsample_bytree': 0.544839376058668, 'reg_alpha': 0.6180387191963498, 'reg_lambda': 0.262366418290471, 'random_state': 141}. Best is trial 27 with value: 5.777610715078809.\u001b[0m\n",
      "\u001b[32m[I 2022-10-29 09:57:02,883]\u001b[0m Trial 39 finished with value: 6.5431125967092925 and parameters: {'max_depth': 8, 'learning_rate': 0.2523204838897711, 'n_estimators': 221, 'min_child_weight': 5, 'gamma': 0.6767166801497343, 'subsample': 0.514736166967629, 'colsample_bytree': 0.4755502394317184, 'reg_alpha': 0.4007585022179289, 'reg_lambda': 0.4504688570271744, 'random_state': 289}. Best is trial 27 with value: 5.777610715078809.\u001b[0m\n",
      "\u001b[32m[I 2022-10-29 09:57:04,080]\u001b[0m Trial 40 finished with value: 6.679436499585795 and parameters: {'max_depth': 8, 'learning_rate': 0.39766317483972735, 'n_estimators': 295, 'min_child_weight': 1, 'gamma': 0.32161544899496874, 'subsample': 0.7558670278087001, 'colsample_bytree': 0.9900898869090506, 'reg_alpha': 0.22624796137403203, 'reg_lambda': 0.38805791000539364, 'random_state': 7}. Best is trial 27 with value: 5.777610715078809.\u001b[0m\n",
      "\u001b[32m[I 2022-10-29 09:57:04,662]\u001b[0m Trial 41 finished with value: 5.888593084533788 and parameters: {'max_depth': 9, 'learning_rate': 0.10735654724034824, 'n_estimators': 117, 'min_child_weight': 1, 'gamma': 0.5293576935283304, 'subsample': 0.6832752583359075, 'colsample_bytree': 0.7376887396145261, 'reg_alpha': 0.28814018641167993, 'reg_lambda': 0.5884729909169033, 'random_state': 108}. Best is trial 27 with value: 5.777610715078809.\u001b[0m\n",
      "\u001b[32m[I 2022-10-29 09:57:05,246]\u001b[0m Trial 42 finished with value: 5.9032230833708565 and parameters: {'max_depth': 9, 'learning_rate': 0.12118398641412174, 'n_estimators': 138, 'min_child_weight': 1, 'gamma': 0.45427525050040213, 'subsample': 0.8354819928014042, 'colsample_bytree': 0.7325913378349035, 'reg_alpha': 0.29798445825404085, 'reg_lambda': 0.5895516654116237, 'random_state': 64}. Best is trial 27 with value: 5.777610715078809.\u001b[0m\n",
      "\u001b[32m[I 2022-10-29 09:57:05,822]\u001b[0m Trial 43 finished with value: 5.859313242303527 and parameters: {'max_depth': 9, 'learning_rate': 0.05307995229931914, 'n_estimators': 137, 'min_child_weight': 2, 'gamma': 0.7571267691470062, 'subsample': 0.6751788150577779, 'colsample_bytree': 0.7383612321406836, 'reg_alpha': 0.2936618712460372, 'reg_lambda': 0.5962987319775176, 'random_state': 143}. Best is trial 27 with value: 5.777610715078809.\u001b[0m\n",
      "\u001b[32m[I 2022-10-29 09:57:06,494]\u001b[0m Trial 44 finished with value: 5.875836376314413 and parameters: {'max_depth': 9, 'learning_rate': 0.030976969229271095, 'n_estimators': 146, 'min_child_weight': 2, 'gamma': 0.7503751711170981, 'subsample': 0.6803655477844746, 'colsample_bytree': 0.9147151494382761, 'reg_alpha': 0.27962557827968365, 'reg_lambda': 0.8071778159032821, 'random_state': 137}. Best is trial 27 with value: 5.777610715078809.\u001b[0m\n",
      "\u001b[32m[I 2022-10-29 09:57:07,070]\u001b[0m Trial 45 finished with value: 5.884918162341089 and parameters: {'max_depth': 9, 'learning_rate': 0.05689403040493613, 'n_estimators': 128, 'min_child_weight': 2, 'gamma': 0.7566282518511885, 'subsample': 0.4588769233774704, 'colsample_bytree': 0.9133659548792112, 'reg_alpha': 0.4906981457370806, 'reg_lambda': 0.8469918645477054, 'random_state': 233}. Best is trial 27 with value: 5.777610715078809.\u001b[0m\n",
      "\u001b[32m[I 2022-10-29 09:57:07,663]\u001b[0m Trial 46 finished with value: 5.879280482002564 and parameters: {'max_depth': 9, 'learning_rate': 0.04434920694705516, 'n_estimators': 135, 'min_child_weight': 2, 'gamma': 0.7392377513310683, 'subsample': 0.4515844024691248, 'colsample_bytree': 0.9033588224544626, 'reg_alpha': 0.45858824664787357, 'reg_lambda': 0.8459525903392697, 'random_state': 241}. Best is trial 27 with value: 5.777610715078809.\u001b[0m\n",
      "\u001b[32m[I 2022-10-29 09:57:08,405]\u001b[0m Trial 47 finished with value: 5.850612773193327 and parameters: {'max_depth': 9, 'learning_rate': 0.05640423651714324, 'n_estimators': 163, 'min_child_weight': 3, 'gamma': 0.7491479451648304, 'subsample': 0.4176249223729441, 'colsample_bytree': 0.9351322966609242, 'reg_alpha': 0.47682412818474285, 'reg_lambda': 0.8549636211862595, 'random_state': 351}. Best is trial 27 with value: 5.777610715078809.\u001b[0m\n",
      "\u001b[32m[I 2022-10-29 09:57:09,102]\u001b[0m Trial 48 finished with value: 6.736319771449276 and parameters: {'max_depth': 10, 'learning_rate': 0.21058608178585575, 'n_estimators': 157, 'min_child_weight': 3, 'gamma': 0.8809815593689582, 'subsample': 0.3055198797370709, 'colsample_bytree': 0.9498497054460847, 'reg_alpha': 0.45113753567384784, 'reg_lambda': 0.907350723972365, 'random_state': 386}. Best is trial 27 with value: 5.777610715078809.\u001b[0m\n",
      "\u001b[32m[I 2022-10-29 09:57:09,449]\u001b[0m Trial 49 finished with value: 6.015187701719413 and parameters: {'max_depth': 9, 'learning_rate': 0.04366295754311361, 'n_estimators': 94, 'min_child_weight': 8, 'gamma': 0.732177382948657, 'subsample': 0.3657110620296578, 'colsample_bytree': 0.8729009017250366, 'reg_alpha': 0.5936878871238297, 'reg_lambda': 0.819029378484642, 'random_state': 324}. Best is trial 27 with value: 5.777610715078809.\u001b[0m\n",
      "\u001b[32m[I 2022-10-29 09:57:10,820]\u001b[0m Trial 50 finished with value: 5.964886503292829 and parameters: {'max_depth': 10, 'learning_rate': 0.04856742394707872, 'n_estimators': 338, 'min_child_weight': 3, 'gamma': 0.8416678687488571, 'subsample': 0.2319178743241724, 'colsample_bytree': 0.9530909279175092, 'reg_alpha': 0.5414528879735281, 'reg_lambda': 0.9808978889672118, 'random_state': 258}. Best is trial 27 with value: 5.777610715078809.\u001b[0m\n",
      "\u001b[32m[I 2022-10-29 09:57:11,393]\u001b[0m Trial 51 finished with value: 9.073435008276508 and parameters: {'max_depth': 9, 'learning_rate': 0.013099993252690734, 'n_estimators': 143, 'min_child_weight': 2, 'gamma': 0.7695096109346965, 'subsample': 0.4301911745124704, 'colsample_bytree': 0.9067090337186177, 'reg_alpha': 0.4647881003851812, 'reg_lambda': 0.8429766875116057, 'random_state': 440}. Best is trial 27 with value: 5.777610715078809.\u001b[0m\n",
      "\u001b[32m[I 2022-10-29 09:57:12,521]\u001b[0m Trial 52 finished with value: 5.8198665497193804 and parameters: {'max_depth': 9, 'learning_rate': 0.05334315942777098, 'n_estimators': 273, 'min_child_weight': 2, 'gamma': 0.9048632404708317, 'subsample': 0.442087109786347, 'colsample_bytree': 0.9215815756997155, 'reg_alpha': 0.4863874006556038, 'reg_lambda': 0.7569424456605083, 'random_state': 228}. Best is trial 27 with value: 5.777610715078809.\u001b[0m\n",
      "\u001b[32m[I 2022-10-29 09:57:13,856]\u001b[0m Trial 53 finished with value: 6.137525568470489 and parameters: {'max_depth': 10, 'learning_rate': 0.1580635698953472, 'n_estimators': 275, 'min_child_weight': 3, 'gamma': 0.8843368781212932, 'subsample': 0.5364479760156398, 'colsample_bytree': 0.9997708714964255, 'reg_alpha': 0.6923862867105083, 'reg_lambda': 0.7561109429682419, 'random_state': 181}. Best is trial 27 with value: 5.777610715078809.\u001b[0m\n",
      "\u001b[32m[I 2022-10-29 09:57:14,794]\u001b[0m Trial 54 finished with value: 6.075609316029245 and parameters: {'max_depth': 9, 'learning_rate': 0.1368386116845558, 'n_estimators': 221, 'min_child_weight': 2, 'gamma': 0.8043162684516801, 'subsample': 0.4674965112276778, 'colsample_bytree': 0.810745108222477, 'reg_alpha': 0.5124615517822582, 'reg_lambda': 0.9347574748110234, 'random_state': 678}. Best is trial 27 with value: 5.777610715078809.\u001b[0m\n",
      "\u001b[32m[I 2022-10-29 09:57:15,341]\u001b[0m Trial 55 finished with value: 6.461204182738691 and parameters: {'max_depth': 8, 'learning_rate': 0.19271386183310085, 'n_estimators': 166, 'min_child_weight': 3, 'gamma': 0.9102024653259586, 'subsample': 0.34437399388079204, 'colsample_bytree': 0.863002805001639, 'reg_alpha': 0.5776744676710437, 'reg_lambda': 0.7908668098797358, 'random_state': 155}. Best is trial 27 with value: 5.777610715078809.\u001b[0m\n",
      "\u001b[32m[I 2022-10-29 09:57:15,559]\u001b[0m Trial 56 finished with value: 7.95747202165486 and parameters: {'max_depth': 1, 'learning_rate': 0.05349708746141631, 'n_estimators': 203, 'min_child_weight': 2, 'gamma': 0.7020102731784784, 'subsample': 0.3996525848382887, 'colsample_bytree': 0.9514542938900051, 'reg_alpha': 0.3372539016120835, 'reg_lambda': 0.685727195888527, 'random_state': 345}. Best is trial 27 with value: 5.777610715078809.\u001b[0m\n"
     ]
    },
    {
     "name": "stderr",
     "output_type": "stream",
     "text": [
      "\u001b[32m[I 2022-10-29 09:57:16,505]\u001b[0m Trial 57 finished with value: 6.544863547602121 and parameters: {'max_depth': 6, 'learning_rate': 0.30076345376157876, 'n_estimators': 385, 'min_child_weight': 2, 'gamma': 0.9395584013982685, 'subsample': 0.5918529368323767, 'colsample_bytree': 0.8980695575257513, 'reg_alpha': 0.4336627471691844, 'reg_lambda': 0.7878007218976383, 'random_state': 220}. Best is trial 27 with value: 5.777610715078809.\u001b[0m\n",
      "\u001b[32m[I 2022-10-29 09:57:16,839]\u001b[0m Trial 58 finished with value: 6.132208437234092 and parameters: {'max_depth': 9, 'learning_rate': 0.04128830277590552, 'n_estimators': 89, 'min_child_weight': 4, 'gamma': 0.8020519930990361, 'subsample': 0.2894374676301498, 'colsample_bytree': 0.8285904766500879, 'reg_alpha': 0.8208126433217175, 'reg_lambda': 0.8780864576399389, 'random_state': 871}. Best is trial 27 with value: 5.777610715078809.\u001b[0m\n",
      "\u001b[32m[I 2022-10-29 09:57:18,029]\u001b[0m Trial 59 finished with value: 6.345858350455335 and parameters: {'max_depth': 10, 'learning_rate': 0.18503490518048107, 'n_estimators': 248, 'min_child_weight': 3, 'gamma': 0.9868718517898121, 'subsample': 0.4937432854159563, 'colsample_bytree': 0.9319729637057963, 'reg_alpha': 0.6647905245224546, 'reg_lambda': 0.7068148987442394, 'random_state': 280}. Best is trial 27 with value: 5.777610715078809.\u001b[0m\n",
      "\u001b[32m[I 2022-10-29 09:57:18,870]\u001b[0m Trial 60 finished with value: 6.0183809391998375 and parameters: {'max_depth': 8, 'learning_rate': 0.06871957748310063, 'n_estimators': 296, 'min_child_weight': 2, 'gamma': 0.7310356873847451, 'subsample': 0.2549487823614609, 'colsample_bytree': 0.7780922408990532, 'reg_alpha': 0.4794997545662296, 'reg_lambda': 0.9446900826718052, 'random_state': 178}. Best is trial 27 with value: 5.777610715078809.\u001b[0m\n",
      "\u001b[32m[I 2022-10-29 09:57:19,477]\u001b[0m Trial 61 finished with value: 5.871277138313857 and parameters: {'max_depth': 9, 'learning_rate': 0.06957466372556466, 'n_estimators': 143, 'min_child_weight': 2, 'gamma': 0.7663638719043508, 'subsample': 0.46069624851732927, 'colsample_bytree': 0.8428366568862908, 'reg_alpha': 0.5018581352529536, 'reg_lambda': 0.8631141412909574, 'random_state': 257}. Best is trial 27 with value: 5.777610715078809.\u001b[0m\n",
      "\u001b[32m[I 2022-10-29 09:57:20,082]\u001b[0m Trial 62 finished with value: 7.124357762840459 and parameters: {'max_depth': 9, 'learning_rate': 0.015641247064205374, 'n_estimators': 154, 'min_child_weight': 2, 'gamma': 0.8148705091225836, 'subsample': 0.39710936379684253, 'colsample_bytree': 0.8443226610748802, 'reg_alpha': 0.3832369020954379, 'reg_lambda': 0.8641312697690747, 'random_state': 576}. Best is trial 27 with value: 5.777610715078809.\u001b[0m\n",
      "\u001b[32m[I 2022-10-29 09:57:21,074]\u001b[0m Trial 63 finished with value: 6.058109156543185 and parameters: {'max_depth': 10, 'learning_rate': 0.13676245305082776, 'n_estimators': 207, 'min_child_weight': 3, 'gamma': 0.621341032496407, 'subsample': 0.5288901656835309, 'colsample_bytree': 0.7952506801085923, 'reg_alpha': 0.531534130221053, 'reg_lambda': 0.8059636595487198, 'random_state': 258}. Best is trial 27 with value: 5.777610715078809.\u001b[0m\n",
      "\u001b[32m[I 2022-10-29 09:57:21,459]\u001b[0m Trial 64 finished with value: 10.721591269007302 and parameters: {'max_depth': 9, 'learning_rate': 0.7955893947811239, 'n_estimators': 88, 'min_child_weight': 1, 'gamma': 0.6756454797874767, 'subsample': 0.452653136236216, 'colsample_bytree': 0.9711861349286932, 'reg_alpha': 0.49727752742490205, 'reg_lambda': 0.901183729278291, 'random_state': 351}. Best is trial 27 with value: 5.777610715078809.\u001b[0m\n",
      "\u001b[32m[I 2022-10-29 09:57:24,497]\u001b[0m Trial 65 finished with value: 5.855481901767237 and parameters: {'max_depth': 10, 'learning_rate': 0.06461667223899543, 'n_estimators': 628, 'min_child_weight': 1, 'gamma': 0.8541908758892149, 'subsample': 0.6548315759666977, 'colsample_bytree': 0.88424564459798, 'reg_alpha': 0.3216295778930789, 'reg_lambda': 0.7540568829137895, 'random_state': 211}. Best is trial 27 with value: 5.777610715078809.\u001b[0m\n",
      "\u001b[32m[I 2022-10-29 09:57:25,597]\u001b[0m Trial 66 finished with value: 6.060155149827977 and parameters: {'max_depth': 4, 'learning_rate': 0.079691236583212, 'n_estimators': 655, 'min_child_weight': 1, 'gamma': 0.8721681529867866, 'subsample': 0.6560173688183143, 'colsample_bytree': 0.8765870533523831, 'reg_alpha': 0.3329291939614305, 'reg_lambda': 0.7164657857131417, 'random_state': 200}. Best is trial 27 with value: 5.777610715078809.\u001b[0m\n",
      "\u001b[32m[I 2022-10-29 09:57:28,641]\u001b[0m Trial 67 finished with value: 6.128890949397735 and parameters: {'max_depth': 10, 'learning_rate': 0.1297855971135186, 'n_estimators': 647, 'min_child_weight': 1, 'gamma': 0.8429292670058748, 'subsample': 0.5688726247603175, 'colsample_bytree': 0.8347223252936671, 'reg_alpha': 0.20930952054475518, 'reg_lambda': 0.7634212816867674, 'random_state': 138}. Best is trial 27 with value: 5.777610715078809.\u001b[0m\n",
      "\u001b[32m[I 2022-10-29 09:57:31,884]\u001b[0m Trial 68 finished with value: 6.501178229899832 and parameters: {'max_depth': 10, 'learning_rate': 0.23056577240804504, 'n_estimators': 737, 'min_child_weight': 1, 'gamma': 0.9251238426411685, 'subsample': 0.6169002258293154, 'colsample_bytree': 0.6624481228034338, 'reg_alpha': 0.252654495591313, 'reg_lambda': 0.6505276858926174, 'random_state': 312}. Best is trial 27 with value: 5.777610715078809.\u001b[0m\n",
      "\u001b[32m[I 2022-10-29 09:57:34,749]\u001b[0m Trial 69 finished with value: 5.8988864088172095 and parameters: {'max_depth': 10, 'learning_rate': 0.07375647185422148, 'n_estimators': 591, 'min_child_weight': 2, 'gamma': 0.7797038509904924, 'subsample': 0.7304280772636313, 'colsample_bytree': 0.7663842539782234, 'reg_alpha': 0.27238190483055313, 'reg_lambda': 0.9491037324462293, 'random_state': 382}. Best is trial 27 with value: 5.777610715078809.\u001b[0m\n",
      "\u001b[32m[I 2022-10-29 09:57:35,374]\u001b[0m Trial 70 finished with value: 6.494134000839303 and parameters: {'max_depth': 2, 'learning_rate': 0.16660424657089998, 'n_estimators': 509, 'min_child_weight': 7, 'gamma': 0.9725796454280187, 'subsample': 0.6469289118341265, 'colsample_bytree': 0.9256774999680414, 'reg_alpha': 0.3697676696949571, 'reg_lambda': 0.7727468322020459, 'random_state': 120}. Best is trial 27 with value: 5.777610715078809.\u001b[0m\n",
      "\u001b[32m[I 2022-10-29 09:57:36,145]\u001b[0m Trial 71 finished with value: 5.869420725029866 and parameters: {'max_depth': 9, 'learning_rate': 0.036102783079346994, 'n_estimators': 178, 'min_child_weight': 2, 'gamma': 0.7408128276643463, 'subsample': 0.4083860855205794, 'colsample_bytree': 0.8828887480719063, 'reg_alpha': 0.43647231944768566, 'reg_lambda': 0.8254840344751696, 'random_state': 257}. Best is trial 27 with value: 5.777610715078809.\u001b[0m\n",
      "\u001b[32m[I 2022-10-29 09:57:36,959]\u001b[0m Trial 72 finished with value: 5.904827484290436 and parameters: {'max_depth': 9, 'learning_rate': 0.076793011798148, 'n_estimators': 182, 'min_child_weight': 2, 'gamma': 0.6479432998566436, 'subsample': 0.3902461039068541, 'colsample_bytree': 0.8791151886683501, 'reg_alpha': 0.5621765087977733, 'reg_lambda': 0.8207616616701717, 'random_state': 212}. Best is trial 27 with value: 5.777610715078809.\u001b[0m\n",
      "\u001b[32m[I 2022-10-29 09:57:37,987]\u001b[0m Trial 73 finished with value: 5.879280419535254 and parameters: {'max_depth': 8, 'learning_rate': 0.032090504986874394, 'n_estimators': 271, 'min_child_weight': 3, 'gamma': 0.7093627210627463, 'subsample': 0.5077423732726501, 'colsample_bytree': 0.8165546555996618, 'reg_alpha': 0.3179123694172755, 'reg_lambda': 0.893800533035715, 'random_state': 172}. Best is trial 27 with value: 5.777610715078809.\u001b[0m\n",
      "\u001b[32m[I 2022-10-29 09:57:39,680]\u001b[0m Trial 74 finished with value: 6.038517970750974 and parameters: {'max_depth': 10, 'learning_rate': 0.09387155463635749, 'n_estimators': 330, 'min_child_weight': 1, 'gamma': 0.7962299917610465, 'subsample': 0.3484189411805737, 'colsample_bytree': 0.930342554551224, 'reg_alpha': 0.42777646651236323, 'reg_lambda': 0.726839415712433, 'random_state': 447}. Best is trial 27 with value: 5.777610715078809.\u001b[0m\n",
      "\u001b[32m[I 2022-10-29 09:57:40,719]\u001b[0m Trial 75 finished with value: 6.0439353109131995 and parameters: {'max_depth': 9, 'learning_rate': 0.014832908527654075, 'n_estimators': 236, 'min_child_weight': 2, 'gamma': 0.8335534130125182, 'subsample': 0.4253154536883516, 'colsample_bytree': 0.8554499217823774, 'reg_alpha': 0.3546650089234153, 'reg_lambda': 0.4794063342131372, 'random_state': 263}. Best is trial 27 with value: 5.777610715078809.\u001b[0m\n"
     ]
    },
    {
     "name": "stderr",
     "output_type": "stream",
     "text": [
      "\u001b[32m[I 2022-10-29 09:57:42,567]\u001b[0m Trial 76 finished with value: 6.030078586712697 and parameters: {'max_depth': 8, 'learning_rate': 0.13611421194323498, 'n_estimators': 531, 'min_child_weight': 1, 'gamma': 0.7500593852672429, 'subsample': 0.7227438119368252, 'colsample_bytree': 0.7500159418621336, 'reg_alpha': 0.39162807411326017, 'reg_lambda': 0.32724409113740094, 'random_state': 82}. Best is trial 27 with value: 5.777610715078809.\u001b[0m\n",
      "\u001b[32m[I 2022-10-29 09:57:45,529]\u001b[0m Trial 77 finished with value: 6.050322295964822 and parameters: {'max_depth': 7, 'learning_rate': 0.09795802102557294, 'n_estimators': 949, 'min_child_weight': 1, 'gamma': 0.9009821904185933, 'subsample': 0.5516443840225964, 'colsample_bytree': 0.9651826848095304, 'reg_alpha': 0.5253761329520984, 'reg_lambda': 0.6845097117561844, 'random_state': 200}. Best is trial 27 with value: 5.777610715078809.\u001b[0m\n",
      "\u001b[32m[I 2022-10-29 09:57:48,637]\u001b[0m Trial 78 finished with value: 5.856780789168007 and parameters: {'max_depth': 9, 'learning_rate': 0.05573397672120185, 'n_estimators': 734, 'min_child_weight': 3, 'gamma': 0.6938077460650867, 'subsample': 0.6741072261871787, 'colsample_bytree': 0.8887753605010226, 'reg_alpha': 0.3010587123631145, 'reg_lambda': 0.06198164030904035, 'random_state': 286}. Best is trial 27 with value: 5.777610715078809.\u001b[0m\n",
      "\u001b[32m[I 2022-10-29 09:57:52,129]\u001b[0m Trial 79 finished with value: 6.296274770767499 and parameters: {'max_depth': 10, 'learning_rate': 0.1707552755882294, 'n_estimators': 812, 'min_child_weight': 4, 'gamma': 0.7019324302851133, 'subsample': 0.48701118567579205, 'colsample_bytree': 0.7874629383468174, 'reg_alpha': 0.1777307425080567, 'reg_lambda': 0.6200195981125075, 'random_state': 322}. Best is trial 27 with value: 5.777610715078809.\u001b[0m\n",
      "\u001b[32m[I 2022-10-29 09:57:54,563]\u001b[0m Trial 80 finished with value: 5.954061639627704 and parameters: {'max_depth': 10, 'learning_rate': 0.06243292895154755, 'n_estimators': 612, 'min_child_weight': 5, 'gamma': 0.6690120415011406, 'subsample': 0.5960338093835948, 'colsample_bytree': 0.36085087121072645, 'reg_alpha': 0.4186467527101716, 'reg_lambda': 0.1698342022874625, 'random_state': 531}. Best is trial 27 with value: 5.777610715078809.\u001b[0m\n",
      "\u001b[32m[I 2022-10-29 09:57:57,723]\u001b[0m Trial 81 finished with value: 5.789799691105066 and parameters: {'max_depth': 9, 'learning_rate': 0.04100750042066891, 'n_estimators': 743, 'min_child_weight': 3, 'gamma': 0.7796084012364102, 'subsample': 0.675490655948629, 'colsample_bytree': 0.9015781617716674, 'reg_alpha': 0.29580372409749317, 'reg_lambda': 0.8252671267811295, 'random_state': 277}. Best is trial 27 with value: 5.777610715078809.\u001b[0m\n",
      "\u001b[32m[I 2022-10-29 09:58:00,897]\u001b[0m Trial 82 finished with value: 6.048682957690388 and parameters: {'max_depth': 9, 'learning_rate': 0.12703034204503863, 'n_estimators': 785, 'min_child_weight': 3, 'gamma': 0.7704850320992129, 'subsample': 0.749404650137803, 'colsample_bytree': 0.8956004418397477, 'reg_alpha': 0.30530542479147943, 'reg_lambda': 0.5559033738928023, 'random_state': 292}. Best is trial 27 with value: 5.777610715078809.\u001b[0m\n",
      "\u001b[32m[I 2022-10-29 09:58:03,833]\u001b[0m Trial 83 finished with value: 5.929018508804075 and parameters: {'max_depth': 9, 'learning_rate': 0.08450594043895256, 'n_estimators': 716, 'min_child_weight': 3, 'gamma': 0.8513327950406812, 'subsample': 0.6810599102924916, 'colsample_bytree': 0.8420390768933501, 'reg_alpha': 0.4395217560562744, 'reg_lambda': 0.8663381113004549, 'random_state': 262}. Best is trial 27 with value: 5.777610715078809.\u001b[0m\n",
      "\u001b[32m[I 2022-10-29 09:58:06,573]\u001b[0m Trial 84 finished with value: 5.841014840042967 and parameters: {'max_depth': 8, 'learning_rate': 0.04731280840501678, 'n_estimators': 763, 'min_child_weight': 3, 'gamma': 0.7174028894507127, 'subsample': 0.6305976299372951, 'colsample_bytree': 0.8798766429862573, 'reg_alpha': 0.23954244912329198, 'reg_lambda': 0.978255935415301, 'random_state': 371}. Best is trial 27 with value: 5.777610715078809.\u001b[0m\n",
      "\u001b[32m[I 2022-10-29 09:58:09,670]\u001b[0m Trial 85 finished with value: 5.777770897721626 and parameters: {'max_depth': 8, 'learning_rate': 0.0353400020588412, 'n_estimators': 862, 'min_child_weight': 4, 'gamma': 0.6986476818021041, 'subsample': 0.629667280910423, 'colsample_bytree': 0.9861244491646008, 'reg_alpha': 0.23714620425845465, 'reg_lambda': 0.9701510008350226, 'random_state': 365}. Best is trial 27 with value: 5.777610715078809.\u001b[0m\n",
      "\u001b[32m[I 2022-10-29 09:58:12,568]\u001b[0m Trial 86 finished with value: 5.9605082016758795 and parameters: {'max_depth': 8, 'learning_rate': 0.1159706924588354, 'n_estimators': 866, 'min_child_weight': 4, 'gamma': 0.6015237670572714, 'subsample': 0.7882565616130168, 'colsample_bytree': 0.978102006743512, 'reg_alpha': 0.22342289948389094, 'reg_lambda': 0.0647764705063798, 'random_state': 422}. Best is trial 27 with value: 5.777610715078809.\u001b[0m\n",
      "\u001b[32m[I 2022-10-29 09:58:14,076]\u001b[0m Trial 87 finished with value: 7.766240269638478 and parameters: {'max_depth': 7, 'learning_rate': 0.9717422933875237, 'n_estimators': 787, 'min_child_weight': 4, 'gamma': 0.7173274710139428, 'subsample': 0.6166386895754974, 'colsample_bytree': 0.042229392125016696, 'reg_alpha': 0.2441271702723503, 'reg_lambda': 0.9607811680151569, 'random_state': 363}. Best is trial 27 with value: 5.777610715078809.\u001b[0m\n",
      "\u001b[32m[I 2022-10-29 09:58:16,525]\u001b[0m Trial 88 finished with value: 7.74797866509205 and parameters: {'max_depth': 8, 'learning_rate': 0.6433139773515919, 'n_estimators': 758, 'min_child_weight': 3, 'gamma': 0.6287551545323974, 'subsample': 0.7146335481355988, 'colsample_bytree': 0.9960568760161513, 'reg_alpha': 0.16078589922744804, 'reg_lambda': 0.9983597931488952, 'random_state': 395}. Best is trial 27 with value: 5.777610715078809.\u001b[0m\n",
      "\u001b[32m[I 2022-10-29 09:58:18,998]\u001b[0m Trial 89 finished with value: 5.8221628961217196 and parameters: {'max_depth': 7, 'learning_rate': 0.03740245374963886, 'n_estimators': 849, 'min_child_weight': 5, 'gamma': 0.6887872802750159, 'subsample': 0.6359891009250224, 'colsample_bytree': 0.9395683706265904, 'reg_alpha': 0.20236893718647891, 'reg_lambda': 0.9201496421347752, 'random_state': 337}. Best is trial 27 with value: 5.777610715078809.\u001b[0m\n",
      "\u001b[32m[I 2022-10-29 09:58:21,527]\u001b[0m Trial 90 finished with value: 5.828762576300409 and parameters: {'max_depth': 7, 'learning_rate': 0.018422741923755218, 'n_estimators': 879, 'min_child_weight': 5, 'gamma': 0.5831729903669158, 'subsample': 0.6617444453438966, 'colsample_bytree': 0.9392561781094086, 'reg_alpha': 0.09189144103113628, 'reg_lambda': 0.9222018679670849, 'random_state': 367}. Best is trial 27 with value: 5.777610715078809.\u001b[0m\n",
      "\u001b[32m[I 2022-10-29 09:58:23,661]\u001b[0m Trial 91 finished with value: 5.939063519979553 and parameters: {'max_depth': 6, 'learning_rate': 0.015722517964614185, 'n_estimators': 862, 'min_child_weight': 5, 'gamma': 0.5790187367513809, 'subsample': 0.6293873452473173, 'colsample_bytree': 0.9421746030268475, 'reg_alpha': 0.053698322406863286, 'reg_lambda': 0.92351513309911, 'random_state': 330}. Best is trial 27 with value: 5.777610715078809.\u001b[0m\n",
      "\u001b[32m[I 2022-10-29 09:58:26,332]\u001b[0m Trial 92 finished with value: 5.796404578946462 and parameters: {'max_depth': 7, 'learning_rate': 0.03557507280305347, 'n_estimators': 902, 'min_child_weight': 6, 'gamma': 0.5439326338980051, 'subsample': 0.654635884361193, 'colsample_bytree': 0.9679837823436477, 'reg_alpha': 0.1029874170356807, 'reg_lambda': 0.9761662781613907, 'random_state': 459}. Best is trial 27 with value: 5.777610715078809.\u001b[0m\n",
      "\u001b[32m[I 2022-10-29 09:58:28,602]\u001b[0m Trial 93 finished with value: 5.8534027003156215 and parameters: {'max_depth': 6, 'learning_rate': 0.030372229530060132, 'n_estimators': 921, 'min_child_weight': 6, 'gamma': 0.5319317199605506, 'subsample': 0.6466808425518495, 'colsample_bytree': 0.9703984435153743, 'reg_alpha': 0.11128058985597453, 'reg_lambda': 0.9674774104288189, 'random_state': 416}. Best is trial 27 with value: 5.777610715078809.\u001b[0m\n",
      "\u001b[32m[I 2022-10-29 09:58:30,903]\u001b[0m Trial 94 finished with value: 5.854613874070316 and parameters: {'max_depth': 6, 'learning_rate': 0.029739841163116013, 'n_estimators': 912, 'min_child_weight': 6, 'gamma': 0.5286983019261197, 'subsample': 0.5833848772762861, 'colsample_bytree': 0.9745399148628883, 'reg_alpha': 0.10549116980187627, 'reg_lambda': 0.9670597465554552, 'random_state': 446}. Best is trial 27 with value: 5.777610715078809.\u001b[0m\n"
     ]
    },
    {
     "name": "stderr",
     "output_type": "stream",
     "text": [
      "\u001b[32m[I 2022-10-29 09:58:32,861]\u001b[0m Trial 95 finished with value: 6.165222890811967 and parameters: {'max_depth': 5, 'learning_rate': 0.010269265643068178, 'n_estimators': 943, 'min_child_weight': 6, 'gamma': 0.558529154628575, 'subsample': 0.6944142088864078, 'colsample_bytree': 0.9575204458070549, 'reg_alpha': 0.11702942899376423, 'reg_lambda': 0.9174564688790686, 'random_state': 479}. Best is trial 27 with value: 5.777610715078809.\u001b[0m\n",
      "\u001b[32m[I 2022-10-29 09:58:35,686]\u001b[0m Trial 96 finished with value: 5.853401318661965 and parameters: {'max_depth': 7, 'learning_rate': 0.03970531884419795, 'n_estimators': 973, 'min_child_weight': 7, 'gamma': 0.5379851576490381, 'subsample': 0.609269910154753, 'colsample_bytree': 0.9213180890556978, 'reg_alpha': 0.0827808629109253, 'reg_lambda': 0.9765292843104454, 'random_state': 413}. Best is trial 27 with value: 5.777610715078809.\u001b[0m\n",
      "\u001b[32m[I 2022-10-29 09:58:38,235]\u001b[0m Trial 97 finished with value: 6.001507007719064 and parameters: {'max_depth': 7, 'learning_rate': 0.09436369314347733, 'n_estimators': 852, 'min_child_weight': 8, 'gamma': 0.655657224562175, 'subsample': 0.5631497352549621, 'colsample_bytree': 0.9247166748908788, 'reg_alpha': 0.06203244455589235, 'reg_lambda': 0.9822590924979202, 'random_state': 367}. Best is trial 27 with value: 5.777610715078809.\u001b[0m\n",
      "\u001b[32m[I 2022-10-29 09:58:41,187]\u001b[0m Trial 98 finished with value: 6.075644692877219 and parameters: {'max_depth': 7, 'learning_rate': 0.11368893520512915, 'n_estimators': 990, 'min_child_weight': 5, 'gamma': 0.5880097958057509, 'subsample': 0.6036988107775003, 'colsample_bytree': 0.9408113051533735, 'reg_alpha': 0.08659668070756163, 'reg_lambda': 0.932661344657312, 'random_state': 468}. Best is trial 27 with value: 5.777610715078809.\u001b[0m\n",
      "\u001b[32m[I 2022-10-29 09:58:42,786]\u001b[0m Trial 99 finished with value: 7.544757143706912 and parameters: {'max_depth': 7, 'learning_rate': 0.042252007798140125, 'n_estimators': 892, 'min_child_weight': 7, 'gamma': 0.6194076459147769, 'subsample': 0.6366069770403575, 'colsample_bytree': 0.010026000369491084, 'reg_alpha': 0.1997290420677384, 'reg_lambda': 0.9977757427385646, 'random_state': 521}. Best is trial 27 with value: 5.777610715078809.\u001b[0m\n"
     ]
    }
   ],
   "source": [
    "study_1_ss_grp.optimize(objective, n_trials=100)"
   ]
  },
  {
   "cell_type": "code",
   "execution_count": 25,
   "id": "8dd21855",
   "metadata": {},
   "outputs": [
    {
     "name": "stdout",
     "output_type": "stream",
     "text": [
      "Best value 5.777610715078809\n"
     ]
    }
   ],
   "source": [
    "print('Best value', study_1_ss_grp.best_value)"
   ]
  },
  {
   "cell_type": "markdown",
   "id": "551b914d",
   "metadata": {},
   "source": [
    "C'est proche de ce que l'on obtient avec la variable 'groupe'. En fait les résultats varient d'une exécution à l'autre. Souvent le meilleur résultat est obtenu avec la variable 'groupe', mais parfois non."
   ]
  },
  {
   "cell_type": "markdown",
   "id": "788426c2",
   "metadata": {},
   "source": [
    "# Train2"
   ]
  },
  {
   "cell_type": "code",
   "execution_count": 26,
   "id": "90127d54",
   "metadata": {},
   "outputs": [],
   "source": [
    "X_train, X_test, y_train, y_test = train_test_split(X2, y, random_state=21, train_size=0.7, shuffle=True)"
   ]
  },
  {
   "cell_type": "markdown",
   "id": "b2a01e55",
   "metadata": {},
   "source": [
    "## Preprocessing"
   ]
  },
  {
   "cell_type": "code",
   "execution_count": 27,
   "id": "25ef674b",
   "metadata": {},
   "outputs": [],
   "source": [
    "std = StandardScaler()\n",
    "\n",
    "std.fit(X_train)\n",
    "\n",
    "X_train_std = std.transform(X_train)\n",
    "X_test_std = std.transform(X_test)"
   ]
  },
  {
   "cell_type": "markdown",
   "id": "d383df73",
   "metadata": {},
   "source": [
    "## XGboost"
   ]
  },
  {
   "cell_type": "code",
   "execution_count": 28,
   "id": "ebe95431",
   "metadata": {},
   "outputs": [
    {
     "name": "stderr",
     "output_type": "stream",
     "text": [
      "\u001b[32m[I 2022-10-23 16:17:35,342]\u001b[0m A new study created in memory with name: regression_2\u001b[0m\n"
     ]
    }
   ],
   "source": [
    "study_2 = optuna.create_study(direction='minimize', study_name='regression_2')"
   ]
  },
  {
   "cell_type": "code",
   "execution_count": 29,
   "id": "7c782047",
   "metadata": {
    "scrolled": true
   },
   "outputs": [
    {
     "name": "stderr",
     "output_type": "stream",
     "text": [
      "\u001b[32m[I 2022-10-23 16:17:43,093]\u001b[0m Trial 0 finished with value: 25.323062309269268 and parameters: {'max_depth': 9, 'learning_rate': 0.815857124739983, 'n_estimators': 309, 'min_child_weight': 1, 'gamma': 0.29732166815709177, 'subsample': 0.43902575440263103, 'colsample_bytree': 0.20488601280656096, 'reg_alpha': 0.08233552012430768, 'reg_lambda': 0.4030158313832771, 'random_state': 469}. Best is trial 0 with value: 25.323062309269268.\u001b[0m\n",
      "\u001b[32m[I 2022-10-23 16:17:52,445]\u001b[0m Trial 1 finished with value: 9.340377420794564 and parameters: {'max_depth': 2, 'learning_rate': 0.5113407784607106, 'n_estimators': 681, 'min_child_weight': 10, 'gamma': 0.7641841217955543, 'subsample': 0.5043119821890201, 'colsample_bytree': 0.3172807511253362, 'reg_alpha': 0.5218442376277765, 'reg_lambda': 0.09264065535700654, 'random_state': 207}. Best is trial 1 with value: 9.340377420794564.\u001b[0m\n",
      "\u001b[32m[I 2022-10-23 16:17:58,957]\u001b[0m Trial 2 finished with value: 8.780530649346273 and parameters: {'max_depth': 9, 'learning_rate': 0.21085939117857855, 'n_estimators': 188, 'min_child_weight': 2, 'gamma': 0.1757397273937396, 'subsample': 0.5524368710800257, 'colsample_bytree': 0.3284843848848333, 'reg_alpha': 0.5395587177830752, 'reg_lambda': 0.9048446250853559, 'random_state': 963}. Best is trial 2 with value: 8.780530649346273.\u001b[0m\n",
      "\u001b[32m[I 2022-10-23 16:18:16,737]\u001b[0m Trial 3 finished with value: 8.581311987669089 and parameters: {'max_depth': 3, 'learning_rate': 0.2136011930661208, 'n_estimators': 620, 'min_child_weight': 4, 'gamma': 0.07923359627070455, 'subsample': 0.5166152359757011, 'colsample_bytree': 0.9632620285747174, 'reg_alpha': 0.30122566501038195, 'reg_lambda': 0.4551488687932436, 'random_state': 706}. Best is trial 3 with value: 8.581311987669089.\u001b[0m\n",
      "\u001b[32m[I 2022-10-23 16:18:38,215]\u001b[0m Trial 4 finished with value: 7.9987540653845866 and parameters: {'max_depth': 10, 'learning_rate': 0.06457081793130413, 'n_estimators': 570, 'min_child_weight': 9, 'gamma': 0.31094579176324605, 'subsample': 0.7669118622600418, 'colsample_bytree': 0.41039249306014647, 'reg_alpha': 0.7578327320397863, 'reg_lambda': 0.9054745899474153, 'random_state': 247}. Best is trial 4 with value: 7.9987540653845866.\u001b[0m\n",
      "\u001b[32m[I 2022-10-23 16:18:42,985]\u001b[0m Trial 5 finished with value: 10.208641161046268 and parameters: {'max_depth': 8, 'learning_rate': 0.5931209957661895, 'n_estimators': 321, 'min_child_weight': 1, 'gamma': 0.7947321247809849, 'subsample': 0.7720138754069579, 'colsample_bytree': 0.06595104471734478, 'reg_alpha': 0.4369003908063976, 'reg_lambda': 0.7402144846494335, 'random_state': 62}. Best is trial 4 with value: 7.9987540653845866.\u001b[0m\n",
      "\u001b[32m[I 2022-10-23 16:18:54,053]\u001b[0m Trial 6 finished with value: 133.31117525195393 and parameters: {'max_depth': 3, 'learning_rate': 0.8188443930192015, 'n_estimators': 816, 'min_child_weight': 3, 'gamma': 0.21336891392320023, 'subsample': 0.30484949406723505, 'colsample_bytree': 0.24335174929354186, 'reg_alpha': 0.12552985876011707, 'reg_lambda': 0.8159602131177003, 'random_state': 853}. Best is trial 4 with value: 7.9987540653845866.\u001b[0m\n",
      "\u001b[32m[I 2022-10-23 16:19:14,701]\u001b[0m Trial 7 finished with value: 8.583810567262471 and parameters: {'max_depth': 3, 'learning_rate': 0.2904565299398798, 'n_estimators': 835, 'min_child_weight': 4, 'gamma': 0.20731044064129428, 'subsample': 0.8274723832005432, 'colsample_bytree': 0.8850593797708795, 'reg_alpha': 0.6735517890435737, 'reg_lambda': 0.4537421733161668, 'random_state': 708}. Best is trial 4 with value: 7.9987540653845866.\u001b[0m\n",
      "\u001b[32m[I 2022-10-23 16:19:22,248]\u001b[0m Trial 8 finished with value: 9.372517690590396 and parameters: {'max_depth': 1, 'learning_rate': 0.8548370574674445, 'n_estimators': 514, 'min_child_weight': 1, 'gamma': 0.7839480165198635, 'subsample': 0.23234700929788343, 'colsample_bytree': 0.7439835114302233, 'reg_alpha': 0.8355258610894539, 'reg_lambda': 0.6273026611879851, 'random_state': 367}. Best is trial 4 with value: 7.9987540653845866.\u001b[0m\n",
      "\u001b[32m[I 2022-10-23 16:19:30,416]\u001b[0m Trial 9 finished with value: 10.819999605794415 and parameters: {'max_depth': 4, 'learning_rate': 0.7603843971400277, 'n_estimators': 248, 'min_child_weight': 9, 'gamma': 0.6105109534807487, 'subsample': 0.7396307671596036, 'colsample_bytree': 0.8624371400093996, 'reg_alpha': 0.879439949919812, 'reg_lambda': 0.05790506237143252, 'random_state': 846}. Best is trial 4 with value: 7.9987540653845866.\u001b[0m\n",
      "\u001b[32m[I 2022-10-23 16:19:32,447]\u001b[0m Trial 10 finished with value: 11.572762665762484 and parameters: {'max_depth': 6, 'learning_rate': 0.02554614233887048, 'n_estimators': 60, 'min_child_weight': 7, 'gamma': 0.4384499033442781, 'subsample': 0.9947632172289382, 'colsample_bytree': 0.595172352826671, 'reg_alpha': 0.9909074831685081, 'reg_lambda': 0.9583960573797442, 'random_state': 18}. Best is trial 4 with value: 7.9987540653845866.\u001b[0m\n",
      "\u001b[32m[I 2022-10-23 16:19:48,675]\u001b[0m Trial 11 finished with value: 8.06706341618989 and parameters: {'max_depth': 6, 'learning_rate': 0.06207734017835417, 'n_estimators': 532, 'min_child_weight': 6, 'gamma': 0.022863108339003, 'subsample': 0.6399112125595527, 'colsample_bytree': 0.525183036013415, 'reg_alpha': 0.30636625450961397, 'reg_lambda': 0.25360664175413306, 'random_state': 606}. Best is trial 4 with value: 7.9987540653845866.\u001b[0m\n",
      "\u001b[32m[I 2022-10-23 16:20:02,849]\u001b[0m Trial 12 finished with value: 8.00513166544265 and parameters: {'max_depth': 6, 'learning_rate': 0.04054702340843079, 'n_estimators': 475, 'min_child_weight': 7, 'gamma': 0.015148209212739905, 'subsample': 0.6700929423563983, 'colsample_bytree': 0.5236067179753402, 'reg_alpha': 0.28597609252047845, 'reg_lambda': 0.22780103547740638, 'random_state': 289}. Best is trial 4 with value: 7.9987540653845866.\u001b[0m\n",
      "\u001b[32m[I 2022-10-23 16:20:14,524]\u001b[0m Trial 13 finished with value: 127414.89999777806 and parameters: {'max_depth': 10, 'learning_rate': 0.3734668200698899, 'n_estimators': 406, 'min_child_weight': 8, 'gamma': 0.41756048091158937, 'subsample': 0.02870386542652459, 'colsample_bytree': 0.4279844767184442, 'reg_alpha': 0.6627042833205746, 'reg_lambda': 0.25842752594589263, 'random_state': 267}. Best is trial 4 with value: 7.9987540653845866.\u001b[0m\n",
      "\u001b[32m[I 2022-10-23 16:20:38,688]\u001b[0m Trial 14 finished with value: 8.178481359029846 and parameters: {'max_depth': 7, 'learning_rate': 0.1423951484793875, 'n_estimators': 677, 'min_child_weight': 8, 'gamma': 0.3420098522304392, 'subsample': 0.9550770120398901, 'colsample_bytree': 0.669379343351449, 'reg_alpha': 0.2803485229509025, 'reg_lambda': 0.630108262486594, 'random_state': 191}. Best is trial 4 with value: 7.9987540653845866.\u001b[0m\n",
      "\u001b[32m[I 2022-10-23 16:21:00,470]\u001b[0m Trial 15 finished with value: 9.414650877158984 and parameters: {'max_depth': 5, 'learning_rate': 0.36112633477188716, 'n_estimators': 945, 'min_child_weight': 10, 'gamma': 0.5712742404716656, 'subsample': 0.6683806820813006, 'colsample_bytree': 0.4395784229137984, 'reg_alpha': 0.7363295419129842, 'reg_lambda': 0.30056266455967223, 'random_state': 371}. Best is trial 4 with value: 7.9987540653845866.\u001b[0m\n",
      "\u001b[32m[I 2022-10-23 16:21:06,381]\u001b[0m Trial 16 finished with value: 7.947752176607478 and parameters: {'max_depth': 10, 'learning_rate': 0.024538077115044604, 'n_estimators': 457, 'min_child_weight': 6, 'gamma': 0.99340172048537, 'subsample': 0.883228564584672, 'colsample_bytree': 0.018672828557269983, 'reg_alpha': 0.4425778478849429, 'reg_lambda': 0.604745984721053, 'random_state': 474}. Best is trial 16 with value: 7.947752176607478.\u001b[0m\n",
      "\u001b[32m[I 2022-10-23 16:21:13,769]\u001b[0m Trial 17 finished with value: 12.200342875597556 and parameters: {'max_depth': 10, 'learning_rate': 0.9777749889943338, 'n_estimators': 578, 'min_child_weight': 5, 'gamma': 0.9820032341770731, 'subsample': 0.8767828134332101, 'colsample_bytree': 0.018656560317019726, 'reg_alpha': 0.4665094943355888, 'reg_lambda': 0.6440695119375262, 'random_state': 489}. Best is trial 16 with value: 7.947752176607478.\u001b[0m\n",
      "\u001b[32m[I 2022-10-23 16:21:20,868]\u001b[0m Trial 18 finished with value: 8.23894419484521 and parameters: {'max_depth': 8, 'learning_rate': 0.14929834856416702, 'n_estimators': 406, 'min_child_weight': 5, 'gamma': 0.9141422499785773, 'subsample': 0.8539178212379095, 'colsample_bytree': 0.12627203864256742, 'reg_alpha': 0.6175094321454957, 'reg_lambda': 0.8004387985810177, 'random_state': 125}. Best is trial 16 with value: 7.947752176607478.\u001b[0m\n"
     ]
    },
    {
     "name": "stderr",
     "output_type": "stream",
     "text": [
      "\u001b[32m[I 2022-10-23 16:21:36,592]\u001b[0m Trial 19 finished with value: 10.016042520635686 and parameters: {'max_depth': 10, 'learning_rate': 0.6480518334049015, 'n_estimators': 724, 'min_child_weight': 7, 'gamma': 0.6374274928363918, 'subsample': 0.9095967649049728, 'colsample_bytree': 0.16340192607723958, 'reg_alpha': 0.792040073392331, 'reg_lambda': 0.9964343443712791, 'random_state': 616}. Best is trial 16 with value: 7.947752176607478.\u001b[0m\n",
      "\u001b[32m[I 2022-10-23 16:21:47,558]\u001b[0m Trial 20 finished with value: 9.262076590166606 and parameters: {'max_depth': 8, 'learning_rate': 0.3728417105745252, 'n_estimators': 421, 'min_child_weight': 9, 'gamma': 0.5195349829317797, 'subsample': 0.7773616303745108, 'colsample_bytree': 0.32605253758866076, 'reg_alpha': 0.9498146092730558, 'reg_lambda': 0.5711103914677929, 'random_state': 385}. Best is trial 16 with value: 7.947752176607478.\u001b[0m\n",
      "\u001b[32m[I 2022-10-23 16:22:08,874]\u001b[0m Trial 21 finished with value: 7.910874288032255 and parameters: {'max_depth': 9, 'learning_rate': 0.015384329598226519, 'n_estimators': 482, 'min_child_weight': 7, 'gamma': 0.11237373863535392, 'subsample': 0.6553568725513848, 'colsample_bytree': 0.5335183357805853, 'reg_alpha': 0.19895111155666, 'reg_lambda': 0.1883650103230229, 'random_state': 294}. Best is trial 21 with value: 7.910874288032255.\u001b[0m\n",
      "\u001b[32m[I 2022-10-23 16:22:37,705]\u001b[0m Trial 22 finished with value: 8.302800028394195 and parameters: {'max_depth': 9, 'learning_rate': 0.12064212713761341, 'n_estimators': 609, 'min_child_weight': 6, 'gamma': 0.12994768973428672, 'subsample': 0.6486839075003737, 'colsample_bytree': 0.6173750639045141, 'reg_alpha': 0.1690298946036758, 'reg_lambda': 0.1449996946238513, 'random_state': 310}. Best is trial 21 with value: 7.910874288032255.\u001b[0m\n",
      "\u001b[32m[I 2022-10-23 16:23:03,745]\u001b[0m Trial 23 finished with value: 7.883011602351739 and parameters: {'max_depth': 10, 'learning_rate': 0.012566912501914329, 'n_estimators': 441, 'min_child_weight': 8, 'gamma': 0.2963879202097287, 'subsample': 0.731398267699396, 'colsample_bytree': 0.7193328008372396, 'reg_alpha': 0.02038070745096826, 'reg_lambda': 0.7337685769701584, 'random_state': 435}. Best is trial 23 with value: 7.883011602351739.\u001b[0m\n",
      "\u001b[32m[I 2022-10-23 16:23:22,056]\u001b[0m Trial 24 finished with value: 9.53574542186233 and parameters: {'max_depth': 9, 'learning_rate': 0.22926586501370502, 'n_estimators': 339, 'min_child_weight': 8, 'gamma': 0.3993044424692287, 'subsample': 0.3974056894718048, 'colsample_bytree': 0.7572390918594116, 'reg_alpha': 0.018890231792458665, 'reg_lambda': 0.7255271527414654, 'random_state': 569}. Best is trial 23 with value: 7.883011602351739.\u001b[0m\n",
      "\u001b[32m[I 2022-10-23 16:23:42,295]\u001b[0m Trial 25 finished with value: 7.9823327077391415 and parameters: {'max_depth': 7, 'learning_rate': 0.019400337118755197, 'n_estimators': 462, 'min_child_weight': 6, 'gamma': 0.2544938255246497, 'subsample': 0.5825749501775903, 'colsample_bytree': 0.7138866409461655, 'reg_alpha': 0.20884267655395927, 'reg_lambda': 0.5436563173477121, 'random_state': 432}. Best is trial 23 with value: 7.883011602351739.\u001b[0m\n",
      "\u001b[32m[I 2022-10-23 16:23:51,578]\u001b[0m Trial 26 finished with value: 8.981740787668711 and parameters: {'max_depth': 8, 'learning_rate': 0.2800252763770099, 'n_estimators': 175, 'min_child_weight': 7, 'gamma': 0.1181434492424472, 'subsample': 0.7009673757078245, 'colsample_bytree': 0.8204802805887335, 'reg_alpha': 0.37357586968611256, 'reg_lambda': 0.36986489867612293, 'random_state': 519}. Best is trial 23 with value: 7.883011602351739.\u001b[0m\n",
      "\u001b[32m[I 2022-10-23 16:24:08,403]\u001b[0m Trial 27 finished with value: 8.165301060089524 and parameters: {'max_depth': 10, 'learning_rate': 0.11112023879900951, 'n_estimators': 363, 'min_child_weight': 5, 'gamma': 0.6899358018616608, 'subsample': 0.9301133050572946, 'colsample_bytree': 0.5926076007907407, 'reg_alpha': 0.047101304223233775, 'reg_lambda': 0.7110946828811678, 'random_state': 669}. Best is trial 23 with value: 7.883011602351739.\u001b[0m\n",
      "\u001b[32m[I 2022-10-23 16:24:15,975]\u001b[0m Trial 28 finished with value: 9.502627553427256 and parameters: {'max_depth': 7, 'learning_rate': 0.47513335400398504, 'n_estimators': 253, 'min_child_weight': 8, 'gamma': 0.8734215801489368, 'subsample': 0.8268950951278041, 'colsample_bytree': 0.4761190251817163, 'reg_alpha': 0.2092884118952199, 'reg_lambda': 0.8023752911736126, 'random_state': 533}. Best is trial 23 with value: 7.883011602351739.\u001b[0m\n",
      "\u001b[32m[I 2022-10-23 16:24:28,795]\u001b[0m Trial 29 finished with value: 8.879604454131425 and parameters: {'max_depth': 9, 'learning_rate': 0.15806833342264273, 'n_estimators': 480, 'min_child_weight': 4, 'gamma': 0.3328011088198785, 'subsample': 0.43492783189417045, 'colsample_bytree': 0.24946417306053736, 'reg_alpha': 0.10683553059792489, 'reg_lambda': 0.3658898707162017, 'random_state': 454}. Best is trial 23 with value: 7.883011602351739.\u001b[0m\n",
      "\u001b[32m[I 2022-10-23 16:24:43,179]\u001b[0m Trial 30 finished with value: 9.334607055245929 and parameters: {'max_depth': 9, 'learning_rate': 0.2840888619670332, 'n_estimators': 280, 'min_child_weight': 6, 'gamma': 0.2615434532064935, 'subsample': 0.6121347545455146, 'colsample_bytree': 0.656363288982427, 'reg_alpha': 0.36496880842800933, 'reg_lambda': 0.018466678052132757, 'random_state': 331}. Best is trial 23 with value: 7.883011602351739.\u001b[0m\n",
      "\u001b[32m[I 2022-10-23 16:25:03,135]\u001b[0m Trial 31 finished with value: 7.969003516276236 and parameters: {'max_depth': 7, 'learning_rate': 0.01158842410297166, 'n_estimators': 459, 'min_child_weight': 6, 'gamma': 0.26794322230668177, 'subsample': 0.5667292209272292, 'colsample_bytree': 0.7050578533995573, 'reg_alpha': 0.19546711565906744, 'reg_lambda': 0.5325803651638801, 'random_state': 435}. Best is trial 23 with value: 7.883011602351739.\u001b[0m\n",
      "\u001b[32m[I 2022-10-23 16:25:26,465]\u001b[0m Trial 32 finished with value: 7.933580766849048 and parameters: {'max_depth': 8, 'learning_rate': 0.011357391964583312, 'n_estimators': 428, 'min_child_weight': 7, 'gamma': 0.4983226308346681, 'subsample': 0.494889292904417, 'colsample_bytree': 0.8108514578492836, 'reg_alpha': 0.0988259367460202, 'reg_lambda': 0.4949112953074115, 'random_state': 423}. Best is trial 23 with value: 7.883011602351739.\u001b[0m\n",
      "\u001b[32m[I 2022-10-23 16:25:55,724]\u001b[0m Trial 33 finished with value: 8.34615466769549 and parameters: {'max_depth': 10, 'learning_rate': 0.09579913851952296, 'n_estimators': 376, 'min_child_weight': 7, 'gamma': 0.4810651954913888, 'subsample': 0.4803585267696461, 'colsample_bytree': 0.9799597084683972, 'reg_alpha': 0.07618490363824562, 'reg_lambda': 0.4682219534851403, 'random_state': 144}. Best is trial 23 with value: 7.883011602351739.\u001b[0m\n",
      "\u001b[32m[I 2022-10-23 16:26:24,116]\u001b[0m Trial 34 finished with value: 9.45197069417051 and parameters: {'max_depth': 9, 'learning_rate': 0.17242362606710462, 'n_estimators': 543, 'min_child_weight': 9, 'gamma': 0.7032180596944408, 'subsample': 0.31234514737124874, 'colsample_bytree': 0.8001194401726888, 'reg_alpha': 0.14878140598593517, 'reg_lambda': 0.15366856471607138, 'random_state': 408}. Best is trial 23 with value: 7.883011602351739.\u001b[0m\n",
      "\u001b[32m[I 2022-10-23 16:26:31,081]\u001b[0m Trial 35 finished with value: 8.144350663473721 and parameters: {'max_depth': 9, 'learning_rate': 0.07960189487523049, 'n_estimators': 201, 'min_child_weight': 8, 'gamma': 0.5364642358834383, 'subsample': 0.7056463993899118, 'colsample_bytree': 0.3735517686875992, 'reg_alpha': 0.011022609683328854, 'reg_lambda': 0.698646361467994, 'random_state': 223}. Best is trial 23 with value: 7.883011602351739.\u001b[0m\n",
      "\u001b[32m[I 2022-10-23 16:27:09,307]\u001b[0m Trial 36 finished with value: 9.12113602582443 and parameters: {'max_depth': 8, 'learning_rate': 0.2224570185190819, 'n_estimators': 652, 'min_child_weight': 10, 'gamma': 0.37558750860784046, 'subsample': 0.5168707730529621, 'colsample_bytree': 0.9192536828378903, 'reg_alpha': 0.08883955208502553, 'reg_lambda': 0.4174727562719718, 'random_state': 477}. Best is trial 23 with value: 7.883011602351739.\u001b[0m\n",
      "\u001b[32m[I 2022-10-23 16:27:24,650]\u001b[0m Trial 37 finished with value: 8.307931665052395 and parameters: {'max_depth': 10, 'learning_rate': 0.08178713353126282, 'n_estimators': 314, 'min_child_weight': 7, 'gamma': 0.1599387402899598, 'subsample': 0.4000271668389942, 'colsample_bytree': 0.5616260064272016, 'reg_alpha': 0.23794825397331743, 'reg_lambda': 0.886412410119468, 'random_state': 332}. Best is trial 23 with value: 7.883011602351739.\u001b[0m\n"
     ]
    },
    {
     "name": "stderr",
     "output_type": "stream",
     "text": [
      "\u001b[32m[I 2022-10-23 16:27:59,630]\u001b[0m Trial 38 finished with value: 8.458172452541326 and parameters: {'max_depth': 8, 'learning_rate': 0.19182401566497942, 'n_estimators': 724, 'min_child_weight': 5, 'gamma': 0.4771541134375299, 'subsample': 0.7777170938423613, 'colsample_bytree': 0.7987648752391796, 'reg_alpha': 0.422827533643088, 'reg_lambda': 0.5928405040751593, 'random_state': 572}. Best is trial 23 with value: 7.883011602351739.\u001b[0m\n",
      "\u001b[32m[I 2022-10-23 16:28:36,198]\u001b[0m Trial 39 finished with value: 11.089059817112405 and parameters: {'max_depth': 10, 'learning_rate': 0.4762742123414038, 'n_estimators': 502, 'min_child_weight': 9, 'gamma': 0.06135757801079405, 'subsample': 0.5350259055928304, 'colsample_bytree': 0.9213084354835012, 'reg_alpha': 0.5348459461576133, 'reg_lambda': 0.48984715753267927, 'random_state': 754}. Best is trial 23 with value: 7.883011602351739.\u001b[0m\n",
      "\u001b[32m[I 2022-10-23 16:29:05,078]\u001b[0m Trial 40 finished with value: 8.074881997687935 and parameters: {'max_depth': 9, 'learning_rate': 0.08252428002158768, 'n_estimators': 618, 'min_child_weight': 8, 'gamma': 0.18447851326097875, 'subsample': 0.8094397860399917, 'colsample_bytree': 0.6658356416882927, 'reg_alpha': 0.13555162459265807, 'reg_lambda': 0.853971786267691, 'random_state': 193}. Best is trial 23 with value: 7.883011602351739.\u001b[0m\n",
      "\u001b[32m[I 2022-10-23 16:29:24,615]\u001b[0m Trial 41 finished with value: 7.9750289244850014 and parameters: {'max_depth': 7, 'learning_rate': 0.014105833398577433, 'n_estimators': 449, 'min_child_weight': 6, 'gamma': 0.2927910795946985, 'subsample': 0.5940286793134586, 'colsample_bytree': 0.7200789619072862, 'reg_alpha': 0.18463569225914458, 'reg_lambda': 0.5234642608585209, 'random_state': 440}. Best is trial 23 with value: 7.883011602351739.\u001b[0m\n",
      "\u001b[32m[I 2022-10-23 16:29:46,300]\u001b[0m Trial 42 finished with value: 7.974689910359442 and parameters: {'max_depth': 7, 'learning_rate': 0.017799910534913976, 'n_estimators': 432, 'min_child_weight': 6, 'gamma': 0.23238348686069202, 'subsample': 0.5629160932502321, 'colsample_bytree': 0.8542754166473236, 'reg_alpha': 0.05067950965161209, 'reg_lambda': 0.7698068511518203, 'random_state': 496}. Best is trial 23 with value: 7.883011602351739.\u001b[0m\n",
      "\u001b[32m[I 2022-10-23 16:30:15,398]\u001b[0m Trial 43 finished with value: 8.171073344652067 and parameters: {'max_depth': 8, 'learning_rate': 0.06259064216727259, 'n_estimators': 562, 'min_child_weight': 3, 'gamma': 0.09644537804323053, 'subsample': 0.4773867758375427, 'colsample_bytree': 0.7674999148206727, 'reg_alpha': 0.24264506031656977, 'reg_lambda': 0.6573251648733441, 'random_state': 354}. Best is trial 23 with value: 7.883011602351739.\u001b[0m\n",
      "\u001b[32m[I 2022-10-23 16:30:32,244]\u001b[0m Trial 44 finished with value: 8.250519453548142 and parameters: {'max_depth': 8, 'learning_rate': 0.12957746771562942, 'n_estimators': 373, 'min_child_weight': 7, 'gamma': 0.2817328955670403, 'subsample': 0.7295346893174506, 'colsample_bytree': 0.7107073467524545, 'reg_alpha': 0.3499774016184263, 'reg_lambda': 0.5779439158938761, 'random_state': 400}. Best is trial 23 with value: 7.883011602351739.\u001b[0m\n",
      "\u001b[32m[I 2022-10-23 16:30:55,217]\u001b[0m Trial 45 finished with value: 7.952516616637473 and parameters: {'max_depth': 9, 'learning_rate': 0.011159991277721746, 'n_estimators': 506, 'min_child_weight': 7, 'gamma': 0.15959155891014265, 'subsample': 0.35628080039050203, 'colsample_bytree': 0.6326413100539834, 'reg_alpha': 0.1285834570147702, 'reg_lambda': 0.41874402292708335, 'random_state': 280}. Best is trial 23 with value: 7.883011602351739.\u001b[0m\n",
      "\u001b[32m[I 2022-10-23 16:31:12,332]\u001b[0m Trial 46 finished with value: 8.554435242917256 and parameters: {'max_depth': 9, 'learning_rate': 0.05893007058503979, 'n_estimators': 511, 'min_child_weight': 7, 'gamma': 0.16074397704942983, 'subsample': 0.23450102807327594, 'colsample_bytree': 0.4812238802301431, 'reg_alpha': 0.09498098182318035, 'reg_lambda': 0.3298557274337325, 'random_state': 262}. Best is trial 23 with value: 7.883011602351739.\u001b[0m\n",
      "\u001b[32m[I 2022-10-23 16:31:36,925]\u001b[0m Trial 47 finished with value: 24.200724342123742 and parameters: {'max_depth': 10, 'learning_rate': 0.2435065144023214, 'n_estimators': 589, 'min_child_weight': 8, 'gamma': 0.050001835016624044, 'subsample': 0.12781700405139274, 'colsample_bytree': 0.6218703378568032, 'reg_alpha': 0.14392834140900043, 'reg_lambda': 0.1768455777112402, 'random_state': 124}. Best is trial 23 with value: 7.883011602351739.\u001b[0m\n",
      "\u001b[32m[I 2022-10-23 16:31:49,452]\u001b[0m Trial 48 finished with value: 13.12850292092093 and parameters: {'max_depth': 4, 'learning_rate': 0.5792618976934643, 'n_estimators': 538, 'min_child_weight': 7, 'gamma': 0.21030560434220152, 'subsample': 0.41578972720278085, 'colsample_bytree': 0.5554647572015867, 'reg_alpha': 0.5910025326840092, 'reg_lambda': 0.4241262442894649, 'random_state': 959}. Best is trial 23 with value: 7.883011602351739.\u001b[0m\n",
      "\u001b[32m[I 2022-10-23 16:32:10,519]\u001b[0m Trial 49 finished with value: 8.543683610279345 and parameters: {'max_depth': 10, 'learning_rate': 0.10549074110463147, 'n_estimators': 398, 'min_child_weight': 8, 'gamma': 0.8222985214147942, 'subsample': 0.37344174218228543, 'colsample_bytree': 0.6477306339411586, 'reg_alpha': 0.062429357731538515, 'reg_lambda': 0.6833179101939576, 'random_state': 239}. Best is trial 23 with value: 7.883011602351739.\u001b[0m\n",
      "\u001b[32m[I 2022-10-23 16:32:15,768]\u001b[0m Trial 50 finished with value: 8.521704350825747 and parameters: {'max_depth': 1, 'learning_rate': 0.32983625369507846, 'n_estimators': 485, 'min_child_weight': 9, 'gamma': 0.7310929446207077, 'subsample': 0.3429703319070688, 'colsample_bytree': 0.29301404094275096, 'reg_alpha': 0.26028583950495504, 'reg_lambda': 0.6040766179946165, 'random_state': 287}. Best is trial 23 with value: 7.883011602351739.\u001b[0m\n",
      "\u001b[32m[I 2022-10-23 16:32:36,789]\u001b[0m Trial 51 finished with value: 7.959820251979934 and parameters: {'max_depth': 9, 'learning_rate': 0.013576642828286375, 'n_estimators': 449, 'min_child_weight': 6, 'gamma': 0.3701455760570236, 'subsample': 0.48664216552945316, 'colsample_bytree': 0.5747531596297059, 'reg_alpha': 0.3311951719988779, 'reg_lambda': 0.516287643548901, 'random_state': 551}. Best is trial 23 with value: 7.883011602351739.\u001b[0m\n",
      "\u001b[32m[I 2022-10-23 16:32:49,653]\u001b[0m Trial 52 finished with value: 8.517916345785684 and parameters: {'max_depth': 9, 'learning_rate': 0.05558272370316336, 'n_estimators': 334, 'min_child_weight': 5, 'gamma': 0.36967304926790046, 'subsample': 0.22354826940741487, 'colsample_bytree': 0.5619291425506936, 'reg_alpha': 0.32987661122397915, 'reg_lambda': 0.45948101178037637, 'random_state': 554}. Best is trial 23 with value: 7.883011602351739.\u001b[0m\n",
      "\u001b[32m[I 2022-10-23 16:33:07,631]\u001b[0m Trial 53 finished with value: 8.03979792969865 and parameters: {'max_depth': 10, 'learning_rate': 0.03897803627307642, 'n_estimators': 442, 'min_child_weight': 7, 'gamma': 0.464208074109, 'subsample': 0.47910636045542215, 'colsample_bytree': 0.39566437071562666, 'reg_alpha': 0.41600219402368344, 'reg_lambda': 0.5013914092777023, 'random_state': 677}. Best is trial 23 with value: 7.883011602351739.\u001b[0m\n",
      "\u001b[32m[I 2022-10-23 16:33:29,543]\u001b[0m Trial 54 finished with value: 8.486937746548419 and parameters: {'max_depth': 9, 'learning_rate': 0.1421047600796132, 'n_estimators': 517, 'min_child_weight': 6, 'gamma': 0.4248601602441846, 'subsample': 0.6257638012811126, 'colsample_bytree': 0.5311581632246132, 'reg_alpha': 0.39106802582579286, 'reg_lambda': 0.2928861700099725, 'random_state': 364}. Best is trial 23 with value: 7.883011602351739.\u001b[0m\n",
      "\u001b[32m[I 2022-10-23 16:33:45,361]\u001b[0m Trial 55 finished with value: 9.127191101712526 and parameters: {'max_depth': 9, 'learning_rate': 0.19605750965559618, 'n_estimators': 419, 'min_child_weight': 4, 'gamma': 0.5801006455629762, 'subsample': 0.4567651466377668, 'colsample_bytree': 0.44404035680737663, 'reg_alpha': 0.46524970826262724, 'reg_lambda': 0.39361889033941977, 'random_state': 611}. Best is trial 23 with value: 7.883011602351739.\u001b[0m\n",
      "\u001b[32m[I 2022-10-23 16:33:49,928]\u001b[0m Trial 56 finished with value: 905.4621439553266 and parameters: {'max_depth': 10, 'learning_rate': 0.7136572292732811, 'n_estimators': 286, 'min_child_weight': 7, 'gamma': 0.32327471543764474, 'subsample': 0.27632304437308797, 'colsample_bytree': 0.10878513021694552, 'reg_alpha': 0.316019349582307, 'reg_lambda': 0.08534670749208206, 'random_state': 466}. Best is trial 23 with value: 7.883011602351739.\u001b[0m\n"
     ]
    },
    {
     "name": "stderr",
     "output_type": "stream",
     "text": [
      "\u001b[32m[I 2022-10-23 16:34:04,900]\u001b[0m Trial 57 finished with value: 7.973971675178946 and parameters: {'max_depth': 8, 'learning_rate': 0.04401306644505023, 'n_estimators': 356, 'min_child_weight': 6, 'gamma': 0.13346229671605425, 'subsample': 0.6770018418665249, 'colsample_bytree': 0.6088262807074901, 'reg_alpha': 0.11978019961305468, 'reg_lambda': 0.6463176650844165, 'random_state': 308}. Best is trial 23 with value: 7.883011602351739.\u001b[0m\n",
      "\u001b[32m[I 2022-10-23 16:34:19,275]\u001b[0m Trial 58 finished with value: 11.978178757976723 and parameters: {'max_depth': 5, 'learning_rate': 0.9796869563333881, 'n_estimators': 655, 'min_child_weight': 5, 'gamma': 0.6471408612585472, 'subsample': 0.8717095284385461, 'colsample_bytree': 0.4750602549686529, 'reg_alpha': 0.5078651071395436, 'reg_lambda': 0.7501440141135645, 'random_state': 512}. Best is trial 23 with value: 7.883011602351739.\u001b[0m\n",
      "\u001b[32m[I 2022-10-23 16:34:37,344]\u001b[0m Trial 59 finished with value: 8.379154623201797 and parameters: {'max_depth': 10, 'learning_rate': 0.11120200329435447, 'n_estimators': 385, 'min_child_weight': 8, 'gamma': 0.36354890803482653, 'subsample': 0.5186409952714266, 'colsample_bytree': 0.5046899434310655, 'reg_alpha': 0.2815189452120702, 'reg_lambda': 0.548091629144853, 'random_state': 404}. Best is trial 23 with value: 7.883011602351739.\u001b[0m\n",
      "\u001b[32m[I 2022-10-23 16:35:20,801]\u001b[0m Trial 60 finished with value: 8.339881907577453 and parameters: {'max_depth': 9, 'learning_rate': 0.1665030992391943, 'n_estimators': 992, 'min_child_weight': 6, 'gamma': 0.18549574832748156, 'subsample': 0.9673187521735075, 'colsample_bytree': 0.6903366027943869, 'reg_alpha': 0.1627184944412218, 'reg_lambda': 0.20607093128732132, 'random_state': 154}. Best is trial 23 with value: 7.883011602351739.\u001b[0m\n",
      "\u001b[32m[I 2022-10-23 16:35:29,395]\u001b[0m Trial 61 finished with value: 8.355908858602502 and parameters: {'max_depth': 2, 'learning_rate': 0.01364268964733513, 'n_estimators': 462, 'min_child_weight': 6, 'gamma': 0.24872647904092848, 'subsample': 0.5589900527572759, 'colsample_bytree': 0.7481519412726484, 'reg_alpha': 0.1996745691972064, 'reg_lambda': 0.5275638677984092, 'random_state': 430}. Best is trial 23 with value: 7.883011602351739.\u001b[0m\n",
      "\u001b[32m[I 2022-10-23 16:35:55,817]\u001b[0m Trial 62 finished with value: 7.900852044751665 and parameters: {'max_depth': 8, 'learning_rate': 0.012361892217195242, 'n_estimators': 483, 'min_child_weight': 7, 'gamma': 0.31857438244204533, 'subsample': 0.6302704696973525, 'colsample_bytree': 0.8398891438788549, 'reg_alpha': 0.23867306500733765, 'reg_lambda': 0.4438846786260754, 'random_state': 591}. Best is trial 23 with value: 7.883011602351739.\u001b[0m\n",
      "\u001b[32m[I 2022-10-23 16:36:26,903]\u001b[0m Trial 63 finished with value: 8.074702360745551 and parameters: {'max_depth': 8, 'learning_rate': 0.057565908176792156, 'n_estimators': 562, 'min_child_weight': 7, 'gamma': 0.9953762164295028, 'subsample': 0.6560721887044328, 'colsample_bytree': 0.8762320541110422, 'reg_alpha': 0.24206396233961563, 'reg_lambda': 0.3550848613756408, 'random_state': 633}. Best is trial 23 with value: 7.883011602351739.\u001b[0m\n",
      "\u001b[32m[I 2022-10-23 16:36:56,423]\u001b[0m Trial 64 finished with value: 8.140557983485296 and parameters: {'max_depth': 9, 'learning_rate': 0.09393681336995009, 'n_estimators': 493, 'min_child_weight': 8, 'gamma': 0.3124867376802374, 'subsample': 0.7467699992721971, 'colsample_bytree': 0.9081728212303669, 'reg_alpha': 0.038704303892610245, 'reg_lambda': 0.445064613553526, 'random_state': 729}. Best is trial 23 with value: 7.883011602351739.\u001b[0m\n",
      "\u001b[32m[I 2022-10-23 16:37:18,012]\u001b[0m Trial 65 finished with value: 7.989050062087153 and parameters: {'max_depth': 6, 'learning_rate': 0.03886507142341748, 'n_estimators': 541, 'min_child_weight': 7, 'gamma': 0.444868139454234, 'subsample': 0.6977277100188655, 'colsample_bytree': 0.8365069054041021, 'reg_alpha': 0.4617735705676961, 'reg_lambda': 0.6103617696911026, 'random_state': 540}. Best is trial 23 with value: 7.883011602351739.\u001b[0m\n",
      "\u001b[32m[I 2022-10-23 16:37:39,908]\u001b[0m Trial 66 finished with value: 8.33710646166005 and parameters: {'max_depth': 8, 'learning_rate': 0.12150217940328276, 'n_estimators': 419, 'min_child_weight': 7, 'gamma': 0.529940691300866, 'subsample': 0.5989024263388903, 'colsample_bytree': 0.7906400465582315, 'reg_alpha': 0.11484281169155071, 'reg_lambda': 0.49123880324479363, 'random_state': 569}. Best is trial 23 with value: 7.883011602351739.\u001b[0m\n",
      "\u001b[32m[I 2022-10-23 16:38:03,852]\u001b[0m Trial 67 finished with value: 8.138037386816709 and parameters: {'max_depth': 9, 'learning_rate': 0.07705423268144834, 'n_estimators': 480, 'min_child_weight': 6, 'gamma': 0.10059640449021985, 'subsample': 0.6256069357875506, 'colsample_bytree': 0.6462251990915293, 'reg_alpha': 0.21901214827689253, 'reg_lambda': 0.6723405985602187, 'random_state': 586}. Best is trial 23 with value: 7.883011602351739.\u001b[0m\n",
      "\u001b[32m[I 2022-10-23 16:38:11,182]\u001b[0m Trial 68 finished with value: 7.981874084321158 and parameters: {'max_depth': 10, 'learning_rate': 0.015035094655146563, 'n_estimators': 603, 'min_child_weight': 8, 'gamma': 0.3919942272609742, 'subsample': 0.7962264789950371, 'colsample_bytree': 0.013766766431246247, 'reg_alpha': 0.2632741511401153, 'reg_lambda': 0.2844177489915922, 'random_state': 642}. Best is trial 23 with value: 7.883011602351739.\u001b[0m\n",
      "\u001b[32m[I 2022-10-23 16:38:28,138]\u001b[0m Trial 69 finished with value: 13.09421448400996 and parameters: {'max_depth': 8, 'learning_rate': 0.9098742669666028, 'n_estimators': 437, 'min_child_weight': 5, 'gamma': 0.3488591577486141, 'subsample': 0.7333173887952279, 'colsample_bytree': 0.5848415623355989, 'reg_alpha': 0.3303377099016871, 'reg_lambda': 0.40066302284590216, 'random_state': 486}. Best is trial 23 with value: 7.883011602351739.\u001b[0m\n",
      "\u001b[32m[I 2022-10-23 16:38:47,790]\u001b[0m Trial 70 finished with value: 8.079225173336127 and parameters: {'max_depth': 10, 'learning_rate': 0.043501472752986554, 'n_estimators': 343, 'min_child_weight': 9, 'gamma': 0.011761857797259467, 'subsample': 0.44112610291298326, 'colsample_bytree': 0.6798414032642756, 'reg_alpha': 0.07584416382919856, 'reg_lambda': 0.5697745258223126, 'random_state': 46}. Best is trial 23 with value: 7.883011602351739.\u001b[0m\n",
      "\u001b[32m[I 2022-10-23 16:39:07,776]\u001b[0m Trial 71 finished with value: 7.94393023035657 and parameters: {'max_depth': 7, 'learning_rate': 0.014537943277718304, 'n_estimators': 457, 'min_child_weight': 6, 'gamma': 0.21772710590612754, 'subsample': 0.5771543260480216, 'colsample_bytree': 0.7290712124463254, 'reg_alpha': 0.14337126804079778, 'reg_lambda': 0.5435367510009967, 'random_state': 428}. Best is trial 23 with value: 7.883011602351739.\u001b[0m\n",
      "\u001b[32m[I 2022-10-23 16:39:25,388]\u001b[0m Trial 72 finished with value: 8.221371909149873 and parameters: {'max_depth': 7, 'learning_rate': 0.08189013020363346, 'n_estimators': 395, 'min_child_weight': 7, 'gamma': 0.23380060980522765, 'subsample': 0.5403084923539883, 'colsample_bytree': 0.7363277425805064, 'reg_alpha': 0.17517096269480578, 'reg_lambda': 0.4784641129501427, 'random_state': 346}. Best is trial 23 with value: 7.883011602351739.\u001b[0m\n",
      "\u001b[32m[I 2022-10-23 16:39:55,191]\u001b[0m Trial 73 finished with value: 8.066793017984542 and parameters: {'max_depth': 9, 'learning_rate': 0.0462656727408388, 'n_estimators': 510, 'min_child_weight': 6, 'gamma': 0.14033853090029771, 'subsample': 0.5080687218656099, 'colsample_bytree': 0.7711520543903885, 'reg_alpha': 0.030822895026155137, 'reg_lambda': 0.44520017149797914, 'random_state': 522}. Best is trial 23 with value: 7.883011602351739.\u001b[0m\n",
      "\u001b[32m[I 2022-10-23 16:40:20,201]\u001b[0m Trial 74 finished with value: 7.89955989074101 and parameters: {'max_depth': 8, 'learning_rate': 0.011039764203433427, 'n_estimators': 462, 'min_child_weight': 7, 'gamma': 0.2026082284903873, 'subsample': 0.6439859973707098, 'colsample_bytree': 0.8360151167491516, 'reg_alpha': 0.1599488202353879, 'reg_lambda': 0.5563822760770287, 'random_state': 391}. Best is trial 23 with value: 7.883011602351739.\u001b[0m\n",
      "\u001b[32m[I 2022-10-23 16:40:52,630]\u001b[0m Trial 75 finished with value: 8.311282515936123 and parameters: {'max_depth': 8, 'learning_rate': 0.11810835908430792, 'n_estimators': 553, 'min_child_weight': 8, 'gamma': 0.19929148568259875, 'subsample': 0.6687230637156474, 'colsample_bytree': 0.9556163170372338, 'reg_alpha': 0.12931742238014055, 'reg_lambda': 0.6280412619939726, 'random_state': 301}. Best is trial 23 with value: 7.883011602351739.\u001b[0m\n"
     ]
    },
    {
     "name": "stderr",
     "output_type": "stream",
     "text": [
      "\u001b[32m[I 2022-10-23 16:41:12,172]\u001b[0m Trial 76 finished with value: 9.120046757452382 and parameters: {'max_depth': 7, 'learning_rate': 0.42457868293836654, 'n_estimators': 466, 'min_child_weight': 7, 'gamma': 0.05567817968381133, 'subsample': 0.9063119976727665, 'colsample_bytree': 0.8162383807642523, 'reg_alpha': 0.16112247690192888, 'reg_lambda': 0.5537893074851772, 'random_state': 388}. Best is trial 23 with value: 7.883011602351739.\u001b[0m\n",
      "\u001b[32m[I 2022-10-23 16:41:42,988]\u001b[0m Trial 77 finished with value: 8.081578281110703 and parameters: {'max_depth': 8, 'learning_rate': 0.07059201751432378, 'n_estimators': 525, 'min_child_weight': 7, 'gamma': 0.2965141132121014, 'subsample': 0.5820898149673014, 'colsample_bytree': 0.8961036490982147, 'reg_alpha': 0.09689236104803953, 'reg_lambda': 0.5840631933376146, 'random_state': 425}. Best is trial 23 with value: 7.883011602351739.\u001b[0m\n",
      "\u001b[32m[I 2022-10-23 16:42:00,274]\u001b[0m Trial 78 finished with value: 8.40600836008732 and parameters: {'max_depth': 6, 'learning_rate': 0.14822298635457565, 'n_estimators': 411, 'min_child_weight': 8, 'gamma': 0.16044961460120558, 'subsample': 0.6366934810628525, 'colsample_bytree': 0.8431428105797568, 'reg_alpha': 0.06598406298550727, 'reg_lambda': 0.7661625621206992, 'random_state': 333}. Best is trial 23 with value: 7.883011602351739.\u001b[0m\n",
      "\u001b[32m[I 2022-10-23 16:42:25,901]\u001b[0m Trial 79 finished with value: 8.016912280550576 and parameters: {'max_depth': 7, 'learning_rate': 0.037468928928236986, 'n_estimators': 496, 'min_child_weight': 1, 'gamma': 0.22171497933184092, 'subsample': 0.6940437627021169, 'colsample_bytree': 0.9500157704540345, 'reg_alpha': 0.21465147864586528, 'reg_lambda': 0.42762801126036093, 'random_state': 458}. Best is trial 23 with value: 7.883011602351739.\u001b[0m\n",
      "\u001b[32m[I 2022-10-23 16:42:31,041]\u001b[0m Trial 80 finished with value: 8.747622357924715 and parameters: {'max_depth': 8, 'learning_rate': 0.25224009491149874, 'n_estimators': 101, 'min_child_weight': 7, 'gamma': 0.9533214744306043, 'subsample': 0.7491924206355185, 'colsample_bytree': 0.778995138304196, 'reg_alpha': 0.17873031456171232, 'reg_lambda': 0.8402681468693906, 'random_state': 275}. Best is trial 23 with value: 7.883011602351739.\u001b[0m\n",
      "\u001b[32m[I 2022-10-23 16:42:51,989]\u001b[0m Trial 81 finished with value: 8.032542518765199 and parameters: {'max_depth': 9, 'learning_rate': 0.022694971173257743, 'n_estimators': 456, 'min_child_weight': 6, 'gamma': 0.265217822673884, 'subsample': 0.3633057671032961, 'colsample_bytree': 0.629067937498686, 'reg_alpha': 0.1392481421323442, 'reg_lambda': 0.5298763965375702, 'random_state': 496}. Best is trial 23 with value: 7.883011602351739.\u001b[0m\n",
      "\u001b[32m[I 2022-10-23 16:43:16,446]\u001b[0m Trial 82 finished with value: 8.19255413618989 and parameters: {'max_depth': 9, 'learning_rate': 0.09255850493621484, 'n_estimators': 440, 'min_child_weight': 5, 'gamma': 0.08726353324794357, 'subsample': 0.6075007573035357, 'colsample_bytree': 0.7366749048803523, 'reg_alpha': 0.29583688003632114, 'reg_lambda': 0.5085473156160821, 'random_state': 384}. Best is trial 23 with value: 7.883011602351739.\u001b[0m\n",
      "\u001b[32m[I 2022-10-23 16:43:45,337]\u001b[0m Trial 83 finished with value: 7.908547568832531 and parameters: {'max_depth': 8, 'learning_rate': 0.010929111418933986, 'n_estimators': 584, 'min_child_weight': 6, 'gamma': 0.11815364780326874, 'subsample': 0.8455395297706902, 'colsample_bytree': 0.8268015855641909, 'reg_alpha': 0.014124756754724946, 'reg_lambda': 0.3274124354059057, 'random_state': 466}. Best is trial 23 with value: 7.883011602351739.\u001b[0m\n",
      "\u001b[32m[I 2022-10-23 16:44:13,584]\u001b[0m Trial 84 finished with value: 7.9742108638178655 and parameters: {'max_depth': 8, 'learning_rate': 0.06464767128874502, 'n_estimators': 589, 'min_child_weight': 7, 'gamma': 0.12171814759362833, 'subsample': 0.85551417156057, 'colsample_bytree': 0.8163119800721159, 'reg_alpha': 0.032799755522492924, 'reg_lambda': 0.33269098405086217, 'random_state': 415}. Best is trial 23 with value: 7.883011602351739.\u001b[0m\n",
      "\u001b[32m[I 2022-10-23 16:44:52,225]\u001b[0m Trial 85 finished with value: 7.906466214960456 and parameters: {'max_depth': 8, 'learning_rate': 0.012272919706642167, 'n_estimators': 752, 'min_child_weight': 6, 'gamma': 0.1714575720856671, 'subsample': 0.8346679144492202, 'colsample_bytree': 0.8607936538149, 'reg_alpha': 0.08409493105624521, 'reg_lambda': 0.2262789915047531, 'random_state': 451}. Best is trial 23 with value: 7.883011602351739.\u001b[0m\n",
      "\u001b[32m[I 2022-10-23 16:45:32,462]\u001b[0m Trial 86 finished with value: 7.921457504007846 and parameters: {'max_depth': 7, 'learning_rate': 0.03611050231532449, 'n_estimators': 813, 'min_child_weight': 6, 'gamma': 0.19376344416012586, 'subsample': 0.9106321887997877, 'colsample_bytree': 0.9992829094114709, 'reg_alpha': 0.014167336447601445, 'reg_lambda': 0.25792643558534883, 'random_state': 477}. Best is trial 23 with value: 7.883011602351739.\u001b[0m\n",
      "\u001b[32m[I 2022-10-23 16:46:08,914]\u001b[0m Trial 87 finished with value: 8.365624411383223 and parameters: {'max_depth': 6, 'learning_rate': 0.18090038454593677, 'n_estimators': 844, 'min_child_weight': 6, 'gamma': 0.20088735787502462, 'subsample': 0.8403697433288473, 'colsample_bytree': 0.9966539733856117, 'reg_alpha': 0.04940446618626723, 'reg_lambda': 0.2415877377104752, 'random_state': 454}. Best is trial 23 with value: 7.883011602351739.\u001b[0m\n",
      "\u001b[32m[I 2022-10-23 16:46:46,652]\u001b[0m Trial 88 finished with value: 8.060786281895757 and parameters: {'max_depth': 7, 'learning_rate': 0.10626313104288024, 'n_estimators': 867, 'min_child_weight': 6, 'gamma': 0.07424883980683036, 'subsample': 0.9971677953672404, 'colsample_bytree': 0.8789343938901236, 'reg_alpha': 0.01274221441287696, 'reg_lambda': 0.20006478540762737, 'random_state': 478}. Best is trial 23 with value: 7.883011602351739.\u001b[0m\n",
      "\u001b[32m[I 2022-10-23 16:47:23,031]\u001b[0m Trial 89 finished with value: 7.920194290995377 and parameters: {'max_depth': 7, 'learning_rate': 0.03768480362286915, 'n_estimators': 776, 'min_child_weight': 5, 'gamma': 0.17488155749784856, 'subsample': 0.927128125138686, 'colsample_bytree': 0.9297493249141467, 'reg_alpha': 0.08556881880002473, 'reg_lambda': 0.1586968227610531, 'random_state': 511}. Best is trial 23 with value: 7.883011602351739.\u001b[0m\n",
      "\u001b[32m[I 2022-10-23 16:47:59,555]\u001b[0m Trial 90 finished with value: 8.152279786455084 and parameters: {'max_depth': 7, 'learning_rate': 0.13025169113797902, 'n_estimators': 782, 'min_child_weight': 4, 'gamma': 0.17614772515473032, 'subsample': 0.9194201233170167, 'colsample_bytree': 0.9417037357828616, 'reg_alpha': 0.09983003992125303, 'reg_lambda': 0.1258843718036073, 'random_state': 524}. Best is trial 23 with value: 7.883011602351739.\u001b[0m\n",
      "\u001b[32m[I 2022-10-23 16:48:36,824]\u001b[0m Trial 91 finished with value: 7.940658455713104 and parameters: {'max_depth': 7, 'learning_rate': 0.03482359595739576, 'n_estimators': 773, 'min_child_weight': 5, 'gamma': 0.23756158246548065, 'subsample': 0.8136827064722882, 'colsample_bytree': 0.9279759031021237, 'reg_alpha': 0.07245726787792138, 'reg_lambda': 0.2224516155430261, 'random_state': 445}. Best is trial 23 with value: 7.883011602351739.\u001b[0m\n",
      "\u001b[32m[I 2022-10-23 16:49:20,616]\u001b[0m Trial 92 finished with value: 7.9476256813168495 and parameters: {'max_depth': 8, 'learning_rate': 0.043376751016062295, 'n_estimators': 800, 'min_child_weight': 5, 'gamma': 0.24361336216437518, 'subsample': 0.9514554230130656, 'colsample_bytree': 0.976216662649148, 'reg_alpha': 0.07453373007729958, 'reg_lambda': 0.2607758919102404, 'random_state': 371}. Best is trial 23 with value: 7.883011602351739.\u001b[0m\n",
      "\u001b[32m[I 2022-10-23 16:49:54,066]\u001b[0m Trial 93 finished with value: 8.075166982439166 and parameters: {'max_depth': 7, 'learning_rate': 0.06505385926346512, 'n_estimators': 742, 'min_child_weight': 5, 'gamma': 0.1445882228832014, 'subsample': 0.8157531506505528, 'colsample_bytree': 0.8623130528492737, 'reg_alpha': 0.011239503557096964, 'reg_lambda': 0.2174751221735428, 'random_state': 453}. Best is trial 23 with value: 7.883011602351739.\u001b[0m\n",
      "\u001b[32m[I 2022-10-23 16:50:25,516]\u001b[0m Trial 94 finished with value: 8.00470044290322 and parameters: {'max_depth': 5, 'learning_rate': 0.03610627676990999, 'n_estimators': 878, 'min_child_weight': 4, 'gamma': 0.10332202892825318, 'subsample': 0.7892977632060136, 'colsample_bytree': 0.9330876520415265, 'reg_alpha': 0.04861129451690646, 'reg_lambda': 0.1403034347152139, 'random_state': 500}. Best is trial 23 with value: 7.883011602351739.\u001b[0m\n"
     ]
    },
    {
     "name": "stderr",
     "output_type": "stream",
     "text": [
      "\u001b[32m[I 2022-10-23 16:51:00,182]\u001b[0m Trial 95 finished with value: 8.038034654970298 and parameters: {'max_depth': 7, 'learning_rate': 0.08789764874438713, 'n_estimators': 766, 'min_child_weight': 5, 'gamma': 0.19216090396034904, 'subsample': 0.8817255440725023, 'colsample_bytree': 0.899799973749173, 'reg_alpha': 0.09094852951091877, 'reg_lambda': 0.096845901482072, 'random_state': 597}. Best is trial 23 with value: 7.883011602351739.\u001b[0m\n",
      "\u001b[32m[I 2022-10-23 16:51:36,322]\u001b[0m Trial 96 finished with value: 8.035570158793051 and parameters: {'max_depth': 8, 'learning_rate': 0.06099896107348876, 'n_estimators': 716, 'min_child_weight': 3, 'gamma': 0.27585129707876876, 'subsample': 0.7618117273671409, 'colsample_bytree': 0.8276113704401658, 'reg_alpha': 0.06449184986628678, 'reg_lambda': 0.17565755355538268, 'random_state': 391}. Best is trial 23 with value: 7.883011602351739.\u001b[0m\n",
      "\u001b[32m[I 2022-10-23 16:52:15,691]\u001b[0m Trial 97 finished with value: 7.953642399196812 and parameters: {'max_depth': 6, 'learning_rate': 0.0315312675197987, 'n_estimators': 903, 'min_child_weight': 4, 'gamma': 0.12186898789026532, 'subsample': 0.8334516422962706, 'colsample_bytree': 0.9981461397912219, 'reg_alpha': 0.11479635480588687, 'reg_lambda': 0.2723908142720069, 'random_state': 473}. Best is trial 23 with value: 7.883011602351739.\u001b[0m\n",
      "\u001b[32m[I 2022-10-23 16:52:51,322]\u001b[0m Trial 98 finished with value: 10.647958983597315 and parameters: {'max_depth': 8, 'learning_rate': 0.5849116060706022, 'n_estimators': 692, 'min_child_weight': 5, 'gamma': 0.038371035378337026, 'subsample': 0.7193417013679492, 'colsample_bytree': 0.8665518747809886, 'reg_alpha': 0.02936025000449536, 'reg_lambda': 0.1739080458270972, 'random_state': 447}. Best is trial 23 with value: 7.883011602351739.\u001b[0m\n",
      "\u001b[32m[I 2022-10-23 16:53:31,224]\u001b[0m Trial 99 finished with value: 8.177623345594984 and parameters: {'max_depth': 8, 'learning_rate': 0.09929198354031202, 'n_estimators': 766, 'min_child_weight': 5, 'gamma': 0.1512077933493542, 'subsample': 0.8634706009550454, 'colsample_bytree': 0.9227969376924746, 'reg_alpha': 0.08104134964975625, 'reg_lambda': 0.23331542703759267, 'random_state': 510}. Best is trial 23 with value: 7.883011602351739.\u001b[0m\n"
     ]
    }
   ],
   "source": [
    "study_2.optimize(objective, n_trials=100)"
   ]
  },
  {
   "cell_type": "code",
   "execution_count": 30,
   "id": "07425f53",
   "metadata": {},
   "outputs": [
    {
     "name": "stdout",
     "output_type": "stream",
     "text": [
      "Best parameters {'max_depth': 10, 'learning_rate': 0.012566912501914329, 'n_estimators': 441, 'min_child_weight': 8, 'gamma': 0.2963879202097287, 'subsample': 0.731398267699396, 'colsample_bytree': 0.7193328008372396, 'reg_alpha': 0.02038070745096826, 'reg_lambda': 0.7337685769701584, 'random_state': 435}\n",
      "Best value 7.883011602351739\n"
     ]
    }
   ],
   "source": [
    "print('Best value', study_2.best_value)"
   ]
  },
  {
   "cell_type": "markdown",
   "id": "c35d0b08",
   "metadata": {},
   "source": [
    "Cette fois-ci, c'est clairement moins bien qu'avant. "
   ]
  },
  {
   "cell_type": "markdown",
   "id": "ea8e7443",
   "metadata": {},
   "source": [
    "# Choix du model."
   ]
  },
  {
   "cell_type": "markdown",
   "id": "b0e9f18b",
   "metadata": {},
   "source": [
    "On reconstruit le model de l'optimisation 'study_1'."
   ]
  },
  {
   "cell_type": "code",
   "execution_count": 26,
   "id": "04d6cdcd",
   "metadata": {},
   "outputs": [],
   "source": [
    "X_train, X_test, y_train, y_test = train_test_split(X1, y, random_state=21, train_size=0.7, shuffle=True)\n",
    "\n",
    "std = StandardScaler()\n",
    "\n",
    "std.fit(X_train)\n",
    "\n",
    "X_train_std = std.transform(X_train)\n",
    "X_test_std = std.transform(X_test)\n",
    "\n",
    "# on garde les noms des features pour tracer un diagramme de feature importance\n",
    "orig_feature_names = list(train1.drop(['seq_id', 'protein_sequence', 'tm'], axis=1).columns)\n",
    "X_train_std_df = pd.DataFrame(X_train_std, columns=orig_feature_names)"
   ]
  },
  {
   "cell_type": "code",
   "execution_count": 27,
   "id": "1df41332",
   "metadata": {},
   "outputs": [],
   "source": [
    "b = study_1.best_params"
   ]
  },
  {
   "cell_type": "code",
   "execution_count": 28,
   "id": "b5440877",
   "metadata": {},
   "outputs": [],
   "source": [
    "model = xgb.XGBRegressor(\n",
    "    max_depth=b['max_depth'],\n",
    "    learning_rate=b['learning_rate'],\n",
    "    n_estimators=b['n_estimators'],\n",
    "    min_child_weight=b['min_child_weight'],\n",
    "    gamma=b['gamma'],\n",
    "    subsample=b['subsample'],\n",
    "    colsample_bytree=b['colsample_bytree'],\n",
    "    reg_alpha=b['reg_alpha'],\n",
    "    reg_lambda=b['reg_lambda'],\n",
    "    random_state=b['random_state']\n",
    "            )\n"
   ]
  },
  {
   "cell_type": "code",
   "execution_count": 29,
   "id": "32146dde",
   "metadata": {},
   "outputs": [
    {
     "data": {
      "text/plain": [
       "5.742288128724325"
      ]
     },
     "execution_count": 29,
     "metadata": {},
     "output_type": "execute_result"
    }
   ],
   "source": [
    "model.fit(X_train_std_df, y_train)\n",
    "y_pred = model.predict(X_test_std)\n",
    "metrics.mean_absolute_error(y_test, y_pred)"
   ]
  },
  {
   "cell_type": "code",
   "execution_count": 30,
   "id": "41cb4e15",
   "metadata": {},
   "outputs": [
    {
     "data": {
      "text/plain": [
       "0.593658382760053"
      ]
     },
     "execution_count": 30,
     "metadata": {},
     "output_type": "execute_result"
    }
   ],
   "source": [
    "metrics.r2_score(y_test, y_pred)"
   ]
  },
  {
   "cell_type": "code",
   "execution_count": 31,
   "id": "a84c0df1",
   "metadata": {},
   "outputs": [
    {
     "data": {
      "text/plain": [
       "<AxesSubplot: >"
      ]
     },
     "execution_count": 31,
     "metadata": {},
     "output_type": "execute_result"
    },
    {
     "data": {
      "image/png": "[encoded data removed]",
      "text/plain": [
       "<Figure size 1440x720 with 1 Axes>"
      ]
     },
     "metadata": {
      "needs_background": "light"
     },
     "output_type": "display_data"
    }
   ],
   "source": [
    "feature_importance = model.get_booster().get_score(importance_type='gain')\n",
    "keys = list(feature_importance.keys())\n",
    "values = list(feature_importance.values())\n",
    "\n",
    "data = pd.DataFrame(data=values, index=keys, columns=[\"score\"]).sort_values(by = \"score\", ascending=False)\n",
    "data.nlargest(30, columns=\"score\").plot(kind='barh', figsize = (20,10))"
   ]
  },
  {
   "cell_type": "markdown",
   "id": "45d7853b",
   "metadata": {},
   "source": [
    "On retrouve bien le fait que le groupe à peu d'importance."
   ]
  },
  {
   "cell_type": "markdown",
   "id": "3c39de8a",
   "metadata": {},
   "source": [
    "# Prédiction"
   ]
  },
  {
   "cell_type": "markdown",
   "id": "a4dcf7ad",
   "metadata": {},
   "source": [
    "On charge le fichier contenant les données de test avec les features correspondant au model que nous avons choisi, ainsi que le fichier 'sample_submission.csv' ou nous alons enregistrer la prédiction."
   ]
  },
  {
   "cell_type": "code",
   "execution_count": 32,
   "id": "6745d56b",
   "metadata": {},
   "outputs": [],
   "source": [
    "df_test = pd.read_csv(\"Data/test_1_for_modelisation.csv\")\n",
    "sub = pd.read_csv(\"Data/sample_submission.csv\")"
   ]
  },
  {
   "cell_type": "code",
   "execution_count": 33,
   "id": "74764c04",
   "metadata": {},
   "outputs": [
    {
     "data": {
      "text/html": [
       "<div>\n",
       "<style scoped>\n",
       "    .dataframe tbody tr th:only-of-type {\n",
       "        vertical-align: middle;\n",
       "    }\n",
       "\n",
       "    .dataframe tbody tr th {\n",
       "        vertical-align: top;\n",
       "    }\n",
       "\n",
       "    .dataframe thead th {\n",
       "        text-align: right;\n",
       "    }\n",
       "</style>\n",
       "<table border=\"1\" class=\"dataframe\">\n",
       "  <thead>\n",
       "    <tr style=\"text-align: right;\">\n",
       "      <th></th>\n",
       "      <th>seq_id</th>\n",
       "      <th>protein_sequence</th>\n",
       "      <th>pH</th>\n",
       "      <th>groupe</th>\n",
       "      <th>A</th>\n",
       "      <th>C</th>\n",
       "      <th>D</th>\n",
       "      <th>E</th>\n",
       "      <th>F</th>\n",
       "      <th>G</th>\n",
       "      <th>...</th>\n",
       "      <th>M</th>\n",
       "      <th>N</th>\n",
       "      <th>P</th>\n",
       "      <th>Q</th>\n",
       "      <th>R</th>\n",
       "      <th>S</th>\n",
       "      <th>T</th>\n",
       "      <th>V</th>\n",
       "      <th>W</th>\n",
       "      <th>Y</th>\n",
       "    </tr>\n",
       "  </thead>\n",
       "  <tbody>\n",
       "    <tr>\n",
       "      <th>0</th>\n",
       "      <td>31390</td>\n",
       "      <td>VPVNPEPDATSVENVAEKTGSGDSQSDPIKADLEVKGQSALPFDVD...</td>\n",
       "      <td>8</td>\n",
       "      <td>21793</td>\n",
       "      <td>22</td>\n",
       "      <td>4</td>\n",
       "      <td>15</td>\n",
       "      <td>8</td>\n",
       "      <td>10</td>\n",
       "      <td>19</td>\n",
       "      <td>...</td>\n",
       "      <td>0</td>\n",
       "      <td>19</td>\n",
       "      <td>17</td>\n",
       "      <td>13</td>\n",
       "      <td>3</td>\n",
       "      <td>18</td>\n",
       "      <td>8</td>\n",
       "      <td>13</td>\n",
       "      <td>6</td>\n",
       "      <td>6</td>\n",
       "    </tr>\n",
       "    <tr>\n",
       "      <th>1</th>\n",
       "      <td>31391</td>\n",
       "      <td>VPVNPEPDATSVENVAKKTGSGDSQSDPIKADLEVKGQSALPFDVD...</td>\n",
       "      <td>8</td>\n",
       "      <td>21793</td>\n",
       "      <td>22</td>\n",
       "      <td>4</td>\n",
       "      <td>15</td>\n",
       "      <td>7</td>\n",
       "      <td>10</td>\n",
       "      <td>19</td>\n",
       "      <td>...</td>\n",
       "      <td>0</td>\n",
       "      <td>19</td>\n",
       "      <td>17</td>\n",
       "      <td>13</td>\n",
       "      <td>3</td>\n",
       "      <td>18</td>\n",
       "      <td>8</td>\n",
       "      <td>13</td>\n",
       "      <td>6</td>\n",
       "      <td>6</td>\n",
       "    </tr>\n",
       "    <tr>\n",
       "      <th>2</th>\n",
       "      <td>31392</td>\n",
       "      <td>VPVNPEPDATSVENVAKTGSGDSQSDPIKADLEVKGQSALPFDVDC...</td>\n",
       "      <td>8</td>\n",
       "      <td>21793</td>\n",
       "      <td>22</td>\n",
       "      <td>4</td>\n",
       "      <td>15</td>\n",
       "      <td>7</td>\n",
       "      <td>10</td>\n",
       "      <td>19</td>\n",
       "      <td>...</td>\n",
       "      <td>0</td>\n",
       "      <td>19</td>\n",
       "      <td>17</td>\n",
       "      <td>13</td>\n",
       "      <td>3</td>\n",
       "      <td>18</td>\n",
       "      <td>8</td>\n",
       "      <td>13</td>\n",
       "      <td>6</td>\n",
       "      <td>6</td>\n",
       "    </tr>\n",
       "    <tr>\n",
       "      <th>3</th>\n",
       "      <td>31393</td>\n",
       "      <td>VPVNPEPDATSVENVALCTGSGDSQSDPIKADLEVKGQSALPFDVD...</td>\n",
       "      <td>8</td>\n",
       "      <td>21793</td>\n",
       "      <td>22</td>\n",
       "      <td>5</td>\n",
       "      <td>15</td>\n",
       "      <td>7</td>\n",
       "      <td>10</td>\n",
       "      <td>19</td>\n",
       "      <td>...</td>\n",
       "      <td>0</td>\n",
       "      <td>19</td>\n",
       "      <td>17</td>\n",
       "      <td>13</td>\n",
       "      <td>3</td>\n",
       "      <td>18</td>\n",
       "      <td>8</td>\n",
       "      <td>13</td>\n",
       "      <td>6</td>\n",
       "      <td>6</td>\n",
       "    </tr>\n",
       "    <tr>\n",
       "      <th>4</th>\n",
       "      <td>31394</td>\n",
       "      <td>VPVNPEPDATSVENVALFTGSGDSQSDPIKADLEVKGQSALPFDVD...</td>\n",
       "      <td>8</td>\n",
       "      <td>21793</td>\n",
       "      <td>22</td>\n",
       "      <td>4</td>\n",
       "      <td>15</td>\n",
       "      <td>7</td>\n",
       "      <td>11</td>\n",
       "      <td>19</td>\n",
       "      <td>...</td>\n",
       "      <td>0</td>\n",
       "      <td>19</td>\n",
       "      <td>17</td>\n",
       "      <td>13</td>\n",
       "      <td>3</td>\n",
       "      <td>18</td>\n",
       "      <td>8</td>\n",
       "      <td>13</td>\n",
       "      <td>6</td>\n",
       "      <td>6</td>\n",
       "    </tr>\n",
       "    <tr>\n",
       "      <th>...</th>\n",
       "      <td>...</td>\n",
       "      <td>...</td>\n",
       "      <td>...</td>\n",
       "      <td>...</td>\n",
       "      <td>...</td>\n",
       "      <td>...</td>\n",
       "      <td>...</td>\n",
       "      <td>...</td>\n",
       "      <td>...</td>\n",
       "      <td>...</td>\n",
       "      <td>...</td>\n",
       "      <td>...</td>\n",
       "      <td>...</td>\n",
       "      <td>...</td>\n",
       "      <td>...</td>\n",
       "      <td>...</td>\n",
       "      <td>...</td>\n",
       "      <td>...</td>\n",
       "      <td>...</td>\n",
       "      <td>...</td>\n",
       "      <td>...</td>\n",
       "    </tr>\n",
       "    <tr>\n",
       "      <th>2408</th>\n",
       "      <td>33798</td>\n",
       "      <td>VPVNPEPDATSVENVILKTGSGDSQSDPIKADLEVKGQSALPFDVD...</td>\n",
       "      <td>8</td>\n",
       "      <td>21793</td>\n",
       "      <td>21</td>\n",
       "      <td>4</td>\n",
       "      <td>15</td>\n",
       "      <td>7</td>\n",
       "      <td>10</td>\n",
       "      <td>19</td>\n",
       "      <td>...</td>\n",
       "      <td>0</td>\n",
       "      <td>19</td>\n",
       "      <td>17</td>\n",
       "      <td>13</td>\n",
       "      <td>3</td>\n",
       "      <td>18</td>\n",
       "      <td>8</td>\n",
       "      <td>13</td>\n",
       "      <td>6</td>\n",
       "      <td>6</td>\n",
       "    </tr>\n",
       "    <tr>\n",
       "      <th>2409</th>\n",
       "      <td>33799</td>\n",
       "      <td>VPVNPEPDATSVENVLLKTGSGDSQSDPIKADLEVKGQSALPFDVD...</td>\n",
       "      <td>8</td>\n",
       "      <td>21793</td>\n",
       "      <td>21</td>\n",
       "      <td>4</td>\n",
       "      <td>15</td>\n",
       "      <td>7</td>\n",
       "      <td>10</td>\n",
       "      <td>19</td>\n",
       "      <td>...</td>\n",
       "      <td>0</td>\n",
       "      <td>19</td>\n",
       "      <td>17</td>\n",
       "      <td>13</td>\n",
       "      <td>3</td>\n",
       "      <td>18</td>\n",
       "      <td>8</td>\n",
       "      <td>13</td>\n",
       "      <td>6</td>\n",
       "      <td>6</td>\n",
       "    </tr>\n",
       "    <tr>\n",
       "      <th>2410</th>\n",
       "      <td>33800</td>\n",
       "      <td>VPVNPEPDATSVENVNLKTGSGDSQSDPIKADLEVKGQSALPFDVD...</td>\n",
       "      <td>8</td>\n",
       "      <td>21793</td>\n",
       "      <td>21</td>\n",
       "      <td>4</td>\n",
       "      <td>15</td>\n",
       "      <td>7</td>\n",
       "      <td>10</td>\n",
       "      <td>19</td>\n",
       "      <td>...</td>\n",
       "      <td>0</td>\n",
       "      <td>20</td>\n",
       "      <td>17</td>\n",
       "      <td>13</td>\n",
       "      <td>3</td>\n",
       "      <td>18</td>\n",
       "      <td>8</td>\n",
       "      <td>13</td>\n",
       "      <td>6</td>\n",
       "      <td>6</td>\n",
       "    </tr>\n",
       "    <tr>\n",
       "      <th>2411</th>\n",
       "      <td>33801</td>\n",
       "      <td>VPVNPEPDATSVENVPLKTGSGDSQSDPIKADLEVKGQSALPFDVD...</td>\n",
       "      <td>8</td>\n",
       "      <td>21793</td>\n",
       "      <td>21</td>\n",
       "      <td>4</td>\n",
       "      <td>15</td>\n",
       "      <td>7</td>\n",
       "      <td>10</td>\n",
       "      <td>19</td>\n",
       "      <td>...</td>\n",
       "      <td>0</td>\n",
       "      <td>19</td>\n",
       "      <td>18</td>\n",
       "      <td>13</td>\n",
       "      <td>3</td>\n",
       "      <td>18</td>\n",
       "      <td>8</td>\n",
       "      <td>13</td>\n",
       "      <td>6</td>\n",
       "      <td>6</td>\n",
       "    </tr>\n",
       "    <tr>\n",
       "      <th>2412</th>\n",
       "      <td>33802</td>\n",
       "      <td>VPVNPEPDATSVENVWLKTGSGDSQSDPIKADLEVKGQSALPFDVD...</td>\n",
       "      <td>8</td>\n",
       "      <td>21793</td>\n",
       "      <td>21</td>\n",
       "      <td>4</td>\n",
       "      <td>15</td>\n",
       "      <td>7</td>\n",
       "      <td>10</td>\n",
       "      <td>19</td>\n",
       "      <td>...</td>\n",
       "      <td>0</td>\n",
       "      <td>19</td>\n",
       "      <td>17</td>\n",
       "      <td>13</td>\n",
       "      <td>3</td>\n",
       "      <td>18</td>\n",
       "      <td>8</td>\n",
       "      <td>13</td>\n",
       "      <td>7</td>\n",
       "      <td>6</td>\n",
       "    </tr>\n",
       "  </tbody>\n",
       "</table>\n",
       "<p>2413 rows × 24 columns</p>\n",
       "</div>"
      ],
      "text/plain": [
       "      seq_id                                   protein_sequence  pH  groupe  \\\n",
       "0      31390  VPVNPEPDATSVENVAEKTGSGDSQSDPIKADLEVKGQSALPFDVD...   8   21793   \n",
       "1      31391  VPVNPEPDATSVENVAKKTGSGDSQSDPIKADLEVKGQSALPFDVD...   8   21793   \n",
       "2      31392  VPVNPEPDATSVENVAKTGSGDSQSDPIKADLEVKGQSALPFDVDC...   8   21793   \n",
       "3      31393  VPVNPEPDATSVENVALCTGSGDSQSDPIKADLEVKGQSALPFDVD...   8   21793   \n",
       "4      31394  VPVNPEPDATSVENVALFTGSGDSQSDPIKADLEVKGQSALPFDVD...   8   21793   \n",
       "...      ...                                                ...  ..     ...   \n",
       "2408   33798  VPVNPEPDATSVENVILKTGSGDSQSDPIKADLEVKGQSALPFDVD...   8   21793   \n",
       "2409   33799  VPVNPEPDATSVENVLLKTGSGDSQSDPIKADLEVKGQSALPFDVD...   8   21793   \n",
       "2410   33800  VPVNPEPDATSVENVNLKTGSGDSQSDPIKADLEVKGQSALPFDVD...   8   21793   \n",
       "2411   33801  VPVNPEPDATSVENVPLKTGSGDSQSDPIKADLEVKGQSALPFDVD...   8   21793   \n",
       "2412   33802  VPVNPEPDATSVENVWLKTGSGDSQSDPIKADLEVKGQSALPFDVD...   8   21793   \n",
       "\n",
       "       A  C   D  E   F   G  ...  M   N   P   Q  R   S  T   V  W  Y  \n",
       "0     22  4  15  8  10  19  ...  0  19  17  13  3  18  8  13  6  6  \n",
       "1     22  4  15  7  10  19  ...  0  19  17  13  3  18  8  13  6  6  \n",
       "2     22  4  15  7  10  19  ...  0  19  17  13  3  18  8  13  6  6  \n",
       "3     22  5  15  7  10  19  ...  0  19  17  13  3  18  8  13  6  6  \n",
       "4     22  4  15  7  11  19  ...  0  19  17  13  3  18  8  13  6  6  \n",
       "...   .. ..  .. ..  ..  ..  ... ..  ..  ..  .. ..  .. ..  .. .. ..  \n",
       "2408  21  4  15  7  10  19  ...  0  19  17  13  3  18  8  13  6  6  \n",
       "2409  21  4  15  7  10  19  ...  0  19  17  13  3  18  8  13  6  6  \n",
       "2410  21  4  15  7  10  19  ...  0  20  17  13  3  18  8  13  6  6  \n",
       "2411  21  4  15  7  10  19  ...  0  19  18  13  3  18  8  13  6  6  \n",
       "2412  21  4  15  7  10  19  ...  0  19  17  13  3  18  8  13  7  6  \n",
       "\n",
       "[2413 rows x 24 columns]"
      ]
     },
     "execution_count": 33,
     "metadata": {},
     "output_type": "execute_result"
    }
   ],
   "source": [
    "df_test"
   ]
  },
  {
   "cell_type": "code",
   "execution_count": 34,
   "id": "b0044513",
   "metadata": {},
   "outputs": [],
   "source": [
    "T = df_test.drop(['seq_id','protein_sequence'], axis=1).values"
   ]
  },
  {
   "cell_type": "code",
   "execution_count": 35,
   "id": "47d7eebc",
   "metadata": {},
   "outputs": [],
   "source": [
    "T = std.transform(T)"
   ]
  },
  {
   "cell_type": "code",
   "execution_count": 36,
   "id": "28bcf4e0",
   "metadata": {},
   "outputs": [],
   "source": [
    "y_pred = model.predict(T)"
   ]
  },
  {
   "cell_type": "code",
   "execution_count": 37,
   "id": "82a726bc",
   "metadata": {},
   "outputs": [
    {
     "data": {
      "text/plain": [
       "array([50.72032 , 50.716007, 50.80823 , ..., 50.640602, 50.656563,\n",
       "       50.775784], dtype=float32)"
      ]
     },
     "execution_count": 37,
     "metadata": {},
     "output_type": "execute_result"
    }
   ],
   "source": [
    "y_pred"
   ]
  },
  {
   "cell_type": "code",
   "execution_count": 38,
   "id": "78210906",
   "metadata": {},
   "outputs": [
    {
     "data": {
      "text/html": [
       "<div>\n",
       "<style scoped>\n",
       "    .dataframe tbody tr th:only-of-type {\n",
       "        vertical-align: middle;\n",
       "    }\n",
       "\n",
       "    .dataframe tbody tr th {\n",
       "        vertical-align: top;\n",
       "    }\n",
       "\n",
       "    .dataframe thead th {\n",
       "        text-align: right;\n",
       "    }\n",
       "</style>\n",
       "<table border=\"1\" class=\"dataframe\">\n",
       "  <thead>\n",
       "    <tr style=\"text-align: right;\">\n",
       "      <th></th>\n",
       "      <th>seq_id</th>\n",
       "      <th>tm</th>\n",
       "    </tr>\n",
       "  </thead>\n",
       "  <tbody>\n",
       "    <tr>\n",
       "      <th>0</th>\n",
       "      <td>31390</td>\n",
       "      <td>0</td>\n",
       "    </tr>\n",
       "    <tr>\n",
       "      <th>1</th>\n",
       "      <td>31391</td>\n",
       "      <td>1</td>\n",
       "    </tr>\n",
       "    <tr>\n",
       "      <th>2</th>\n",
       "      <td>31392</td>\n",
       "      <td>2</td>\n",
       "    </tr>\n",
       "    <tr>\n",
       "      <th>3</th>\n",
       "      <td>31393</td>\n",
       "      <td>3</td>\n",
       "    </tr>\n",
       "    <tr>\n",
       "      <th>4</th>\n",
       "      <td>31394</td>\n",
       "      <td>4</td>\n",
       "    </tr>\n",
       "    <tr>\n",
       "      <th>...</th>\n",
       "      <td>...</td>\n",
       "      <td>...</td>\n",
       "    </tr>\n",
       "    <tr>\n",
       "      <th>2408</th>\n",
       "      <td>33798</td>\n",
       "      <td>2408</td>\n",
       "    </tr>\n",
       "    <tr>\n",
       "      <th>2409</th>\n",
       "      <td>33799</td>\n",
       "      <td>2409</td>\n",
       "    </tr>\n",
       "    <tr>\n",
       "      <th>2410</th>\n",
       "      <td>33800</td>\n",
       "      <td>2410</td>\n",
       "    </tr>\n",
       "    <tr>\n",
       "      <th>2411</th>\n",
       "      <td>33801</td>\n",
       "      <td>2411</td>\n",
       "    </tr>\n",
       "    <tr>\n",
       "      <th>2412</th>\n",
       "      <td>33802</td>\n",
       "      <td>2412</td>\n",
       "    </tr>\n",
       "  </tbody>\n",
       "</table>\n",
       "<p>2413 rows × 2 columns</p>\n",
       "</div>"
      ],
      "text/plain": [
       "      seq_id    tm\n",
       "0      31390     0\n",
       "1      31391     1\n",
       "2      31392     2\n",
       "3      31393     3\n",
       "4      31394     4\n",
       "...      ...   ...\n",
       "2408   33798  2408\n",
       "2409   33799  2409\n",
       "2410   33800  2410\n",
       "2411   33801  2411\n",
       "2412   33802  2412\n",
       "\n",
       "[2413 rows x 2 columns]"
      ]
     },
     "execution_count": 38,
     "metadata": {},
     "output_type": "execute_result"
    }
   ],
   "source": [
    "sub"
   ]
  },
  {
   "cell_type": "code",
   "execution_count": 39,
   "id": "6eeb10a1",
   "metadata": {},
   "outputs": [],
   "source": [
    "sub['tm'] = y_pred.T"
   ]
  },
  {
   "cell_type": "code",
   "execution_count": 40,
   "id": "4a2f28a7",
   "metadata": {},
   "outputs": [
    {
     "data": {
      "text/html": [
       "<div>\n",
       "<style scoped>\n",
       "    .dataframe tbody tr th:only-of-type {\n",
       "        vertical-align: middle;\n",
       "    }\n",
       "\n",
       "    .dataframe tbody tr th {\n",
       "        vertical-align: top;\n",
       "    }\n",
       "\n",
       "    .dataframe thead th {\n",
       "        text-align: right;\n",
       "    }\n",
       "</style>\n",
       "<table border=\"1\" class=\"dataframe\">\n",
       "  <thead>\n",
       "    <tr style=\"text-align: right;\">\n",
       "      <th></th>\n",
       "      <th>seq_id</th>\n",
       "      <th>tm</th>\n",
       "    </tr>\n",
       "  </thead>\n",
       "  <tbody>\n",
       "    <tr>\n",
       "      <th>0</th>\n",
       "      <td>31390</td>\n",
       "      <td>50.720322</td>\n",
       "    </tr>\n",
       "    <tr>\n",
       "      <th>1</th>\n",
       "      <td>31391</td>\n",
       "      <td>50.716007</td>\n",
       "    </tr>\n",
       "    <tr>\n",
       "      <th>2</th>\n",
       "      <td>31392</td>\n",
       "      <td>50.808231</td>\n",
       "    </tr>\n",
       "    <tr>\n",
       "      <th>3</th>\n",
       "      <td>31393</td>\n",
       "      <td>50.392700</td>\n",
       "    </tr>\n",
       "    <tr>\n",
       "      <th>4</th>\n",
       "      <td>31394</td>\n",
       "      <td>50.097198</td>\n",
       "    </tr>\n",
       "    <tr>\n",
       "      <th>...</th>\n",
       "      <td>...</td>\n",
       "      <td>...</td>\n",
       "    </tr>\n",
       "    <tr>\n",
       "      <th>2408</th>\n",
       "      <td>33798</td>\n",
       "      <td>49.946987</td>\n",
       "    </tr>\n",
       "    <tr>\n",
       "      <th>2409</th>\n",
       "      <td>33799</td>\n",
       "      <td>51.077000</td>\n",
       "    </tr>\n",
       "    <tr>\n",
       "      <th>2410</th>\n",
       "      <td>33800</td>\n",
       "      <td>50.640602</td>\n",
       "    </tr>\n",
       "    <tr>\n",
       "      <th>2411</th>\n",
       "      <td>33801</td>\n",
       "      <td>50.656563</td>\n",
       "    </tr>\n",
       "    <tr>\n",
       "      <th>2412</th>\n",
       "      <td>33802</td>\n",
       "      <td>50.775784</td>\n",
       "    </tr>\n",
       "  </tbody>\n",
       "</table>\n",
       "<p>2413 rows × 2 columns</p>\n",
       "</div>"
      ],
      "text/plain": [
       "      seq_id         tm\n",
       "0      31390  50.720322\n",
       "1      31391  50.716007\n",
       "2      31392  50.808231\n",
       "3      31393  50.392700\n",
       "4      31394  50.097198\n",
       "...      ...        ...\n",
       "2408   33798  49.946987\n",
       "2409   33799  51.077000\n",
       "2410   33800  50.640602\n",
       "2411   33801  50.656563\n",
       "2412   33802  50.775784\n",
       "\n",
       "[2413 rows x 2 columns]"
      ]
     },
     "execution_count": 40,
     "metadata": {},
     "output_type": "execute_result"
    }
   ],
   "source": [
    "sub"
   ]
  },
  {
   "cell_type": "code",
   "execution_count": 41,
   "id": "f347785c",
   "metadata": {},
   "outputs": [
    {
     "data": {
      "text/plain": [
       "count    2413.000000\n",
       "mean       51.060780\n",
       "std         1.456298\n",
       "min        48.384651\n",
       "25%        50.322041\n",
       "50%        50.689034\n",
       "75%        51.031776\n",
       "max        55.418442\n",
       "Name: tm, dtype: float64"
      ]
     },
     "execution_count": 41,
     "metadata": {},
     "output_type": "execute_result"
    }
   ],
   "source": [
    "sub['tm'].describe()"
   ]
  },
  {
   "cell_type": "markdown",
   "id": "254f9651",
   "metadata": {},
   "source": [
    "Les valeurs prédites sont concentrées autours de 50 degrés, mais il y a quand même un écart de 7 degré entre la valeur la plus basse et la valeur la plus élevée."
   ]
  },
  {
   "cell_type": "code",
   "execution_count": 42,
   "id": "86e61088",
   "metadata": {},
   "outputs": [],
   "source": [
    "sub.to_csv(\"Submission/sample_submission.csv\", index=False)"
   ]
  }
 ],
 "metadata": {
  "kernelspec": {
   "display_name": "Python 3 (ipykernel)",
   "language": "python",
   "name": "python3"
  },
  "language_info": {
   "codemirror_mode": {
    "name": "ipython",
    "version": 3
   },
   "file_extension": ".py",
   "mimetype": "text/x-python",
   "name": "python",
   "nbconvert_exporter": "python",
   "pygments_lexer": "ipython3",
   "version": "3.9.13"
  }
 },
 "nbformat": 4,
 "nbformat_minor": 5
}
