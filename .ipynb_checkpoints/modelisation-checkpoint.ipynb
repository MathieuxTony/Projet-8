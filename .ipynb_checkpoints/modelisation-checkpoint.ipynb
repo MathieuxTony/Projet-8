{
 "cells": [
  {
   "cell_type": "markdown",
   "id": "4c14b565",
   "metadata": {},
   "source": [
    "# Modélisation"
   ]
  },
  {
   "cell_type": "code",
   "execution_count": 1,
   "id": "87f7c26d",
   "metadata": {},
   "outputs": [],
   "source": [
    "import pandas as pd\n",
    "import numpy as np\n",
    "import matplotlib.pyplot as plt\n",
    "import seaborn as sns\n",
    "\n",
    "from sklearn.model_selection import train_test_split\n",
    "from sklearn.preprocessing import StandardScaler\n",
    "from sklearn import metrics\n",
    "\n",
    "import xgboost as xgb\n",
    "from sklearn import dummy\n",
    "from sklearn.ensemble import RandomForestRegressor\n",
    "\n",
    "import optuna\n",
    "import timeit"
   ]
  },
  {
   "cell_type": "markdown",
   "id": "fa34b9fd",
   "metadata": {},
   "source": [
    "A la fin de l'analyse exploratoire nous avions créé deux jeux de données différents. Nous allons tester des models de gradient boosting sur ces deux jeux de données afin de comparer les deux approches. Nous testerons un model de forêts aléatoires mais le temps de calcul étant beaucoup plus long que pour le gradient boosting nous ne chercherons pas à l'améliorer."
   ]
  },
  {
   "cell_type": "markdown",
   "id": "68466a25",
   "metadata": {},
   "source": [
    "## Chargement des données"
   ]
  },
  {
   "cell_type": "code",
   "execution_count": 2,
   "id": "d0791734",
   "metadata": {},
   "outputs": [],
   "source": [
    "train1 = pd.read_csv(\"Data/train_version1_for_modelisation.csv\")\n",
    "train2 = pd.read_csv(\"Data/train_version2_for_modelisation.csv\")"
   ]
  },
  {
   "cell_type": "code",
   "execution_count": 3,
   "id": "1d295b9d",
   "metadata": {},
   "outputs": [
    {
     "data": {
      "text/html": [
       "<div>\n",
       "<style scoped>\n",
       "    .dataframe tbody tr th:only-of-type {\n",
       "        vertical-align: middle;\n",
       "    }\n",
       "\n",
       "    .dataframe tbody tr th {\n",
       "        vertical-align: top;\n",
       "    }\n",
       "\n",
       "    .dataframe thead th {\n",
       "        text-align: right;\n",
       "    }\n",
       "</style>\n",
       "<table border=\"1\" class=\"dataframe\">\n",
       "  <thead>\n",
       "    <tr style=\"text-align: right;\">\n",
       "      <th></th>\n",
       "      <th>seq_id</th>\n",
       "      <th>protein_sequence</th>\n",
       "      <th>pH</th>\n",
       "      <th>tm</th>\n",
       "      <th>groupe</th>\n",
       "      <th>A</th>\n",
       "      <th>C</th>\n",
       "      <th>D</th>\n",
       "      <th>E</th>\n",
       "      <th>F</th>\n",
       "      <th>...</th>\n",
       "      <th>M</th>\n",
       "      <th>N</th>\n",
       "      <th>P</th>\n",
       "      <th>Q</th>\n",
       "      <th>R</th>\n",
       "      <th>S</th>\n",
       "      <th>T</th>\n",
       "      <th>V</th>\n",
       "      <th>W</th>\n",
       "      <th>Y</th>\n",
       "    </tr>\n",
       "  </thead>\n",
       "  <tbody>\n",
       "    <tr>\n",
       "      <th>0</th>\n",
       "      <td>0</td>\n",
       "      <td>AAAAKAAALALLGEAPEVVDIWLPAGWRQPFRVFRLERKGDGVLVG...</td>\n",
       "      <td>7.0</td>\n",
       "      <td>75.7</td>\n",
       "      <td>0</td>\n",
       "      <td>45</td>\n",
       "      <td>1</td>\n",
       "      <td>13</td>\n",
       "      <td>30</td>\n",
       "      <td>13</td>\n",
       "      <td>...</td>\n",
       "      <td>8</td>\n",
       "      <td>5</td>\n",
       "      <td>18</td>\n",
       "      <td>6</td>\n",
       "      <td>25</td>\n",
       "      <td>11</td>\n",
       "      <td>14</td>\n",
       "      <td>37</td>\n",
       "      <td>4</td>\n",
       "      <td>3</td>\n",
       "    </tr>\n",
       "    <tr>\n",
       "      <th>1</th>\n",
       "      <td>1</td>\n",
       "      <td>AAADGEPLHNEEERAGAGQVGRSLPQESEEQRTGSRPRRRRDLGSR...</td>\n",
       "      <td>7.0</td>\n",
       "      <td>50.5</td>\n",
       "      <td>1</td>\n",
       "      <td>28</td>\n",
       "      <td>0</td>\n",
       "      <td>10</td>\n",
       "      <td>52</td>\n",
       "      <td>6</td>\n",
       "      <td>...</td>\n",
       "      <td>2</td>\n",
       "      <td>6</td>\n",
       "      <td>8</td>\n",
       "      <td>22</td>\n",
       "      <td>30</td>\n",
       "      <td>14</td>\n",
       "      <td>12</td>\n",
       "      <td>13</td>\n",
       "      <td>3</td>\n",
       "      <td>3</td>\n",
       "    </tr>\n",
       "    <tr>\n",
       "      <th>2</th>\n",
       "      <td>2</td>\n",
       "      <td>AAAFSTPRATSYRILSSAGSGSTRADAPQVRRLHTTRDLLAKDYYA...</td>\n",
       "      <td>7.0</td>\n",
       "      <td>40.5</td>\n",
       "      <td>2</td>\n",
       "      <td>50</td>\n",
       "      <td>9</td>\n",
       "      <td>27</td>\n",
       "      <td>32</td>\n",
       "      <td>21</td>\n",
       "      <td>...</td>\n",
       "      <td>6</td>\n",
       "      <td>15</td>\n",
       "      <td>20</td>\n",
       "      <td>25</td>\n",
       "      <td>31</td>\n",
       "      <td>33</td>\n",
       "      <td>30</td>\n",
       "      <td>30</td>\n",
       "      <td>3</td>\n",
       "      <td>16</td>\n",
       "    </tr>\n",
       "    <tr>\n",
       "      <th>3</th>\n",
       "      <td>3</td>\n",
       "      <td>AAASGLRTAIPAQPLRHLLQPAPRPCLRPFGLLSVRAGSARRSGLL...</td>\n",
       "      <td>7.0</td>\n",
       "      <td>47.2</td>\n",
       "      <td>3</td>\n",
       "      <td>20</td>\n",
       "      <td>5</td>\n",
       "      <td>19</td>\n",
       "      <td>29</td>\n",
       "      <td>12</td>\n",
       "      <td>...</td>\n",
       "      <td>2</td>\n",
       "      <td>9</td>\n",
       "      <td>16</td>\n",
       "      <td>9</td>\n",
       "      <td>10</td>\n",
       "      <td>16</td>\n",
       "      <td>19</td>\n",
       "      <td>14</td>\n",
       "      <td>3</td>\n",
       "      <td>4</td>\n",
       "    </tr>\n",
       "    <tr>\n",
       "      <th>4</th>\n",
       "      <td>5</td>\n",
       "      <td>AACFWRRTVIPKPPFRGISTTSARSTVMPAWVIDKYGKNEVLRFTQ...</td>\n",
       "      <td>7.0</td>\n",
       "      <td>48.4</td>\n",
       "      <td>4</td>\n",
       "      <td>33</td>\n",
       "      <td>4</td>\n",
       "      <td>16</td>\n",
       "      <td>19</td>\n",
       "      <td>16</td>\n",
       "      <td>...</td>\n",
       "      <td>11</td>\n",
       "      <td>13</td>\n",
       "      <td>19</td>\n",
       "      <td>8</td>\n",
       "      <td>16</td>\n",
       "      <td>22</td>\n",
       "      <td>25</td>\n",
       "      <td>41</td>\n",
       "      <td>10</td>\n",
       "      <td>9</td>\n",
       "    </tr>\n",
       "    <tr>\n",
       "      <th>...</th>\n",
       "      <td>...</td>\n",
       "      <td>...</td>\n",
       "      <td>...</td>\n",
       "      <td>...</td>\n",
       "      <td>...</td>\n",
       "      <td>...</td>\n",
       "      <td>...</td>\n",
       "      <td>...</td>\n",
       "      <td>...</td>\n",
       "      <td>...</td>\n",
       "      <td>...</td>\n",
       "      <td>...</td>\n",
       "      <td>...</td>\n",
       "      <td>...</td>\n",
       "      <td>...</td>\n",
       "      <td>...</td>\n",
       "      <td>...</td>\n",
       "      <td>...</td>\n",
       "      <td>...</td>\n",
       "      <td>...</td>\n",
       "      <td>...</td>\n",
       "    </tr>\n",
       "    <tr>\n",
       "      <th>25172</th>\n",
       "      <td>31385</td>\n",
       "      <td>YYMYSGGGSALAAGGGGAGRKGDWNDIDSIKKKDLHHSRGDEKAQG...</td>\n",
       "      <td>7.0</td>\n",
       "      <td>51.8</td>\n",
       "      <td>21788</td>\n",
       "      <td>33</td>\n",
       "      <td>12</td>\n",
       "      <td>38</td>\n",
       "      <td>31</td>\n",
       "      <td>18</td>\n",
       "      <td>...</td>\n",
       "      <td>13</td>\n",
       "      <td>24</td>\n",
       "      <td>25</td>\n",
       "      <td>24</td>\n",
       "      <td>42</td>\n",
       "      <td>33</td>\n",
       "      <td>18</td>\n",
       "      <td>42</td>\n",
       "      <td>13</td>\n",
       "      <td>18</td>\n",
       "    </tr>\n",
       "    <tr>\n",
       "      <th>25173</th>\n",
       "      <td>31386</td>\n",
       "      <td>YYNDQHRLSSYSVETAMFLSWERAIVKPGAMFKKAVIGFNCNVDLI...</td>\n",
       "      <td>7.0</td>\n",
       "      <td>37.2</td>\n",
       "      <td>21789</td>\n",
       "      <td>37</td>\n",
       "      <td>5</td>\n",
       "      <td>21</td>\n",
       "      <td>29</td>\n",
       "      <td>22</td>\n",
       "      <td>...</td>\n",
       "      <td>14</td>\n",
       "      <td>19</td>\n",
       "      <td>19</td>\n",
       "      <td>16</td>\n",
       "      <td>25</td>\n",
       "      <td>37</td>\n",
       "      <td>26</td>\n",
       "      <td>34</td>\n",
       "      <td>5</td>\n",
       "      <td>14</td>\n",
       "    </tr>\n",
       "    <tr>\n",
       "      <th>25174</th>\n",
       "      <td>31387</td>\n",
       "      <td>YYQRTLGAELLYKISFGEMPKSAQDSAENCPSGMQFPDTAIAHANV...</td>\n",
       "      <td>7.0</td>\n",
       "      <td>64.6</td>\n",
       "      <td>21790</td>\n",
       "      <td>13</td>\n",
       "      <td>1</td>\n",
       "      <td>7</td>\n",
       "      <td>7</td>\n",
       "      <td>7</td>\n",
       "      <td>...</td>\n",
       "      <td>7</td>\n",
       "      <td>5</td>\n",
       "      <td>6</td>\n",
       "      <td>8</td>\n",
       "      <td>3</td>\n",
       "      <td>10</td>\n",
       "      <td>6</td>\n",
       "      <td>7</td>\n",
       "      <td>4</td>\n",
       "      <td>4</td>\n",
       "    </tr>\n",
       "    <tr>\n",
       "      <th>25175</th>\n",
       "      <td>31388</td>\n",
       "      <td>YYSFSDNITTVFLSRQAIDDDHSLSLGTISDVVESENGVVAADDAR...</td>\n",
       "      <td>7.0</td>\n",
       "      <td>50.7</td>\n",
       "      <td>21791</td>\n",
       "      <td>47</td>\n",
       "      <td>5</td>\n",
       "      <td>34</td>\n",
       "      <td>36</td>\n",
       "      <td>23</td>\n",
       "      <td>...</td>\n",
       "      <td>26</td>\n",
       "      <td>25</td>\n",
       "      <td>31</td>\n",
       "      <td>12</td>\n",
       "      <td>25</td>\n",
       "      <td>51</td>\n",
       "      <td>32</td>\n",
       "      <td>48</td>\n",
       "      <td>3</td>\n",
       "      <td>18</td>\n",
       "    </tr>\n",
       "    <tr>\n",
       "      <th>25176</th>\n",
       "      <td>31389</td>\n",
       "      <td>YYVPDEYWQSLEVAHKLTFGYGYLTWEWVQGIRSYVYPLLIAGLYK...</td>\n",
       "      <td>7.0</td>\n",
       "      <td>37.6</td>\n",
       "      <td>21792</td>\n",
       "      <td>34</td>\n",
       "      <td>5</td>\n",
       "      <td>15</td>\n",
       "      <td>32</td>\n",
       "      <td>26</td>\n",
       "      <td>...</td>\n",
       "      <td>7</td>\n",
       "      <td>20</td>\n",
       "      <td>31</td>\n",
       "      <td>18</td>\n",
       "      <td>28</td>\n",
       "      <td>34</td>\n",
       "      <td>29</td>\n",
       "      <td>38</td>\n",
       "      <td>18</td>\n",
       "      <td>29</td>\n",
       "    </tr>\n",
       "  </tbody>\n",
       "</table>\n",
       "<p>25177 rows × 25 columns</p>\n",
       "</div>"
      ],
      "text/plain": [
       "       seq_id                                   protein_sequence   pH    tm  \\\n",
       "0           0  AAAAKAAALALLGEAPEVVDIWLPAGWRQPFRVFRLERKGDGVLVG...  7.0  75.7   \n",
       "1           1  AAADGEPLHNEEERAGAGQVGRSLPQESEEQRTGSRPRRRRDLGSR...  7.0  50.5   \n",
       "2           2  AAAFSTPRATSYRILSSAGSGSTRADAPQVRRLHTTRDLLAKDYYA...  7.0  40.5   \n",
       "3           3  AAASGLRTAIPAQPLRHLLQPAPRPCLRPFGLLSVRAGSARRSGLL...  7.0  47.2   \n",
       "4           5  AACFWRRTVIPKPPFRGISTTSARSTVMPAWVIDKYGKNEVLRFTQ...  7.0  48.4   \n",
       "...       ...                                                ...  ...   ...   \n",
       "25172   31385  YYMYSGGGSALAAGGGGAGRKGDWNDIDSIKKKDLHHSRGDEKAQG...  7.0  51.8   \n",
       "25173   31386  YYNDQHRLSSYSVETAMFLSWERAIVKPGAMFKKAVIGFNCNVDLI...  7.0  37.2   \n",
       "25174   31387  YYQRTLGAELLYKISFGEMPKSAQDSAENCPSGMQFPDTAIAHANV...  7.0  64.6   \n",
       "25175   31388  YYSFSDNITTVFLSRQAIDDDHSLSLGTISDVVESENGVVAADDAR...  7.0  50.7   \n",
       "25176   31389  YYVPDEYWQSLEVAHKLTFGYGYLTWEWVQGIRSYVYPLLIAGLYK...  7.0  37.6   \n",
       "\n",
       "       groupe   A   C   D   E   F  ...   M   N   P   Q   R   S   T   V   W   Y  \n",
       "0           0  45   1  13  30  13  ...   8   5  18   6  25  11  14  37   4   3  \n",
       "1           1  28   0  10  52   6  ...   2   6   8  22  30  14  12  13   3   3  \n",
       "2           2  50   9  27  32  21  ...   6  15  20  25  31  33  30  30   3  16  \n",
       "3           3  20   5  19  29  12  ...   2   9  16   9  10  16  19  14   3   4  \n",
       "4           4  33   4  16  19  16  ...  11  13  19   8  16  22  25  41  10   9  \n",
       "...       ...  ..  ..  ..  ..  ..  ...  ..  ..  ..  ..  ..  ..  ..  ..  ..  ..  \n",
       "25172   21788  33  12  38  31  18  ...  13  24  25  24  42  33  18  42  13  18  \n",
       "25173   21789  37   5  21  29  22  ...  14  19  19  16  25  37  26  34   5  14  \n",
       "25174   21790  13   1   7   7   7  ...   7   5   6   8   3  10   6   7   4   4  \n",
       "25175   21791  47   5  34  36  23  ...  26  25  31  12  25  51  32  48   3  18  \n",
       "25176   21792  34   5  15  32  26  ...   7  20  31  18  28  34  29  38  18  29  \n",
       "\n",
       "[25177 rows x 25 columns]"
      ]
     },
     "execution_count": 3,
     "metadata": {},
     "output_type": "execute_result"
    }
   ],
   "source": [
    "train1"
   ]
  },
  {
   "cell_type": "code",
   "execution_count": 4,
   "id": "ff6b1210",
   "metadata": {},
   "outputs": [
    {
     "data": {
      "text/html": [
       "<div>\n",
       "<style scoped>\n",
       "    .dataframe tbody tr th:only-of-type {\n",
       "        vertical-align: middle;\n",
       "    }\n",
       "\n",
       "    .dataframe tbody tr th {\n",
       "        vertical-align: top;\n",
       "    }\n",
       "\n",
       "    .dataframe thead th {\n",
       "        text-align: right;\n",
       "    }\n",
       "</style>\n",
       "<table border=\"1\" class=\"dataframe\">\n",
       "  <thead>\n",
       "    <tr style=\"text-align: right;\">\n",
       "      <th></th>\n",
       "      <th>0</th>\n",
       "      <th>1</th>\n",
       "      <th>2</th>\n",
       "      <th>3</th>\n",
       "      <th>4</th>\n",
       "      <th>5</th>\n",
       "      <th>6</th>\n",
       "      <th>7</th>\n",
       "      <th>8</th>\n",
       "      <th>9</th>\n",
       "      <th>...</th>\n",
       "      <th>990</th>\n",
       "      <th>991</th>\n",
       "      <th>992</th>\n",
       "      <th>993</th>\n",
       "      <th>994</th>\n",
       "      <th>995</th>\n",
       "      <th>996</th>\n",
       "      <th>997</th>\n",
       "      <th>998</th>\n",
       "      <th>pH</th>\n",
       "    </tr>\n",
       "  </thead>\n",
       "  <tbody>\n",
       "    <tr>\n",
       "      <th>0</th>\n",
       "      <td>1</td>\n",
       "      <td>1</td>\n",
       "      <td>1</td>\n",
       "      <td>1</td>\n",
       "      <td>9</td>\n",
       "      <td>1</td>\n",
       "      <td>1</td>\n",
       "      <td>1</td>\n",
       "      <td>10</td>\n",
       "      <td>1</td>\n",
       "      <td>...</td>\n",
       "      <td>0</td>\n",
       "      <td>0</td>\n",
       "      <td>0</td>\n",
       "      <td>0</td>\n",
       "      <td>0</td>\n",
       "      <td>0</td>\n",
       "      <td>0</td>\n",
       "      <td>0</td>\n",
       "      <td>0</td>\n",
       "      <td>7.0</td>\n",
       "    </tr>\n",
       "    <tr>\n",
       "      <th>1</th>\n",
       "      <td>1</td>\n",
       "      <td>1</td>\n",
       "      <td>1</td>\n",
       "      <td>3</td>\n",
       "      <td>6</td>\n",
       "      <td>4</td>\n",
       "      <td>13</td>\n",
       "      <td>10</td>\n",
       "      <td>7</td>\n",
       "      <td>12</td>\n",
       "      <td>...</td>\n",
       "      <td>0</td>\n",
       "      <td>0</td>\n",
       "      <td>0</td>\n",
       "      <td>0</td>\n",
       "      <td>0</td>\n",
       "      <td>0</td>\n",
       "      <td>0</td>\n",
       "      <td>0</td>\n",
       "      <td>0</td>\n",
       "      <td>7.0</td>\n",
       "    </tr>\n",
       "    <tr>\n",
       "      <th>2</th>\n",
       "      <td>1</td>\n",
       "      <td>1</td>\n",
       "      <td>1</td>\n",
       "      <td>5</td>\n",
       "      <td>16</td>\n",
       "      <td>17</td>\n",
       "      <td>13</td>\n",
       "      <td>15</td>\n",
       "      <td>1</td>\n",
       "      <td>17</td>\n",
       "      <td>...</td>\n",
       "      <td>0</td>\n",
       "      <td>0</td>\n",
       "      <td>0</td>\n",
       "      <td>0</td>\n",
       "      <td>0</td>\n",
       "      <td>0</td>\n",
       "      <td>0</td>\n",
       "      <td>0</td>\n",
       "      <td>0</td>\n",
       "      <td>7.0</td>\n",
       "    </tr>\n",
       "    <tr>\n",
       "      <th>3</th>\n",
       "      <td>1</td>\n",
       "      <td>1</td>\n",
       "      <td>1</td>\n",
       "      <td>16</td>\n",
       "      <td>6</td>\n",
       "      <td>10</td>\n",
       "      <td>15</td>\n",
       "      <td>17</td>\n",
       "      <td>1</td>\n",
       "      <td>8</td>\n",
       "      <td>...</td>\n",
       "      <td>0</td>\n",
       "      <td>0</td>\n",
       "      <td>0</td>\n",
       "      <td>0</td>\n",
       "      <td>0</td>\n",
       "      <td>0</td>\n",
       "      <td>0</td>\n",
       "      <td>0</td>\n",
       "      <td>0</td>\n",
       "      <td>7.0</td>\n",
       "    </tr>\n",
       "    <tr>\n",
       "      <th>4</th>\n",
       "      <td>1</td>\n",
       "      <td>1</td>\n",
       "      <td>2</td>\n",
       "      <td>5</td>\n",
       "      <td>19</td>\n",
       "      <td>15</td>\n",
       "      <td>15</td>\n",
       "      <td>17</td>\n",
       "      <td>18</td>\n",
       "      <td>8</td>\n",
       "      <td>...</td>\n",
       "      <td>0</td>\n",
       "      <td>0</td>\n",
       "      <td>0</td>\n",
       "      <td>0</td>\n",
       "      <td>0</td>\n",
       "      <td>0</td>\n",
       "      <td>0</td>\n",
       "      <td>0</td>\n",
       "      <td>0</td>\n",
       "      <td>7.0</td>\n",
       "    </tr>\n",
       "    <tr>\n",
       "      <th>...</th>\n",
       "      <td>...</td>\n",
       "      <td>...</td>\n",
       "      <td>...</td>\n",
       "      <td>...</td>\n",
       "      <td>...</td>\n",
       "      <td>...</td>\n",
       "      <td>...</td>\n",
       "      <td>...</td>\n",
       "      <td>...</td>\n",
       "      <td>...</td>\n",
       "      <td>...</td>\n",
       "      <td>...</td>\n",
       "      <td>...</td>\n",
       "      <td>...</td>\n",
       "      <td>...</td>\n",
       "      <td>...</td>\n",
       "      <td>...</td>\n",
       "      <td>...</td>\n",
       "      <td>...</td>\n",
       "      <td>...</td>\n",
       "      <td>...</td>\n",
       "    </tr>\n",
       "    <tr>\n",
       "      <th>25172</th>\n",
       "      <td>20</td>\n",
       "      <td>20</td>\n",
       "      <td>11</td>\n",
       "      <td>20</td>\n",
       "      <td>16</td>\n",
       "      <td>6</td>\n",
       "      <td>6</td>\n",
       "      <td>6</td>\n",
       "      <td>16</td>\n",
       "      <td>1</td>\n",
       "      <td>...</td>\n",
       "      <td>0</td>\n",
       "      <td>0</td>\n",
       "      <td>0</td>\n",
       "      <td>0</td>\n",
       "      <td>0</td>\n",
       "      <td>0</td>\n",
       "      <td>0</td>\n",
       "      <td>0</td>\n",
       "      <td>0</td>\n",
       "      <td>7.0</td>\n",
       "    </tr>\n",
       "    <tr>\n",
       "      <th>25173</th>\n",
       "      <td>20</td>\n",
       "      <td>20</td>\n",
       "      <td>12</td>\n",
       "      <td>3</td>\n",
       "      <td>14</td>\n",
       "      <td>7</td>\n",
       "      <td>15</td>\n",
       "      <td>10</td>\n",
       "      <td>16</td>\n",
       "      <td>16</td>\n",
       "      <td>...</td>\n",
       "      <td>0</td>\n",
       "      <td>0</td>\n",
       "      <td>0</td>\n",
       "      <td>0</td>\n",
       "      <td>0</td>\n",
       "      <td>0</td>\n",
       "      <td>0</td>\n",
       "      <td>0</td>\n",
       "      <td>0</td>\n",
       "      <td>7.0</td>\n",
       "    </tr>\n",
       "    <tr>\n",
       "      <th>25174</th>\n",
       "      <td>20</td>\n",
       "      <td>20</td>\n",
       "      <td>14</td>\n",
       "      <td>15</td>\n",
       "      <td>17</td>\n",
       "      <td>10</td>\n",
       "      <td>6</td>\n",
       "      <td>1</td>\n",
       "      <td>4</td>\n",
       "      <td>10</td>\n",
       "      <td>...</td>\n",
       "      <td>0</td>\n",
       "      <td>0</td>\n",
       "      <td>0</td>\n",
       "      <td>0</td>\n",
       "      <td>0</td>\n",
       "      <td>0</td>\n",
       "      <td>0</td>\n",
       "      <td>0</td>\n",
       "      <td>0</td>\n",
       "      <td>7.0</td>\n",
       "    </tr>\n",
       "    <tr>\n",
       "      <th>25175</th>\n",
       "      <td>20</td>\n",
       "      <td>20</td>\n",
       "      <td>16</td>\n",
       "      <td>5</td>\n",
       "      <td>16</td>\n",
       "      <td>3</td>\n",
       "      <td>12</td>\n",
       "      <td>8</td>\n",
       "      <td>17</td>\n",
       "      <td>17</td>\n",
       "      <td>...</td>\n",
       "      <td>0</td>\n",
       "      <td>0</td>\n",
       "      <td>0</td>\n",
       "      <td>0</td>\n",
       "      <td>0</td>\n",
       "      <td>0</td>\n",
       "      <td>0</td>\n",
       "      <td>0</td>\n",
       "      <td>0</td>\n",
       "      <td>7.0</td>\n",
       "    </tr>\n",
       "    <tr>\n",
       "      <th>25176</th>\n",
       "      <td>20</td>\n",
       "      <td>20</td>\n",
       "      <td>18</td>\n",
       "      <td>13</td>\n",
       "      <td>3</td>\n",
       "      <td>4</td>\n",
       "      <td>20</td>\n",
       "      <td>19</td>\n",
       "      <td>14</td>\n",
       "      <td>16</td>\n",
       "      <td>...</td>\n",
       "      <td>0</td>\n",
       "      <td>0</td>\n",
       "      <td>0</td>\n",
       "      <td>0</td>\n",
       "      <td>0</td>\n",
       "      <td>0</td>\n",
       "      <td>0</td>\n",
       "      <td>0</td>\n",
       "      <td>0</td>\n",
       "      <td>7.0</td>\n",
       "    </tr>\n",
       "  </tbody>\n",
       "</table>\n",
       "<p>25177 rows × 1000 columns</p>\n",
       "</div>"
      ],
      "text/plain": [
       "        0   1   2   3   4   5   6   7   8   9  ...  990  991  992  993  994  \\\n",
       "0       1   1   1   1   9   1   1   1  10   1  ...    0    0    0    0    0   \n",
       "1       1   1   1   3   6   4  13  10   7  12  ...    0    0    0    0    0   \n",
       "2       1   1   1   5  16  17  13  15   1  17  ...    0    0    0    0    0   \n",
       "3       1   1   1  16   6  10  15  17   1   8  ...    0    0    0    0    0   \n",
       "4       1   1   2   5  19  15  15  17  18   8  ...    0    0    0    0    0   \n",
       "...    ..  ..  ..  ..  ..  ..  ..  ..  ..  ..  ...  ...  ...  ...  ...  ...   \n",
       "25172  20  20  11  20  16   6   6   6  16   1  ...    0    0    0    0    0   \n",
       "25173  20  20  12   3  14   7  15  10  16  16  ...    0    0    0    0    0   \n",
       "25174  20  20  14  15  17  10   6   1   4  10  ...    0    0    0    0    0   \n",
       "25175  20  20  16   5  16   3  12   8  17  17  ...    0    0    0    0    0   \n",
       "25176  20  20  18  13   3   4  20  19  14  16  ...    0    0    0    0    0   \n",
       "\n",
       "       995  996  997  998   pH  \n",
       "0        0    0    0    0  7.0  \n",
       "1        0    0    0    0  7.0  \n",
       "2        0    0    0    0  7.0  \n",
       "3        0    0    0    0  7.0  \n",
       "4        0    0    0    0  7.0  \n",
       "...    ...  ...  ...  ...  ...  \n",
       "25172    0    0    0    0  7.0  \n",
       "25173    0    0    0    0  7.0  \n",
       "25174    0    0    0    0  7.0  \n",
       "25175    0    0    0    0  7.0  \n",
       "25176    0    0    0    0  7.0  \n",
       "\n",
       "[25177 rows x 1000 columns]"
      ]
     },
     "execution_count": 4,
     "metadata": {},
     "output_type": "execute_result"
    }
   ],
   "source": [
    "train2"
   ]
  },
  {
   "cell_type": "code",
   "execution_count": 5,
   "id": "be4e1b19",
   "metadata": {},
   "outputs": [],
   "source": [
    "X1 = train1.drop(['seq_id', 'protein_sequence', 'tm'], axis=1).values\n",
    "X1_ss_grp = train1.drop(['seq_id', 'protein_sequence', 'tm', 'groupe'], axis=1).values\n",
    "X2 = train2.values\n",
    "y = train1['tm'].values"
   ]
  },
  {
   "cell_type": "markdown",
   "id": "f7fb6cc3",
   "metadata": {},
   "source": [
    "Nous testerons l'influence de la variable 'groupe' dans la première approche."
   ]
  },
  {
   "cell_type": "markdown",
   "id": "100238ae",
   "metadata": {},
   "source": [
    "# Train1 avec la variable 'groupe'"
   ]
  },
  {
   "cell_type": "code",
   "execution_count": 6,
   "id": "58ce5ee5",
   "metadata": {},
   "outputs": [],
   "source": [
    "X_train, X_test, y_train, y_test = train_test_split(X1, y, random_state=21, train_size=0.7, shuffle=True)"
   ]
  },
  {
   "cell_type": "markdown",
   "id": "a2d71b3e",
   "metadata": {},
   "source": [
    "## Preprocessing"
   ]
  },
  {
   "cell_type": "code",
   "execution_count": 7,
   "id": "803a3d13",
   "metadata": {},
   "outputs": [],
   "source": [
    "std = StandardScaler()\n",
    "\n",
    "std.fit(X_train)\n",
    "\n",
    "X_train_std = std.transform(X_train)\n",
    "X_test_std = std.transform(X_test)"
   ]
  },
  {
   "cell_type": "markdown",
   "id": "c222897a",
   "metadata": {},
   "source": [
    "## Dummy regressor"
   ]
  },
  {
   "cell_type": "markdown",
   "id": "fe66576b",
   "metadata": {},
   "source": [
    "Dans cette section nous allons tester deux approches naïves qui nous servirons de référence pour évaluer les performances des prochains models."
   ]
  },
  {
   "cell_type": "code",
   "execution_count": 8,
   "id": "e20f1070",
   "metadata": {},
   "outputs": [],
   "source": [
    "model = dummy.DummyRegressor(strategy='mean')"
   ]
  },
  {
   "cell_type": "code",
   "execution_count": 9,
   "id": "abf75510",
   "metadata": {},
   "outputs": [
    {
     "data": {
      "text/html": [
       "<style>#sk-container-id-1 {color: black;background-color: white;}#sk-container-id-1 pre{padding: 0;}#sk-container-id-1 div.sk-toggleable {background-color: white;}#sk-container-id-1 label.sk-toggleable__label {cursor: pointer;display: block;width: 100%;margin-bottom: 0;padding: 0.3em;box-sizing: border-box;text-align: center;}#sk-container-id-1 label.sk-toggleable__label-arrow:before {content: \"▸\";float: left;margin-right: 0.25em;color: #696969;}#sk-container-id-1 label.sk-toggleable__label-arrow:hover:before {color: black;}#sk-container-id-1 div.sk-estimator:hover label.sk-toggleable__label-arrow:before {color: black;}#sk-container-id-1 div.sk-toggleable__content {max-height: 0;max-width: 0;overflow: hidden;text-align: left;background-color: #f0f8ff;}#sk-container-id-1 div.sk-toggleable__content pre {margin: 0.2em;color: black;border-radius: 0.25em;background-color: #f0f8ff;}#sk-container-id-1 input.sk-toggleable__control:checked~div.sk-toggleable__content {max-height: 200px;max-width: 100%;overflow: auto;}#sk-container-id-1 input.sk-toggleable__control:checked~label.sk-toggleable__label-arrow:before {content: \"▾\";}#sk-container-id-1 div.sk-estimator input.sk-toggleable__control:checked~label.sk-toggleable__label {background-color: #d4ebff;}#sk-container-id-1 div.sk-label input.sk-toggleable__control:checked~label.sk-toggleable__label {background-color: #d4ebff;}#sk-container-id-1 input.sk-hidden--visually {border: 0;clip: rect(1px 1px 1px 1px);clip: rect(1px, 1px, 1px, 1px);height: 1px;margin: -1px;overflow: hidden;padding: 0;position: absolute;width: 1px;}#sk-container-id-1 div.sk-estimator {font-family: monospace;background-color: #f0f8ff;border: 1px dotted black;border-radius: 0.25em;box-sizing: border-box;margin-bottom: 0.5em;}#sk-container-id-1 div.sk-estimator:hover {background-color: #d4ebff;}#sk-container-id-1 div.sk-parallel-item::after {content: \"\";width: 100%;border-bottom: 1px solid gray;flex-grow: 1;}#sk-container-id-1 div.sk-label:hover label.sk-toggleable__label {background-color: #d4ebff;}#sk-container-id-1 div.sk-serial::before {content: \"\";position: absolute;border-left: 1px solid gray;box-sizing: border-box;top: 0;bottom: 0;left: 50%;z-index: 0;}#sk-container-id-1 div.sk-serial {display: flex;flex-direction: column;align-items: center;background-color: white;padding-right: 0.2em;padding-left: 0.2em;position: relative;}#sk-container-id-1 div.sk-item {position: relative;z-index: 1;}#sk-container-id-1 div.sk-parallel {display: flex;align-items: stretch;justify-content: center;background-color: white;position: relative;}#sk-container-id-1 div.sk-item::before, #sk-container-id-1 div.sk-parallel-item::before {content: \"\";position: absolute;border-left: 1px solid gray;box-sizing: border-box;top: 0;bottom: 0;left: 50%;z-index: -1;}#sk-container-id-1 div.sk-parallel-item {display: flex;flex-direction: column;z-index: 1;position: relative;background-color: white;}#sk-container-id-1 div.sk-parallel-item:first-child::after {align-self: flex-end;width: 50%;}#sk-container-id-1 div.sk-parallel-item:last-child::after {align-self: flex-start;width: 50%;}#sk-container-id-1 div.sk-parallel-item:only-child::after {width: 0;}#sk-container-id-1 div.sk-dashed-wrapped {border: 1px dashed gray;margin: 0 0.4em 0.5em 0.4em;box-sizing: border-box;padding-bottom: 0.4em;background-color: white;}#sk-container-id-1 div.sk-label label {font-family: monospace;font-weight: bold;display: inline-block;line-height: 1.2em;}#sk-container-id-1 div.sk-label-container {text-align: center;}#sk-container-id-1 div.sk-container {/* jupyter's `normalize.less` sets `[hidden] { display: none; }` but bootstrap.min.css set `[hidden] { display: none !important; }` so we also need the `!important` here to be able to override the default hidden behavior on the sphinx rendered scikit-learn.org. See: https://github.com/scikit-learn/scikit-learn/issues/21755 */display: inline-block !important;position: relative;}#sk-container-id-1 div.sk-text-repr-fallback {display: none;}</style><div id=\"sk-container-id-1\" class=\"sk-top-container\"><div class=\"sk-text-repr-fallback\"><pre>DummyRegressor()</pre><b>In a Jupyter environment, please rerun this cell to show the HTML representation or trust the notebook. <br />On GitHub, the HTML representation is unable to render, please try loading this page with nbviewer.org.</b></div><div class=\"sk-container\" hidden><div class=\"sk-item\"><div class=\"sk-estimator sk-toggleable\"><input class=\"sk-toggleable__control sk-hidden--visually\" id=\"sk-estimator-id-1\" type=\"checkbox\" checked><label for=\"sk-estimator-id-1\" class=\"sk-toggleable__label sk-toggleable__label-arrow\">DummyRegressor</label><div class=\"sk-toggleable__content\"><pre>DummyRegressor()</pre></div></div></div></div></div>"
      ],
      "text/plain": [
       "DummyRegressor()"
      ]
     },
     "execution_count": 9,
     "metadata": {},
     "output_type": "execute_result"
    }
   ],
   "source": [
    "model.fit(X_train_std, y_train)"
   ]
  },
  {
   "cell_type": "code",
   "execution_count": 10,
   "id": "f616b45d",
   "metadata": {},
   "outputs": [
    {
     "data": {
      "text/plain": [
       "8.855098499714646"
      ]
     },
     "execution_count": 10,
     "metadata": {},
     "output_type": "execute_result"
    }
   ],
   "source": [
    "y_pred = model.predict(X_test_std)\n",
    "metrics.mean_absolute_error(y_test, y_pred)"
   ]
  },
  {
   "cell_type": "code",
   "execution_count": 11,
   "id": "7a715329",
   "metadata": {},
   "outputs": [],
   "source": [
    "model = dummy.DummyRegressor(strategy='median')"
   ]
  },
  {
   "cell_type": "code",
   "execution_count": 12,
   "id": "90905279",
   "metadata": {},
   "outputs": [
    {
     "data": {
      "text/html": [
       "<style>#sk-container-id-2 {color: black;background-color: white;}#sk-container-id-2 pre{padding: 0;}#sk-container-id-2 div.sk-toggleable {background-color: white;}#sk-container-id-2 label.sk-toggleable__label {cursor: pointer;display: block;width: 100%;margin-bottom: 0;padding: 0.3em;box-sizing: border-box;text-align: center;}#sk-container-id-2 label.sk-toggleable__label-arrow:before {content: \"▸\";float: left;margin-right: 0.25em;color: #696969;}#sk-container-id-2 label.sk-toggleable__label-arrow:hover:before {color: black;}#sk-container-id-2 div.sk-estimator:hover label.sk-toggleable__label-arrow:before {color: black;}#sk-container-id-2 div.sk-toggleable__content {max-height: 0;max-width: 0;overflow: hidden;text-align: left;background-color: #f0f8ff;}#sk-container-id-2 div.sk-toggleable__content pre {margin: 0.2em;color: black;border-radius: 0.25em;background-color: #f0f8ff;}#sk-container-id-2 input.sk-toggleable__control:checked~div.sk-toggleable__content {max-height: 200px;max-width: 100%;overflow: auto;}#sk-container-id-2 input.sk-toggleable__control:checked~label.sk-toggleable__label-arrow:before {content: \"▾\";}#sk-container-id-2 div.sk-estimator input.sk-toggleable__control:checked~label.sk-toggleable__label {background-color: #d4ebff;}#sk-container-id-2 div.sk-label input.sk-toggleable__control:checked~label.sk-toggleable__label {background-color: #d4ebff;}#sk-container-id-2 input.sk-hidden--visually {border: 0;clip: rect(1px 1px 1px 1px);clip: rect(1px, 1px, 1px, 1px);height: 1px;margin: -1px;overflow: hidden;padding: 0;position: absolute;width: 1px;}#sk-container-id-2 div.sk-estimator {font-family: monospace;background-color: #f0f8ff;border: 1px dotted black;border-radius: 0.25em;box-sizing: border-box;margin-bottom: 0.5em;}#sk-container-id-2 div.sk-estimator:hover {background-color: #d4ebff;}#sk-container-id-2 div.sk-parallel-item::after {content: \"\";width: 100%;border-bottom: 1px solid gray;flex-grow: 1;}#sk-container-id-2 div.sk-label:hover label.sk-toggleable__label {background-color: #d4ebff;}#sk-container-id-2 div.sk-serial::before {content: \"\";position: absolute;border-left: 1px solid gray;box-sizing: border-box;top: 0;bottom: 0;left: 50%;z-index: 0;}#sk-container-id-2 div.sk-serial {display: flex;flex-direction: column;align-items: center;background-color: white;padding-right: 0.2em;padding-left: 0.2em;position: relative;}#sk-container-id-2 div.sk-item {position: relative;z-index: 1;}#sk-container-id-2 div.sk-parallel {display: flex;align-items: stretch;justify-content: center;background-color: white;position: relative;}#sk-container-id-2 div.sk-item::before, #sk-container-id-2 div.sk-parallel-item::before {content: \"\";position: absolute;border-left: 1px solid gray;box-sizing: border-box;top: 0;bottom: 0;left: 50%;z-index: -1;}#sk-container-id-2 div.sk-parallel-item {display: flex;flex-direction: column;z-index: 1;position: relative;background-color: white;}#sk-container-id-2 div.sk-parallel-item:first-child::after {align-self: flex-end;width: 50%;}#sk-container-id-2 div.sk-parallel-item:last-child::after {align-self: flex-start;width: 50%;}#sk-container-id-2 div.sk-parallel-item:only-child::after {width: 0;}#sk-container-id-2 div.sk-dashed-wrapped {border: 1px dashed gray;margin: 0 0.4em 0.5em 0.4em;box-sizing: border-box;padding-bottom: 0.4em;background-color: white;}#sk-container-id-2 div.sk-label label {font-family: monospace;font-weight: bold;display: inline-block;line-height: 1.2em;}#sk-container-id-2 div.sk-label-container {text-align: center;}#sk-container-id-2 div.sk-container {/* jupyter's `normalize.less` sets `[hidden] { display: none; }` but bootstrap.min.css set `[hidden] { display: none !important; }` so we also need the `!important` here to be able to override the default hidden behavior on the sphinx rendered scikit-learn.org. See: https://github.com/scikit-learn/scikit-learn/issues/21755 */display: inline-block !important;position: relative;}#sk-container-id-2 div.sk-text-repr-fallback {display: none;}</style><div id=\"sk-container-id-2\" class=\"sk-top-container\"><div class=\"sk-text-repr-fallback\"><pre>DummyRegressor(strategy=&#x27;median&#x27;)</pre><b>In a Jupyter environment, please rerun this cell to show the HTML representation or trust the notebook. <br />On GitHub, the HTML representation is unable to render, please try loading this page with nbviewer.org.</b></div><div class=\"sk-container\" hidden><div class=\"sk-item\"><div class=\"sk-estimator sk-toggleable\"><input class=\"sk-toggleable__control sk-hidden--visually\" id=\"sk-estimator-id-2\" type=\"checkbox\" checked><label for=\"sk-estimator-id-2\" class=\"sk-toggleable__label sk-toggleable__label-arrow\">DummyRegressor</label><div class=\"sk-toggleable__content\"><pre>DummyRegressor(strategy=&#x27;median&#x27;)</pre></div></div></div></div></div>"
      ],
      "text/plain": [
       "DummyRegressor(strategy='median')"
      ]
     },
     "execution_count": 12,
     "metadata": {},
     "output_type": "execute_result"
    }
   ],
   "source": [
    "model.fit(X_train_std, y_train)"
   ]
  },
  {
   "cell_type": "code",
   "execution_count": 13,
   "id": "d99dc3c1",
   "metadata": {},
   "outputs": [
    {
     "data": {
      "text/plain": [
       "8.466706380725444"
      ]
     },
     "execution_count": 13,
     "metadata": {},
     "output_type": "execute_result"
    }
   ],
   "source": [
    "y_pred = model.predict(X_test_std)\n",
    "metrics.mean_absolute_error(y_test, y_pred)"
   ]
  },
  {
   "cell_type": "markdown",
   "id": "412bfa74",
   "metadata": {},
   "source": [
    "On pourrait aussi utiliser le r2_score, mais le choix de la valeur absolue de l'erreur est pertinent puisqu'on prédit une température et que l'on peut comprendre facilement ce qu'est un écart de 8 degrés."
   ]
  },
  {
   "cell_type": "code",
   "execution_count": 14,
   "id": "de7fd1b6",
   "metadata": {},
   "outputs": [
    {
     "data": {
      "text/plain": [
       "-0.04997271922533386"
      ]
     },
     "execution_count": 14,
     "metadata": {},
     "output_type": "execute_result"
    }
   ],
   "source": [
    "metrics.r2_score(y_test, y_pred)"
   ]
  },
  {
   "cell_type": "markdown",
   "id": "4c93f09c",
   "metadata": {},
   "source": [
    "Nous allons maintenant tester des models plus développés. "
   ]
  },
  {
   "cell_type": "markdown",
   "id": "f2f73c2a",
   "metadata": {},
   "source": [
    "## Gradient boosting avecXGboost"
   ]
  },
  {
   "cell_type": "markdown",
   "id": "e97ffe59",
   "metadata": {},
   "source": [
    "Nous allons effectuer une optimisation des hyperparamètres à l'aide du module optuna."
   ]
  },
  {
   "cell_type": "code",
   "execution_count": 15,
   "id": "9c51f542",
   "metadata": {},
   "outputs": [],
   "source": [
    "def objective(trial):\n",
    "    param = {\n",
    "        'max_depth': trial.suggest_int('max_depth', 1, 10),\n",
    "        'learning_rate': trial.suggest_float('learning_rate', 0.01, 1.0),\n",
    "        'n_estimators': trial.suggest_int('n_estimators', 50, 1000),\n",
    "        'min_child_weight': trial.suggest_int('min_child_weight', 1, 10),\n",
    "        'gamma': trial.suggest_float('gamma', 0.01, 1.0),\n",
    "        'subsample': trial.suggest_float('subsample', 0.01, 1.0),\n",
    "        'colsample_bytree': trial.suggest_float('colsample_bytree', 0.01, 1.0),\n",
    "        'reg_alpha': trial.suggest_float('reg_alpha', 0.01, 1.0),\n",
    "        'reg_lambda': trial.suggest_float('reg_lambda', 0.01, 1.0),\n",
    "        'random_state': trial.suggest_int('random_state', 1, 1000)\n",
    "    }\n",
    "    model = xgb.XGBRegressor(**param)\n",
    "    model.fit(X_train_std, y_train)\n",
    "    y_pred = model.predict(X_test_std)\n",
    "    return metrics.mean_absolute_error(y_test, y_pred)"
   ]
  },
  {
   "cell_type": "code",
   "execution_count": 16,
   "id": "948d0b84",
   "metadata": {},
   "outputs": [
    {
     "name": "stderr",
     "output_type": "stream",
     "text": [
      "\u001b[32m[I 2022-10-23 09:26:55,361]\u001b[0m A new study created in memory with name: regression_1\u001b[0m\n"
     ]
    }
   ],
   "source": [
    "study_1 = optuna.create_study(direction='minimize', study_name='regression_1')"
   ]
  },
  {
   "cell_type": "code",
   "execution_count": 17,
   "id": "b880c542",
   "metadata": {
    "scrolled": true
   },
   "outputs": [
    {
     "name": "stderr",
     "output_type": "stream",
     "text": [
      "\u001b[32m[I 2022-10-23 09:26:57,300]\u001b[0m Trial 0 finished with value: 7.122426505893003 and parameters: {'max_depth': 2, 'learning_rate': 0.8245591464899703, 'n_estimators': 68, 'min_child_weight': 5, 'gamma': 0.7484428220783965, 'subsample': 0.4584800319968957, 'colsample_bytree': 0.6054279037926931, 'reg_alpha': 0.5193865553572158, 'reg_lambda': 0.025125395916782554, 'random_state': 408}. Best is trial 0 with value: 7.122426505893003.\u001b[0m\n",
      "\u001b[32m[I 2022-10-23 09:26:58,136]\u001b[0m Trial 1 finished with value: 9.769644966663934 and parameters: {'max_depth': 7, 'learning_rate': 0.3810976741632804, 'n_estimators': 373, 'min_child_weight': 10, 'gamma': 0.6449870216488266, 'subsample': 0.19755904516936992, 'colsample_bytree': 0.5507996789445156, 'reg_alpha': 0.614349493998441, 'reg_lambda': 0.6983600278054649, 'random_state': 802}. Best is trial 0 with value: 7.122426505893003.\u001b[0m\n",
      "\u001b[32m[I 2022-10-23 09:26:59,127]\u001b[0m Trial 2 finished with value: 6.759346920818382 and parameters: {'max_depth': 7, 'learning_rate': 0.27951653461414827, 'n_estimators': 348, 'min_child_weight': 8, 'gamma': 0.8879784090948413, 'subsample': 0.4655969285752599, 'colsample_bytree': 0.38447254624695987, 'reg_alpha': 0.6246021895232278, 'reg_lambda': 0.8360790381159912, 'random_state': 89}. Best is trial 2 with value: 6.759346920818382.\u001b[0m\n",
      "\u001b[32m[I 2022-10-23 09:26:59,256]\u001b[0m Trial 3 finished with value: 7.570019923223526 and parameters: {'max_depth': 1, 'learning_rate': 0.4989443043202083, 'n_estimators': 126, 'min_child_weight': 2, 'gamma': 0.563674045007363, 'subsample': 0.47645979102527003, 'colsample_bytree': 0.8981346796893612, 'reg_alpha': 0.5496650820823329, 'reg_lambda': 0.29551929485866985, 'random_state': 382}. Best is trial 2 with value: 6.759346920818382.\u001b[0m\n",
      "\u001b[32m[I 2022-10-23 09:27:00,926]\u001b[0m Trial 4 finished with value: 20.888962614849536 and parameters: {'max_depth': 10, 'learning_rate': 0.7178699437913766, 'n_estimators': 368, 'min_child_weight': 9, 'gamma': 0.1513105360176865, 'subsample': 0.33566749659492795, 'colsample_bytree': 0.9872707321918719, 'reg_alpha': 0.30831738400559694, 'reg_lambda': 0.5825011505555453, 'random_state': 397}. Best is trial 2 with value: 6.759346920818382.\u001b[0m\n",
      "\u001b[32m[I 2022-10-23 09:27:01,573]\u001b[0m Trial 5 finished with value: 7.46594792594031 and parameters: {'max_depth': 1, 'learning_rate': 0.9550237182245179, 'n_estimators': 781, 'min_child_weight': 1, 'gamma': 0.16191599804228982, 'subsample': 0.6633677254613557, 'colsample_bytree': 0.08851837314040252, 'reg_alpha': 0.33093530228724155, 'reg_lambda': 0.7067406771028732, 'random_state': 85}. Best is trial 2 with value: 6.759346920818382.\u001b[0m\n",
      "\u001b[32m[I 2022-10-23 09:27:02,960]\u001b[0m Trial 6 finished with value: 9.548941157739693 and parameters: {'max_depth': 7, 'learning_rate': 0.4862518895977204, 'n_estimators': 455, 'min_child_weight': 1, 'gamma': 0.33589602594986023, 'subsample': 0.32441255226016635, 'colsample_bytree': 0.7300153655392512, 'reg_alpha': 0.38342347413561556, 'reg_lambda': 0.8405008267377451, 'random_state': 574}. Best is trial 2 with value: 6.759346920818382.\u001b[0m\n",
      "\u001b[32m[I 2022-10-23 09:27:03,343]\u001b[0m Trial 7 finished with value: 7.4404522606706 and parameters: {'max_depth': 1, 'learning_rate': 0.8267206548466776, 'n_estimators': 378, 'min_child_weight': 10, 'gamma': 0.015203889156912571, 'subsample': 0.7848155985694046, 'colsample_bytree': 0.6393877763181399, 'reg_alpha': 0.7161529905265229, 'reg_lambda': 0.3242709330612788, 'random_state': 555}. Best is trial 2 with value: 6.759346920818382.\u001b[0m\n",
      "\u001b[32m[I 2022-10-23 09:27:03,647]\u001b[0m Trial 8 finished with value: 6.658303226413379 and parameters: {'max_depth': 2, 'learning_rate': 0.2705438776305516, 'n_estimators': 239, 'min_child_weight': 6, 'gamma': 0.9567885532682063, 'subsample': 0.6445494817423213, 'colsample_bytree': 0.38040793884241153, 'reg_alpha': 0.31564383812804847, 'reg_lambda': 0.8660085069666668, 'random_state': 617}. Best is trial 8 with value: 6.658303226413379.\u001b[0m\n",
      "\u001b[32m[I 2022-10-23 09:27:06,163]\u001b[0m Trial 9 finished with value: 6.738074740449493 and parameters: {'max_depth': 8, 'learning_rate': 0.4564766808028632, 'n_estimators': 730, 'min_child_weight': 10, 'gamma': 0.8559342510343427, 'subsample': 0.9402244834408963, 'colsample_bytree': 0.4545132898993001, 'reg_alpha': 0.8395572189215773, 'reg_lambda': 0.8584323740478331, 'random_state': 821}. Best is trial 8 with value: 6.658303226413379.\u001b[0m\n",
      "\u001b[32m[I 2022-10-23 09:27:07,148]\u001b[0m Trial 10 finished with value: 7.353119302597632 and parameters: {'max_depth': 4, 'learning_rate': 0.09210754245833741, 'n_estimators': 966, 'min_child_weight': 6, 'gamma': 0.41115054049821387, 'subsample': 0.024189440341395696, 'colsample_bytree': 0.21190456614584344, 'reg_alpha': 0.07215140375042123, 'reg_lambda': 0.965203346149462, 'random_state': 954}. Best is trial 8 with value: 6.658303226413379.\u001b[0m\n",
      "\u001b[32m[I 2022-10-23 09:27:09,877]\u001b[0m Trial 11 finished with value: 6.1280920453383425 and parameters: {'max_depth': 10, 'learning_rate': 0.1959687966321011, 'n_estimators': 670, 'min_child_weight': 6, 'gamma': 0.9931484786285929, 'subsample': 0.9960422869770718, 'colsample_bytree': 0.35650605070378205, 'reg_alpha': 0.9770148248781365, 'reg_lambda': 0.9845345387934404, 'random_state': 757}. Best is trial 11 with value: 6.1280920453383425.\u001b[0m\n",
      "\u001b[32m[I 2022-10-23 09:27:11,023]\u001b[0m Trial 12 finished with value: 6.476761233304775 and parameters: {'max_depth': 4, 'learning_rate': 0.01860694620795522, 'n_estimators': 653, 'min_child_weight': 5, 'gamma': 0.9515336683650052, 'subsample': 0.9955310308662466, 'colsample_bytree': 0.2928521294981591, 'reg_alpha': 0.9458291615847004, 'reg_lambda': 0.996616977742532, 'random_state': 699}. Best is trial 11 with value: 6.1280920453383425.\u001b[0m\n",
      "\u001b[32m[I 2022-10-23 09:27:12,107]\u001b[0m Trial 13 finished with value: 6.498118058442754 and parameters: {'max_depth': 4, 'learning_rate': 0.019976601371422514, 'n_estimators': 666, 'min_child_weight': 4, 'gamma': 0.9880635911534936, 'subsample': 0.9863598492904433, 'colsample_bytree': 0.24207269425078531, 'reg_alpha': 0.9838031908781477, 'reg_lambda': 0.4430556671821356, 'random_state': 740}. Best is trial 11 with value: 6.1280920453383425.\u001b[0m\n",
      "\u001b[32m[I 2022-10-23 09:27:14,561]\u001b[0m Trial 14 finished with value: 6.246266907461426 and parameters: {'max_depth': 10, 'learning_rate': 0.14945342950718798, 'n_estimators': 632, 'min_child_weight': 4, 'gamma': 0.7870421249679123, 'subsample': 0.8848112201069939, 'colsample_bytree': 0.2574004579091618, 'reg_alpha': 0.9946702291940747, 'reg_lambda': 0.9490464343860213, 'random_state': 935}. Best is trial 11 with value: 6.1280920453383425.\u001b[0m\n",
      "\u001b[32m[I 2022-10-23 09:27:16,237]\u001b[0m Trial 15 finished with value: 6.910803305626168 and parameters: {'max_depth': 10, 'learning_rate': 0.1811708431526659, 'n_estimators': 569, 'min_child_weight': 3, 'gamma': 0.761564783689578, 'subsample': 0.8242635660117257, 'colsample_bytree': 0.09994106875938391, 'reg_alpha': 0.820626003925224, 'reg_lambda': 0.6790267301015434, 'random_state': 999}. Best is trial 11 with value: 6.1280920453383425.\u001b[0m\n",
      "\u001b[32m[I 2022-10-23 09:27:17,942]\u001b[0m Trial 16 finished with value: 7.5272541805648086 and parameters: {'max_depth': 9, 'learning_rate': 0.23048915345680998, 'n_estimators': 878, 'min_child_weight': 7, 'gamma': 0.7436463358248361, 'subsample': 0.8277979377103111, 'colsample_bytree': 0.011409194397234257, 'reg_alpha': 0.8423806831225285, 'reg_lambda': 0.9984912400532889, 'random_state': 891}. Best is trial 11 with value: 6.1280920453383425.\u001b[0m\n",
      "\u001b[32m[I 2022-10-23 09:27:19,927]\u001b[0m Trial 17 finished with value: 8.43013764652336 and parameters: {'max_depth': 9, 'learning_rate': 0.6106906562028721, 'n_estimators': 545, 'min_child_weight': 4, 'gamma': 0.6178463657268497, 'subsample': 0.6821493623330513, 'colsample_bytree': 0.30892373341149787, 'reg_alpha': 0.9798900763022895, 'reg_lambda': 0.014443747159338605, 'random_state': 880}. Best is trial 11 with value: 6.1280920453383425.\u001b[0m\n",
      "\u001b[32m[I 2022-10-23 09:27:21,530]\u001b[0m Trial 18 finished with value: 6.2854270602774935 and parameters: {'max_depth': 6, 'learning_rate': 0.15035596871003867, 'n_estimators': 831, 'min_child_weight': 7, 'gamma': 0.8533763435690334, 'subsample': 0.8787147687145328, 'colsample_bytree': 0.15455126808756162, 'reg_alpha': 0.7434115769232552, 'reg_lambda': 0.5501505137935716, 'random_state': 248}. Best is trial 11 with value: 6.1280920453383425.\u001b[0m\n"
     ]
    },
    {
     "name": "stderr",
     "output_type": "stream",
     "text": [
      "\u001b[32m[I 2022-10-23 09:27:24,167]\u001b[0m Trial 19 finished with value: 6.759063457350646 and parameters: {'max_depth': 9, 'learning_rate': 0.3555694118244557, 'n_estimators': 618, 'min_child_weight': 3, 'gamma': 0.6854336217716138, 'subsample': 0.736944207925353, 'colsample_bytree': 0.4614797678404057, 'reg_alpha': 0.16666592841630323, 'reg_lambda': 0.7548497142485082, 'random_state': 670}. Best is trial 11 with value: 6.1280920453383425.\u001b[0m\n",
      "\u001b[32m[I 2022-10-23 09:27:26,806]\u001b[0m Trial 20 finished with value: 6.970125552463506 and parameters: {'max_depth': 10, 'learning_rate': 0.36639071828218384, 'n_estimators': 491, 'min_child_weight': 4, 'gamma': 0.47908542695604683, 'subsample': 0.5920456913428997, 'colsample_bytree': 0.7534128510137188, 'reg_alpha': 0.908430311776941, 'reg_lambda': 0.1499709593681029, 'random_state': 781}. Best is trial 11 with value: 6.1280920453383425.\u001b[0m\n",
      "\u001b[32m[I 2022-10-23 09:27:28,410]\u001b[0m Trial 21 finished with value: 6.272236476905263 and parameters: {'max_depth': 6, 'learning_rate': 0.15682612431613407, 'n_estimators': 827, 'min_child_weight': 7, 'gamma': 0.862111976325035, 'subsample': 0.9052783555712465, 'colsample_bytree': 0.15672442884093968, 'reg_alpha': 0.7404076547251088, 'reg_lambda': 0.5750105538864874, 'random_state': 237}. Best is trial 11 with value: 6.1280920453383425.\u001b[0m\n",
      "\u001b[32m[I 2022-10-23 09:27:29,943]\u001b[0m Trial 22 finished with value: 6.139505165974741 and parameters: {'max_depth': 5, 'learning_rate': 0.11618702803969441, 'n_estimators': 946, 'min_child_weight': 7, 'gamma': 0.8176305961313496, 'subsample': 0.8934281562044559, 'colsample_bytree': 0.16408738667952283, 'reg_alpha': 0.7330250892830082, 'reg_lambda': 0.4210739420341295, 'random_state': 217}. Best is trial 11 with value: 6.1280920453383425.\u001b[0m\n",
      "\u001b[32m[I 2022-10-23 09:27:31,992]\u001b[0m Trial 23 finished with value: 5.993864300783141 and parameters: {'max_depth': 5, 'learning_rate': 0.11739407848435943, 'n_estimators': 983, 'min_child_weight': 8, 'gamma': 0.8330363975325016, 'subsample': 0.8813719191782988, 'colsample_bytree': 0.3483226134648227, 'reg_alpha': 0.8614360080898708, 'reg_lambda': 0.4693486887138284, 'random_state': 236}. Best is trial 23 with value: 5.993864300783141.\u001b[0m\n",
      "\u001b[32m[I 2022-10-23 09:27:34,049]\u001b[0m Trial 24 finished with value: 6.013141098406254 and parameters: {'max_depth': 5, 'learning_rate': 0.05416865109633498, 'n_estimators': 945, 'min_child_weight': 8, 'gamma': 0.986751720010488, 'subsample': 0.7541887709894959, 'colsample_bytree': 0.39382017669022606, 'reg_alpha': 0.8648136681706081, 'reg_lambda': 0.47301951502075146, 'random_state': 264}. Best is trial 23 with value: 5.993864300783141.\u001b[0m\n",
      "\u001b[32m[I 2022-10-23 09:27:36,220]\u001b[0m Trial 25 finished with value: 5.969084159956112 and parameters: {'max_depth': 5, 'learning_rate': 0.0570820002305614, 'n_estimators': 996, 'min_child_weight': 8, 'gamma': 0.9806121328578761, 'subsample': 0.7552167476797702, 'colsample_bytree': 0.3789254213427198, 'reg_alpha': 0.8751986675873494, 'reg_lambda': 0.3242123863323989, 'random_state': 1}. Best is trial 25 with value: 5.969084159956112.\u001b[0m\n",
      "\u001b[32m[I 2022-10-23 09:27:38,409]\u001b[0m Trial 26 finished with value: 5.993918180528822 and parameters: {'max_depth': 5, 'learning_rate': 0.05810581396109757, 'n_estimators': 985, 'min_child_weight': 8, 'gamma': 0.9122277219795508, 'subsample': 0.5738586881546213, 'colsample_bytree': 0.4868465475856306, 'reg_alpha': 0.8724786207881964, 'reg_lambda': 0.27521159100552084, 'random_state': 15}. Best is trial 25 with value: 5.969084159956112.\u001b[0m\n",
      "\u001b[32m[I 2022-10-23 09:27:39,812]\u001b[0m Trial 27 finished with value: 6.234393798367575 and parameters: {'max_depth': 3, 'learning_rate': 0.08676294154570637, 'n_estimators': 877, 'min_child_weight': 9, 'gamma': 0.8874183847034731, 'subsample': 0.5972522039137338, 'colsample_bytree': 0.4888963853681306, 'reg_alpha': 0.6222739811537201, 'reg_lambda': 0.2778816460173128, 'random_state': 18}. Best is trial 25 with value: 5.969084159956112.\u001b[0m\n",
      "\u001b[32m[I 2022-10-23 09:27:42,161]\u001b[0m Trial 28 finished with value: 6.627688029155171 and parameters: {'max_depth': 5, 'learning_rate': 0.2847610230408727, 'n_estimators': 1000, 'min_child_weight': 8, 'gamma': 0.7177060574038941, 'subsample': 0.5612678729606271, 'colsample_bytree': 0.5584850386367908, 'reg_alpha': 0.7874431990498072, 'reg_lambda': 0.18665295541365534, 'random_state': 15}. Best is trial 25 with value: 5.969084159956112.\u001b[0m\n",
      "\u001b[32m[I 2022-10-23 09:27:43,535]\u001b[0m Trial 29 finished with value: 6.459201054046606 and parameters: {'max_depth': 3, 'learning_rate': 0.024095284236930817, 'n_estimators': 892, 'min_child_weight': 9, 'gamma': 0.9132688285792403, 'subsample': 0.36920174911692005, 'colsample_bytree': 0.6454765324144622, 'reg_alpha': 0.9048881545254307, 'reg_lambda': 0.36578085880840755, 'random_state': 131}. Best is trial 25 with value: 5.969084159956112.\u001b[0m\n",
      "\u001b[32m[I 2022-10-23 09:27:45,643]\u001b[0m Trial 30 finished with value: 6.451564456989186 and parameters: {'max_depth': 6, 'learning_rate': 0.22355806451555876, 'n_estimators': 756, 'min_child_weight': 8, 'gamma': 0.8099756151582875, 'subsample': 0.527497077118852, 'colsample_bytree': 0.5470889753398372, 'reg_alpha': 0.5420920633233368, 'reg_lambda': 0.19297231328231448, 'random_state': 170}. Best is trial 25 with value: 5.969084159956112.\u001b[0m\n",
      "\u001b[32m[I 2022-10-23 09:27:47,733]\u001b[0m Trial 31 finished with value: 5.954017800908572 and parameters: {'max_depth': 5, 'learning_rate': 0.07457475599143973, 'n_estimators': 940, 'min_child_weight': 8, 'gamma': 0.9413411421726986, 'subsample': 0.7369286014542451, 'colsample_bytree': 0.44111044768284113, 'reg_alpha': 0.8865023839864544, 'reg_lambda': 0.4742850165170342, 'random_state': 354}. Best is trial 31 with value: 5.954017800908572.\u001b[0m\n",
      "\u001b[32m[I 2022-10-23 09:27:49,961]\u001b[0m Trial 32 finished with value: 6.0166195163216765 and parameters: {'max_depth': 5, 'learning_rate': 0.09240277336500259, 'n_estimators': 992, 'min_child_weight': 9, 'gamma': 0.9223177469043843, 'subsample': 0.7158206656740758, 'colsample_bytree': 0.42596579313331995, 'reg_alpha': 0.6582490691197576, 'reg_lambda': 0.3752733695356336, 'random_state': 321}. Best is trial 31 with value: 5.954017800908572.\u001b[0m\n",
      "\u001b[32m[I 2022-10-23 09:27:51,327]\u001b[0m Trial 33 finished with value: 6.274369705812243 and parameters: {'max_depth': 3, 'learning_rate': 0.09116208197095575, 'n_estimators': 913, 'min_child_weight': 8, 'gamma': 0.6775498270950914, 'subsample': 0.8092576009449407, 'colsample_bytree': 0.3170274397610103, 'reg_alpha': 0.8940997503542705, 'reg_lambda': 0.09620369753967828, 'random_state': 327}. Best is trial 31 with value: 5.954017800908572.\u001b[0m\n",
      "\u001b[32m[I 2022-10-23 09:27:52,797]\u001b[0m Trial 34 finished with value: 6.837587481401003 and parameters: {'max_depth': 4, 'learning_rate': 0.3193652220199349, 'n_estimators': 832, 'min_child_weight': 9, 'gamma': 0.596037588639465, 'subsample': 0.3965420772887236, 'colsample_bytree': 0.525745786573527, 'reg_alpha': 0.4653791996214098, 'reg_lambda': 0.2565028671670049, 'random_state': 472}. Best is trial 31 with value: 5.954017800908572.\u001b[0m\n",
      "\u001b[32m[I 2022-10-23 09:27:55,918]\u001b[0m Trial 35 finished with value: 6.393370163058805 and parameters: {'max_depth': 7, 'learning_rate': 0.23549807895389246, 'n_estimators': 894, 'min_child_weight': 7, 'gamma': 0.9214983519781526, 'subsample': 0.6931541731780893, 'colsample_bytree': 0.5914913496376575, 'reg_alpha': 0.6788055964058363, 'reg_lambda': 0.5239746480784315, 'random_state': 79}. Best is trial 31 with value: 5.954017800908572.\u001b[0m\n",
      "\u001b[32m[I 2022-10-23 09:27:58,980]\u001b[0m Trial 36 finished with value: 7.074735032865096 and parameters: {'max_depth': 6, 'learning_rate': 0.4135626945231813, 'n_estimators': 995, 'min_child_weight': 8, 'gamma': 0.8213807772101163, 'subsample': 0.6377166721903852, 'colsample_bytree': 0.7010503004072863, 'reg_alpha': 0.7896390236842108, 'reg_lambda': 0.37361126809763, 'random_state': 469}. Best is trial 31 with value: 5.954017800908572.\u001b[0m\n",
      "\u001b[32m[I 2022-10-23 09:27:59,225]\u001b[0m Trial 37 finished with value: 7.373749813719152 and parameters: {'max_depth': 7, 'learning_rate': 0.5730711068468141, 'n_estimators': 69, 'min_child_weight': 9, 'gamma': 0.8881970220905993, 'subsample': 0.4380024514066797, 'colsample_bytree': 0.8163511329163113, 'reg_alpha': 0.9222425580975, 'reg_lambda': 0.6336867470560759, 'random_state': 163}. Best is trial 31 with value: 5.954017800908572.\u001b[0m\n"
     ]
    },
    {
     "name": "stderr",
     "output_type": "stream",
     "text": [
      "\u001b[32m[I 2022-10-23 09:28:00,925]\u001b[0m Trial 38 finished with value: 6.309901950180704 and parameters: {'max_depth': 5, 'learning_rate': 0.011584518806212238, 'n_estimators': 808, 'min_child_weight': 10, 'gamma': 0.2827119000334587, 'subsample': 0.7740377091994879, 'colsample_bytree': 0.34865140735794, 'reg_alpha': 0.796926923443009, 'reg_lambda': 0.4881731861995804, 'random_state': 55}. Best is trial 31 with value: 5.954017800908572.\u001b[0m\n",
      "\u001b[32m[I 2022-10-23 09:28:01,897]\u001b[0m Trial 39 finished with value: 6.582895632827916 and parameters: {'max_depth': 2, 'learning_rate': 0.11657515174001518, 'n_estimators': 944, 'min_child_weight': 8, 'gamma': 0.5400902719707052, 'subsample': 0.2390757020279486, 'colsample_bytree': 0.424498364111248, 'reg_alpha': 0.4911417538848277, 'reg_lambda': 0.3221982651757528, 'random_state': 336}. Best is trial 31 with value: 5.954017800908572.\u001b[0m\n",
      "\u001b[32m[I 2022-10-23 09:28:02,335]\u001b[0m Trial 40 finished with value: 8.668470271447363 and parameters: {'max_depth': 4, 'learning_rate': 0.9957754780068093, 'n_estimators': 219, 'min_child_weight': 6, 'gamma': 0.9352508057623674, 'subsample': 0.5123787023195638, 'colsample_bytree': 0.4871694873453367, 'reg_alpha': 0.8690470825827162, 'reg_lambda': 0.22943830466402682, 'random_state': 129}. Best is trial 31 with value: 5.954017800908572.\u001b[0m\n",
      "\u001b[32m[I 2022-10-23 09:28:04,408]\u001b[0m Trial 41 finished with value: 5.994513714259853 and parameters: {'max_depth': 5, 'learning_rate': 0.04764322522704012, 'n_estimators': 933, 'min_child_weight': 8, 'gamma': 0.9556914054975121, 'subsample': 0.7509177982018329, 'colsample_bytree': 0.42802491185734315, 'reg_alpha': 0.8794686007803282, 'reg_lambda': 0.46112241127736614, 'random_state': 273}. Best is trial 31 with value: 5.954017800908572.\u001b[0m\n",
      "\u001b[32m[I 2022-10-23 09:28:06,849]\u001b[0m Trial 42 finished with value: 5.923849356158688 and parameters: {'max_depth': 6, 'learning_rate': 0.07516875742945993, 'n_estimators': 928, 'min_child_weight': 7, 'gamma': 0.9881140026838655, 'subsample': 0.8502389059203483, 'colsample_bytree': 0.4311620007496908, 'reg_alpha': 0.9362461788513787, 'reg_lambda': 0.42203445863088107, 'random_state': 369}. Best is trial 42 with value: 5.923849356158688.\u001b[0m\n",
      "\u001b[32m[I 2022-10-23 09:28:09,050]\u001b[0m Trial 43 finished with value: 6.0176833009101225 and parameters: {'max_depth': 6, 'learning_rate': 0.1345225656388989, 'n_estimators': 845, 'min_child_weight': 7, 'gamma': 0.9950480732978647, 'subsample': 0.8532545830688949, 'colsample_bytree': 0.3819537274271404, 'reg_alpha': 0.9464291361397019, 'reg_lambda': 0.4066945661211958, 'random_state': 424}. Best is trial 42 with value: 5.923849356158688.\u001b[0m\n",
      "\u001b[32m[I 2022-10-23 09:28:11,418]\u001b[0m Trial 44 finished with value: 8.357307164316174 and parameters: {'max_depth': 7, 'learning_rate': 0.7889623136218469, 'n_estimators': 716, 'min_child_weight': 10, 'gamma': 0.8703980063345318, 'subsample': 0.7934494089836341, 'colsample_bytree': 0.5091972032249228, 'reg_alpha': 0.7727965048949851, 'reg_lambda': 0.33033639309271395, 'random_state': 392}. Best is trial 42 with value: 5.923849356158688.\u001b[0m\n",
      "\u001b[32m[I 2022-10-23 09:28:13,837]\u001b[0m Trial 45 finished with value: 5.892800723594239 and parameters: {'max_depth': 6, 'learning_rate': 0.06558884061241133, 'n_estimators': 775, 'min_child_weight': 7, 'gamma': 0.8352225667869513, 'subsample': 0.920629177054707, 'colsample_bytree': 0.597318032897517, 'reg_alpha': 0.8291468214761402, 'reg_lambda': 0.6076735174274353, 'random_state': 551}. Best is trial 45 with value: 5.892800723594239.\u001b[0m\n",
      "\u001b[32m[I 2022-10-23 09:28:16,968]\u001b[0m Trial 46 finished with value: 6.061603628960999 and parameters: {'max_depth': 8, 'learning_rate': 0.17114448214696104, 'n_estimators': 782, 'min_child_weight': 5, 'gamma': 0.8337216911434632, 'subsample': 0.9312442016243971, 'colsample_bytree': 0.5764453348702226, 'reg_alpha': 0.59053396537933, 'reg_lambda': 0.6276744517877701, 'random_state': 573}. Best is trial 45 with value: 5.892800723594239.\u001b[0m\n",
      "\u001b[32m[I 2022-10-23 09:28:19,214]\u001b[0m Trial 47 finished with value: 6.372784367976189 and parameters: {'max_depth': 7, 'learning_rate': 0.2621452053905998, 'n_estimators': 874, 'min_child_weight': 6, 'gamma': 0.7704064970380352, 'subsample': 0.9675912310962472, 'colsample_bytree': 0.2505151689837745, 'reg_alpha': 0.6959220572703725, 'reg_lambda': 0.5201566085216641, 'random_state': 519}. Best is trial 45 with value: 5.892800723594239.\u001b[0m\n",
      "\u001b[32m[I 2022-10-23 09:28:20,836]\u001b[0m Trial 48 finished with value: 6.0901396693582415 and parameters: {'max_depth': 4, 'learning_rate': 0.18606670716006557, 'n_estimators': 717, 'min_child_weight': 7, 'gamma': 0.9549140242229301, 'subsample': 0.928245321784178, 'colsample_bytree': 0.6506790997489285, 'reg_alpha': 0.8344480113567567, 'reg_lambda': 0.7629690860857289, 'random_state': 363}. Best is trial 45 with value: 5.892800723594239.\u001b[0m\n",
      "\u001b[32m[I 2022-10-23 09:28:23,852]\u001b[0m Trial 49 finished with value: 5.929103365467124 and parameters: {'max_depth': 8, 'learning_rate': 0.07481889228681222, 'n_estimators': 920, 'min_child_weight': 6, 'gamma': 0.7172722194509323, 'subsample': 0.8452420105223086, 'colsample_bytree': 0.3426888295898065, 'reg_alpha': 0.9322737353402408, 'reg_lambda': 0.588489446455701, 'random_state': 420}. Best is trial 45 with value: 5.892800723594239.\u001b[0m\n",
      "\u001b[32m[I 2022-10-23 09:28:24,965]\u001b[0m Trial 50 finished with value: 6.085871910436588 and parameters: {'max_depth': 8, 'learning_rate': 0.058223770563235425, 'n_estimators': 419, 'min_child_weight': 6, 'gamma': 0.7144784059123765, 'subsample': 0.8475910382336386, 'colsample_bytree': 0.20932139785496703, 'reg_alpha': 0.9543484525186854, 'reg_lambda': 0.6146196768515414, 'random_state': 637}. Best is trial 45 with value: 5.892800723594239.\u001b[0m\n",
      "\u001b[32m[I 2022-10-23 09:28:27,167]\u001b[0m Trial 51 finished with value: 6.020100733045235 and parameters: {'max_depth': 6, 'learning_rate': 0.1115853474137618, 'n_estimators': 918, 'min_child_weight': 7, 'gamma': 0.7947734358516316, 'subsample': 0.8505499569038004, 'colsample_bytree': 0.33375876744534344, 'reg_alpha': 0.929489684012234, 'reg_lambda': 0.66919373753562, 'random_state': 438}. Best is trial 45 with value: 5.892800723594239.\u001b[0m\n",
      "\u001b[32m[I 2022-10-23 09:28:29,348]\u001b[0m Trial 52 finished with value: 5.971411589020801 and parameters: {'max_depth': 6, 'learning_rate': 0.05988074813162597, 'n_estimators': 958, 'min_child_weight': 6, 'gamma': 0.9986880493694887, 'subsample': 0.9446296235355095, 'colsample_bytree': 0.28363784831479405, 'reg_alpha': 0.83747491680851, 'reg_lambda': 0.5617619408236382, 'random_state': 510}. Best is trial 45 with value: 5.892800723594239.\u001b[0m\n",
      "\u001b[32m[I 2022-10-23 09:28:31,731]\u001b[0m Trial 53 finished with value: 5.9244468129940495 and parameters: {'max_depth': 8, 'learning_rate': 0.06236471418861658, 'n_estimators': 791, 'min_child_weight': 6, 'gamma': 0.9851617553634477, 'subsample': 0.9535930748927902, 'colsample_bytree': 0.2930173660759037, 'reg_alpha': 0.9974377290970956, 'reg_lambda': 0.562911818424422, 'random_state': 538}. Best is trial 45 with value: 5.892800723594239.\u001b[0m\n",
      "\u001b[32m[I 2022-10-23 09:28:34,557]\u001b[0m Trial 54 finished with value: 6.199717356939621 and parameters: {'max_depth': 8, 'learning_rate': 0.21700382205283347, 'n_estimators': 779, 'min_child_weight': 5, 'gamma': 0.9601315113755678, 'subsample': 0.9616038479939186, 'colsample_bytree': 0.4116144852495935, 'reg_alpha': 0.9953322995269147, 'reg_lambda': 0.5979268680482217, 'random_state': 577}. Best is trial 45 with value: 5.892800723594239.\u001b[0m\n",
      "\u001b[32m[I 2022-10-23 09:28:37,583]\u001b[0m Trial 55 finished with value: 6.153253228064091 and parameters: {'max_depth': 8, 'learning_rate': 0.1543709288449707, 'n_estimators': 848, 'min_child_weight': 6, 'gamma': 0.8899040307330954, 'subsample': 0.8006938245433577, 'colsample_bytree': 0.45174084202859116, 'reg_alpha': 0.9450783375095569, 'reg_lambda': 0.7639439879131298, 'random_state': 611}. Best is trial 45 with value: 5.892800723594239.\u001b[0m\n",
      "\u001b[32m[I 2022-10-23 09:28:41,303]\u001b[0m Trial 56 finished with value: 5.74102572364595 and parameters: {'max_depth': 9, 'learning_rate': 0.017226623628645535, 'n_estimators': 689, 'min_child_weight': 7, 'gamma': 0.9543317896132943, 'subsample': 0.6336307502504213, 'colsample_bytree': 0.9630273713215263, 'reg_alpha': 0.9637889026937709, 'reg_lambda': 0.5300814461897364, 'random_state': 532}. Best is trial 56 with value: 5.74102572364595.\u001b[0m\n"
     ]
    },
    {
     "name": "stderr",
     "output_type": "stream",
     "text": [
      "\u001b[32m[I 2022-10-23 09:28:44,914]\u001b[0m Trial 57 finished with value: 5.773638032181477 and parameters: {'max_depth': 9, 'learning_rate': 0.01419744533255548, 'n_estimators': 694, 'min_child_weight': 5, 'gamma': 0.03427554032259722, 'subsample': 0.6543616341520588, 'colsample_bytree': 0.8329506414614591, 'reg_alpha': 0.9953921769203689, 'reg_lambda': 0.7265740673143424, 'random_state': 537}. Best is trial 56 with value: 5.74102572364595.\u001b[0m\n",
      "\u001b[32m[I 2022-10-23 09:28:48,154]\u001b[0m Trial 58 finished with value: 5.780710543480253 and parameters: {'max_depth': 9, 'learning_rate': 0.01447574683316696, 'n_estimators': 589, 'min_child_weight': 5, 'gamma': 0.13110643097648034, 'subsample': 0.6148488306298897, 'colsample_bytree': 0.9844706463027719, 'reg_alpha': 0.99393737478417, 'reg_lambda': 0.7017121439331812, 'random_state': 550}. Best is trial 56 with value: 5.74102572364595.\u001b[0m\n",
      "\u001b[32m[I 2022-10-23 09:28:51,910]\u001b[0m Trial 59 finished with value: 5.751815480228956 and parameters: {'max_depth': 9, 'learning_rate': 0.016594187427404546, 'n_estimators': 622, 'min_child_weight': 5, 'gamma': 0.04590897284131749, 'subsample': 0.6534085344358147, 'colsample_bytree': 0.9841101511308039, 'reg_alpha': 0.9946302217813154, 'reg_lambda': 0.713353348291966, 'random_state': 539}. Best is trial 56 with value: 5.74102572364595.\u001b[0m\n",
      "\u001b[32m[I 2022-10-23 09:28:55,349]\u001b[0m Trial 60 finished with value: 5.779962826658879 and parameters: {'max_depth': 9, 'learning_rate': 0.014349781014335258, 'n_estimators': 586, 'min_child_weight': 5, 'gamma': 0.08520667229364293, 'subsample': 0.6272444288792118, 'colsample_bytree': 0.9847170086484458, 'reg_alpha': 0.2666474818417881, 'reg_lambda': 0.7176298373478777, 'random_state': 679}. Best is trial 56 with value: 5.74102572364595.\u001b[0m\n",
      "\u001b[32m[I 2022-10-23 09:28:58,745]\u001b[0m Trial 61 finished with value: 5.7604169736503135 and parameters: {'max_depth': 9, 'learning_rate': 0.015863880937491744, 'n_estimators': 600, 'min_child_weight': 5, 'gamma': 0.06955060795837177, 'subsample': 0.6332332354639439, 'colsample_bytree': 0.9734979198331971, 'reg_alpha': 0.030994420055913213, 'reg_lambda': 0.8040503262020509, 'random_state': 717}. Best is trial 56 with value: 5.74102572364595.\u001b[0m\n",
      "\u001b[32m[I 2022-10-23 09:29:02,332]\u001b[0m Trial 62 finished with value: 5.766142631845875 and parameters: {'max_depth': 9, 'learning_rate': 0.031328353832453665, 'n_estimators': 610, 'min_child_weight': 5, 'gamma': 0.012524014790995436, 'subsample': 0.6413317159009089, 'colsample_bytree': 0.9795937705235038, 'reg_alpha': 0.24681068362122066, 'reg_lambda': 0.8065740563829304, 'random_state': 710}. Best is trial 56 with value: 5.74102572364595.\u001b[0m\n",
      "\u001b[32m[I 2022-10-23 09:29:05,738]\u001b[0m Trial 63 finished with value: 5.769960704315646 and parameters: {'max_depth': 9, 'learning_rate': 0.014668932845834102, 'n_estimators': 586, 'min_child_weight': 4, 'gamma': 0.02083688854497454, 'subsample': 0.6338909074565113, 'colsample_bytree': 0.9976344798136975, 'reg_alpha': 0.01072567144342916, 'reg_lambda': 0.9001634145192654, 'random_state': 709}. Best is trial 56 with value: 5.74102572364595.\u001b[0m\n",
      "\u001b[32m[I 2022-10-23 09:29:08,705]\u001b[0m Trial 64 finished with value: 5.766909610161492 and parameters: {'max_depth': 9, 'learning_rate': 0.015488538041805345, 'n_estimators': 509, 'min_child_weight': 3, 'gamma': 0.01824887348358722, 'subsample': 0.6519556727348759, 'colsample_bytree': 0.9497023194431452, 'reg_alpha': 0.036722083182038776, 'reg_lambda': 0.8853056431553211, 'random_state': 679}. Best is trial 56 with value: 5.74102572364595.\u001b[0m\n",
      "\u001b[32m[I 2022-10-23 09:29:12,111]\u001b[0m Trial 65 finished with value: 5.773821915688893 and parameters: {'max_depth': 10, 'learning_rate': 0.037155829682437275, 'n_estimators': 500, 'min_child_weight': 3, 'gamma': 0.010059100025113552, 'subsample': 0.6646441161018511, 'colsample_bytree': 0.9335964288713541, 'reg_alpha': 0.010679167307500674, 'reg_lambda': 0.9066266824421754, 'random_state': 725}. Best is trial 56 with value: 5.74102572364595.\u001b[0m\n",
      "\u001b[32m[I 2022-10-23 09:29:15,798]\u001b[0m Trial 66 finished with value: 6.07456358090765 and parameters: {'max_depth': 9, 'learning_rate': 0.12888303291330824, 'n_estimators': 680, 'min_child_weight': 4, 'gamma': 0.06136362753488185, 'subsample': 0.5626729411522842, 'colsample_bytree': 0.8651070442393125, 'reg_alpha': 0.12182871332795123, 'reg_lambda': 0.8133987534721623, 'random_state': 830}. Best is trial 56 with value: 5.74102572364595.\u001b[0m\n",
      "\u001b[32m[I 2022-10-23 09:29:19,082]\u001b[0m Trial 67 finished with value: 7.969472448239416 and parameters: {'max_depth': 10, 'learning_rate': 0.6655652650733724, 'n_estimators': 532, 'min_child_weight': 3, 'gamma': 0.23192065896193487, 'subsample': 0.6911820481772707, 'colsample_bytree': 0.920737071632739, 'reg_alpha': 0.03415365033248309, 'reg_lambda': 0.9101073794590684, 'random_state': 779}. Best is trial 56 with value: 5.74102572364595.\u001b[0m\n",
      "\u001b[32m[I 2022-10-23 09:29:22,483]\u001b[0m Trial 68 finished with value: 5.793369960658665 and parameters: {'max_depth': 9, 'learning_rate': 0.013419383459899993, 'n_estimators': 632, 'min_child_weight': 4, 'gamma': 0.0580029988174615, 'subsample': 0.5376816188290765, 'colsample_bytree': 0.8752090596851306, 'reg_alpha': 0.16977938935146225, 'reg_lambda': 0.8149250658844498, 'random_state': 649}. Best is trial 56 with value: 5.74102572364595.\u001b[0m\n",
      "\u001b[32m[I 2022-10-23 09:29:25,094]\u001b[0m Trial 69 finished with value: 6.009119376499942 and parameters: {'max_depth': 9, 'learning_rate': 0.0995308393023085, 'n_estimators': 450, 'min_child_weight': 4, 'gamma': 0.11978845946459968, 'subsample': 0.4889898925369651, 'colsample_bytree': 0.9342718164548218, 'reg_alpha': 0.08688547081231066, 'reg_lambda': 0.8757858227922155, 'random_state': 691}. Best is trial 56 with value: 5.74102572364595.\u001b[0m\n",
      "\u001b[32m[I 2022-10-23 09:29:29,116]\u001b[0m Trial 70 finished with value: 9.50408110532743 and parameters: {'max_depth': 10, 'learning_rate': 0.87220879715077, 'n_estimators': 677, 'min_child_weight': 2, 'gamma': 0.17589653301675007, 'subsample': 0.6582447555582321, 'colsample_bytree': 0.8412817560008885, 'reg_alpha': 0.24522304012551566, 'reg_lambda': 0.832613172078928, 'random_state': 605}. Best is trial 56 with value: 5.74102572364595.\u001b[0m\n",
      "\u001b[32m[I 2022-10-23 09:29:32,572]\u001b[0m Trial 71 finished with value: 5.744622983318933 and parameters: {'max_depth': 10, 'learning_rate': 0.04037656950527944, 'n_estimators': 499, 'min_child_weight': 2, 'gamma': 0.02923163367162819, 'subsample': 0.6721892307114091, 'colsample_bytree': 0.9532552518465779, 'reg_alpha': 0.01025354989008381, 'reg_lambda': 0.9306898198861414, 'random_state': 724}. Best is trial 56 with value: 5.74102572364595.\u001b[0m\n",
      "\u001b[32m[I 2022-10-23 09:29:36,049]\u001b[0m Trial 72 finished with value: 5.773522724346537 and parameters: {'max_depth': 9, 'learning_rate': 0.039726912900844805, 'n_estimators': 559, 'min_child_weight': 2, 'gamma': 0.03985942191059956, 'subsample': 0.7165569894385064, 'colsample_bytree': 0.9524490534454757, 'reg_alpha': 0.06363169025544985, 'reg_lambda': 0.9448308186431351, 'random_state': 740}. Best is trial 56 with value: 5.74102572364595.\u001b[0m\n",
      "\u001b[32m[I 2022-10-23 09:29:39,987]\u001b[0m Trial 73 finished with value: 5.761183551710561 and parameters: {'max_depth': 10, 'learning_rate': 0.04199719200399749, 'n_estimators': 565, 'min_child_weight': 2, 'gamma': 0.09108704977268656, 'subsample': 0.7208225434931544, 'colsample_bytree': 0.952541885970552, 'reg_alpha': 0.05996726535979673, 'reg_lambda': 0.9481905336414471, 'random_state': 734}. Best is trial 56 with value: 5.74102572364595.\u001b[0m\n",
      "\u001b[32m[I 2022-10-23 09:29:43,406]\u001b[0m Trial 74 finished with value: 5.965134434325057 and parameters: {'max_depth': 10, 'learning_rate': 0.10040157221823509, 'n_estimators': 504, 'min_child_weight': 2, 'gamma': 0.10351283187307658, 'subsample': 0.5872930164752258, 'colsample_bytree': 0.960379169273341, 'reg_alpha': 0.11889887366414176, 'reg_lambda': 0.9208335848812323, 'random_state': 836}. Best is trial 56 with value: 5.74102572364595.\u001b[0m\n",
      "\u001b[32m[I 2022-10-23 09:29:47,676]\u001b[0m Trial 75 finished with value: 5.748934417393335 and parameters: {'max_depth': 10, 'learning_rate': 0.03581937955994088, 'n_estimators': 605, 'min_child_weight': 1, 'gamma': 0.17515469423719449, 'subsample': 0.7175847864119443, 'colsample_bytree': 0.8979320538694886, 'reg_alpha': 0.39800053188430806, 'reg_lambda': 0.8612244632862037, 'random_state': 792}. Best is trial 56 with value: 5.74102572364595.\u001b[0m\n"
     ]
    },
    {
     "name": "stderr",
     "output_type": "stream",
     "text": [
      "\u001b[32m[I 2022-10-23 09:29:52,083]\u001b[0m Trial 76 finished with value: 6.083506653553158 and parameters: {'max_depth': 10, 'learning_rate': 0.1461523237914532, 'n_estimators': 648, 'min_child_weight': 1, 'gamma': 0.18529074860172923, 'subsample': 0.7085327825627492, 'colsample_bytree': 0.8973391122212583, 'reg_alpha': 0.4269777109314788, 'reg_lambda': 0.7885537276117933, 'random_state': 866}. Best is trial 56 with value: 5.74102572364595.\u001b[0m\n",
      "\u001b[32m[I 2022-10-23 09:29:56,221]\u001b[0m Trial 77 finished with value: 5.782502279061945 and parameters: {'max_depth': 10, 'learning_rate': 0.04124280737614312, 'n_estimators': 612, 'min_child_weight': 1, 'gamma': 0.07946811493856397, 'subsample': 0.6779098450231645, 'colsample_bytree': 0.7849168167037879, 'reg_alpha': 0.3651446044614223, 'reg_lambda': 0.9589766913763924, 'random_state': 790}. Best is trial 56 with value: 5.74102572364595.\u001b[0m\n",
      "\u001b[32m[I 2022-10-23 09:29:59,224]\u001b[0m Trial 78 finished with value: 6.217749764965361 and parameters: {'max_depth': 10, 'learning_rate': 0.19765834919340608, 'n_estimators': 462, 'min_child_weight': 2, 'gamma': 0.3967278698605107, 'subsample': 0.6073921683701105, 'colsample_bytree': 0.9138759322705814, 'reg_alpha': 0.168848320002633, 'reg_lambda': 0.8645111642404455, 'random_state': 759}. Best is trial 56 with value: 5.74102572364595.\u001b[0m\n",
      "\u001b[32m[I 2022-10-23 09:30:02,962]\u001b[0m Trial 79 finished with value: 5.878123705507682 and parameters: {'max_depth': 10, 'learning_rate': 0.09167942254510181, 'n_estimators': 547, 'min_child_weight': 1, 'gamma': 0.20693269040252238, 'subsample': 0.7275206073462814, 'colsample_bytree': 0.8879999474584015, 'reg_alpha': 0.0559687978507021, 'reg_lambda': 0.8420791598241286, 'random_state': 647}. Best is trial 56 with value: 5.74102572364595.\u001b[0m\n",
      "\u001b[32m[I 2022-10-23 09:30:05,289]\u001b[0m Trial 80 finished with value: 5.774475302682341 and parameters: {'max_depth': 9, 'learning_rate': 0.04154745879998504, 'n_estimators': 365, 'min_child_weight': 3, 'gamma': 0.14662844948459391, 'subsample': 0.7720769179453147, 'colsample_bytree': 0.9614335472851779, 'reg_alpha': 0.20783093467126026, 'reg_lambda': 0.8786451428155182, 'random_state': 931}. Best is trial 56 with value: 5.74102572364595.\u001b[0m\n",
      "\u001b[32m[I 2022-10-23 09:30:08,916]\u001b[0m Trial 81 finished with value: 5.998467765638429 and parameters: {'max_depth': 9, 'learning_rate': 0.12169413194309361, 'n_estimators': 597, 'min_child_weight': 2, 'gamma': 0.03246603615822828, 'subsample': 0.6379926264353231, 'colsample_bytree': 0.990555751201254, 'reg_alpha': 0.09805722407326002, 'reg_lambda': 0.9319612813481102, 'random_state': 714}. Best is trial 56 with value: 5.74102572364595.\u001b[0m\n",
      "\u001b[32m[I 2022-10-23 09:30:12,014]\u001b[0m Trial 82 finished with value: 5.7399805929978305 and parameters: {'max_depth': 9, 'learning_rate': 0.033226723789469385, 'n_estimators': 514, 'min_child_weight': 4, 'gamma': 0.10136394343840507, 'subsample': 0.6814264643319046, 'colsample_bytree': 0.9659412501202264, 'reg_alpha': 0.03405733251621044, 'reg_lambda': 0.8893567786226486, 'random_state': 762}. Best is trial 82 with value: 5.7399805929978305.\u001b[0m\n",
      "\u001b[32m[I 2022-10-23 09:30:15,699]\u001b[0m Trial 83 finished with value: 5.732239425261247 and parameters: {'max_depth': 10, 'learning_rate': 0.04094176854479009, 'n_estimators': 477, 'min_child_weight': 3, 'gamma': 0.09492692668978472, 'subsample': 0.6910124590858816, 'colsample_bytree': 0.9511581296150486, 'reg_alpha': 0.04389846902525059, 'reg_lambda': 0.9729096738051212, 'random_state': 811}. Best is trial 83 with value: 5.732239425261247.\u001b[0m\n",
      "\u001b[32m[I 2022-10-23 09:30:18,844]\u001b[0m Trial 84 finished with value: 7.295302842614635 and parameters: {'max_depth': 10, 'learning_rate': 0.551164485217648, 'n_estimators': 474, 'min_child_weight': 1, 'gamma': 0.09247029020304832, 'subsample': 0.695146293434028, 'colsample_bytree': 0.8605718978763218, 'reg_alpha': 0.1391755279382166, 'reg_lambda': 0.9899646909194525, 'random_state': 806}. Best is trial 83 with value: 5.732239425261247.\u001b[0m\n",
      "\u001b[32m[I 2022-10-23 09:30:19,971]\u001b[0m Trial 85 finished with value: 8.067034365861291 and parameters: {'max_depth': 10, 'learning_rate': 0.08327032485462256, 'n_estimators': 412, 'min_child_weight': 4, 'gamma': 0.12382870808060706, 'subsample': 0.019436834819993642, 'colsample_bytree': 0.9087660252482274, 'reg_alpha': 0.04186675376891068, 'reg_lambda': 0.9681889413112472, 'random_state': 759}. Best is trial 83 with value: 5.732239425261247.\u001b[0m\n",
      "\u001b[32m[I 2022-10-23 09:30:23,596]\u001b[0m Trial 86 finished with value: 5.805023290923514 and parameters: {'max_depth': 10, 'learning_rate': 0.04440294773753894, 'n_estimators': 526, 'min_child_weight': 2, 'gamma': 0.06534594407044775, 'subsample': 0.5511386141560352, 'colsample_bytree': 0.9763492526500016, 'reg_alpha': 0.08739345239358134, 'reg_lambda': 0.7832892958109553, 'random_state': 892}. Best is trial 83 with value: 5.732239425261247.\u001b[0m\n",
      "\u001b[32m[I 2022-10-23 09:30:27,519]\u001b[0m Trial 87 finished with value: 6.0781727644637815 and parameters: {'max_depth': 10, 'learning_rate': 0.17066224322687223, 'n_estimators': 564, 'min_child_weight': 3, 'gamma': 0.15383450643106536, 'subsample': 0.7564313764179089, 'colsample_bytree': 0.9370895697520362, 'reg_alpha': 0.3400437399971493, 'reg_lambda': 0.805031730208223, 'random_state': 846}. Best is trial 83 with value: 5.732239425261247.\u001b[0m\n",
      "\u001b[32m[I 2022-10-23 09:30:29,147]\u001b[0m Trial 88 finished with value: 526.5689657056839 and parameters: {'max_depth': 9, 'learning_rate': 0.42620786249525866, 'n_estimators': 646, 'min_child_weight': 5, 'gamma': 0.2687752918675569, 'subsample': 0.08837294380356758, 'colsample_bytree': 0.7853062180435907, 'reg_alpha': 0.2801821088315074, 'reg_lambda': 0.8446958242511929, 'random_state': 745}. Best is trial 83 with value: 5.732239425261247.\u001b[0m\n",
      "\u001b[32m[I 2022-10-23 09:30:31,535]\u001b[0m Trial 89 finished with value: 5.806286494997654 and parameters: {'max_depth': 10, 'learning_rate': 0.08243463928353226, 'n_estimators': 320, 'min_child_weight': 5, 'gamma': 0.05320504410673969, 'subsample': 0.6715551053810119, 'colsample_bytree': 0.9635291829263731, 'reg_alpha': 0.4357151041364728, 'reg_lambda': 0.9341012795332532, 'random_state': 815}. Best is trial 83 with value: 5.732239425261247.\u001b[0m\n",
      "\u001b[32m[I 2022-10-23 09:30:35,022]\u001b[0m Trial 90 finished with value: 5.98517373892754 and parameters: {'max_depth': 8, 'learning_rate': 0.13371008411534552, 'n_estimators': 612, 'min_child_weight': 1, 'gamma': 0.10452756919130242, 'subsample': 0.7019733902595361, 'colsample_bytree': 0.8875981981145878, 'reg_alpha': 0.13554740740297472, 'reg_lambda': 0.7405280088306755, 'random_state': 768}. Best is trial 83 with value: 5.732239425261247.\u001b[0m\n",
      "\u001b[32m[I 2022-10-23 09:30:38,003]\u001b[0m Trial 91 finished with value: 5.736411201369992 and parameters: {'max_depth': 9, 'learning_rate': 0.03611697183900668, 'n_estimators': 505, 'min_child_weight': 3, 'gamma': 0.08466786355113662, 'subsample': 0.5879153366125038, 'colsample_bytree': 0.9441014078578852, 'reg_alpha': 0.02436372564495301, 'reg_lambda': 0.8815466667193925, 'random_state': 670}. Best is trial 83 with value: 5.732239425261247.\u001b[0m\n",
      "\u001b[32m[I 2022-10-23 09:30:40,431]\u001b[0m Trial 92 finished with value: 5.7833906077252895 and parameters: {'max_depth': 9, 'learning_rate': 0.03425686969112073, 'n_estimators': 429, 'min_child_weight': 3, 'gamma': 0.0750597777386795, 'subsample': 0.5955848457506393, 'colsample_bytree': 0.912193913482276, 'reg_alpha': 0.07316402682526775, 'reg_lambda': 0.9677596300677216, 'random_state': 722}. Best is trial 83 with value: 5.732239425261247.\u001b[0m\n",
      "\u001b[32m[I 2022-10-23 09:30:43,380]\u001b[0m Trial 93 finished with value: 5.835418862718295 and parameters: {'max_depth': 9, 'learning_rate': 0.06448926893656745, 'n_estimators': 483, 'min_child_weight': 2, 'gamma': 0.1366675948734542, 'subsample': 0.5759300507000544, 'colsample_bytree': 0.9993400872537647, 'reg_alpha': 0.026879100857504966, 'reg_lambda': 0.6616467043579886, 'random_state': 487}. Best is trial 83 with value: 5.732239425261247.\u001b[0m\n",
      "\u001b[32m[I 2022-10-23 09:30:46,837]\u001b[0m Trial 94 finished with value: 5.776129948073415 and parameters: {'max_depth': 10, 'learning_rate': 0.04045308484539441, 'n_estimators': 532, 'min_child_weight': 4, 'gamma': 0.17094547831470833, 'subsample': 0.6098354414465551, 'colsample_bytree': 0.9320962906655069, 'reg_alpha': 0.20363778438396907, 'reg_lambda': 0.8983449402226109, 'random_state': 789}. Best is trial 83 with value: 5.732239425261247.\u001b[0m\n"
     ]
    },
    {
     "name": "stderr",
     "output_type": "stream",
     "text": [
      "\u001b[32m[I 2022-10-23 09:30:49,955]\u001b[0m Trial 95 finished with value: 5.841582124966113 and parameters: {'max_depth': 8, 'learning_rate': 0.07362330914740875, 'n_estimators': 570, 'min_child_weight': 3, 'gamma': 0.10725015101787536, 'subsample': 0.7377748743801611, 'colsample_bytree': 0.9697074599699085, 'reg_alpha': 0.05931770876425929, 'reg_lambda': 0.8565532803062519, 'random_state': 624}. Best is trial 83 with value: 5.732239425261247.\u001b[0m\n",
      "\u001b[32m[I 2022-10-23 09:30:53,647]\u001b[0m Trial 96 finished with value: 6.015548252674332 and parameters: {'max_depth': 9, 'learning_rate': 0.10756010460571216, 'n_estimators': 631, 'min_child_weight': 2, 'gamma': 0.20191183712885905, 'subsample': 0.6200929417120962, 'colsample_bytree': 0.944986580801082, 'reg_alpha': 0.09563485532465496, 'reg_lambda': 0.9756807482800465, 'random_state': 659}. Best is trial 83 with value: 5.732239425261247.\u001b[0m\n",
      "\u001b[32m[I 2022-10-23 09:30:58,324]\u001b[0m Trial 97 finished with value: 5.797618514695495 and parameters: {'max_depth': 10, 'learning_rate': 0.05644363749621836, 'n_estimators': 733, 'min_child_weight': 4, 'gamma': 0.04645558984245764, 'subsample': 0.6776788680217883, 'colsample_bytree': 0.8350326516946662, 'reg_alpha': 0.1109569414826014, 'reg_lambda': 0.827491944001518, 'random_state': 859}. Best is trial 83 with value: 5.732239425261247.\u001b[0m\n",
      "\u001b[32m[I 2022-10-23 09:31:01,778]\u001b[0m Trial 98 finished with value: 5.779435107933329 and parameters: {'max_depth': 8, 'learning_rate': 0.03336866720905417, 'n_estimators': 700, 'min_child_weight': 5, 'gamma': 0.48660176730958365, 'subsample': 0.6505578132783613, 'colsample_bytree': 0.8597289354085972, 'reg_alpha': 0.05112194186669031, 'reg_lambda': 0.7921413657281552, 'random_state': 698}. Best is trial 83 with value: 5.732239425261247.\u001b[0m\n",
      "\u001b[32m[I 2022-10-23 09:31:02,257]\u001b[0m Trial 99 finished with value: 7.597930364732487 and parameters: {'max_depth': 1, 'learning_rate': 0.10597870444165172, 'n_estimators': 399, 'min_child_weight': 3, 'gamma': 0.08487325353037556, 'subsample': 0.5117961287427235, 'colsample_bytree': 0.8936627234608413, 'reg_alpha': 0.5925213613425092, 'reg_lambda': 0.9981311940830185, 'random_state': 588}. Best is trial 83 with value: 5.732239425261247.\u001b[0m\n"
     ]
    }
   ],
   "source": [
    "study_1.optimize(objective, n_trials=100)"
   ]
  },
  {
   "cell_type": "code",
   "execution_count": 18,
   "id": "639ece2c",
   "metadata": {},
   "outputs": [
    {
     "name": "stdout",
     "output_type": "stream",
     "text": [
      "Best parameters {'max_depth': 10, 'learning_rate': 0.04094176854479009, 'n_estimators': 477, 'min_child_weight': 3, 'gamma': 0.09492692668978472, 'subsample': 0.6910124590858816, 'colsample_bytree': 0.9511581296150486, 'reg_alpha': 0.04389846902525059, 'reg_lambda': 0.9729096738051212, 'random_state': 811}\n",
      "Best value 5.732239425261247\n"
     ]
    }
   ],
   "source": [
    "print('Best parameters', study_1.best_params)\n",
    "print('Best value', study_1.best_value)"
   ]
  },
  {
   "cell_type": "markdown",
   "id": "aa9641d6",
   "metadata": {},
   "source": [
    "## Random Forest"
   ]
  },
  {
   "cell_type": "markdown",
   "id": "d654f60f",
   "metadata": {},
   "source": [
    "L'entraînement d'un model de forêt aléatoire avec beaucoup d'estimateurs est extrêmement long donc nous n'allons pas faire d'optimisation des hyperparamètres."
   ]
  },
  {
   "cell_type": "code",
   "execution_count": 19,
   "id": "777cc624",
   "metadata": {},
   "outputs": [
    {
     "data": {
      "text/plain": [
       "121.09727470000007"
      ]
     },
     "execution_count": 19,
     "metadata": {},
     "output_type": "execute_result"
    }
   ],
   "source": [
    "start_time = timeit.default_timer()\n",
    "\n",
    "model = RandomForestRegressor(n_estimators=1000)\n",
    "model.fit(X_train_std, y_train)\n",
    "\n",
    "temps = timeit.default_timer() - start_time\n",
    "temps"
   ]
  },
  {
   "cell_type": "code",
   "execution_count": 20,
   "id": "249b0d2f",
   "metadata": {},
   "outputs": [
    {
     "data": {
      "text/plain": [
       "5.857045313247266"
      ]
     },
     "execution_count": 20,
     "metadata": {},
     "output_type": "execute_result"
    }
   ],
   "source": [
    "y_pred = model.predict(X_test_std)\n",
    "metrics.mean_absolute_error(y_test, y_pred)"
   ]
  },
  {
   "cell_type": "markdown",
   "id": "469574ff",
   "metadata": {},
   "source": [
    "On est très proche de notre meilleur model avec XGboost."
   ]
  },
  {
   "cell_type": "markdown",
   "id": "677d1925",
   "metadata": {},
   "source": [
    "# Train1 sans la variable 'groupe'"
   ]
  },
  {
   "cell_type": "code",
   "execution_count": 21,
   "id": "cab1b3c1",
   "metadata": {},
   "outputs": [],
   "source": [
    "X_train, X_test, y_train, y_test = train_test_split(X1_ss_grp, y, random_state=21, train_size=0.7, shuffle=True)"
   ]
  },
  {
   "cell_type": "code",
   "execution_count": 22,
   "id": "f7d8fdf6",
   "metadata": {},
   "outputs": [],
   "source": [
    "std = StandardScaler()\n",
    "std.fit(X_train)\n",
    "X_train_std = std.transform(X_train)\n",
    "X_test_std = std.transform(X_test)"
   ]
  },
  {
   "cell_type": "code",
   "execution_count": 23,
   "id": "e7a8a377",
   "metadata": {},
   "outputs": [
    {
     "name": "stderr",
     "output_type": "stream",
     "text": [
      "\u001b[32m[I 2022-10-23 09:33:28,897]\u001b[0m A new study created in memory with name: regression_1_ss_grp\u001b[0m\n"
     ]
    }
   ],
   "source": [
    "study_1_ss_grp = optuna.create_study(direction='minimize', study_name='regression_1_ss_grp')"
   ]
  },
  {
   "cell_type": "code",
   "execution_count": 24,
   "id": "2cb6d7fd",
   "metadata": {
    "scrolled": true
   },
   "outputs": [
    {
     "name": "stderr",
     "output_type": "stream",
     "text": [
      "\u001b[32m[I 2022-10-23 09:33:31,111]\u001b[0m Trial 0 finished with value: 8.935264658807982 and parameters: {'max_depth': 8, 'learning_rate': 0.9126065108188105, 'n_estimators': 879, 'min_child_weight': 5, 'gamma': 0.710416809646336, 'subsample': 0.22310207879203406, 'colsample_bytree': 0.01280318810445436, 'reg_alpha': 0.12347958663075202, 'reg_lambda': 0.5392761930840902, 'random_state': 783}. Best is trial 0 with value: 8.935264658807982.\u001b[0m\n",
      "\u001b[32m[I 2022-10-23 09:33:33,226]\u001b[0m Trial 1 finished with value: 7.60901873454487 and parameters: {'max_depth': 9, 'learning_rate': 0.1301334973733864, 'n_estimators': 840, 'min_child_weight': 10, 'gamma': 0.07012298109033939, 'subsample': 0.11374061841942595, 'colsample_bytree': 0.8355250477673355, 'reg_alpha': 0.2863660243131425, 'reg_lambda': 0.5708022409557322, 'random_state': 335}. Best is trial 1 with value: 7.60901873454487.\u001b[0m\n",
      "\u001b[32m[I 2022-10-23 09:33:34,597]\u001b[0m Trial 2 finished with value: 8.639395181117058 and parameters: {'max_depth': 9, 'learning_rate': 0.8333590232746262, 'n_estimators': 560, 'min_child_weight': 7, 'gamma': 0.9168050627421587, 'subsample': 0.9157752718514155, 'colsample_bytree': 0.18030235556154242, 'reg_alpha': 0.057062450920590695, 'reg_lambda': 0.7232388712774177, 'random_state': 273}. Best is trial 1 with value: 7.60901873454487.\u001b[0m\n",
      "\u001b[32m[I 2022-10-23 09:33:35,356]\u001b[0m Trial 3 finished with value: 57832402660.38754 and parameters: {'max_depth': 3, 'learning_rate': 0.9928070544895026, 'n_estimators': 721, 'min_child_weight': 6, 'gamma': 0.2993467446172803, 'subsample': 0.038822875889420065, 'colsample_bytree': 0.6928099453661216, 'reg_alpha': 0.8989603644440524, 'reg_lambda': 0.22893547919666946, 'random_state': 230}. Best is trial 1 with value: 7.60901873454487.\u001b[0m\n",
      "\u001b[32m[I 2022-10-23 09:33:37,667]\u001b[0m Trial 4 finished with value: 6.697265650552512 and parameters: {'max_depth': 10, 'learning_rate': 0.3346758989382799, 'n_estimators': 599, 'min_child_weight': 6, 'gamma': 0.9852594726968908, 'subsample': 0.6628589623191855, 'colsample_bytree': 0.9381384233885631, 'reg_alpha': 0.23454481903287028, 'reg_lambda': 0.16472134678187988, 'random_state': 419}. Best is trial 4 with value: 6.697265650552512.\u001b[0m\n",
      "\u001b[32m[I 2022-10-23 09:33:39,160]\u001b[0m Trial 5 finished with value: 6.539581071531958 and parameters: {'max_depth': 5, 'learning_rate': 0.30769815280706897, 'n_estimators': 943, 'min_child_weight': 2, 'gamma': 0.6134361231484874, 'subsample': 0.7675097271121992, 'colsample_bytree': 0.28287521833478824, 'reg_alpha': 0.9505108064738736, 'reg_lambda': 0.05994961135098918, 'random_state': 892}. Best is trial 5 with value: 6.539581071531958.\u001b[0m\n",
      "\u001b[32m[I 2022-10-23 09:33:40,504]\u001b[0m Trial 6 finished with value: 7.507116334464205 and parameters: {'max_depth': 4, 'learning_rate': 0.7231336445553647, 'n_estimators': 877, 'min_child_weight': 6, 'gamma': 0.8522312447039296, 'subsample': 0.7531951262967459, 'colsample_bytree': 0.6529692970742472, 'reg_alpha': 0.25913688780616967, 'reg_lambda': 0.7917545836005294, 'random_state': 755}. Best is trial 5 with value: 6.539581071531958.\u001b[0m\n",
      "\u001b[32m[I 2022-10-23 09:33:41,232]\u001b[0m Trial 7 finished with value: 7.401611312167305 and parameters: {'max_depth': 1, 'learning_rate': 0.3771268291869304, 'n_estimators': 894, 'min_child_weight': 1, 'gamma': 0.36266627788976086, 'subsample': 0.9828190554937469, 'colsample_bytree': 0.6388349707395404, 'reg_alpha': 0.99293218091806, 'reg_lambda': 0.8742696258107716, 'random_state': 668}. Best is trial 5 with value: 6.539581071531958.\u001b[0m\n",
      "\u001b[32m[I 2022-10-23 09:33:42,297]\u001b[0m Trial 8 finished with value: 6.919741093812558 and parameters: {'max_depth': 3, 'learning_rate': 0.6371504735601411, 'n_estimators': 830, 'min_child_weight': 5, 'gamma': 0.08241187413784817, 'subsample': 0.676386097886149, 'colsample_bytree': 0.5064532855009912, 'reg_alpha': 0.9074695854133977, 'reg_lambda': 0.6121077442917554, 'random_state': 707}. Best is trial 5 with value: 6.539581071531958.\u001b[0m\n",
      "\u001b[32m[I 2022-10-23 09:33:42,609]\u001b[0m Trial 9 finished with value: 7.991533529654299 and parameters: {'max_depth': 10, 'learning_rate': 0.23805568341426128, 'n_estimators': 114, 'min_child_weight': 9, 'gamma': 0.7954338875537803, 'subsample': 0.1192763490862718, 'colsample_bytree': 0.6974995031976069, 'reg_alpha': 0.3211592520747696, 'reg_lambda': 0.07583835545230498, 'random_state': 725}. Best is trial 5 with value: 6.539581071531958.\u001b[0m\n",
      "\u001b[32m[I 2022-10-23 09:33:43,220]\u001b[0m Trial 10 finished with value: 6.14209234653278 and parameters: {'max_depth': 6, 'learning_rate': 0.05883820105358778, 'n_estimators': 294, 'min_child_weight': 1, 'gamma': 0.5687782318270264, 'subsample': 0.4413984556053557, 'colsample_bytree': 0.28903056846369735, 'reg_alpha': 0.6692693530388424, 'reg_lambda': 0.39564122412745906, 'random_state': 988}. Best is trial 10 with value: 6.14209234653278.\u001b[0m\n",
      "\u001b[32m[I 2022-10-23 09:33:43,845]\u001b[0m Trial 11 finished with value: 6.161705330486868 and parameters: {'max_depth': 6, 'learning_rate': 0.056205376243036384, 'n_estimators': 314, 'min_child_weight': 1, 'gamma': 0.5917567434969269, 'subsample': 0.4162960156626824, 'colsample_bytree': 0.278007110113596, 'reg_alpha': 0.641460403683896, 'reg_lambda': 0.3545171135973616, 'random_state': 997}. Best is trial 10 with value: 6.14209234653278.\u001b[0m\n",
      "\u001b[32m[I 2022-10-23 09:33:44,545]\u001b[0m Trial 12 finished with value: 6.0543963291672185 and parameters: {'max_depth': 7, 'learning_rate': 0.04901951368881735, 'n_estimators': 292, 'min_child_weight': 3, 'gamma': 0.49540729632937286, 'subsample': 0.39721428964812916, 'colsample_bytree': 0.3397288107060875, 'reg_alpha': 0.6597605006636167, 'reg_lambda': 0.3276038594533348, 'random_state': 987}. Best is trial 12 with value: 6.0543963291672185.\u001b[0m\n",
      "\u001b[32m[I 2022-10-23 09:33:45,326]\u001b[0m Trial 13 finished with value: 6.055679749722894 and parameters: {'max_depth': 7, 'learning_rate': 0.053495764374849174, 'n_estimators': 326, 'min_child_weight': 3, 'gamma': 0.41936814977675896, 'subsample': 0.37678813060866034, 'colsample_bytree': 0.3982893959108486, 'reg_alpha': 0.651069596449368, 'reg_lambda': 0.3748512488584494, 'random_state': 959}. Best is trial 12 with value: 6.0543963291672185.\u001b[0m\n",
      "\u001b[32m[I 2022-10-23 09:33:46,138]\u001b[0m Trial 14 finished with value: 10.269940770486691 and parameters: {'max_depth': 7, 'learning_rate': 0.491265349483769, 'n_estimators': 365, 'min_child_weight': 3, 'gamma': 0.4031394627518368, 'subsample': 0.2965318483895057, 'colsample_bytree': 0.43268572381271514, 'reg_alpha': 0.5062089124879547, 'reg_lambda': 0.38306349144098173, 'random_state': 103}. Best is trial 12 with value: 6.0543963291672185.\u001b[0m\n",
      "\u001b[32m[I 2022-10-23 09:33:46,387]\u001b[0m Trial 15 finished with value: 6.137714129905711 and parameters: {'max_depth': 7, 'learning_rate': 0.1601782715744171, 'n_estimators': 87, 'min_child_weight': 3, 'gamma': 0.25847054113521645, 'subsample': 0.5366413534057571, 'colsample_bytree': 0.45529019538846155, 'reg_alpha': 0.7353166865423533, 'reg_lambda': 0.2851651353744866, 'random_state': 606}. Best is trial 12 with value: 6.0543963291672185.\u001b[0m\n",
      "\u001b[32m[I 2022-10-23 09:33:47,270]\u001b[0m Trial 16 finished with value: 6.691133759922536 and parameters: {'max_depth': 8, 'learning_rate': 0.028504360474921355, 'n_estimators': 434, 'min_child_weight': 4, 'gamma': 0.4611612714922121, 'subsample': 0.2950452403763725, 'colsample_bytree': 0.13873011132014834, 'reg_alpha': 0.4811184584024723, 'reg_lambda': 0.4602930480071891, 'random_state': 857}. Best is trial 12 with value: 6.0543963291672185.\u001b[0m\n",
      "\u001b[32m[I 2022-10-23 09:33:47,696]\u001b[0m Trial 17 finished with value: 6.918239577548164 and parameters: {'max_depth': 5, 'learning_rate': 0.4705626649672867, 'n_estimators': 219, 'min_child_weight': 3, 'gamma': 0.20173390360910454, 'subsample': 0.5324166719822474, 'colsample_bytree': 0.395247662285809, 'reg_alpha': 0.7859547546012035, 'reg_lambda': 0.19597114917818395, 'random_state': 494}. Best is trial 12 with value: 6.0543963291672185.\u001b[0m\n",
      "\u001b[32m[I 2022-10-23 09:33:48,805]\u001b[0m Trial 18 finished with value: 6.626901411360017 and parameters: {'max_depth': 7, 'learning_rate': 0.1992596629148044, 'n_estimators': 441, 'min_child_weight': 4, 'gamma': 0.49773813792458593, 'subsample': 0.3685903678008937, 'colsample_bytree': 0.5466307399386026, 'reg_alpha': 0.47568208310231774, 'reg_lambda': 0.6701974189455759, 'random_state': 899}. Best is trial 12 with value: 6.0543963291672185.\u001b[0m\n"
     ]
    },
    {
     "name": "stderr",
     "output_type": "stream",
     "text": [
      "\u001b[32m[I 2022-10-23 09:33:49,352]\u001b[0m Trial 19 finished with value: 8.14410580960032 and parameters: {'max_depth': 8, 'learning_rate': 0.5973216387150384, 'n_estimators': 195, 'min_child_weight': 8, 'gamma': 0.6889537600544483, 'subsample': 0.5925948096243883, 'colsample_bytree': 0.34443893662884484, 'reg_alpha': 0.611994865882883, 'reg_lambda': 0.4398687084526234, 'random_state': 591}. Best is trial 12 with value: 6.0543963291672185.\u001b[0m\n",
      "\u001b[32m[I 2022-10-23 09:33:49,862]\u001b[0m Trial 20 finished with value: 7.597313958436432 and parameters: {'max_depth': 4, 'learning_rate': 0.25749289690047783, 'n_estimators': 446, 'min_child_weight': 2, 'gamma': 0.16739740058930275, 'subsample': 0.21379354386734906, 'colsample_bytree': 0.032812014187439786, 'reg_alpha': 0.8185005532621499, 'reg_lambda': 0.277450823348653, 'random_state': 880}. Best is trial 12 with value: 6.0543963291672185.\u001b[0m\n",
      "\u001b[32m[I 2022-10-23 09:33:50,042]\u001b[0m Trial 21 finished with value: 6.15280353100741 and parameters: {'max_depth': 7, 'learning_rate': 0.15466438140084188, 'n_estimators': 57, 'min_child_weight': 3, 'gamma': 0.3344374127134756, 'subsample': 0.477054132779637, 'colsample_bytree': 0.47791350444760494, 'reg_alpha': 0.7541192012619252, 'reg_lambda': 0.2616213594301724, 'random_state': 578}. Best is trial 12 with value: 6.0543963291672185.\u001b[0m\n",
      "\u001b[32m[I 2022-10-23 09:33:50,475]\u001b[0m Trial 22 finished with value: 6.062553886563051 and parameters: {'max_depth': 6, 'learning_rate': 0.11450583648657815, 'n_estimators': 178, 'min_child_weight': 4, 'gamma': 0.2299966211716311, 'subsample': 0.5755353873381155, 'colsample_bytree': 0.5475016543689594, 'reg_alpha': 0.5852553239971653, 'reg_lambda': 0.2993596652424665, 'random_state': 22}. Best is trial 12 with value: 6.0543963291672185.\u001b[0m\n",
      "\u001b[32m[I 2022-10-23 09:33:50,941]\u001b[0m Trial 23 finished with value: 7.716490840735118 and parameters: {'max_depth': 6, 'learning_rate': 0.010382841750462168, 'n_estimators': 215, 'min_child_weight': 4, 'gamma': 0.4300102698488764, 'subsample': 0.35886941817387463, 'colsample_bytree': 0.555007495949718, 'reg_alpha': 0.551314502512351, 'reg_lambda': 0.14382989021143014, 'random_state': 71}. Best is trial 12 with value: 6.0543963291672185.\u001b[0m\n",
      "\u001b[32m[I 2022-10-23 09:33:51,495]\u001b[0m Trial 24 finished with value: 6.138020372226625 and parameters: {'max_depth': 5, 'learning_rate': 0.11336616952949284, 'n_estimators': 288, 'min_child_weight': 2, 'gamma': 0.17897510117255627, 'subsample': 0.6046389931805315, 'colsample_bytree': 0.3625030832886763, 'reg_alpha': 0.4302204215529018, 'reg_lambda': 0.3292826803125852, 'random_state': 12}. Best is trial 12 with value: 6.0543963291672185.\u001b[0m\n",
      "\u001b[32m[I 2022-10-23 09:33:52,345]\u001b[0m Trial 25 finished with value: 9.227826366545758 and parameters: {'max_depth': 8, 'learning_rate': 0.40740318040053225, 'n_estimators': 371, 'min_child_weight': 4, 'gamma': 0.5256278410067692, 'subsample': 0.321819724802614, 'colsample_bytree': 0.18640671542303583, 'reg_alpha': 0.5887450435772597, 'reg_lambda': 0.4933814098015766, 'random_state': 178}. Best is trial 12 with value: 6.0543963291672185.\u001b[0m\n",
      "\u001b[32m[I 2022-10-23 09:33:52,750]\u001b[0m Trial 26 finished with value: 6.017513389021813 and parameters: {'max_depth': 6, 'learning_rate': 0.1086478548222809, 'n_estimators': 164, 'min_child_weight': 5, 'gamma': 0.2517758072942996, 'subsample': 0.49767938886388696, 'colsample_bytree': 0.7827804989211015, 'reg_alpha': 0.4097976072892431, 'reg_lambda': 0.42802135663086044, 'random_state': 450}. Best is trial 26 with value: 6.017513389021813.\u001b[0m\n",
      "\u001b[32m[I 2022-10-23 09:33:53,154]\u001b[0m Trial 27 finished with value: 7.298801934835864 and parameters: {'max_depth': 9, 'learning_rate': 0.2640050515016462, 'n_estimators': 131, 'min_child_weight': 5, 'gamma': 0.3831480559636231, 'subsample': 0.23443051438826001, 'colsample_bytree': 0.7807472936482062, 'reg_alpha': 0.3720679368459978, 'reg_lambda': 0.41451053902927876, 'random_state': 454}. Best is trial 26 with value: 6.017513389021813.\u001b[0m\n",
      "\u001b[32m[I 2022-10-23 09:33:53,994]\u001b[0m Trial 28 finished with value: 6.131478449311683 and parameters: {'max_depth': 4, 'learning_rate': 0.08800879477130277, 'n_estimators': 495, 'min_child_weight': 7, 'gamma': 0.12014892464223592, 'subsample': 0.44309533288161973, 'colsample_bytree': 0.9331752083434885, 'reg_alpha': 0.38873953995298494, 'reg_lambda': 0.9810165009900871, 'random_state': 381}. Best is trial 26 with value: 6.017513389021813.\u001b[0m\n",
      "\u001b[32m[I 2022-10-23 09:33:54,614]\u001b[0m Trial 29 finished with value: 6.78020852230073 and parameters: {'max_depth': 7, 'learning_rate': 0.18859365647116402, 'n_estimators': 261, 'min_child_weight': 5, 'gamma': 0.01837641135677695, 'subsample': 0.22478868943259322, 'colsample_bytree': 0.8731424856289461, 'reg_alpha': 0.19093521264234053, 'reg_lambda': 0.5282919869007864, 'random_state': 783}. Best is trial 26 with value: 6.017513389021813.\u001b[0m\n",
      "\u001b[32m[I 2022-10-23 09:33:54,987]\u001b[0m Trial 30 finished with value: 8.134095741031597 and parameters: {'max_depth': 1, 'learning_rate': 0.013041797574891038, 'n_estimators': 386, 'min_child_weight': 2, 'gamma': 0.6736275618617393, 'subsample': 0.39361257770910474, 'colsample_bytree': 0.9986506408838013, 'reg_alpha': 0.6863367867571483, 'reg_lambda': 0.5946492185510455, 'random_state': 953}. Best is trial 26 with value: 6.017513389021813.\u001b[0m\n",
      "\u001b[32m[I 2022-10-23 09:33:55,381]\u001b[0m Trial 31 finished with value: 6.135085027319495 and parameters: {'max_depth': 6, 'learning_rate': 0.10253689778223529, 'n_estimators': 161, 'min_child_weight': 4, 'gamma': 0.2678315518179088, 'subsample': 0.5044679292305531, 'colsample_bytree': 0.5494885410894979, 'reg_alpha': 0.5434327906253293, 'reg_lambda': 0.3365405382037672, 'random_state': 820}. Best is trial 26 with value: 6.017513389021813.\u001b[0m\n",
      "\u001b[32m[I 2022-10-23 09:33:55,906]\u001b[0m Trial 32 finished with value: 6.03246264464015 and parameters: {'max_depth': 8, 'learning_rate': 0.14075697099743234, 'n_estimators': 158, 'min_child_weight': 5, 'gamma': 0.23718875328775044, 'subsample': 0.5788588278118684, 'colsample_bytree': 0.6112083454773714, 'reg_alpha': 0.8335687447734703, 'reg_lambda': 0.47060207708412766, 'random_state': 939}. Best is trial 26 with value: 6.017513389021813.\u001b[0m\n",
      "\u001b[32m[I 2022-10-23 09:33:56,658]\u001b[0m Trial 33 finished with value: 6.150377722193016 and parameters: {'max_depth': 8, 'learning_rate': 0.19095498212086953, 'n_estimators': 232, 'min_child_weight': 7, 'gamma': 0.32932058446614576, 'subsample': 0.6614360928222323, 'colsample_bytree': 0.7722849388839693, 'reg_alpha': 0.8664980516547605, 'reg_lambda': 0.5097833244230467, 'random_state': 941}. Best is trial 26 with value: 6.017513389021813.\u001b[0m\n",
      "\u001b[32m[I 2022-10-23 09:33:58,859]\u001b[0m Trial 34 finished with value: 6.005242842153357 and parameters: {'max_depth': 9, 'learning_rate': 0.12615204684272868, 'n_estimators': 613, 'min_child_weight': 5, 'gamma': 0.43111728820967277, 'subsample': 0.7746050807247997, 'colsample_bytree': 0.788161971722008, 'reg_alpha': 0.6986410243444772, 'reg_lambda': 0.465230866381356, 'random_state': 816}. Best is trial 34 with value: 6.005242842153357.\u001b[0m\n",
      "\u001b[32m[I 2022-10-23 09:34:00,952]\u001b[0m Trial 35 finished with value: 6.3956272372689424 and parameters: {'max_depth': 9, 'learning_rate': 0.3071472810141032, 'n_estimators': 629, 'min_child_weight': 5, 'gamma': 0.30559146198676035, 'subsample': 0.8619364219343906, 'colsample_bytree': 0.7817450260457489, 'reg_alpha': 0.8537444600471567, 'reg_lambda': 0.6617078843480113, 'random_state': 324}. Best is trial 34 with value: 6.005242842153357.\u001b[0m\n",
      "\u001b[32m[I 2022-10-23 09:34:03,263]\u001b[0m Trial 36 finished with value: 6.1994600464182295 and parameters: {'max_depth': 9, 'learning_rate': 0.22014072894354114, 'n_estimators': 687, 'min_child_weight': 6, 'gamma': 0.5058959384430384, 'subsample': 0.8093978700500575, 'colsample_bytree': 0.7175666618100388, 'reg_alpha': 0.6989806714615785, 'reg_lambda': 0.5729601199897794, 'random_state': 817}. Best is trial 34 with value: 6.005242842153357.\u001b[0m\n",
      "\u001b[32m[I 2022-10-23 09:34:05,347]\u001b[0m Trial 37 finished with value: 6.073088163719753 and parameters: {'max_depth': 10, 'learning_rate': 0.13695468221430923, 'n_estimators': 548, 'min_child_weight': 7, 'gamma': 0.155446811962286, 'subsample': 0.7232093286432937, 'colsample_bytree': 0.6235592262163097, 'reg_alpha': 0.0980294612467364, 'reg_lambda': 0.46299351537007716, 'random_state': 634}. Best is trial 34 with value: 6.005242842153357.\u001b[0m\n"
     ]
    },
    {
     "name": "stderr",
     "output_type": "stream",
     "text": [
      "\u001b[32m[I 2022-10-23 09:34:07,516]\u001b[0m Trial 38 finished with value: 8.130708239890925 and parameters: {'max_depth': 9, 'learning_rate': 0.8435282989173345, 'n_estimators': 693, 'min_child_weight': 6, 'gamma': 0.7528409781197685, 'subsample': 0.8990163481751563, 'colsample_bytree': 0.8476681203928451, 'reg_alpha': 0.7890026498062321, 'reg_lambda': 0.7647189035432582, 'random_state': 500}. Best is trial 34 with value: 6.005242842153357.\u001b[0m\n",
      "\u001b[32m[I 2022-10-23 09:34:10,493]\u001b[0m Trial 39 finished with value: 6.846569859820571 and parameters: {'max_depth': 10, 'learning_rate': 0.36838917822818334, 'n_estimators': 762, 'min_child_weight': 5, 'gamma': 0.652932350467327, 'subsample': 0.6292860087524789, 'colsample_bytree': 0.9054325013046767, 'reg_alpha': 0.9240499635576829, 'reg_lambda': 0.5567588190357642, 'random_state': 551}. Best is trial 34 with value: 6.005242842153357.\u001b[0m\n",
      "\u001b[32m[I 2022-10-23 09:34:12,211]\u001b[0m Trial 40 finished with value: 6.3840084900072025 and parameters: {'max_depth': 8, 'learning_rate': 0.28136151569673723, 'n_estimators': 592, 'min_child_weight': 6, 'gamma': 0.457112687567203, 'subsample': 0.7185189303035738, 'colsample_bytree': 0.6170203650405526, 'reg_alpha': 0.9931003027282295, 'reg_lambda': 0.22069042569493388, 'random_state': 918}. Best is trial 34 with value: 6.005242842153357.\u001b[0m\n",
      "\u001b[32m[I 2022-10-23 09:34:13,155]\u001b[0m Trial 41 finished with value: 5.887651619672586 and parameters: {'max_depth': 7, 'learning_rate': 0.052541034448898044, 'n_estimators': 330, 'min_child_weight': 3, 'gamma': 0.541369570693234, 'subsample': 0.49372231317829274, 'colsample_bytree': 0.7163326243589524, 'reg_alpha': 0.7213534958094033, 'reg_lambda': 0.37717598399216745, 'random_state': 844}. Best is trial 41 with value: 5.887651619672586.\u001b[0m\n",
      "\u001b[32m[I 2022-10-23 09:34:13,620]\u001b[0m Trial 42 finished with value: 5.950561178579576 and parameters: {'max_depth': 8, 'learning_rate': 0.09260946121155006, 'n_estimators': 134, 'min_child_weight': 5, 'gamma': 0.5335637732247556, 'subsample': 0.47860835263329565, 'colsample_bytree': 0.7392653768809969, 'reg_alpha': 0.725550256994671, 'reg_lambda': 0.435600417123831, 'random_state': 846}. Best is trial 41 with value: 5.887651619672586.\u001b[0m\n",
      "\u001b[32m[I 2022-10-23 09:34:14,077]\u001b[0m Trial 43 finished with value: 6.053964327781138 and parameters: {'max_depth': 8, 'learning_rate': 0.15582570310088506, 'n_estimators': 134, 'min_child_weight': 5, 'gamma': 0.5705082492496794, 'subsample': 0.47607735624540476, 'colsample_bytree': 0.7287957287500352, 'reg_alpha': 0.8337666296168373, 'reg_lambda': 0.4836139679743863, 'random_state': 693}. Best is trial 41 with value: 5.887651619672586.\u001b[0m\n",
      "\u001b[32m[I 2022-10-23 09:34:14,336]\u001b[0m Trial 44 finished with value: 5.971009535937199 and parameters: {'max_depth': 9, 'learning_rate': 0.08706033303564571, 'n_estimators': 60, 'min_child_weight': 6, 'gamma': 0.6271762649934084, 'subsample': 0.5541363919453324, 'colsample_bytree': 0.8148854868289479, 'reg_alpha': 0.7273129867403063, 'reg_lambda': 0.6297555675510375, 'random_state': 763}. Best is trial 41 with value: 5.887651619672586.\u001b[0m\n",
      "\u001b[32m[I 2022-10-23 09:34:14,598]\u001b[0m Trial 45 finished with value: 5.997883244585922 and parameters: {'max_depth': 9, 'learning_rate': 0.0775470930044464, 'n_estimators': 64, 'min_child_weight': 10, 'gamma': 0.7262352550407225, 'subsample': 0.5341444229544059, 'colsample_bytree': 0.8064307602787248, 'reg_alpha': 0.7340148776698525, 'reg_lambda': 0.6579611176271111, 'random_state': 834}. Best is trial 41 with value: 5.887651619672586.\u001b[0m\n",
      "\u001b[32m[I 2022-10-23 09:34:14,898]\u001b[0m Trial 46 finished with value: 5.899018539194396 and parameters: {'max_depth': 9, 'learning_rate': 0.0801205937575629, 'n_estimators': 74, 'min_child_weight': 10, 'gamma': 0.8579899337766317, 'subsample': 0.7870873313307163, 'colsample_bytree': 0.8270858765860614, 'reg_alpha': 0.7430354739756624, 'reg_lambda': 0.6446582409162593, 'random_state': 738}. Best is trial 41 with value: 5.887651619672586.\u001b[0m\n",
      "\u001b[32m[I 2022-10-23 09:34:15,192]\u001b[0m Trial 47 finished with value: 5.940854499944152 and parameters: {'max_depth': 10, 'learning_rate': 0.0727826793095605, 'n_estimators': 63, 'min_child_weight': 10, 'gamma': 0.890079590853905, 'subsample': 0.5523513155593522, 'colsample_bytree': 0.8327585004076704, 'reg_alpha': 0.7372084630837189, 'reg_lambda': 0.6529615071468602, 'random_state': 741}. Best is trial 41 with value: 5.887651619672586.\u001b[0m\n",
      "\u001b[32m[I 2022-10-23 09:34:15,667]\u001b[0m Trial 48 finished with value: 5.851858939599321 and parameters: {'max_depth': 10, 'learning_rate': 0.05903551570229591, 'n_estimators': 102, 'min_child_weight': 9, 'gamma': 0.9339202533586439, 'subsample': 0.6437298938427186, 'colsample_bytree': 0.9783784081266325, 'reg_alpha': 0.7708936077071594, 'reg_lambda': 0.8275432467589616, 'random_state': 765}. Best is trial 48 with value: 5.851858939599321.\u001b[0m\n",
      "\u001b[32m[I 2022-10-23 09:34:16,095]\u001b[0m Trial 49 finished with value: 7.3132288663892915 and parameters: {'max_depth': 10, 'learning_rate': 0.7538885704645324, 'n_estimators': 100, 'min_child_weight': 9, 'gamma': 0.9915456694678744, 'subsample': 0.9666354940372028, 'colsample_bytree': 0.996437688591845, 'reg_alpha': 0.7874302606688697, 'reg_lambda': 0.8939108809132674, 'random_state': 728}. Best is trial 48 with value: 5.851858939599321.\u001b[0m\n",
      "\u001b[32m[I 2022-10-23 09:34:16,558]\u001b[0m Trial 50 finished with value: 10.693621654935953 and parameters: {'max_depth': 10, 'learning_rate': 0.9986728789300412, 'n_estimators': 105, 'min_child_weight': 9, 'gamma': 0.8754210794451339, 'subsample': 0.65242070401701, 'colsample_bytree': 0.8674006107768826, 'reg_alpha': 0.9536176996647533, 'reg_lambda': 0.7331913838409326, 'random_state': 659}. Best is trial 48 with value: 5.851858939599321.\u001b[0m\n",
      "\u001b[32m[I 2022-10-23 09:34:16,785]\u001b[0m Trial 51 finished with value: 6.1440328178880455 and parameters: {'max_depth': 9, 'learning_rate': 0.06068558012857939, 'n_estimators': 55, 'min_child_weight': 10, 'gamma': 0.9335288191772696, 'subsample': 0.7149003936758862, 'colsample_bytree': 0.6763201327756783, 'reg_alpha': 0.7497906394196162, 'reg_lambda': 0.815212148015094, 'random_state': 751}. Best is trial 48 with value: 5.851858939599321.\u001b[0m\n",
      "\u001b[32m[I 2022-10-23 09:34:17,205]\u001b[0m Trial 52 finished with value: 5.934622237528951 and parameters: {'max_depth': 10, 'learning_rate': 0.04536439718187849, 'n_estimators': 89, 'min_child_weight': 8, 'gamma': 0.8125996731203183, 'subsample': 0.5595788776635029, 'colsample_bytree': 0.9397775953545107, 'reg_alpha': 0.637279316856, 'reg_lambda': 0.7135079470125015, 'random_state': 781}. Best is trial 48 with value: 5.851858939599321.\u001b[0m\n",
      "\u001b[32m[I 2022-10-23 09:34:18,240]\u001b[0m Trial 53 finished with value: 5.751232240488519 and parameters: {'max_depth': 10, 'learning_rate': 0.047879960806652674, 'n_estimators': 250, 'min_child_weight': 8, 'gamma': 0.8083860461805367, 'subsample': 0.8208429490987423, 'colsample_bytree': 0.949578093908615, 'reg_alpha': 0.6401957320472761, 'reg_lambda': 0.8422121191720137, 'random_state': 866}. Best is trial 53 with value: 5.751232240488519.\u001b[0m\n",
      "\u001b[32m[I 2022-10-23 09:34:19,271]\u001b[0m Trial 54 finished with value: 5.778672641706682 and parameters: {'max_depth': 10, 'learning_rate': 0.0378132336141948, 'n_estimators': 248, 'min_child_weight': 8, 'gamma': 0.8157064654838422, 'subsample': 0.7974465588890958, 'colsample_bytree': 0.9500904431569923, 'reg_alpha': 0.6282898273303009, 'reg_lambda': 0.8185093766319542, 'random_state': 781}. Best is trial 53 with value: 5.751232240488519.\u001b[0m\n",
      "\u001b[32m[I 2022-10-23 09:34:20,327]\u001b[0m Trial 55 finished with value: 5.78245097466616 and parameters: {'max_depth': 10, 'learning_rate': 0.031645029283820035, 'n_estimators': 247, 'min_child_weight': 8, 'gamma': 0.8092824629819018, 'subsample': 0.8423660925305742, 'colsample_bytree': 0.9645324318661997, 'reg_alpha': 0.6147387356702062, 'reg_lambda': 0.8610515221262397, 'random_state': 800}. Best is trial 53 with value: 5.751232240488519.\u001b[0m\n",
      "\u001b[32m[I 2022-10-23 09:34:21,425]\u001b[0m Trial 56 finished with value: 5.805790912748362 and parameters: {'max_depth': 10, 'learning_rate': 0.02101570113609304, 'n_estimators': 253, 'min_child_weight': 8, 'gamma': 0.9417623161851292, 'subsample': 0.8109471211192729, 'colsample_bytree': 0.968707170719753, 'reg_alpha': 0.625738495728989, 'reg_lambda': 0.8556506049391804, 'random_state': 861}. Best is trial 53 with value: 5.751232240488519.\u001b[0m\n"
     ]
    },
    {
     "name": "stderr",
     "output_type": "stream",
     "text": [
      "\u001b[32m[I 2022-10-23 09:34:21,800]\u001b[0m Trial 57 finished with value: 6.991006279345193 and parameters: {'max_depth': 2, 'learning_rate': 0.0428438141853594, 'n_estimators': 333, 'min_child_weight': 8, 'gamma': 0.9512160461504482, 'subsample': 0.8772509117312011, 'colsample_bytree': 0.9561404242738226, 'reg_alpha': 0.6155424425676147, 'reg_lambda': 0.8794859949839643, 'random_state': 884}. Best is trial 53 with value: 5.751232240488519.\u001b[0m\n",
      "\u001b[32m[I 2022-10-23 09:34:22,900]\u001b[0m Trial 58 finished with value: 6.064835561884122 and parameters: {'max_depth': 10, 'learning_rate': 0.1764671204747451, 'n_estimators': 271, 'min_child_weight': 8, 'gamma': 0.8138546382373394, 'subsample': 0.8310270633983844, 'colsample_bytree': 0.912589211938551, 'reg_alpha': 0.5528898209945143, 'reg_lambda': 0.952629588133617, 'random_state': 685}. Best is trial 53 with value: 5.751232240488519.\u001b[0m\n",
      "\u001b[32m[I 2022-10-23 09:34:23,828]\u001b[0m Trial 59 finished with value: 6.857462446229433 and parameters: {'max_depth': 10, 'learning_rate': 0.5582550395138764, 'n_estimators': 239, 'min_child_weight': 9, 'gamma': 0.9610867762817257, 'subsample': 0.9549464242368051, 'colsample_bytree': 0.9616164454170201, 'reg_alpha': 0.5005351282744069, 'reg_lambda': 0.8400802664416129, 'random_state': 869}. Best is trial 53 with value: 5.751232240488519.\u001b[0m\n",
      "\u001b[32m[I 2022-10-23 09:34:25,530]\u001b[0m Trial 60 finished with value: 5.77997406446211 and parameters: {'max_depth': 10, 'learning_rate': 0.01605573860710253, 'n_estimators': 408, 'min_child_weight': 8, 'gamma': 0.77766120020187, 'subsample': 0.9394602153767506, 'colsample_bytree': 0.8918608040166616, 'reg_alpha': 0.016965378175596957, 'reg_lambda': 0.9081628865996402, 'random_state': 798}. Best is trial 53 with value: 5.751232240488519.\u001b[0m\n",
      "\u001b[32m[I 2022-10-23 09:34:27,218]\u001b[0m Trial 61 finished with value: 5.771610391862751 and parameters: {'max_depth': 10, 'learning_rate': 0.019861194037307496, 'n_estimators': 409, 'min_child_weight': 8, 'gamma': 0.7579249262994661, 'subsample': 0.914203481051297, 'colsample_bytree': 0.9730983329012111, 'reg_alpha': 0.010250298877016204, 'reg_lambda': 0.9116801082644934, 'random_state': 805}. Best is trial 53 with value: 5.751232240488519.\u001b[0m\n",
      "\u001b[32m[I 2022-10-23 09:34:28,874]\u001b[0m Trial 62 finished with value: 5.748711232606274 and parameters: {'max_depth': 10, 'learning_rate': 0.039202573421170166, 'n_estimators': 413, 'min_child_weight': 8, 'gamma': 0.7718662521318294, 'subsample': 0.9336421024842383, 'colsample_bytree': 0.8959174728613798, 'reg_alpha': 0.014598360578086526, 'reg_lambda': 0.9145071451185366, 'random_state': 795}. Best is trial 62 with value: 5.748711232606274.\u001b[0m\n",
      "\u001b[32m[I 2022-10-23 09:34:30,828]\u001b[0m Trial 63 finished with value: 5.756687821198115 and parameters: {'max_depth': 10, 'learning_rate': 0.02332772322093795, 'n_estimators': 497, 'min_child_weight': 8, 'gamma': 0.7764592338517824, 'subsample': 0.9479339064895966, 'colsample_bytree': 0.894888679623438, 'reg_alpha': 0.015020177509539247, 'reg_lambda': 0.9188063790635544, 'random_state': 797}. Best is trial 62 with value: 5.748711232606274.\u001b[0m\n",
      "\u001b[32m[I 2022-10-23 09:34:32,739]\u001b[0m Trial 64 finished with value: 5.760010881098231 and parameters: {'max_depth': 10, 'learning_rate': 0.022680329535800944, 'n_estimators': 487, 'min_child_weight': 7, 'gamma': 0.7685777566722334, 'subsample': 0.9990241556080098, 'colsample_bytree': 0.9023786712827927, 'reg_alpha': 0.03043842006566419, 'reg_lambda': 0.9253331040710205, 'random_state': 902}. Best is trial 62 with value: 5.748711232606274.\u001b[0m\n",
      "\u001b[32m[I 2022-10-23 09:34:35,044]\u001b[0m Trial 65 finished with value: 5.767919215999459 and parameters: {'max_depth': 10, 'learning_rate': 0.01829327097404445, 'n_estimators': 469, 'min_child_weight': 7, 'gamma': 0.7602139141185825, 'subsample': 0.923252344488777, 'colsample_bytree': 0.8834995730883266, 'reg_alpha': 0.017442466784870887, 'reg_lambda': 0.9205577260685085, 'random_state': 711}. Best is trial 62 with value: 5.748711232606274.\u001b[0m\n",
      "\u001b[32m[I 2022-10-23 09:34:37,174]\u001b[0m Trial 66 finished with value: 5.810096932719996 and parameters: {'max_depth': 10, 'learning_rate': 0.011119942695937786, 'n_estimators': 494, 'min_child_weight': 7, 'gamma': 0.7317305797306444, 'subsample': 0.9853964069813407, 'colsample_bytree': 0.9187735852896336, 'reg_alpha': 0.1613540369355381, 'reg_lambda': 0.9402438007272489, 'random_state': 902}. Best is trial 62 with value: 5.748711232606274.\u001b[0m\n",
      "\u001b[32m[I 2022-10-23 09:34:38,876]\u001b[0m Trial 67 finished with value: 5.906352173237375 and parameters: {'max_depth': 9, 'learning_rate': 0.124146264872316, 'n_estimators': 507, 'min_child_weight': 7, 'gamma': 0.7690530260573846, 'subsample': 0.9351879045514768, 'colsample_bytree': 0.8727963693967031, 'reg_alpha': 0.014859565962518239, 'reg_lambda': 0.9943834688350313, 'random_state': 983}. Best is trial 62 with value: 5.748711232606274.\u001b[0m\n",
      "\u001b[32m[I 2022-10-23 09:34:40,596]\u001b[0m Trial 68 finished with value: 5.973592343329121 and parameters: {'max_depth': 10, 'learning_rate': 0.15829688400063918, 'n_estimators': 450, 'min_child_weight': 7, 'gamma': 0.7042506353859961, 'subsample': 0.9025263859239899, 'colsample_bytree': 0.8874653237199457, 'reg_alpha': 0.0797296353682927, 'reg_lambda': 0.9295040805268551, 'random_state': 642}. Best is trial 62 with value: 5.748711232606274.\u001b[0m\n",
      "\u001b[32m[I 2022-10-23 09:34:42,086]\u001b[0m Trial 69 finished with value: 6.078523193795687 and parameters: {'max_depth': 9, 'learning_rate': 0.21750485909978048, 'n_estimators': 474, 'min_child_weight': 8, 'gamma': 0.8367512948775453, 'subsample': 0.9990407648624945, 'colsample_bytree': 0.8544028755954975, 'reg_alpha': 0.13288036804373818, 'reg_lambda': 0.7885697110388704, 'random_state': 710}. Best is trial 62 with value: 5.748711232606274.\u001b[0m\n",
      "\u001b[32m[I 2022-10-23 09:34:43,761]\u001b[0m Trial 70 finished with value: 8.440989026929891 and parameters: {'max_depth': 9, 'learning_rate': 0.9259927496848206, 'n_estimators': 543, 'min_child_weight': 9, 'gamma': 0.8887806199064395, 'subsample': 0.8845090807998769, 'colsample_bytree': 0.9291664953705971, 'reg_alpha': 0.04739857297520628, 'reg_lambda': 0.9650080290792156, 'random_state': 893}. Best is trial 62 with value: 5.748711232606274.\u001b[0m\n",
      "\u001b[32m[I 2022-10-23 09:34:45,341]\u001b[0m Trial 71 finished with value: 5.7559318977782175 and parameters: {'max_depth': 10, 'learning_rate': 0.033852666166835035, 'n_estimators': 404, 'min_child_weight': 8, 'gamma': 0.7739402271866123, 'subsample': 0.9351572819163416, 'colsample_bytree': 0.9018326500435727, 'reg_alpha': 0.029818428917765295, 'reg_lambda': 0.9199554100848806, 'random_state': 794}. Best is trial 62 with value: 5.748711232606274.\u001b[0m\n",
      "\u001b[32m[I 2022-10-23 09:34:46,970]\u001b[0m Trial 72 finished with value: 5.86080565569986 and parameters: {'max_depth': 10, 'learning_rate': 0.10029932046301884, 'n_estimators': 403, 'min_child_weight': 8, 'gamma': 0.7620718844389276, 'subsample': 0.9241001071345207, 'colsample_bytree': 0.9389667419750518, 'reg_alpha': 0.0557493418417016, 'reg_lambda': 0.9156159098260173, 'random_state': 794}. Best is trial 62 with value: 5.748711232606274.\u001b[0m\n",
      "\u001b[32m[I 2022-10-23 09:34:48,512]\u001b[0m Trial 73 finished with value: 5.760282760086848 and parameters: {'max_depth': 10, 'learning_rate': 0.04542077974098601, 'n_estimators': 364, 'min_child_weight': 7, 'gamma': 0.8408629553215337, 'subsample': 0.8515416613761128, 'colsample_bytree': 0.9031101892316125, 'reg_alpha': 0.11670955775525371, 'reg_lambda': 0.8047806996561095, 'random_state': 926}. Best is trial 62 with value: 5.748711232606274.\u001b[0m\n",
      "\u001b[32m[I 2022-10-23 09:34:50,302]\u001b[0m Trial 74 finished with value: 5.7809707701695405 and parameters: {'max_depth': 10, 'learning_rate': 0.06384409295877028, 'n_estimators': 422, 'min_child_weight': 7, 'gamma': 0.6778857235428966, 'subsample': 0.8545870121212493, 'colsample_bytree': 0.9078948193644261, 'reg_alpha': 0.10569261500173985, 'reg_lambda': 0.882637040526129, 'random_state': 915}. Best is trial 62 with value: 5.748711232606274.\u001b[0m\n",
      "\u001b[32m[I 2022-10-23 09:34:51,767]\u001b[0m Trial 75 finished with value: 5.8756696298572475 and parameters: {'max_depth': 10, 'learning_rate': 0.11906869808676981, 'n_estimators': 359, 'min_child_weight': 7, 'gamma': 0.7379165829510295, 'subsample': 0.9635008371124917, 'colsample_bytree': 0.9990770530035277, 'reg_alpha': 0.21909321030804782, 'reg_lambda': 0.9740314725411073, 'random_state': 974}. Best is trial 62 with value: 5.748711232606274.\u001b[0m\n"
     ]
    },
    {
     "name": "stderr",
     "output_type": "stream",
     "text": [
      "\u001b[32m[I 2022-10-23 09:34:53,433]\u001b[0m Trial 76 finished with value: 5.78413778501495 and parameters: {'max_depth': 9, 'learning_rate': 0.03617264501084771, 'n_estimators': 469, 'min_child_weight': 7, 'gamma': 0.7813472395707663, 'subsample': 0.9209041039929974, 'colsample_bytree': 0.8554824411913657, 'reg_alpha': 0.040028002692901646, 'reg_lambda': 0.9995959650513419, 'random_state': 937}. Best is trial 62 with value: 5.748711232606274.\u001b[0m\n",
      "\u001b[32m[I 2022-10-23 09:34:54,135]\u001b[0m Trial 77 finished with value: 6.672500317457147 and parameters: {'max_depth': 9, 'learning_rate': 0.011666372817907444, 'n_estimators': 365, 'min_child_weight': 8, 'gamma': 0.8430291892546645, 'subsample': 0.021640836451210343, 'colsample_bytree': 0.8888378926547751, 'reg_alpha': 0.13663944862325253, 'reg_lambda': 0.7724413847463572, 'random_state': 861}. Best is trial 62 with value: 5.748711232606274.\u001b[0m\n",
      "\u001b[32m[I 2022-10-23 09:34:56,092]\u001b[0m Trial 78 finished with value: 7.841797658543061 and parameters: {'max_depth': 10, 'learning_rate': 0.6553063375451962, 'n_estimators': 521, 'min_child_weight': 9, 'gamma': 0.7031591131472864, 'subsample': 0.7497377870920954, 'colsample_bytree': 0.7637614437507351, 'reg_alpha': 0.07568942859463772, 'reg_lambda': 0.9283776740052935, 'random_state': 541}. Best is trial 62 with value: 5.748711232606274.\u001b[0m\n",
      "\u001b[32m[I 2022-10-23 09:34:57,194]\u001b[0m Trial 79 finished with value: 5.923950685102661 and parameters: {'max_depth': 9, 'learning_rate': 0.0942827575343834, 'n_estimators': 309, 'min_child_weight': 7, 'gamma': 0.6416413689242786, 'subsample': 0.8841366071509591, 'colsample_bytree': 0.8070229505841966, 'reg_alpha': 0.012364292264984358, 'reg_lambda': 0.012478866511651199, 'random_state': 833}. Best is trial 62 with value: 5.748711232606274.\u001b[0m\n",
      "\u001b[32m[I 2022-10-23 09:34:58,999]\u001b[0m Trial 80 finished with value: 5.914391015072743 and parameters: {'max_depth': 10, 'learning_rate': 0.14709135699399212, 'n_estimators': 464, 'min_child_weight': 6, 'gamma': 0.8992635381653491, 'subsample': 0.9621042894117093, 'colsample_bytree': 0.8329951932313007, 'reg_alpha': 0.1613243669164135, 'reg_lambda': 0.9103987741481498, 'random_state': 955}. Best is trial 62 with value: 5.748711232606274.\u001b[0m\n",
      "\u001b[32m[I 2022-10-23 09:35:00,719]\u001b[0m Trial 81 finished with value: 5.7661259629217 and parameters: {'max_depth': 10, 'learning_rate': 0.039466971672381494, 'n_estimators': 390, 'min_child_weight': 8, 'gamma': 0.8260601074557197, 'subsample': 0.819010148140409, 'colsample_bytree': 0.9466028194567528, 'reg_alpha': 0.07936504907002209, 'reg_lambda': 0.8109984806059137, 'random_state': 773}. Best is trial 62 with value: 5.748711232606274.\u001b[0m\n",
      "\u001b[32m[I 2022-10-23 09:35:03,172]\u001b[0m Trial 82 finished with value: 5.851112952672964 and parameters: {'max_depth': 10, 'learning_rate': 0.07196479539220905, 'n_estimators': 576, 'min_child_weight': 8, 'gamma': 0.8629409610793828, 'subsample': 0.8350376249362812, 'colsample_bytree': 0.9113104144837423, 'reg_alpha': 0.28452255417993894, 'reg_lambda': 0.7456273102723494, 'random_state': 714}. Best is trial 62 with value: 5.748711232606274.\u001b[0m\n",
      "\u001b[32m[I 2022-10-23 09:35:04,901]\u001b[0m Trial 83 finished with value: 5.735747420361727 and parameters: {'max_depth': 10, 'learning_rate': 0.04252749606278659, 'n_estimators': 399, 'min_child_weight': 7, 'gamma': 0.7917531984403003, 'subsample': 0.90820277054621, 'colsample_bytree': 0.9797278469922, 'reg_alpha': 0.080834349405365, 'reg_lambda': 0.8565481168101973, 'random_state': 918}. Best is trial 83 with value: 5.735747420361727.\u001b[0m\n",
      "\u001b[32m[I 2022-10-23 09:35:06,402]\u001b[0m Trial 84 finished with value: 5.915488428434494 and parameters: {'max_depth': 10, 'learning_rate': 0.1128377111486459, 'n_estimators': 344, 'min_child_weight': 7, 'gamma': 0.838378582285631, 'subsample': 0.8679029951228747, 'colsample_bytree': 0.885941904504977, 'reg_alpha': 0.07953280324395391, 'reg_lambda': 0.8022296573539999, 'random_state': 922}. Best is trial 83 with value: 5.735747420361727.\u001b[0m\n",
      "\u001b[32m[I 2022-10-23 09:35:07,897]\u001b[0m Trial 85 finished with value: 5.790497859786167 and parameters: {'max_depth': 9, 'learning_rate': 0.04512609343800113, 'n_estimators': 389, 'min_child_weight': 7, 'gamma': 0.8039568114594096, 'subsample': 0.9028737772016058, 'colsample_bytree': 0.9295116601843312, 'reg_alpha': 0.11844043275502057, 'reg_lambda': 0.691771054737255, 'random_state': 877}. Best is trial 83 with value: 5.735747420361727.\u001b[0m\n",
      "\u001b[32m[I 2022-10-23 09:35:09,514]\u001b[0m Trial 86 finished with value: 5.992453620482412 and parameters: {'max_depth': 10, 'learning_rate': 0.1771789096187923, 'n_estimators': 433, 'min_child_weight': 9, 'gamma': 0.7850312285946319, 'subsample': 0.9907759124086982, 'colsample_bytree': 0.8533299772893084, 'reg_alpha': 0.040187259765922856, 'reg_lambda': 0.8567467267926213, 'random_state': 831}. Best is trial 83 with value: 5.735747420361727.\u001b[0m\n",
      "\u001b[32m[I 2022-10-23 09:35:11,179]\u001b[0m Trial 87 finished with value: 6.663467873181179 and parameters: {'max_depth': 9, 'learning_rate': 0.4595796264608747, 'n_estimators': 497, 'min_child_weight': 6, 'gamma': 0.9107585271624916, 'subsample': 0.9455796231145255, 'colsample_bytree': 0.9897194537634506, 'reg_alpha': 0.09391855436891827, 'reg_lambda': 0.9473038222506459, 'random_state': 919}. Best is trial 83 with value: 5.735747420361727.\u001b[0m\n",
      "\u001b[32m[I 2022-10-23 09:35:12,489]\u001b[0m Trial 88 finished with value: 5.8356634763172766 and parameters: {'max_depth': 10, 'learning_rate': 0.08191946396208635, 'n_estimators': 302, 'min_child_weight': 8, 'gamma': 0.7157306029114244, 'subsample': 0.7502754382487599, 'colsample_bytree': 0.9430301370080527, 'reg_alpha': 0.16755195472045364, 'reg_lambda': 0.8369038303795626, 'random_state': 764}. Best is trial 83 with value: 5.735747420361727.\u001b[0m\n",
      "\u001b[32m[I 2022-10-23 09:35:13,748]\u001b[0m Trial 89 finished with value: 5.830061486981235 and parameters: {'max_depth': 9, 'learning_rate': 0.05964463685892736, 'n_estimators': 377, 'min_child_weight': 7, 'gamma': 0.6079445328744311, 'subsample': 0.9816345627132308, 'colsample_bytree': 0.755826145956882, 'reg_alpha': 0.0516084014626966, 'reg_lambda': 0.8740991910283099, 'random_state': 996}. Best is trial 83 with value: 5.735747420361727.\u001b[0m\n",
      "\u001b[32m[I 2022-10-23 09:35:15,587]\u001b[0m Trial 90 finished with value: 5.911993576364919 and parameters: {'max_depth': 10, 'learning_rate': 0.13013493698113465, 'n_estimators': 449, 'min_child_weight': 6, 'gamma': 0.7501898000677069, 'subsample': 0.8574694005678323, 'colsample_bytree': 0.8985126426372458, 'reg_alpha': 0.0669450319024742, 'reg_lambda': 0.7890096567574868, 'random_state': 849}. Best is trial 83 with value: 5.735747420361727.\u001b[0m\n",
      "\u001b[32m[I 2022-10-23 09:35:17,304]\u001b[0m Trial 91 finished with value: 5.771070832981456 and parameters: {'max_depth': 10, 'learning_rate': 0.04150992008547746, 'n_estimators': 412, 'min_child_weight': 8, 'gamma': 0.7946024307711836, 'subsample': 0.9079199538253057, 'colsample_bytree': 0.974655718892391, 'reg_alpha': 0.030276721537741472, 'reg_lambda': 0.8951075742082946, 'random_state': 818}. Best is trial 83 with value: 5.735747420361727.\u001b[0m\n",
      "\u001b[32m[I 2022-10-23 09:35:19,555]\u001b[0m Trial 92 finished with value: 5.757211657406193 and parameters: {'max_depth': 10, 'learning_rate': 0.040396713002603, 'n_estimators': 524, 'min_child_weight': 8, 'gamma': 0.8264728700592049, 'subsample': 0.8203873040535206, 'colsample_bytree': 0.8707056286474728, 'reg_alpha': 0.030373703140440148, 'reg_lambda': 0.8955386631706352, 'random_state': 819}. Best is trial 83 with value: 5.735747420361727.\u001b[0m\n",
      "\u001b[32m[I 2022-10-23 09:35:21,794]\u001b[0m Trial 93 finished with value: 5.883123453628585 and parameters: {'max_depth': 10, 'learning_rate': 0.09368731504252023, 'n_estimators': 529, 'min_child_weight': 8, 'gamma': 0.826367886149464, 'subsample': 0.8348999521670428, 'colsample_bytree': 0.8777334052620459, 'reg_alpha': 0.108178475617031, 'reg_lambda': 0.8435185874785187, 'random_state': 896}. Best is trial 83 with value: 5.735747420361727.\u001b[0m\n",
      "\u001b[32m[I 2022-10-23 09:35:24,217]\u001b[0m Trial 94 finished with value: 5.807043722757182 and parameters: {'max_depth': 10, 'learning_rate': 0.06719826500794866, 'n_estimators': 575, 'min_child_weight': 9, 'gamma': 0.8606855853211103, 'subsample': 0.8239113280091317, 'colsample_bytree': 0.8032569807770142, 'reg_alpha': 0.13881849963064508, 'reg_lambda': 0.948563539554501, 'random_state': 965}. Best is trial 83 with value: 5.735747420361727.\u001b[0m\n"
     ]
    },
    {
     "name": "stderr",
     "output_type": "stream",
     "text": [
      "\u001b[32m[I 2022-10-23 09:35:25,129]\u001b[0m Trial 95 finished with value: 6.447948510349507 and parameters: {'max_depth': 3, 'learning_rate': 0.03333803944439857, 'n_estimators': 631, 'min_child_weight': 7, 'gamma': 0.6672433651363001, 'subsample': 0.7702567791883881, 'colsample_bytree': 0.9512146771632592, 'reg_alpha': 0.06309351092801718, 'reg_lambda': 0.8791228249074617, 'random_state': 678}. Best is trial 83 with value: 5.735747420361727.\u001b[0m\n",
      "\u001b[32m[I 2022-10-23 09:35:27,341]\u001b[0m Trial 96 finished with value: 5.821474643633548 and parameters: {'max_depth': 10, 'learning_rate': 0.010768055720848022, 'n_estimators': 465, 'min_child_weight': 8, 'gamma': 0.8781794654482272, 'subsample': 0.930933759510261, 'colsample_bytree': 0.8385473046765659, 'reg_alpha': 0.20743271168129163, 'reg_lambda': 0.7612463622548726, 'random_state': 866}. Best is trial 83 with value: 5.735747420361727.\u001b[0m\n",
      "\u001b[32m[I 2022-10-23 09:35:29,068]\u001b[0m Trial 97 finished with value: 5.902201142032089 and parameters: {'max_depth': 9, 'learning_rate': 0.10448776620435693, 'n_estimators': 488, 'min_child_weight': 9, 'gamma': 0.7867001731507607, 'subsample': 0.875468532859374, 'colsample_bytree': 0.9231704523937615, 'reg_alpha': 0.09392233440888965, 'reg_lambda': 0.8229541998378366, 'random_state': 778}. Best is trial 83 with value: 5.735747420361727.\u001b[0m\n",
      "\u001b[32m[I 2022-10-23 09:35:30,478]\u001b[0m Trial 98 finished with value: 5.81858108667965 and parameters: {'max_depth': 10, 'learning_rate': 0.07736763822241435, 'n_estimators': 346, 'min_child_weight': 7, 'gamma': 0.7409391355029925, 'subsample': 0.969387787614069, 'colsample_bytree': 0.8681162751407361, 'reg_alpha': 0.033372783360310375, 'reg_lambda': 0.9696440696373014, 'random_state': 736}. Best is trial 83 with value: 5.735747420361727.\u001b[0m\n",
      "\u001b[32m[I 2022-10-23 09:35:32,085]\u001b[0m Trial 99 finished with value: 5.769266984296722 and parameters: {'max_depth': 9, 'learning_rate': 0.04675659312482614, 'n_estimators': 389, 'min_child_weight': 8, 'gamma': 0.8539349659999232, 'subsample': 0.7978547336504198, 'colsample_bytree': 0.9768515934753137, 'reg_alpha': 0.18279151947487204, 'reg_lambda': 0.8624751092004108, 'random_state': 255}. Best is trial 83 with value: 5.735747420361727.\u001b[0m\n"
     ]
    }
   ],
   "source": [
    "study_1_ss_grp.optimize(objective, n_trials=100)"
   ]
  },
  {
   "cell_type": "code",
   "execution_count": 25,
   "id": "8dd21855",
   "metadata": {},
   "outputs": [
    {
     "name": "stdout",
     "output_type": "stream",
     "text": [
      "Best value 5.735747420361727\n"
     ]
    }
   ],
   "source": [
    "print('Best value', study_1_ss_grp.best_value)"
   ]
  },
  {
   "cell_type": "markdown",
   "id": "551b914d",
   "metadata": {},
   "source": [
    "C'est à peine moins bien qu'avec la variable 'groupe', mais ce n'est pas significatif."
   ]
  },
  {
   "cell_type": "markdown",
   "id": "788426c2",
   "metadata": {},
   "source": [
    "# Train2"
   ]
  },
  {
   "cell_type": "code",
   "execution_count": 26,
   "id": "90127d54",
   "metadata": {},
   "outputs": [],
   "source": [
    "X_train, X_test, y_train, y_test = train_test_split(X2, y, random_state=21, train_size=0.7, shuffle=True)"
   ]
  },
  {
   "cell_type": "markdown",
   "id": "b2a01e55",
   "metadata": {},
   "source": [
    "## Preprocessing"
   ]
  },
  {
   "cell_type": "code",
   "execution_count": 27,
   "id": "611d9c79",
   "metadata": {},
   "outputs": [],
   "source": [
    "std = StandardScaler()"
   ]
  },
  {
   "cell_type": "code",
   "execution_count": 28,
   "id": "25ef674b",
   "metadata": {},
   "outputs": [],
   "source": [
    "std.fit(X_train)\n",
    "X_train_std = std.transform(X_train)\n",
    "X_test_std = std.transform(X_test)"
   ]
  },
  {
   "cell_type": "markdown",
   "id": "d383df73",
   "metadata": {},
   "source": [
    "## XGboost"
   ]
  },
  {
   "cell_type": "code",
   "execution_count": 29,
   "id": "ebe95431",
   "metadata": {},
   "outputs": [
    {
     "name": "stderr",
     "output_type": "stream",
     "text": [
      "\u001b[32m[I 2022-10-23 09:36:02,098]\u001b[0m A new study created in memory with name: regression_2\u001b[0m\n"
     ]
    }
   ],
   "source": [
    "study_2 = optuna.create_study(direction='minimize', study_name='regression_2')"
   ]
  },
  {
   "cell_type": "code",
   "execution_count": 26,
   "id": "7c782047",
   "metadata": {
    "scrolled": true
   },
   "outputs": [
    {
     "name": "stderr",
     "output_type": "stream",
     "text": [
      "\u001b[32m[I 2022-10-18 11:12:33,349]\u001b[0m Trial 0 finished with value: 7.938099741209807 and parameters: {'max_depth': 9, 'learning_rate': 0.01636243900761896, 'n_estimators': 922, 'min_child_weight': 6, 'gamma': 0.5248812293199041, 'subsample': 0.4155742080746963, 'colsample_bytree': 0.5729519931411882, 'reg_alpha': 0.12676899878911654, 'reg_lambda': 0.23795141761757876, 'random_state': 762}. Best is trial 0 with value: 7.938099741209807.\u001b[0m\n",
      "\u001b[32m[I 2022-10-18 11:12:34,441]\u001b[0m Trial 1 finished with value: 8.507346477412597 and parameters: {'max_depth': 1, 'learning_rate': 0.48293675113069107, 'n_estimators': 69, 'min_child_weight': 10, 'gamma': 0.6098217946540436, 'subsample': 0.31063049279172306, 'colsample_bytree': 0.38559842301063124, 'reg_alpha': 0.8278418885945431, 'reg_lambda': 0.6384916280327305, 'random_state': 518}. Best is trial 0 with value: 7.938099741209807.\u001b[0m\n",
      "\u001b[32m[I 2022-10-18 11:12:35,687]\u001b[0m Trial 2 finished with value: 10.906788186620458 and parameters: {'max_depth': 6, 'learning_rate': 0.03250710634177976, 'n_estimators': 50, 'min_child_weight': 4, 'gamma': 0.3823048912518142, 'subsample': 0.38582824646670055, 'colsample_bytree': 0.34384979027333384, 'reg_alpha': 0.5518788814537046, 'reg_lambda': 0.9175742163964309, 'random_state': 636}. Best is trial 0 with value: 7.938099741209807.\u001b[0m\n",
      "\u001b[32m[I 2022-10-18 11:12:41,687]\u001b[0m Trial 3 finished with value: 19.04339911127007 and parameters: {'max_depth': 4, 'learning_rate': 0.6469489192657398, 'n_estimators': 606, 'min_child_weight': 9, 'gamma': 0.503890740632492, 'subsample': 0.29115686564583537, 'colsample_bytree': 0.0750596863544374, 'reg_alpha': 0.013453892416344862, 'reg_lambda': 0.2111842793266377, 'random_state': 650}. Best is trial 0 with value: 7.938099741209807.\u001b[0m\n",
      "\u001b[32m[I 2022-10-18 11:12:47,056]\u001b[0m Trial 4 finished with value: 5.64506894522536e+18 and parameters: {'max_depth': 9, 'learning_rate': 0.8793333242133805, 'n_estimators': 338, 'min_child_weight': 4, 'gamma': 0.06353966705844494, 'subsample': 0.09959400349413332, 'colsample_bytree': 0.2237302276024564, 'reg_alpha': 0.8307758387495239, 'reg_lambda': 0.6747728031559099, 'random_state': 886}. Best is trial 0 with value: 7.938099741209807.\u001b[0m\n",
      "\u001b[32m[I 2022-10-18 11:12:55,790]\u001b[0m Trial 5 finished with value: 8.865154537890744 and parameters: {'max_depth': 10, 'learning_rate': 0.17248489075103454, 'n_estimators': 707, 'min_child_weight': 10, 'gamma': 0.970243818616776, 'subsample': 0.430650825347635, 'colsample_bytree': 0.02784785432099346, 'reg_alpha': 0.5526270669878154, 'reg_lambda': 0.29126756500105416, 'random_state': 801}. Best is trial 0 with value: 7.938099741209807.\u001b[0m\n",
      "\u001b[32m[I 2022-10-18 11:13:03,515]\u001b[0m Trial 6 finished with value: 9.017261956083354 and parameters: {'max_depth': 6, 'learning_rate': 0.36446011360334596, 'n_estimators': 218, 'min_child_weight': 6, 'gamma': 0.2501953041985234, 'subsample': 0.833393632493109, 'colsample_bytree': 0.8270963881357624, 'reg_alpha': 0.5979093882217288, 'reg_lambda': 0.6416407290283597, 'random_state': 133}. Best is trial 0 with value: 7.938099741209807.\u001b[0m\n",
      "\u001b[32m[I 2022-10-18 11:13:20,608]\u001b[0m Trial 7 finished with value: 8.278777118710131 and parameters: {'max_depth': 8, 'learning_rate': 0.06861126585992867, 'n_estimators': 890, 'min_child_weight': 6, 'gamma': 0.32266016628885014, 'subsample': 0.353524933480297, 'colsample_bytree': 0.20384458639300423, 'reg_alpha': 0.4345329613825038, 'reg_lambda': 0.7866801862277742, 'random_state': 631}. Best is trial 0 with value: 7.938099741209807.\u001b[0m\n",
      "\u001b[32m[I 2022-10-18 11:13:34,698]\u001b[0m Trial 8 finished with value: 13.288793465113999 and parameters: {'max_depth': 5, 'learning_rate': 0.6860266399611415, 'n_estimators': 516, 'min_child_weight': 8, 'gamma': 0.12532022916380312, 'subsample': 0.5239155173091423, 'colsample_bytree': 0.5950434171788692, 'reg_alpha': 0.959517066061533, 'reg_lambda': 0.07642195777198552, 'random_state': 862}. Best is trial 0 with value: 7.938099741209807.\u001b[0m\n",
      "\u001b[32m[I 2022-10-18 11:13:37,901]\u001b[0m Trial 9 finished with value: 9.319607404315475 and parameters: {'max_depth': 5, 'learning_rate': 0.38926208187337924, 'n_estimators': 242, 'min_child_weight': 7, 'gamma': 0.7549956090861661, 'subsample': 0.6175432695558294, 'colsample_bytree': 0.12137884536735627, 'reg_alpha': 0.29414971599850365, 'reg_lambda': 0.20884452580807658, 'random_state': 22}. Best is trial 0 with value: 7.938099741209807.\u001b[0m\n",
      "\u001b[32m[I 2022-10-18 11:14:14,902]\u001b[0m Trial 10 finished with value: 8.488223998635604 and parameters: {'max_depth': 8, 'learning_rate': 0.2458440099378166, 'n_estimators': 962, 'min_child_weight': 1, 'gamma': 0.7699204399796469, 'subsample': 0.9865257507398082, 'colsample_bytree': 0.687089022267361, 'reg_alpha': 0.013898767916111165, 'reg_lambda': 0.40489712072243605, 'random_state': 408}. Best is trial 0 with value: 7.938099741209807.\u001b[0m\n",
      "\u001b[32m[I 2022-10-18 11:14:36,123]\u001b[0m Trial 11 finished with value: 8.1913363749368 and parameters: {'max_depth': 7, 'learning_rate': 0.0136021280777763, 'n_estimators': 930, 'min_child_weight': 5, 'gamma': 0.3432932286156188, 'subsample': 0.10551888383045971, 'colsample_bytree': 0.46241551190832597, 'reg_alpha': 0.2401418805741974, 'reg_lambda': 0.9259500473002735, 'random_state': 341}. Best is trial 0 with value: 7.938099741209807.\u001b[0m\n",
      "\u001b[32m[I 2022-10-18 11:15:16,432]\u001b[0m Trial 12 finished with value: 8141.777375659533 and parameters: {'max_depth': 8, 'learning_rate': 0.22855977672861988, 'n_estimators': 808, 'min_child_weight': 4, 'gamma': 0.5102539551205861, 'subsample': 0.020869758875657174, 'colsample_bytree': 0.9892158184459172, 'reg_alpha': 0.19916230714021244, 'reg_lambda': 0.982133661551596, 'random_state': 291}. Best is trial 0 with value: 7.938099741209807.\u001b[0m\n",
      "\u001b[32m[I 2022-10-18 11:15:48,454]\u001b[0m Trial 13 finished with value: 8.169778352090535 and parameters: {'max_depth': 10, 'learning_rate': 0.011497114927622782, 'n_estimators': 986, 'min_child_weight': 2, 'gamma': 0.446133252036267, 'subsample': 0.11722984401691383, 'colsample_bytree': 0.48762203071852156, 'reg_alpha': 0.19419501423634755, 'reg_lambda': 0.49433100124660484, 'random_state': 377}. Best is trial 0 with value: 7.938099741209807.\u001b[0m\n",
      "\u001b[32m[I 2022-10-18 11:16:11,550]\u001b[0m Trial 14 finished with value: 3.3368975072322834e+19 and parameters: {'max_depth': 10, 'learning_rate': 0.9898441133708362, 'n_estimators': 760, 'min_child_weight': 1, 'gamma': 0.6489746361453183, 'subsample': 0.19141919100246793, 'colsample_bytree': 0.6174377231811753, 'reg_alpha': 0.1567674041668977, 'reg_lambda': 0.42684629820576436, 'random_state': 232}. Best is trial 0 with value: 7.938099741209807.\u001b[0m\n",
      "\u001b[32m[I 2022-10-18 11:17:12,857]\u001b[0m Trial 15 finished with value: 8.508970350255908 and parameters: {'max_depth': 10, 'learning_rate': 0.14509509368526954, 'n_estimators': 979, 'min_child_weight': 2, 'gamma': 0.48766363787517075, 'subsample': 0.6618806140319149, 'colsample_bytree': 0.7764869602088518, 'reg_alpha': 0.3747998496844591, 'reg_lambda': 0.025206730684783962, 'random_state': 985}. Best is trial 0 with value: 7.938099741209807.\u001b[0m\n",
      "\u001b[32m[I 2022-10-18 11:17:23,146]\u001b[0m Trial 16 finished with value: 11.045954672224092 and parameters: {'max_depth': 3, 'learning_rate': 0.31218238044368535, 'n_estimators': 625, 'min_child_weight': 3, 'gamma': 0.9307520601252237, 'subsample': 0.20726001451148157, 'colsample_bytree': 0.5203157609683786, 'reg_alpha': 0.0863573149559854, 'reg_lambda': 0.501754516096745, 'random_state': 473}. Best is trial 0 with value: 7.938099741209807.\u001b[0m\n",
      "\u001b[32m[I 2022-10-18 11:17:51,421]\u001b[0m Trial 17 finished with value: 12.129369391510023 and parameters: {'max_depth': 9, 'learning_rate': 0.5856443806960184, 'n_estimators': 873, 'min_child_weight': 7, 'gamma': 0.6337240040328934, 'subsample': 0.5461238186230895, 'colsample_bytree': 0.3712647844619451, 'reg_alpha': 0.32963996907215015, 'reg_lambda': 0.27947998246230965, 'random_state': 737}. Best is trial 0 with value: 7.938099741209807.\u001b[0m\n",
      "\u001b[32m[I 2022-10-18 11:18:12,507]\u001b[0m Trial 18 finished with value: 8.229231603075531 and parameters: {'max_depth': 9, 'learning_rate': 0.12082282410095324, 'n_estimators': 423, 'min_child_weight': 2, 'gamma': 0.19502995109249155, 'subsample': 0.7301240816679015, 'colsample_bytree': 0.7242037656205571, 'reg_alpha': 0.17789828157663362, 'reg_lambda': 0.3759020611077548, 'random_state': 547}. Best is trial 0 with value: 7.938099741209807.\u001b[0m\n"
     ]
    },
    {
     "name": "stderr",
     "output_type": "stream",
     "text": [
      "\u001b[32m[I 2022-10-18 11:18:53,970]\u001b[0m Trial 19 finished with value: 33.898718563082205 and parameters: {'max_depth': 7, 'learning_rate': 0.462429101543111, 'n_estimators': 998, 'min_child_weight': 5, 'gamma': 0.4119796018875464, 'subsample': 0.23203321250271192, 'colsample_bytree': 0.866467300631279, 'reg_alpha': 0.6749307744519907, 'reg_lambda': 0.11585900527881238, 'random_state': 194}. Best is trial 0 with value: 7.938099741209807.\u001b[0m\n",
      "\u001b[32m[I 2022-10-18 11:19:05,872]\u001b[0m Trial 20 finished with value: 11.609653253180658 and parameters: {'max_depth': 2, 'learning_rate': 0.7647111503383774, 'n_estimators': 814, 'min_child_weight': 3, 'gamma': 0.7631907152137491, 'subsample': 0.422036133381956, 'colsample_bytree': 0.5100537541227164, 'reg_alpha': 0.4286563445640358, 'reg_lambda': 0.5741503794132414, 'random_state': 991}. Best is trial 0 with value: 7.938099741209807.\u001b[0m\n",
      "\u001b[32m[I 2022-10-18 11:19:25,650]\u001b[0m Trial 21 finished with value: 8.160274246504676 and parameters: {'max_depth': 7, 'learning_rate': 0.010343499659745794, 'n_estimators': 903, 'min_child_weight': 5, 'gamma': 0.30393297707412903, 'subsample': 0.09917743260142581, 'colsample_bytree': 0.43827410479100104, 'reg_alpha': 0.253150336492893, 'reg_lambda': 0.819073057526214, 'random_state': 365}. Best is trial 0 with value: 7.938099741209807.\u001b[0m\n",
      "\u001b[32m[I 2022-10-18 11:19:36,580]\u001b[0m Trial 22 finished with value: 16.173014664649173 and parameters: {'max_depth': 7, 'learning_rate': 0.10719035487314743, 'n_estimators': 694, 'min_child_weight': 7, 'gamma': 0.28178444707024697, 'subsample': 0.03889640017665593, 'colsample_bytree': 0.28381949464912065, 'reg_alpha': 0.11893296384314339, 'reg_lambda': 0.7840397239020627, 'random_state': 415}. Best is trial 0 with value: 7.938099741209807.\u001b[0m\n",
      "\u001b[32m[I 2022-10-18 11:19:59,357]\u001b[0m Trial 23 finished with value: 15.710030181323658 and parameters: {'max_depth': 9, 'learning_rate': 0.22583426366481676, 'n_estimators': 855, 'min_child_weight': 8, 'gamma': 0.4538514878486777, 'subsample': 0.14579813187562096, 'colsample_bytree': 0.4399119308517557, 'reg_alpha': 0.2659062181459639, 'reg_lambda': 0.7589850710823332, 'random_state': 347}. Best is trial 0 with value: 7.938099741209807.\u001b[0m\n",
      "\u001b[32m[I 2022-10-18 11:20:31,986]\u001b[0m Trial 24 finished with value: 8.031162289989856 and parameters: {'max_depth': 8, 'learning_rate': 0.01358771184400083, 'n_estimators': 908, 'min_child_weight': 5, 'gamma': 0.5711112546182014, 'subsample': 0.28104104338387625, 'colsample_bytree': 0.6202406403651831, 'reg_alpha': 0.12854592383080937, 'reg_lambda': 0.523597471283482, 'random_state': 571}. Best is trial 0 with value: 7.938099741209807.\u001b[0m\n",
      "\u001b[32m[I 2022-10-18 11:20:56,201]\u001b[0m Trial 25 finished with value: 9.6572997103048 and parameters: {'max_depth': 7, 'learning_rate': 0.17456968048144134, 'n_estimators': 771, 'min_child_weight': 5, 'gamma': 0.5722958064517677, 'subsample': 0.27471594451167247, 'colsample_bytree': 0.6065243271212258, 'reg_alpha': 0.08459155561973197, 'reg_lambda': 0.8614271882576491, 'random_state': 723}. Best is trial 0 with value: 7.938099741209807.\u001b[0m\n",
      "\u001b[32m[I 2022-10-18 11:21:27,184]\u001b[0m Trial 26 finished with value: 9.653940115563287 and parameters: {'max_depth': 8, 'learning_rate': 0.29090715863088934, 'n_estimators': 695, 'min_child_weight': 6, 'gamma': 0.6926439986977162, 'subsample': 0.47294779487443206, 'colsample_bytree': 0.675937660858895, 'reg_alpha': 0.361013051321613, 'reg_lambda': 0.5639153624336164, 'random_state': 531}. Best is trial 0 with value: 7.938099741209807.\u001b[0m\n",
      "\u001b[32m[I 2022-10-18 11:21:42,923]\u001b[0m Trial 27 finished with value: 8.55838614653935 and parameters: {'max_depth': 6, 'learning_rate': 0.09049152252377322, 'n_estimators': 589, 'min_child_weight': 5, 'gamma': 0.5652875680647211, 'subsample': 0.31283592561342377, 'colsample_bytree': 0.5595602690595044, 'reg_alpha': 0.08962676150926827, 'reg_lambda': 0.31579647476479933, 'random_state': 582}. Best is trial 0 with value: 7.938099741209807.\u001b[0m\n",
      "\u001b[32m[I 2022-10-18 11:22:05,643]\u001b[0m Trial 28 finished with value: 9.05990301762935 and parameters: {'max_depth': 8, 'learning_rate': 0.07739905450654905, 'n_estimators': 899, 'min_child_weight': 4, 'gamma': 0.8631688016108681, 'subsample': 0.18933444260620524, 'colsample_bytree': 0.43019800367923755, 'reg_alpha': 0.26472529138484063, 'reg_lambda': 0.1882612403920575, 'random_state': 751}. Best is trial 0 with value: 7.938099741209807.\u001b[0m\n",
      "\u001b[32m[I 2022-10-18 11:22:13,717]\u001b[0m Trial 29 finished with value: 11.214952498540255 and parameters: {'max_depth': 4, 'learning_rate': 0.4191794708142333, 'n_estimators': 505, 'min_child_weight': 6, 'gamma': 0.2120444134607689, 'subsample': 0.34217720238523314, 'colsample_bytree': 0.32072231488807124, 'reg_alpha': 0.463423769514209, 'reg_lambda': 0.6955881087963157, 'random_state': 692}. Best is trial 0 with value: 7.938099741209807.\u001b[0m\n",
      "\u001b[32m[I 2022-10-18 11:22:59,050]\u001b[0m Trial 30 finished with value: 10.005777838648646 and parameters: {'max_depth': 9, 'learning_rate': 0.1833900101115371, 'n_estimators': 819, 'min_child_weight': 8, 'gamma': 0.5650333308655995, 'subsample': 0.26817622580583683, 'colsample_bytree': 0.9420396684143039, 'reg_alpha': 0.14718739689937393, 'reg_lambda': 0.5778592093564136, 'random_state': 890}. Best is trial 0 with value: 7.938099741209807.\u001b[0m\n",
      "\u001b[32m[I 2022-10-18 11:23:31,556]\u001b[0m Trial 31 finished with value: 9.504105269785814 and parameters: {'max_depth': 10, 'learning_rate': 0.05247344821584243, 'n_estimators': 928, 'min_child_weight': 3, 'gamma': 0.41687614629190417, 'subsample': 0.09305693269054119, 'colsample_bytree': 0.5355053653718612, 'reg_alpha': 0.23491383280815503, 'reg_lambda': 0.473765284768625, 'random_state': 455}. Best is trial 0 with value: 7.938099741209807.\u001b[0m\n",
      "\u001b[32m[I 2022-10-18 11:24:00,608]\u001b[0m Trial 32 finished with value: 8.13495925234713 and parameters: {'max_depth': 9, 'learning_rate': 0.01453291005010021, 'n_estimators': 975, 'min_child_weight': 2, 'gamma': 0.38437147220624623, 'subsample': 0.15854200092690432, 'colsample_bytree': 0.45965916197973467, 'reg_alpha': 0.06499458544759298, 'reg_lambda': 0.3452634879842788, 'random_state': 369}. Best is trial 0 with value: 7.938099741209807.\u001b[0m\n",
      "\u001b[32m[I 2022-10-18 11:24:23,602]\u001b[0m Trial 33 finished with value: 7.9855299683263565 and parameters: {'max_depth': 7, 'learning_rate': 0.01639352102068114, 'n_estimators': 857, 'min_child_weight': 7, 'gamma': 0.3673991687217682, 'subsample': 0.38950462563426264, 'colsample_bytree': 0.4132590695465167, 'reg_alpha': 0.023158165715061373, 'reg_lambda': 0.336963920120404, 'random_state': 308}. Best is trial 0 with value: 7.938099741209807.\u001b[0m\n",
      "\u001b[32m[I 2022-10-18 11:24:43,567]\u001b[0m Trial 34 finished with value: 8.629492401615916 and parameters: {'max_depth': 9, 'learning_rate': 0.11841711774080566, 'n_estimators': 742, 'min_child_weight': 9, 'gamma': 0.3699809051792701, 'subsample': 0.4158154312571742, 'colsample_bytree': 0.2991349612523, 'reg_alpha': 0.019200238680143866, 'reg_lambda': 0.3545410893583075, 'random_state': 294}. Best is trial 0 with value: 7.938099741209807.\u001b[0m\n",
      "\u001b[32m[I 2022-10-18 11:25:17,980]\u001b[0m Trial 35 finished with value: 15.297359382074747 and parameters: {'max_depth': 8, 'learning_rate': 0.5375950739262395, 'n_estimators': 855, 'min_child_weight': 7, 'gamma': 0.5401614367494795, 'subsample': 0.37971038025750475, 'colsample_bytree': 0.6536856834730159, 'reg_alpha': 0.06732306045548128, 'reg_lambda': 0.2531610929649559, 'random_state': 602}. Best is trial 0 with value: 7.938099741209807.\u001b[0m\n",
      "\u001b[32m[I 2022-10-18 11:25:39,414]\u001b[0m Trial 36 finished with value: 9.912788010552537 and parameters: {'max_depth': 6, 'learning_rate': 0.30985472792386726, 'n_estimators': 942, 'min_child_weight': 9, 'gamma': 0.37471380590256326, 'subsample': 0.4917228658829348, 'colsample_bytree': 0.3646475296934355, 'reg_alpha': 0.03791712436507114, 'reg_lambda': 0.17032545791147696, 'random_state': 495}. Best is trial 0 with value: 7.938099741209807.\u001b[0m\n",
      "\u001b[32m[I 2022-10-18 11:25:42,455]\u001b[0m Trial 37 finished with value: 8.119137949308517 and parameters: {'max_depth': 9, 'learning_rate': 0.06653633922134417, 'n_estimators': 110, 'min_child_weight': 10, 'gamma': 0.6768871531684562, 'subsample': 0.562728213567361, 'colsample_bytree': 0.23757703568474392, 'reg_alpha': 0.716873262372735, 'reg_lambda': 0.3266053503231255, 'random_state': 107}. Best is trial 0 with value: 7.938099741209807.\u001b[0m\n"
     ]
    },
    {
     "name": "stderr",
     "output_type": "stream",
     "text": [
      "\u001b[32m[I 2022-10-18 11:25:47,776]\u001b[0m Trial 38 finished with value: 8.123805188034337 and parameters: {'max_depth': 8, 'learning_rate': 0.06689202654468124, 'n_estimators': 230, 'min_child_weight': 10, 'gamma': 0.6614783014876277, 'subsample': 0.5810163090903219, 'colsample_bytree': 0.22511135719191697, 'reg_alpha': 0.7291441789351244, 'reg_lambda': 0.4503795289904036, 'random_state': 58}. Best is trial 0 with value: 7.938099741209807.\u001b[0m\n",
      "\u001b[32m[I 2022-10-18 11:25:50,393]\u001b[0m Trial 39 finished with value: 8.325568732023555 and parameters: {'max_depth': 6, 'learning_rate': 0.16727335126774812, 'n_estimators': 149, 'min_child_weight': 10, 'gamma': 0.732517978730217, 'subsample': 0.7477680560726249, 'colsample_bytree': 0.18863538702881857, 'reg_alpha': 0.9392014979385213, 'reg_lambda': 0.13448749185671027, 'random_state': 140}. Best is trial 0 with value: 7.938099741209807.\u001b[0m\n",
      "\u001b[32m[I 2022-10-18 11:25:51,887]\u001b[0m Trial 40 finished with value: 8.478683214740586 and parameters: {'max_depth': 5, 'learning_rate': 0.20156534710466956, 'n_estimators': 96, 'min_child_weight': 6, 'gamma': 0.8016286182030308, 'subsample': 0.47923259151570763, 'colsample_bytree': 0.12471446719596291, 'reg_alpha': 0.7993100602162978, 'reg_lambda': 0.25015910916750045, 'random_state': 115}. Best is trial 0 with value: 7.938099741209807.\u001b[0m\n",
      "\u001b[32m[I 2022-10-18 11:25:59,072]\u001b[0m Trial 41 finished with value: 8.133602767158571 and parameters: {'max_depth': 8, 'learning_rate': 0.07457747423866046, 'n_estimators': 306, 'min_child_weight': 10, 'gamma': 0.6800904749354039, 'subsample': 0.5835263661309474, 'colsample_bytree': 0.23875589349125914, 'reg_alpha': 0.689612025660415, 'reg_lambda': 0.4437157895662308, 'random_state': 21}. Best is trial 0 with value: 7.938099741209807.\u001b[0m\n",
      "\u001b[32m[I 2022-10-18 11:25:59,969]\u001b[0m Trial 42 finished with value: 8.041680065273198 and parameters: {'max_depth': 7, 'learning_rate': 0.0584233522694148, 'n_estimators': 58, 'min_child_weight': 9, 'gamma': 0.5997524116352464, 'subsample': 0.6953936450725833, 'colsample_bytree': 0.029915700178704485, 'reg_alpha': 0.7602658201029571, 'reg_lambda': 0.402869961595588, 'random_state': 61}. Best is trial 0 with value: 7.938099741209807.\u001b[0m\n",
      "\u001b[32m[I 2022-10-18 11:26:01,095]\u001b[0m Trial 43 finished with value: 8.248215683231853 and parameters: {'max_depth': 7, 'learning_rate': 0.12126289344124541, 'n_estimators': 72, 'min_child_weight': 8, 'gamma': 0.6045601333662363, 'subsample': 0.6584544427425949, 'colsample_bytree': 0.04743673991090056, 'reg_alpha': 0.5624894404573745, 'reg_lambda': 0.31550338516110893, 'random_state': 104}. Best is trial 0 with value: 7.938099741209807.\u001b[0m\n",
      "\u001b[32m[I 2022-10-18 11:26:02,400]\u001b[0m Trial 44 finished with value: 8.519532843143624 and parameters: {'max_depth': 1, 'learning_rate': 0.052455465528146054, 'n_estimators': 116, 'min_child_weight': 9, 'gamma': 0.4809025807930159, 'subsample': 0.8649014423010908, 'colsample_bytree': 0.1164720765795101, 'reg_alpha': 0.8904321953502752, 'reg_lambda': 0.3920645415461059, 'random_state': 203}. Best is trial 0 with value: 7.938099741209807.\u001b[0m\n",
      "\u001b[32m[I 2022-10-18 11:26:16,664]\u001b[0m Trial 45 finished with value: 8.854867964823598 and parameters: {'max_depth': 7, 'learning_rate': 0.26870268728386554, 'n_estimators': 438, 'min_child_weight': 9, 'gamma': 0.6055656819270299, 'subsample': 0.7097211563538333, 'colsample_bytree': 0.5581287251223885, 'reg_alpha': 0.6388006146404881, 'reg_lambda': 0.5461726543649761, 'random_state': 65}. Best is trial 0 with value: 7.938099741209807.\u001b[0m\n",
      "\u001b[32m[I 2022-10-18 11:26:19,602]\u001b[0m Trial 46 finished with value: 8.632161984836294 and parameters: {'max_depth': 8, 'learning_rate': 0.1495617676661463, 'n_estimators': 141, 'min_child_weight': 8, 'gamma': 0.5258098417175638, 'subsample': 0.45684801132352587, 'colsample_bytree': 0.16389950714994694, 'reg_alpha': 0.7809793780382525, 'reg_lambda': 0.2426513943834055, 'random_state': 259}. Best is trial 0 with value: 7.938099741209807.\u001b[0m\n",
      "\u001b[32m[I 2022-10-18 11:26:25,151]\u001b[0m Trial 47 finished with value: 8.171556272802134 and parameters: {'max_depth': 5, 'learning_rate': 0.04477983618658481, 'n_estimators': 179, 'min_child_weight': 10, 'gamma': 0.8254403462486032, 'subsample': 0.3468224871797324, 'colsample_bytree': 0.7364072175290264, 'reg_alpha': 0.9086678704419844, 'reg_lambda': 0.6396669265339162, 'random_state': 158}. Best is trial 0 with value: 7.938099741209807.\u001b[0m\n",
      "\u001b[32m[I 2022-10-18 11:26:29,752]\u001b[0m Trial 48 finished with value: 8.16749272249286 and parameters: {'max_depth': 10, 'learning_rate': 0.10331341204452779, 'n_estimators': 284, 'min_child_weight': 7, 'gamma': 0.7308761044261315, 'subsample': 0.8114415500305134, 'colsample_bytree': 0.07138794122830926, 'reg_alpha': 0.5072048187624326, 'reg_lambda': 0.30918347781584726, 'random_state': 656}. Best is trial 0 with value: 7.938099741209807.\u001b[0m\n",
      "\u001b[32m[I 2022-10-18 11:26:46,538]\u001b[0m Trial 49 finished with value: 13.188729388751078 and parameters: {'max_depth': 9, 'learning_rate': 0.6785198127898552, 'n_estimators': 639, 'min_child_weight': 6, 'gamma': 0.6179734293077165, 'subsample': 0.5410038722425426, 'colsample_bytree': 0.25373821958859305, 'reg_alpha': 0.7415583184330509, 'reg_lambda': 0.526494951447009, 'random_state': 72}. Best is trial 0 with value: 7.938099741209807.\u001b[0m\n",
      "\u001b[32m[I 2022-10-18 11:26:48,285]\u001b[0m Trial 50 finished with value: 9.478888268454353 and parameters: {'max_depth': 6, 'learning_rate': 0.3503808258962957, 'n_estimators': 61, 'min_child_weight': 9, 'gamma': 0.4580151631479885, 'subsample': 0.3905759712315738, 'colsample_bytree': 0.4167924117264926, 'reg_alpha': 0.8525756952039195, 'reg_lambda': 0.40178459563821417, 'random_state': 832}. Best is trial 0 with value: 7.938099741209807.\u001b[0m\n",
      "\u001b[32m[I 2022-10-18 11:26:51,260]\u001b[0m Trial 51 finished with value: 8.121004850182041 and parameters: {'max_depth': 8, 'learning_rate': 0.05729803087089565, 'n_estimators': 230, 'min_child_weight': 10, 'gamma': 0.6384677175130148, 'subsample': 0.6283985529977089, 'colsample_bytree': 0.01692596273112857, 'reg_alpha': 0.7132093453349191, 'reg_lambda': 0.4585018056826329, 'random_state': 56}. Best is trial 0 with value: 7.938099741209807.\u001b[0m\n",
      "\u001b[32m[I 2022-10-18 11:26:53,738]\u001b[0m Trial 52 finished with value: 8.13846437758733 and parameters: {'max_depth': 8, 'learning_rate': 0.04112478890080826, 'n_estimators': 194, 'min_child_weight': 10, 'gamma': 0.684669271651838, 'subsample': 0.6268794009414651, 'colsample_bytree': 0.013541800493470785, 'reg_alpha': 0.6291141266172359, 'reg_lambda': 0.34348631266894325, 'random_state': 9}. Best is trial 0 with value: 7.938099741209807.\u001b[0m\n",
      "\u001b[32m[I 2022-10-18 11:26:55,645]\u001b[0m Trial 53 finished with value: 8.302635171005011 and parameters: {'max_depth': 9, 'learning_rate': 0.13864853054837495, 'n_estimators': 110, 'min_child_weight': 10, 'gamma': 0.5822428951546772, 'subsample': 0.6823473460342473, 'colsample_bytree': 0.06994541685759245, 'reg_alpha': 0.7386225237910896, 'reg_lambda': 0.4693745506561755, 'random_state': 186}. Best is trial 0 with value: 7.938099741209807.\u001b[0m\n",
      "\u001b[32m[I 2022-10-18 11:27:01,642]\u001b[0m Trial 54 finished with value: 8.568228823828704 and parameters: {'max_depth': 7, 'learning_rate': 0.21396338734490167, 'n_estimators': 373, 'min_child_weight': 9, 'gamma': 0.5064002645964127, 'subsample': 0.7642248235642625, 'colsample_bytree': 0.1467818650820435, 'reg_alpha': 0.8344841397540056, 'reg_lambda': 0.4127303194277699, 'random_state': 244}. Best is trial 0 with value: 7.938099741209807.\u001b[0m\n",
      "\u001b[32m[I 2022-10-18 11:27:14,344]\u001b[0m Trial 55 finished with value: 7.851610139175669 and parameters: {'max_depth': 8, 'learning_rate': 0.014094890050628773, 'n_estimators': 275, 'min_child_weight': 7, 'gamma': 0.07400800312750394, 'subsample': 0.5766115451519854, 'colsample_bytree': 0.6492516781228614, 'reg_alpha': 0.5888625842033232, 'reg_lambda': 0.601438983152494, 'random_state': 296}. Best is trial 55 with value: 7.851610139175669.\u001b[0m\n",
      "\u001b[32m[I 2022-10-18 11:27:29,792]\u001b[0m Trial 56 finished with value: 7.854613816804409 and parameters: {'max_depth': 10, 'learning_rate': 0.01001714150559934, 'n_estimators': 290, 'min_child_weight': 7, 'gamma': 0.012171581342187487, 'subsample': 0.5067712662792093, 'colsample_bytree': 0.6196101945010732, 'reg_alpha': 0.5581466765036535, 'reg_lambda': 0.7137714617650744, 'random_state': 301}. Best is trial 55 with value: 7.851610139175669.\u001b[0m\n"
     ]
    },
    {
     "name": "stderr",
     "output_type": "stream",
     "text": [
      "\u001b[32m[I 2022-10-18 11:27:46,400]\u001b[0m Trial 57 finished with value: 7.878467202028775 and parameters: {'max_depth': 10, 'learning_rate': 0.011494741369394244, 'n_estimators': 360, 'min_child_weight': 7, 'gamma': 0.04082952417735919, 'subsample': 0.30648408812264505, 'colsample_bytree': 0.64442689719172, 'reg_alpha': 0.5808069129761744, 'reg_lambda': 0.6150262433409881, 'random_state': 420}. Best is trial 55 with value: 7.851610139175669.\u001b[0m\n",
      "\u001b[32m[I 2022-10-18 11:28:06,728]\u001b[0m Trial 58 finished with value: 7.920663229195188 and parameters: {'max_depth': 10, 'learning_rate': 0.012697891970720838, 'n_estimators': 373, 'min_child_weight': 7, 'gamma': 0.032998329407936546, 'subsample': 0.2937742860896217, 'colsample_bytree': 0.7952699775294012, 'reg_alpha': 0.5120481661034986, 'reg_lambda': 0.6786421775097196, 'random_state': 291}. Best is trial 55 with value: 7.851610139175669.\u001b[0m\n",
      "\u001b[32m[I 2022-10-18 11:28:26,885]\u001b[0m Trial 59 finished with value: 3.3015683796938244e+16 and parameters: {'max_depth': 10, 'learning_rate': 0.9681915714529061, 'n_estimators': 400, 'min_child_weight': 7, 'gamma': 0.047724673311906426, 'subsample': 0.23656187208462423, 'colsample_bytree': 0.8186133863399729, 'reg_alpha': 0.5804567242405434, 'reg_lambda': 0.6918389514053435, 'random_state': 306}. Best is trial 55 with value: 7.851610139175669.\u001b[0m\n",
      "\u001b[32m[I 2022-10-18 11:28:43,551]\u001b[0m Trial 60 finished with value: 20.12471632232102 and parameters: {'max_depth': 10, 'learning_rate': 0.7812301780517135, 'n_estimators': 284, 'min_child_weight': 7, 'gamma': 0.11205724385712419, 'subsample': 0.45295633172429683, 'colsample_bytree': 0.7280428605836818, 'reg_alpha': 0.5031832525093441, 'reg_lambda': 0.6113637969929295, 'random_state': 433}. Best is trial 55 with value: 7.851610139175669.\u001b[0m\n",
      "\u001b[32m[I 2022-10-18 11:28:59,868]\u001b[0m Trial 61 finished with value: 8.077579553637962 and parameters: {'max_depth': 10, 'learning_rate': 0.025911451358881985, 'n_estimators': 345, 'min_child_weight': 7, 'gamma': 0.0887389391264532, 'subsample': 0.3183219462756671, 'colsample_bytree': 0.640375560087919, 'reg_alpha': 0.5119401744121277, 'reg_lambda': 0.7400452341005127, 'random_state': 318}. Best is trial 55 with value: 7.851610139175669.\u001b[0m\n",
      "\u001b[32m[I 2022-10-18 11:29:24,328]\u001b[0m Trial 62 finished with value: 7.928956206576484 and parameters: {'max_depth': 10, 'learning_rate': 0.017241211740497107, 'n_estimators': 477, 'min_child_weight': 6, 'gamma': 0.011332559725499177, 'subsample': 0.5212493801226167, 'colsample_bytree': 0.5803039576274299, 'reg_alpha': 0.43561805581229796, 'reg_lambda': 0.6021926635736222, 'random_state': 386}. Best is trial 55 with value: 7.851610139175669.\u001b[0m\n",
      "\u001b[32m[I 2022-10-18 11:29:47,616]\u001b[0m Trial 63 finished with value: 8.322723106129763 and parameters: {'max_depth': 10, 'learning_rate': 0.0954123941783979, 'n_estimators': 470, 'min_child_weight': 6, 'gamma': 0.0143633293460779, 'subsample': 0.5062441354283873, 'colsample_bytree': 0.580815616641699, 'reg_alpha': 0.42168851765210413, 'reg_lambda': 0.7196389456350168, 'random_state': 271}. Best is trial 55 with value: 7.851610139175669.\u001b[0m\n",
      "\u001b[32m[I 2022-10-18 11:30:16,632]\u001b[0m Trial 64 finished with value: 7.945748466469481 and parameters: {'max_depth': 10, 'learning_rate': 0.013451359219362491, 'n_estimators': 558, 'min_child_weight': 8, 'gamma': 0.1457320150392391, 'subsample': 0.3865735690385041, 'colsample_bytree': 0.677576645274308, 'reg_alpha': 0.6133488840403868, 'reg_lambda': 0.6093819876972714, 'random_state': 384}. Best is trial 55 with value: 7.851610139175669.\u001b[0m\n",
      "\u001b[32m[I 2022-10-18 11:30:45,746]\u001b[0m Trial 65 finished with value: 8.373837736936231 and parameters: {'max_depth': 10, 'learning_rate': 0.0913983825649023, 'n_estimators': 532, 'min_child_weight': 8, 'gamma': 0.15332114866069999, 'subsample': 0.4307559048986784, 'colsample_bytree': 0.6960208047069728, 'reg_alpha': 0.6119739206528284, 'reg_lambda': 0.6618909995534076, 'random_state': 392}. Best is trial 55 with value: 7.851610139175669.\u001b[0m\n",
      "\u001b[32m[I 2022-10-18 11:31:06,412]\u001b[0m Trial 66 finished with value: 8.558306397904408 and parameters: {'max_depth': 10, 'learning_rate': 0.1422925619468966, 'n_estimators': 327, 'min_child_weight': 6, 'gamma': 0.013758917394934941, 'subsample': 0.5340858931242661, 'colsample_bytree': 0.7737230388472498, 'reg_alpha': 0.5297109531098331, 'reg_lambda': 0.6175759636480022, 'random_state': 347}. Best is trial 55 with value: 7.851610139175669.\u001b[0m\n",
      "\u001b[32m[I 2022-10-18 11:31:18,497]\u001b[0m Trial 67 finished with value: 7.98718201508748 and parameters: {'max_depth': 9, 'learning_rate': 0.013269368482584986, 'n_estimators': 372, 'min_child_weight': 8, 'gamma': 0.05827873086792396, 'subsample': 0.2435651686600928, 'colsample_bytree': 0.48644028960919994, 'reg_alpha': 0.6527123578822935, 'reg_lambda': 0.6181578513219973, 'random_state': 432}. Best is trial 55 with value: 7.851610139175669.\u001b[0m\n",
      "\u001b[32m[I 2022-10-18 11:31:45,171]\u001b[0m Trial 68 finished with value: 8.7657723549279 and parameters: {'max_depth': 10, 'learning_rate': 0.11384489329126148, 'n_estimators': 435, 'min_child_weight': 6, 'gamma': 0.16111874211457083, 'subsample': 0.32168804520457844, 'colsample_bytree': 0.893832089051793, 'reg_alpha': 0.46605967424826905, 'reg_lambda': 0.8212794090418593, 'random_state': 493}. Best is trial 55 with value: 7.851610139175669.\u001b[0m\n",
      "\u001b[32m[I 2022-10-18 11:32:10,701]\u001b[0m Trial 69 finished with value: 8.138321557018472 and parameters: {'max_depth': 9, 'learning_rate': 0.04796380125907089, 'n_estimators': 554, 'min_child_weight': 8, 'gamma': 0.08800822144867106, 'subsample': 0.3659401552201457, 'colsample_bytree': 0.66895514318906, 'reg_alpha': 0.6015256920980355, 'reg_lambda': 0.5946385069645129, 'random_state': 457}. Best is trial 55 with value: 7.851610139175669.\u001b[0m\n",
      "\u001b[32m[I 2022-10-18 11:32:36,453]\u001b[0m Trial 70 finished with value: 8.24701676736094 and parameters: {'max_depth': 10, 'learning_rate': 0.08905113771169362, 'n_estimators': 485, 'min_child_weight': 7, 'gamma': 0.0353164070532309, 'subsample': 0.5111229056561192, 'colsample_bytree': 0.6329066369478492, 'reg_alpha': 0.553430845741347, 'reg_lambda': 0.6624860511779068, 'random_state': 405}. Best is trial 55 with value: 7.851610139175669.\u001b[0m\n",
      "\u001b[32m[I 2022-10-18 11:32:48,935]\u001b[0m Trial 71 finished with value: 7.845934655914427 and parameters: {'max_depth': 9, 'learning_rate': 0.010472875031390591, 'n_estimators': 289, 'min_child_weight': 7, 'gamma': 0.08634732891519253, 'subsample': 0.40772700534804174, 'colsample_bytree': 0.5838862741305885, 'reg_alpha': 0.40126539662045313, 'reg_lambda': 0.7004706221873198, 'random_state': 331}. Best is trial 71 with value: 7.845934655914427.\u001b[0m\n",
      "\u001b[32m[I 2022-10-18 11:33:00,667]\u001b[0m Trial 72 finished with value: 8.062120753190554 and parameters: {'max_depth': 9, 'learning_rate': 0.030775983186345356, 'n_estimators': 266, 'min_child_weight': 7, 'gamma': 0.09072976971365673, 'subsample': 0.41045650373881704, 'colsample_bytree': 0.5896092184728526, 'reg_alpha': 0.3994734522813467, 'reg_lambda': 0.7131374655728114, 'random_state': 338}. Best is trial 71 with value: 7.845934655914427.\u001b[0m\n",
      "\u001b[32m[I 2022-10-18 11:33:17,299]\u001b[0m Trial 73 finished with value: 8.04596133288928 and parameters: {'max_depth': 10, 'learning_rate': 0.041528293271944405, 'n_estimators': 347, 'min_child_weight': 6, 'gamma': 0.1489668376633078, 'subsample': 0.44429161087372915, 'colsample_bytree': 0.548161001867459, 'reg_alpha': 0.346551602209832, 'reg_lambda': 0.783184383005541, 'random_state': 330}. Best is trial 71 with value: 7.845934655914427.\u001b[0m\n",
      "\u001b[32m[I 2022-10-18 11:33:34,730]\u001b[0m Trial 74 finished with value: 7.943399735496951 and parameters: {'max_depth': 10, 'learning_rate': 0.012295366655617191, 'n_estimators': 403, 'min_child_weight': 8, 'gamma': 0.21018720046015296, 'subsample': 0.2835353207587855, 'colsample_bytree': 0.6109506871357276, 'reg_alpha': 0.4761505122318601, 'reg_lambda': 0.6547998182162462, 'random_state': 216}. Best is trial 71 with value: 7.845934655914427.\u001b[0m\n",
      "\u001b[32m[I 2022-10-18 11:33:48,840]\u001b[0m Trial 75 finished with value: 8.530752196348564 and parameters: {'max_depth': 9, 'learning_rate': 0.07481189626442004, 'n_estimators': 403, 'min_child_weight': 7, 'gamma': 0.2576412959490193, 'subsample': 0.28748346599667185, 'colsample_bytree': 0.5064588263399725, 'reg_alpha': 0.4810255718490274, 'reg_lambda': 0.6696145409480732, 'random_state': 215}. Best is trial 71 with value: 7.845934655914427.\u001b[0m\n"
     ]
    },
    {
     "name": "stderr",
     "output_type": "stream",
     "text": [
      "\u001b[32m[I 2022-10-18 11:34:01,297]\u001b[0m Trial 76 finished with value: 10.106240961429839 and parameters: {'max_depth': 10, 'learning_rate': 0.15796192881639579, 'n_estimators': 311, 'min_child_weight': 6, 'gamma': 0.19852147397664568, 'subsample': 0.20835609004789118, 'colsample_bytree': 0.604802947018276, 'reg_alpha': 0.30991942108679854, 'reg_lambda': 0.7476997504786214, 'random_state': 279}. Best is trial 71 with value: 7.845934655914427.\u001b[0m\n",
      "\u001b[32m[I 2022-10-18 11:34:14,937]\u001b[0m Trial 77 finished with value: 8.685231701924367 and parameters: {'max_depth': 9, 'learning_rate': 0.1879100911371729, 'n_estimators': 262, 'min_child_weight': 5, 'gamma': 0.07043133015036848, 'subsample': 0.5988286077140954, 'colsample_bytree': 0.7004156249977397, 'reg_alpha': 0.38537685785789727, 'reg_lambda': 0.5527904369607696, 'random_state': 921}. Best is trial 71 with value: 7.845934655914427.\u001b[0m\n",
      "\u001b[32m[I 2022-10-18 11:34:33,687]\u001b[0m Trial 78 finished with value: 8.961023353312045 and parameters: {'max_depth': 9, 'learning_rate': 0.12490421577764495, 'n_estimators': 376, 'min_child_weight': 7, 'gamma': 0.11581132473553976, 'subsample': 0.3291260545212267, 'colsample_bytree': 0.7705603025246333, 'reg_alpha': 0.5366247393587276, 'reg_lambda': 0.028193541818428036, 'random_state': 246}. Best is trial 71 with value: 7.845934655914427.\u001b[0m\n",
      "\u001b[32m[I 2022-10-18 11:34:52,252]\u001b[0m Trial 79 finished with value: 8.58901151420264 and parameters: {'max_depth': 10, 'learning_rate': 0.0838684120033184, 'n_estimators': 455, 'min_child_weight': 6, 'gamma': 0.02427784533041738, 'subsample': 0.2634377455508605, 'colsample_bytree': 0.573692789942477, 'reg_alpha': 0.4407078751543688, 'reg_lambda': 0.8544157897996681, 'random_state': 364}. Best is trial 71 with value: 7.845934655914427.\u001b[0m\n",
      "\u001b[32m[I 2022-10-18 11:35:03,416]\u001b[0m Trial 80 finished with value: 8.075316861258445 and parameters: {'max_depth': 10, 'learning_rate': 0.04086455712813309, 'n_estimators': 202, 'min_child_weight': 7, 'gamma': 0.054457315646632865, 'subsample': 0.4890710052096828, 'colsample_bytree': 0.6196637986312329, 'reg_alpha': 0.487555088154483, 'reg_lambda': 0.7041886981017981, 'random_state': 168}. Best is trial 71 with value: 7.845934655914427.\u001b[0m\n",
      "\u001b[32m[I 2022-10-18 11:35:18,205]\u001b[0m Trial 81 finished with value: 7.982683879255397 and parameters: {'max_depth': 10, 'learning_rate': 0.017755102897795295, 'n_estimators': 328, 'min_child_weight': 8, 'gamma': 0.13322234774545588, 'subsample': 0.35897635693467156, 'colsample_bytree': 0.5313642243003481, 'reg_alpha': 0.5847521794534629, 'reg_lambda': 0.5861315789258231, 'random_state': 382}. Best is trial 71 with value: 7.845934655914427.\u001b[0m\n",
      "\u001b[32m[I 2022-10-18 11:35:40,527]\u001b[0m Trial 82 finished with value: 7.898762533467127 and parameters: {'max_depth': 10, 'learning_rate': 0.011716063503445158, 'n_estimators': 417, 'min_child_weight': 8, 'gamma': 0.17174075589748167, 'subsample': 0.3944538341647777, 'colsample_bytree': 0.639929379608419, 'reg_alpha': 0.4484458426258721, 'reg_lambda': 0.6252573163842193, 'random_state': 427}. Best is trial 71 with value: 7.845934655914427.\u001b[0m\n",
      "\u001b[32m[I 2022-10-18 11:36:00,332]\u001b[0m Trial 83 finished with value: 8.350682172353602 and parameters: {'max_depth': 9, 'learning_rate': 0.06568444746312906, 'n_estimators': 415, 'min_child_weight': 7, 'gamma': 0.23696435869910085, 'subsample': 0.2935791945799689, 'colsample_bytree': 0.6590927430160861, 'reg_alpha': 0.4421385158154981, 'reg_lambda': 0.6759520518842239, 'random_state': 226}. Best is trial 71 with value: 7.845934655914427.\u001b[0m\n",
      "\u001b[32m[I 2022-10-18 11:36:22,431]\u001b[0m Trial 84 finished with value: 8.081807849430552 and parameters: {'max_depth': 10, 'learning_rate': 0.0402916893070929, 'n_estimators': 387, 'min_child_weight': 8, 'gamma': 0.17207613712304046, 'subsample': 0.41992670598601456, 'colsample_bytree': 0.7108111615236676, 'reg_alpha': 0.40706426086152686, 'reg_lambda': 0.6386435541612411, 'random_state': 425}. Best is trial 71 with value: 7.845934655914427.\u001b[0m\n",
      "\u001b[32m[I 2022-10-18 11:36:42,324]\u001b[0m Trial 85 finished with value: 7.833382769365742 and parameters: {'max_depth': 9, 'learning_rate': 0.010610985178111257, 'n_estimators': 355, 'min_child_weight': 7, 'gamma': 0.10759332579231426, 'subsample': 0.4639301301141698, 'colsample_bytree': 0.7516435422282681, 'reg_alpha': 0.5654516311512616, 'reg_lambda': 0.5233345375057032, 'random_state': 524}. Best is trial 85 with value: 7.833382769365742.\u001b[0m\n",
      "\u001b[32m[I 2022-10-18 11:37:03,787]\u001b[0m Trial 86 finished with value: 8.23998728790768 and parameters: {'max_depth': 9, 'learning_rate': 0.0946356936716714, 'n_estimators': 353, 'min_child_weight': 6, 'gamma': 0.07661828661059722, 'subsample': 0.5494850449724327, 'colsample_bytree': 0.8208025332488679, 'reg_alpha': 0.6654226109688456, 'reg_lambda': 0.5096397952948867, 'random_state': 526}. Best is trial 85 with value: 7.833382769365742.\u001b[0m\n",
      "\u001b[32m[I 2022-10-18 11:37:20,906]\u001b[0m Trial 87 finished with value: 8.237917537956855 and parameters: {'max_depth': 9, 'learning_rate': 0.06980078036418703, 'n_estimators': 305, 'min_child_weight': 7, 'gamma': 0.10029806243906238, 'subsample': 0.4689042301267684, 'colsample_bytree': 0.7531796692953407, 'reg_alpha': 0.5764282751933291, 'reg_lambda': 0.5332366528522676, 'random_state': 454}. Best is trial 85 with value: 7.833382769365742.\u001b[0m\n",
      "\u001b[32m[I 2022-10-18 11:37:36,235]\u001b[0m Trial 88 finished with value: 8.485624167765767 and parameters: {'max_depth': 9, 'learning_rate': 0.12498892482180222, 'n_estimators': 258, 'min_child_weight': 7, 'gamma': 0.03557189932963202, 'subsample': 0.5216425917780765, 'colsample_bytree': 0.8020713477925726, 'reg_alpha': 0.5519364717558247, 'reg_lambda': 0.5643734848107405, 'random_state': 794}. Best is trial 85 with value: 7.833382769365742.\u001b[0m\n",
      "\u001b[32m[I 2022-10-18 11:38:06,816]\u001b[0m Trial 89 finished with value: 8.060702360424377 and parameters: {'max_depth': 9, 'learning_rate': 0.03194476959872528, 'n_estimators': 500, 'min_child_weight': 5, 'gamma': 0.12290607867585684, 'subsample': 0.40646908481380273, 'colsample_bytree': 0.8897554152729898, 'reg_alpha': 0.5188178134817929, 'reg_lambda': 0.48450869806717956, 'random_state': 565}. Best is trial 85 with value: 7.833382769365742.\u001b[0m\n",
      "\u001b[32m[I 2022-10-18 11:38:17,810]\u001b[0m Trial 90 finished with value: 8.138683499575354 and parameters: {'max_depth': 4, 'learning_rate': 0.0596055677768557, 'n_estimators': 444, 'min_child_weight': 6, 'gamma': 0.06603988822081541, 'subsample': 0.44032076476552573, 'colsample_bytree': 0.6404471694767727, 'reg_alpha': 0.4444144566733086, 'reg_lambda': 0.7258318848870796, 'random_state': 475}. Best is trial 85 with value: 7.833382769365742.\u001b[0m\n",
      "\u001b[32m[I 2022-10-18 11:38:39,802]\u001b[0m Trial 91 finished with value: 7.968553288171681 and parameters: {'max_depth': 10, 'learning_rate': 0.01759884889810578, 'n_estimators': 468, 'min_child_weight': 7, 'gamma': 0.010817768175167818, 'subsample': 0.35130400923847627, 'colsample_bytree': 0.6066700523043332, 'reg_alpha': 0.5390014184413612, 'reg_lambda': 0.6467644310511355, 'random_state': 289}. Best is trial 85 with value: 7.833382769365742.\u001b[0m\n",
      "\u001b[32m[I 2022-10-18 11:39:00,054]\u001b[0m Trial 92 finished with value: 7.789057683704832 and parameters: {'max_depth': 10, 'learning_rate': 0.011938901196820607, 'n_estimators': 291, 'min_child_weight': 8, 'gamma': 0.1742812850916403, 'subsample': 0.5691026102586522, 'colsample_bytree': 0.8531643967447635, 'reg_alpha': 0.4724367703165903, 'reg_lambda': 0.7725122886280066, 'random_state': 348}. Best is trial 92 with value: 7.789057683704832.\u001b[0m\n",
      "\u001b[32m[I 2022-10-18 11:39:21,574]\u001b[0m Trial 93 finished with value: 11.821943452480076 and parameters: {'max_depth': 10, 'learning_rate': 0.5974957792080011, 'n_estimators': 289, 'min_child_weight': 8, 'gamma': 0.17412515975852638, 'subsample': 0.5617001217748127, 'colsample_bytree': 0.959852127626067, 'reg_alpha': 0.37017560842162933, 'reg_lambda': 0.7683615980011638, 'random_state': 354}. Best is trial 92 with value: 7.789057683704832.\u001b[0m\n",
      "\u001b[32m[I 2022-10-18 11:39:44,753]\u001b[0m Trial 94 finished with value: 7.9846186550767575 and parameters: {'max_depth': 9, 'learning_rate': 0.04419065166311461, 'n_estimators': 365, 'min_child_weight': 7, 'gamma': 0.052542367254383125, 'subsample': 0.5869184304922661, 'colsample_bytree': 0.8493483925408669, 'reg_alpha': 0.4948830478586176, 'reg_lambda': 0.6864611841038295, 'random_state': 312}. Best is trial 92 with value: 7.789057683704832.\u001b[0m\n"
     ]
    },
    {
     "name": "stderr",
     "output_type": "stream",
     "text": [
      "\u001b[32m[I 2022-10-18 11:39:56,734]\u001b[0m Trial 95 finished with value: 8.190758527584546 and parameters: {'max_depth': 10, 'learning_rate': 0.07839926844608688, 'n_estimators': 238, 'min_child_weight': 8, 'gamma': 0.11153034392838804, 'subsample': 0.49236203301178094, 'colsample_bytree': 0.5636973851256997, 'reg_alpha': 0.2060799518010527, 'reg_lambda': 0.8242924772452809, 'random_state': 407}. Best is trial 92 with value: 7.789057683704832.\u001b[0m\n",
      "\u001b[32m[I 2022-10-18 11:40:17,308]\u001b[0m Trial 96 finished with value: 8.268164255507319 and parameters: {'max_depth': 10, 'learning_rate': 0.10916470755066335, 'n_estimators': 325, 'min_child_weight': 7, 'gamma': 0.0408024892375404, 'subsample': 0.6425317508174647, 'colsample_bytree': 0.7994342670328294, 'reg_alpha': 0.4577718711588507, 'reg_lambda': 0.7984085369736394, 'random_state': 329}. Best is trial 92 with value: 7.789057683704832.\u001b[0m\n",
      "\u001b[32m[I 2022-10-18 11:40:34,201]\u001b[0m Trial 97 finished with value: 7.996607050442463 and parameters: {'max_depth': 8, 'learning_rate': 0.03386946509391265, 'n_estimators': 299, 'min_child_weight': 6, 'gamma': 0.31362988300757677, 'subsample': 0.5270926142607261, 'colsample_bytree': 0.8555683705640318, 'reg_alpha': 0.6911280969530315, 'reg_lambda': 0.5861451739202765, 'random_state': 271}. Best is trial 92 with value: 7.789057683704832.\u001b[0m\n",
      "\u001b[32m[I 2022-10-18 11:40:45,205]\u001b[0m Trial 98 finished with value: 11.138834748433514 and parameters: {'max_depth': 10, 'learning_rate': 0.4592713508908872, 'n_estimators': 253, 'min_child_weight': 7, 'gamma': 0.18537989316557488, 'subsample': 0.47110440591030045, 'colsample_bytree': 0.49107977830383787, 'reg_alpha': 0.6297250564117954, 'reg_lambda': 0.6235406721558697, 'random_state': 612}. Best is trial 92 with value: 7.789057683704832.\u001b[0m\n",
      "\u001b[32m[I 2022-10-18 11:40:56,777]\u001b[0m Trial 99 finished with value: 8.072522310999798 and parameters: {'max_depth': 9, 'learning_rate': 0.05840310793214261, 'n_estimators': 209, 'min_child_weight': 6, 'gamma': 0.13111608044559414, 'subsample': 0.6088662867861638, 'colsample_bytree': 0.7218026735301564, 'reg_alpha': 0.5682664946323238, 'reg_lambda': 0.9190238524777166, 'random_state': 364}. Best is trial 92 with value: 7.789057683704832.\u001b[0m\n"
     ]
    }
   ],
   "source": [
    "study_2.optimize(objective, n_trials=100)"
   ]
  },
  {
   "cell_type": "code",
   "execution_count": 27,
   "id": "07425f53",
   "metadata": {},
   "outputs": [
    {
     "name": "stdout",
     "output_type": "stream",
     "text": [
      "Best parameters {'max_depth': 10, 'learning_rate': 0.011938901196820607, 'n_estimators': 291, 'min_child_weight': 8, 'gamma': 0.1742812850916403, 'subsample': 0.5691026102586522, 'colsample_bytree': 0.8531643967447635, 'reg_alpha': 0.4724367703165903, 'reg_lambda': 0.7725122886280066, 'random_state': 348}\n",
      "Best value 7.789057683704832\n"
     ]
    }
   ],
   "source": [
    "print('Best parameters', study_2.best_params)\n",
    "print('Best value', study_2.best_value)"
   ]
  },
  {
   "cell_type": "markdown",
   "id": "c35d0b08",
   "metadata": {},
   "source": [
    "Cette fois-ci, c'est clairement moins bien qu'avant. "
   ]
  },
  {
   "cell_type": "markdown",
   "id": "ea8e7443",
   "metadata": {},
   "source": [
    "# Notre meilleurs model."
   ]
  },
  {
   "cell_type": "code",
   "execution_count": 30,
   "id": "811b04c5",
   "metadata": {},
   "outputs": [],
   "source": [
    "X_train, X_test, y_train, y_test = train_test_split(X1, y, random_state=21, train_size=0.7, shuffle=True)"
   ]
  },
  {
   "cell_type": "code",
   "execution_count": 31,
   "id": "04d6cdcd",
   "metadata": {},
   "outputs": [],
   "source": [
    "std = StandardScaler()\n",
    "std.fit(X_train)\n",
    "X_train_std = std.transform(X_train)\n",
    "X_test_std = std.transform(X_test)"
   ]
  },
  {
   "cell_type": "code",
   "execution_count": 32,
   "id": "1df41332",
   "metadata": {},
   "outputs": [],
   "source": [
    "b = study_1.best_params"
   ]
  },
  {
   "cell_type": "code",
   "execution_count": 33,
   "id": "b5440877",
   "metadata": {},
   "outputs": [],
   "source": [
    "model = xgb.XGBRegressor(\n",
    "    max_depth=b['max_depth'],\n",
    "    learning_rate=b['learning_rate'],\n",
    "    n_estimators=b['n_estimators'],\n",
    "    min_child_weight=b['min_child_weight'],\n",
    "    gamma=b['gamma'],\n",
    "    subsample=b['subsample'],\n",
    "    colsample_bytree=b['colsample_bytree'],\n",
    "    reg_alpha=b['reg_alpha'],\n",
    "    reg_lambda=b['reg_lambda'],\n",
    "    random_state=b['random_state']\n",
    "            )\n"
   ]
  },
  {
   "cell_type": "code",
   "execution_count": 34,
   "id": "32146dde",
   "metadata": {},
   "outputs": [
    {
     "data": {
      "text/plain": [
       "5.732239425261247"
      ]
     },
     "execution_count": 34,
     "metadata": {},
     "output_type": "execute_result"
    }
   ],
   "source": [
    "model.fit(X_train_std, y_train)\n",
    "y_pred = model.predict(X_test_std)\n",
    "metrics.mean_absolute_error(y_test, y_pred)"
   ]
  },
  {
   "cell_type": "code",
   "execution_count": 35,
   "id": "41cb4e15",
   "metadata": {},
   "outputs": [
    {
     "data": {
      "text/plain": [
       "0.5950347852559775"
      ]
     },
     "execution_count": 35,
     "metadata": {},
     "output_type": "execute_result"
    }
   ],
   "source": [
    "metrics.r2_score(y_test, y_pred)"
   ]
  },
  {
   "cell_type": "markdown",
   "id": "3c39de8a",
   "metadata": {},
   "source": [
    "# Prédiction"
   ]
  },
  {
   "cell_type": "code",
   "execution_count": 37,
   "id": "6745d56b",
   "metadata": {},
   "outputs": [],
   "source": [
    "df_test = pd.read_csv(\"Data/test_1_for_modelisation.csv\")\n",
    "sub = pd.read_csv(\"Data/sample_submission.csv\")"
   ]
  },
  {
   "cell_type": "code",
   "execution_count": 38,
   "id": "74764c04",
   "metadata": {},
   "outputs": [
    {
     "data": {
      "text/html": [
       "<div>\n",
       "<style scoped>\n",
       "    .dataframe tbody tr th:only-of-type {\n",
       "        vertical-align: middle;\n",
       "    }\n",
       "\n",
       "    .dataframe tbody tr th {\n",
       "        vertical-align: top;\n",
       "    }\n",
       "\n",
       "    .dataframe thead th {\n",
       "        text-align: right;\n",
       "    }\n",
       "</style>\n",
       "<table border=\"1\" class=\"dataframe\">\n",
       "  <thead>\n",
       "    <tr style=\"text-align: right;\">\n",
       "      <th></th>\n",
       "      <th>seq_id</th>\n",
       "      <th>protein_sequence</th>\n",
       "      <th>pH</th>\n",
       "      <th>groupe</th>\n",
       "      <th>A</th>\n",
       "      <th>C</th>\n",
       "      <th>D</th>\n",
       "      <th>E</th>\n",
       "      <th>F</th>\n",
       "      <th>G</th>\n",
       "      <th>...</th>\n",
       "      <th>M</th>\n",
       "      <th>N</th>\n",
       "      <th>P</th>\n",
       "      <th>Q</th>\n",
       "      <th>R</th>\n",
       "      <th>S</th>\n",
       "      <th>T</th>\n",
       "      <th>V</th>\n",
       "      <th>W</th>\n",
       "      <th>Y</th>\n",
       "    </tr>\n",
       "  </thead>\n",
       "  <tbody>\n",
       "    <tr>\n",
       "      <th>0</th>\n",
       "      <td>31390</td>\n",
       "      <td>VPVNPEPDATSVENVAEKTGSGDSQSDPIKADLEVKGQSALPFDVD...</td>\n",
       "      <td>8</td>\n",
       "      <td>21793</td>\n",
       "      <td>22</td>\n",
       "      <td>4</td>\n",
       "      <td>15</td>\n",
       "      <td>8</td>\n",
       "      <td>10</td>\n",
       "      <td>19</td>\n",
       "      <td>...</td>\n",
       "      <td>0</td>\n",
       "      <td>19</td>\n",
       "      <td>17</td>\n",
       "      <td>13</td>\n",
       "      <td>3</td>\n",
       "      <td>18</td>\n",
       "      <td>8</td>\n",
       "      <td>13</td>\n",
       "      <td>6</td>\n",
       "      <td>6</td>\n",
       "    </tr>\n",
       "    <tr>\n",
       "      <th>1</th>\n",
       "      <td>31391</td>\n",
       "      <td>VPVNPEPDATSVENVAKKTGSGDSQSDPIKADLEVKGQSALPFDVD...</td>\n",
       "      <td>8</td>\n",
       "      <td>21793</td>\n",
       "      <td>22</td>\n",
       "      <td>4</td>\n",
       "      <td>15</td>\n",
       "      <td>7</td>\n",
       "      <td>10</td>\n",
       "      <td>19</td>\n",
       "      <td>...</td>\n",
       "      <td>0</td>\n",
       "      <td>19</td>\n",
       "      <td>17</td>\n",
       "      <td>13</td>\n",
       "      <td>3</td>\n",
       "      <td>18</td>\n",
       "      <td>8</td>\n",
       "      <td>13</td>\n",
       "      <td>6</td>\n",
       "      <td>6</td>\n",
       "    </tr>\n",
       "    <tr>\n",
       "      <th>2</th>\n",
       "      <td>31392</td>\n",
       "      <td>VPVNPEPDATSVENVAKTGSGDSQSDPIKADLEVKGQSALPFDVDC...</td>\n",
       "      <td>8</td>\n",
       "      <td>21793</td>\n",
       "      <td>22</td>\n",
       "      <td>4</td>\n",
       "      <td>15</td>\n",
       "      <td>7</td>\n",
       "      <td>10</td>\n",
       "      <td>19</td>\n",
       "      <td>...</td>\n",
       "      <td>0</td>\n",
       "      <td>19</td>\n",
       "      <td>17</td>\n",
       "      <td>13</td>\n",
       "      <td>3</td>\n",
       "      <td>18</td>\n",
       "      <td>8</td>\n",
       "      <td>13</td>\n",
       "      <td>6</td>\n",
       "      <td>6</td>\n",
       "    </tr>\n",
       "    <tr>\n",
       "      <th>3</th>\n",
       "      <td>31393</td>\n",
       "      <td>VPVNPEPDATSVENVALCTGSGDSQSDPIKADLEVKGQSALPFDVD...</td>\n",
       "      <td>8</td>\n",
       "      <td>21793</td>\n",
       "      <td>22</td>\n",
       "      <td>5</td>\n",
       "      <td>15</td>\n",
       "      <td>7</td>\n",
       "      <td>10</td>\n",
       "      <td>19</td>\n",
       "      <td>...</td>\n",
       "      <td>0</td>\n",
       "      <td>19</td>\n",
       "      <td>17</td>\n",
       "      <td>13</td>\n",
       "      <td>3</td>\n",
       "      <td>18</td>\n",
       "      <td>8</td>\n",
       "      <td>13</td>\n",
       "      <td>6</td>\n",
       "      <td>6</td>\n",
       "    </tr>\n",
       "    <tr>\n",
       "      <th>4</th>\n",
       "      <td>31394</td>\n",
       "      <td>VPVNPEPDATSVENVALFTGSGDSQSDPIKADLEVKGQSALPFDVD...</td>\n",
       "      <td>8</td>\n",
       "      <td>21793</td>\n",
       "      <td>22</td>\n",
       "      <td>4</td>\n",
       "      <td>15</td>\n",
       "      <td>7</td>\n",
       "      <td>11</td>\n",
       "      <td>19</td>\n",
       "      <td>...</td>\n",
       "      <td>0</td>\n",
       "      <td>19</td>\n",
       "      <td>17</td>\n",
       "      <td>13</td>\n",
       "      <td>3</td>\n",
       "      <td>18</td>\n",
       "      <td>8</td>\n",
       "      <td>13</td>\n",
       "      <td>6</td>\n",
       "      <td>6</td>\n",
       "    </tr>\n",
       "    <tr>\n",
       "      <th>...</th>\n",
       "      <td>...</td>\n",
       "      <td>...</td>\n",
       "      <td>...</td>\n",
       "      <td>...</td>\n",
       "      <td>...</td>\n",
       "      <td>...</td>\n",
       "      <td>...</td>\n",
       "      <td>...</td>\n",
       "      <td>...</td>\n",
       "      <td>...</td>\n",
       "      <td>...</td>\n",
       "      <td>...</td>\n",
       "      <td>...</td>\n",
       "      <td>...</td>\n",
       "      <td>...</td>\n",
       "      <td>...</td>\n",
       "      <td>...</td>\n",
       "      <td>...</td>\n",
       "      <td>...</td>\n",
       "      <td>...</td>\n",
       "      <td>...</td>\n",
       "    </tr>\n",
       "    <tr>\n",
       "      <th>2408</th>\n",
       "      <td>33798</td>\n",
       "      <td>VPVNPEPDATSVENVILKTGSGDSQSDPIKADLEVKGQSALPFDVD...</td>\n",
       "      <td>8</td>\n",
       "      <td>21793</td>\n",
       "      <td>21</td>\n",
       "      <td>4</td>\n",
       "      <td>15</td>\n",
       "      <td>7</td>\n",
       "      <td>10</td>\n",
       "      <td>19</td>\n",
       "      <td>...</td>\n",
       "      <td>0</td>\n",
       "      <td>19</td>\n",
       "      <td>17</td>\n",
       "      <td>13</td>\n",
       "      <td>3</td>\n",
       "      <td>18</td>\n",
       "      <td>8</td>\n",
       "      <td>13</td>\n",
       "      <td>6</td>\n",
       "      <td>6</td>\n",
       "    </tr>\n",
       "    <tr>\n",
       "      <th>2409</th>\n",
       "      <td>33799</td>\n",
       "      <td>VPVNPEPDATSVENVLLKTGSGDSQSDPIKADLEVKGQSALPFDVD...</td>\n",
       "      <td>8</td>\n",
       "      <td>21793</td>\n",
       "      <td>21</td>\n",
       "      <td>4</td>\n",
       "      <td>15</td>\n",
       "      <td>7</td>\n",
       "      <td>10</td>\n",
       "      <td>19</td>\n",
       "      <td>...</td>\n",
       "      <td>0</td>\n",
       "      <td>19</td>\n",
       "      <td>17</td>\n",
       "      <td>13</td>\n",
       "      <td>3</td>\n",
       "      <td>18</td>\n",
       "      <td>8</td>\n",
       "      <td>13</td>\n",
       "      <td>6</td>\n",
       "      <td>6</td>\n",
       "    </tr>\n",
       "    <tr>\n",
       "      <th>2410</th>\n",
       "      <td>33800</td>\n",
       "      <td>VPVNPEPDATSVENVNLKTGSGDSQSDPIKADLEVKGQSALPFDVD...</td>\n",
       "      <td>8</td>\n",
       "      <td>21793</td>\n",
       "      <td>21</td>\n",
       "      <td>4</td>\n",
       "      <td>15</td>\n",
       "      <td>7</td>\n",
       "      <td>10</td>\n",
       "      <td>19</td>\n",
       "      <td>...</td>\n",
       "      <td>0</td>\n",
       "      <td>20</td>\n",
       "      <td>17</td>\n",
       "      <td>13</td>\n",
       "      <td>3</td>\n",
       "      <td>18</td>\n",
       "      <td>8</td>\n",
       "      <td>13</td>\n",
       "      <td>6</td>\n",
       "      <td>6</td>\n",
       "    </tr>\n",
       "    <tr>\n",
       "      <th>2411</th>\n",
       "      <td>33801</td>\n",
       "      <td>VPVNPEPDATSVENVPLKTGSGDSQSDPIKADLEVKGQSALPFDVD...</td>\n",
       "      <td>8</td>\n",
       "      <td>21793</td>\n",
       "      <td>21</td>\n",
       "      <td>4</td>\n",
       "      <td>15</td>\n",
       "      <td>7</td>\n",
       "      <td>10</td>\n",
       "      <td>19</td>\n",
       "      <td>...</td>\n",
       "      <td>0</td>\n",
       "      <td>19</td>\n",
       "      <td>18</td>\n",
       "      <td>13</td>\n",
       "      <td>3</td>\n",
       "      <td>18</td>\n",
       "      <td>8</td>\n",
       "      <td>13</td>\n",
       "      <td>6</td>\n",
       "      <td>6</td>\n",
       "    </tr>\n",
       "    <tr>\n",
       "      <th>2412</th>\n",
       "      <td>33802</td>\n",
       "      <td>VPVNPEPDATSVENVWLKTGSGDSQSDPIKADLEVKGQSALPFDVD...</td>\n",
       "      <td>8</td>\n",
       "      <td>21793</td>\n",
       "      <td>21</td>\n",
       "      <td>4</td>\n",
       "      <td>15</td>\n",
       "      <td>7</td>\n",
       "      <td>10</td>\n",
       "      <td>19</td>\n",
       "      <td>...</td>\n",
       "      <td>0</td>\n",
       "      <td>19</td>\n",
       "      <td>17</td>\n",
       "      <td>13</td>\n",
       "      <td>3</td>\n",
       "      <td>18</td>\n",
       "      <td>8</td>\n",
       "      <td>13</td>\n",
       "      <td>7</td>\n",
       "      <td>6</td>\n",
       "    </tr>\n",
       "  </tbody>\n",
       "</table>\n",
       "<p>2413 rows × 24 columns</p>\n",
       "</div>"
      ],
      "text/plain": [
       "      seq_id                                   protein_sequence  pH  groupe  \\\n",
       "0      31390  VPVNPEPDATSVENVAEKTGSGDSQSDPIKADLEVKGQSALPFDVD...   8   21793   \n",
       "1      31391  VPVNPEPDATSVENVAKKTGSGDSQSDPIKADLEVKGQSALPFDVD...   8   21793   \n",
       "2      31392  VPVNPEPDATSVENVAKTGSGDSQSDPIKADLEVKGQSALPFDVDC...   8   21793   \n",
       "3      31393  VPVNPEPDATSVENVALCTGSGDSQSDPIKADLEVKGQSALPFDVD...   8   21793   \n",
       "4      31394  VPVNPEPDATSVENVALFTGSGDSQSDPIKADLEVKGQSALPFDVD...   8   21793   \n",
       "...      ...                                                ...  ..     ...   \n",
       "2408   33798  VPVNPEPDATSVENVILKTGSGDSQSDPIKADLEVKGQSALPFDVD...   8   21793   \n",
       "2409   33799  VPVNPEPDATSVENVLLKTGSGDSQSDPIKADLEVKGQSALPFDVD...   8   21793   \n",
       "2410   33800  VPVNPEPDATSVENVNLKTGSGDSQSDPIKADLEVKGQSALPFDVD...   8   21793   \n",
       "2411   33801  VPVNPEPDATSVENVPLKTGSGDSQSDPIKADLEVKGQSALPFDVD...   8   21793   \n",
       "2412   33802  VPVNPEPDATSVENVWLKTGSGDSQSDPIKADLEVKGQSALPFDVD...   8   21793   \n",
       "\n",
       "       A  C   D  E   F   G  ...  M   N   P   Q  R   S  T   V  W  Y  \n",
       "0     22  4  15  8  10  19  ...  0  19  17  13  3  18  8  13  6  6  \n",
       "1     22  4  15  7  10  19  ...  0  19  17  13  3  18  8  13  6  6  \n",
       "2     22  4  15  7  10  19  ...  0  19  17  13  3  18  8  13  6  6  \n",
       "3     22  5  15  7  10  19  ...  0  19  17  13  3  18  8  13  6  6  \n",
       "4     22  4  15  7  11  19  ...  0  19  17  13  3  18  8  13  6  6  \n",
       "...   .. ..  .. ..  ..  ..  ... ..  ..  ..  .. ..  .. ..  .. .. ..  \n",
       "2408  21  4  15  7  10  19  ...  0  19  17  13  3  18  8  13  6  6  \n",
       "2409  21  4  15  7  10  19  ...  0  19  17  13  3  18  8  13  6  6  \n",
       "2410  21  4  15  7  10  19  ...  0  20  17  13  3  18  8  13  6  6  \n",
       "2411  21  4  15  7  10  19  ...  0  19  18  13  3  18  8  13  6  6  \n",
       "2412  21  4  15  7  10  19  ...  0  19  17  13  3  18  8  13  7  6  \n",
       "\n",
       "[2413 rows x 24 columns]"
      ]
     },
     "execution_count": 38,
     "metadata": {},
     "output_type": "execute_result"
    }
   ],
   "source": [
    "df_test"
   ]
  },
  {
   "cell_type": "code",
   "execution_count": 41,
   "id": "b0044513",
   "metadata": {},
   "outputs": [],
   "source": [
    "T = df_test.drop(['seq_id','protein_sequence'], axis=1).values"
   ]
  },
  {
   "cell_type": "code",
   "execution_count": 42,
   "id": "47d7eebc",
   "metadata": {},
   "outputs": [],
   "source": [
    "T = std.transform(T)"
   ]
  },
  {
   "cell_type": "code",
   "execution_count": 43,
   "id": "28bcf4e0",
   "metadata": {},
   "outputs": [],
   "source": [
    "y_pred = model.predict(T)"
   ]
  },
  {
   "cell_type": "code",
   "execution_count": 44,
   "id": "82a726bc",
   "metadata": {},
   "outputs": [
    {
     "data": {
      "text/plain": [
       "array([55.837357, 55.854015, 55.69234 , ..., 57.027264, 55.704838,\n",
       "       56.453148], dtype=float32)"
      ]
     },
     "execution_count": 44,
     "metadata": {},
     "output_type": "execute_result"
    }
   ],
   "source": [
    "y_pred"
   ]
  },
  {
   "cell_type": "code",
   "execution_count": 45,
   "id": "78210906",
   "metadata": {},
   "outputs": [
    {
     "data": {
      "text/html": [
       "<div>\n",
       "<style scoped>\n",
       "    .dataframe tbody tr th:only-of-type {\n",
       "        vertical-align: middle;\n",
       "    }\n",
       "\n",
       "    .dataframe tbody tr th {\n",
       "        vertical-align: top;\n",
       "    }\n",
       "\n",
       "    .dataframe thead th {\n",
       "        text-align: right;\n",
       "    }\n",
       "</style>\n",
       "<table border=\"1\" class=\"dataframe\">\n",
       "  <thead>\n",
       "    <tr style=\"text-align: right;\">\n",
       "      <th></th>\n",
       "      <th>seq_id</th>\n",
       "      <th>tm</th>\n",
       "    </tr>\n",
       "  </thead>\n",
       "  <tbody>\n",
       "    <tr>\n",
       "      <th>0</th>\n",
       "      <td>31390</td>\n",
       "      <td>0</td>\n",
       "    </tr>\n",
       "    <tr>\n",
       "      <th>1</th>\n",
       "      <td>31391</td>\n",
       "      <td>1</td>\n",
       "    </tr>\n",
       "    <tr>\n",
       "      <th>2</th>\n",
       "      <td>31392</td>\n",
       "      <td>2</td>\n",
       "    </tr>\n",
       "    <tr>\n",
       "      <th>3</th>\n",
       "      <td>31393</td>\n",
       "      <td>3</td>\n",
       "    </tr>\n",
       "    <tr>\n",
       "      <th>4</th>\n",
       "      <td>31394</td>\n",
       "      <td>4</td>\n",
       "    </tr>\n",
       "    <tr>\n",
       "      <th>...</th>\n",
       "      <td>...</td>\n",
       "      <td>...</td>\n",
       "    </tr>\n",
       "    <tr>\n",
       "      <th>2408</th>\n",
       "      <td>33798</td>\n",
       "      <td>2408</td>\n",
       "    </tr>\n",
       "    <tr>\n",
       "      <th>2409</th>\n",
       "      <td>33799</td>\n",
       "      <td>2409</td>\n",
       "    </tr>\n",
       "    <tr>\n",
       "      <th>2410</th>\n",
       "      <td>33800</td>\n",
       "      <td>2410</td>\n",
       "    </tr>\n",
       "    <tr>\n",
       "      <th>2411</th>\n",
       "      <td>33801</td>\n",
       "      <td>2411</td>\n",
       "    </tr>\n",
       "    <tr>\n",
       "      <th>2412</th>\n",
       "      <td>33802</td>\n",
       "      <td>2412</td>\n",
       "    </tr>\n",
       "  </tbody>\n",
       "</table>\n",
       "<p>2413 rows × 2 columns</p>\n",
       "</div>"
      ],
      "text/plain": [
       "      seq_id    tm\n",
       "0      31390     0\n",
       "1      31391     1\n",
       "2      31392     2\n",
       "3      31393     3\n",
       "4      31394     4\n",
       "...      ...   ...\n",
       "2408   33798  2408\n",
       "2409   33799  2409\n",
       "2410   33800  2410\n",
       "2411   33801  2411\n",
       "2412   33802  2412\n",
       "\n",
       "[2413 rows x 2 columns]"
      ]
     },
     "execution_count": 45,
     "metadata": {},
     "output_type": "execute_result"
    }
   ],
   "source": [
    "sub"
   ]
  },
  {
   "cell_type": "code",
   "execution_count": 46,
   "id": "6eeb10a1",
   "metadata": {},
   "outputs": [],
   "source": [
    "sub['tm'] = y_pred.T"
   ]
  },
  {
   "cell_type": "code",
   "execution_count": 47,
   "id": "4a2f28a7",
   "metadata": {},
   "outputs": [
    {
     "data": {
      "text/html": [
       "<div>\n",
       "<style scoped>\n",
       "    .dataframe tbody tr th:only-of-type {\n",
       "        vertical-align: middle;\n",
       "    }\n",
       "\n",
       "    .dataframe tbody tr th {\n",
       "        vertical-align: top;\n",
       "    }\n",
       "\n",
       "    .dataframe thead th {\n",
       "        text-align: right;\n",
       "    }\n",
       "</style>\n",
       "<table border=\"1\" class=\"dataframe\">\n",
       "  <thead>\n",
       "    <tr style=\"text-align: right;\">\n",
       "      <th></th>\n",
       "      <th>seq_id</th>\n",
       "      <th>tm</th>\n",
       "    </tr>\n",
       "  </thead>\n",
       "  <tbody>\n",
       "    <tr>\n",
       "      <th>0</th>\n",
       "      <td>31390</td>\n",
       "      <td>55.837357</td>\n",
       "    </tr>\n",
       "    <tr>\n",
       "      <th>1</th>\n",
       "      <td>31391</td>\n",
       "      <td>55.854015</td>\n",
       "    </tr>\n",
       "    <tr>\n",
       "      <th>2</th>\n",
       "      <td>31392</td>\n",
       "      <td>55.692341</td>\n",
       "    </tr>\n",
       "    <tr>\n",
       "      <th>3</th>\n",
       "      <td>31393</td>\n",
       "      <td>55.915981</td>\n",
       "    </tr>\n",
       "    <tr>\n",
       "      <th>4</th>\n",
       "      <td>31394</td>\n",
       "      <td>55.663597</td>\n",
       "    </tr>\n",
       "    <tr>\n",
       "      <th>...</th>\n",
       "      <td>...</td>\n",
       "      <td>...</td>\n",
       "    </tr>\n",
       "    <tr>\n",
       "      <th>2408</th>\n",
       "      <td>33798</td>\n",
       "      <td>56.334030</td>\n",
       "    </tr>\n",
       "    <tr>\n",
       "      <th>2409</th>\n",
       "      <td>33799</td>\n",
       "      <td>56.501278</td>\n",
       "    </tr>\n",
       "    <tr>\n",
       "      <th>2410</th>\n",
       "      <td>33800</td>\n",
       "      <td>57.027264</td>\n",
       "    </tr>\n",
       "    <tr>\n",
       "      <th>2411</th>\n",
       "      <td>33801</td>\n",
       "      <td>55.704838</td>\n",
       "    </tr>\n",
       "    <tr>\n",
       "      <th>2412</th>\n",
       "      <td>33802</td>\n",
       "      <td>56.453148</td>\n",
       "    </tr>\n",
       "  </tbody>\n",
       "</table>\n",
       "<p>2413 rows × 2 columns</p>\n",
       "</div>"
      ],
      "text/plain": [
       "      seq_id         tm\n",
       "0      31390  55.837357\n",
       "1      31391  55.854015\n",
       "2      31392  55.692341\n",
       "3      31393  55.915981\n",
       "4      31394  55.663597\n",
       "...      ...        ...\n",
       "2408   33798  56.334030\n",
       "2409   33799  56.501278\n",
       "2410   33800  57.027264\n",
       "2411   33801  55.704838\n",
       "2412   33802  56.453148\n",
       "\n",
       "[2413 rows x 2 columns]"
      ]
     },
     "execution_count": 47,
     "metadata": {},
     "output_type": "execute_result"
    }
   ],
   "source": [
    "sub"
   ]
  },
  {
   "cell_type": "code",
   "execution_count": 49,
   "id": "86e61088",
   "metadata": {},
   "outputs": [],
   "source": [
    "sub.to_csv(\"Submission/sample_submission.csv\", index=False)"
   ]
  }
 ],
 "metadata": {
  "kernelspec": {
   "display_name": "Python 3 (ipykernel)",
   "language": "python",
   "name": "python3"
  },
  "language_info": {
   "codemirror_mode": {
    "name": "ipython",
    "version": 3
   },
   "file_extension": ".py",
   "mimetype": "text/x-python",
   "name": "python",
   "nbconvert_exporter": "python",
   "pygments_lexer": "ipython3",
   "version": "3.9.13"
  }
 },
 "nbformat": 4,
 "nbformat_minor": 5
}
