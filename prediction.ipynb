{
 "cells": [
  {
   "cell_type": "markdown",
   "id": "4c14b565",
   "metadata": {},
   "source": [
    "# Predictions"
   ]
  },
  {
   "cell_type": "code",
   "execution_count": 1,
   "id": "87f7c26d",
   "metadata": {},
   "outputs": [],
   "source": [
    "import pandas as pd\n",
    "import numpy as np\n",
    "import matplotlib.pyplot as plt\n",
    "import seaborn as sns\n",
    "from sklearn.model_selection import train_test_split\n",
    "from sklearn.preprocessing import StandardScaler\n",
    "import xgboost as xgb\n",
    "from sklearn import metrics\n",
    "from sklearn import dummy\n",
    "import optuna"
   ]
  },
  {
   "cell_type": "code",
   "execution_count": 2,
   "id": "d0791734",
   "metadata": {},
   "outputs": [],
   "source": [
    "train1 = pd.read_csv(\"Data/train_version1_for_modelisation.csv\")\n",
    "train2 = pd.read_csv(\"Data/train_version2_for_modelisation.csv\")"
   ]
  },
  {
   "cell_type": "code",
   "execution_count": 3,
   "id": "1d295b9d",
   "metadata": {},
   "outputs": [
    {
     "data": {
      "text/html": [
       "<div>\n",
       "<style scoped>\n",
       "    .dataframe tbody tr th:only-of-type {\n",
       "        vertical-align: middle;\n",
       "    }\n",
       "\n",
       "    .dataframe tbody tr th {\n",
       "        vertical-align: top;\n",
       "    }\n",
       "\n",
       "    .dataframe thead th {\n",
       "        text-align: right;\n",
       "    }\n",
       "</style>\n",
       "<table border=\"1\" class=\"dataframe\">\n",
       "  <thead>\n",
       "    <tr style=\"text-align: right;\">\n",
       "      <th></th>\n",
       "      <th>seq_id</th>\n",
       "      <th>protein_sequence</th>\n",
       "      <th>pH</th>\n",
       "      <th>tm</th>\n",
       "      <th>protein_length</th>\n",
       "      <th>groupe</th>\n",
       "      <th>A</th>\n",
       "      <th>C</th>\n",
       "      <th>D</th>\n",
       "      <th>E</th>\n",
       "      <th>...</th>\n",
       "      <th>M</th>\n",
       "      <th>N</th>\n",
       "      <th>P</th>\n",
       "      <th>Q</th>\n",
       "      <th>R</th>\n",
       "      <th>S</th>\n",
       "      <th>T</th>\n",
       "      <th>V</th>\n",
       "      <th>W</th>\n",
       "      <th>Y</th>\n",
       "    </tr>\n",
       "  </thead>\n",
       "  <tbody>\n",
       "    <tr>\n",
       "      <th>0</th>\n",
       "      <td>0</td>\n",
       "      <td>AAAAKAAALALLGEAPEVVDIWLPAGWRQPFRVFRLERKGDGVLVG...</td>\n",
       "      <td>7.0</td>\n",
       "      <td>75.7</td>\n",
       "      <td>341</td>\n",
       "      <td>0</td>\n",
       "      <td>45</td>\n",
       "      <td>1</td>\n",
       "      <td>13</td>\n",
       "      <td>30</td>\n",
       "      <td>...</td>\n",
       "      <td>8</td>\n",
       "      <td>5</td>\n",
       "      <td>18</td>\n",
       "      <td>6</td>\n",
       "      <td>25</td>\n",
       "      <td>11</td>\n",
       "      <td>14</td>\n",
       "      <td>37</td>\n",
       "      <td>4</td>\n",
       "      <td>3</td>\n",
       "    </tr>\n",
       "    <tr>\n",
       "      <th>1</th>\n",
       "      <td>1</td>\n",
       "      <td>AAADGEPLHNEEERAGAGQVGRSLPQESEEQRTGSRPRRRRDLGSR...</td>\n",
       "      <td>7.0</td>\n",
       "      <td>50.5</td>\n",
       "      <td>286</td>\n",
       "      <td>1</td>\n",
       "      <td>28</td>\n",
       "      <td>0</td>\n",
       "      <td>10</td>\n",
       "      <td>52</td>\n",
       "      <td>...</td>\n",
       "      <td>2</td>\n",
       "      <td>6</td>\n",
       "      <td>8</td>\n",
       "      <td>22</td>\n",
       "      <td>30</td>\n",
       "      <td>14</td>\n",
       "      <td>12</td>\n",
       "      <td>13</td>\n",
       "      <td>3</td>\n",
       "      <td>3</td>\n",
       "    </tr>\n",
       "    <tr>\n",
       "      <th>2</th>\n",
       "      <td>2</td>\n",
       "      <td>AAAFSTPRATSYRILSSAGSGSTRADAPQVRRLHTTRDLLAKDYYA...</td>\n",
       "      <td>7.0</td>\n",
       "      <td>40.5</td>\n",
       "      <td>497</td>\n",
       "      <td>2</td>\n",
       "      <td>50</td>\n",
       "      <td>9</td>\n",
       "      <td>27</td>\n",
       "      <td>32</td>\n",
       "      <td>...</td>\n",
       "      <td>6</td>\n",
       "      <td>15</td>\n",
       "      <td>20</td>\n",
       "      <td>25</td>\n",
       "      <td>31</td>\n",
       "      <td>33</td>\n",
       "      <td>30</td>\n",
       "      <td>30</td>\n",
       "      <td>3</td>\n",
       "      <td>16</td>\n",
       "    </tr>\n",
       "    <tr>\n",
       "      <th>3</th>\n",
       "      <td>3</td>\n",
       "      <td>AAASGLRTAIPAQPLRHLLQPAPRPCLRPFGLLSVRAGSARRSGLL...</td>\n",
       "      <td>7.0</td>\n",
       "      <td>47.2</td>\n",
       "      <td>265</td>\n",
       "      <td>3</td>\n",
       "      <td>20</td>\n",
       "      <td>5</td>\n",
       "      <td>19</td>\n",
       "      <td>29</td>\n",
       "      <td>...</td>\n",
       "      <td>2</td>\n",
       "      <td>9</td>\n",
       "      <td>16</td>\n",
       "      <td>9</td>\n",
       "      <td>10</td>\n",
       "      <td>16</td>\n",
       "      <td>19</td>\n",
       "      <td>14</td>\n",
       "      <td>3</td>\n",
       "      <td>4</td>\n",
       "    </tr>\n",
       "    <tr>\n",
       "      <th>4</th>\n",
       "      <td>5</td>\n",
       "      <td>AACFWRRTVIPKPPFRGISTTSARSTVMPAWVIDKYGKNEVLRFTQ...</td>\n",
       "      <td>7.0</td>\n",
       "      <td>48.4</td>\n",
       "      <td>380</td>\n",
       "      <td>4</td>\n",
       "      <td>33</td>\n",
       "      <td>4</td>\n",
       "      <td>16</td>\n",
       "      <td>19</td>\n",
       "      <td>...</td>\n",
       "      <td>11</td>\n",
       "      <td>13</td>\n",
       "      <td>19</td>\n",
       "      <td>8</td>\n",
       "      <td>16</td>\n",
       "      <td>22</td>\n",
       "      <td>25</td>\n",
       "      <td>41</td>\n",
       "      <td>10</td>\n",
       "      <td>9</td>\n",
       "    </tr>\n",
       "    <tr>\n",
       "      <th>...</th>\n",
       "      <td>...</td>\n",
       "      <td>...</td>\n",
       "      <td>...</td>\n",
       "      <td>...</td>\n",
       "      <td>...</td>\n",
       "      <td>...</td>\n",
       "      <td>...</td>\n",
       "      <td>...</td>\n",
       "      <td>...</td>\n",
       "      <td>...</td>\n",
       "      <td>...</td>\n",
       "      <td>...</td>\n",
       "      <td>...</td>\n",
       "      <td>...</td>\n",
       "      <td>...</td>\n",
       "      <td>...</td>\n",
       "      <td>...</td>\n",
       "      <td>...</td>\n",
       "      <td>...</td>\n",
       "      <td>...</td>\n",
       "      <td>...</td>\n",
       "    </tr>\n",
       "    <tr>\n",
       "      <th>25172</th>\n",
       "      <td>31385</td>\n",
       "      <td>YYMYSGGGSALAAGGGGAGRKGDWNDIDSIKKKDLHHSRGDEKAQG...</td>\n",
       "      <td>7.0</td>\n",
       "      <td>51.8</td>\n",
       "      <td>549</td>\n",
       "      <td>21788</td>\n",
       "      <td>33</td>\n",
       "      <td>12</td>\n",
       "      <td>38</td>\n",
       "      <td>31</td>\n",
       "      <td>...</td>\n",
       "      <td>13</td>\n",
       "      <td>24</td>\n",
       "      <td>25</td>\n",
       "      <td>24</td>\n",
       "      <td>42</td>\n",
       "      <td>33</td>\n",
       "      <td>18</td>\n",
       "      <td>42</td>\n",
       "      <td>13</td>\n",
       "      <td>18</td>\n",
       "    </tr>\n",
       "    <tr>\n",
       "      <th>25173</th>\n",
       "      <td>31386</td>\n",
       "      <td>YYNDQHRLSSYSVETAMFLSWERAIVKPGAMFKKAVIGFNCNVDLI...</td>\n",
       "      <td>7.0</td>\n",
       "      <td>37.2</td>\n",
       "      <td>469</td>\n",
       "      <td>21789</td>\n",
       "      <td>37</td>\n",
       "      <td>5</td>\n",
       "      <td>21</td>\n",
       "      <td>29</td>\n",
       "      <td>...</td>\n",
       "      <td>14</td>\n",
       "      <td>19</td>\n",
       "      <td>19</td>\n",
       "      <td>16</td>\n",
       "      <td>25</td>\n",
       "      <td>37</td>\n",
       "      <td>26</td>\n",
       "      <td>34</td>\n",
       "      <td>5</td>\n",
       "      <td>14</td>\n",
       "    </tr>\n",
       "    <tr>\n",
       "      <th>25174</th>\n",
       "      <td>31387</td>\n",
       "      <td>YYQRTLGAELLYKISFGEMPKSAQDSAENCPSGMQFPDTAIAHANV...</td>\n",
       "      <td>7.0</td>\n",
       "      <td>64.6</td>\n",
       "      <td>128</td>\n",
       "      <td>21790</td>\n",
       "      <td>13</td>\n",
       "      <td>1</td>\n",
       "      <td>7</td>\n",
       "      <td>7</td>\n",
       "      <td>...</td>\n",
       "      <td>7</td>\n",
       "      <td>5</td>\n",
       "      <td>6</td>\n",
       "      <td>8</td>\n",
       "      <td>3</td>\n",
       "      <td>10</td>\n",
       "      <td>6</td>\n",
       "      <td>7</td>\n",
       "      <td>4</td>\n",
       "      <td>4</td>\n",
       "    </tr>\n",
       "    <tr>\n",
       "      <th>25175</th>\n",
       "      <td>31388</td>\n",
       "      <td>YYSFSDNITTVFLSRQAIDDDHSLSLGTISDVVESENGVVAADDAR...</td>\n",
       "      <td>7.0</td>\n",
       "      <td>50.7</td>\n",
       "      <td>593</td>\n",
       "      <td>21791</td>\n",
       "      <td>47</td>\n",
       "      <td>5</td>\n",
       "      <td>34</td>\n",
       "      <td>36</td>\n",
       "      <td>...</td>\n",
       "      <td>26</td>\n",
       "      <td>25</td>\n",
       "      <td>31</td>\n",
       "      <td>12</td>\n",
       "      <td>25</td>\n",
       "      <td>51</td>\n",
       "      <td>32</td>\n",
       "      <td>48</td>\n",
       "      <td>3</td>\n",
       "      <td>18</td>\n",
       "    </tr>\n",
       "    <tr>\n",
       "      <th>25176</th>\n",
       "      <td>31389</td>\n",
       "      <td>YYVPDEYWQSLEVAHKLTFGYGYLTWEWVQGIRSYVYPLLIAGLYK...</td>\n",
       "      <td>7.0</td>\n",
       "      <td>37.6</td>\n",
       "      <td>537</td>\n",
       "      <td>21792</td>\n",
       "      <td>34</td>\n",
       "      <td>5</td>\n",
       "      <td>15</td>\n",
       "      <td>32</td>\n",
       "      <td>...</td>\n",
       "      <td>7</td>\n",
       "      <td>20</td>\n",
       "      <td>31</td>\n",
       "      <td>18</td>\n",
       "      <td>28</td>\n",
       "      <td>34</td>\n",
       "      <td>29</td>\n",
       "      <td>38</td>\n",
       "      <td>18</td>\n",
       "      <td>29</td>\n",
       "    </tr>\n",
       "  </tbody>\n",
       "</table>\n",
       "<p>25177 rows × 26 columns</p>\n",
       "</div>"
      ],
      "text/plain": [
       "       seq_id                                   protein_sequence   pH    tm  \\\n",
       "0           0  AAAAKAAALALLGEAPEVVDIWLPAGWRQPFRVFRLERKGDGVLVG...  7.0  75.7   \n",
       "1           1  AAADGEPLHNEEERAGAGQVGRSLPQESEEQRTGSRPRRRRDLGSR...  7.0  50.5   \n",
       "2           2  AAAFSTPRATSYRILSSAGSGSTRADAPQVRRLHTTRDLLAKDYYA...  7.0  40.5   \n",
       "3           3  AAASGLRTAIPAQPLRHLLQPAPRPCLRPFGLLSVRAGSARRSGLL...  7.0  47.2   \n",
       "4           5  AACFWRRTVIPKPPFRGISTTSARSTVMPAWVIDKYGKNEVLRFTQ...  7.0  48.4   \n",
       "...       ...                                                ...  ...   ...   \n",
       "25172   31385  YYMYSGGGSALAAGGGGAGRKGDWNDIDSIKKKDLHHSRGDEKAQG...  7.0  51.8   \n",
       "25173   31386  YYNDQHRLSSYSVETAMFLSWERAIVKPGAMFKKAVIGFNCNVDLI...  7.0  37.2   \n",
       "25174   31387  YYQRTLGAELLYKISFGEMPKSAQDSAENCPSGMQFPDTAIAHANV...  7.0  64.6   \n",
       "25175   31388  YYSFSDNITTVFLSRQAIDDDHSLSLGTISDVVESENGVVAADDAR...  7.0  50.7   \n",
       "25176   31389  YYVPDEYWQSLEVAHKLTFGYGYLTWEWVQGIRSYVYPLLIAGLYK...  7.0  37.6   \n",
       "\n",
       "       protein_length  groupe   A   C   D   E  ...   M   N   P   Q   R   S  \\\n",
       "0                 341       0  45   1  13  30  ...   8   5  18   6  25  11   \n",
       "1                 286       1  28   0  10  52  ...   2   6   8  22  30  14   \n",
       "2                 497       2  50   9  27  32  ...   6  15  20  25  31  33   \n",
       "3                 265       3  20   5  19  29  ...   2   9  16   9  10  16   \n",
       "4                 380       4  33   4  16  19  ...  11  13  19   8  16  22   \n",
       "...               ...     ...  ..  ..  ..  ..  ...  ..  ..  ..  ..  ..  ..   \n",
       "25172             549   21788  33  12  38  31  ...  13  24  25  24  42  33   \n",
       "25173             469   21789  37   5  21  29  ...  14  19  19  16  25  37   \n",
       "25174             128   21790  13   1   7   7  ...   7   5   6   8   3  10   \n",
       "25175             593   21791  47   5  34  36  ...  26  25  31  12  25  51   \n",
       "25176             537   21792  34   5  15  32  ...   7  20  31  18  28  34   \n",
       "\n",
       "        T   V   W   Y  \n",
       "0      14  37   4   3  \n",
       "1      12  13   3   3  \n",
       "2      30  30   3  16  \n",
       "3      19  14   3   4  \n",
       "4      25  41  10   9  \n",
       "...    ..  ..  ..  ..  \n",
       "25172  18  42  13  18  \n",
       "25173  26  34   5  14  \n",
       "25174   6   7   4   4  \n",
       "25175  32  48   3  18  \n",
       "25176  29  38  18  29  \n",
       "\n",
       "[25177 rows x 26 columns]"
      ]
     },
     "execution_count": 3,
     "metadata": {},
     "output_type": "execute_result"
    }
   ],
   "source": [
    "train1"
   ]
  },
  {
   "cell_type": "code",
   "execution_count": 4,
   "id": "ff6b1210",
   "metadata": {},
   "outputs": [
    {
     "data": {
      "text/html": [
       "<div>\n",
       "<style scoped>\n",
       "    .dataframe tbody tr th:only-of-type {\n",
       "        vertical-align: middle;\n",
       "    }\n",
       "\n",
       "    .dataframe tbody tr th {\n",
       "        vertical-align: top;\n",
       "    }\n",
       "\n",
       "    .dataframe thead th {\n",
       "        text-align: right;\n",
       "    }\n",
       "</style>\n",
       "<table border=\"1\" class=\"dataframe\">\n",
       "  <thead>\n",
       "    <tr style=\"text-align: right;\">\n",
       "      <th></th>\n",
       "      <th>0</th>\n",
       "      <th>1</th>\n",
       "      <th>2</th>\n",
       "      <th>3</th>\n",
       "      <th>4</th>\n",
       "      <th>5</th>\n",
       "      <th>6</th>\n",
       "      <th>7</th>\n",
       "      <th>8</th>\n",
       "      <th>9</th>\n",
       "      <th>...</th>\n",
       "      <th>990</th>\n",
       "      <th>991</th>\n",
       "      <th>992</th>\n",
       "      <th>993</th>\n",
       "      <th>994</th>\n",
       "      <th>995</th>\n",
       "      <th>996</th>\n",
       "      <th>997</th>\n",
       "      <th>998</th>\n",
       "      <th>pH</th>\n",
       "    </tr>\n",
       "  </thead>\n",
       "  <tbody>\n",
       "    <tr>\n",
       "      <th>0</th>\n",
       "      <td>1</td>\n",
       "      <td>1</td>\n",
       "      <td>1</td>\n",
       "      <td>1</td>\n",
       "      <td>9</td>\n",
       "      <td>1</td>\n",
       "      <td>1</td>\n",
       "      <td>1</td>\n",
       "      <td>10</td>\n",
       "      <td>1</td>\n",
       "      <td>...</td>\n",
       "      <td>0</td>\n",
       "      <td>0</td>\n",
       "      <td>0</td>\n",
       "      <td>0</td>\n",
       "      <td>0</td>\n",
       "      <td>0</td>\n",
       "      <td>0</td>\n",
       "      <td>0</td>\n",
       "      <td>0</td>\n",
       "      <td>7.0</td>\n",
       "    </tr>\n",
       "    <tr>\n",
       "      <th>1</th>\n",
       "      <td>1</td>\n",
       "      <td>1</td>\n",
       "      <td>1</td>\n",
       "      <td>3</td>\n",
       "      <td>6</td>\n",
       "      <td>4</td>\n",
       "      <td>13</td>\n",
       "      <td>10</td>\n",
       "      <td>7</td>\n",
       "      <td>12</td>\n",
       "      <td>...</td>\n",
       "      <td>0</td>\n",
       "      <td>0</td>\n",
       "      <td>0</td>\n",
       "      <td>0</td>\n",
       "      <td>0</td>\n",
       "      <td>0</td>\n",
       "      <td>0</td>\n",
       "      <td>0</td>\n",
       "      <td>0</td>\n",
       "      <td>7.0</td>\n",
       "    </tr>\n",
       "    <tr>\n",
       "      <th>2</th>\n",
       "      <td>1</td>\n",
       "      <td>1</td>\n",
       "      <td>1</td>\n",
       "      <td>5</td>\n",
       "      <td>16</td>\n",
       "      <td>17</td>\n",
       "      <td>13</td>\n",
       "      <td>15</td>\n",
       "      <td>1</td>\n",
       "      <td>17</td>\n",
       "      <td>...</td>\n",
       "      <td>0</td>\n",
       "      <td>0</td>\n",
       "      <td>0</td>\n",
       "      <td>0</td>\n",
       "      <td>0</td>\n",
       "      <td>0</td>\n",
       "      <td>0</td>\n",
       "      <td>0</td>\n",
       "      <td>0</td>\n",
       "      <td>7.0</td>\n",
       "    </tr>\n",
       "    <tr>\n",
       "      <th>3</th>\n",
       "      <td>1</td>\n",
       "      <td>1</td>\n",
       "      <td>1</td>\n",
       "      <td>16</td>\n",
       "      <td>6</td>\n",
       "      <td>10</td>\n",
       "      <td>15</td>\n",
       "      <td>17</td>\n",
       "      <td>1</td>\n",
       "      <td>8</td>\n",
       "      <td>...</td>\n",
       "      <td>0</td>\n",
       "      <td>0</td>\n",
       "      <td>0</td>\n",
       "      <td>0</td>\n",
       "      <td>0</td>\n",
       "      <td>0</td>\n",
       "      <td>0</td>\n",
       "      <td>0</td>\n",
       "      <td>0</td>\n",
       "      <td>7.0</td>\n",
       "    </tr>\n",
       "    <tr>\n",
       "      <th>4</th>\n",
       "      <td>1</td>\n",
       "      <td>1</td>\n",
       "      <td>2</td>\n",
       "      <td>5</td>\n",
       "      <td>19</td>\n",
       "      <td>15</td>\n",
       "      <td>15</td>\n",
       "      <td>17</td>\n",
       "      <td>18</td>\n",
       "      <td>8</td>\n",
       "      <td>...</td>\n",
       "      <td>0</td>\n",
       "      <td>0</td>\n",
       "      <td>0</td>\n",
       "      <td>0</td>\n",
       "      <td>0</td>\n",
       "      <td>0</td>\n",
       "      <td>0</td>\n",
       "      <td>0</td>\n",
       "      <td>0</td>\n",
       "      <td>7.0</td>\n",
       "    </tr>\n",
       "    <tr>\n",
       "      <th>...</th>\n",
       "      <td>...</td>\n",
       "      <td>...</td>\n",
       "      <td>...</td>\n",
       "      <td>...</td>\n",
       "      <td>...</td>\n",
       "      <td>...</td>\n",
       "      <td>...</td>\n",
       "      <td>...</td>\n",
       "      <td>...</td>\n",
       "      <td>...</td>\n",
       "      <td>...</td>\n",
       "      <td>...</td>\n",
       "      <td>...</td>\n",
       "      <td>...</td>\n",
       "      <td>...</td>\n",
       "      <td>...</td>\n",
       "      <td>...</td>\n",
       "      <td>...</td>\n",
       "      <td>...</td>\n",
       "      <td>...</td>\n",
       "      <td>...</td>\n",
       "    </tr>\n",
       "    <tr>\n",
       "      <th>25172</th>\n",
       "      <td>20</td>\n",
       "      <td>20</td>\n",
       "      <td>11</td>\n",
       "      <td>20</td>\n",
       "      <td>16</td>\n",
       "      <td>6</td>\n",
       "      <td>6</td>\n",
       "      <td>6</td>\n",
       "      <td>16</td>\n",
       "      <td>1</td>\n",
       "      <td>...</td>\n",
       "      <td>0</td>\n",
       "      <td>0</td>\n",
       "      <td>0</td>\n",
       "      <td>0</td>\n",
       "      <td>0</td>\n",
       "      <td>0</td>\n",
       "      <td>0</td>\n",
       "      <td>0</td>\n",
       "      <td>0</td>\n",
       "      <td>7.0</td>\n",
       "    </tr>\n",
       "    <tr>\n",
       "      <th>25173</th>\n",
       "      <td>20</td>\n",
       "      <td>20</td>\n",
       "      <td>12</td>\n",
       "      <td>3</td>\n",
       "      <td>14</td>\n",
       "      <td>7</td>\n",
       "      <td>15</td>\n",
       "      <td>10</td>\n",
       "      <td>16</td>\n",
       "      <td>16</td>\n",
       "      <td>...</td>\n",
       "      <td>0</td>\n",
       "      <td>0</td>\n",
       "      <td>0</td>\n",
       "      <td>0</td>\n",
       "      <td>0</td>\n",
       "      <td>0</td>\n",
       "      <td>0</td>\n",
       "      <td>0</td>\n",
       "      <td>0</td>\n",
       "      <td>7.0</td>\n",
       "    </tr>\n",
       "    <tr>\n",
       "      <th>25174</th>\n",
       "      <td>20</td>\n",
       "      <td>20</td>\n",
       "      <td>14</td>\n",
       "      <td>15</td>\n",
       "      <td>17</td>\n",
       "      <td>10</td>\n",
       "      <td>6</td>\n",
       "      <td>1</td>\n",
       "      <td>4</td>\n",
       "      <td>10</td>\n",
       "      <td>...</td>\n",
       "      <td>0</td>\n",
       "      <td>0</td>\n",
       "      <td>0</td>\n",
       "      <td>0</td>\n",
       "      <td>0</td>\n",
       "      <td>0</td>\n",
       "      <td>0</td>\n",
       "      <td>0</td>\n",
       "      <td>0</td>\n",
       "      <td>7.0</td>\n",
       "    </tr>\n",
       "    <tr>\n",
       "      <th>25175</th>\n",
       "      <td>20</td>\n",
       "      <td>20</td>\n",
       "      <td>16</td>\n",
       "      <td>5</td>\n",
       "      <td>16</td>\n",
       "      <td>3</td>\n",
       "      <td>12</td>\n",
       "      <td>8</td>\n",
       "      <td>17</td>\n",
       "      <td>17</td>\n",
       "      <td>...</td>\n",
       "      <td>0</td>\n",
       "      <td>0</td>\n",
       "      <td>0</td>\n",
       "      <td>0</td>\n",
       "      <td>0</td>\n",
       "      <td>0</td>\n",
       "      <td>0</td>\n",
       "      <td>0</td>\n",
       "      <td>0</td>\n",
       "      <td>7.0</td>\n",
       "    </tr>\n",
       "    <tr>\n",
       "      <th>25176</th>\n",
       "      <td>20</td>\n",
       "      <td>20</td>\n",
       "      <td>18</td>\n",
       "      <td>13</td>\n",
       "      <td>3</td>\n",
       "      <td>4</td>\n",
       "      <td>20</td>\n",
       "      <td>19</td>\n",
       "      <td>14</td>\n",
       "      <td>16</td>\n",
       "      <td>...</td>\n",
       "      <td>0</td>\n",
       "      <td>0</td>\n",
       "      <td>0</td>\n",
       "      <td>0</td>\n",
       "      <td>0</td>\n",
       "      <td>0</td>\n",
       "      <td>0</td>\n",
       "      <td>0</td>\n",
       "      <td>0</td>\n",
       "      <td>7.0</td>\n",
       "    </tr>\n",
       "  </tbody>\n",
       "</table>\n",
       "<p>25177 rows × 1000 columns</p>\n",
       "</div>"
      ],
      "text/plain": [
       "        0   1   2   3   4   5   6   7   8   9  ...  990  991  992  993  994  \\\n",
       "0       1   1   1   1   9   1   1   1  10   1  ...    0    0    0    0    0   \n",
       "1       1   1   1   3   6   4  13  10   7  12  ...    0    0    0    0    0   \n",
       "2       1   1   1   5  16  17  13  15   1  17  ...    0    0    0    0    0   \n",
       "3       1   1   1  16   6  10  15  17   1   8  ...    0    0    0    0    0   \n",
       "4       1   1   2   5  19  15  15  17  18   8  ...    0    0    0    0    0   \n",
       "...    ..  ..  ..  ..  ..  ..  ..  ..  ..  ..  ...  ...  ...  ...  ...  ...   \n",
       "25172  20  20  11  20  16   6   6   6  16   1  ...    0    0    0    0    0   \n",
       "25173  20  20  12   3  14   7  15  10  16  16  ...    0    0    0    0    0   \n",
       "25174  20  20  14  15  17  10   6   1   4  10  ...    0    0    0    0    0   \n",
       "25175  20  20  16   5  16   3  12   8  17  17  ...    0    0    0    0    0   \n",
       "25176  20  20  18  13   3   4  20  19  14  16  ...    0    0    0    0    0   \n",
       "\n",
       "       995  996  997  998   pH  \n",
       "0        0    0    0    0  7.0  \n",
       "1        0    0    0    0  7.0  \n",
       "2        0    0    0    0  7.0  \n",
       "3        0    0    0    0  7.0  \n",
       "4        0    0    0    0  7.0  \n",
       "...    ...  ...  ...  ...  ...  \n",
       "25172    0    0    0    0  7.0  \n",
       "25173    0    0    0    0  7.0  \n",
       "25174    0    0    0    0  7.0  \n",
       "25175    0    0    0    0  7.0  \n",
       "25176    0    0    0    0  7.0  \n",
       "\n",
       "[25177 rows x 1000 columns]"
      ]
     },
     "execution_count": 4,
     "metadata": {},
     "output_type": "execute_result"
    }
   ],
   "source": [
    "train2"
   ]
  },
  {
   "cell_type": "code",
   "execution_count": 5,
   "id": "be4e1b19",
   "metadata": {},
   "outputs": [],
   "source": [
    "X1 = train1.drop(['seq_id', 'protein_sequence', 'tm', 'protein_length'], axis=1).values\n",
    "X2 = train2.values\n",
    "y = train1['tm'].values"
   ]
  },
  {
   "cell_type": "markdown",
   "id": "100238ae",
   "metadata": {},
   "source": [
    "# Train1"
   ]
  },
  {
   "cell_type": "code",
   "execution_count": 30,
   "id": "58ce5ee5",
   "metadata": {},
   "outputs": [],
   "source": [
    "X_train, X_test, y_train, y_test = train_test_split(X1, y, random_state=21, train_size=0.7, shuffle=True)"
   ]
  },
  {
   "cell_type": "markdown",
   "id": "a2d71b3e",
   "metadata": {},
   "source": [
    "## Preprocessing"
   ]
  },
  {
   "cell_type": "code",
   "execution_count": 31,
   "id": "54e2a081",
   "metadata": {},
   "outputs": [],
   "source": [
    "std = StandardScaler()"
   ]
  },
  {
   "cell_type": "code",
   "execution_count": 32,
   "id": "803a3d13",
   "metadata": {},
   "outputs": [],
   "source": [
    "std.fit(X_train)\n",
    "X_train_std = std.transform(X_train)\n",
    "X_test_std = std.transform(X_test)"
   ]
  },
  {
   "cell_type": "markdown",
   "id": "c222897a",
   "metadata": {},
   "source": [
    "## Dummy regressor"
   ]
  },
  {
   "cell_type": "code",
   "execution_count": 9,
   "id": "e20f1070",
   "metadata": {},
   "outputs": [],
   "source": [
    "model = dummy.DummyRegressor(strategy='mean')"
   ]
  },
  {
   "cell_type": "code",
   "execution_count": 10,
   "id": "abf75510",
   "metadata": {},
   "outputs": [
    {
     "data": {
      "text/html": [
       "<style>#sk-container-id-1 {color: black;background-color: white;}#sk-container-id-1 pre{padding: 0;}#sk-container-id-1 div.sk-toggleable {background-color: white;}#sk-container-id-1 label.sk-toggleable__label {cursor: pointer;display: block;width: 100%;margin-bottom: 0;padding: 0.3em;box-sizing: border-box;text-align: center;}#sk-container-id-1 label.sk-toggleable__label-arrow:before {content: \"▸\";float: left;margin-right: 0.25em;color: #696969;}#sk-container-id-1 label.sk-toggleable__label-arrow:hover:before {color: black;}#sk-container-id-1 div.sk-estimator:hover label.sk-toggleable__label-arrow:before {color: black;}#sk-container-id-1 div.sk-toggleable__content {max-height: 0;max-width: 0;overflow: hidden;text-align: left;background-color: #f0f8ff;}#sk-container-id-1 div.sk-toggleable__content pre {margin: 0.2em;color: black;border-radius: 0.25em;background-color: #f0f8ff;}#sk-container-id-1 input.sk-toggleable__control:checked~div.sk-toggleable__content {max-height: 200px;max-width: 100%;overflow: auto;}#sk-container-id-1 input.sk-toggleable__control:checked~label.sk-toggleable__label-arrow:before {content: \"▾\";}#sk-container-id-1 div.sk-estimator input.sk-toggleable__control:checked~label.sk-toggleable__label {background-color: #d4ebff;}#sk-container-id-1 div.sk-label input.sk-toggleable__control:checked~label.sk-toggleable__label {background-color: #d4ebff;}#sk-container-id-1 input.sk-hidden--visually {border: 0;clip: rect(1px 1px 1px 1px);clip: rect(1px, 1px, 1px, 1px);height: 1px;margin: -1px;overflow: hidden;padding: 0;position: absolute;width: 1px;}#sk-container-id-1 div.sk-estimator {font-family: monospace;background-color: #f0f8ff;border: 1px dotted black;border-radius: 0.25em;box-sizing: border-box;margin-bottom: 0.5em;}#sk-container-id-1 div.sk-estimator:hover {background-color: #d4ebff;}#sk-container-id-1 div.sk-parallel-item::after {content: \"\";width: 100%;border-bottom: 1px solid gray;flex-grow: 1;}#sk-container-id-1 div.sk-label:hover label.sk-toggleable__label {background-color: #d4ebff;}#sk-container-id-1 div.sk-serial::before {content: \"\";position: absolute;border-left: 1px solid gray;box-sizing: border-box;top: 0;bottom: 0;left: 50%;z-index: 0;}#sk-container-id-1 div.sk-serial {display: flex;flex-direction: column;align-items: center;background-color: white;padding-right: 0.2em;padding-left: 0.2em;position: relative;}#sk-container-id-1 div.sk-item {position: relative;z-index: 1;}#sk-container-id-1 div.sk-parallel {display: flex;align-items: stretch;justify-content: center;background-color: white;position: relative;}#sk-container-id-1 div.sk-item::before, #sk-container-id-1 div.sk-parallel-item::before {content: \"\";position: absolute;border-left: 1px solid gray;box-sizing: border-box;top: 0;bottom: 0;left: 50%;z-index: -1;}#sk-container-id-1 div.sk-parallel-item {display: flex;flex-direction: column;z-index: 1;position: relative;background-color: white;}#sk-container-id-1 div.sk-parallel-item:first-child::after {align-self: flex-end;width: 50%;}#sk-container-id-1 div.sk-parallel-item:last-child::after {align-self: flex-start;width: 50%;}#sk-container-id-1 div.sk-parallel-item:only-child::after {width: 0;}#sk-container-id-1 div.sk-dashed-wrapped {border: 1px dashed gray;margin: 0 0.4em 0.5em 0.4em;box-sizing: border-box;padding-bottom: 0.4em;background-color: white;}#sk-container-id-1 div.sk-label label {font-family: monospace;font-weight: bold;display: inline-block;line-height: 1.2em;}#sk-container-id-1 div.sk-label-container {text-align: center;}#sk-container-id-1 div.sk-container {/* jupyter's `normalize.less` sets `[hidden] { display: none; }` but bootstrap.min.css set `[hidden] { display: none !important; }` so we also need the `!important` here to be able to override the default hidden behavior on the sphinx rendered scikit-learn.org. See: https://github.com/scikit-learn/scikit-learn/issues/21755 */display: inline-block !important;position: relative;}#sk-container-id-1 div.sk-text-repr-fallback {display: none;}</style><div id=\"sk-container-id-1\" class=\"sk-top-container\"><div class=\"sk-text-repr-fallback\"><pre>DummyRegressor()</pre><b>In a Jupyter environment, please rerun this cell to show the HTML representation or trust the notebook. <br />On GitHub, the HTML representation is unable to render, please try loading this page with nbviewer.org.</b></div><div class=\"sk-container\" hidden><div class=\"sk-item\"><div class=\"sk-estimator sk-toggleable\"><input class=\"sk-toggleable__control sk-hidden--visually\" id=\"sk-estimator-id-1\" type=\"checkbox\" checked><label for=\"sk-estimator-id-1\" class=\"sk-toggleable__label sk-toggleable__label-arrow\">DummyRegressor</label><div class=\"sk-toggleable__content\"><pre>DummyRegressor()</pre></div></div></div></div></div>"
      ],
      "text/plain": [
       "DummyRegressor()"
      ]
     },
     "execution_count": 10,
     "metadata": {},
     "output_type": "execute_result"
    }
   ],
   "source": [
    "model.fit(X_train_std, y_train)"
   ]
  },
  {
   "cell_type": "code",
   "execution_count": 11,
   "id": "f616b45d",
   "metadata": {},
   "outputs": [
    {
     "data": {
      "text/plain": [
       "8.855098499714646"
      ]
     },
     "execution_count": 11,
     "metadata": {},
     "output_type": "execute_result"
    }
   ],
   "source": [
    "y_pred = model.predict(X_test_std)\n",
    "metrics.mean_absolute_error(y_test, y_pred)"
   ]
  },
  {
   "cell_type": "code",
   "execution_count": 12,
   "id": "7a715329",
   "metadata": {},
   "outputs": [],
   "source": [
    "model = dummy.DummyRegressor(strategy='median')"
   ]
  },
  {
   "cell_type": "code",
   "execution_count": 13,
   "id": "90905279",
   "metadata": {},
   "outputs": [
    {
     "data": {
      "text/html": [
       "<style>#sk-container-id-2 {color: black;background-color: white;}#sk-container-id-2 pre{padding: 0;}#sk-container-id-2 div.sk-toggleable {background-color: white;}#sk-container-id-2 label.sk-toggleable__label {cursor: pointer;display: block;width: 100%;margin-bottom: 0;padding: 0.3em;box-sizing: border-box;text-align: center;}#sk-container-id-2 label.sk-toggleable__label-arrow:before {content: \"▸\";float: left;margin-right: 0.25em;color: #696969;}#sk-container-id-2 label.sk-toggleable__label-arrow:hover:before {color: black;}#sk-container-id-2 div.sk-estimator:hover label.sk-toggleable__label-arrow:before {color: black;}#sk-container-id-2 div.sk-toggleable__content {max-height: 0;max-width: 0;overflow: hidden;text-align: left;background-color: #f0f8ff;}#sk-container-id-2 div.sk-toggleable__content pre {margin: 0.2em;color: black;border-radius: 0.25em;background-color: #f0f8ff;}#sk-container-id-2 input.sk-toggleable__control:checked~div.sk-toggleable__content {max-height: 200px;max-width: 100%;overflow: auto;}#sk-container-id-2 input.sk-toggleable__control:checked~label.sk-toggleable__label-arrow:before {content: \"▾\";}#sk-container-id-2 div.sk-estimator input.sk-toggleable__control:checked~label.sk-toggleable__label {background-color: #d4ebff;}#sk-container-id-2 div.sk-label input.sk-toggleable__control:checked~label.sk-toggleable__label {background-color: #d4ebff;}#sk-container-id-2 input.sk-hidden--visually {border: 0;clip: rect(1px 1px 1px 1px);clip: rect(1px, 1px, 1px, 1px);height: 1px;margin: -1px;overflow: hidden;padding: 0;position: absolute;width: 1px;}#sk-container-id-2 div.sk-estimator {font-family: monospace;background-color: #f0f8ff;border: 1px dotted black;border-radius: 0.25em;box-sizing: border-box;margin-bottom: 0.5em;}#sk-container-id-2 div.sk-estimator:hover {background-color: #d4ebff;}#sk-container-id-2 div.sk-parallel-item::after {content: \"\";width: 100%;border-bottom: 1px solid gray;flex-grow: 1;}#sk-container-id-2 div.sk-label:hover label.sk-toggleable__label {background-color: #d4ebff;}#sk-container-id-2 div.sk-serial::before {content: \"\";position: absolute;border-left: 1px solid gray;box-sizing: border-box;top: 0;bottom: 0;left: 50%;z-index: 0;}#sk-container-id-2 div.sk-serial {display: flex;flex-direction: column;align-items: center;background-color: white;padding-right: 0.2em;padding-left: 0.2em;position: relative;}#sk-container-id-2 div.sk-item {position: relative;z-index: 1;}#sk-container-id-2 div.sk-parallel {display: flex;align-items: stretch;justify-content: center;background-color: white;position: relative;}#sk-container-id-2 div.sk-item::before, #sk-container-id-2 div.sk-parallel-item::before {content: \"\";position: absolute;border-left: 1px solid gray;box-sizing: border-box;top: 0;bottom: 0;left: 50%;z-index: -1;}#sk-container-id-2 div.sk-parallel-item {display: flex;flex-direction: column;z-index: 1;position: relative;background-color: white;}#sk-container-id-2 div.sk-parallel-item:first-child::after {align-self: flex-end;width: 50%;}#sk-container-id-2 div.sk-parallel-item:last-child::after {align-self: flex-start;width: 50%;}#sk-container-id-2 div.sk-parallel-item:only-child::after {width: 0;}#sk-container-id-2 div.sk-dashed-wrapped {border: 1px dashed gray;margin: 0 0.4em 0.5em 0.4em;box-sizing: border-box;padding-bottom: 0.4em;background-color: white;}#sk-container-id-2 div.sk-label label {font-family: monospace;font-weight: bold;display: inline-block;line-height: 1.2em;}#sk-container-id-2 div.sk-label-container {text-align: center;}#sk-container-id-2 div.sk-container {/* jupyter's `normalize.less` sets `[hidden] { display: none; }` but bootstrap.min.css set `[hidden] { display: none !important; }` so we also need the `!important` here to be able to override the default hidden behavior on the sphinx rendered scikit-learn.org. See: https://github.com/scikit-learn/scikit-learn/issues/21755 */display: inline-block !important;position: relative;}#sk-container-id-2 div.sk-text-repr-fallback {display: none;}</style><div id=\"sk-container-id-2\" class=\"sk-top-container\"><div class=\"sk-text-repr-fallback\"><pre>DummyRegressor(strategy=&#x27;median&#x27;)</pre><b>In a Jupyter environment, please rerun this cell to show the HTML representation or trust the notebook. <br />On GitHub, the HTML representation is unable to render, please try loading this page with nbviewer.org.</b></div><div class=\"sk-container\" hidden><div class=\"sk-item\"><div class=\"sk-estimator sk-toggleable\"><input class=\"sk-toggleable__control sk-hidden--visually\" id=\"sk-estimator-id-2\" type=\"checkbox\" checked><label for=\"sk-estimator-id-2\" class=\"sk-toggleable__label sk-toggleable__label-arrow\">DummyRegressor</label><div class=\"sk-toggleable__content\"><pre>DummyRegressor(strategy=&#x27;median&#x27;)</pre></div></div></div></div></div>"
      ],
      "text/plain": [
       "DummyRegressor(strategy='median')"
      ]
     },
     "execution_count": 13,
     "metadata": {},
     "output_type": "execute_result"
    }
   ],
   "source": [
    "model.fit(X_train_std, y_train)"
   ]
  },
  {
   "cell_type": "code",
   "execution_count": 14,
   "id": "d99dc3c1",
   "metadata": {},
   "outputs": [
    {
     "data": {
      "text/plain": [
       "8.466706380725444"
      ]
     },
     "execution_count": 14,
     "metadata": {},
     "output_type": "execute_result"
    }
   ],
   "source": [
    "y_pred = model.predict(X_test_std)\n",
    "metrics.mean_absolute_error(y_test, y_pred)"
   ]
  },
  {
   "cell_type": "markdown",
   "id": "f2f73c2a",
   "metadata": {},
   "source": [
    "## XGboost"
   ]
  },
  {
   "cell_type": "code",
   "execution_count": 15,
   "id": "9c51f542",
   "metadata": {},
   "outputs": [],
   "source": [
    "def objective(trial):\n",
    "    param = {\n",
    "        'max_depth': trial.suggest_int('max_depth', 1, 10),\n",
    "        'learning_rate': trial.suggest_float('learning_rate', 0.01, 1.0),\n",
    "        'n_estimators': trial.suggest_int('n_estimators', 50, 1000),\n",
    "        'min_child_weight': trial.suggest_int('min_child_weight', 1, 10),\n",
    "        'gamma': trial.suggest_float('gamma', 0.01, 1.0),\n",
    "        'subsample': trial.suggest_float('subsample', 0.01, 1.0),\n",
    "        'colsample_bytree': trial.suggest_float('colsample_bytree', 0.01, 1.0),\n",
    "        'reg_alpha': trial.suggest_float('reg_alpha', 0.01, 1.0),\n",
    "        'reg_lambda': trial.suggest_float('reg_lambda', 0.01, 1.0),\n",
    "        'random_state': trial.suggest_int('random_state', 1, 1000)\n",
    "    }\n",
    "    model = xgb.XGBRegressor(**param)\n",
    "    model.fit(X_train_std, y_train)\n",
    "    y_pred = model.predict(X_test_std)\n",
    "    return metrics.mean_absolute_error(y_test, y_pred)"
   ]
  },
  {
   "cell_type": "code",
   "execution_count": 16,
   "id": "948d0b84",
   "metadata": {},
   "outputs": [
    {
     "name": "stderr",
     "output_type": "stream",
     "text": [
      "\u001b[32m[I 2022-10-18 11:04:29,868]\u001b[0m A new study created in memory with name: regression\u001b[0m\n"
     ]
    }
   ],
   "source": [
    "study = optuna.create_study(direction='minimize', study_name='regression')"
   ]
  },
  {
   "cell_type": "code",
   "execution_count": 17,
   "id": "b880c542",
   "metadata": {},
   "outputs": [
    {
     "name": "stderr",
     "output_type": "stream",
     "text": [
      "\u001b[32m[I 2022-10-18 11:04:32,031]\u001b[0m Trial 0 finished with value: 7.502060834901308 and parameters: {'max_depth': 1, 'learning_rate': 0.4484394831824747, 'n_estimators': 211, 'min_child_weight': 3, 'gamma': 0.7096761145233623, 'subsample': 0.9794064218915138, 'colsample_bytree': 0.5295995414225496, 'reg_alpha': 0.5484597577871899, 'reg_lambda': 0.8594224806981428, 'random_state': 502}. Best is trial 0 with value: 7.502060834901308.\u001b[0m\n",
      "\u001b[32m[I 2022-10-18 11:04:34,053]\u001b[0m Trial 1 finished with value: 7.756699773360725 and parameters: {'max_depth': 8, 'learning_rate': 0.3152747009038597, 'n_estimators': 782, 'min_child_weight': 1, 'gamma': 0.03190979270082277, 'subsample': 0.41150332362286973, 'colsample_bytree': 0.15217264859984606, 'reg_alpha': 0.85181894546101, 'reg_lambda': 0.44618567119642055, 'random_state': 970}. Best is trial 0 with value: 7.502060834901308.\u001b[0m\n",
      "\u001b[32m[I 2022-10-18 11:04:34,500]\u001b[0m Trial 2 finished with value: 7.785766776895158 and parameters: {'max_depth': 10, 'learning_rate': 0.2748625338603734, 'n_estimators': 128, 'min_child_weight': 3, 'gamma': 0.7786583501674369, 'subsample': 0.29472901850807787, 'colsample_bytree': 0.2309735094761471, 'reg_alpha': 0.4049975274174578, 'reg_lambda': 0.10080031095598362, 'random_state': 160}. Best is trial 0 with value: 7.502060834901308.\u001b[0m\n",
      "\u001b[32m[I 2022-10-18 11:04:36,300]\u001b[0m Trial 3 finished with value: 6.167040492505475 and parameters: {'max_depth': 6, 'learning_rate': 0.08192276993627821, 'n_estimators': 838, 'min_child_weight': 7, 'gamma': 0.9646290536320969, 'subsample': 0.2622095713704288, 'colsample_bytree': 0.636299050524631, 'reg_alpha': 0.21281022459768578, 'reg_lambda': 0.44858830443611264, 'random_state': 516}. Best is trial 3 with value: 6.167040492505475.\u001b[0m\n",
      "\u001b[32m[I 2022-10-18 11:04:37,279]\u001b[0m Trial 4 finished with value: 7.171046384478614 and parameters: {'max_depth': 2, 'learning_rate': 0.9473387977906209, 'n_estimators': 824, 'min_child_weight': 8, 'gamma': 0.25896036576949233, 'subsample': 0.7639004383711456, 'colsample_bytree': 0.3747477806418645, 'reg_alpha': 0.08308482173888333, 'reg_lambda': 0.26581730871330117, 'random_state': 173}. Best is trial 3 with value: 6.167040492505475.\u001b[0m\n",
      "\u001b[32m[I 2022-10-18 11:04:38,397]\u001b[0m Trial 5 finished with value: 6.740085360825235 and parameters: {'max_depth': 5, 'learning_rate': 0.011883420245365513, 'n_estimators': 635, 'min_child_weight': 4, 'gamma': 0.6975998115378433, 'subsample': 0.593878877121327, 'colsample_bytree': 0.17500394330220007, 'reg_alpha': 0.8201471268285813, 'reg_lambda': 0.6936967433486586, 'random_state': 366}. Best is trial 3 with value: 6.167040492505475.\u001b[0m\n",
      "\u001b[32m[I 2022-10-18 11:04:38,832]\u001b[0m Trial 6 finished with value: 11.171884925666232 and parameters: {'max_depth': 10, 'learning_rate': 0.6363624670113095, 'n_estimators': 111, 'min_child_weight': 8, 'gamma': 0.3627460901526495, 'subsample': 0.35509658362583557, 'colsample_bytree': 0.5671233711322959, 'reg_alpha': 0.13544144080075857, 'reg_lambda': 0.8674339603171317, 'random_state': 340}. Best is trial 3 with value: 6.167040492505475.\u001b[0m\n",
      "\u001b[32m[I 2022-10-18 11:04:39,461]\u001b[0m Trial 7 finished with value: 6.347100349781782 and parameters: {'max_depth': 3, 'learning_rate': 0.2748485293403854, 'n_estimators': 382, 'min_child_weight': 6, 'gamma': 0.9414419100023672, 'subsample': 0.524014869518426, 'colsample_bytree': 0.6386904064146453, 'reg_alpha': 0.11057501144167817, 'reg_lambda': 0.5292011594699273, 'random_state': 744}. Best is trial 3 with value: 6.167040492505475.\u001b[0m\n",
      "\u001b[32m[I 2022-10-18 11:04:40,885]\u001b[0m Trial 8 finished with value: 6.300952060215682 and parameters: {'max_depth': 5, 'learning_rate': 0.04551362975584793, 'n_estimators': 983, 'min_child_weight': 6, 'gamma': 0.322408193652788, 'subsample': 0.17671487236121733, 'colsample_bytree': 0.1940943192635686, 'reg_alpha': 0.16779196406139205, 'reg_lambda': 0.4459956318259637, 'random_state': 656}. Best is trial 3 with value: 6.167040492505475.\u001b[0m\n",
      "\u001b[32m[I 2022-10-18 11:04:42,256]\u001b[0m Trial 9 finished with value: 7.179664655296077 and parameters: {'max_depth': 8, 'learning_rate': 0.44713432334834674, 'n_estimators': 363, 'min_child_weight': 2, 'gamma': 0.8305270293118638, 'subsample': 0.7403877380293528, 'colsample_bytree': 0.4670296453964496, 'reg_alpha': 0.34631066065582605, 'reg_lambda': 0.03145691265196026, 'random_state': 143}. Best is trial 3 with value: 6.167040492505475.\u001b[0m\n",
      "\u001b[32m[I 2022-10-18 11:04:44,000]\u001b[0m Trial 10 finished with value: 2.0755257680401656e+18 and parameters: {'max_depth': 7, 'learning_rate': 0.7361331648431716, 'n_estimators': 996, 'min_child_weight': 10, 'gamma': 0.5591191678500169, 'subsample': 0.02187108150179587, 'colsample_bytree': 0.9230087634093105, 'reg_alpha': 0.5943225989012921, 'reg_lambda': 0.6382530989892471, 'random_state': 844}. Best is trial 3 with value: 6.167040492505475.\u001b[0m\n",
      "\u001b[32m[I 2022-10-18 11:04:45,556]\u001b[0m Trial 11 finished with value: 6.167210994071041 and parameters: {'max_depth': 5, 'learning_rate': 0.06166727186317, 'n_estimators': 975, 'min_child_weight': 6, 'gamma': 0.32709486235707586, 'subsample': 0.13318046910486053, 'colsample_bytree': 0.7520333766512118, 'reg_alpha': 0.24421019842298497, 'reg_lambda': 0.32426627950130926, 'random_state': 620}. Best is trial 3 with value: 6.167040492505475.\u001b[0m\n",
      "\u001b[32m[I 2022-10-18 11:04:46,658]\u001b[0m Trial 12 finished with value: 6.5761021690075765 and parameters: {'max_depth': 4, 'learning_rate': 0.13044426856193458, 'n_estimators': 791, 'min_child_weight': 8, 'gamma': 0.5231383020815946, 'subsample': 0.11549198834408136, 'colsample_bytree': 0.7809020450036708, 'reg_alpha': 0.30994584312747275, 'reg_lambda': 0.26928029747808135, 'random_state': 575}. Best is trial 3 with value: 6.167040492505475.\u001b[0m\n",
      "\u001b[32m[I 2022-10-18 11:04:48,037]\u001b[0m Trial 13 finished with value: 6.933067296325828 and parameters: {'max_depth': 6, 'learning_rate': 0.17180115799821033, 'n_estimators': 605, 'min_child_weight': 5, 'gamma': 0.16237373168739844, 'subsample': 0.2050116807358349, 'colsample_bytree': 0.7863461806799896, 'reg_alpha': 0.2466687174234507, 'reg_lambda': 0.284769095758519, 'random_state': 376}. Best is trial 3 with value: 6.167040492505475.\u001b[0m\n",
      "\u001b[32m[I 2022-10-18 11:04:49,520]\u001b[0m Trial 14 finished with value: 22.937828318934088 and parameters: {'max_depth': 6, 'learning_rate': 0.16124986629686638, 'n_estimators': 891, 'min_child_weight': 7, 'gamma': 0.9684801245315526, 'subsample': 0.014179855869064978, 'colsample_bytree': 0.735509410017558, 'reg_alpha': 0.017187096160440396, 'reg_lambda': 0.36052451898977844, 'random_state': 708}. Best is trial 3 with value: 6.167040492505475.\u001b[0m\n",
      "\u001b[32m[I 2022-10-18 11:04:50,793]\u001b[0m Trial 15 finished with value: 9.76524936122051 and parameters: {'max_depth': 4, 'learning_rate': 0.5943449548398644, 'n_estimators': 701, 'min_child_weight': 9, 'gamma': 0.43033239563275916, 'subsample': 0.2733661974033216, 'colsample_bytree': 0.9835300525576903, 'reg_alpha': 0.6698972082509806, 'reg_lambda': 0.15970332855192687, 'random_state': 486}. Best is trial 3 with value: 6.167040492505475.\u001b[0m\n",
      "\u001b[32m[I 2022-10-18 11:04:52,275]\u001b[0m Trial 16 finished with value: 7.588705927106734 and parameters: {'max_depth': 8, 'learning_rate': 0.3536284141643637, 'n_estimators': 493, 'min_child_weight': 5, 'gamma': 0.5897588357333746, 'subsample': 0.4282193724985241, 'colsample_bytree': 0.36075823800258067, 'reg_alpha': 0.45793561012294254, 'reg_lambda': 0.566877452552008, 'random_state': 2}. Best is trial 3 with value: 6.167040492505475.\u001b[0m\n",
      "\u001b[32m[I 2022-10-18 11:04:53,521]\u001b[0m Trial 17 finished with value: 6.379766814090727 and parameters: {'max_depth': 4, 'learning_rate': 0.10967369613776715, 'n_estimators': 911, 'min_child_weight': 6, 'gamma': 0.16594566664565205, 'subsample': 0.13287048517779512, 'colsample_bytree': 0.6596401955485148, 'reg_alpha': 0.23819778216419168, 'reg_lambda': 0.7264917721950275, 'random_state': 844}. Best is trial 3 with value: 6.167040492505475.\u001b[0m\n",
      "\u001b[32m[I 2022-10-18 11:04:55,282]\u001b[0m Trial 18 finished with value: 244.55668936990259 and parameters: {'max_depth': 7, 'learning_rate': 0.8123371718328616, 'n_estimators': 717, 'min_child_weight': 7, 'gamma': 0.4043938748779711, 'subsample': 0.2826585300298001, 'colsample_bytree': 0.8810383047918553, 'reg_alpha': 0.7174993663722974, 'reg_lambda': 0.37452615876143247, 'random_state': 579}. Best is trial 3 with value: 6.167040492505475.\u001b[0m\n"
     ]
    },
    {
     "name": "stderr",
     "output_type": "stream",
     "text": [
      "\u001b[32m[I 2022-10-18 11:04:56,788]\u001b[0m Trial 19 finished with value: 6.25336059548093 and parameters: {'max_depth': 3, 'learning_rate': 0.2096887994622868, 'n_estimators': 881, 'min_child_weight': 10, 'gamma': 0.6563403078854129, 'subsample': 0.6149013474303258, 'colsample_bytree': 0.6534640746689604, 'reg_alpha': 0.22124209199855485, 'reg_lambda': 0.9968413406787375, 'random_state': 800}. Best is trial 3 with value: 6.167040492505475.\u001b[0m\n",
      "\u001b[32m[I 2022-10-18 11:04:57,823]\u001b[0m Trial 20 finished with value: 6.097280360720036 and parameters: {'max_depth': 7, 'learning_rate': 0.02347321303200387, 'n_estimators': 514, 'min_child_weight': 4, 'gamma': 0.8500716822367524, 'subsample': 0.08561959434071628, 'colsample_bytree': 0.8466756484600221, 'reg_alpha': 0.9715586828219526, 'reg_lambda': 0.21946780931057078, 'random_state': 955}. Best is trial 20 with value: 6.097280360720036.\u001b[0m\n",
      "\u001b[32m[I 2022-10-18 11:04:58,820]\u001b[0m Trial 21 finished with value: 6.281313554502715 and parameters: {'max_depth': 7, 'learning_rate': 0.056125266912505176, 'n_estimators': 496, 'min_child_weight': 4, 'gamma': 0.8483997639910674, 'subsample': 0.09330442680460665, 'colsample_bytree': 0.8512159089083494, 'reg_alpha': 0.9606795529090544, 'reg_lambda': 0.17996022229508277, 'random_state': 933}. Best is trial 20 with value: 6.097280360720036.\u001b[0m\n",
      "\u001b[32m[I 2022-10-18 11:04:59,714]\u001b[0m Trial 22 finished with value: 6.061312008535292 and parameters: {'max_depth': 6, 'learning_rate': 0.028001805571013033, 'n_estimators': 425, 'min_child_weight': 4, 'gamma': 0.999607155543571, 'subsample': 0.2152075582992835, 'colsample_bytree': 0.7181322157303992, 'reg_alpha': 0.3881336254240259, 'reg_lambda': 0.3412884691567025, 'random_state': 625}. Best is trial 22 with value: 6.061312008535292.\u001b[0m\n",
      "\u001b[32m[I 2022-10-18 11:05:00,398]\u001b[0m Trial 23 finished with value: 7.676830539900315 and parameters: {'max_depth': 9, 'learning_rate': 0.20969913050112665, 'n_estimators': 371, 'min_child_weight': 4, 'gamma': 0.988030291759493, 'subsample': 0.22748526877232128, 'colsample_bytree': 0.03920303395503666, 'reg_alpha': 0.4507388132053292, 'reg_lambda': 0.45244484480838437, 'random_state': 495}. Best is trial 22 with value: 6.061312008535292.\u001b[0m\n",
      "\u001b[32m[I 2022-10-18 11:05:01,172]\u001b[0m Trial 24 finished with value: 7.528216285442972 and parameters: {'max_depth': 6, 'learning_rate': 0.379392668381316, 'n_estimators': 269, 'min_child_weight': 3, 'gamma': 0.8913933860848768, 'subsample': 0.3401130956939784, 'colsample_bytree': 0.9926467375020561, 'reg_alpha': 0.9986230902888452, 'reg_lambda': 0.1941898803499154, 'random_state': 300}. Best is trial 22 with value: 6.061312008535292.\u001b[0m\n",
      "\u001b[32m[I 2022-10-18 11:05:02,315]\u001b[0m Trial 25 finished with value: 6.277506947839327 and parameters: {'max_depth': 7, 'learning_rate': 0.010994138130080863, 'n_estimators': 575, 'min_child_weight': 2, 'gamma': 0.7783780446672852, 'subsample': 0.05733003232605299, 'colsample_bytree': 0.691687509717579, 'reg_alpha': 0.36052689025927714, 'reg_lambda': 0.014287359298382568, 'random_state': 431}. Best is trial 22 with value: 6.061312008535292.\u001b[0m\n",
      "\u001b[32m[I 2022-10-18 11:05:04,150]\u001b[0m Trial 26 finished with value: 6.120653844504626 and parameters: {'max_depth': 9, 'learning_rate': 0.1075828645784839, 'n_estimators': 444, 'min_child_weight': 5, 'gamma': 0.8959231017018274, 'subsample': 0.4359288765721504, 'colsample_bytree': 0.5916492850901574, 'reg_alpha': 0.5590973043555596, 'reg_lambda': 0.40690544934528894, 'random_state': 250}. Best is trial 22 with value: 6.061312008535292.\u001b[0m\n",
      "\u001b[32m[I 2022-10-18 11:05:05,861]\u001b[0m Trial 27 finished with value: 6.718233072969186 and parameters: {'max_depth': 9, 'learning_rate': 0.24571926437288028, 'n_estimators': 443, 'min_child_weight': 5, 'gamma': 0.8779167183029154, 'subsample': 0.46331125217870467, 'colsample_bytree': 0.4467293896605822, 'reg_alpha': 0.6546010478630268, 'reg_lambda': 0.21418099860898457, 'random_state': 241}. Best is trial 22 with value: 6.061312008535292.\u001b[0m\n",
      "\u001b[32m[I 2022-10-18 11:05:07,329]\u001b[0m Trial 28 finished with value: 6.033990222637003 and parameters: {'max_depth': 9, 'learning_rate': 0.12958939846379164, 'n_estimators': 290, 'min_child_weight': 4, 'gamma': 0.9042105845055205, 'subsample': 0.5333695503126797, 'colsample_bytree': 0.835062443039405, 'reg_alpha': 0.7922563093584246, 'reg_lambda': 0.38090355829736766, 'random_state': 17}. Best is trial 28 with value: 6.033990222637003.\u001b[0m\n",
      "\u001b[32m[I 2022-10-18 11:05:08,641]\u001b[0m Trial 29 finished with value: 6.853553088064197 and parameters: {'max_depth': 8, 'learning_rate': 0.4869832290921892, 'n_estimators': 247, 'min_child_weight': 2, 'gamma': 0.7514646471989096, 'subsample': 0.8926153342508574, 'colsample_bytree': 0.8477707045618205, 'reg_alpha': 0.8990161673290928, 'reg_lambda': 0.10859377851059998, 'random_state': 50}. Best is trial 28 with value: 6.033990222637003.\u001b[0m\n",
      "\u001b[32m[I 2022-10-18 11:05:10,253]\u001b[0m Trial 30 finished with value: 7.298034231505572 and parameters: {'max_depth': 9, 'learning_rate': 0.4235775456516555, 'n_estimators': 299, 'min_child_weight': 4, 'gamma': 0.6786149788992399, 'subsample': 0.5662747871389928, 'colsample_bytree': 0.9219985114696365, 'reg_alpha': 0.768632082679829, 'reg_lambda': 0.5918919649353611, 'random_state': 896}. Best is trial 28 with value: 6.033990222637003.\u001b[0m\n",
      "\u001b[32m[I 2022-10-18 11:05:12,053]\u001b[0m Trial 31 finished with value: 6.35116771756577 and parameters: {'max_depth': 9, 'learning_rate': 0.1311896996574343, 'n_estimators': 442, 'min_child_weight': 3, 'gamma': 0.9138586670309858, 'subsample': 0.3714041733208009, 'colsample_bytree': 0.5643848963861747, 'reg_alpha': 0.5592987883451263, 'reg_lambda': 0.39066876930617916, 'random_state': 253}. Best is trial 28 with value: 6.033990222637003.\u001b[0m\n",
      "\u001b[32m[I 2022-10-18 11:05:13,128]\u001b[0m Trial 32 finished with value: 6.180221317292269 and parameters: {'max_depth': 10, 'learning_rate': 0.19108512657762805, 'n_estimators': 173, 'min_child_weight': 4, 'gamma': 0.8251573555749474, 'subsample': 0.6743168734785022, 'colsample_bytree': 0.8089582597028446, 'reg_alpha': 0.935566331432894, 'reg_lambda': 0.32462467511644477, 'random_state': 92}. Best is trial 28 with value: 6.033990222637003.\u001b[0m\n",
      "\u001b[32m[I 2022-10-18 11:05:14,560]\u001b[0m Trial 33 finished with value: 5.999274990676665 and parameters: {'max_depth': 8, 'learning_rate': 0.10511260446781272, 'n_estimators': 321, 'min_child_weight': 5, 'gamma': 0.9986228617194514, 'subsample': 0.513681939061885, 'colsample_bytree': 0.7125172321294713, 'reg_alpha': 0.8356566259444513, 'reg_lambda': 0.4172141367392837, 'random_state': 237}. Best is trial 33 with value: 5.999274990676665.\u001b[0m\n",
      "\u001b[32m[I 2022-10-18 11:05:15,910]\u001b[0m Trial 34 finished with value: 6.942420881047652 and parameters: {'max_depth': 8, 'learning_rate': 0.3362910380974441, 'n_estimators': 315, 'min_child_weight': 1, 'gamma': 0.98926848355328, 'subsample': 0.5172611754188366, 'colsample_bytree': 0.727019238556958, 'reg_alpha': 0.8229451014177901, 'reg_lambda': 0.480983559074934, 'random_state': 981}. Best is trial 33 with value: 5.999274990676665.\u001b[0m\n",
      "\u001b[32m[I 2022-10-18 11:05:16,228]\u001b[0m Trial 35 finished with value: 6.156620731813302 and parameters: {'max_depth': 7, 'learning_rate': 0.25155701732501207, 'n_estimators': 71, 'min_child_weight': 3, 'gamma': 0.8040258217962071, 'subsample': 0.6720992240749142, 'colsample_bytree': 0.9091910404546552, 'reg_alpha': 0.875955726075131, 'reg_lambda': 0.2660667867523454, 'random_state': 94}. Best is trial 33 with value: 5.999274990676665.\u001b[0m\n",
      "\u001b[32m[I 2022-10-18 11:05:17,176]\u001b[0m Trial 36 finished with value: 5.855549211479351 and parameters: {'max_depth': 8, 'learning_rate': 0.06806209197553326, 'n_estimators': 177, 'min_child_weight': 3, 'gamma': 0.9978257964449737, 'subsample': 0.9877782122823309, 'colsample_bytree': 0.823414736121064, 'reg_alpha': 0.7576039458876517, 'reg_lambda': 0.514811152538607, 'random_state': 162}. Best is trial 36 with value: 5.855549211479351.\u001b[0m\n",
      "\u001b[32m[I 2022-10-18 11:05:18,527]\u001b[0m Trial 37 finished with value: 5.905852451380012 and parameters: {'max_depth': 10, 'learning_rate': 0.1130041102139676, 'n_estimators': 208, 'min_child_weight': 3, 'gamma': 0.9436921933203346, 'subsample': 0.9535613102306072, 'colsample_bytree': 0.7009324101254345, 'reg_alpha': 0.7561132110610127, 'reg_lambda': 0.5160046209908971, 'random_state': 201}. Best is trial 36 with value: 5.855549211479351.\u001b[0m\n"
     ]
    },
    {
     "name": "stderr",
     "output_type": "stream",
     "text": [
      "\u001b[32m[I 2022-10-18 11:05:19,749]\u001b[0m Trial 38 finished with value: 6.310922188136449 and parameters: {'max_depth': 10, 'learning_rate': 0.3000670839029721, 'n_estimators': 191, 'min_child_weight': 1, 'gamma': 0.9367009078337224, 'subsample': 0.9784122590401708, 'colsample_bytree': 0.5127125192763956, 'reg_alpha': 0.7618398549521279, 'reg_lambda': 0.5077438329061438, 'random_state': 178}. Best is trial 36 with value: 5.855549211479351.\u001b[0m\n",
      "\u001b[32m[I 2022-10-18 11:05:20,526]\u001b[0m Trial 39 finished with value: 8.727371221469893 and parameters: {'max_depth': 10, 'learning_rate': 0.9795877838440779, 'n_estimators': 116, 'min_child_weight': 3, 'gamma': 0.7310761101649105, 'subsample': 0.8652722168844323, 'colsample_bytree': 0.6038944537198735, 'reg_alpha': 0.7874389596295335, 'reg_lambda': 0.732131166311675, 'random_state': 25}. Best is trial 36 with value: 5.855549211479351.\u001b[0m\n",
      "\u001b[32m[I 2022-10-18 11:05:20,808]\u001b[0m Trial 40 finished with value: 7.868496953667804 and parameters: {'max_depth': 1, 'learning_rate': 0.07994940933304026, 'n_estimators': 230, 'min_child_weight': 2, 'gamma': 0.9375346430348009, 'subsample': 0.9607305346674386, 'colsample_bytree': 0.8095714819163823, 'reg_alpha': 0.6976611139517204, 'reg_lambda': 0.6292133996553178, 'random_state': 196}. Best is trial 36 with value: 5.855549211479351.\u001b[0m\n",
      "\u001b[32m[I 2022-10-18 11:05:21,677]\u001b[0m Trial 41 finished with value: 5.941598963112563 and parameters: {'max_depth': 9, 'learning_rate': 0.15044682488946068, 'n_estimators': 157, 'min_child_weight': 4, 'gamma': 0.9901949790072929, 'subsample': 0.8612548793199923, 'colsample_bytree': 0.7119164136100039, 'reg_alpha': 0.8456141448301842, 'reg_lambda': 0.5543731760203819, 'random_state': 121}. Best is trial 36 with value: 5.855549211479351.\u001b[0m\n",
      "\u001b[32m[I 2022-10-18 11:05:22,591]\u001b[0m Trial 42 finished with value: 5.97423827343275 and parameters: {'max_depth': 9, 'learning_rate': 0.15518555631884, 'n_estimators': 166, 'min_child_weight': 3, 'gamma': 0.9351197010588126, 'subsample': 0.8638951138509718, 'colsample_bytree': 0.6891049705399127, 'reg_alpha': 0.840600840624328, 'reg_lambda': 0.5414830316131384, 'random_state': 113}. Best is trial 36 with value: 5.855549211479351.\u001b[0m\n",
      "\u001b[32m[I 2022-10-18 11:05:23,515]\u001b[0m Trial 43 finished with value: 6.145469295015908 and parameters: {'max_depth': 10, 'learning_rate': 0.23877195098954485, 'n_estimators': 149, 'min_child_weight': 3, 'gamma': 0.9355003416093124, 'subsample': 0.8598767029772829, 'colsample_bytree': 0.6901287658938136, 'reg_alpha': 0.8539425556191206, 'reg_lambda': 0.5521216322681595, 'random_state': 137}. Best is trial 36 with value: 5.855549211479351.\u001b[0m\n",
      "\u001b[32m[I 2022-10-18 11:05:24,507]\u001b[0m Trial 44 finished with value: 5.952968170796243 and parameters: {'max_depth': 8, 'learning_rate': 0.14256567350342705, 'n_estimators': 207, 'min_child_weight': 2, 'gamma': 0.9967949060470613, 'subsample': 0.9163485026061858, 'colsample_bytree': 0.7656606930293015, 'reg_alpha': 0.915411614299255, 'reg_lambda': 0.6538106388635502, 'random_state': 99}. Best is trial 36 with value: 5.855549211479351.\u001b[0m\n",
      "\u001b[32m[I 2022-10-18 11:05:24,861]\u001b[0m Trial 45 finished with value: 6.0044870821483425 and parameters: {'max_depth': 10, 'learning_rate': 0.173090953358776, 'n_estimators': 52, 'min_child_weight': 2, 'gamma': 0.8659520992679378, 'subsample': 0.800154797152679, 'colsample_bytree': 0.7720175547786023, 'reg_alpha': 0.8963234040922708, 'reg_lambda': 0.7921567907362834, 'random_state': 95}. Best is trial 36 with value: 5.855549211479351.\u001b[0m\n",
      "\u001b[32m[I 2022-10-18 11:05:25,927]\u001b[0m Trial 46 finished with value: 5.9428116917326115 and parameters: {'max_depth': 9, 'learning_rate': 0.15450652566008188, 'n_estimators': 207, 'min_child_weight': 1, 'gamma': 0.795805045283263, 'subsample': 0.9281722656156535, 'colsample_bytree': 0.6197488681546645, 'reg_alpha': 0.6167485782499527, 'reg_lambda': 0.6578556986157997, 'random_state': 127}. Best is trial 36 with value: 5.855549211479351.\u001b[0m\n",
      "\u001b[32m[I 2022-10-18 11:05:26,982]\u001b[0m Trial 47 finished with value: 6.265643824172582 and parameters: {'max_depth': 8, 'learning_rate': 0.2931383528407287, 'n_estimators': 224, 'min_child_weight': 1, 'gamma': 0.6242562006986551, 'subsample': 0.9583847948206795, 'colsample_bytree': 0.6214485685170926, 'reg_alpha': 0.6174863066918649, 'reg_lambda': 0.6399646228147, 'random_state': 313}. Best is trial 36 with value: 5.855549211479351.\u001b[0m\n",
      "\u001b[32m[I 2022-10-18 11:05:27,513]\u001b[0m Trial 48 finished with value: 5.901776427808564 and parameters: {'max_depth': 9, 'learning_rate': 0.0765587274949009, 'n_estimators': 105, 'min_child_weight': 1, 'gamma': 0.7817951224305277, 'subsample': 0.9190142908523605, 'colsample_bytree': 0.5664776259411617, 'reg_alpha': 0.7137282946525662, 'reg_lambda': 0.6825554077853568, 'random_state': 204}. Best is trial 36 with value: 5.855549211479351.\u001b[0m\n",
      "\u001b[32m[I 2022-10-18 11:05:28,030]\u001b[0m Trial 49 finished with value: 5.9836525501698645 and parameters: {'max_depth': 10, 'learning_rate': 0.07431773768350255, 'n_estimators': 86, 'min_child_weight': 1, 'gamma': 0.7945011777197658, 'subsample': 0.8039619730708374, 'colsample_bytree': 0.42661747048932097, 'reg_alpha': 0.7391635010712958, 'reg_lambda': 0.7785935189623755, 'random_state': 204}. Best is trial 36 with value: 5.855549211479351.\u001b[0m\n",
      "\u001b[32m[I 2022-10-18 11:05:28,676]\u001b[0m Trial 50 finished with value: 6.898545805941443 and parameters: {'max_depth': 9, 'learning_rate': 0.5682317090155786, 'n_estimators': 121, 'min_child_weight': 2, 'gamma': 0.7196260961997392, 'subsample': 0.94094966267308, 'colsample_bytree': 0.5521890813013343, 'reg_alpha': 0.6392850374201666, 'reg_lambda': 0.597777517710663, 'random_state': 382}. Best is trial 36 with value: 5.855549211479351.\u001b[0m\n",
      "\u001b[32m[I 2022-10-18 11:05:29,475]\u001b[0m Trial 51 finished with value: 5.9025253202475225 and parameters: {'max_depth': 8, 'learning_rate': 0.06733650121687598, 'n_estimators': 196, 'min_child_weight': 1, 'gamma': 0.9584919568507554, 'subsample': 0.915378168812028, 'colsample_bytree': 0.49901527230285153, 'reg_alpha': 0.6876337957499269, 'reg_lambda': 0.687310893417656, 'random_state': 62}. Best is trial 36 with value: 5.855549211479351.\u001b[0m\n",
      "\u001b[32m[I 2022-10-18 11:05:30,065]\u001b[0m Trial 52 finished with value: 5.979973061450234 and parameters: {'max_depth': 9, 'learning_rate': 0.07359999283186998, 'n_estimators': 152, 'min_child_weight': 1, 'gamma': 0.7597610919189051, 'subsample': 0.9980899359030462, 'colsample_bytree': 0.34504852949701004, 'reg_alpha': 0.5120229774678565, 'reg_lambda': 0.7141273240642548, 'random_state': 150}. Best is trial 36 with value: 5.855549211479351.\u001b[0m\n",
      "\u001b[32m[I 2022-10-18 11:05:30,647]\u001b[0m Trial 53 finished with value: 5.98038772101247 and parameters: {'max_depth': 10, 'learning_rate': 0.053281335971664796, 'n_estimators': 103, 'min_child_weight': 1, 'gamma': 0.8095304578300216, 'subsample': 0.8088467451729755, 'colsample_bytree': 0.4772402452124699, 'reg_alpha': 0.6938663898514584, 'reg_lambda': 0.6811628307785939, 'random_state': 57}. Best is trial 36 with value: 5.855549211479351.\u001b[0m\n",
      "\u001b[32m[I 2022-10-18 11:05:31,743]\u001b[0m Trial 54 finished with value: 6.137178111915901 and parameters: {'max_depth': 9, 'learning_rate': 0.21335066081331727, 'n_estimators': 251, 'min_child_weight': 2, 'gamma': 0.9550889881013741, 'subsample': 0.92521406851292, 'colsample_bytree': 0.4166198020263857, 'reg_alpha': 0.5960985835921244, 'reg_lambda': 0.873332857742355, 'random_state': 288}. Best is trial 36 with value: 5.855549211479351.\u001b[0m\n",
      "\u001b[32m[I 2022-10-18 11:05:32,412]\u001b[0m Trial 55 finished with value: 8.967038485724236 and parameters: {'max_depth': 8, 'learning_rate': 0.869198448397139, 'n_estimators': 193, 'min_child_weight': 1, 'gamma': 0.04278415238183658, 'subsample': 0.7428402953028952, 'colsample_bytree': 0.28649274821085907, 'reg_alpha': 0.7342164091685325, 'reg_lambda': 0.5005266196857399, 'random_state': 167}. Best is trial 36 with value: 5.855549211479351.\u001b[0m\n",
      "\u001b[32m[I 2022-10-18 11:05:33,149]\u001b[0m Trial 56 finished with value: 7.392276493443172 and parameters: {'max_depth': 10, 'learning_rate': 0.6947975456453865, 'n_estimators': 131, 'min_child_weight': 2, 'gamma': 0.8544678721365812, 'subsample': 0.9012703091524457, 'colsample_bytree': 0.512463144071217, 'reg_alpha': 0.6759822497859291, 'reg_lambda': 0.7718454469722034, 'random_state': 53}. Best is trial 36 with value: 5.855549211479351.\u001b[0m\n"
     ]
    },
    {
     "name": "stderr",
     "output_type": "stream",
     "text": [
      "\u001b[32m[I 2022-10-18 11:05:34,744]\u001b[0m Trial 57 finished with value: 5.874165091086608 and parameters: {'max_depth': 8, 'learning_rate': 0.09960316625050604, 'n_estimators': 346, 'min_child_weight': 1, 'gamma': 0.5144909803747577, 'subsample': 0.8351556345047582, 'colsample_bytree': 0.6472206425442142, 'reg_alpha': 0.7981634607660694, 'reg_lambda': 0.6018813149180237, 'random_state': 144}. Best is trial 36 with value: 5.855549211479351.\u001b[0m\n",
      "\u001b[32m[I 2022-10-18 11:05:36,133]\u001b[0m Trial 58 finished with value: 5.952331297795925 and parameters: {'max_depth': 7, 'learning_rate': 0.1020843200368591, 'n_estimators': 360, 'min_child_weight': 3, 'gamma': 0.4845054155623307, 'subsample': 0.832173541229229, 'colsample_bytree': 0.656078573714278, 'reg_alpha': 0.8082349985965146, 'reg_lambda': 0.5862061140530462, 'random_state': 204}. Best is trial 36 with value: 5.855549211479351.\u001b[0m\n",
      "\u001b[32m[I 2022-10-18 11:05:36,358]\u001b[0m Trial 59 finished with value: 24.293771410076776 and parameters: {'max_depth': 8, 'learning_rate': 0.014880405161083896, 'n_estimators': 50, 'min_child_weight': 2, 'gamma': 0.5076552658365074, 'subsample': 0.70465668308926, 'colsample_bytree': 0.5319290257051876, 'reg_alpha': 0.7508031488897584, 'reg_lambda': 0.447673858248988, 'random_state': 63}. Best is trial 36 with value: 5.855549211479351.\u001b[0m\n",
      "\u001b[32m[I 2022-10-18 11:05:37,463]\u001b[0m Trial 60 finished with value: 5.86133459751209 and parameters: {'max_depth': 8, 'learning_rate': 0.053928508386943005, 'n_estimators': 268, 'min_child_weight': 1, 'gamma': 0.23087304859214675, 'subsample': 0.7695376733899185, 'colsample_bytree': 0.57942952003566, 'reg_alpha': 0.7146224647465644, 'reg_lambda': 0.6106792756305875, 'random_state': 407}. Best is trial 36 with value: 5.855549211479351.\u001b[0m\n",
      "\u001b[32m[I 2022-10-18 11:05:38,661]\u001b[0m Trial 61 finished with value: 5.87976326436191 and parameters: {'max_depth': 8, 'learning_rate': 0.047720134657454505, 'n_estimators': 274, 'min_child_weight': 1, 'gamma': 0.1426326892786549, 'subsample': 0.996198182860276, 'colsample_bytree': 0.5855689031749199, 'reg_alpha': 0.7894117335610656, 'reg_lambda': 0.5239393324692336, 'random_state': 338}. Best is trial 36 with value: 5.855549211479351.\u001b[0m\n",
      "\u001b[32m[I 2022-10-18 11:05:40,028]\u001b[0m Trial 62 finished with value: 5.828553739956267 and parameters: {'max_depth': 8, 'learning_rate': 0.05452669666927852, 'n_estimators': 350, 'min_child_weight': 1, 'gamma': 0.23785959732195294, 'subsample': 0.9866912070589855, 'colsample_bytree': 0.4842325733670377, 'reg_alpha': 0.7055679309784516, 'reg_lambda': 0.6135326004947539, 'random_state': 339}. Best is trial 62 with value: 5.828553739956267.\u001b[0m\n",
      "\u001b[32m[I 2022-10-18 11:05:41,160]\u001b[0m Trial 63 finished with value: 5.924522704916528 and parameters: {'max_depth': 7, 'learning_rate': 0.04469515979245283, 'n_estimators': 340, 'min_child_weight': 1, 'gamma': 0.2454524090022146, 'subsample': 0.9822079183264169, 'colsample_bytree': 0.4703268840734565, 'reg_alpha': 0.7112571146723964, 'reg_lambda': 0.6055675579357611, 'random_state': 430}. Best is trial 62 with value: 5.828553739956267.\u001b[0m\n",
      "\u001b[32m[I 2022-10-18 11:05:42,615]\u001b[0m Trial 64 finished with value: 5.897479576492612 and parameters: {'max_depth': 8, 'learning_rate': 0.04422414812934923, 'n_estimators': 400, 'min_child_weight': 1, 'gamma': 0.14283480152894384, 'subsample': 0.9998559129319453, 'colsample_bytree': 0.3841300038809719, 'reg_alpha': 0.6716928014232865, 'reg_lambda': 0.6964466600628432, 'random_state': 341}. Best is trial 62 with value: 5.828553739956267.\u001b[0m\n",
      "\u001b[32m[I 2022-10-18 11:05:44,422]\u001b[0m Trial 65 finished with value: 6.011221434421756 and parameters: {'max_depth': 8, 'learning_rate': 0.010285673949440848, 'n_estimators': 407, 'min_child_weight': 1, 'gamma': 0.13668112675314908, 'subsample': 0.9906899364706159, 'colsample_bytree': 0.584873577767327, 'reg_alpha': 0.7916852430299944, 'reg_lambda': 0.7471505782257069, 'random_state': 345}. Best is trial 62 with value: 5.828553739956267.\u001b[0m\n",
      "\u001b[32m[I 2022-10-18 11:05:45,225]\u001b[0m Trial 66 finished with value: 5.990920599648837 and parameters: {'max_depth': 7, 'learning_rate': 0.09109711933859133, 'n_estimators': 268, 'min_child_weight': 1, 'gamma': 0.2378310010525304, 'subsample': 0.7724199351904097, 'colsample_bytree': 0.33087419002252133, 'reg_alpha': 0.649411938598805, 'reg_lambda': 0.8259441124760047, 'random_state': 412}. Best is trial 62 with value: 5.828553739956267.\u001b[0m\n",
      "\u001b[32m[I 2022-10-18 11:05:46,292]\u001b[0m Trial 67 finished with value: 6.004059504023424 and parameters: {'max_depth': 6, 'learning_rate': 0.041739417521240926, 'n_estimators': 406, 'min_child_weight': 2, 'gamma': 0.09128208797612522, 'subsample': 0.8350306917111827, 'colsample_bytree': 0.38452443919428514, 'reg_alpha': 0.5176372174946773, 'reg_lambda': 0.4805485820019508, 'random_state': 462}. Best is trial 62 with value: 5.828553739956267.\u001b[0m\n",
      "\u001b[32m[I 2022-10-18 11:05:48,020]\u001b[0m Trial 68 finished with value: 6.109703977694422 and parameters: {'max_depth': 7, 'learning_rate': 0.18876667729156626, 'n_estimators': 474, 'min_child_weight': 1, 'gamma': 0.29048772282237023, 'subsample': 0.8920537590683792, 'colsample_bytree': 0.5516006808514909, 'reg_alpha': 0.7211359749495362, 'reg_lambda': 0.6187473707944133, 'random_state': 330}. Best is trial 62 with value: 5.828553739956267.\u001b[0m\n",
      "\u001b[32m[I 2022-10-18 11:05:49,695]\u001b[0m Trial 69 finished with value: 6.014008005226546 and parameters: {'max_depth': 8, 'learning_rate': 0.037077271788157146, 'n_estimators': 546, 'min_child_weight': 2, 'gamma': 0.21320979685191366, 'subsample': 0.9504891781698536, 'colsample_bytree': 0.2308003725191909, 'reg_alpha': 0.8667246000446656, 'reg_lambda': 0.6683781134052292, 'random_state': 534}. Best is trial 62 with value: 5.828553739956267.\u001b[0m\n",
      "\u001b[32m[I 2022-10-18 11:05:50,785]\u001b[0m Trial 70 finished with value: 6.001425288106702 and parameters: {'max_depth': 7, 'learning_rate': 0.12291739149871757, 'n_estimators': 335, 'min_child_weight': 1, 'gamma': 0.36731477467606904, 'subsample': 0.8867460694791006, 'colsample_bytree': 0.4157472104865896, 'reg_alpha': 0.577162199799159, 'reg_lambda': 0.5767636633495543, 'random_state': 271}. Best is trial 62 with value: 5.828553739956267.\u001b[0m\n",
      "\u001b[32m[I 2022-10-18 11:05:51,772]\u001b[0m Trial 71 finished with value: 5.88674738027761 and parameters: {'max_depth': 8, 'learning_rate': 0.0706422514797107, 'n_estimators': 269, 'min_child_weight': 1, 'gamma': 0.19283419152392534, 'subsample': 0.9948665746050722, 'colsample_bytree': 0.46226873412938346, 'reg_alpha': 0.686268683626261, 'reg_lambda': 0.7064655961993624, 'random_state': 380}. Best is trial 62 with value: 5.828553739956267.\u001b[0m\n",
      "\u001b[32m[I 2022-10-18 11:05:52,697]\u001b[0m Trial 72 finished with value: 5.934922191861259 and parameters: {'max_depth': 8, 'learning_rate': 0.08571941608694698, 'n_estimators': 259, 'min_child_weight': 1, 'gamma': 0.19309639409464485, 'subsample': 0.9974844833711465, 'colsample_bytree': 0.380620256124105, 'reg_alpha': 0.7728723264136114, 'reg_lambda': 0.7220621718012984, 'random_state': 395}. Best is trial 62 with value: 5.828553739956267.\u001b[0m\n",
      "\u001b[32m[I 2022-10-18 11:05:53,859]\u001b[0m Trial 73 finished with value: 5.96826022614996 and parameters: {'max_depth': 8, 'learning_rate': 0.061467928474492964, 'n_estimators': 388, 'min_child_weight': 2, 'gamma': 0.12473255068891709, 'subsample': 0.9666805965465931, 'colsample_bytree': 0.29856621803132466, 'reg_alpha': 0.8090191472719943, 'reg_lambda': 0.7093615819073812, 'random_state': 356}. Best is trial 62 with value: 5.828553739956267.\u001b[0m\n",
      "\u001b[32m[I 2022-10-18 11:05:54,999]\u001b[0m Trial 74 finished with value: 5.883202492903552 and parameters: {'max_depth': 8, 'learning_rate': 0.043521681786888554, 'n_estimators': 294, 'min_child_weight': 1, 'gamma': 0.07163909744874294, 'subsample': 0.9353771945955633, 'colsample_bytree': 0.47994045164546073, 'reg_alpha': 0.6257262128686613, 'reg_lambda': 0.6210192378665299, 'random_state': 459}. Best is trial 62 with value: 5.828553739956267.\u001b[0m\n",
      "\u001b[32m[I 2022-10-18 11:05:56,057]\u001b[0m Trial 75 finished with value: 5.883772218596661 and parameters: {'max_depth': 8, 'learning_rate': 0.044597448353884295, 'n_estimators': 283, 'min_child_weight': 1, 'gamma': 0.06058160603398027, 'subsample': 0.9445130839096707, 'colsample_bytree': 0.4531439860848734, 'reg_alpha': 0.6610322663741526, 'reg_lambda': 0.5344094613400924, 'random_state': 462}. Best is trial 62 with value: 5.828553739956267.\u001b[0m\n"
     ]
    },
    {
     "name": "stderr",
     "output_type": "stream",
     "text": [
      "\u001b[32m[I 2022-10-18 11:05:56,996]\u001b[0m Trial 76 finished with value: 5.9697882057151554 and parameters: {'max_depth': 7, 'learning_rate': 0.11859263343224635, 'n_estimators': 288, 'min_child_weight': 2, 'gamma': 0.05650779030383705, 'subsample': 0.8342260144058542, 'colsample_bytree': 0.48761563416470755, 'reg_alpha': 0.6290887680197885, 'reg_lambda': 0.537902672581155, 'random_state': 520}. Best is trial 62 with value: 5.828553739956267.\u001b[0m\n",
      "\u001b[32m[I 2022-10-18 11:05:58,205]\u001b[0m Trial 77 finished with value: 6.033267761798078 and parameters: {'max_depth': 8, 'learning_rate': 0.014447453604304446, 'n_estimators': 303, 'min_child_weight': 1, 'gamma': 0.0854997841454471, 'subsample': 0.9430310566577887, 'colsample_bytree': 0.45934028812118594, 'reg_alpha': 0.4680783866820778, 'reg_lambda': 0.46642640967881, 'random_state': 474}. Best is trial 62 with value: 5.828553739956267.\u001b[0m\n",
      "\u001b[32m[I 2022-10-18 11:05:59,260]\u001b[0m Trial 78 finished with value: 5.938527543903943 and parameters: {'max_depth': 6, 'learning_rate': 0.09169393036496354, 'n_estimators': 352, 'min_child_weight': 2, 'gamma': 0.012045607665687422, 'subsample': 0.8939273285000378, 'colsample_bytree': 0.5292598573941655, 'reg_alpha': 0.60577793580852, 'reg_lambda': 0.42249085396059005, 'random_state': 425}. Best is trial 62 with value: 5.828553739956267.\u001b[0m\n",
      "\u001b[32m[I 2022-10-18 11:06:00,174]\u001b[0m Trial 79 finished with value: 6.034809884578108 and parameters: {'max_depth': 5, 'learning_rate': 0.17406638557470688, 'n_estimators': 287, 'min_child_weight': 1, 'gamma': 0.27763359068531845, 'subsample': 0.7669408711509254, 'colsample_bytree': 0.9558946713471863, 'reg_alpha': 0.6584710022465231, 'reg_lambda': 0.5683258722845548, 'random_state': 452}. Best is trial 62 with value: 5.828553739956267.\u001b[0m\n",
      "\u001b[32m[I 2022-10-18 11:06:00,944]\u001b[0m Trial 80 finished with value: 5.967851552592088 and parameters: {'max_depth': 7, 'learning_rate': 0.1376994088267816, 'n_estimators': 244, 'min_child_weight': 2, 'gamma': 0.18517903145777082, 'subsample': 0.969985448602548, 'colsample_bytree': 0.44825943712309596, 'reg_alpha': 0.5781023308438894, 'reg_lambda': 0.6211204809521553, 'random_state': 582}. Best is trial 62 with value: 5.828553739956267.\u001b[0m\n",
      "\u001b[32m[I 2022-10-18 11:06:02,178]\u001b[0m Trial 81 finished with value: 5.920377851864443 and parameters: {'max_depth': 8, 'learning_rate': 0.03676065662443783, 'n_estimators': 328, 'min_child_weight': 1, 'gamma': 0.1457453723383571, 'subsample': 0.9918381875421536, 'colsample_bytree': 0.43274497242238436, 'reg_alpha': 0.6656246338140438, 'reg_lambda': 0.6446761245338122, 'random_state': 371}. Best is trial 62 with value: 5.828553739956267.\u001b[0m\n",
      "\u001b[32m[I 2022-10-18 11:06:03,793]\u001b[0m Trial 82 finished with value: 5.80613901225669 and parameters: {'max_depth': 8, 'learning_rate': 0.04713713722022711, 'n_estimators': 389, 'min_child_weight': 1, 'gamma': 0.1100406244545197, 'subsample': 0.9346110357674399, 'colsample_bytree': 0.5317297888481654, 'reg_alpha': 0.5338393483166887, 'reg_lambda': 0.5720506850472663, 'random_state': 550}. Best is trial 82 with value: 5.80613901225669.\u001b[0m\n",
      "\u001b[32m[I 2022-10-18 11:06:05,207]\u001b[0m Trial 83 finished with value: 5.887031169464135 and parameters: {'max_depth': 8, 'learning_rate': 0.10064761122698418, 'n_estimators': 359, 'min_child_weight': 9, 'gamma': 0.1027909409796573, 'subsample': 0.8730776048309189, 'colsample_bytree': 0.5304726977490932, 'reg_alpha': 0.5285900073797565, 'reg_lambda': 0.5055947145740274, 'random_state': 556}. Best is trial 82 with value: 5.80613901225669.\u001b[0m\n",
      "\u001b[32m[I 2022-10-18 11:06:06,328]\u001b[0m Trial 84 finished with value: 5.926916714840728 and parameters: {'max_depth': 7, 'learning_rate': 0.0618311727046201, 'n_estimators': 310, 'min_child_weight': 1, 'gamma': 0.059811701384406175, 'subsample': 0.935807742033862, 'colsample_bytree': 0.590342946641249, 'reg_alpha': 0.5478911416445044, 'reg_lambda': 0.5311372974324418, 'random_state': 671}. Best is trial 82 with value: 5.80613901225669.\u001b[0m\n",
      "\u001b[32m[I 2022-10-18 11:06:08,022]\u001b[0m Trial 85 finished with value: 5.835484560299146 and parameters: {'max_depth': 8, 'learning_rate': 0.03681503193442348, 'n_estimators': 374, 'min_child_weight': 1, 'gamma': 0.17340639977729264, 'subsample': 0.9646447408969414, 'colsample_bytree': 0.6328559040165598, 'reg_alpha': 0.7367120281416951, 'reg_lambda': 0.5812311569562484, 'random_state': 490}. Best is trial 82 with value: 5.80613901225669.\u001b[0m\n",
      "\u001b[32m[I 2022-10-18 11:06:09,757]\u001b[0m Trial 86 finished with value: 5.841368807185917 and parameters: {'max_depth': 8, 'learning_rate': 0.026809866158676216, 'n_estimators': 378, 'min_child_weight': 2, 'gamma': 0.10728210399479425, 'subsample': 0.9110095111007925, 'colsample_bytree': 0.6366248389717931, 'reg_alpha': 0.4756649259180899, 'reg_lambda': 0.5640802489721698, 'random_state': 620}. Best is trial 82 with value: 5.80613901225669.\u001b[0m\n",
      "\u001b[32m[I 2022-10-18 11:06:10,415]\u001b[0m Trial 87 finished with value: 6.711162440487086 and parameters: {'max_depth': 3, 'learning_rate': 0.026146572026833664, 'n_estimators': 376, 'min_child_weight': 2, 'gamma': 0.11629261528105188, 'subsample': 0.8423777533033681, 'colsample_bytree': 0.6343266706576367, 'reg_alpha': 0.49406073559743896, 'reg_lambda': 0.5677547935201233, 'random_state': 625}. Best is trial 82 with value: 5.80613901225669.\u001b[0m\n",
      "\u001b[32m[I 2022-10-18 11:06:12,860]\u001b[0m Trial 88 finished with value: 5.938329669385793 and parameters: {'max_depth': 9, 'learning_rate': 0.1211376277669251, 'n_estimators': 453, 'min_child_weight': 2, 'gamma': 0.1651374931036577, 'subsample': 0.9063207058094683, 'colsample_bytree': 0.6708269031131876, 'reg_alpha': 0.7813786748382167, 'reg_lambda': 0.6019090952875789, 'random_state': 597}. Best is trial 82 with value: 5.80613901225669.\u001b[0m\n",
      "\u001b[32m[I 2022-10-18 11:06:14,129]\u001b[0m Trial 89 finished with value: 6.653332294255046 and parameters: {'max_depth': 9, 'learning_rate': 0.011531691128452252, 'n_estimators': 230, 'min_child_weight': 1, 'gamma': 0.31638742253844865, 'subsample': 0.9685904082308928, 'colsample_bytree': 0.623498160449093, 'reg_alpha': 0.39495373527209887, 'reg_lambda': 0.5606635658299604, 'random_state': 501}. Best is trial 82 with value: 5.80613901225669.\u001b[0m\n",
      "\u001b[32m[I 2022-10-18 11:06:15,785]\u001b[0m Trial 90 finished with value: 6.612547806529479 and parameters: {'max_depth': 7, 'learning_rate': 0.38838386909433986, 'n_estimators': 381, 'min_child_weight': 2, 'gamma': 0.22483885048872723, 'subsample': 0.8817268110883684, 'colsample_bytree': 0.7450711984975177, 'reg_alpha': 0.46506933851398213, 'reg_lambda': 0.4929594414574959, 'random_state': 663}. Best is trial 82 with value: 5.80613901225669.\u001b[0m\n",
      "\u001b[32m[I 2022-10-18 11:06:17,713]\u001b[0m Trial 91 finished with value: 5.806808035065012 and parameters: {'max_depth': 8, 'learning_rate': 0.04927202231711232, 'n_estimators': 417, 'min_child_weight': 1, 'gamma': 0.06598043889573228, 'subsample': 0.9320977364265098, 'colsample_bytree': 0.5812694229494847, 'reg_alpha': 0.7410931878024457, 'reg_lambda': 0.5285418682784672, 'random_state': 548}. Best is trial 82 with value: 5.80613901225669.\u001b[0m\n",
      "\u001b[32m[I 2022-10-18 11:06:19,609]\u001b[0m Trial 92 finished with value: 5.869197077015135 and parameters: {'max_depth': 8, 'learning_rate': 0.09554164644538511, 'n_estimators': 424, 'min_child_weight': 1, 'gamma': 0.01568179469531855, 'subsample': 0.9235776526519105, 'colsample_bytree': 0.6021778926267264, 'reg_alpha': 0.4172091580829774, 'reg_lambda': 0.6249575373054429, 'random_state': 544}. Best is trial 82 with value: 5.80613901225669.\u001b[0m\n",
      "\u001b[32m[I 2022-10-18 11:06:21,497]\u001b[0m Trial 93 finished with value: 6.0541314399523305 and parameters: {'max_depth': 8, 'learning_rate': 0.14720260609069968, 'n_estimators': 417, 'min_child_weight': 1, 'gamma': 0.03736425296784408, 'subsample': 0.9112863704392367, 'colsample_bytree': 0.5799976164451148, 'reg_alpha': 0.3567640670964164, 'reg_lambda': 0.5167958423524621, 'random_state': 539}. Best is trial 82 with value: 5.80613901225669.\u001b[0m\n",
      "\u001b[32m[I 2022-10-18 11:06:23,659]\u001b[0m Trial 94 finished with value: 5.9023548110566 and parameters: {'max_depth': 8, 'learning_rate': 0.09428571574008307, 'n_estimators': 473, 'min_child_weight': 1, 'gamma': 0.01885506988972148, 'subsample': 0.8529829556430847, 'colsample_bytree': 0.6013842663729521, 'reg_alpha': 0.8202039042697138, 'reg_lambda': 0.5854968784055011, 'random_state': 494}. Best is trial 82 with value: 5.80613901225669.\u001b[0m\n"
     ]
    },
    {
     "name": "stderr",
     "output_type": "stream",
     "text": [
      "\u001b[32m[I 2022-10-18 11:06:26,140]\u001b[0m Trial 95 finished with value: 5.81920833299802 and parameters: {'max_depth': 9, 'learning_rate': 0.06200780840076763, 'n_estimators': 444, 'min_child_weight': 1, 'gamma': 0.4599454517831607, 'subsample': 0.8136852021168836, 'colsample_bytree': 0.667809404059085, 'reg_alpha': 0.2990643641110577, 'reg_lambda': 0.4702351842000482, 'random_state': 727}. Best is trial 82 with value: 5.80613901225669.\u001b[0m\n",
      "\u001b[32m[I 2022-10-18 11:06:28,944]\u001b[0m Trial 96 finished with value: 5.9667880012081955 and parameters: {'max_depth': 9, 'learning_rate': 0.10977856482418985, 'n_estimators': 514, 'min_child_weight': 2, 'gamma': 0.4698391601887956, 'subsample': 0.812853473376808, 'colsample_bytree': 0.6656884643642964, 'reg_alpha': 0.24846612187147532, 'reg_lambda': 0.4639358648556637, 'random_state': 755}. Best is trial 82 with value: 5.80613901225669.\u001b[0m\n",
      "\u001b[32m[I 2022-10-18 11:06:31,200]\u001b[0m Trial 97 finished with value: 6.2541048240813115 and parameters: {'max_depth': 9, 'learning_rate': 0.21183656152863192, 'n_estimators': 428, 'min_child_weight': 1, 'gamma': 0.36399327062013054, 'subsample': 0.7267172523374217, 'colsample_bytree': 0.6411645477223887, 'reg_alpha': 0.17923214744118096, 'reg_lambda': 0.5522945917427227, 'random_state': 717}. Best is trial 82 with value: 5.80613901225669.\u001b[0m\n",
      "\u001b[32m[I 2022-10-18 11:06:33,578]\u001b[0m Trial 98 finished with value: 7.072919948397095 and parameters: {'max_depth': 9, 'learning_rate': 0.5129911846123404, 'n_estimators': 469, 'min_child_weight': 3, 'gamma': 0.6058994945985021, 'subsample': 0.788069659421409, 'colsample_bytree': 0.6796596072458205, 'reg_alpha': 0.3147413389213448, 'reg_lambda': 0.657382832307941, 'random_state': 559}. Best is trial 82 with value: 5.80613901225669.\u001b[0m\n",
      "\u001b[32m[I 2022-10-18 11:06:35,163]\u001b[0m Trial 99 finished with value: 5.866408120989326 and parameters: {'max_depth': 7, 'learning_rate': 0.07657248669009731, 'n_estimators': 431, 'min_child_weight': 1, 'gamma': 0.27605626096335867, 'subsample': 0.6648622950259687, 'colsample_bytree': 0.5493545473185939, 'reg_alpha': 0.29661723562128767, 'reg_lambda': 0.6003924731545637, 'random_state': 604}. Best is trial 82 with value: 5.80613901225669.\u001b[0m\n"
     ]
    }
   ],
   "source": [
    "study.optimize(objective, n_trials=100)"
   ]
  },
  {
   "cell_type": "code",
   "execution_count": 18,
   "id": "639ece2c",
   "metadata": {},
   "outputs": [
    {
     "name": "stdout",
     "output_type": "stream",
     "text": [
      "Best parameters {'max_depth': 8, 'learning_rate': 0.04713713722022711, 'n_estimators': 389, 'min_child_weight': 1, 'gamma': 0.1100406244545197, 'subsample': 0.9346110357674399, 'colsample_bytree': 0.5317297888481654, 'reg_alpha': 0.5338393483166887, 'reg_lambda': 0.5720506850472663, 'random_state': 550}\n",
      "Best value 5.80613901225669\n"
     ]
    }
   ],
   "source": [
    "print('Best parameters', study.best_params)\n",
    "print('Best value', study.best_value)"
   ]
  },
  {
   "cell_type": "code",
   "execution_count": 35,
   "id": "1df41332",
   "metadata": {},
   "outputs": [],
   "source": [
    "b = study.best_params"
   ]
  },
  {
   "cell_type": "code",
   "execution_count": 40,
   "id": "b5440877",
   "metadata": {},
   "outputs": [],
   "source": [
    "model = xgb.XGBRegressor(\n",
    "    max_depth=b['max_depth'],\n",
    "    learning_rate=b['learning_rate'],\n",
    "    n_estimators=b['n_estimators'],\n",
    "    min_child_weight=b['min_child_weight'],\n",
    "    gamma=b['gamma'],\n",
    "    subsample=b['subsample'],\n",
    "    colsample_bytree=b['colsample_bytree'],\n",
    "    reg_alpha=b['reg_alpha'],\n",
    "    reg_lambda=b['reg_lambda'],\n",
    "    random_state=b['random_state']\n",
    "            )\n"
   ]
  },
  {
   "cell_type": "code",
   "execution_count": 41,
   "id": "32146dde",
   "metadata": {},
   "outputs": [
    {
     "data": {
      "text/plain": [
       "5.80613901225669"
      ]
     },
     "execution_count": 41,
     "metadata": {},
     "output_type": "execute_result"
    }
   ],
   "source": [
    "model.fit(X_train_std, y_train)\n",
    "y_pred = model.predict(X_test_std)\n",
    "metrics.mean_absolute_error(y_test, y_pred)"
   ]
  },
  {
   "cell_type": "code",
   "execution_count": 43,
   "id": "41cb4e15",
   "metadata": {},
   "outputs": [
    {
     "data": {
      "text/plain": [
       "0.5906031032021519"
      ]
     },
     "execution_count": 43,
     "metadata": {},
     "output_type": "execute_result"
    }
   ],
   "source": [
    "metrics.r2_score(y_test, y_pred)"
   ]
  },
  {
   "cell_type": "markdown",
   "id": "aa9641d6",
   "metadata": {},
   "source": [
    "## Random Forest"
   ]
  },
  {
   "cell_type": "code",
   "execution_count": 19,
   "id": "c34be8fe",
   "metadata": {},
   "outputs": [],
   "source": [
    "from sklearn.ensemble import RandomForestRegressor"
   ]
  },
  {
   "cell_type": "code",
   "execution_count": 20,
   "id": "777cc624",
   "metadata": {},
   "outputs": [
    {
     "data": {
      "text/html": [
       "<style>#sk-container-id-3 {color: black;background-color: white;}#sk-container-id-3 pre{padding: 0;}#sk-container-id-3 div.sk-toggleable {background-color: white;}#sk-container-id-3 label.sk-toggleable__label {cursor: pointer;display: block;width: 100%;margin-bottom: 0;padding: 0.3em;box-sizing: border-box;text-align: center;}#sk-container-id-3 label.sk-toggleable__label-arrow:before {content: \"▸\";float: left;margin-right: 0.25em;color: #696969;}#sk-container-id-3 label.sk-toggleable__label-arrow:hover:before {color: black;}#sk-container-id-3 div.sk-estimator:hover label.sk-toggleable__label-arrow:before {color: black;}#sk-container-id-3 div.sk-toggleable__content {max-height: 0;max-width: 0;overflow: hidden;text-align: left;background-color: #f0f8ff;}#sk-container-id-3 div.sk-toggleable__content pre {margin: 0.2em;color: black;border-radius: 0.25em;background-color: #f0f8ff;}#sk-container-id-3 input.sk-toggleable__control:checked~div.sk-toggleable__content {max-height: 200px;max-width: 100%;overflow: auto;}#sk-container-id-3 input.sk-toggleable__control:checked~label.sk-toggleable__label-arrow:before {content: \"▾\";}#sk-container-id-3 div.sk-estimator input.sk-toggleable__control:checked~label.sk-toggleable__label {background-color: #d4ebff;}#sk-container-id-3 div.sk-label input.sk-toggleable__control:checked~label.sk-toggleable__label {background-color: #d4ebff;}#sk-container-id-3 input.sk-hidden--visually {border: 0;clip: rect(1px 1px 1px 1px);clip: rect(1px, 1px, 1px, 1px);height: 1px;margin: -1px;overflow: hidden;padding: 0;position: absolute;width: 1px;}#sk-container-id-3 div.sk-estimator {font-family: monospace;background-color: #f0f8ff;border: 1px dotted black;border-radius: 0.25em;box-sizing: border-box;margin-bottom: 0.5em;}#sk-container-id-3 div.sk-estimator:hover {background-color: #d4ebff;}#sk-container-id-3 div.sk-parallel-item::after {content: \"\";width: 100%;border-bottom: 1px solid gray;flex-grow: 1;}#sk-container-id-3 div.sk-label:hover label.sk-toggleable__label {background-color: #d4ebff;}#sk-container-id-3 div.sk-serial::before {content: \"\";position: absolute;border-left: 1px solid gray;box-sizing: border-box;top: 0;bottom: 0;left: 50%;z-index: 0;}#sk-container-id-3 div.sk-serial {display: flex;flex-direction: column;align-items: center;background-color: white;padding-right: 0.2em;padding-left: 0.2em;position: relative;}#sk-container-id-3 div.sk-item {position: relative;z-index: 1;}#sk-container-id-3 div.sk-parallel {display: flex;align-items: stretch;justify-content: center;background-color: white;position: relative;}#sk-container-id-3 div.sk-item::before, #sk-container-id-3 div.sk-parallel-item::before {content: \"\";position: absolute;border-left: 1px solid gray;box-sizing: border-box;top: 0;bottom: 0;left: 50%;z-index: -1;}#sk-container-id-3 div.sk-parallel-item {display: flex;flex-direction: column;z-index: 1;position: relative;background-color: white;}#sk-container-id-3 div.sk-parallel-item:first-child::after {align-self: flex-end;width: 50%;}#sk-container-id-3 div.sk-parallel-item:last-child::after {align-self: flex-start;width: 50%;}#sk-container-id-3 div.sk-parallel-item:only-child::after {width: 0;}#sk-container-id-3 div.sk-dashed-wrapped {border: 1px dashed gray;margin: 0 0.4em 0.5em 0.4em;box-sizing: border-box;padding-bottom: 0.4em;background-color: white;}#sk-container-id-3 div.sk-label label {font-family: monospace;font-weight: bold;display: inline-block;line-height: 1.2em;}#sk-container-id-3 div.sk-label-container {text-align: center;}#sk-container-id-3 div.sk-container {/* jupyter's `normalize.less` sets `[hidden] { display: none; }` but bootstrap.min.css set `[hidden] { display: none !important; }` so we also need the `!important` here to be able to override the default hidden behavior on the sphinx rendered scikit-learn.org. See: https://github.com/scikit-learn/scikit-learn/issues/21755 */display: inline-block !important;position: relative;}#sk-container-id-3 div.sk-text-repr-fallback {display: none;}</style><div id=\"sk-container-id-3\" class=\"sk-top-container\"><div class=\"sk-text-repr-fallback\"><pre>RandomForestRegressor(n_estimators=1000)</pre><b>In a Jupyter environment, please rerun this cell to show the HTML representation or trust the notebook. <br />On GitHub, the HTML representation is unable to render, please try loading this page with nbviewer.org.</b></div><div class=\"sk-container\" hidden><div class=\"sk-item\"><div class=\"sk-estimator sk-toggleable\"><input class=\"sk-toggleable__control sk-hidden--visually\" id=\"sk-estimator-id-3\" type=\"checkbox\" checked><label for=\"sk-estimator-id-3\" class=\"sk-toggleable__label sk-toggleable__label-arrow\">RandomForestRegressor</label><div class=\"sk-toggleable__content\"><pre>RandomForestRegressor(n_estimators=1000)</pre></div></div></div></div></div>"
      ],
      "text/plain": [
       "RandomForestRegressor(n_estimators=1000)"
      ]
     },
     "execution_count": 20,
     "metadata": {},
     "output_type": "execute_result"
    }
   ],
   "source": [
    "model = RandomForestRegressor(n_estimators=1000)\n",
    "model.fit(X_train_std, y_train)"
   ]
  },
  {
   "cell_type": "code",
   "execution_count": 21,
   "id": "249b0d2f",
   "metadata": {},
   "outputs": [
    {
     "data": {
      "text/plain": [
       "5.854546746352565"
      ]
     },
     "execution_count": 21,
     "metadata": {},
     "output_type": "execute_result"
    }
   ],
   "source": [
    "y_pred = model.predict(X_test_std)\n",
    "metrics.mean_absolute_error(y_test, y_pred)"
   ]
  },
  {
   "cell_type": "code",
   "execution_count": null,
   "id": "bb8d3b21",
   "metadata": {},
   "outputs": [],
   "source": [
    "metrics.r2_score(y_test, y_pred)"
   ]
  },
  {
   "cell_type": "markdown",
   "id": "788426c2",
   "metadata": {},
   "source": [
    "# Train2"
   ]
  },
  {
   "cell_type": "code",
   "execution_count": 22,
   "id": "90127d54",
   "metadata": {},
   "outputs": [],
   "source": [
    "X_train, X_test, y_train, y_test = train_test_split(X2, y, random_state=21, train_size=0.7, shuffle=True)"
   ]
  },
  {
   "cell_type": "markdown",
   "id": "b2a01e55",
   "metadata": {},
   "source": [
    "## Preprocessing"
   ]
  },
  {
   "cell_type": "code",
   "execution_count": 23,
   "id": "611d9c79",
   "metadata": {},
   "outputs": [],
   "source": [
    "std = StandardScaler()"
   ]
  },
  {
   "cell_type": "code",
   "execution_count": 24,
   "id": "25ef674b",
   "metadata": {},
   "outputs": [],
   "source": [
    "std.fit(X_train)\n",
    "X_train_std = std.transform(X_train)\n",
    "X_test_std = std.transform(X_test)"
   ]
  },
  {
   "cell_type": "markdown",
   "id": "d383df73",
   "metadata": {},
   "source": [
    "## XGboost"
   ]
  },
  {
   "cell_type": "code",
   "execution_count": 25,
   "id": "ebe95431",
   "metadata": {},
   "outputs": [
    {
     "name": "stderr",
     "output_type": "stream",
     "text": [
      "\u001b[32m[I 2022-10-18 11:11:54,236]\u001b[0m A new study created in memory with name: regression_2\u001b[0m\n"
     ]
    }
   ],
   "source": [
    "study_2 = optuna.create_study(direction='minimize', study_name='regression_2')"
   ]
  },
  {
   "cell_type": "code",
   "execution_count": 26,
   "id": "7c782047",
   "metadata": {
    "scrolled": true
   },
   "outputs": [
    {
     "name": "stderr",
     "output_type": "stream",
     "text": [
      "\u001b[32m[I 2022-10-18 11:12:33,349]\u001b[0m Trial 0 finished with value: 7.938099741209807 and parameters: {'max_depth': 9, 'learning_rate': 0.01636243900761896, 'n_estimators': 922, 'min_child_weight': 6, 'gamma': 0.5248812293199041, 'subsample': 0.4155742080746963, 'colsample_bytree': 0.5729519931411882, 'reg_alpha': 0.12676899878911654, 'reg_lambda': 0.23795141761757876, 'random_state': 762}. Best is trial 0 with value: 7.938099741209807.\u001b[0m\n",
      "\u001b[32m[I 2022-10-18 11:12:34,441]\u001b[0m Trial 1 finished with value: 8.507346477412597 and parameters: {'max_depth': 1, 'learning_rate': 0.48293675113069107, 'n_estimators': 69, 'min_child_weight': 10, 'gamma': 0.6098217946540436, 'subsample': 0.31063049279172306, 'colsample_bytree': 0.38559842301063124, 'reg_alpha': 0.8278418885945431, 'reg_lambda': 0.6384916280327305, 'random_state': 518}. Best is trial 0 with value: 7.938099741209807.\u001b[0m\n",
      "\u001b[32m[I 2022-10-18 11:12:35,687]\u001b[0m Trial 2 finished with value: 10.906788186620458 and parameters: {'max_depth': 6, 'learning_rate': 0.03250710634177976, 'n_estimators': 50, 'min_child_weight': 4, 'gamma': 0.3823048912518142, 'subsample': 0.38582824646670055, 'colsample_bytree': 0.34384979027333384, 'reg_alpha': 0.5518788814537046, 'reg_lambda': 0.9175742163964309, 'random_state': 636}. Best is trial 0 with value: 7.938099741209807.\u001b[0m\n",
      "\u001b[32m[I 2022-10-18 11:12:41,687]\u001b[0m Trial 3 finished with value: 19.04339911127007 and parameters: {'max_depth': 4, 'learning_rate': 0.6469489192657398, 'n_estimators': 606, 'min_child_weight': 9, 'gamma': 0.503890740632492, 'subsample': 0.29115686564583537, 'colsample_bytree': 0.0750596863544374, 'reg_alpha': 0.013453892416344862, 'reg_lambda': 0.2111842793266377, 'random_state': 650}. Best is trial 0 with value: 7.938099741209807.\u001b[0m\n",
      "\u001b[32m[I 2022-10-18 11:12:47,056]\u001b[0m Trial 4 finished with value: 5.64506894522536e+18 and parameters: {'max_depth': 9, 'learning_rate': 0.8793333242133805, 'n_estimators': 338, 'min_child_weight': 4, 'gamma': 0.06353966705844494, 'subsample': 0.09959400349413332, 'colsample_bytree': 0.2237302276024564, 'reg_alpha': 0.8307758387495239, 'reg_lambda': 0.6747728031559099, 'random_state': 886}. Best is trial 0 with value: 7.938099741209807.\u001b[0m\n",
      "\u001b[32m[I 2022-10-18 11:12:55,790]\u001b[0m Trial 5 finished with value: 8.865154537890744 and parameters: {'max_depth': 10, 'learning_rate': 0.17248489075103454, 'n_estimators': 707, 'min_child_weight': 10, 'gamma': 0.970243818616776, 'subsample': 0.430650825347635, 'colsample_bytree': 0.02784785432099346, 'reg_alpha': 0.5526270669878154, 'reg_lambda': 0.29126756500105416, 'random_state': 801}. Best is trial 0 with value: 7.938099741209807.\u001b[0m\n",
      "\u001b[32m[I 2022-10-18 11:13:03,515]\u001b[0m Trial 6 finished with value: 9.017261956083354 and parameters: {'max_depth': 6, 'learning_rate': 0.36446011360334596, 'n_estimators': 218, 'min_child_weight': 6, 'gamma': 0.2501953041985234, 'subsample': 0.833393632493109, 'colsample_bytree': 0.8270963881357624, 'reg_alpha': 0.5979093882217288, 'reg_lambda': 0.6416407290283597, 'random_state': 133}. Best is trial 0 with value: 7.938099741209807.\u001b[0m\n",
      "\u001b[32m[I 2022-10-18 11:13:20,608]\u001b[0m Trial 7 finished with value: 8.278777118710131 and parameters: {'max_depth': 8, 'learning_rate': 0.06861126585992867, 'n_estimators': 890, 'min_child_weight': 6, 'gamma': 0.32266016628885014, 'subsample': 0.353524933480297, 'colsample_bytree': 0.20384458639300423, 'reg_alpha': 0.4345329613825038, 'reg_lambda': 0.7866801862277742, 'random_state': 631}. Best is trial 0 with value: 7.938099741209807.\u001b[0m\n",
      "\u001b[32m[I 2022-10-18 11:13:34,698]\u001b[0m Trial 8 finished with value: 13.288793465113999 and parameters: {'max_depth': 5, 'learning_rate': 0.6860266399611415, 'n_estimators': 516, 'min_child_weight': 8, 'gamma': 0.12532022916380312, 'subsample': 0.5239155173091423, 'colsample_bytree': 0.5950434171788692, 'reg_alpha': 0.959517066061533, 'reg_lambda': 0.07642195777198552, 'random_state': 862}. Best is trial 0 with value: 7.938099741209807.\u001b[0m\n",
      "\u001b[32m[I 2022-10-18 11:13:37,901]\u001b[0m Trial 9 finished with value: 9.319607404315475 and parameters: {'max_depth': 5, 'learning_rate': 0.38926208187337924, 'n_estimators': 242, 'min_child_weight': 7, 'gamma': 0.7549956090861661, 'subsample': 0.6175432695558294, 'colsample_bytree': 0.12137884536735627, 'reg_alpha': 0.29414971599850365, 'reg_lambda': 0.20884452580807658, 'random_state': 22}. Best is trial 0 with value: 7.938099741209807.\u001b[0m\n",
      "\u001b[32m[I 2022-10-18 11:14:14,902]\u001b[0m Trial 10 finished with value: 8.488223998635604 and parameters: {'max_depth': 8, 'learning_rate': 0.2458440099378166, 'n_estimators': 962, 'min_child_weight': 1, 'gamma': 0.7699204399796469, 'subsample': 0.9865257507398082, 'colsample_bytree': 0.687089022267361, 'reg_alpha': 0.013898767916111165, 'reg_lambda': 0.40489712072243605, 'random_state': 408}. Best is trial 0 with value: 7.938099741209807.\u001b[0m\n",
      "\u001b[32m[I 2022-10-18 11:14:36,123]\u001b[0m Trial 11 finished with value: 8.1913363749368 and parameters: {'max_depth': 7, 'learning_rate': 0.0136021280777763, 'n_estimators': 930, 'min_child_weight': 5, 'gamma': 0.3432932286156188, 'subsample': 0.10551888383045971, 'colsample_bytree': 0.46241551190832597, 'reg_alpha': 0.2401418805741974, 'reg_lambda': 0.9259500473002735, 'random_state': 341}. Best is trial 0 with value: 7.938099741209807.\u001b[0m\n",
      "\u001b[32m[I 2022-10-18 11:15:16,432]\u001b[0m Trial 12 finished with value: 8141.777375659533 and parameters: {'max_depth': 8, 'learning_rate': 0.22855977672861988, 'n_estimators': 808, 'min_child_weight': 4, 'gamma': 0.5102539551205861, 'subsample': 0.020869758875657174, 'colsample_bytree': 0.9892158184459172, 'reg_alpha': 0.19916230714021244, 'reg_lambda': 0.982133661551596, 'random_state': 291}. Best is trial 0 with value: 7.938099741209807.\u001b[0m\n",
      "\u001b[32m[I 2022-10-18 11:15:48,454]\u001b[0m Trial 13 finished with value: 8.169778352090535 and parameters: {'max_depth': 10, 'learning_rate': 0.011497114927622782, 'n_estimators': 986, 'min_child_weight': 2, 'gamma': 0.446133252036267, 'subsample': 0.11722984401691383, 'colsample_bytree': 0.48762203071852156, 'reg_alpha': 0.19419501423634755, 'reg_lambda': 0.49433100124660484, 'random_state': 377}. Best is trial 0 with value: 7.938099741209807.\u001b[0m\n",
      "\u001b[32m[I 2022-10-18 11:16:11,550]\u001b[0m Trial 14 finished with value: 3.3368975072322834e+19 and parameters: {'max_depth': 10, 'learning_rate': 0.9898441133708362, 'n_estimators': 760, 'min_child_weight': 1, 'gamma': 0.6489746361453183, 'subsample': 0.19141919100246793, 'colsample_bytree': 0.6174377231811753, 'reg_alpha': 0.1567674041668977, 'reg_lambda': 0.42684629820576436, 'random_state': 232}. Best is trial 0 with value: 7.938099741209807.\u001b[0m\n",
      "\u001b[32m[I 2022-10-18 11:17:12,857]\u001b[0m Trial 15 finished with value: 8.508970350255908 and parameters: {'max_depth': 10, 'learning_rate': 0.14509509368526954, 'n_estimators': 979, 'min_child_weight': 2, 'gamma': 0.48766363787517075, 'subsample': 0.6618806140319149, 'colsample_bytree': 0.7764869602088518, 'reg_alpha': 0.3747998496844591, 'reg_lambda': 0.025206730684783962, 'random_state': 985}. Best is trial 0 with value: 7.938099741209807.\u001b[0m\n",
      "\u001b[32m[I 2022-10-18 11:17:23,146]\u001b[0m Trial 16 finished with value: 11.045954672224092 and parameters: {'max_depth': 3, 'learning_rate': 0.31218238044368535, 'n_estimators': 625, 'min_child_weight': 3, 'gamma': 0.9307520601252237, 'subsample': 0.20726001451148157, 'colsample_bytree': 0.5203157609683786, 'reg_alpha': 0.0863573149559854, 'reg_lambda': 0.501754516096745, 'random_state': 473}. Best is trial 0 with value: 7.938099741209807.\u001b[0m\n",
      "\u001b[32m[I 2022-10-18 11:17:51,421]\u001b[0m Trial 17 finished with value: 12.129369391510023 and parameters: {'max_depth': 9, 'learning_rate': 0.5856443806960184, 'n_estimators': 873, 'min_child_weight': 7, 'gamma': 0.6337240040328934, 'subsample': 0.5461238186230895, 'colsample_bytree': 0.3712647844619451, 'reg_alpha': 0.32963996907215015, 'reg_lambda': 0.27947998246230965, 'random_state': 737}. Best is trial 0 with value: 7.938099741209807.\u001b[0m\n",
      "\u001b[32m[I 2022-10-18 11:18:12,507]\u001b[0m Trial 18 finished with value: 8.229231603075531 and parameters: {'max_depth': 9, 'learning_rate': 0.12082282410095324, 'n_estimators': 423, 'min_child_weight': 2, 'gamma': 0.19502995109249155, 'subsample': 0.7301240816679015, 'colsample_bytree': 0.7242037656205571, 'reg_alpha': 0.17789828157663362, 'reg_lambda': 0.3759020611077548, 'random_state': 547}. Best is trial 0 with value: 7.938099741209807.\u001b[0m\n"
     ]
    },
    {
     "name": "stderr",
     "output_type": "stream",
     "text": [
      "\u001b[32m[I 2022-10-18 11:18:53,970]\u001b[0m Trial 19 finished with value: 33.898718563082205 and parameters: {'max_depth': 7, 'learning_rate': 0.462429101543111, 'n_estimators': 998, 'min_child_weight': 5, 'gamma': 0.4119796018875464, 'subsample': 0.23203321250271192, 'colsample_bytree': 0.866467300631279, 'reg_alpha': 0.6749307744519907, 'reg_lambda': 0.11585900527881238, 'random_state': 194}. Best is trial 0 with value: 7.938099741209807.\u001b[0m\n",
      "\u001b[32m[I 2022-10-18 11:19:05,872]\u001b[0m Trial 20 finished with value: 11.609653253180658 and parameters: {'max_depth': 2, 'learning_rate': 0.7647111503383774, 'n_estimators': 814, 'min_child_weight': 3, 'gamma': 0.7631907152137491, 'subsample': 0.422036133381956, 'colsample_bytree': 0.5100537541227164, 'reg_alpha': 0.4286563445640358, 'reg_lambda': 0.5741503794132414, 'random_state': 991}. Best is trial 0 with value: 7.938099741209807.\u001b[0m\n",
      "\u001b[32m[I 2022-10-18 11:19:25,650]\u001b[0m Trial 21 finished with value: 8.160274246504676 and parameters: {'max_depth': 7, 'learning_rate': 0.010343499659745794, 'n_estimators': 903, 'min_child_weight': 5, 'gamma': 0.30393297707412903, 'subsample': 0.09917743260142581, 'colsample_bytree': 0.43827410479100104, 'reg_alpha': 0.253150336492893, 'reg_lambda': 0.819073057526214, 'random_state': 365}. Best is trial 0 with value: 7.938099741209807.\u001b[0m\n",
      "\u001b[32m[I 2022-10-18 11:19:36,580]\u001b[0m Trial 22 finished with value: 16.173014664649173 and parameters: {'max_depth': 7, 'learning_rate': 0.10719035487314743, 'n_estimators': 694, 'min_child_weight': 7, 'gamma': 0.28178444707024697, 'subsample': 0.03889640017665593, 'colsample_bytree': 0.28381949464912065, 'reg_alpha': 0.11893296384314339, 'reg_lambda': 0.7840397239020627, 'random_state': 415}. Best is trial 0 with value: 7.938099741209807.\u001b[0m\n",
      "\u001b[32m[I 2022-10-18 11:19:59,357]\u001b[0m Trial 23 finished with value: 15.710030181323658 and parameters: {'max_depth': 9, 'learning_rate': 0.22583426366481676, 'n_estimators': 855, 'min_child_weight': 8, 'gamma': 0.4538514878486777, 'subsample': 0.14579813187562096, 'colsample_bytree': 0.4399119308517557, 'reg_alpha': 0.2659062181459639, 'reg_lambda': 0.7589850710823332, 'random_state': 347}. Best is trial 0 with value: 7.938099741209807.\u001b[0m\n",
      "\u001b[32m[I 2022-10-18 11:20:31,986]\u001b[0m Trial 24 finished with value: 8.031162289989856 and parameters: {'max_depth': 8, 'learning_rate': 0.01358771184400083, 'n_estimators': 908, 'min_child_weight': 5, 'gamma': 0.5711112546182014, 'subsample': 0.28104104338387625, 'colsample_bytree': 0.6202406403651831, 'reg_alpha': 0.12854592383080937, 'reg_lambda': 0.523597471283482, 'random_state': 571}. Best is trial 0 with value: 7.938099741209807.\u001b[0m\n",
      "\u001b[32m[I 2022-10-18 11:20:56,201]\u001b[0m Trial 25 finished with value: 9.6572997103048 and parameters: {'max_depth': 7, 'learning_rate': 0.17456968048144134, 'n_estimators': 771, 'min_child_weight': 5, 'gamma': 0.5722958064517677, 'subsample': 0.27471594451167247, 'colsample_bytree': 0.6065243271212258, 'reg_alpha': 0.08459155561973197, 'reg_lambda': 0.8614271882576491, 'random_state': 723}. Best is trial 0 with value: 7.938099741209807.\u001b[0m\n",
      "\u001b[32m[I 2022-10-18 11:21:27,184]\u001b[0m Trial 26 finished with value: 9.653940115563287 and parameters: {'max_depth': 8, 'learning_rate': 0.29090715863088934, 'n_estimators': 695, 'min_child_weight': 6, 'gamma': 0.6926439986977162, 'subsample': 0.47294779487443206, 'colsample_bytree': 0.675937660858895, 'reg_alpha': 0.361013051321613, 'reg_lambda': 0.5639153624336164, 'random_state': 531}. Best is trial 0 with value: 7.938099741209807.\u001b[0m\n",
      "\u001b[32m[I 2022-10-18 11:21:42,923]\u001b[0m Trial 27 finished with value: 8.55838614653935 and parameters: {'max_depth': 6, 'learning_rate': 0.09049152252377322, 'n_estimators': 589, 'min_child_weight': 5, 'gamma': 0.5652875680647211, 'subsample': 0.31283592561342377, 'colsample_bytree': 0.5595602690595044, 'reg_alpha': 0.08962676150926827, 'reg_lambda': 0.31579647476479933, 'random_state': 582}. Best is trial 0 with value: 7.938099741209807.\u001b[0m\n",
      "\u001b[32m[I 2022-10-18 11:22:05,643]\u001b[0m Trial 28 finished with value: 9.05990301762935 and parameters: {'max_depth': 8, 'learning_rate': 0.07739905450654905, 'n_estimators': 899, 'min_child_weight': 4, 'gamma': 0.8631688016108681, 'subsample': 0.18933444260620524, 'colsample_bytree': 0.43019800367923755, 'reg_alpha': 0.26472529138484063, 'reg_lambda': 0.1882612403920575, 'random_state': 751}. Best is trial 0 with value: 7.938099741209807.\u001b[0m\n",
      "\u001b[32m[I 2022-10-18 11:22:13,717]\u001b[0m Trial 29 finished with value: 11.214952498540255 and parameters: {'max_depth': 4, 'learning_rate': 0.4191794708142333, 'n_estimators': 505, 'min_child_weight': 6, 'gamma': 0.2120444134607689, 'subsample': 0.34217720238523314, 'colsample_bytree': 0.32072231488807124, 'reg_alpha': 0.463423769514209, 'reg_lambda': 0.6955881087963157, 'random_state': 692}. Best is trial 0 with value: 7.938099741209807.\u001b[0m\n",
      "\u001b[32m[I 2022-10-18 11:22:59,050]\u001b[0m Trial 30 finished with value: 10.005777838648646 and parameters: {'max_depth': 9, 'learning_rate': 0.1833900101115371, 'n_estimators': 819, 'min_child_weight': 8, 'gamma': 0.5650333308655995, 'subsample': 0.26817622580583683, 'colsample_bytree': 0.9420396684143039, 'reg_alpha': 0.14718739689937393, 'reg_lambda': 0.5778592093564136, 'random_state': 890}. Best is trial 0 with value: 7.938099741209807.\u001b[0m\n",
      "\u001b[32m[I 2022-10-18 11:23:31,556]\u001b[0m Trial 31 finished with value: 9.504105269785814 and parameters: {'max_depth': 10, 'learning_rate': 0.05247344821584243, 'n_estimators': 928, 'min_child_weight': 3, 'gamma': 0.41687614629190417, 'subsample': 0.09305693269054119, 'colsample_bytree': 0.5355053653718612, 'reg_alpha': 0.23491383280815503, 'reg_lambda': 0.473765284768625, 'random_state': 455}. Best is trial 0 with value: 7.938099741209807.\u001b[0m\n",
      "\u001b[32m[I 2022-10-18 11:24:00,608]\u001b[0m Trial 32 finished with value: 8.13495925234713 and parameters: {'max_depth': 9, 'learning_rate': 0.01453291005010021, 'n_estimators': 975, 'min_child_weight': 2, 'gamma': 0.38437147220624623, 'subsample': 0.15854200092690432, 'colsample_bytree': 0.45965916197973467, 'reg_alpha': 0.06499458544759298, 'reg_lambda': 0.3452634879842788, 'random_state': 369}. Best is trial 0 with value: 7.938099741209807.\u001b[0m\n",
      "\u001b[32m[I 2022-10-18 11:24:23,602]\u001b[0m Trial 33 finished with value: 7.9855299683263565 and parameters: {'max_depth': 7, 'learning_rate': 0.01639352102068114, 'n_estimators': 857, 'min_child_weight': 7, 'gamma': 0.3673991687217682, 'subsample': 0.38950462563426264, 'colsample_bytree': 0.4132590695465167, 'reg_alpha': 0.023158165715061373, 'reg_lambda': 0.336963920120404, 'random_state': 308}. Best is trial 0 with value: 7.938099741209807.\u001b[0m\n",
      "\u001b[32m[I 2022-10-18 11:24:43,567]\u001b[0m Trial 34 finished with value: 8.629492401615916 and parameters: {'max_depth': 9, 'learning_rate': 0.11841711774080566, 'n_estimators': 742, 'min_child_weight': 9, 'gamma': 0.3699809051792701, 'subsample': 0.4158154312571742, 'colsample_bytree': 0.2991349612523, 'reg_alpha': 0.019200238680143866, 'reg_lambda': 0.3545410893583075, 'random_state': 294}. Best is trial 0 with value: 7.938099741209807.\u001b[0m\n",
      "\u001b[32m[I 2022-10-18 11:25:17,980]\u001b[0m Trial 35 finished with value: 15.297359382074747 and parameters: {'max_depth': 8, 'learning_rate': 0.5375950739262395, 'n_estimators': 855, 'min_child_weight': 7, 'gamma': 0.5401614367494795, 'subsample': 0.37971038025750475, 'colsample_bytree': 0.6536856834730159, 'reg_alpha': 0.06732306045548128, 'reg_lambda': 0.2531610929649559, 'random_state': 602}. Best is trial 0 with value: 7.938099741209807.\u001b[0m\n",
      "\u001b[32m[I 2022-10-18 11:25:39,414]\u001b[0m Trial 36 finished with value: 9.912788010552537 and parameters: {'max_depth': 6, 'learning_rate': 0.30985472792386726, 'n_estimators': 942, 'min_child_weight': 9, 'gamma': 0.37471380590256326, 'subsample': 0.4917228658829348, 'colsample_bytree': 0.3646475296934355, 'reg_alpha': 0.03791712436507114, 'reg_lambda': 0.17032545791147696, 'random_state': 495}. Best is trial 0 with value: 7.938099741209807.\u001b[0m\n",
      "\u001b[32m[I 2022-10-18 11:25:42,455]\u001b[0m Trial 37 finished with value: 8.119137949308517 and parameters: {'max_depth': 9, 'learning_rate': 0.06653633922134417, 'n_estimators': 110, 'min_child_weight': 10, 'gamma': 0.6768871531684562, 'subsample': 0.562728213567361, 'colsample_bytree': 0.23757703568474392, 'reg_alpha': 0.716873262372735, 'reg_lambda': 0.3266053503231255, 'random_state': 107}. Best is trial 0 with value: 7.938099741209807.\u001b[0m\n"
     ]
    },
    {
     "name": "stderr",
     "output_type": "stream",
     "text": [
      "\u001b[32m[I 2022-10-18 11:25:47,776]\u001b[0m Trial 38 finished with value: 8.123805188034337 and parameters: {'max_depth': 8, 'learning_rate': 0.06689202654468124, 'n_estimators': 230, 'min_child_weight': 10, 'gamma': 0.6614783014876277, 'subsample': 0.5810163090903219, 'colsample_bytree': 0.22511135719191697, 'reg_alpha': 0.7291441789351244, 'reg_lambda': 0.4503795289904036, 'random_state': 58}. Best is trial 0 with value: 7.938099741209807.\u001b[0m\n",
      "\u001b[32m[I 2022-10-18 11:25:50,393]\u001b[0m Trial 39 finished with value: 8.325568732023555 and parameters: {'max_depth': 6, 'learning_rate': 0.16727335126774812, 'n_estimators': 149, 'min_child_weight': 10, 'gamma': 0.732517978730217, 'subsample': 0.7477680560726249, 'colsample_bytree': 0.18863538702881857, 'reg_alpha': 0.9392014979385213, 'reg_lambda': 0.13448749185671027, 'random_state': 140}. Best is trial 0 with value: 7.938099741209807.\u001b[0m\n",
      "\u001b[32m[I 2022-10-18 11:25:51,887]\u001b[0m Trial 40 finished with value: 8.478683214740586 and parameters: {'max_depth': 5, 'learning_rate': 0.20156534710466956, 'n_estimators': 96, 'min_child_weight': 6, 'gamma': 0.8016286182030308, 'subsample': 0.47923259151570763, 'colsample_bytree': 0.12471446719596291, 'reg_alpha': 0.7993100602162978, 'reg_lambda': 0.25015910916750045, 'random_state': 115}. Best is trial 0 with value: 7.938099741209807.\u001b[0m\n",
      "\u001b[32m[I 2022-10-18 11:25:59,072]\u001b[0m Trial 41 finished with value: 8.133602767158571 and parameters: {'max_depth': 8, 'learning_rate': 0.07457747423866046, 'n_estimators': 306, 'min_child_weight': 10, 'gamma': 0.6800904749354039, 'subsample': 0.5835263661309474, 'colsample_bytree': 0.23875589349125914, 'reg_alpha': 0.689612025660415, 'reg_lambda': 0.4437157895662308, 'random_state': 21}. Best is trial 0 with value: 7.938099741209807.\u001b[0m\n",
      "\u001b[32m[I 2022-10-18 11:25:59,969]\u001b[0m Trial 42 finished with value: 8.041680065273198 and parameters: {'max_depth': 7, 'learning_rate': 0.0584233522694148, 'n_estimators': 58, 'min_child_weight': 9, 'gamma': 0.5997524116352464, 'subsample': 0.6953936450725833, 'colsample_bytree': 0.029915700178704485, 'reg_alpha': 0.7602658201029571, 'reg_lambda': 0.402869961595588, 'random_state': 61}. Best is trial 0 with value: 7.938099741209807.\u001b[0m\n",
      "\u001b[32m[I 2022-10-18 11:26:01,095]\u001b[0m Trial 43 finished with value: 8.248215683231853 and parameters: {'max_depth': 7, 'learning_rate': 0.12126289344124541, 'n_estimators': 72, 'min_child_weight': 8, 'gamma': 0.6045601333662363, 'subsample': 0.6584544427425949, 'colsample_bytree': 0.04743673991090056, 'reg_alpha': 0.5624894404573745, 'reg_lambda': 0.31550338516110893, 'random_state': 104}. Best is trial 0 with value: 7.938099741209807.\u001b[0m\n",
      "\u001b[32m[I 2022-10-18 11:26:02,400]\u001b[0m Trial 44 finished with value: 8.519532843143624 and parameters: {'max_depth': 1, 'learning_rate': 0.052455465528146054, 'n_estimators': 116, 'min_child_weight': 9, 'gamma': 0.4809025807930159, 'subsample': 0.8649014423010908, 'colsample_bytree': 0.1164720765795101, 'reg_alpha': 0.8904321953502752, 'reg_lambda': 0.3920645415461059, 'random_state': 203}. Best is trial 0 with value: 7.938099741209807.\u001b[0m\n",
      "\u001b[32m[I 2022-10-18 11:26:16,664]\u001b[0m Trial 45 finished with value: 8.854867964823598 and parameters: {'max_depth': 7, 'learning_rate': 0.26870268728386554, 'n_estimators': 438, 'min_child_weight': 9, 'gamma': 0.6055656819270299, 'subsample': 0.7097211563538333, 'colsample_bytree': 0.5581287251223885, 'reg_alpha': 0.6388006146404881, 'reg_lambda': 0.5461726543649761, 'random_state': 65}. Best is trial 0 with value: 7.938099741209807.\u001b[0m\n",
      "\u001b[32m[I 2022-10-18 11:26:19,602]\u001b[0m Trial 46 finished with value: 8.632161984836294 and parameters: {'max_depth': 8, 'learning_rate': 0.1495617676661463, 'n_estimators': 141, 'min_child_weight': 8, 'gamma': 0.5258098417175638, 'subsample': 0.45684801132352587, 'colsample_bytree': 0.16389950714994694, 'reg_alpha': 0.7809793780382525, 'reg_lambda': 0.2426513943834055, 'random_state': 259}. Best is trial 0 with value: 7.938099741209807.\u001b[0m\n",
      "\u001b[32m[I 2022-10-18 11:26:25,151]\u001b[0m Trial 47 finished with value: 8.171556272802134 and parameters: {'max_depth': 5, 'learning_rate': 0.04477983618658481, 'n_estimators': 179, 'min_child_weight': 10, 'gamma': 0.8254403462486032, 'subsample': 0.3468224871797324, 'colsample_bytree': 0.7364072175290264, 'reg_alpha': 0.9086678704419844, 'reg_lambda': 0.6396669265339162, 'random_state': 158}. Best is trial 0 with value: 7.938099741209807.\u001b[0m\n",
      "\u001b[32m[I 2022-10-18 11:26:29,752]\u001b[0m Trial 48 finished with value: 8.16749272249286 and parameters: {'max_depth': 10, 'learning_rate': 0.10331341204452779, 'n_estimators': 284, 'min_child_weight': 7, 'gamma': 0.7308761044261315, 'subsample': 0.8114415500305134, 'colsample_bytree': 0.07138794122830926, 'reg_alpha': 0.5072048187624326, 'reg_lambda': 0.30918347781584726, 'random_state': 656}. Best is trial 0 with value: 7.938099741209807.\u001b[0m\n",
      "\u001b[32m[I 2022-10-18 11:26:46,538]\u001b[0m Trial 49 finished with value: 13.188729388751078 and parameters: {'max_depth': 9, 'learning_rate': 0.6785198127898552, 'n_estimators': 639, 'min_child_weight': 6, 'gamma': 0.6179734293077165, 'subsample': 0.5410038722425426, 'colsample_bytree': 0.25373821958859305, 'reg_alpha': 0.7415583184330509, 'reg_lambda': 0.526494951447009, 'random_state': 72}. Best is trial 0 with value: 7.938099741209807.\u001b[0m\n",
      "\u001b[32m[I 2022-10-18 11:26:48,285]\u001b[0m Trial 50 finished with value: 9.478888268454353 and parameters: {'max_depth': 6, 'learning_rate': 0.3503808258962957, 'n_estimators': 61, 'min_child_weight': 9, 'gamma': 0.4580151631479885, 'subsample': 0.3905759712315738, 'colsample_bytree': 0.4167924117264926, 'reg_alpha': 0.8525756952039195, 'reg_lambda': 0.40178459563821417, 'random_state': 832}. Best is trial 0 with value: 7.938099741209807.\u001b[0m\n",
      "\u001b[32m[I 2022-10-18 11:26:51,260]\u001b[0m Trial 51 finished with value: 8.121004850182041 and parameters: {'max_depth': 8, 'learning_rate': 0.05729803087089565, 'n_estimators': 230, 'min_child_weight': 10, 'gamma': 0.6384677175130148, 'subsample': 0.6283985529977089, 'colsample_bytree': 0.01692596273112857, 'reg_alpha': 0.7132093453349191, 'reg_lambda': 0.4585018056826329, 'random_state': 56}. Best is trial 0 with value: 7.938099741209807.\u001b[0m\n",
      "\u001b[32m[I 2022-10-18 11:26:53,738]\u001b[0m Trial 52 finished with value: 8.13846437758733 and parameters: {'max_depth': 8, 'learning_rate': 0.04112478890080826, 'n_estimators': 194, 'min_child_weight': 10, 'gamma': 0.684669271651838, 'subsample': 0.6268794009414651, 'colsample_bytree': 0.013541800493470785, 'reg_alpha': 0.6291141266172359, 'reg_lambda': 0.34348631266894325, 'random_state': 9}. Best is trial 0 with value: 7.938099741209807.\u001b[0m\n",
      "\u001b[32m[I 2022-10-18 11:26:55,645]\u001b[0m Trial 53 finished with value: 8.302635171005011 and parameters: {'max_depth': 9, 'learning_rate': 0.13864853054837495, 'n_estimators': 110, 'min_child_weight': 10, 'gamma': 0.5822428951546772, 'subsample': 0.6823473460342473, 'colsample_bytree': 0.06994541685759245, 'reg_alpha': 0.7386225237910896, 'reg_lambda': 0.4693745506561755, 'random_state': 186}. Best is trial 0 with value: 7.938099741209807.\u001b[0m\n",
      "\u001b[32m[I 2022-10-18 11:27:01,642]\u001b[0m Trial 54 finished with value: 8.568228823828704 and parameters: {'max_depth': 7, 'learning_rate': 0.21396338734490167, 'n_estimators': 373, 'min_child_weight': 9, 'gamma': 0.5064002645964127, 'subsample': 0.7642248235642625, 'colsample_bytree': 0.1467818650820435, 'reg_alpha': 0.8344841397540056, 'reg_lambda': 0.4127303194277699, 'random_state': 244}. Best is trial 0 with value: 7.938099741209807.\u001b[0m\n",
      "\u001b[32m[I 2022-10-18 11:27:14,344]\u001b[0m Trial 55 finished with value: 7.851610139175669 and parameters: {'max_depth': 8, 'learning_rate': 0.014094890050628773, 'n_estimators': 275, 'min_child_weight': 7, 'gamma': 0.07400800312750394, 'subsample': 0.5766115451519854, 'colsample_bytree': 0.6492516781228614, 'reg_alpha': 0.5888625842033232, 'reg_lambda': 0.601438983152494, 'random_state': 296}. Best is trial 55 with value: 7.851610139175669.\u001b[0m\n",
      "\u001b[32m[I 2022-10-18 11:27:29,792]\u001b[0m Trial 56 finished with value: 7.854613816804409 and parameters: {'max_depth': 10, 'learning_rate': 0.01001714150559934, 'n_estimators': 290, 'min_child_weight': 7, 'gamma': 0.012171581342187487, 'subsample': 0.5067712662792093, 'colsample_bytree': 0.6196101945010732, 'reg_alpha': 0.5581466765036535, 'reg_lambda': 0.7137714617650744, 'random_state': 301}. Best is trial 55 with value: 7.851610139175669.\u001b[0m\n"
     ]
    },
    {
     "name": "stderr",
     "output_type": "stream",
     "text": [
      "\u001b[32m[I 2022-10-18 11:27:46,400]\u001b[0m Trial 57 finished with value: 7.878467202028775 and parameters: {'max_depth': 10, 'learning_rate': 0.011494741369394244, 'n_estimators': 360, 'min_child_weight': 7, 'gamma': 0.04082952417735919, 'subsample': 0.30648408812264505, 'colsample_bytree': 0.64442689719172, 'reg_alpha': 0.5808069129761744, 'reg_lambda': 0.6150262433409881, 'random_state': 420}. Best is trial 55 with value: 7.851610139175669.\u001b[0m\n",
      "\u001b[32m[I 2022-10-18 11:28:06,728]\u001b[0m Trial 58 finished with value: 7.920663229195188 and parameters: {'max_depth': 10, 'learning_rate': 0.012697891970720838, 'n_estimators': 373, 'min_child_weight': 7, 'gamma': 0.032998329407936546, 'subsample': 0.2937742860896217, 'colsample_bytree': 0.7952699775294012, 'reg_alpha': 0.5120481661034986, 'reg_lambda': 0.6786421775097196, 'random_state': 291}. Best is trial 55 with value: 7.851610139175669.\u001b[0m\n",
      "\u001b[32m[I 2022-10-18 11:28:26,885]\u001b[0m Trial 59 finished with value: 3.3015683796938244e+16 and parameters: {'max_depth': 10, 'learning_rate': 0.9681915714529061, 'n_estimators': 400, 'min_child_weight': 7, 'gamma': 0.047724673311906426, 'subsample': 0.23656187208462423, 'colsample_bytree': 0.8186133863399729, 'reg_alpha': 0.5804567242405434, 'reg_lambda': 0.6918389514053435, 'random_state': 306}. Best is trial 55 with value: 7.851610139175669.\u001b[0m\n",
      "\u001b[32m[I 2022-10-18 11:28:43,551]\u001b[0m Trial 60 finished with value: 20.12471632232102 and parameters: {'max_depth': 10, 'learning_rate': 0.7812301780517135, 'n_estimators': 284, 'min_child_weight': 7, 'gamma': 0.11205724385712419, 'subsample': 0.45295633172429683, 'colsample_bytree': 0.7280428605836818, 'reg_alpha': 0.5031832525093441, 'reg_lambda': 0.6113637969929295, 'random_state': 433}. Best is trial 55 with value: 7.851610139175669.\u001b[0m\n",
      "\u001b[32m[I 2022-10-18 11:28:59,868]\u001b[0m Trial 61 finished with value: 8.077579553637962 and parameters: {'max_depth': 10, 'learning_rate': 0.025911451358881985, 'n_estimators': 345, 'min_child_weight': 7, 'gamma': 0.0887389391264532, 'subsample': 0.3183219462756671, 'colsample_bytree': 0.640375560087919, 'reg_alpha': 0.5119401744121277, 'reg_lambda': 0.7400452341005127, 'random_state': 318}. Best is trial 55 with value: 7.851610139175669.\u001b[0m\n",
      "\u001b[32m[I 2022-10-18 11:29:24,328]\u001b[0m Trial 62 finished with value: 7.928956206576484 and parameters: {'max_depth': 10, 'learning_rate': 0.017241211740497107, 'n_estimators': 477, 'min_child_weight': 6, 'gamma': 0.011332559725499177, 'subsample': 0.5212493801226167, 'colsample_bytree': 0.5803039576274299, 'reg_alpha': 0.43561805581229796, 'reg_lambda': 0.6021926635736222, 'random_state': 386}. Best is trial 55 with value: 7.851610139175669.\u001b[0m\n",
      "\u001b[32m[I 2022-10-18 11:29:47,616]\u001b[0m Trial 63 finished with value: 8.322723106129763 and parameters: {'max_depth': 10, 'learning_rate': 0.0954123941783979, 'n_estimators': 470, 'min_child_weight': 6, 'gamma': 0.0143633293460779, 'subsample': 0.5062441354283873, 'colsample_bytree': 0.580815616641699, 'reg_alpha': 0.42168851765210413, 'reg_lambda': 0.7196389456350168, 'random_state': 271}. Best is trial 55 with value: 7.851610139175669.\u001b[0m\n",
      "\u001b[32m[I 2022-10-18 11:30:16,632]\u001b[0m Trial 64 finished with value: 7.945748466469481 and parameters: {'max_depth': 10, 'learning_rate': 0.013451359219362491, 'n_estimators': 558, 'min_child_weight': 8, 'gamma': 0.1457320150392391, 'subsample': 0.3865735690385041, 'colsample_bytree': 0.677576645274308, 'reg_alpha': 0.6133488840403868, 'reg_lambda': 0.6093819876972714, 'random_state': 384}. Best is trial 55 with value: 7.851610139175669.\u001b[0m\n",
      "\u001b[32m[I 2022-10-18 11:30:45,746]\u001b[0m Trial 65 finished with value: 8.373837736936231 and parameters: {'max_depth': 10, 'learning_rate': 0.0913983825649023, 'n_estimators': 532, 'min_child_weight': 8, 'gamma': 0.15332114866069999, 'subsample': 0.4307559048986784, 'colsample_bytree': 0.6960208047069728, 'reg_alpha': 0.6119739206528284, 'reg_lambda': 0.6618909995534076, 'random_state': 392}. Best is trial 55 with value: 7.851610139175669.\u001b[0m\n",
      "\u001b[32m[I 2022-10-18 11:31:06,412]\u001b[0m Trial 66 finished with value: 8.558306397904408 and parameters: {'max_depth': 10, 'learning_rate': 0.1422925619468966, 'n_estimators': 327, 'min_child_weight': 6, 'gamma': 0.013758917394934941, 'subsample': 0.5340858931242661, 'colsample_bytree': 0.7737230388472498, 'reg_alpha': 0.5297109531098331, 'reg_lambda': 0.6175759636480022, 'random_state': 347}. Best is trial 55 with value: 7.851610139175669.\u001b[0m\n",
      "\u001b[32m[I 2022-10-18 11:31:18,497]\u001b[0m Trial 67 finished with value: 7.98718201508748 and parameters: {'max_depth': 9, 'learning_rate': 0.013269368482584986, 'n_estimators': 372, 'min_child_weight': 8, 'gamma': 0.05827873086792396, 'subsample': 0.2435651686600928, 'colsample_bytree': 0.48644028960919994, 'reg_alpha': 0.6527123578822935, 'reg_lambda': 0.6181578513219973, 'random_state': 432}. Best is trial 55 with value: 7.851610139175669.\u001b[0m\n",
      "\u001b[32m[I 2022-10-18 11:31:45,171]\u001b[0m Trial 68 finished with value: 8.7657723549279 and parameters: {'max_depth': 10, 'learning_rate': 0.11384489329126148, 'n_estimators': 435, 'min_child_weight': 6, 'gamma': 0.16111874211457083, 'subsample': 0.32168804520457844, 'colsample_bytree': 0.893832089051793, 'reg_alpha': 0.46605967424826905, 'reg_lambda': 0.8212794090418593, 'random_state': 493}. Best is trial 55 with value: 7.851610139175669.\u001b[0m\n",
      "\u001b[32m[I 2022-10-18 11:32:10,701]\u001b[0m Trial 69 finished with value: 8.138321557018472 and parameters: {'max_depth': 9, 'learning_rate': 0.04796380125907089, 'n_estimators': 554, 'min_child_weight': 8, 'gamma': 0.08800822144867106, 'subsample': 0.3659401552201457, 'colsample_bytree': 0.66895514318906, 'reg_alpha': 0.6015256920980355, 'reg_lambda': 0.5946385069645129, 'random_state': 457}. Best is trial 55 with value: 7.851610139175669.\u001b[0m\n",
      "\u001b[32m[I 2022-10-18 11:32:36,453]\u001b[0m Trial 70 finished with value: 8.24701676736094 and parameters: {'max_depth': 10, 'learning_rate': 0.08905113771169362, 'n_estimators': 485, 'min_child_weight': 7, 'gamma': 0.0353164070532309, 'subsample': 0.5111229056561192, 'colsample_bytree': 0.6329066369478492, 'reg_alpha': 0.553430845741347, 'reg_lambda': 0.6624860511779068, 'random_state': 405}. Best is trial 55 with value: 7.851610139175669.\u001b[0m\n",
      "\u001b[32m[I 2022-10-18 11:32:48,935]\u001b[0m Trial 71 finished with value: 7.845934655914427 and parameters: {'max_depth': 9, 'learning_rate': 0.010472875031390591, 'n_estimators': 289, 'min_child_weight': 7, 'gamma': 0.08634732891519253, 'subsample': 0.40772700534804174, 'colsample_bytree': 0.5838862741305885, 'reg_alpha': 0.40126539662045313, 'reg_lambda': 0.7004706221873198, 'random_state': 331}. Best is trial 71 with value: 7.845934655914427.\u001b[0m\n",
      "\u001b[32m[I 2022-10-18 11:33:00,667]\u001b[0m Trial 72 finished with value: 8.062120753190554 and parameters: {'max_depth': 9, 'learning_rate': 0.030775983186345356, 'n_estimators': 266, 'min_child_weight': 7, 'gamma': 0.09072976971365673, 'subsample': 0.41045650373881704, 'colsample_bytree': 0.5896092184728526, 'reg_alpha': 0.3994734522813467, 'reg_lambda': 0.7131374655728114, 'random_state': 338}. Best is trial 71 with value: 7.845934655914427.\u001b[0m\n",
      "\u001b[32m[I 2022-10-18 11:33:17,299]\u001b[0m Trial 73 finished with value: 8.04596133288928 and parameters: {'max_depth': 10, 'learning_rate': 0.041528293271944405, 'n_estimators': 347, 'min_child_weight': 6, 'gamma': 0.1489668376633078, 'subsample': 0.44429161087372915, 'colsample_bytree': 0.548161001867459, 'reg_alpha': 0.346551602209832, 'reg_lambda': 0.783184383005541, 'random_state': 330}. Best is trial 71 with value: 7.845934655914427.\u001b[0m\n",
      "\u001b[32m[I 2022-10-18 11:33:34,730]\u001b[0m Trial 74 finished with value: 7.943399735496951 and parameters: {'max_depth': 10, 'learning_rate': 0.012295366655617191, 'n_estimators': 403, 'min_child_weight': 8, 'gamma': 0.21018720046015296, 'subsample': 0.2835353207587855, 'colsample_bytree': 0.6109506871357276, 'reg_alpha': 0.4761505122318601, 'reg_lambda': 0.6547998182162462, 'random_state': 216}. Best is trial 71 with value: 7.845934655914427.\u001b[0m\n",
      "\u001b[32m[I 2022-10-18 11:33:48,840]\u001b[0m Trial 75 finished with value: 8.530752196348564 and parameters: {'max_depth': 9, 'learning_rate': 0.07481189626442004, 'n_estimators': 403, 'min_child_weight': 7, 'gamma': 0.2576412959490193, 'subsample': 0.28748346599667185, 'colsample_bytree': 0.5064588263399725, 'reg_alpha': 0.4810255718490274, 'reg_lambda': 0.6696145409480732, 'random_state': 215}. Best is trial 71 with value: 7.845934655914427.\u001b[0m\n"
     ]
    },
    {
     "name": "stderr",
     "output_type": "stream",
     "text": [
      "\u001b[32m[I 2022-10-18 11:34:01,297]\u001b[0m Trial 76 finished with value: 10.106240961429839 and parameters: {'max_depth': 10, 'learning_rate': 0.15796192881639579, 'n_estimators': 311, 'min_child_weight': 6, 'gamma': 0.19852147397664568, 'subsample': 0.20835609004789118, 'colsample_bytree': 0.604802947018276, 'reg_alpha': 0.30991942108679854, 'reg_lambda': 0.7476997504786214, 'random_state': 279}. Best is trial 71 with value: 7.845934655914427.\u001b[0m\n",
      "\u001b[32m[I 2022-10-18 11:34:14,937]\u001b[0m Trial 77 finished with value: 8.685231701924367 and parameters: {'max_depth': 9, 'learning_rate': 0.1879100911371729, 'n_estimators': 262, 'min_child_weight': 5, 'gamma': 0.07043133015036848, 'subsample': 0.5988286077140954, 'colsample_bytree': 0.7004156249977397, 'reg_alpha': 0.38537685785789727, 'reg_lambda': 0.5527904369607696, 'random_state': 921}. Best is trial 71 with value: 7.845934655914427.\u001b[0m\n",
      "\u001b[32m[I 2022-10-18 11:34:33,687]\u001b[0m Trial 78 finished with value: 8.961023353312045 and parameters: {'max_depth': 9, 'learning_rate': 0.12490421577764495, 'n_estimators': 376, 'min_child_weight': 7, 'gamma': 0.11581132473553976, 'subsample': 0.3291260545212267, 'colsample_bytree': 0.7705603025246333, 'reg_alpha': 0.5366247393587276, 'reg_lambda': 0.028193541818428036, 'random_state': 246}. Best is trial 71 with value: 7.845934655914427.\u001b[0m\n",
      "\u001b[32m[I 2022-10-18 11:34:52,252]\u001b[0m Trial 79 finished with value: 8.58901151420264 and parameters: {'max_depth': 10, 'learning_rate': 0.0838684120033184, 'n_estimators': 455, 'min_child_weight': 6, 'gamma': 0.02427784533041738, 'subsample': 0.2634377455508605, 'colsample_bytree': 0.573692789942477, 'reg_alpha': 0.4407078751543688, 'reg_lambda': 0.8544157897996681, 'random_state': 364}. Best is trial 71 with value: 7.845934655914427.\u001b[0m\n",
      "\u001b[32m[I 2022-10-18 11:35:03,416]\u001b[0m Trial 80 finished with value: 8.075316861258445 and parameters: {'max_depth': 10, 'learning_rate': 0.04086455712813309, 'n_estimators': 202, 'min_child_weight': 7, 'gamma': 0.054457315646632865, 'subsample': 0.4890710052096828, 'colsample_bytree': 0.6196637986312329, 'reg_alpha': 0.487555088154483, 'reg_lambda': 0.7041886981017981, 'random_state': 168}. Best is trial 71 with value: 7.845934655914427.\u001b[0m\n",
      "\u001b[32m[I 2022-10-18 11:35:18,205]\u001b[0m Trial 81 finished with value: 7.982683879255397 and parameters: {'max_depth': 10, 'learning_rate': 0.017755102897795295, 'n_estimators': 328, 'min_child_weight': 8, 'gamma': 0.13322234774545588, 'subsample': 0.35897635693467156, 'colsample_bytree': 0.5313642243003481, 'reg_alpha': 0.5847521794534629, 'reg_lambda': 0.5861315789258231, 'random_state': 382}. Best is trial 71 with value: 7.845934655914427.\u001b[0m\n",
      "\u001b[32m[I 2022-10-18 11:35:40,527]\u001b[0m Trial 82 finished with value: 7.898762533467127 and parameters: {'max_depth': 10, 'learning_rate': 0.011716063503445158, 'n_estimators': 417, 'min_child_weight': 8, 'gamma': 0.17174075589748167, 'subsample': 0.3944538341647777, 'colsample_bytree': 0.639929379608419, 'reg_alpha': 0.4484458426258721, 'reg_lambda': 0.6252573163842193, 'random_state': 427}. Best is trial 71 with value: 7.845934655914427.\u001b[0m\n",
      "\u001b[32m[I 2022-10-18 11:36:00,332]\u001b[0m Trial 83 finished with value: 8.350682172353602 and parameters: {'max_depth': 9, 'learning_rate': 0.06568444746312906, 'n_estimators': 415, 'min_child_weight': 7, 'gamma': 0.23696435869910085, 'subsample': 0.2935791945799689, 'colsample_bytree': 0.6590927430160861, 'reg_alpha': 0.4421385158154981, 'reg_lambda': 0.6759520518842239, 'random_state': 226}. Best is trial 71 with value: 7.845934655914427.\u001b[0m\n",
      "\u001b[32m[I 2022-10-18 11:36:22,431]\u001b[0m Trial 84 finished with value: 8.081807849430552 and parameters: {'max_depth': 10, 'learning_rate': 0.0402916893070929, 'n_estimators': 387, 'min_child_weight': 8, 'gamma': 0.17207613712304046, 'subsample': 0.41992670598601456, 'colsample_bytree': 0.7108111615236676, 'reg_alpha': 0.40706426086152686, 'reg_lambda': 0.6386435541612411, 'random_state': 425}. Best is trial 71 with value: 7.845934655914427.\u001b[0m\n",
      "\u001b[32m[I 2022-10-18 11:36:42,324]\u001b[0m Trial 85 finished with value: 7.833382769365742 and parameters: {'max_depth': 9, 'learning_rate': 0.010610985178111257, 'n_estimators': 355, 'min_child_weight': 7, 'gamma': 0.10759332579231426, 'subsample': 0.4639301301141698, 'colsample_bytree': 0.7516435422282681, 'reg_alpha': 0.5654516311512616, 'reg_lambda': 0.5233345375057032, 'random_state': 524}. Best is trial 85 with value: 7.833382769365742.\u001b[0m\n",
      "\u001b[32m[I 2022-10-18 11:37:03,787]\u001b[0m Trial 86 finished with value: 8.23998728790768 and parameters: {'max_depth': 9, 'learning_rate': 0.0946356936716714, 'n_estimators': 353, 'min_child_weight': 6, 'gamma': 0.07661828661059722, 'subsample': 0.5494850449724327, 'colsample_bytree': 0.8208025332488679, 'reg_alpha': 0.6654226109688456, 'reg_lambda': 0.5096397952948867, 'random_state': 526}. Best is trial 85 with value: 7.833382769365742.\u001b[0m\n",
      "\u001b[32m[I 2022-10-18 11:37:20,906]\u001b[0m Trial 87 finished with value: 8.237917537956855 and parameters: {'max_depth': 9, 'learning_rate': 0.06980078036418703, 'n_estimators': 305, 'min_child_weight': 7, 'gamma': 0.10029806243906238, 'subsample': 0.4689042301267684, 'colsample_bytree': 0.7531796692953407, 'reg_alpha': 0.5764282751933291, 'reg_lambda': 0.5332366528522676, 'random_state': 454}. Best is trial 85 with value: 7.833382769365742.\u001b[0m\n",
      "\u001b[32m[I 2022-10-18 11:37:36,235]\u001b[0m Trial 88 finished with value: 8.485624167765767 and parameters: {'max_depth': 9, 'learning_rate': 0.12498892482180222, 'n_estimators': 258, 'min_child_weight': 7, 'gamma': 0.03557189932963202, 'subsample': 0.5216425917780765, 'colsample_bytree': 0.8020713477925726, 'reg_alpha': 0.5519364717558247, 'reg_lambda': 0.5643734848107405, 'random_state': 794}. Best is trial 85 with value: 7.833382769365742.\u001b[0m\n",
      "\u001b[32m[I 2022-10-18 11:38:06,816]\u001b[0m Trial 89 finished with value: 8.060702360424377 and parameters: {'max_depth': 9, 'learning_rate': 0.03194476959872528, 'n_estimators': 500, 'min_child_weight': 5, 'gamma': 0.12290607867585684, 'subsample': 0.40646908481380273, 'colsample_bytree': 0.8897554152729898, 'reg_alpha': 0.5188178134817929, 'reg_lambda': 0.48450869806717956, 'random_state': 565}. Best is trial 85 with value: 7.833382769365742.\u001b[0m\n",
      "\u001b[32m[I 2022-10-18 11:38:17,810]\u001b[0m Trial 90 finished with value: 8.138683499575354 and parameters: {'max_depth': 4, 'learning_rate': 0.0596055677768557, 'n_estimators': 444, 'min_child_weight': 6, 'gamma': 0.06603988822081541, 'subsample': 0.44032076476552573, 'colsample_bytree': 0.6404471694767727, 'reg_alpha': 0.4444144566733086, 'reg_lambda': 0.7258318848870796, 'random_state': 475}. Best is trial 85 with value: 7.833382769365742.\u001b[0m\n",
      "\u001b[32m[I 2022-10-18 11:38:39,802]\u001b[0m Trial 91 finished with value: 7.968553288171681 and parameters: {'max_depth': 10, 'learning_rate': 0.01759884889810578, 'n_estimators': 468, 'min_child_weight': 7, 'gamma': 0.010817768175167818, 'subsample': 0.35130400923847627, 'colsample_bytree': 0.6066700523043332, 'reg_alpha': 0.5390014184413612, 'reg_lambda': 0.6467644310511355, 'random_state': 289}. Best is trial 85 with value: 7.833382769365742.\u001b[0m\n",
      "\u001b[32m[I 2022-10-18 11:39:00,054]\u001b[0m Trial 92 finished with value: 7.789057683704832 and parameters: {'max_depth': 10, 'learning_rate': 0.011938901196820607, 'n_estimators': 291, 'min_child_weight': 8, 'gamma': 0.1742812850916403, 'subsample': 0.5691026102586522, 'colsample_bytree': 0.8531643967447635, 'reg_alpha': 0.4724367703165903, 'reg_lambda': 0.7725122886280066, 'random_state': 348}. Best is trial 92 with value: 7.789057683704832.\u001b[0m\n",
      "\u001b[32m[I 2022-10-18 11:39:21,574]\u001b[0m Trial 93 finished with value: 11.821943452480076 and parameters: {'max_depth': 10, 'learning_rate': 0.5974957792080011, 'n_estimators': 289, 'min_child_weight': 8, 'gamma': 0.17412515975852638, 'subsample': 0.5617001217748127, 'colsample_bytree': 0.959852127626067, 'reg_alpha': 0.37017560842162933, 'reg_lambda': 0.7683615980011638, 'random_state': 354}. Best is trial 92 with value: 7.789057683704832.\u001b[0m\n",
      "\u001b[32m[I 2022-10-18 11:39:44,753]\u001b[0m Trial 94 finished with value: 7.9846186550767575 and parameters: {'max_depth': 9, 'learning_rate': 0.04419065166311461, 'n_estimators': 365, 'min_child_weight': 7, 'gamma': 0.052542367254383125, 'subsample': 0.5869184304922661, 'colsample_bytree': 0.8493483925408669, 'reg_alpha': 0.4948830478586176, 'reg_lambda': 0.6864611841038295, 'random_state': 312}. Best is trial 92 with value: 7.789057683704832.\u001b[0m\n"
     ]
    },
    {
     "name": "stderr",
     "output_type": "stream",
     "text": [
      "\u001b[32m[I 2022-10-18 11:39:56,734]\u001b[0m Trial 95 finished with value: 8.190758527584546 and parameters: {'max_depth': 10, 'learning_rate': 0.07839926844608688, 'n_estimators': 238, 'min_child_weight': 8, 'gamma': 0.11153034392838804, 'subsample': 0.49236203301178094, 'colsample_bytree': 0.5636973851256997, 'reg_alpha': 0.2060799518010527, 'reg_lambda': 0.8242924772452809, 'random_state': 407}. Best is trial 92 with value: 7.789057683704832.\u001b[0m\n",
      "\u001b[32m[I 2022-10-18 11:40:17,308]\u001b[0m Trial 96 finished with value: 8.268164255507319 and parameters: {'max_depth': 10, 'learning_rate': 0.10916470755066335, 'n_estimators': 325, 'min_child_weight': 7, 'gamma': 0.0408024892375404, 'subsample': 0.6425317508174647, 'colsample_bytree': 0.7994342670328294, 'reg_alpha': 0.4577718711588507, 'reg_lambda': 0.7984085369736394, 'random_state': 329}. Best is trial 92 with value: 7.789057683704832.\u001b[0m\n",
      "\u001b[32m[I 2022-10-18 11:40:34,201]\u001b[0m Trial 97 finished with value: 7.996607050442463 and parameters: {'max_depth': 8, 'learning_rate': 0.03386946509391265, 'n_estimators': 299, 'min_child_weight': 6, 'gamma': 0.31362988300757677, 'subsample': 0.5270926142607261, 'colsample_bytree': 0.8555683705640318, 'reg_alpha': 0.6911280969530315, 'reg_lambda': 0.5861451739202765, 'random_state': 271}. Best is trial 92 with value: 7.789057683704832.\u001b[0m\n",
      "\u001b[32m[I 2022-10-18 11:40:45,205]\u001b[0m Trial 98 finished with value: 11.138834748433514 and parameters: {'max_depth': 10, 'learning_rate': 0.4592713508908872, 'n_estimators': 253, 'min_child_weight': 7, 'gamma': 0.18537989316557488, 'subsample': 0.47110440591030045, 'colsample_bytree': 0.49107977830383787, 'reg_alpha': 0.6297250564117954, 'reg_lambda': 0.6235406721558697, 'random_state': 612}. Best is trial 92 with value: 7.789057683704832.\u001b[0m\n",
      "\u001b[32m[I 2022-10-18 11:40:56,777]\u001b[0m Trial 99 finished with value: 8.072522310999798 and parameters: {'max_depth': 9, 'learning_rate': 0.05840310793214261, 'n_estimators': 209, 'min_child_weight': 6, 'gamma': 0.13111608044559414, 'subsample': 0.6088662867861638, 'colsample_bytree': 0.7218026735301564, 'reg_alpha': 0.5682664946323238, 'reg_lambda': 0.9190238524777166, 'random_state': 364}. Best is trial 92 with value: 7.789057683704832.\u001b[0m\n"
     ]
    }
   ],
   "source": [
    "study_2.optimize(objective, n_trials=100)"
   ]
  },
  {
   "cell_type": "code",
   "execution_count": 27,
   "id": "07425f53",
   "metadata": {},
   "outputs": [
    {
     "name": "stdout",
     "output_type": "stream",
     "text": [
      "Best parameters {'max_depth': 10, 'learning_rate': 0.011938901196820607, 'n_estimators': 291, 'min_child_weight': 8, 'gamma': 0.1742812850916403, 'subsample': 0.5691026102586522, 'colsample_bytree': 0.8531643967447635, 'reg_alpha': 0.4724367703165903, 'reg_lambda': 0.7725122886280066, 'random_state': 348}\n",
      "Best value 7.789057683704832\n"
     ]
    }
   ],
   "source": [
    "print('Best parameters', study_2.best_params)\n",
    "print('Best value', study_2.best_value)"
   ]
  },
  {
   "cell_type": "code",
   "execution_count": null,
   "id": "fa8fce19",
   "metadata": {},
   "outputs": [],
   "source": []
  },
  {
   "cell_type": "code",
   "execution_count": null,
   "id": "6745d56b",
   "metadata": {},
   "outputs": [],
   "source": []
  }
 ],
 "metadata": {
  "kernelspec": {
   "display_name": "Python 3 (ipykernel)",
   "language": "python",
   "name": "python3"
  },
  "language_info": {
   "codemirror_mode": {
    "name": "ipython",
    "version": 3
   },
   "file_extension": ".py",
   "mimetype": "text/x-python",
   "name": "python",
   "nbconvert_exporter": "python",
   "pygments_lexer": "ipython3",
   "version": "3.9.13"
  }
 },
 "nbformat": 4,
 "nbformat_minor": 5
}
